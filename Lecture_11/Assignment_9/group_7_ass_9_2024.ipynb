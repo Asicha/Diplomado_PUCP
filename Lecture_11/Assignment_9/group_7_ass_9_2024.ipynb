{
 "cells": [
  {
   "cell_type": "markdown",
   "id": "bf2522a2",
   "metadata": {},
   "source": [
    "# Assessment 9"
   ]
  },
  {
   "cell_type": "markdown",
   "id": "a0e48a8a",
   "metadata": {},
   "source": [
    "### 1. Import the data located at this link. It has information on Tech Institutes' total vacancies, total applicants, total entrants, and total enrolled. Moreover, the institutes are geolocated."
   ]
  },
  {
   "cell_type": "markdown",
   "id": "96278fc9",
   "metadata": {},
   "source": [
    "#### a) Installing and importing necessary packages"
   ]
  },
  {
   "cell_type": "code",
   "execution_count": 1,
   "id": "848f3ab9",
   "metadata": {},
   "outputs": [],
   "source": [
    "#!pip install folium\n",
    "#!pip install branca"
   ]
  },
  {
   "cell_type": "code",
   "execution_count": null,
   "id": "20ac2dff",
   "metadata": {},
   "outputs": [],
   "source": [
    "import pandas as pd\n",
    "import numpy as np\n",
    "import matplotlib.pyplot as plt \n",
    "import chardet\n",
    "\n",
    "import folium as fm\n",
    "from folium import Marker, GeoJson\n",
    "from folium.plugins import MarkerCluster, HeatMap, StripePattern\n",
    "\n",
    "import geopandas as gpd\n",
    "from geopandas import GeoSeries\n",
    "from shapely.geometry import Point, LineString\n",
    "\n",
    "import branca as br "
   ]
  },
  {
   "cell_type": "markdown",
   "id": "010853c4",
   "metadata": {},
   "source": [
    "#### b) Import the data of information on Tech Institutes' total vacancies, total applicants, total entrants, and total enrolled"
   ]
  },
  {
   "cell_type": "code",
   "execution_count": null,
   "id": "63609d82",
   "metadata": {},
   "outputs": [],
   "source": [
    "# Keeps the necesary columns and helps choosing the type of each column\n",
    "dtypes = {'cod_mod': str, 'ltimoden_metaatencion':int, 'cuentadeid_postulante_procesoadm': int, 'sumaden_flagingresante': int, 'sumaden_flagmatriculado': int, 'nlat_ie': float, 'nlong_ie': float} \n",
    "# We import the database that is formatted in CSV\n",
    "df = pd.read_csv(r'../../_data/institutos1.csv', dtype = dtypes)\n",
    "#We keep the columns that we are going to use\n",
    "df = df[['cod_mod', 'ltimoden_metaatencion', 'cuentadeid_postulante_procesoadm', 'sumaden_flagingresante', 'sumaden_flagmatriculado', 'nlat_ie', 'nlong_ie']]\n",
    "df"
   ]
  },
  {
   "cell_type": "code",
   "execution_count": null,
   "id": "ee3814e9",
   "metadata": {},
   "outputs": [],
   "source": [
    "# Define a dictionary of labels for the variables\n",
    "variable_labels = {'cod_mod': 'institute code', 'ltimoden_metaatencion': 'total vacancies', 'cuentadeid_postulante_procesoadm': 'total applicants', 'sumaden_flagingresante': 'total entrants', 'sumaden_flagmatriculado': 'total enrolled', 'nlat_ie': 'latitude', 'nlong_ie': 'longitude'}\n",
    "\n",
    "# Assign labels to the variables in the DataFrame\n",
    "for variable, label in variable_labels.items():\n",
    "    df[variable].name = label\n",
    "    \n",
    "df.head(5)"
   ]
  },
  {
   "cell_type": "markdown",
   "id": "2a49bd1b",
   "metadata": {},
   "source": [
    "#### c) Data frame that contain institutes dataset with shapefiles"
   ]
  },
  {
   "cell_type": "code",
   "execution_count": null,
   "id": "b057883c",
   "metadata": {},
   "outputs": [],
   "source": [
    "#We create the geometry column, considering that the coordinates are in the WGS 84 system (World Geodetic System 1984)\n",
    "df_geo = gpd.GeoDataFrame( df, crs = \"EPSG:4326\", \n",
    "                              geometry = gpd.points_from_xy( df.nlong_ie, \n",
    "                                                                df.nlat_ie))\n",
    "# Import shapefile\n",
    "df_shp = gpd.read_file(r'../../_data/INEI_LIMITE_DEPARTAMENTAL/INEI_LIMITE_DEPARTAMENTAL.shp')\n",
    "\n",
    "#Use the overlay function to intersect institutes dataset with shapefiles\n",
    "intersct_df_geo = gpd.overlay( df_geo, df_shp, how = 'intersection')\n",
    "\n",
    "intersct_df_geo = intersct_df_geo[['cod_mod', 'ltimoden_metaatencion', 'cuentadeid_postulante_procesoadm', 'sumaden_flagingresante', 'sumaden_flagmatriculado', 'nlat_ie', 'nlong_ie', 'CCDD', 'geometry']]\n",
    "intersct_df_geo"
   ]
  },
  {
   "cell_type": "code",
   "execution_count": null,
   "id": "b6816b73",
   "metadata": {},
   "outputs": [],
   "source": [
    "df_sum = ['ltimoden_metaatencion', 'cuentadeid_postulante_procesoadm', 'sumaden_flagingresante', 'sumaden_flagmatriculado']\n",
    "\n",
    "total_dep = intersct_df_geo.groupby(['CCDD'], as_index = False)[ df_sum ].sum()\n",
    "\n",
    "total_dep_shp = df_shp.merge(total_dep, on = 'CCDD')\n",
    "total_dep_shp.head(2)"
   ]
  },
  {
   "cell_type": "code",
   "execution_count": null,
   "id": "bd175a81",
   "metadata": {},
   "outputs": [],
   "source": [
    "# We generate a Choropleth map of the total institutes' vacancies by the department\n",
    "zoom_start = 5\n",
    "lat_hos = df[\"nlat_ie\"].mean()\n",
    "long_hos = df[\"nlong_ie\"].mean()\n",
    "centroid_lat = lat_hos\n",
    "centroid_lon = long_hos\n",
    "\n",
    "m = fm.Map([centroid_lat, centroid_lon], tiles='cartodbpositron', zoom_start=zoom_start)\n",
    "\n",
    "fm.Choropleth(geo_data=df_shp,\n",
    "            data=total_dep_shp,\n",
    "            columns=[\"CCDD\", \"ltimoden_metaatencion\"],\n",
    "            key_on=\"feature.properties.CCDD\",\n",
    "            fill_color=\"YlOrRd\",\n",
    "            fill_opacity=0.8,\n",
    "            line_opacity=0.2,\n",
    "            legend_name=\"Total Vacancies\",\n",
    "            smooth_factor=0,\n",
    "            Highlight= True,\n",
    "            line_color = \"#0000\",\n",
    "            overlay=True,\n",
    "            nan_fill_color = \"White\"  # fill white missing values \n",
    "            ).add_to(m)\n",
    "\n",
    "fm.LayerControl().add_to(m)\n",
    "\n",
    "m"
   ]
  },
  {
   "cell_type": "markdown",
   "id": "0a0c4b05",
   "metadata": {},
   "source": [
    "### 2. Make an interactive map of markes using visual_html function and show total vacancies, applicants, entrants, and enrolled information in a table popup. Additionally, use \"university\" as icon."
   ]
  },
  {
   "cell_type": "code",
   "execution_count": null,
   "id": "6dbab787",
   "metadata": {},
   "outputs": [],
   "source": [
    "# Checking unique values in \"cod_mod\" shapefile column\n",
    "print(\"The column 'Cod_mod' has only unique values:\", intersct_df_geo['cod_mod'].is_unique)\n",
    "print(\"The number of unique values is:\" , intersct_df_geo['cod_mod'].unique().size)"
   ]
  },
  {
   "cell_type": "code",
   "execution_count": null,
   "id": "e108aca4",
   "metadata": {},
   "outputs": [],
   "source": [
    "# Function create table by each institute using html. This funtion will be aplly by each row\n",
    "# Almost alway each code on html requires a beginnig <p> and ending </p> \n",
    "\n",
    "def visual_html(i):\n",
    " \n",
    "    # information by institute \n",
    "\n",
    "    \n",
    "    Vacancies = intersct_df_geo['ltimoden_metaatencion'].iloc[i]                             \n",
    "    Applicants = intersct_df_geo['cuentadeid_postulante_procesoadm'].iloc[i]                           \n",
    "    Entrants = intersct_df_geo['sumaden_flagingresante'].iloc[i]  \n",
    "    Enrolled = intersct_df_geo['sumaden_flagmatriculado'].iloc[i]  \n",
    "    \n",
    "    # Color by each column of table \n",
    "    \n",
    "    left_col_colour = \"#118000\"\n",
    "    right_col_colour = \"#006f80\"\n",
    "    \n",
    "    html = \"\"\"<!DOCTYPE html>\n",
    "<html>\n",
    "\n",
    "<head>\n",
    "    <p> Institute Data </p>\n",
    "\n",
    "</head>\n",
    "    <table style=\"height: 126px; width: 200px;\">  <!-- Comment: Create a teable. -->\n",
    "\n",
    "<!-- Add information  -->\n",
    "\n",
    "<tbody> \n",
    "<tr>\n",
    "\n",
    "<!-- Add color by column -->\n",
    "\n",
    "<td style=\"background-color: \"\"\"+ left_col_colour +\"\"\";\"><span style=\"color: #ffffff;\">Total Vacancies</span></td>\n",
    "<td style=\"width: 70px;background-color: \"\"\"+ right_col_colour +\"\"\";\">{}</td>\"\"\".format(Vacancies) + \"\"\"\n",
    "</tr>\n",
    "<tr>\n",
    "<td style=\"background-color: \"\"\"+ left_col_colour +\"\"\";\"><span style=\"color: #ffffff;\">Total Applicants</span></td>\n",
    "<td style=\"width: 70px;background-color: \"\"\"+ right_col_colour +\"\"\";\">{}</td>\"\"\".format(Applicants) + \"\"\"\n",
    "</tr>\n",
    "<tr>\n",
    "<td style=\"background-color: \"\"\"+ left_col_colour +\"\"\";\"><span style=\"color: #ffffff;\">Total Entrants</span></td>\n",
    "<td style=\"width: 70px;background-color: \"\"\"+ right_col_colour +\"\"\";\">{}</td>\"\"\".format(Entrants) + \"\"\"\n",
    "</tr>\n",
    "<tr>\n",
    "<td style=\"background-color: \"\"\"+ left_col_colour +\"\"\";\"><span style=\"color: #ffffff;\">Total Enrolled</span></td>\n",
    "<td style=\"width: 70px;background-color: \"\"\"+ right_col_colour +\"\"\";\">{}</td>\"\"\".format(Enrolled) + \"\"\"\n",
    "</tr>\n",
    "\n",
    "</tbody>\n",
    "</table>\n",
    "</html>\n",
    "\"\"\"\n",
    "    return html"
   ]
  },
  {
   "cell_type": "code",
   "execution_count": null,
   "id": "601d6981",
   "metadata": {},
   "outputs": [],
   "source": [
    "ubication = intersct_df_geo['nlat_ie'].mean(), intersct_df_geo['nlong_ie'].mean()  # Average point\n",
    "\n",
    "inst = fm.Map(location = ubication, zoom_start=7)\n",
    "\n",
    "for i in range(0,len(intersct_df_geo)):\n",
    "    html = visual_html(i)\n",
    "\n",
    "    iframe = br.element.IFrame(html=html,width=350,height=300)\n",
    "    popup = fm.Popup(iframe, parse_html=True)\n",
    "    \n",
    "    fm.Marker([intersct_df_geo['nlat_ie'].iloc[i], intersct_df_geo['nlong_ie'].iloc[i]],\n",
    "                  popup=popup, icon=fm.Icon(color= 'blue', icon='university', prefix=\"fa\")).add_to(inst)\n",
    "\n",
    "inst.save(\"Institute_data.html\")\n",
    "inst"
   ]
  },
  {
   "cell_type": "code",
   "execution_count": null,
   "id": "417bdb9e",
   "metadata": {},
   "outputs": [],
   "source": []
  }
 ],
 "metadata": {
  "kernelspec": {
   "display_name": "Python 3 (ipykernel)",
   "language": "python",
   "name": "python3"
  },
  "language_info": {
   "codemirror_mode": {
    "name": "ipython",
    "version": 3
   },
   "file_extension": ".py",
   "mimetype": "text/x-python",
   "name": "python",
   "nbconvert_exporter": "python",
   "pygments_lexer": "ipython3",
   "version": "3.11.5"
  }
 },
 "nbformat": 4,
 "nbformat_minor": 5
}
