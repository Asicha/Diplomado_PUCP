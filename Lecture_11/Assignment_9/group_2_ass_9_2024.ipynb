{
 "cells": [
  {
   "cell_type": "markdown",
   "id": "f00fe4a3",
   "metadata": {},
   "source": [
    "# Assignment 9"
   ]
  },
  {
   "cell_type": "code",
   "execution_count": null,
   "id": "898469e9",
   "metadata": {},
   "outputs": [],
   "source": [
    "from IPython.display import display, HTML\n",
    "\n",
    "display(HTML(data=\"\"\"\n",
    "<style>\n",
    "    div#notebook-container    { width: 95%; }\n",
    "    div#menubar-container     { width: 65%; }\n",
    "    div#maintoolbar-container { width: 99%; }a\n",
    "</style>\n",
    "\"\"\"))"
   ]
  },
  {
   "cell_type": "markdown",
   "id": "db9a9603",
   "metadata": {},
   "source": [
    "#### Installation and import of libraries"
   ]
  },
  {
   "cell_type": "code",
   "execution_count": null,
   "id": "49510a30",
   "metadata": {},
   "outputs": [],
   "source": [
    "import pandas as pd\n",
    "#from pandas import Series, DataFrame\n",
    "import numpy as np\n",
    "import matplotlib.pyplot as plt \n",
    "import chardet\n",
    "\n",
    "import folium as fm\n",
    "from folium import Marker, GeoJson\n",
    "from folium.plugins import MarkerCluster, HeatMap, StripePattern\n",
    "\n",
    "import geopandas as gpd\n",
    "from geopandas import GeoSeries\n",
    "from shapely.geometry import Point, LineString\n",
    "\n",
    "\n",
    "import branca as br "
   ]
  },
  {
   "cell_type": "markdown",
   "id": "9675ad71",
   "metadata": {},
   "source": [
    "### Part 1"
   ]
  },
  {
   "cell_type": "markdown",
   "id": "c383d3fe",
   "metadata": {},
   "source": [
    "#### 1.1 Import the data located at this link. It has information on Tech Institutes' total vacancies, total applicants, total entrants, and total enrolled. Moreover, the institutes are geolocated."
   ]
  },
  {
   "cell_type": "code",
   "execution_count": null,
   "id": "0d1a9eb1",
   "metadata": {},
   "outputs": [],
   "source": [
    "# Getting the character encoding\n",
    "# Open the CSV file in binary read mode and read its content as bytes\n",
    "base = open(r'../../_data/institutos1.csv', 'rb').read()\n",
    "\n",
    "# Detect the character encoding of the CSV file using the chardet library\n",
    "det = chardet.detect(base)\n",
    "\n",
    "# Extract the detected character encoding from the detection result\n",
    "charenc = det['encoding']\n",
    "charenc"
   ]
  },
  {
   "cell_type": "code",
   "execution_count": null,
   "id": "25131536",
   "metadata": {},
   "outputs": [],
   "source": [
    "# Read the CSV file 'institutos1.csv' into a Pandas DataFrame using the detected character encoding\n",
    "institutes = pd.read_csv(r'../../_data/institutos1.csv', encoding = charenc)\n",
    "institutes"
   ]
  },
  {
   "cell_type": "code",
   "execution_count": null,
   "id": "c98b4470",
   "metadata": {},
   "outputs": [],
   "source": [
    "# Select specific columns from the 'institutes' DataFrame and store them in a new DataFrame named 'institutes_data'\n",
    "institutes_data = institutes[['cod_mod', 'ltimoden_metaatencion', 'cuentadeid_postulante_procesoadm', 'sumaden_flagingresante', 'sumaden_flagmatriculado', 'nlat_ie', 'nlong_ie']]"
   ]
  },
  {
   "cell_type": "code",
   "execution_count": null,
   "id": "862c1543",
   "metadata": {},
   "outputs": [],
   "source": [
    "# Rename the selected columns in the 'institutes_data' DataFrame to more descriptive names\n",
    "institutes_data = institutes.rename({'cod_mod':'institute_code','ltimoden_metaatencion':'total_vacancies', 'cuentadeid_postulante_procesoadm':'total_applicants', 'sumaden_flagingresante':'total_entrants', 'sumaden_flagmatriculado':'total_enrolled', 'nlat_ie':'latitude', 'nlong_ie':'longitude'}, axis =1 )\n",
    "institutes_data"
   ]
  },
  {
   "cell_type": "code",
   "execution_count": null,
   "id": "180938f5",
   "metadata": {},
   "outputs": [],
   "source": [
    "list(institutes_data.columns)"
   ]
  },
  {
   "cell_type": "markdown",
   "id": "58479c89",
   "metadata": {},
   "source": [
    "#### 1.2 Use this shapefile to generate a Choropleth map of the total institutes' vacancies by the department. Use the overlay function (link and JN) to intersect institutes dataset with shapefiles. You can follow this code:"
   ]
  },
  {
   "cell_type": "code",
   "execution_count": null,
   "id": "08e6af38",
   "metadata": {},
   "outputs": [],
   "source": [
    "# Create a GeoDataFrame named 'institutes_geo'\n",
    "# This GeoDataFrame will contain both the tabular data and geometric data\n",
    "institutes_geo = gpd.GeoDataFrame(institutes_data,crs=\"EPSG:4326\",\n",
    "                          geometry=gpd.points_from_xy(institutes_data.longitude, institutes_data.latitude))"
   ]
  },
  {
   "cell_type": "code",
   "execution_count": null,
   "id": "b27dcfeb",
   "metadata": {},
   "outputs": [],
   "source": [
    "# Read the shapefile containing departmental boundaries into a GeoDataFrame\n",
    "shapefile_dpto = gpd.read_file(r'../../_data/INEI_LIMITE_DEPARTAMENTAL/INEI_LIMITE_DEPARTAMENTAL.shp')\n",
    "shapefile_dpto"
   ]
  },
  {
   "cell_type": "code",
   "execution_count": null,
   "id": "f4e8daf6",
   "metadata": {},
   "outputs": [],
   "source": [
    "# Perform spatial overlay operation to find the intersection of geometries\n",
    "intersct_inst_geo = gpd.overlay(institutes_geo, shapefile_dpto, how=\"intersection\")"
   ]
  },
  {
   "cell_type": "code",
   "execution_count": null,
   "id": "1ee3fffb",
   "metadata": {},
   "outputs": [],
   "source": [
    "# Variables: 'total_vacancies', 'total_applicants', 'total_entrants', 'total_enrolled'\n",
    "vars_sum = ['total_vacancies', 'total_applicants', 'total_entrants','total_enrolled']"
   ]
  },
  {
   "cell_type": "code",
   "execution_count": null,
   "id": "d86a15c2",
   "metadata": {},
   "outputs": [],
   "source": [
    "# Group the intersected GeoDataFrame by 'CCDD' (presumably a departmental code)\n",
    "# and sum the variables in 'vars_sum' for each department\n",
    "total_dpto = intersct_inst_geo.groupby(['CCDD'], as_index=False)[vars_sum].sum()\n",
    "\n",
    "# Merge the aggregated data ('total_dpto') back into the departmental shapefile ('shapefile_dpto')\n",
    "# using 'CCDD' as the common key\n",
    "total_dpto_shp = shapefile_dpto.merge(total_dpto,on='CCDD')\n",
    "total_dpto_shp"
   ]
  },
  {
   "cell_type": "code",
   "execution_count": null,
   "id": "44519241",
   "metadata": {},
   "outputs": [],
   "source": [
    "list(total_dpto_shp.columns)"
   ]
  },
  {
   "cell_type": "code",
   "execution_count": null,
   "id": "0702e8a6",
   "metadata": {},
   "outputs": [],
   "source": [
    "# Specify the latitude and longitude of the Government Palace\n",
    "lat_palacio = -12.0757538\n",
    "long_palacio = -76.9863174\n",
    "\n",
    "# Set the initial zoom level for the map\n",
    "zoom_start = 5\n",
    "\n",
    "# Create a Folium Map centered on the Government Palace location\n",
    "map_graph = fm.Map(location = [lat_palacio, long_palacio], tiles='cartodbpositron', zoom_start = zoom_start)\n",
    "\n",
    "# Add a choropleth layer to the map\n",
    "fm.Choropleth(\n",
    "    geo_data=shapefile_dpto,\n",
    "    data=total_dpto_shp,\n",
    "    columns=['CCDD', 'total_vacancies'],\n",
    "    key_on=\"feature.properties.CCDD\",\n",
    "    fill_color=\"YlOrRd\",\n",
    "    fill_opacity=0.8,\n",
    "    line_opacity=0.2,\n",
    "    legend_name=\"TOTAL INSTITUTE VACANCIES BY DEPARTMENT\",\n",
    "    smooth_factor=0,\n",
    "    Highlight= True,\n",
    "    line_color = \"#0000\",\n",
    "    overlay=True,\n",
    "    nan_fill_color = \"White\"  \n",
    "    ).add_to(map_graph)\n",
    "\n",
    "# Display the map\n",
    "map_graph"
   ]
  },
  {
   "cell_type": "markdown",
   "id": "21a3f9c2",
   "metadata": {},
   "source": [
    "### Part 2"
   ]
  },
  {
   "cell_type": "markdown",
   "id": "3082f0bf",
   "metadata": {},
   "source": [
    "#### 2.1 Make an interactive map of markes using visual_html function and show total vacancies, applicants, entrants, and enrolled information in a table popup. "
   ]
  },
  {
   "cell_type": "code",
   "execution_count": null,
   "id": "8bbb86de",
   "metadata": {},
   "outputs": [],
   "source": [
    "def visual_html(i):   \n",
    "    # Extract data for the i-th row from the GeoDataFrame intersct_inst_geo\n",
    "    Total_Vacancies = intersct_inst_geo['total_vacancies'].iloc[i]                             \n",
    "    Total_Applicants = intersct_inst_geo['total_applicants'].iloc[i]                           \n",
    "    Total_Entrants = intersct_inst_geo['total_entrants'].iloc[i]  \n",
    "    Total_Enrolled = intersct_inst_geo['total_enrolled'].iloc[i]  \n",
    "    \n",
    "    # Define colors for left and right columns\n",
    "    left_col_colour = \"#76db37\" \n",
    "    right_col_colour = \"#5ad2d6\"\n",
    "    \n",
    "    # Create HTML string for the table\n",
    "    html = \"\"\"<!DOCTYPE html>\n",
    "<html>\n",
    "\n",
    "<head>\n",
    "    <p> Institutes Data by Department </p>\n",
    "</head>\n",
    "\n",
    "<table style=\"height: 126px; width: 350px;\">  <!-- Comment: Create a table. -->\n",
    "    <tbody> \n",
    "\"\"\"\n",
    "\n",
    "    # Define row labels and corresponding data\n",
    "    row_labels = [\"Total Vacancies\", \"Total Applicants\", \"Total Entrants\", \"Total Enrolled\"]\n",
    "    data_values = [Total_Vacancies, Total_Applicants, Total_Entrants, Total_Enrolled]\n",
    "\n",
    "    # Loop through each row label and data value to generate table rows\n",
    "    for label, value in zip(row_labels, data_values):\n",
    "        # Alternate colors for left and right columns\n",
    "        if label == \"Total Vacancies\" or label == \"Total Entrants\":\n",
    "            left_col_colour = \"#76db37\"\n",
    "            right_col_colour = \"#5ad2d6\"\n",
    "        else:\n",
    "            left_col_colour = \"#76db37\"\n",
    "            right_col_colour = \"#5ad2d6\"\n",
    "        \n",
    "        # Add row to HTML string\n",
    "        html += f\"\"\"\n",
    "        <tr>\n",
    "            <td style=\"background-color: {left_col_colour};\"><span style=\"color: #1a1719;\">{label}</span></td>\n",
    "            <td style=\"width: 150px;background-color: {right_col_colour};\">{value}</td>\n",
    "        </tr>\n",
    "        \"\"\"\n",
    "\n",
    "    # Close the HTML table and document tags\n",
    "    html += \"\"\"\n",
    "    </tbody>\n",
    "</table>\n",
    "</html>\n",
    "\"\"\"\n",
    "    return html"
   ]
  },
  {
   "cell_type": "markdown",
   "id": "151cc36a",
   "metadata": {},
   "source": [
    "#### 2.2 Additionally, use \"university\" as icon."
   ]
  },
  {
   "cell_type": "code",
   "execution_count": null,
   "id": "41f9abe8",
   "metadata": {},
   "outputs": [],
   "source": [
    "lat_palacio = -12.0757538\n",
    "long_palacio = -76.9863174\n",
    "zoom_start = 5\n",
    "\n",
    "map_graph2 = fm.Map(location = [lat_palacio, long_palacio], tiles='cartodbpositron', zoom_start = zoom_start)\n",
    "\n",
    "# Iterate over each institute in the intersct_inst_geo GeoDataFrame\n",
    "for i in range(0,len(intersct_inst_geo)):\n",
    "    # Generate HTML for the current marker using the visual_html() function\n",
    "    html = visual_html(i)\n",
    "    \n",
    "    # Create an IFrame with the generated HTML\n",
    "    iframe = br.element.IFrame(html=html,width=350,height=300)\n",
    "    popup = fm.Popup(iframe, parse_html=True)\n",
    "    \n",
    "    # Add a marker to the map at the location of the current institute,\n",
    "    # with the popup containing detailed information\n",
    "    fm.Marker([intersct_inst_geo['latitude'].iloc[i],intersct_inst_geo['longitude'].iloc[i]],\n",
    "                  popup=popup, icon=fm.Icon(color= 'blue', icon='university', prefix=\"fa\")).add_to(map_graph2)\n",
    "\n",
    "map_graph2"
   ]
  }
 ],
 "metadata": {
  "kernelspec": {
   "display_name": "Python 3 (ipykernel)",
   "language": "python",
   "name": "python3"
  },
  "language_info": {
   "codemirror_mode": {
    "name": "ipython",
    "version": 3
   },
   "file_extension": ".py",
   "mimetype": "text/x-python",
   "name": "python",
   "nbconvert_exporter": "python",
   "pygments_lexer": "ipython3",
   "version": "3.9.7"
  }
 },
 "nbformat": 4,
 "nbformat_minor": 5
}
