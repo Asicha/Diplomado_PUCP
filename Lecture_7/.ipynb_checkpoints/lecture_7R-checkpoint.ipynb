{
 "cells": [
  {
   "cell_type": "code",
   "execution_count": 1,
   "metadata": {},
   "outputs": [
    {
     "data": {
      "text/html": [
       "\n",
       "<style>\n",
       "    div#notebook-container    { width: 95%; }\n",
       "    div#menubar-container     { width: 65%; }\n",
       "    div#maintoolbar-container { width: 99%; }a\n",
       "</style>\n"
      ],
      "text/plain": [
       "<IPython.core.display.HTML object>"
      ]
     },
     "metadata": {},
     "output_type": "display_data"
    }
   ],
   "source": [
    "from IPython.display import display, HTML\n",
    "\n",
    "display(HTML(data=\"\"\"\n",
    "<style>\n",
    "    div#notebook-container    { width: 95%; }\n",
    "    div#menubar-container     { width: 65%; }\n",
    "    div#maintoolbar-container { width: 99%; }a\n",
    "</style>\n",
    "\"\"\"))"
   ]
  },
  {
   "cell_type": "markdown",
   "metadata": {},
   "source": [
    "# 7. Web Scraping"
   ]
  },
  {
   "cell_type": "markdown",
   "metadata": {},
   "source": [
    "Web  scraping  is  the  practice  of  gathering  data  through  any  means  otherthan a program interacting with an API (or, obviously, through a human using a webbrowser).  This  is  most  commonly  accomplished  by  writing  an  automated  programthat queries a web server, requests data (usually in the form of the HTML and otherfiles  that  comprise  web  pages),  and  then  parses  that  data  to  extract  needed  information."
   ]
  },
  {
   "cell_type": "markdown",
   "metadata": {},
   "source": [
    "# 7.1 Selenium\n",
    "Selenium automates browsers. That's it! <br>\n",
    "Selenium is a Python library and tool used for automating web browsers to do a number of tasks. One of such is web-scraping to extract useful data and information that may be otherwise unavailable. <br>\n",
    "**For this course, we use Chrome.**"
   ]
  },
  {
   "cell_type": "markdown",
   "metadata": {},
   "source": [
    "## 7.1 Installing Libraries\n",
    "We need to install these two libraries"
   ]
  },
  {
   "cell_type": "code",
   "execution_count": 26,
   "metadata": {
    "scrolled": false
   },
   "outputs": [
    {
     "name": "stdout",
     "output_type": "stream",
     "text": [
      "Requirement already satisfied: selenium in c:\\anaconda\\lib\\site-packages (4.16.0)\n",
      "Requirement already satisfied: urllib3[socks]<3,>=1.26 in c:\\anaconda\\lib\\site-packages (from selenium) (1.26.16)\n",
      "Requirement already satisfied: trio~=0.17 in c:\\anaconda\\lib\\site-packages (from selenium) (0.24.0)\n",
      "Requirement already satisfied: trio-websocket~=0.9 in c:\\anaconda\\lib\\site-packages (from selenium) (0.11.1)\n",
      "Requirement already satisfied: certifi>=2021.10.8 in c:\\anaconda\\lib\\site-packages (from selenium) (2023.11.17)\n",
      "Requirement already satisfied: attrs>=20.1.0 in c:\\anaconda\\lib\\site-packages (from trio~=0.17->selenium) (22.1.0)\n",
      "Requirement already satisfied: sortedcontainers in c:\\anaconda\\lib\\site-packages (from trio~=0.17->selenium) (2.4.0)\n",
      "Requirement already satisfied: idna in c:\\anaconda\\lib\\site-packages (from trio~=0.17->selenium) (3.4)\n",
      "Requirement already satisfied: outcome in c:\\anaconda\\lib\\site-packages (from trio~=0.17->selenium) (1.3.0.post0)\n",
      "Requirement already satisfied: sniffio>=1.3.0 in c:\\anaconda\\lib\\site-packages (from trio~=0.17->selenium) (1.3.0)\n",
      "Requirement already satisfied: cffi>=1.14 in c:\\anaconda\\lib\\site-packages (from trio~=0.17->selenium) (1.15.1)\n",
      "Requirement already satisfied: wsproto>=0.14 in c:\\anaconda\\lib\\site-packages (from trio-websocket~=0.9->selenium) (1.2.0)\n",
      "Requirement already satisfied: PySocks!=1.5.7,<2.0,>=1.5.6 in c:\\anaconda\\lib\\site-packages (from urllib3[socks]<3,>=1.26->selenium) (1.7.1)\n",
      "Requirement already satisfied: pycparser in c:\\anaconda\\lib\\site-packages (from cffi>=1.14->trio~=0.17->selenium) (2.21)\n",
      "Requirement already satisfied: h11<1,>=0.9.0 in c:\\anaconda\\lib\\site-packages (from wsproto>=0.14->trio-websocket~=0.9->selenium) (0.14.0)\n",
      "Requirement already satisfied: webdriver-manager in c:\\anaconda\\lib\\site-packages (4.0.1)\n",
      "Requirement already satisfied: requests in c:\\anaconda\\lib\\site-packages (from webdriver-manager) (2.31.0)\n",
      "Requirement already satisfied: python-dotenv in c:\\anaconda\\lib\\site-packages (from webdriver-manager) (0.21.0)\n",
      "Requirement already satisfied: packaging in c:\\anaconda\\lib\\site-packages (from webdriver-manager) (23.1)\n",
      "Requirement already satisfied: charset-normalizer<4,>=2 in c:\\anaconda\\lib\\site-packages (from requests->webdriver-manager) (2.0.4)\n",
      "Requirement already satisfied: idna<4,>=2.5 in c:\\anaconda\\lib\\site-packages (from requests->webdriver-manager) (3.4)\n",
      "Requirement already satisfied: urllib3<3,>=1.21.1 in c:\\anaconda\\lib\\site-packages (from requests->webdriver-manager) (1.26.16)\n",
      "Requirement already satisfied: certifi>=2017.4.17 in c:\\anaconda\\lib\\site-packages (from requests->webdriver-manager) (2023.11.17)\n"
     ]
    }
   ],
   "source": [
    " !pip install selenium\n",
    "!pip install webdriver-manager"
   ]
  },
  {
   "cell_type": "code",
   "execution_count": 2,
   "metadata": {},
   "outputs": [],
   "source": [
    "# this library is to manipulate browser\n",
    "from selenium import webdriver\n",
    "\n",
    "# it allows you to work with differen versions of drivers\n",
    "# We call ChromeDriver\n",
    "from webdriver_manager.chrome import ChromeDriverManager\n",
    "import re\n",
    "import time "
   ]
  },
  {
   "cell_type": "markdown",
   "metadata": {},
   "source": [
    "## 7.3 Launch/Set the Driver\n",
    "This code opens a Chrome Driver. We are going to use it to go navigate on the web."
   ]
  },
  {
   "cell_type": "code",
   "execution_count": 11,
   "metadata": {},
   "outputs": [
    {
     "data": {
      "text/plain": [
       "'C:\\\\Users\\\\Usuario\\\\Documents\\\\GitHub\\\\Diplomado_PUCP\\\\Lecture_7'"
      ]
     },
     "execution_count": 11,
     "metadata": {},
     "output_type": "execute_result"
    }
   ],
   "source": [
    "pwd"
   ]
  },
  {
   "cell_type": "code",
   "execution_count": 3,
   "metadata": {
    "scrolled": true
   },
   "outputs": [],
   "source": [
    "from selenium import webdriver #webdriver Proporciona una interfaz para interactuar con navegadores web.\n",
    "from selenium.webdriver.chrome.service import Service \n",
    "service = Service(executable_path=\"chromedriver-win64/chromedriver.exe\")\n",
    "options = webdriver.ChromeOptions()\n",
    "driver = webdriver.Chrome(service=service, options=options)"
   ]
  },
  {
   "cell_type": "markdown",
   "metadata": {},
   "source": [
    "service =: Aquí estás creando una variable llamada service. Esta variable almacenará la instancia de la clase Service que vas a crear. Almacenar la instancia en una variable te permite utilizarla más adelánten el código para interactuar con el servicio ChromeDriver.\n",
    "\n",
    "Service(: Esto es una llamada al constructor de la clase Service. Un constructor en programación es un método especial que se utiliza para crear e inicializar un objeto de una clase.\n",
    "\n",
    "executable_path=\"chromedriver-win64/chromedriver.exe\": Aquí estás especificando el argumento executable_path en el constructor de Service. Este argumento indica la ruta al ejecutable del ChromeDriver en tu sistema. En tu caso, estás indicando que el ChromeDriver se encuentra en la carpeta chromedriver-win64 y el archivo se llama chromedriver.exe. Esta ruta debe corresponder a la ubicación real del ChromeDriver en tu sistema."
   ]
  },
  {
   "cell_type": "code",
   "execution_count": 22,
   "metadata": {},
   "outputs": [],
   "source": [
    "# # Case 1 - Download the driver\n",
    "\n",
    "url = 'https://resultadoshistorico.onpe.gob.pe/EG2021/'\n",
    "driver.get( url ) #dirigete al url "
   ]
  },
  {
   "cell_type": "markdown",
   "metadata": {},
   "source": [
    "![Chrome is controlled by automated software](Images/chrome_automated.png)"
   ]
  },
  {
   "cell_type": "code",
   "execution_count": 9,
   "metadata": {},
   "outputs": [
    {
     "name": "stdout",
     "output_type": "stream",
     "text": [
      "Title: Presentación de Resultados Elecciones Generales y Parlamento Andino 2021\n"
     ]
    }
   ],
   "source": [
    "driver.title\n",
    "print('Title:',  driver.title)"
   ]
  },
  {
   "cell_type": "code",
   "execution_count": 51,
   "metadata": {},
   "outputs": [
    {
     "name": "stdout",
     "output_type": "stream",
     "text": [
      "Title:  Presentación de Resultados Elecciones Generales y Parlamento Andino 2021\n"
     ]
    }
   ],
   "source": [
    "# Access to the title\n",
    "print('Title: ', driver.title)"
   ]
  },
  {
   "cell_type": "code",
   "execution_count": 5,
   "metadata": {},
   "outputs": [
    {
     "name": "stdout",
     "output_type": "stream",
     "text": [
      "Current Page URL:  https://resultadoshistorico.onpe.gob.pe/EG2021/\n"
     ]
    }
   ],
   "source": [
    "# Access to the curent url \n",
    "print('Current Page URL: ', driver.current_url)"
   ]
  },
  {
   "cell_type": "code",
   "execution_count": 10,
   "metadata": {},
   "outputs": [
    {
     "data": {
      "text/plain": [
       "True"
      ]
     },
     "execution_count": 10,
     "metadata": {},
     "output_type": "execute_result"
    }
   ],
   "source": [
    "# Make screenshot of the webpage\n",
    "driver.save_screenshot('Images/resultados_presidenciales.png')"
   ]
  },
  {
   "cell_type": "code",
   "execution_count": 54,
   "metadata": {},
   "outputs": [
    {
     "data": {
      "text/plain": [
       "'https://resultadoshistorico.onpe.gob.pe/EG2021/'"
      ]
     },
     "execution_count": 54,
     "metadata": {},
     "output_type": "execute_result"
    }
   ],
   "source": [
    "driver.current_url"
   ]
  },
  {
   "cell_type": "code",
   "execution_count": 11,
   "metadata": {},
   "outputs": [],
   "source": [
    "#if re.search(r'resultadoshistorico', driver.current_url):\n",
    "  #  driver.save_screenshot('Images/resultados_presidenciales.png') #save screenshot with provided name\n",
    "  #  print('Resultados Presidenciales saved!')\n",
    "\n",
    "#else:\n",
    "  #  print(\"Page not found\")"
   ]
  },
  {
   "cell_type": "code",
   "execution_count": 12,
   "metadata": {},
   "outputs": [
    {
     "name": "stdout",
     "output_type": "stream",
     "text": [
      "Cookies obtained from resultados_presidenciales\n",
      "[{'domain': 'resultadoshistorico.onpe.gob.pe', 'httpOnly': True, 'name': 'web_server_iron', 'path': '/', 'sameSite': 'Lax', 'secure': True, 'value': '!r1KCGa7cUJY0Z0au0EiGh5fRpo/FcqLfUy3VPy0acIttRWk6NqqINyED73UWLQCFxln2D6Ou3HSCWos='}, {'domain': '.onpe.gob.pe', 'expiry': 1705766804, 'httpOnly': False, 'name': '_gid', 'path': '/', 'sameSite': 'Lax', 'secure': False, 'value': 'GA1.3.1679741656.1705680405'}, {'domain': '.onpe.gob.pe', 'expiry': 1740240404, 'httpOnly': False, 'name': '_ga', 'path': '/', 'sameSite': 'Lax', 'secure': False, 'value': 'GA1.3.438989667.1705680404'}, {'domain': '.onpe.gob.pe', 'expiry': 1740240404, 'httpOnly': False, 'name': '_ga_WW5NP75D4F', 'path': '/', 'sameSite': 'Lax', 'secure': False, 'value': 'GS1.1.1705680404.1.0.1705680404.60.0.0'}]\n"
     ]
    }
   ],
   "source": [
    "#get cookie information\n",
    "cookies = driver.get_cookies() \n",
    "print('Cookies obtained from resultados_presidenciales')\n",
    "print(cookies) #Cookie son bloques "
   ]
  },
  {
   "cell_type": "code",
   "execution_count": 18,
   "metadata": {},
   "outputs": [
    {
     "data": {
      "text/plain": [
       "'<html><head></head><body></body></html>'"
      ]
     },
     "execution_count": 18,
     "metadata": {},
     "output_type": "execute_result"
    }
   ],
   "source": [
    "# Get page source\n",
    "type(driver.page_source)  #devuelve todo el codigo creado para extraer información \n",
    "    #driver.page_source obtiene el código fuente HTML de la página web actualmente cargada en el navegador.\n",
    "    #type(...) es una función incorporada en Python que devuelve el tipo de un objeto. En este caso, te indica el tipo de datos que es driver.page_source\n",
    "driver.page_source\n",
    "\n"
   ]
  },
  {
   "cell_type": "code",
   "execution_count": 19,
   "metadata": {},
   "outputs": [],
   "source": [
    "# #EJEMPLO\n",
    "\n",
    "url = 'https://elperuano.pe/'\n",
    "driver.get( url ) #dirigete al url "
   ]
  },
  {
   "cell_type": "code",
   "execution_count": 20,
   "metadata": {},
   "outputs": [
    {
     "data": {
      "text/plain": [
       "'<html lang=\"es-pe\"><head>\\n<script src=\"https://s0.2mdn.net/instream/video/client.js\" async=\"\" type=\"text/javascript\"></script><script src=\"https://securepubads.g.doubleclick.net/pagead/managed/js/gpt/m202401110101/pubads_impl_page_level_ads.js\"></script><script type=\"text/javascript\" async=\"\" src=\"https://www.googletagmanager.com/gtag/js?id=G-L4ZY3ZB36D&amp;l=dataLayer&amp;cx=c\"></script><script type=\"text/javascript\" async=\"\" src=\"https://www.google-analytics.com/analytics.js\"></script><script async=\"\" src=\"//www.google-analytics.com/analytics.js\"></script><script async=\"\" src=\"https://www.googletagmanager.com/gtm.js?id=GTM-MGM57LX\"></script><script async=\"\" src=\"//www.google-analytics.com/analytics.js\"></script><script async=\"\" src=\"https://www.googletagmanager.com/gtm.js?id=GTM-MTQGGW6\"></script><script>\\n\\n\\n\\n</script>\\n    <meta http-equiv=\"Content-Type\" content=\"text/html; charset=UTF-8\">\\n    <meta name=\"viewport\" content=\"width=device-width, initial-scale=1, maximum-scale=1.0\">\\n    <link rel=\"shortcut icon\" type=\"image/png\" href=\"/static/img/icon.png\">\\n    <meta name=\"language\" content=\"es\">\\n    <meta name=\"news_keywords\" content=\"Dario Oficial el Peruano ,elperuano.pe\">\\n    <meta name=\"robots\" content=\"index,follow\">\\n    <meta name=\"googlebot\" content=\"index, follow\">\\n    <meta name=\"organization\" content=\"Empresa Peruana de Servicios Editorales S.A.\">\\n    \\n    <title>Diario Oficial El Peruano | El Peruano | Decretos | Normas Legales | Separatas Especiales | Normas Legales del día| Derecho | TUPA | Sentencias en Casación | Jurisprudencia | Procesos Constitucionales | Declaraciones Juradas | Patentes y Signos Distintivos | Boletín Oficial | Concesiones Mineras | Remates Judiciales | Edictos Judiciales Lima y Provincias</title>\\n    <meta name=\"keywords\" content=\"Diario oficial del estado del Perú, El Peruano, Decretos, Normas Legales ,Separatas Especiales, Normas Legales del dia, Derecho, T.U.P.A., tupa, Sentencias en Casación, Jurisprudencia, Procesos Constitucionales, Declaraciones Juradas, Patentes, Signos Distintivos y Otros, Separatas del Boletin Oficial, Concesiones Mineras, Remates Judiciales, Edictos Judiciales Lima y Provincias\">\\n    <meta name=\"description\" content=\"Ultimas Normas, peru, mundo, deportes, política, economía, cultura y tecnología en EL PERUANO\">\\n\\n\\n    <link href=\"https://fonts.googleapis.com/icon?family=Material+Icons\" rel=\"stylesheet\">\\n    <link href=\"/static/css/materialize.css\" type=\"text/css\" rel=\"stylesheet\" media=\"screen,projection\">\\n    <link href=\"/static/css/all.css?v01\" type=\"text/css\" rel=\"stylesheet\" media=\"screen,projection\">\\n    <link href=\"/static/css/style.css?v20230306\" type=\"text/css\" rel=\"stylesheet\" media=\"screen,projection\">\\n    <!-- Google Tag Manager -->\\n    <script>\\n        (function (w, d, s, l, i) {\\n            w[l] = w[l] || []; w[l].push({\\n                \\'gtm.start\\':\\n                    new Date().getTime(), event: \\'gtm.js\\'\\n            }); var f = d.getElementsByTagName(s)[0],\\n                j = d.createElement(s), dl = l != \\'dataLayer\\' ? \\'&l=\\' + l : \\'\\'; j.async = true; j.src =\\n                    \\'https://www.googletagmanager.com/gtm.js?id=\\' + i + dl; f.parentNode.insertBefore(j, f);\\n        })(window, document, \\'script\\', \\'dataLayer\\', \\'GTM-MTQGGW6\\');</script>\\n    <!-- End Google Tag Manager -->\\n    <!-- IMPLEMENTACION TAG GOOGLE ANALYTICS -->\\n<!-- TAG ANALITICA -->\\n<!-- CODIGO ANALITICA DOP:UA-25020932-1  -->\\n<script>\\n    (function (i, s, o, g, r, a, m) {\\n        i[\\'GoogleAnalyticsObject\\'] = r; i[r] = i[r] || function () {\\n            (i[r].q = i[r].q || []).push(arguments)\\n        }, i[r].l = 1 * new Date(); a = s.createElement(o),\\n            m = s.getElementsByTagName(o)[0]; a.async = 1; a.src = g; m.parentNode.insertBefore(a, m)\\n    })(window, document, \\'script\\', \\'//www.google-analytics.com/analytics.js\\', \\'ga\\');\\n\\n\\n    ga(\\'create\\', \\'UA-25020932-1\\', \\'auto\\', { \\'allowLinker\\': true });\\n    ga(\\'require\\', \\'linker\\');\\n    ga(\\'linker:autoLink\\', [\\'elperuano.pe\\']);\\n    ga(\\'send\\', \\'pageview\\');\\n\\n</script>\\n<!-- TAG ANALITICA -->\\n\\n\\n    <!-- IMPLEMENTACION PROGRAMATICA -->\\n    <script type=\"text/javascript\">\\n        //Captura variables para DFP desde la url\\n        var getQueryString = function (field, url) {\\n            var href = url ? url : window.location.href;\\n            var reg = new RegExp(\\'[?&]\\' + field + \\'=([^&#]*)\\', \\'i\\');\\n            var string = reg.exec(href);\\n            return string ? string[1] : null;\\n        };\\n        dfp_demo = getQueryString(\"demo\");\\n    </script>\\n    <!-- Start GPT Tag -->\\n    <script async=\"\" src=\"https://securepubads.g.doubleclick.net/tag/js/gpt.js\"></script>\\n\\n\\n<!-- Google Tag Manager -->\\n<script>(function(w,d,s,l,i){w[l]=w[l]||[];w[l].push({\\'gtm.start\\':\\nnew Date().getTime(),event:\\'gtm.js\\'});var f=d.getElementsByTagName(s)[0],\\nj=d.createElement(s),dl=l!=\\'dataLayer\\'?\\'&l=\\'+l:\\'\\';j.async=true;j.src=\\n\\'https://www.googletagmanager.com/gtm.js?id=\\'+i+dl;f.parentNode.insertBefore(j,f);\\n})(window,document,\\'script\\',\\'dataLayer\\',\\'GTM-MGM57LX\\');</script>\\n<!-- End Google Tag Manager -->\\n<meta http-equiv=\"origin-trial\" content=\"As0hBNJ8h++fNYlkq8cTye2qDLyom8NddByiVytXGGD0YVE+2CEuTCpqXMDxdhOMILKoaiaYifwEvCRlJ/9GcQ8AAAB8eyJvcmlnaW4iOiJodHRwczovL2RvdWJsZWNsaWNrLm5ldDo0NDMiLCJmZWF0dXJlIjoiV2ViVmlld1hSZXF1ZXN0ZWRXaXRoRGVwcmVjYXRpb24iLCJleHBpcnkiOjE3MTk1MzI3OTksImlzU3ViZG9tYWluIjp0cnVlfQ==\"><meta http-equiv=\"origin-trial\" content=\"AgRYsXo24ypxC89CJanC+JgEmraCCBebKl8ZmG7Tj5oJNx0cmH0NtNRZs3NB5ubhpbX/bIt7l2zJOSyO64NGmwMAAACCeyJvcmlnaW4iOiJodHRwczovL2dvb2dsZXN5bmRpY2F0aW9uLmNvbTo0NDMiLCJmZWF0dXJlIjoiV2ViVmlld1hSZXF1ZXN0ZWRXaXRoRGVwcmVjYXRpb24iLCJleHBpcnkiOjE3MTk1MzI3OTksImlzU3ViZG9tYWluIjp0cnVlfQ==\"><meta http-equiv=\"origin-trial\" content=\"A/ERL66fN363FkXxgDc6F1+ucRUkAhjEca9W3la6xaLnD2Y1lABsqmdaJmPNaUKPKVBRpyMKEhXYl7rSvrQw+AkAAACNeyJvcmlnaW4iOiJodHRwczovL2RvdWJsZWNsaWNrLm5ldDo0NDMiLCJmZWF0dXJlIjoiRmxlZGdlQmlkZGluZ0FuZEF1Y3Rpb25TZXJ2ZXIiLCJleHBpcnkiOjE3MTkzNTk5OTksImlzU3ViZG9tYWluIjp0cnVlLCJpc1RoaXJkUGFydHkiOnRydWV9\"><meta http-equiv=\"origin-trial\" content=\"A6OdGH3fVf4eKRDbXb4thXA4InNqDJDRhZ8U533U/roYjp4Yau0T3YSuc63vmAs/8ga1cD0E3A7LEq6AXk1uXgsAAACTeyJvcmlnaW4iOiJodHRwczovL2dvb2dsZXN5bmRpY2F0aW9uLmNvbTo0NDMiLCJmZWF0dXJlIjoiRmxlZGdlQmlkZGluZ0FuZEF1Y3Rpb25TZXJ2ZXIiLCJleHBpcnkiOjE3MTkzNTk5OTksImlzU3ViZG9tYWluIjp0cnVlLCJpc1RoaXJkUGFydHkiOnRydWV9\"><script src=\"https://securepubads.g.doubleclick.net/pagead/managed/js/gpt/m202401110101/pubads_impl.js\" async=\"\"></script><meta http-equiv=\"origin-trial\" content=\"AymqwRC7u88Y4JPvfIF2F37QKylC04248hLCdJAsh8xgOfe/dVJPV3XS3wLFca1ZMVOtnBfVjaCMTVudWM//5g4AAAB7eyJvcmlnaW4iOiJodHRwczovL3d3dy5nb29nbGV0YWdtYW5hZ2VyLmNvbTo0NDMiLCJmZWF0dXJlIjoiUHJpdmFjeVNhbmRib3hBZHNBUElzIiwiZXhwaXJ5IjoxNjk1MTY3OTk5LCJpc1RoaXJkUGFydHkiOnRydWV9\"><script src=\"https://s.trvdp.com/scripts/v5.832/float.js\"></script><script src=\"https://imasdk.googleapis.com/js/sdkloader/ima3.js\"></script><meta http-equiv=\"origin-trial\" content=\"A9AxgGSwmnfgzzkyJHILUr3H8nJ/3D+57oAsL4DBt4USlng4jZ0weq+fZtHC/Qwwn6gd4QSa5DzT3OBif+kXVA0AAAB4eyJvcmlnaW4iOiJodHRwczovL2ltYXNkay5nb29nbGVhcGlzLmNvbTo0NDMiLCJmZWF0dXJlIjoiUHJpdmFjeVNhbmRib3hBZHNBUElzIiwiZXhwaXJ5IjoxNjk1MTY3OTk5LCJpc1RoaXJkUGFydHkiOnRydWV9\"><meta http-equiv=\"origin-trial\" content=\"As0hBNJ8h++fNYlkq8cTye2qDLyom8NddByiVytXGGD0YVE+2CEuTCpqXMDxdhOMILKoaiaYifwEvCRlJ/9GcQ8AAAB8eyJvcmlnaW4iOiJodHRwczovL2RvdWJsZWNsaWNrLm5ldDo0NDMiLCJmZWF0dXJlIjoiV2ViVmlld1hSZXF1ZXN0ZWRXaXRoRGVwcmVjYXRpb24iLCJleHBpcnkiOjE3MTk1MzI3OTksImlzU3ViZG9tYWluIjp0cnVlfQ==\"></head>\\n<body class=\"grey lighten-3 ffserif\" aria-hidden=\"false\">\\n<!-- Google Tag Manager (noscript) -->\\n<noscript><iframe src=\"https://www.googletagmanager.com/ns.html?id=GTM-MGM57LX\"\\nheight=\"0\" width=\"0\" style=\"display:none;visibility:hidden\"></iframe></noscript>\\n<!-- End Google Tag Manager (noscript) -->\\n    <!-- Google Tag Manager (noscript) -->\\n    <noscript>\\n        <iframe src=\"https://www.googletagmanager.com/ns.html?id=GTM-MTQGGW6\"\\n                height=\"0\" width=\"0\" style=\"display:none;visibility:hidden\"></iframe>\\n    </noscript>\\n    <!-- End Google Tag Manager (noscript) -->\\n    <!-- NAVEGACION MOBILE -->\\n    <nav class=\"red darken-4 hide-on-large-only navmobile no-padding opacity1-600\" style=\"display: block; opacity: 0.390928;\">\\n        <div class=\"nav-wrapper\">\\n            <a href=\"#\" class=\"no-height sidenav-trigger lh55\" data-target=\"nav-mobile\"><span class=\"fas fa-bars lh70 fz15\"></span></a>\\n            <a href=\"https://elperuano.pe\" class=\"brand-logo left paddingtop5\" style=\"margin-left:17%;\"><img src=\"/static/img/elperuano_blanco_logo.svg?v20231020\" class=\"elperuano_blanco_logo marginauto\" alt=\"EL PERUANO\" title=\"Diario Oficial El Peruano\" loading=\"lazy\"></a>\\n            <ul class=\"right\">\\n                <li><a href=\"https://www.facebook.com/diariooficialelperuano\" target=\"_blank\" class=\"paddinglat5-600\"><span class=\"fz15 fab fa-facebook-f\"></span></a></li>\\n                <li><a href=\"https://twitter.com/DiarioElPeruano\" target=\"_blank\" class=\"paddinglat5-600\"><span class=\"fz15 fab fa-twitter\"></span></a></li>\\n                <li><a href=\"https://www.instagram.com/diarioelperuano\" target=\"_blank\" class=\"paddinglat5-600\"><span class=\"fz15 fab fa-instagram\"></span></a></li>\\n                <li><a href=\"https://pe.linkedin.com/company/elperuano\" target=\"_blank\" class=\"paddinglat5-600\"><span class=\"fz15 fab fa-linkedin-in\"></span></a></li>\\n                <li><a href=\"https://www.tiktok.com/@diarioelperuano\" target=\"_blank\" style=\"display: inline-block;height: 100%;padding: 22px 7px;\"><img src=\"static/img/tiktok-w.svg\" style=\"width: 20px;\" loading=\"lazy\"></a></li>\\n\\n\\n            </ul>\\n        </div>\\n        <ul id=\"nav-mobile\" class=\"sidenav left-align\">\\n            <li class=\"grey darken-3 contmenudiario\">\\n                <div class=\"user-view\">\\n                    <div class=\"margintop10\">\\n                        <img src=\"WEBDOP_Files/image/2019/10/07/20191007.jpg\" class=\"responsive-img rotardiario\" alt=\"Edición Impresa del Diario Oficial El Peruano\" title=\"Descargar PDF\" loading=\"lazy\">\\n                    </div>\\n                </div>\\n            </li>\\n            <li><a download=\"sumplemento.pdf\" href=\"#\" target=\"_blank\" class=\"waves-effect waves-light red darken-4 btn paddinglat5 whitw-text margin10\"><i class=\"fa fa-download right marginright10 white-text\"></i>Descargar PDF</a></li>\\n            <li><a href=\"https://elperuano.pe\" class=\"grey-text text-darken-4\">Inicio</a></li>\\n            <li class=\"divider no-margin\"></li>\\n            <li><a href=\"/derecho\" class=\"grey-text text-darken-4\">Derecho</a></li>\\n            <li><a href=\"/economia\" class=\"grey-text text-darken-4\">Economía</a></li>\\n            <li class=\"divider no-margin\"></li>\\n            <li>\\n                <ul class=\"collapsible collapsible-accordion\">\\n                    <li>\\n                        <a href=\"#\" class=\"collapsible-header paddinglat30 grey-text text-darken-4\" tabindex=\"0\">Actualidad <span class=\"fa fa-chevron-down marginlat6 \"></span></a>\\n                        <div class=\"collapsible-body navshadon\">\\n                            <ul class=\"grey\">\\n                                <li class=\"divider no-margin\"></li>\\n                                <li><a href=\"/politica\" class=\"white-text\">Política</a></li>\\n                                <li class=\"divider no-margin grey lighten-1\"></li>\\n\\n                                <li class=\"divider no-margin grey lighten-1\"></li>\\n                                <li><a href=\"/pais\" class=\"white-text\">País</a></li>\\n                                <li class=\"divider no-margin grey lighten-1\"></li>\\n                                <li><a href=\"/mundo\" class=\"white-text\">Mundo</a></li>\\n                                <li class=\"divider no-margin grey lighten-1\"></li>\\n                                <li><a href=\"/deportes\" class=\"white-text\">Deporte</a></li>\\n                                <li class=\"divider no-margin grey lighten-1\"></li>\\n                                <li><a href=\"/cultural\" class=\"white-text\">Cultural</a></li>\\n                            </ul>\\n                        </div>\\n                    </li>\\n                </ul>\\n            </li>\\n            \\n            <li class=\"divider no-margin\"></li>\\n            <li class=\"no-padding\">\\n                <ul class=\"collapsible collapsible-accordion\">\\n                    <li>\\n                        <a href=\"/opinion\" class=\"collapsible-header paddinglat30 grey-text text-darken-4\" tabindex=\"0\">Opinión <span class=\"fa fa-chevron-down marginlat6\"></span></a>\\n                        <div class=\"collapsible-body navshadon\">\\n                            <ul class=\"grey\">\\n                                <li class=\"divider no-margin\"></li>\\n                                <li><a href=\"/editorial\" class=\"white-text\">Editorial</a></li>\\n                            </ul>\\n                        </div>\\n                    </li>\\n                </ul>\\n            </li>\\n            <li class=\"divider no-margin\"></li>\\n            <li>\\n                <ul class=\"collapsible collapsible-accordion\">\\n                    <li>\\n                        <a href=\"/central\" class=\"collapsible-header paddinglat30 grey-text text-darken-4\" tabindex=\"0\">Especial <span class=\"fa fa-chevron-down marginlat6\"></span></a>\\n                        <div class=\"collapsible-body navshadon\">\\n                            <ul class=\"grey\">\\n                                <li class=\"divider no-margin\"></li>\\n                                <li><a href=\"/central\" class=\"white-text\">Central</a></li>\\n                                <li class=\"divider no-margin grey lighten-1\"></li>\\n                                <li><a href=\"/gerencia-y-liderazgo\" class=\"white-text\">Liderazgo</a></li>\\n                                <li class=\"divider no-margin grey lighten-1\"></li>\\n                                <li><a href=\"/convivir\" class=\"white-text\">Convivir</a></li>\\n                                <li class=\"divider no-margin grey lighten-1\"></li>\\n                                <li><a href=\"/con-vocacion\" class=\"white-text\">Convocación</a></li>\\n                                <li class=\"divider no-margin grey lighten-1\"></li>\\n                                <li><a href=\"/en-confianza\" class=\"white-text\">En confianza</a></li>\\n                                <li class=\"divider no-margin grey lighten-1\"></li>\\n                                <li><a href=\"/ciencia-tecnologia\" class=\"white-text\">Ciencia y Tecnología</a></li>\\n                                <li class=\"divider no-margin grey lighten-1\"></li>\\n                                <li><a href=\"/ozio\" class=\"white-text\">Ozio</a></li>\\n                            </ul>\\n                        </div>\\n                    </li>\\n                </ul>\\n            </li>\\n            <li class=\"divider no-margin\"></li>\\n            <li>\\n                <ul class=\"collapsible collapsible-accordion\">\\n                    <li>\\n                        <a href=\"#\" class=\"collapsible-header paddinglat30 grey-text text-darken-4\" tabindex=\"0\">Suplementos <span class=\"fa fa-chevron-down marginlat6\"></span></a>\\n                        <div class=\"collapsible-body navshadon\">\\n                            <ul class=\"grey\">\\n                                <li class=\"divider no-margin\"></li>\\n                                \\n                                <li><a href=\"/suplemento/economika\" class=\"white-text\">Económika</a></li>\\n                                <li class=\"divider no-margin grey lighten-1\"></li>\\n                                <li><a href=\"/suplemento/juridica\" class=\"white-text\">Jurídica</a></li>\\n                                <li class=\"divider no-margin grey lighten-1\"></li>\\n                                <li><a href=\"/suplemento/lo-nuestro\" class=\"white-text\">Lo Nuestro</a></li>\\n                                <li class=\"divider no-margin grey lighten-1\"></li>\\n                                <li><a href=\"suplemento/variedades\" class=\"white-text\">Variedades</a></li>\\n                                <li class=\"divider no-margin grey lighten-1\"></li>\\n                                <li><a href=\"suplemento/economia-derecho\" class=\"white-text\">Economía y Derecho</a></li>\\n                            </ul>\\n                        </div>\\n                    </li>\\n                </ul>\\n            </li>\\n            <li class=\"divider no-margin\"></li>\\n            <!-- COLOCAR AQUI MUSEO -->\\n            <li><a href=\"https://www.editoraperu.com.pe/museo/\" class=\"grey-text text-darken-4\">Museo</a></li>\\n        </ul>\\n    </nav>\\n    <!-- PUBLICIDAD ASIDE LATERALES -->\\n    <!-- HEADER PUBLICIDAD-->\\n    <header>\\n        <div class=\"container\">\\n            <div class=\"progressCounter\"></div>\\n            <div class=\"card no-margin z-depth-03 z-depth-03-600\">\\n                <div id=\"skyscraper\" class=\"hide-on-med-and-down\" style=\"\">\\n                    <!--\\n                    <div class=\"publicidadlat pub-left\"><img src=\"~/static/fotos/skyscraper.png\" alt=\"skyscraper\" title=\"Publicidad de El Peruano\"></div>\\n                    <div class=\"publicidadlat pub-right\"><img src=\"~/static/fotos/skyscraper.png\" alt=\"skyscraper\" title=\"Publicidad de El Peruano\"></div>\\n                    -->\\n                    <div class=\"publicidadlat pub-left\" id=\"lateral_izq\" data-google-query-id=\"CNrcz53v6YMDFVG6lQIdpY0PFw\">\\n                        \\n                    <div id=\"google_ads_iframe_21678864329/elperuano/lateral_izq_0__container__\" style=\"border: 0pt none;\"><iframe id=\"google_ads_iframe_21678864329/elperuano/lateral_izq_0\" name=\"google_ads_iframe_21678864329/elperuano/lateral_izq_0\" title=\"3rd party ad content\" width=\"160\" height=\"600\" scrolling=\"no\" marginwidth=\"0\" marginheight=\"0\" frameborder=\"0\" aria-label=\"Advertisement\" tabindex=\"0\" data-load-complete=\"true\" data-google-container-id=\"9\" style=\"border: 0px; vertical-align: bottom;\"></iframe></div></div>\\n                    <div class=\"publicidadlat pub-right\" id=\"lateral_der\" data-google-query-id=\"CNncz53v6YMDFVG6lQIdpY0PFw\">\\n                        \\n                    <div id=\"google_ads_iframe_21678864329/elperuano/lateral_der_0__container__\" style=\"border: 0pt none;\"><iframe id=\"google_ads_iframe_21678864329/elperuano/lateral_der_0\" name=\"google_ads_iframe_21678864329/elperuano/lateral_der_0\" title=\"3rd party ad content\" width=\"120\" height=\"600\" scrolling=\"no\" marginwidth=\"0\" marginheight=\"0\" frameborder=\"0\" aria-label=\"Advertisement\" tabindex=\"0\" data-load-complete=\"true\" data-google-container-id=\"8\" style=\"border: 0px; vertical-align: bottom;\"></iframe></div></div>\\n                </div>\\n                <!--PUBLICIDAD CABECERA PRINCIPAL-->\\n                <div id=\"skyscraper-horizontal\"></div>\\n            </div>\\n        </div>\\n        <!--FIN PUBLICIDAD ASIDE LATERALES -->\\n    </header>\\n    <!-- HEADER PRINCIPAL SITE-->\\n    <header>\\n        <div class=\"container\">\\n            <div class=\"card no-margin z-depth-03 z-depth-03-600\">\\n                <div class=\"section no-padding paddingtop9 hide-on-med-and-down\">\\n                    <div class=\"row valign-wrapper no-margin\">\\n                        <div class=\"col s3 left\">\\n                            <div class=\"col s10\">\\n                                <ul class=\"fz08 lh16\" id=\"uldolar\"> <li>Tipo de cambio:</li><li class=\"compra\">Compra: 3.736</li><li class=\"venta\">Venta:3.742</li> <br> <li class=\"red-text text-darken-4 bold\">Año del Bicentenario, de la consolidación de nuestra Independencia, y de la conmemoración de las heroicas batallas de Junín y Ayacucho</li></ul>\\n                            </div>\\n                        </div>\\n                        <div class=\"col s6 \">\\n                            <a href=\"https://elperuano.pe\"><img src=\"/static/img/elperuano_logo.svg?20231020\" class=\"elperuano_logo marginauto\" alt=\"Diario oficial del estado del Perú\" title=\"Diario oficial del estado del Perú\" loading=\"lazy\"></a>\\n                        </div>\\n                        <div class=\"col s3 right\">\\n                            <div class=\"col s12 right\">\\n                                <ul class=\"valign-wrapper right no-margin\">\\n                                    <a href=\"https://www.facebook.com/diariooficialelperuano\" target=\"_blank\" class=\"btn btn-sociales btn-floating waves-effect waves-light white-text\"><span class=\"fz13 fab fa-facebook-f\"></span></a>\\n                                    <a href=\"https://twitter.com/DiarioElPeruano\" target=\"_blank\" class=\"btn btn-sociales btn-floating waves-effect waves-light white-text\"><span class=\"fz13 fab fa-twitter\"></span></a>\\n                                    <a href=\"https://www.instagram.com/diarioelperuano\" target=\"_blank\" class=\"btn btn-sociales btn-floating waves-effect waves-light white-text\"><span class=\"fz13 fab fa-instagram\"></span></a>\\n                                    <a href=\"https://pe.linkedin.com/company/elperuano\" target=\"_blank\" class=\"btn btn-sociales btn-floating waves-effect waves-light white-text\"><span class=\"fz13 fab fa-linkedin-in\"></span></a>\\n                                    <a href=\"https://www.tiktok.com/@diarioelperuano\" target=\"_blank\" class=\"btn btn-sociales btn-floating waves-effect waves-light white-text\" style=\"display: flex;justify-content: center;\"><img class=\"fz13 fab fa-linkedin-in\" src=\"static/img/tiktok.svg\" style=\"width: 20px;\" loading=\"lazy\"></a>\\n\\n                                </ul>\\n                                <div class=\"card card-input\">\\n                                    <input placeholder=\"Buscar..\" type=\"text\" id=\"searchbox\">\\n                                    <i class=\"fa fa-search  grey-text\" onclick=\"search();\"></i>\\n                                </div>\\n                                <div class=\"lh18\">\\n                                    <ul class=\"right-align\">\\n                                        <li class=\"red-text text-darken-4 fz12 fw900 mayuscula\">VIERNES 19</li>\\n                                        <li>de enero de 2024</li>\\n                                    </ul>\\n                                </div>\\n                            </div>\\n                        </div>\\n                    </div>\\n                </div>\\n            </div>\\n        </div>\\n    </header>\\n    <!-- NAVEGACION DESKTOP -->\\n    <section>\\n        <div class=\"container\">\\n            <nav class=\"navnew red darken-4  hide-on-med-and-down no-margin z-depth-03-600\" role=\"navigation\">\\n                <div class=\"row relative\">\\n                    <div class=\"loading\"></div>\\n                    <div class=\"center nav-wrapper\">\\n                        <ul class=\"hide-on-med-and-down inlineblock\">\\n                            <li><a href=\"https://elperuano.pe\"><div id=\"logomin\" class=\"logo-elperuano-scroll\"></div></a></li>\\n                            <li class=\"mayuscula\"><a class=\"fz09 paddinglat11\" href=\"https://elperuano.pe\">Inicio</a></li>\\n                            <li class=\"mayuscula\"><a class=\"fz09 paddinglat11\" href=\"/derecho\">Derecho</a></li>\\n                            <li class=\"mayuscula\"><a class=\"fz09 paddinglat11\" href=\"/economia\">Economía</a></li>\\n                            <li class=\"mayuscula\">\\n                                <a class=\"fz09 paddinglat11 valign-wrapper dropdown-trigger\" href=\"/actualidad\" data-target=\"actualidad\">Actualidad <span class=\"fa fa-chevron-down marginleft4\"></span></a><ul id=\"actualidad\" class=\"dropdown-content\" tabindex=\"0\">\\n                                    <li tabindex=\"0\"><a class=\"fz09 grey-text text-darken-3\" href=\"/politica\">Politíca</a></li>\\n\\n                                    <li class=\"divider no-margin\" tabindex=\"0\"></li>\\n                                    <li tabindex=\"0\"><a class=\"fz09 grey-text text-darken-3\" href=\"/pais\">País</a></li>\\n                                    <li class=\"divider no-margin\" tabindex=\"0\"></li>\\n                                    <li tabindex=\"0\"><a class=\"fz09 grey-text text-darken-3\" href=\"/mundo\">Mundo</a></li>\\n                                    <li class=\"divider no-margin\" tabindex=\"0\"></li>\\n                                    <li tabindex=\"0\"><a class=\"fz09 grey-text text-darken-3\" href=\"/deportes\">Deporte</a></li>\\n                                    <li class=\"divider no-margin\" tabindex=\"0\"></li>\\n                                    <li tabindex=\"0\"><a class=\"fz09 grey-text text-darken-3\" href=\"/cultural\">Cultural</a></li>\\n                                </ul>\\n                                \\n                            </li>\\n                            \\n                            <li class=\"mayuscula\">\\n                                <a class=\"fz09 paddinglat11 valign-wrapper dropdown-trigger\" href=\"/opinion\" data-target=\"opinion\">Opinión <span class=\"fa fa-chevron-down marginleft4\"></span></a><ul id=\"opinion\" class=\"dropdown-content\" tabindex=\"0\">\\n                                    <li tabindex=\"0\"><a class=\"fz09 grey-text text-darken-3\" href=\"/editorial\">Editorial</a></li>\\n                                </ul>\\n                                \\n                            </li>\\n                            <li class=\"mayuscula\">\\n                                <a class=\"fz09 paddinglat11 valign-wrapper dropdown-trigger\" href=\"/central\" data-target=\"especiales\">Especiales <span class=\"fa fa-chevron-down marginleft4\"></span></a><ul id=\"especiales\" class=\"dropdown-content\" tabindex=\"0\">\\n                                    <li tabindex=\"0\"><a class=\"fz09 grey-text text-darken-3\" href=\"/central\">Central</a></li>\\n                                    <li class=\"divider no-margin\" tabindex=\"0\"></li>\\n                                    <li tabindex=\"0\"><a class=\"fz09 grey-text text-darken-3\" href=\"/gerencia-y-liderazgo\">Liderazgo</a></li>\\n                                    <li class=\"divider no-margin\" tabindex=\"0\"></li>\\n                                    <li tabindex=\"0\"><a class=\"fz09 grey-text text-darken-3\" href=\"/convivir\">Convivir</a></li>\\n                                    <li class=\"divider no-margin\" tabindex=\"0\"></li>\\n                                    <li tabindex=\"0\"><a class=\"fz09 grey-text text-darken-3\" href=\"/con-vocacion\">Convocación</a></li>\\n                                    <li class=\"divider no-margin\" tabindex=\"0\"></li>\\n                                    <li tabindex=\"0\"><a class=\"fz09 grey-text text-darken-3\" href=\"/en-confianza\">En confianza</a></li>\\n                                    <li class=\"divider no-margin\" tabindex=\"0\"></li>\\n                                    <li tabindex=\"0\"><a class=\"fz09 grey-text text-darken-3\" href=\"/ciencia-tecnologia\">Ciencia y Tecnología</a></li>\\n                                    <li class=\"divider no-margin\" tabindex=\"0\"></li>\\n                                    <li tabindex=\"0\"><a class=\"fz09 grey-text text-darken-3\" href=\"/ozio\">Ozio</a></li>\\n                                </ul>\\n                                \\n                            </li>\\n                            <li class=\"mayuscula\">\\n                                <a class=\"fz09 paddinglat11 valign-wrapper dropdown-trigger\" href=\"#\" data-target=\"suplementos\">Suplementos <span class=\"fa fa-chevron-down marginleft4 \"></span></a><ul id=\"suplementos\" class=\"dropdown-content\" tabindex=\"0\">\\n                                    \\n                                    <li tabindex=\"0\"><a class=\"fz09 grey-text text-darken-3\" href=\"/suplemento/economika\">Económika</a></li>\\n                                    <li class=\"divider no-margin\" tabindex=\"0\"></li>\\n                                    <li tabindex=\"0\"><a class=\"fz09 grey-text text-darken-3\" href=\"/suplemento/juridica\">Jurídica</a></li>\\n                                    <li class=\"divider no-margin\" tabindex=\"0\"></li>\\n                                    <li tabindex=\"0\"><a class=\"fz09 grey-text text-darken-3\" href=\"/suplemento/lo-nuestro\">Lo Nuestro</a></li>\\n                                    <li class=\"divider no-margin\" tabindex=\"0\"></li>\\n                                    <li tabindex=\"0\"><a class=\"fz09 grey-text text-darken-3\" href=\"/suplemento/variedades\">Variedades</a></li>\\n                                    <li class=\"divider no-margin\" tabindex=\"0\"></li>\\n                                    <li tabindex=\"0\"><a class=\"fz09 grey-text text-darken-3\" href=\"/suplemento/economia-derecho\">Economía y Derecho</a></li>\\n                                </ul>\\n                                \\n                            </li>\\n                            <!-- COLOCAR AQUI MUSEO -->\\n                            <li class=\"mayuscula\"><a class=\"fz09 paddinglat11\" href=\"https://www.editoraperu.com.pe/museo/\">Museo</a></li>\\n                        </ul>\\n                    </div>\\n                </div>\\n            </nav>\\n        </div>\\n    </section>\\n    <!-- FIN CABECERA -->\\n    <!-- CONTEIDO PORTAL-->\\n    <script src=\"https://code.jquery.com/jquery-2.1.1.min.js\"></script>\\n    <script src=\"/static/js/materialize.js\"></script>\\n    <script src=\"/static/js/init.js?v20221022\"></script>\\n    <script src=\"/static/js/carrousuple.js\"></script>\\n    <script src=\"/static/corejs/portal.js?v20240101\"></script>\\n\\n    \\n\\n\\n    <script>\\n        window.googletag = window.googletag || { cmd: [] };\\n        googletag.cmd.push(function () {\\n            //required variable for refresh\\n            var REFRESH_KEY = \"refresh\";\\n            var REFRESH_VALUE = \"true\";\\n            var mappingtop1 = googletag.sizeMapping()\\n                .addSize([992, 0], [[728, 90]])\\n                .addSize([768, 0], [[728, 90]])\\n                .addSize([320, 0], [[320, 100], [320, 50], [300, 100]])\\n                .addSize([0, 0], [[320, 100], [320, 50], [300, 250]]).build();\\n            var mappingtop = googletag.sizeMapping()\\n                .addSize([992, 0], [[728, 90]])\\n                .addSize([768, 0], [[728, 90]])\\n                .addSize([320, 0], [[320, 100], [320, 50], [300, 100], [300, 250]])\\n                .addSize([0, 0], [[320, 100], [320, 50], [300, 100], [300, 250]]).build();\\n            var mappinglateral = googletag.sizeMapping()\\n                .addSize([992, 0], [[120, 600], [160, 600]]).addSize([768, 0], [[120, 600], [160, 600]]).addSize([320, 0], [])\\n                .addSize([0, 0], []).build();\\n            var mappingcenter = googletag.sizeMapping()\\n                .addSize([992, 0], [[120, 600], [160, 600]])\\n                .addSize([768, 0], [[120, 600], [160, 600]])\\n                .addSize([320, 0], [])\\n                .addSize([0, 0], []).build();\\n            var mappingmbl = googletag.sizeMapping()\\n                .addSize([992, 0], [])\\n                .addSize([768, 0], [])\\n                .addSize([320, 0], [[320, 100], [320, 50], [300, 100]])\\n                .addSize([0, 0], [[320, 100], [320, 50], [300, 100]]).build();\\n            var mappingcenter2 = googletag.sizeMapping()\\n                .addSize([992, 0], [[468, 60]])\\n                .addSize([768, 0], [[468, 60]])\\n                .addSize([320, 0], [[300, 250], [320, 100]])\\n                .addSize([0, 0], [[300, 250], [320, 100]]).build();\\n            //adUnits\\n            googletag.defineSlot(\\'21678864329/elperuano/Top1\\', [[320, 100], [320, 50], [728, 90]], \\'Top1\\').defineSizeMapping(mappingtop1).setTargeting(REFRESH_KEY, REFRESH_VALUE).addService(googletag.pubads());\\n            googletag.defineSlot(\\'21678864329/elperuano/Top2\\', [[320, 100], [320, 50], [728, 90]], \\'Top2\\').defineSizeMapping(mappingtop).setTargeting(REFRESH_KEY, REFRESH_VALUE).addService(googletag.pubads());\\n            googletag.defineSlot(\\'21678864329/elperuano/Top3\\', [[320, 100], [320, 50], [728, 90]], \\'Top3\\').defineSizeMapping(mappingtop).setTargeting(REFRESH_KEY, REFRESH_VALUE).addService(googletag.pubads());\\n            googletag.defineSlot(\\'/21678864329/elperuano/Middle1\\', [[320, 100], [320, 50], [300, 100]], \\'Middle1\\').defineSizeMapping(mappingmbl).setTargeting(REFRESH_KEY, REFRESH_VALUE).addService(googletag.pubads());\\n            googletag.defineSlot(\\'/21678864329/elperuano/Leader1\\', [[320, 100], [320, 50]], \\'Leader1\\').defineSizeMapping(mappingmbl).setTargeting(REFRESH_KEY, REFRESH_VALUE).addService(googletag.pubads());\\n            googletag.defineSlot(\\'/21678864329/elperuano/Center1\\', [[120, 600], [160, 600]], \\'Center1\\').defineSizeMapping(mappingcenter).setTargeting(REFRESH_KEY, REFRESH_VALUE).addService(googletag.pubads());\\n            googletag.defineSlot(\\'/21678864329/elperuano/Center2\\', [[468, 60], [300, 250]], \\'Center2\\').defineSizeMapping(mappingcenter2).setTargeting(REFRESH_KEY, REFRESH_VALUE).addService(googletag.pubads());\\n            googletag.defineSlot(\\'/21678864329/elperuano/Floating\\', [1, 1], \\'Floating\\').addService(googletag.pubads());\\n            googletag.defineSlot(\\'/21678864329/elperuano/Inread\\', [1, 1], \\'Inread\\').addService(googletag.pubads());\\n            //Laterales\\n            googletag.defineSlot(\\'21678864329/elperuano/lateral_der\\', [160, 600], \\'lateral_der\\').defineSizeMapping(mappinglateral).setTargeting(REFRESH_KEY, REFRESH_VALUE).addService(googletag.pubads());\\n            googletag.defineSlot(\\'21678864329/elperuano/lateral_izq\\', [160, 600], \\'lateral_izq\\').defineSizeMapping(mappinglateral).setTargeting(REFRESH_KEY, REFRESH_VALUE).addService(googletag.pubads());\\n            googletag.defineOutOfPageSlot(\\'/21678864329/ElPeruano_Web-ITT\\', googletag.enums.OutOfPageFormat.INTERSTITIAL).addService(googletag.pubads());\\n            //SOLO MOBILE\\n            //if (/Android|webOS|iPhone|iPad|iPod|BlackBerry|IEMobile|Opera Mini/i.test(navigator.userAgent)) {\\n                //googletag.defineOutOfPageSlot(\\'/21678864329/ElPeruano_Top_Anchor\\', googletag.enums.OutOfPageFormat.TOP_ANCHOR).addService(googletag.pubads());\\n                \\n            //}\\n            if (navigator.userAgent.match(/Android/i) || navigator.userAgent.match(/webOS/i) || navigator.userAgent.match(/iPhone/i) || navigator.userAgent.match(/iPad/i) || navigator.userAgent.match(/iPod/i) || navigator.userAgent.match(/BlackBerry/i) || navigator.userAgent.match(/Windows Phone/i))\\n            {\\n                googletag.defineOutOfPageSlot(\\'/21678864329/ElPeruano_Top_Anchor\\', googletag.enums.OutOfPageFormat.TOP_ANCHOR).addService(googletag.pubads());\\n            }\\n            //Start refresh\\n            var SECONDS_TO_WAIT_AFTER_VIEWABILITY = 30; // 30 seconds\\n            googletag.pubads().addEventListener(\"impressionViewable\", function (event) {\\n                var slot = event.slot;\\n                if (slot.getTargeting(REFRESH_KEY).indexOf(REFRESH_VALUE) > -1) {\\n                    setTimeout(function () {\\n                        googletag.pubads().refresh([slot]);\\n                    }, SECONDS_TO_WAIT_AFTER_VIEWABILITY * 1000);\\n                }\\n            });\\n            //End refresh\\n            googletag.pubads().setTargeting(\\'EP_Seccion\\', \\'home\\');\\n            //googletag.pubads().setTargeting(\\'EP_Nota\\', \\'[PASAR ID UNICO DE LA NOTA]\\')\\n            googletag.pubads().setTargeting(\\'EP_Tipo\\', \\'Portada\\');\\n            googletag.pubads().setTargeting(\\'Demo\\', dfp_demo);\\n            googletag.pubads().enableSingleRequest();\\n            googletag.pubads().collapseEmptyDivs();\\n            googletag.enableServices();\\n        });\\n    </script>\\n    <!-- End GPT Tag -->\\n\\n\\n<div id=\"Floating\" style=\"width: 0px; height: 0px; margin: 0px;\" data-google-query-id=\"CNfcz53v6YMDFVG6lQIdpY0PFw\">\\n    \\n<div id=\"google_ads_iframe_/21678864329/elperuano/Floating_0__container__\" style=\"border: 0pt none;\"><div class=\"truvid_placeholder_10248\"></div><iframe id=\"google_ads_iframe_/21678864329/elperuano/Floating_0\" name=\"google_ads_iframe_/21678864329/elperuano/Floating_0\" title=\"3rd party ad content\" width=\"1\" height=\"1\" scrolling=\"no\" marginwidth=\"0\" marginheight=\"0\" frameborder=\"0\" aria-label=\"Advertisement\" tabindex=\"0\" style=\"border: 0px; vertical-align: bottom; height: 1px;\" data-load-complete=\"true\" data-google-container-id=\"6\"></iframe></div></div>\\n<!--PORTAL DIARIO OFICIAL EL PERUANO-->\\n<section>\\n    <div class=\"container\">\\n        <div class=\"card white no-margin z-depth-03 z-depth-03-600 z-depth-0-600\">\\n            <div class=\"row paddingtop15 no-margin\">\\n                <div class=\"col s12 no-padding-600\">\\n                    <div id=\"header\">\\n                        <script>\\n                            googletag.cmd.push(function() { googletag.display(\\'header\\'); });\\n                        </script>\\n                    </div>\\n                    <!-- PORTADA PRINCIPAL -->\\n                    <article id=\"noticiaportada\"><div class=\"col s12 m12 l6 xl6\"><div class=\"card z-depth-0 borderadius6\"><div class=\"row no-margin-990 no-marginbottom\"><div class=\"col s12 m7 l12 xl12 no-padding-990\"><div class=\"zoom-slowmo\"><figure class=\"foto6-3 no-margin\"> <a href=\"noticia/233776-gobierno-respalda-que-lima-albergue-juegos-panamericanos-2027\"><img class=\"fotoh fotobackground\" src=\"https://elperuano.pe/fotografia/thumbnail/2024/01/18/000281402M.jpg\" loading=\"lazy\"></a></figure></div></div><div class=\"col s12 m5 l12 xl12 no-padding-600\"><div class=\"card-content paddingtopbottom20\"><span class=\"card-title fz18 lh30 fw500 width100\"><a href=\"noticia/233776-gobierno-respalda-que-lima-albergue-juegos-panamericanos-2027\" class=\"White-text titular\">Gobierno respalda que Lima albergue Juegos Panamericanos 2027</a></span><p class=\"truncate04 lh25 fz12 \"><a href=\"noticia/233776-gobierno-respalda-que-lima-albergue-juegos-panamericanos-2027\" class=\"bajada\">El Gobierno dará todo su respaldo para que la capital vuelva a albergar los Juegos Panamericanos en el 2027. Así lo aseguró la presidenta Dina Boluarte tras anunciar que envió una comunicación a la Organización Deportiva Panamericana para postular oficialmente a Lima como sede.</a></p></div></div></div></div></div></article>\\n                    <!-- FIN PORTADA PRINCIPAL -->\\n                    <!-- NORMAS LEGALES EN PORTADA-->\\n                    <section>\\n                        <div class=\"col s12 m12 l6 xl6 no-padding\">\\n                            <div class=\"card transparent z-depth-0\">\\n                                <div class=\"row no-margin\">\\n                                    <div class=\"col s12\">\\n                                        <h5 class=\"margintop0 marginbottom20\"><a href=\"#\" class=\"titular\">Publicaciones Oficiales</a></h5>\\n                                    </div>\\n\\n                                    <!-- LINKS -->\\n                                    <div id=\"NormasPortada\"><div class=\"col s12 m7 l6 xl6\"><div class=\"scrollsline marginbottom15\"><div class=\"collection scrolls no-margin\"><a href=\"https://busquedas.elperuano.pe/dispositivo/NL/2253865-1\" target=\"_blank\" class=\"collection-item fz09 lh17\"><strong class=\"mayuscula fw600 red-text text-darken-4\"> CONGRESO DE LA REPUBLICA </strong><strong class=\"mayuscula fw600 grey-text text-darken-4\"> LEY </strong><p class=\"grey-text text-darken-3\"> Ley que modifica la Ley 28094 Ley de Organizaciones Políticas sobre elecciones primarias</p></a><a href=\"https://busquedas.elperuano.pe/dispositivo/NL/2253867-3\" target=\"_blank\" class=\"collection-item fz09 lh17\"><strong class=\"mayuscula fw600 red-text text-darken-4\"> MUJER Y POBLACIONES VULNERABLES </strong><strong class=\"mayuscula fw600 grey-text text-darken-4\"> RESOLUCION SUPREMA </strong><p class=\"grey-text text-darken-3\"> Designan Viceministra de la Mujer</p></a><a href=\"https://busquedas.elperuano.pe/dispositivo/NL/2253830-1\" target=\"_blank\" class=\"collection-item fz09 lh17\"><strong class=\"mayuscula fw600 red-text text-darken-4\"> CONSEJO EJECUTIVO DEL PODER JUDICIAL </strong><strong class=\"mayuscula fw600 grey-text text-darken-4\"> RESOLUCION ADMINISTRATIVA </strong><p class=\"grey-text text-darken-3\"> Fijan el valor de la Unidad de Referencia Procesal (URP) para el año 2024 y aprueban el Cuadro de Valores de los Aranceles Judiciales para el año 2024</p></a><a href=\"https://busquedas.elperuano.pe/dispositivo/NL/2253817-1\" target=\"_blank\" class=\"collection-item fz09 lh17\"><strong class=\"mayuscula fw600 red-text text-darken-4\"> JUSTICIA Y DERECHOS HUMANOS </strong><strong class=\"mayuscula fw600 grey-text text-darken-4\"> RESOLUCION MINISTERIAL </strong><p class=\"grey-text text-darken-3\"> Designan Jefe de Gabinete de Asesores del Ministerio de Justicia y Derechos Humanos</p></a><a href=\"https://busquedas.elperuano.pe/dispositivo/NL/2253539-1\" target=\"_blank\" class=\"collection-item fz09 lh17\"><strong class=\"mayuscula fw600 red-text text-darken-4\"> CONTRALORIA GENERAL DE LA REPUBLICA </strong><strong class=\"mayuscula fw600 grey-text text-darken-4\"> RESOLUCION </strong><p class=\"grey-text text-darken-3\"> Designan Jefes del Órgano de Control Institucional de diversas entidades</p></a><a href=\"https://busquedas.elperuano.pe/dispositivo/NL/2253799-1\" target=\"_blank\" class=\"collection-item fz09 lh17\"><strong class=\"mayuscula fw600 red-text text-darken-4\"> DESARROLLO E INCLUSIÓN SOCIAL </strong><strong class=\"mayuscula fw600 grey-text text-darken-4\"> RESOLUCION </strong><p class=\"grey-text text-darken-3\"> Designan Jefe de la Unidad de Administración del FONCODES</p></a><a href=\"https://busquedas.elperuano.pe/dispositivo/NL/2253462-1\" target=\"_blank\" class=\"collection-item fz09 lh17\"><strong class=\"mayuscula fw600 red-text text-darken-4\"> CONGRESO DE LA REPUBLICA </strong><strong class=\"mayuscula fw600 grey-text text-darken-4\"> LEY </strong><p class=\"grey-text text-darken-3\"> Ley de creación de un régimen especial para el Centro Histórico de Lima a fin de proteger su patrimonio cultural y fomentar su desarrollo integral y sostenible</p></a><a href=\"https://busquedas.elperuano.pe/dispositivo/NL/2254187-7\" target=\"_blank\" class=\"collection-item fz09 lh17\"><strong class=\"mayuscula fw600 red-text text-darken-4\"> MINISTERIO PUBLICO </strong><strong class=\"mayuscula fw600 grey-text text-darken-4\"> RESOLUCION </strong><p class=\"grey-text text-darken-3\"> Nombran y designan fiscales en diversos Distritos Fiscales</p></a><a href=\"https://busquedas.elperuano.pe/dispositivo/NL/2253478-1\" target=\"_blank\" class=\"collection-item fz09 lh17\"><strong class=\"mayuscula fw600 red-text text-darken-4\"> ECONOMIA Y FINANZAS </strong><strong class=\"mayuscula fw600 grey-text text-darken-4\"> RESOLUCION DIRECTORAL </strong><p class=\"grey-text text-darken-3\"> Modifican el Anexo N° 05: Lineamientos para las Modificaciones de la Cartera de Inversiones del PMI de la Directiva General N° 001-2019-EF/63.01 Directiva General del Sistema Nacional de Programación Multianual y Gestión de Inversiones aprobada mediante Resolución Directoral N° 001-2019-EF/63.01</p></a><a href=\"https://busquedas.elperuano.pe/dispositivo/NL/2253517-1\" target=\"_blank\" class=\"collection-item fz09 lh17\"><strong class=\"mayuscula fw600 red-text text-darken-4\"> INTERIOR </strong><strong class=\"mayuscula fw600 grey-text text-darken-4\"> RESOLUCION DIRECTORAL </strong><p class=\"grey-text text-darken-3\"> Designan Subprefectos Provinciales y Distritales en diversas regiones del país</p></a></div></div></div></div>\\n                                    <!-- BOTONES  -->\\n                                    <div class=\"col s12 m5 l6 xl6 no-padding\" id=\"vinculosPortada\"><div class=\"col s6 m12 margintopbottom6\"><a href=\"https://diariooficial.elperuano.pe/\"><div class=\"btn-large waves-effect waves-light heightauto btnlinelive-item\"><div class=\"valign-wrapper\"><i class=\"fas fa-arrow-right left\"></i><p class=\"block lh18 margintopbottom10 fz11-600 left-align\">Ver más</p></div></div></a></div><div class=\"col s6 m12 margintopbottom6\"><a href=\"http://busquedas.elperuano.pe/\"><div class=\"btn-large waves-effect waves-light heightauto btnlinelive-item\"><div class=\"valign-wrapper\"><i class=\"fas fa-search left\"></i><p class=\"block lh18 margintopbottom10 fz11-600 left-align\">Buscador en línea</p></div></div></a></div><div class=\"col s6 m12 margintopbottom6\"><a href=\"https://elperuano.pe/gestionop/\"><div class=\"btn-large waves-effect waves-light heightauto btnlinelive-item\"><div class=\"valign-wrapper\"><i class=\"fas fa-calendar left\"></i><p class=\"block lh18 margintopbottom10 fz11-600 left-align\">Buscador por orden</p></div></div></a></div><div class=\"col s6 m12 margintopbottom6\"><a href=\"https://diariooficial.elperuano.pe/Normas\"><div class=\"btn-large waves-effect waves-light heightauto btnlinelive-item\"><div class=\"valign-wrapper\"><i class=\"fas fa-university left\"></i><p class=\"block lh18 margintopbottom10 fz11-600 left-align\">Normas Legales</p></div></div></a></div><div class=\"col s6 m12 margintopbottom6\"><a href=\"https://diariooficial.elperuano.pe/BoletinOficial\"><div class=\"btn-large waves-effect waves-light heightauto btnlinelive-item\"><div class=\"valign-wrapper\"><i class=\"far fa-newspaper left\"></i><p class=\"block lh18 margintopbottom10 fz11-600 left-align\">Boletín Oficial</p></div></div></a></div><div class=\"col s6 m12 margintopbottom6\"><a href=\"https://diariooficial.elperuano.pe/normas/normasactualizadas\"><div class=\"btn-large waves-effect waves-light heightauto btnlinelive-item\"><div class=\"valign-wrapper\"><i class=\"far fa-file-pdf left\"></i><p class=\"block lh18 margintopbottom10 fz11-600 left-align\">Normas Actualizadas</p></div></div></a></div></div>\\n                                </div>\\n                            </div>\\n                        </div>\\n                    </section>\\n\\n                </div>\\n            </div>\\n        </div>\\n    </div>\\n</section>\\n<section>\\n    <div class=\"container center\">\\n        <div class=\"card white no-margin z-depth-03 z-depth-03-600 z-depth-0-600\">\\n            <!--Programatica Top1-->\\n            <div id=\"Top1\" data-google-query-id=\"CNLcz53v6YMDFVG6lQIdpY0PFw\">\\n                \\n            <div id=\"google_ads_iframe_21678864329/elperuano/Top1_0__container__\" style=\"border: 0pt none;\"><iframe id=\"google_ads_iframe_21678864329/elperuano/Top1_0\" name=\"google_ads_iframe_21678864329/elperuano/Top1_0\" title=\"3rd party ad content\" width=\"728\" height=\"90\" scrolling=\"no\" marginwidth=\"0\" marginheight=\"0\" frameborder=\"0\" aria-label=\"Advertisement\" tabindex=\"0\" style=\"border: 0px; vertical-align: bottom;\" data-load-complete=\"true\" data-google-container-id=\"1\"></iframe></div></div>\\n        </div>\\n    </div>\\n</section>\\n<!--NOTICIAS SECCION DESTACADAS-->\\n<!-- MAS DESTACADAS -->\\n<section>\\n    <div class=\"container\" id=\"noticiaDestacadas\"><div class=\"card no-margin z-depth-03 transparent-600\"><div class=\"row no-margin paddingbottom15\"><div class=\"col s12 no-padding-600\"><div class=\"col s12\"><h5>Destacadas</h5><div class=\"divider\"></div></div><article><div class=\"nota col s12 m4 l4 xl4 no-padding paddinglat10-600\"><div class=\"card borderadius6-600 z-depth-0 card-600 cursornoticia\"><div class=\"row no-margin \"><div class=\"skeleton-destacada\"><div class=\"skdestacada\"><div class=\"col s6 m12 no-padding-600\"><div class=\"card-images\"><figure class=\"fotonoticia no-margin-600\"><a href=\"noticia/233775-la-lucha-contra-el-crimen-sera-parte-de-la-agenda-permanente-de-los-paises-andinos-entrevista\"><span class=\"card-title3\">19/01/2024- 06:06</span><img src=\"https://elperuano.pe/fotografia/thumbnail/2024/01/19/000281374M.jpg\" class=\"fotonoticiah fotobackground\" alt=\"FOTOGRAFIA\" title=\"“La lucha contra el crimen será parte de la agenda permanente de los países andinos” [entrevista]\" loading=\"lazy\"></a></figure></div></div><div class=\"destacada-height col s6 m12\"><div class=\"card-content no-padding paddingtop10-600\"><div class=\"valign-wrapper marginbottom15\"><p class=\"red-text tex-darken-4\"><a href=\"/Politica\" class=\"seccionrojo truncate\">Política</a></p><div class=\"inlineblock right-align absolute right0 marginright5\"><div class=\"right\"><a href=\"https://www.facebook.com/sharer.php?u=https://elperuano.pe/noticia/233775-la-lucha-contra-el-crimen-sera-parte-de-la-agenda-permanente-de-los-paises-andinos-entrevista\" class=\"customer share boton-compartir-index btn waves-effect waves-light light-grey-index z-depth-0\"><span class=\"fz10 fab fa-facebook-f\"></span></a><a href=\"https://twitter.com/share?url=https://elperuano.pe/noticia/233775-la-lucha-contra-el-crimen-sera-parte-de-la-agenda-permanente-de-los-paises-andinos-entrevista\" class=\"customer share boton-compartir-index btn waves-effect waves-light light-grey-index z-depth-0\"><span class=\"fz10 fab fa-twitter\"></span></a><a href=\"http://www.linkedin.com/shareArticle?summary=&amp;ro=false&amp;url=https://elperuano.pe/noticia/233775-la-lucha-contra-el-crimen-sera-parte-de-la-agenda-permanente-de-los-paises-andinos-entrevista\" class=\"customer share boton-compartir-index btn waves-effect waves-light light-grey-index z-depth-0\"><span class=\"fz10 fab fa-linkedin-in\"></span></a></div></div></div><span class=\"card-title2\"><a href=\"noticia/233775-la-lucha-contra-el-crimen-sera-parte-de-la-agenda-permanente-de-los-paises-andinos-entrevista\" class=\"titular\">“La lucha contra el crimen será parte de la agenda permanente de los países andinos” [entrevista]</a></span><p class=\"truncate05 truncate03-800 truncate02-450 truncate02-390 displaynone-450 displaynone-390\"><a href=\"noticia/233775-la-lucha-contra-el-crimen-sera-parte-de-la-agenda-permanente-de-los-paises-andinos-entrevista\" class=\"bajada\">El secretario general de la Comunidad Andina, Gonzalo Gutiérrez, asegura en la siguiente entrevista que este domingo 21, de todas maneras, se adoptará un acuerdo en la reunión de cancilleres y ministros de Seguridad de la Comunidad Andina (Colombia, Bolivia, Ecuador y Perú) en la lucha contra el narcotráfico y el crimen organizado a partir de lo sucedido en Ecuador. También abre la posibilidad de que otras naciones, fuera del bloque andino, sean invitadas a participar de estas coordinaciones. </a></p></div></div></div></div></div></div></div></article><article><div class=\"nota col s12 m4 l4 xl4 no-padding paddinglat10-600\"><div class=\"card borderadius6-600 z-depth-0 card-600 cursornoticia\"><div class=\"row no-margin \"><div class=\"skeleton-destacada\"><div class=\"skdestacada\"><div class=\"col s6 m12 no-padding-600\"><div class=\"card-images\"><figure class=\"fotonoticia no-margin-600\"><a href=\"noticia/233781-es-oficial-manana-sabado-20-comienza-venta-de-entradas-virtual-a-machupicchu\"><span class=\"card-title3\">19/01/2024- 06:06</span><img src=\"https://elperuano.pe/fotografia/thumbnail/2024/01/19/000281380M.jpg\" class=\"fotonoticiah fotobackground\" alt=\"FOTOGRAFIA\" title=\"¡Es oficial! Mañana sábado 20 comienza venta de entradas virtual a Machupicchu \" loading=\"lazy\"></a></figure></div></div><div class=\"destacada-height col s6 m12\"><div class=\"card-content no-padding paddingtop10-600\"><div class=\"valign-wrapper marginbottom15\"><p class=\"red-text tex-darken-4\"><a href=\"/Pais\" class=\"seccionrojo truncate\">País</a></p><div class=\"inlineblock right-align absolute right0 marginright5\"><div class=\"right\"><a href=\"https://www.facebook.com/sharer.php?u=https://elperuano.pe/noticia/233781-es-oficial-manana-sabado-20-comienza-venta-de-entradas-virtual-a-machupicchu\" class=\"customer share boton-compartir-index btn waves-effect waves-light light-grey-index z-depth-0\"><span class=\"fz10 fab fa-facebook-f\"></span></a><a href=\"https://twitter.com/share?url=https://elperuano.pe/noticia/233781-es-oficial-manana-sabado-20-comienza-venta-de-entradas-virtual-a-machupicchu\" class=\"customer share boton-compartir-index btn waves-effect waves-light light-grey-index z-depth-0\"><span class=\"fz10 fab fa-twitter\"></span></a><a href=\"http://www.linkedin.com/shareArticle?summary=&amp;ro=false&amp;url=https://elperuano.pe/noticia/233781-es-oficial-manana-sabado-20-comienza-venta-de-entradas-virtual-a-machupicchu\" class=\"customer share boton-compartir-index btn waves-effect waves-light light-grey-index z-depth-0\"><span class=\"fz10 fab fa-linkedin-in\"></span></a></div></div></div><span class=\"card-title2\"><a href=\"noticia/233781-es-oficial-manana-sabado-20-comienza-venta-de-entradas-virtual-a-machupicchu\" class=\"titular\">¡Es oficial! Mañana sábado 20 comienza venta de entradas virtual a Machupicchu </a></span><p class=\"truncate05 truncate03-800 truncate02-450 truncate02-390 displaynone-450 displaynone-390\"><a href=\"noticia/233781-es-oficial-manana-sabado-20-comienza-venta-de-entradas-virtual-a-machupicchu\" class=\"bajada\">El Ministerio de Cultura iniciará mañana la venta de boletos para visitar la llaqta de Machupicchu y los Caminos del Inka, mediante tuboleto.cultura.pe, con lo cual los ciudadanos nacionales y extranjeros podrán programar sus visitas con anticipación al Patrimonio Mundial.</a></p></div></div></div></div></div></div></div></article><article><div class=\"nota col s12 m4 l4 xl4 no-padding paddinglat10-600\"><div class=\"card borderadius6-600 z-depth-0 card-600 cursornoticia\"><div class=\"row no-margin \"><div class=\"skeleton-destacada\"><div class=\"skdestacada\"><div class=\"col s6 m12 no-padding-600\"><div class=\"card-images\"><figure class=\"fotonoticia no-margin-600\"><a href=\"noticia/233787-anillo-vial-periferico-preve-inversion-de-us-3400-mllns\"><span class=\"card-title3\">19/01/2024- 06:06</span><img src=\"https://elperuano.pe/fotografia/thumbnail/2024/01/19/000281384M.jpg\" class=\"fotonoticiah fotobackground\" alt=\"FOTOGRAFIA\" title=\"Anillo Vial Periférico prevé inversión de US$ 3,400 mllns.\" loading=\"lazy\"></a></figure></div></div><div class=\"destacada-height col s6 m12\"><div class=\"card-content no-padding paddingtop10-600\"><div class=\"valign-wrapper marginbottom15\"><p class=\"red-text tex-darken-4\"><a href=\"/Economia\" class=\"seccionrojo truncate\">Economía</a></p><div class=\"inlineblock right-align absolute right0 marginright5\"><div class=\"right\"><a href=\"https://www.facebook.com/sharer.php?u=https://elperuano.pe/noticia/233787-anillo-vial-periferico-preve-inversion-de-us-3400-mllns\" class=\"customer share boton-compartir-index btn waves-effect waves-light light-grey-index z-depth-0\"><span class=\"fz10 fab fa-facebook-f\"></span></a><a href=\"https://twitter.com/share?url=https://elperuano.pe/noticia/233787-anillo-vial-periferico-preve-inversion-de-us-3400-mllns\" class=\"customer share boton-compartir-index btn waves-effect waves-light light-grey-index z-depth-0\"><span class=\"fz10 fab fa-twitter\"></span></a><a href=\"http://www.linkedin.com/shareArticle?summary=&amp;ro=false&amp;url=https://elperuano.pe/noticia/233787-anillo-vial-periferico-preve-inversion-de-us-3400-mllns\" class=\"customer share boton-compartir-index btn waves-effect waves-light light-grey-index z-depth-0\"><span class=\"fz10 fab fa-linkedin-in\"></span></a></div></div></div><span class=\"card-title2\"><a href=\"noticia/233787-anillo-vial-periferico-preve-inversion-de-us-3400-mllns\" class=\"titular\">Anillo Vial Periférico prevé inversión de US$ 3,400 mllns.</a></span><p class=\"truncate05 truncate03-800 truncate02-450 truncate02-390 displaynone-450 displaynone-390\"><a href=\"noticia/233787-anillo-vial-periferico-preve-inversion-de-us-3400-mllns\" class=\"bajada\">La ejecución del proyecto Anillo Vial Periférico contempla una inversión estimada en 3,400 millones de dólares, monto que considera el diseño, financiamiento, construcción, operación y mantenimiento de una autopista de 34.8 kilómetros de longitud, así como también el costo para la gestión en la adquisición de predios, entre otros gastos relacionados, reportó la Agencia de Promoción de la Inversión Privada (ProInversión).</a></p></div></div></div></div></div></div></div></article><article><div class=\"nota col s12 m4 l4 xl4 no-padding paddinglat10-600\"><div class=\"card borderadius6-600 z-depth-0 card-600 cursornoticia\"><div class=\"row no-margin \"><div class=\"skeleton-destacada\"><div class=\"skdestacada\"><div class=\"col s6 m12 no-padding-600\"><div class=\"card-images\"><figure class=\"fotonoticia no-margin-600\"><a href=\"noticia/233783-sbn-proyecta-ejecutar-cuatro-o-cinco-subastas-en-el-2024\"><span class=\"card-title3\">19/01/2024- 06:06</span><img src=\"https://elperuano.pe/fotografia/thumbnail/2024/01/19/000281381M.jpg\" class=\"fotonoticiah fotobackground\" alt=\"FOTOGRAFIA\" title=\"SBN proyecta ejecutar cuatro o cinco subastas en el 2024\" loading=\"lazy\"></a></figure></div></div><div class=\"destacada-height col s6 m12\"><div class=\"card-content no-padding paddingtop10-600\"><div class=\"valign-wrapper marginbottom15\"><p class=\"red-text tex-darken-4\"><a href=\"/Derecho\" class=\"seccionrojo truncate\">Derecho</a></p><div class=\"inlineblock right-align absolute right0 marginright5\"><div class=\"right\"><a href=\"https://www.facebook.com/sharer.php?u=https://elperuano.pe/noticia/233783-sbn-proyecta-ejecutar-cuatro-o-cinco-subastas-en-el-2024\" class=\"customer share boton-compartir-index btn waves-effect waves-light light-grey-index z-depth-0\"><span class=\"fz10 fab fa-facebook-f\"></span></a><a href=\"https://twitter.com/share?url=https://elperuano.pe/noticia/233783-sbn-proyecta-ejecutar-cuatro-o-cinco-subastas-en-el-2024\" class=\"customer share boton-compartir-index btn waves-effect waves-light light-grey-index z-depth-0\"><span class=\"fz10 fab fa-twitter\"></span></a><a href=\"http://www.linkedin.com/shareArticle?summary=&amp;ro=false&amp;url=https://elperuano.pe/noticia/233783-sbn-proyecta-ejecutar-cuatro-o-cinco-subastas-en-el-2024\" class=\"customer share boton-compartir-index btn waves-effect waves-light light-grey-index z-depth-0\"><span class=\"fz10 fab fa-linkedin-in\"></span></a></div></div></div><span class=\"card-title2\"><a href=\"noticia/233783-sbn-proyecta-ejecutar-cuatro-o-cinco-subastas-en-el-2024\" class=\"titular\">SBN proyecta ejecutar cuatro o cinco subastas en el 2024</a></span><p class=\"truncate05 truncate03-800 truncate02-450 truncate02-390 displaynone-450 displaynone-390\"><a href=\"noticia/233783-sbn-proyecta-ejecutar-cuatro-o-cinco-subastas-en-el-2024\" class=\"bajada\">La Superintendencia Nacional de Bienes Estatales (SBN) proyecta efectuar cuatro o cinco subastas de predios durante el presente año, con especial enfoque en los que se ubican en la provincia de Huaura, cercana al megapuerto de Chancay, sostuvo su titular, Wilder Sifuentes Quilcate.</a></p></div></div></div></div></div></div></div></article><article><div class=\"nota col s12 m4 l4 xl4 no-padding paddinglat10-600\"><div class=\"card borderadius6-600 z-depth-0 card-600 cursornoticia\"><div class=\"row no-margin \"><div class=\"skeleton-destacada\"><div class=\"skdestacada\"><div class=\"col s6 m12 no-padding-600\"><div class=\"card-images\"><figure class=\"fotonoticia no-margin-600\"><a href=\"noticia/233784-valor-de-la-urp-sera-de-515-soles-para-el-presente-ano-revise-su-impacto-en-las-tasas-procesales\"><span class=\"card-title3\">19/01/2024- 06:06</span><img src=\"https://elperuano.pe/fotografia/thumbnail/2024/01/19/000281382M.jpg\" class=\"fotonoticiah fotobackground\" alt=\"FOTOGRAFIA\" title=\"Valor de la URP será de 515 soles para el presente año. Revise su impacto en las tasas procesales\" loading=\"lazy\"></a></figure></div></div><div class=\"destacada-height col s6 m12\"><div class=\"card-content no-padding paddingtop10-600\"><div class=\"valign-wrapper marginbottom15\"><p class=\"red-text tex-darken-4\"><a href=\"/Derecho\" class=\"seccionrojo truncate\">Derecho</a></p><div class=\"inlineblock right-align absolute right0 marginright5\"><div class=\"right\"><a href=\"https://www.facebook.com/sharer.php?u=https://elperuano.pe/noticia/233784-valor-de-la-urp-sera-de-515-soles-para-el-presente-ano-revise-su-impacto-en-las-tasas-procesales\" class=\"customer share boton-compartir-index btn waves-effect waves-light light-grey-index z-depth-0\"><span class=\"fz10 fab fa-facebook-f\"></span></a><a href=\"https://twitter.com/share?url=https://elperuano.pe/noticia/233784-valor-de-la-urp-sera-de-515-soles-para-el-presente-ano-revise-su-impacto-en-las-tasas-procesales\" class=\"customer share boton-compartir-index btn waves-effect waves-light light-grey-index z-depth-0\"><span class=\"fz10 fab fa-twitter\"></span></a><a href=\"http://www.linkedin.com/shareArticle?summary=&amp;ro=false&amp;url=https://elperuano.pe/noticia/233784-valor-de-la-urp-sera-de-515-soles-para-el-presente-ano-revise-su-impacto-en-las-tasas-procesales\" class=\"customer share boton-compartir-index btn waves-effect waves-light light-grey-index z-depth-0\"><span class=\"fz10 fab fa-linkedin-in\"></span></a></div></div></div><span class=\"card-title2\"><a href=\"noticia/233784-valor-de-la-urp-sera-de-515-soles-para-el-presente-ano-revise-su-impacto-en-las-tasas-procesales\" class=\"titular\">Valor de la URP será de 515 soles para el presente año. Revise su impacto en las tasas procesales</a></span><p class=\"truncate05 truncate03-800 truncate02-450 truncate02-390 displaynone-450 displaynone-390\"><a href=\"noticia/233784-valor-de-la-urp-sera-de-515-soles-para-el-presente-ano-revise-su-impacto-en-las-tasas-procesales\" class=\"bajada\">El Poder Judicial (PJ) fijó el valor de la unidad de referencia procesal (URP) para el presente año en 515 soles, equivalente al 10% de la unidad impositiva tributaria (UIT), aprobada mediante el Decreto Supremo Nº 309-2023-EF.</a></p></div></div></div></div></div></div></div></article><article><div class=\"nota col s12 m4 l4 xl4 no-padding paddinglat10-600\"><div class=\"card borderadius6-600 z-depth-0 card-600 cursornoticia\"><div class=\"row no-margin \"><div class=\"skeleton-destacada\"><div class=\"skdestacada\"><div class=\"col s6 m12 no-padding-600\"><div class=\"card-images\"><figure class=\"fotonoticia no-margin-600\"><a href=\"noticia/233811-confirmado-nueva-tarifa-de-peaje-de-s-750-empezara-a-regir-a-partir-del-30-de-enero\"><span class=\"card-title3\">19/01/2024- 06:06</span><img src=\"https://elperuano.pe/fotografia/thumbnail/2024/01/19/000281413M.jpg\" class=\"fotonoticiah fotobackground\" alt=\"FOTOGRAFIA\" title=\"¡Confirmado! Nueva tarifa de peaje de S/ 7.50 empezará a regir a partir del 30 de enero\" loading=\"lazy\"></a></figure></div></div><div class=\"destacada-height col s6 m12\"><div class=\"card-content no-padding paddingtop10-600\"><div class=\"valign-wrapper marginbottom15\"><p class=\"red-text tex-darken-4\"><a href=\"/Pais\" class=\"seccionrojo truncate\">País</a></p><div class=\"inlineblock right-align absolute right0 marginright5\"><div class=\"right\"><a href=\"https://www.facebook.com/sharer.php?u=https://elperuano.pe/noticia/233811-confirmado-nueva-tarifa-de-peaje-de-s-750-empezara-a-regir-a-partir-del-30-de-enero\" class=\"customer share boton-compartir-index btn waves-effect waves-light light-grey-index z-depth-0\"><span class=\"fz10 fab fa-facebook-f\"></span></a><a href=\"https://twitter.com/share?url=https://elperuano.pe/noticia/233811-confirmado-nueva-tarifa-de-peaje-de-s-750-empezara-a-regir-a-partir-del-30-de-enero\" class=\"customer share boton-compartir-index btn waves-effect waves-light light-grey-index z-depth-0\"><span class=\"fz10 fab fa-twitter\"></span></a><a href=\"http://www.linkedin.com/shareArticle?summary=&amp;ro=false&amp;url=https://elperuano.pe/noticia/233811-confirmado-nueva-tarifa-de-peaje-de-s-750-empezara-a-regir-a-partir-del-30-de-enero\" class=\"customer share boton-compartir-index btn waves-effect waves-light light-grey-index z-depth-0\"><span class=\"fz10 fab fa-linkedin-in\"></span></a></div></div></div><span class=\"card-title2\"><a href=\"noticia/233811-confirmado-nueva-tarifa-de-peaje-de-s-750-empezara-a-regir-a-partir-del-30-de-enero\" class=\"titular\">¡Confirmado! Nueva tarifa de peaje de S/ 7.50 empezará a regir a partir del 30 de enero</a></span><p class=\"truncate05 truncate03-800 truncate02-450 truncate02-390 displaynone-450 displaynone-390\"><a href=\"noticia/233811-confirmado-nueva-tarifa-de-peaje-de-s-750-empezara-a-regir-a-partir-del-30-de-enero\" class=\"bajada\">La concesionaria Rutas de Lima informó que la nueva tarifa de peajes en los tramos concesionados en Panamericana Norte y Panamericana Sur se reajustará a S/ 7.50 desde las 00:00 horas del 30 de enero de 2024.</a></p></div></div></div></div></div></div></div></article></div></div></div></div>\\n</section>\\n<!--NOTICIAS SECCION DESTACADAS-->\\n<!-- ANALISIS DE NORMAS -->\\n<!-- FIN ANALISIS DE NORMAS -->\\n<!-- SECCION DE NOTICIAS LAS ULTIMAS -->\\n<section>\\n    <div class=\"container\">\\n        <div class=\"card no-margin z-depth-03 transparent-600\">\\n            <div class=\"row no-margin paddingbottom20 paddingtop15\">\\n                <div class=\"col s12 no-padding\">\\n                    <div class=\"col s12 m7 l9 xl9 no-padding\">\\n                        <!--Programatica Top2-->\\n                        <div class=\"center\" id=\"Top2\" data-google-query-id=\"CNPcz53v6YMDFVG6lQIdpY0PFw\">\\n                            \\n                        <div id=\"google_ads_iframe_21678864329/elperuano/Top2_0__container__\" style=\"border: 0pt none;\"><iframe id=\"google_ads_iframe_21678864329/elperuano/Top2_0\" name=\"google_ads_iframe_21678864329/elperuano/Top2_0\" title=\"3rd party ad content\" width=\"728\" height=\"90\" scrolling=\"no\" marginwidth=\"0\" marginheight=\"0\" frameborder=\"0\" aria-label=\"Advertisement\" tabindex=\"0\" style=\"border: 0px; vertical-align: bottom;\" data-load-complete=\"true\" data-google-container-id=\"2\"></iframe></div></div>\\n                        <!-- LAS ÚLTIMAS -->\\n                        <section id=\"ultimasprimeraparte\"><div class=\"col s12 no-padding cuerponoticioso1 marginbottom20\"><div class=\"col s12\"><h5> Las Últimas</h5><div class=\"divider\"></div></div><article><div class=\"nota col s12 m12 l4 xl4 no-padding paddinglat10-600\"><div class=\"card z-depth-0 card-600 borderadius6-600 cursornoticia\"><div class=\"row no-margin\"><div class=\"col s6 m12 no-padding-600\"><div class=\"card-images\"><figure class=\"fotonoticia no-margin-600\"><a href=\"noticia/233823-viaje-gratis-sabes-quienes-tienen-derecho-al-pase-libre-en-el-transporte-publico\"><span class=\"card-title3\">19/01/2024</span><img src=\"https://elperuano.pe/fotografia/thumbnail/2023/06/23/000253877M.jpg\" class=\"fotonoticiah fotobackground\" alt=\"FOTOGRAFIA\" title=\"¡Viaje gratis! ¿Sabes quiénes tienen derecho al pase libre en el transporte público?\" loading=\"lazy\"></a></figure></div></div><div class=\"col s6 m12 \"><div class=\"nota-height card-content no-padding paddingtop10-600\"><div class=\"valign-wrapper marginbottom15\"><p class=\"red-text tex-darken-4\"><a href=\"/Derecho\" class=\"seccionrojo\">Derecho</a></p><div class=\"inlineblock right-align absolute right0 marginright5\"><div class=\"right\"><a href=\"https://www.facebook.com/sharer.php?u=https://elperuano.pe/noticia/233823-viaje-gratis-sabes-quienes-tienen-derecho-al-pase-libre-en-el-transporte-publico\" class=\"customer share boton-compartir-index btn waves-effect waves-light light-grey-index z-depth-0\"><span class=\"fz10 fab fa-facebook-f\"></span></a><a href=\"https://twitter.com/share?url=https://elperuano.pe/noticia/233823-viaje-gratis-sabes-quienes-tienen-derecho-al-pase-libre-en-el-transporte-publico\" class=\"customer share boton-compartir-index btn waves-effect waves-light light-grey-index z-depth-0\"><span class=\"fz10 fab fa-twitter\"></span></a><a href=\"http://www.linkedin.com/shareArticle?summary=&amp;ro=false&amp;url=https://elperuano.pe/noticia/233823-viaje-gratis-sabes-quienes-tienen-derecho-al-pase-libre-en-el-transporte-publico\" class=\"customer share boton-compartir-index btn waves-effect waves-light light-grey-index z-depth-0\"><span class=\"fz10 fab fa-linkedin-in\"></span></a></div></div></div><span class=\"card-title2\"><a href=\"noticia/233823-viaje-gratis-sabes-quienes-tienen-derecho-al-pase-libre-en-el-transporte-publico\" class=\"titular\">¡Viaje gratis! ¿Sabes quiénes tienen derecho al pase libre en el transporte público?</a></span><p class=\"truncate05 truncate03-800 truncate02-450 truncate02-390 displaynone-450 displaynone-390\"><a href=\"noticia/233823-viaje-gratis-sabes-quienes-tienen-derecho-al-pase-libre-en-el-transporte-publico\" class=\"bajada\">La Autoridad de Transporte Urbano para Lima y Callao (ATU) remarcó a las empresas de transporte que están en la obligación de respetar el pase libre de personas con discapacidad severa registradas, los miembros de la Policía Nacional y del Cuerpo General de Bomberos Voluntarios en actividad. El incumplimiento de esta disposición puede ser sancionada con la suspensión de la autorización y una multa económica.</a></p></div></div></div></div></div></article><article><div class=\"nota col s12 m12 l4 xl4 no-padding paddinglat10-600\"><div class=\"card z-depth-0 card-600 borderadius6-600 cursornoticia\"><div class=\"row no-margin\"><div class=\"col s6 m12 no-padding-600\"><div class=\"card-images\"><figure class=\"fotonoticia no-margin-600\"><a href=\"noticia/233818-tu-primera-chamba-verifica-aqui-con-tu-dni-si-estas-en-planilla\"><span class=\"card-title3\">19/01/2024</span><img src=\"https://elperuano.pe/fotografia/thumbnail/2023/01/06/000230649M.jpg\" class=\"fotonoticiah fotobackground\" alt=\"FOTOGRAFIA\" title=\"¿Tu primera chamba? Verifica aquí con tu DNI si estás en planilla\" loading=\"lazy\"></a></figure></div></div><div class=\"col s6 m12 \"><div class=\"nota-height card-content no-padding paddingtop10-600\"><div class=\"valign-wrapper marginbottom15\"><p class=\"red-text tex-darken-4\"><a href=\"/Derecho\" class=\"seccionrojo\">Derecho</a></p><div class=\"inlineblock right-align absolute right0 marginright5\"><div class=\"right\"><a href=\"https://www.facebook.com/sharer.php?u=https://elperuano.pe/noticia/233818-tu-primera-chamba-verifica-aqui-con-tu-dni-si-estas-en-planilla\" class=\"customer share boton-compartir-index btn waves-effect waves-light light-grey-index z-depth-0\"><span class=\"fz10 fab fa-facebook-f\"></span></a><a href=\"https://twitter.com/share?url=https://elperuano.pe/noticia/233818-tu-primera-chamba-verifica-aqui-con-tu-dni-si-estas-en-planilla\" class=\"customer share boton-compartir-index btn waves-effect waves-light light-grey-index z-depth-0\"><span class=\"fz10 fab fa-twitter\"></span></a><a href=\"http://www.linkedin.com/shareArticle?summary=&amp;ro=false&amp;url=https://elperuano.pe/noticia/233818-tu-primera-chamba-verifica-aqui-con-tu-dni-si-estas-en-planilla\" class=\"customer share boton-compartir-index btn waves-effect waves-light light-grey-index z-depth-0\"><span class=\"fz10 fab fa-linkedin-in\"></span></a></div></div></div><span class=\"card-title2\"><a href=\"noticia/233818-tu-primera-chamba-verifica-aqui-con-tu-dni-si-estas-en-planilla\" class=\"titular\">¿Tu primera chamba? Verifica aquí con tu DNI si estás en planilla</a></span><p class=\"truncate05 truncate03-800 truncate02-450 truncate02-390 displaynone-450 displaynone-390\"><a href=\"noticia/233818-tu-primera-chamba-verifica-aqui-con-tu-dni-si-estas-en-planilla\" class=\"bajada\">Comenzó el 2024, y varios peruanos consiguieron un trabajo. Y es que, por temporada de verano, los negocios como las cebicherías, heladerías, piscinas y discotecas cercanas a las playas, suelen contratar más personal para atención al público, ante el incremento de clientes.</a></p></div></div></div></div></div></article><article><div class=\"nota col s12 m12 l4 xl4 no-padding paddinglat10-600\"><div class=\"card z-depth-0 card-600 borderadius6-600 cursornoticia\"><div class=\"row no-margin\"><div class=\"col s6 m12 no-padding-600\"><div class=\"card-images\"><figure class=\"fotonoticia no-margin-600\"><a href=\"noticia/233817-exigir-que-postulantes-a-un-trabajo-declaren-sus-enfermedades-atenta-contra-la-intimidad\"><span class=\"card-title3\">19/01/2024</span><img src=\"https://elperuano.pe/fotografia/thumbnail/2021/03/01/000109843M.jpg\" class=\"fotonoticiah fotobackground\" alt=\"FOTOGRAFIA\" title=\"Exigir que postulantes a un trabajo declaren sus enfermedades atenta contra la intimidad\" loading=\"lazy\"></a></figure></div></div><div class=\"col s6 m12 \"><div class=\"nota-height card-content no-padding paddingtop10-600\"><div class=\"valign-wrapper marginbottom15\"><p class=\"red-text tex-darken-4\"><a href=\"/Derecho\" class=\"seccionrojo\">Derecho</a></p><div class=\"inlineblock right-align absolute right0 marginright5\"><div class=\"right\"><a href=\"https://www.facebook.com/sharer.php?u=https://elperuano.pe/noticia/233817-exigir-que-postulantes-a-un-trabajo-declaren-sus-enfermedades-atenta-contra-la-intimidad\" class=\"customer share boton-compartir-index btn waves-effect waves-light light-grey-index z-depth-0\"><span class=\"fz10 fab fa-facebook-f\"></span></a><a href=\"https://twitter.com/share?url=https://elperuano.pe/noticia/233817-exigir-que-postulantes-a-un-trabajo-declaren-sus-enfermedades-atenta-contra-la-intimidad\" class=\"customer share boton-compartir-index btn waves-effect waves-light light-grey-index z-depth-0\"><span class=\"fz10 fab fa-twitter\"></span></a><a href=\"http://www.linkedin.com/shareArticle?summary=&amp;ro=false&amp;url=https://elperuano.pe/noticia/233817-exigir-que-postulantes-a-un-trabajo-declaren-sus-enfermedades-atenta-contra-la-intimidad\" class=\"customer share boton-compartir-index btn waves-effect waves-light light-grey-index z-depth-0\"><span class=\"fz10 fab fa-linkedin-in\"></span></a></div></div></div><span class=\"card-title2\"><a href=\"noticia/233817-exigir-que-postulantes-a-un-trabajo-declaren-sus-enfermedades-atenta-contra-la-intimidad\" class=\"titular\">Exigir que postulantes a un trabajo declaren sus enfermedades atenta contra la intimidad</a></span><p class=\"truncate05 truncate03-800 truncate02-450 truncate02-390 displaynone-450 displaynone-390\"><a href=\"noticia/233817-exigir-que-postulantes-a-un-trabajo-declaren-sus-enfermedades-atenta-contra-la-intimidad\" class=\"bajada\">Las empresas solo pueden realizar exámenes médicos a sus trabajadores y no a sus postulantes, por lo que exigir a los candidatos a un puesto laboral declarar respecto a sus enfermedades atenta contra la intimidad.</a></p></div></div></div></div></div></article><article><div class=\"nota col s12 m12 l4 xl4 no-padding paddinglat10-600\"><div class=\"card z-depth-0 card-600 borderadius6-600 cursornoticia\"><div class=\"row no-margin\"><div class=\"col s6 m12 no-padding-600\"><div class=\"card-images\"><figure class=\"fotonoticia no-margin-600\"><a href=\"noticia/233815-tribunal-del-indecopi-sanciona-falta-al-deber-de-seguridad-en-el-centro-educativo-de-que-se-trata\"><span class=\"card-title3\">19/01/2024</span><img src=\"https://elperuano.pe/fotografia/thumbnail/2023/12/21/000278271M.jpg\" class=\"fotonoticiah fotobackground\" alt=\"FOTOGRAFIA\" title=\"Tribunal del Indecopi sanciona falta al deber de seguridad en el centro educativo, ¿de qué se trata?\" loading=\"lazy\"></a></figure></div></div><div class=\"col s6 m12 \"><div class=\"nota-height card-content no-padding paddingtop10-600\"><div class=\"valign-wrapper marginbottom15\"><p class=\"red-text tex-darken-4\"><a href=\"/Derecho\" class=\"seccionrojo\">Derecho</a></p><div class=\"inlineblock right-align absolute right0 marginright5\"><div class=\"right\"><a href=\"https://www.facebook.com/sharer.php?u=https://elperuano.pe/noticia/233815-tribunal-del-indecopi-sanciona-falta-al-deber-de-seguridad-en-el-centro-educativo-de-que-se-trata\" class=\"customer share boton-compartir-index btn waves-effect waves-light light-grey-index z-depth-0\"><span class=\"fz10 fab fa-facebook-f\"></span></a><a href=\"https://twitter.com/share?url=https://elperuano.pe/noticia/233815-tribunal-del-indecopi-sanciona-falta-al-deber-de-seguridad-en-el-centro-educativo-de-que-se-trata\" class=\"customer share boton-compartir-index btn waves-effect waves-light light-grey-index z-depth-0\"><span class=\"fz10 fab fa-twitter\"></span></a><a href=\"http://www.linkedin.com/shareArticle?summary=&amp;ro=false&amp;url=https://elperuano.pe/noticia/233815-tribunal-del-indecopi-sanciona-falta-al-deber-de-seguridad-en-el-centro-educativo-de-que-se-trata\" class=\"customer share boton-compartir-index btn waves-effect waves-light light-grey-index z-depth-0\"><span class=\"fz10 fab fa-linkedin-in\"></span></a></div></div></div><span class=\"card-title2\"><a href=\"noticia/233815-tribunal-del-indecopi-sanciona-falta-al-deber-de-seguridad-en-el-centro-educativo-de-que-se-trata\" class=\"titular\">Tribunal del Indecopi sanciona falta al deber de seguridad en el centro educativo, ¿de qué se trata?</a></span><p class=\"truncate05 truncate03-800 truncate02-450 truncate02-390 displaynone-450 displaynone-390\"><a href=\"noticia/233815-tribunal-del-indecopi-sanciona-falta-al-deber-de-seguridad-en-el-centro-educativo-de-que-se-trata\" class=\"bajada\">La Sala Especializada en Protección al Consumidor (SPC) del Indecopi confirmó que la Asociación Educativa Benavides (Trilce Marsano) generó un riesgo injustificado a la salud y seguridad de los estudiantes, al mantener en su institución un portón metálico en condiciones inadecuadas. Dicha situación ocasionó que esa estructura se cayera, lesionando a tres estudiantes. </a></p></div></div></div></div></div></article><article><div class=\"nota col s12 m12 l4 xl4 no-padding paddinglat10-600\"><div class=\"card z-depth-0 card-600 borderadius6-600 cursornoticia\"><div class=\"row no-margin\"><div class=\"col s6 m12 no-padding-600\"><div class=\"card-images\"><figure class=\"fotonoticia no-margin-600\"><a href=\"noticia/233812-conadi-sistema-braille-debe-implementarse-progresivamente-en-restaurantes-y-empresas-de-turismo\"><span class=\"card-title3\">19/01/2024</span><img src=\"https://elperuano.pe/fotografia/thumbnail/2023/03/12/000239379M.jpg\" class=\"fotonoticiah fotobackground\" alt=\"FOTOGRAFIA\" title=\"Conadi: Sistema Braille debe implementarse progresivamente en restaurantes y empresas de turismo\" loading=\"lazy\"></a></figure></div></div><div class=\"col s6 m12 \"><div class=\"nota-height card-content no-padding paddingtop10-600\"><div class=\"valign-wrapper marginbottom15\"><p class=\"red-text tex-darken-4\"><a href=\"/Derecho\" class=\"seccionrojo\">Derecho</a></p><div class=\"inlineblock right-align absolute right0 marginright5\"><div class=\"right\"><a href=\"https://www.facebook.com/sharer.php?u=https://elperuano.pe/noticia/233812-conadi-sistema-braille-debe-implementarse-progresivamente-en-restaurantes-y-empresas-de-turismo\" class=\"customer share boton-compartir-index btn waves-effect waves-light light-grey-index z-depth-0\"><span class=\"fz10 fab fa-facebook-f\"></span></a><a href=\"https://twitter.com/share?url=https://elperuano.pe/noticia/233812-conadi-sistema-braille-debe-implementarse-progresivamente-en-restaurantes-y-empresas-de-turismo\" class=\"customer share boton-compartir-index btn waves-effect waves-light light-grey-index z-depth-0\"><span class=\"fz10 fab fa-twitter\"></span></a><a href=\"http://www.linkedin.com/shareArticle?summary=&amp;ro=false&amp;url=https://elperuano.pe/noticia/233812-conadi-sistema-braille-debe-implementarse-progresivamente-en-restaurantes-y-empresas-de-turismo\" class=\"customer share boton-compartir-index btn waves-effect waves-light light-grey-index z-depth-0\"><span class=\"fz10 fab fa-linkedin-in\"></span></a></div></div></div><span class=\"card-title2\"><a href=\"noticia/233812-conadi-sistema-braille-debe-implementarse-progresivamente-en-restaurantes-y-empresas-de-turismo\" class=\"titular\">Conadi: Sistema Braille debe implementarse progresivamente en restaurantes y empresas de turismo</a></span><p class=\"truncate05 truncate03-800 truncate02-450 truncate02-390 displaynone-450 displaynone-390\"><a href=\"noticia/233812-conadi-sistema-braille-debe-implementarse-progresivamente-en-restaurantes-y-empresas-de-turismo\" class=\"bajada\">Los restaurantes y empresas de turismo deben implementar progresivamente el sistema Braille en sus servicios, con el fin de promover la inclusión de la población con discapacidad visual señaló el Conadis con el fin de dar cumplimiento a la Ley Nº 31707.</a></p></div></div></div></div></div></article><article><div class=\"nota col s12 m12 l4 xl4 no-padding paddinglat10-600\"><div class=\"card z-depth-0 card-600 borderadius6-600 cursornoticia\"><div class=\"row no-margin\"><div class=\"col s6 m12 no-padding-600\"><div class=\"card-images\"><figure class=\"fotonoticia no-margin-600\"><a href=\"noticia/233810-virgen-de-la-candelaria-2024-puno-se-prepara-para-el-gran-espectaculo-cultural\"><span class=\"card-title3\">19/01/2024</span><img src=\"https://elperuano.pe/fotografia/thumbnail/2024/01/19/000281414M.jpg\" class=\"fotonoticiah fotobackground\" alt=\"FOTOGRAFIA\" title=\"Virgen de la Candelaria 2024: Puno se prepara para el gran espectáculo cultural\" loading=\"lazy\"></a></figure></div></div><div class=\"col s6 m12 \"><div class=\"nota-height card-content no-padding paddingtop10-600\"><div class=\"valign-wrapper marginbottom15\"><p class=\"red-text tex-darken-4\"><a href=\"/Actualidad\" class=\"seccionrojo\">Actualidad</a></p><div class=\"inlineblock right-align absolute right0 marginright5\"><div class=\"right\"><a href=\"https://www.facebook.com/sharer.php?u=https://elperuano.pe/noticia/233810-virgen-de-la-candelaria-2024-puno-se-prepara-para-el-gran-espectaculo-cultural\" class=\"customer share boton-compartir-index btn waves-effect waves-light light-grey-index z-depth-0\"><span class=\"fz10 fab fa-facebook-f\"></span></a><a href=\"https://twitter.com/share?url=https://elperuano.pe/noticia/233810-virgen-de-la-candelaria-2024-puno-se-prepara-para-el-gran-espectaculo-cultural\" class=\"customer share boton-compartir-index btn waves-effect waves-light light-grey-index z-depth-0\"><span class=\"fz10 fab fa-twitter\"></span></a><a href=\"http://www.linkedin.com/shareArticle?summary=&amp;ro=false&amp;url=https://elperuano.pe/noticia/233810-virgen-de-la-candelaria-2024-puno-se-prepara-para-el-gran-espectaculo-cultural\" class=\"customer share boton-compartir-index btn waves-effect waves-light light-grey-index z-depth-0\"><span class=\"fz10 fab fa-linkedin-in\"></span></a></div></div></div><span class=\"card-title2\"><a href=\"noticia/233810-virgen-de-la-candelaria-2024-puno-se-prepara-para-el-gran-espectaculo-cultural\" class=\"titular\">Virgen de la Candelaria 2024: Puno se prepara para el gran espectáculo cultural</a></span><p class=\"truncate05 truncate03-800 truncate02-450 truncate02-390 displaynone-450 displaynone-390\"><a href=\"noticia/233810-virgen-de-la-candelaria-2024-puno-se-prepara-para-el-gran-espectaculo-cultural\" class=\"bajada\">A solo 14 días de la esperada Festividad Virgen de la Candelaria 2024, Puno se encuentra inmerso en una serie de emocionantes actividades que prometen un gran espectáculo cultural.</a></p></div></div></div></div></div></article></div></section>\\n                        <!-- PUBLICIDAD MEDIUM -->\\n                        <!--<div id=\"leaderboard\" class=\"hide-on-med-and-down\">\\n                            <div class=\"col s12\">\\n                                <div class=\"row\">\\n                                    <div class=\"col s12\">\\n                                        <script type=\"text/javascript\">\\n                                            google_ad_client = \"ca-pub-5234373912069749\";\\n                                            google_ad_slot = \"4898754116\";\\n                                            google_ad_width = 765;\\n                                            google_ad_height = 112;\\n                                        </script>\\n                                        <script type=\"text/javascript\" src=\"//pagead2.googlesyndication.com/pagead/show_ads.js\"></script>\\n                                    </div>\\n                                </div>\\n                            </div>\\n                        </div>-->\\n                        <!-- TOP 3 -->\\n                        <!-- PUBLICIDAD MEDIUM -->\\n                        <div id=\"leaderboard\">\\n                            <div class=\"col s12\">\\n                                <div class=\"row\">\\n                                    <div class=\"col s12\">\\n                                        <div class=\"center\" id=\"Top3\" data-google-query-id=\"CNTcz53v6YMDFVG6lQIdpY0PFw\">\\n                                            \\n                                        <div id=\"google_ads_iframe_21678864329/elperuano/Top3_0__container__\" style=\"border: 0pt none;\"><iframe id=\"google_ads_iframe_21678864329/elperuano/Top3_0\" name=\"google_ads_iframe_21678864329/elperuano/Top3_0\" title=\"3rd party ad content\" width=\"728\" height=\"90\" scrolling=\"no\" marginwidth=\"0\" marginheight=\"0\" frameborder=\"0\" aria-label=\"Advertisement\" tabindex=\"0\" style=\"border: 0px; vertical-align: bottom;\" data-load-complete=\"true\" data-google-container-id=\"3\"></iframe></div></div>\\n                                    </div>\\n                                </div>\\n                            </div>\\n                        </div>\\n                        <!-- FIN PUBLICIDAD MEDIUM -->\\n                        <!-- CUERPO DE NOTICIA 2 -->\\n                        <section id=\"ultimassegundaparte\"><article><div class=\"nota col s12 m12 l4 xl4 no-padding paddinglat10-600\"><div class=\"card z-depth-0 card-600 borderadius6-600 cursornoticia\"><div class=\"row no-margin\"><div class=\"col s6 m12 no-padding-600\"><div class=\"card-images\"><figure class=\"fotonoticia no-margin-600\"><a href=\"noticia/233809-declaran-ilegal-que-essalud-exija-pago-oportuno-para-otorgar-subsidios-por-incapacidad-temporal-y-maternidad\"><span class=\"card-title3\">19/01/2024</span><img src=\"https://elperuano.pe/fotografia/thumbnail/2022/07/13/000189135M.jpg\" class=\"fotonoticiah fotobackground\" alt=\"FOTOGRAFIA\" title=\"El Indecopi declaró barrera burocrética ilegal la prohibición de que los empleadores que incumplan con el pago de las aportaciones de sus trabajadores de manera oportuna e íntegra (condición de reembolso para con EsSalud) tengan derecho a la devolución de los subsidios por incapacidad temporal y maternidad que hayan pagado.\" loading=\"lazy\"></a></figure></div></div><div class=\"col s6 m12 \"><div class=\"nota-height card-content no-padding paddingtop10-600\"><div class=\"valign-wrapper marginbottom15\"><p class=\"red-text tex-darken-4\"><a href=\"/Derecho\" class=\"seccionrojo\">Derecho</a></p><div class=\"inlineblock right-align absolute right0 marginright5\"><div class=\"right\"><a href=\"https://www.facebook.com/sharer.php?u=https://elperuano.pe/noticia/233809-declaran-ilegal-que-essalud-exija-pago-oportuno-para-otorgar-subsidios-por-incapacidad-temporal-y-maternidad\" class=\"customer share boton-compartir-index btn waves-effect waves-light light-grey-index z-depth-0\"><span class=\"fz10 fab fa-facebook-f\"></span></a><a href=\"https://twitter.com/share?url=https://elperuano.pe/noticia/233809-declaran-ilegal-que-essalud-exija-pago-oportuno-para-otorgar-subsidios-por-incapacidad-temporal-y-maternidad\" class=\"customer share boton-compartir-index btn waves-effect waves-light light-grey-index z-depth-0\"><span class=\"fz10 fab fa-twitter\"></span></a><a href=\"http://www.linkedin.com/shareArticle?summary=&amp;ro=false&amp;url=https://elperuano.pe/noticia/233809-declaran-ilegal-que-essalud-exija-pago-oportuno-para-otorgar-subsidios-por-incapacidad-temporal-y-maternidad\" class=\"customer share boton-compartir-index btn waves-effect waves-light light-grey-index z-depth-0\"><span class=\"fz10 fab fa-linkedin-in\"></span></a></div></div></div><span class=\"card-title2\"><a href=\"noticia/233809-declaran-ilegal-que-essalud-exija-pago-oportuno-para-otorgar-subsidios-por-incapacidad-temporal-y-maternidad\" class=\"titular\">Declaran ilegal que Essalud exija pago oportuno para otorgar subsidios por incapacidad temporal y maternidad</a></span><p class=\"truncate05 truncate03-800 truncate02-450 truncate02-390 displaynone-450 displaynone-390\"><a href=\"noticia/233809-declaran-ilegal-que-essalud-exija-pago-oportuno-para-otorgar-subsidios-por-incapacidad-temporal-y-maternidad\" class=\"bajada\">El Indecopi declaró barrera burocrética ilegal la prohibición de que los empleadores que incumplan con el pago de las aportaciones de sus trabajadores de manera oportuna e íntegra (condición de reembolso para con EsSalud) tengan derecho a la devolución de los subsidios por incapacidad temporal y maternidad que hayan pagado.</a></p></div></div></div></div></div></article><article><div class=\"nota col s12 m12 l4 xl4 no-padding paddinglat10-600\"><div class=\"card z-depth-0 card-600 borderadius6-600 cursornoticia\"><div class=\"row no-margin\"><div class=\"col s6 m12 no-padding-600\"><div class=\"card-images\"><figure class=\"fotonoticia no-margin-600\"><a href=\"noticia/233808-campana-escolar-2024-como-enfrentar-los-gastos-sin-sobreendeudarte\"><span class=\"card-title3\">19/01/2024</span><img src=\"https://elperuano.pe/fotografia/thumbnail/2024/01/19/000281409M.jpg\" class=\"fotonoticiah fotobackground\" alt=\"FOTOGRAFIA\" title=\"El inicio de clases trae consigo diversos gastos, como matrícula, compra de uniformes, útiles escolares, entre otros. Esta situación obliga a muchos peruanos a recurrir a préstamos y endeudarse.\" loading=\"lazy\"></a></figure></div></div><div class=\"col s6 m12 \"><div class=\"nota-height card-content no-padding paddingtop10-600\"><div class=\"valign-wrapper marginbottom15\"><p class=\"red-text tex-darken-4\"><a href=\"/Gerencia y Liderazgo\" class=\"seccionrojo\">Gerencia y Liderazgo</a></p><div class=\"inlineblock right-align absolute right0 marginright5\"><div class=\"right\"><a href=\"https://www.facebook.com/sharer.php?u=https://elperuano.pe/noticia/233808-campana-escolar-2024-como-enfrentar-los-gastos-sin-sobreendeudarte\" class=\"customer share boton-compartir-index btn waves-effect waves-light light-grey-index z-depth-0\"><span class=\"fz10 fab fa-facebook-f\"></span></a><a href=\"https://twitter.com/share?url=https://elperuano.pe/noticia/233808-campana-escolar-2024-como-enfrentar-los-gastos-sin-sobreendeudarte\" class=\"customer share boton-compartir-index btn waves-effect waves-light light-grey-index z-depth-0\"><span class=\"fz10 fab fa-twitter\"></span></a><a href=\"http://www.linkedin.com/shareArticle?summary=&amp;ro=false&amp;url=https://elperuano.pe/noticia/233808-campana-escolar-2024-como-enfrentar-los-gastos-sin-sobreendeudarte\" class=\"customer share boton-compartir-index btn waves-effect waves-light light-grey-index z-depth-0\"><span class=\"fz10 fab fa-linkedin-in\"></span></a></div></div></div><span class=\"card-title2\"><a href=\"noticia/233808-campana-escolar-2024-como-enfrentar-los-gastos-sin-sobreendeudarte\" class=\"titular\">Campaña escolar 2024: ¿cómo enfrentar los gastos sin sobreendeudarte?</a></span><p class=\"truncate05 truncate03-800 truncate02-450 truncate02-390 displaynone-450 displaynone-390\"><a href=\"noticia/233808-campana-escolar-2024-como-enfrentar-los-gastos-sin-sobreendeudarte\" class=\"bajada\">El inicio de clases trae consigo diversos gastos, como matrícula, compra de uniformes, útiles escolares, entre otros. Esta situación obliga a muchos peruanos a recurrir a préstamos y endeudarse.</a></p></div></div></div></div></div></article><article><div class=\"nota col s12 m12 l4 xl4 no-padding paddinglat10-600\"><div class=\"card z-depth-0 card-600 borderadius6-600 cursornoticia\"><div class=\"row no-margin\"><div class=\"col s6 m12 no-padding-600\"><div class=\"card-images\"><figure class=\"fotonoticia no-margin-600\"><a href=\"noticia/233807-congreso-declaran-de-interes-nacional-capacitacion-a-docentes-en-nuevas-tecnologias-de-informacion\"><span class=\"card-title3\">19/01/2024</span><img src=\"https://elperuano.pe/fotografia/thumbnail/2024/01/19/000281408M.jpg\" class=\"fotonoticiah fotobackground\" alt=\"FOTOGRAFIA\" title=\"La Comisión Permanente del Congreso de la República aprobó en primera votación, el dictamen del proyecto de ley 125/2021-CR que declara de interés nacional la capacitación en nuevas tecnologías de información y comunicación a los docentes que integran la carrera pública magisterial.\" loading=\"lazy\"></a></figure></div></div><div class=\"col s6 m12 \"><div class=\"nota-height card-content no-padding paddingtop10-600\"><div class=\"valign-wrapper marginbottom15\"><p class=\"red-text tex-darken-4\"><a href=\"/Derecho\" class=\"seccionrojo\">Derecho</a></p><div class=\"inlineblock right-align absolute right0 marginright5\"><div class=\"right\"><a href=\"https://www.facebook.com/sharer.php?u=https://elperuano.pe/noticia/233807-congreso-declaran-de-interes-nacional-capacitacion-a-docentes-en-nuevas-tecnologias-de-informacion\" class=\"customer share boton-compartir-index btn waves-effect waves-light light-grey-index z-depth-0\"><span class=\"fz10 fab fa-facebook-f\"></span></a><a href=\"https://twitter.com/share?url=https://elperuano.pe/noticia/233807-congreso-declaran-de-interes-nacional-capacitacion-a-docentes-en-nuevas-tecnologias-de-informacion\" class=\"customer share boton-compartir-index btn waves-effect waves-light light-grey-index z-depth-0\"><span class=\"fz10 fab fa-twitter\"></span></a><a href=\"http://www.linkedin.com/shareArticle?summary=&amp;ro=false&amp;url=https://elperuano.pe/noticia/233807-congreso-declaran-de-interes-nacional-capacitacion-a-docentes-en-nuevas-tecnologias-de-informacion\" class=\"customer share boton-compartir-index btn waves-effect waves-light light-grey-index z-depth-0\"><span class=\"fz10 fab fa-linkedin-in\"></span></a></div></div></div><span class=\"card-title2\"><a href=\"noticia/233807-congreso-declaran-de-interes-nacional-capacitacion-a-docentes-en-nuevas-tecnologias-de-informacion\" class=\"titular\">Congreso: Declaran de interés nacional capacitación a docentes en nuevas tecnologías de información</a></span><p class=\"truncate05 truncate03-800 truncate02-450 truncate02-390 displaynone-450 displaynone-390\"><a href=\"noticia/233807-congreso-declaran-de-interes-nacional-capacitacion-a-docentes-en-nuevas-tecnologias-de-informacion\" class=\"bajada\">La Comisión Permanente del Congreso de la República aprobó en primera votación, el dictamen del proyecto de ley 125/2021-CR que declara de interés nacional la capacitación en nuevas tecnologías de información y comunicación a los docentes que integran la carrera pública magisterial.</a></p></div></div></div></div></div></article><article><div class=\"nota col s12 m12 l4 xl4 no-padding paddinglat10-600\"><div class=\"card z-depth-0 card-600 borderadius6-600 cursornoticia\"><div class=\"row no-margin\"><div class=\"col s6 m12 no-padding-600\"><div class=\"card-images\"><figure class=\"fotonoticia no-margin-600\"><a href=\"noticia/233806-callao-sera-sede-del-concurso-nacional-de-marinera-2024\"><span class=\"card-title3\">19/01/2024</span><img src=\"https://elperuano.pe/fotografia/thumbnail/2023/09/24/000266085M.jpg\" class=\"fotonoticiah fotobackground\" alt=\"FOTOGRAFIA\" title=\"El Polideportivo del Callao, ubicado en la cuadra 23 de la av. Guardia Chalaca, será la sede principal del 64º Concurso Nacional de Marinera 2024, que se realizará del 22 al 28 de enero.\" loading=\"lazy\"></a></figure></div></div><div class=\"col s6 m12 \"><div class=\"nota-height card-content no-padding paddingtop10-600\"><div class=\"valign-wrapper marginbottom15\"><p class=\"red-text tex-darken-4\"><a href=\"/Pais\" class=\"seccionrojo\">País</a></p><div class=\"inlineblock right-align absolute right0 marginright5\"><div class=\"right\"><a href=\"https://www.facebook.com/sharer.php?u=https://elperuano.pe/noticia/233806-callao-sera-sede-del-concurso-nacional-de-marinera-2024\" class=\"customer share boton-compartir-index btn waves-effect waves-light light-grey-index z-depth-0\"><span class=\"fz10 fab fa-facebook-f\"></span></a><a href=\"https://twitter.com/share?url=https://elperuano.pe/noticia/233806-callao-sera-sede-del-concurso-nacional-de-marinera-2024\" class=\"customer share boton-compartir-index btn waves-effect waves-light light-grey-index z-depth-0\"><span class=\"fz10 fab fa-twitter\"></span></a><a href=\"http://www.linkedin.com/shareArticle?summary=&amp;ro=false&amp;url=https://elperuano.pe/noticia/233806-callao-sera-sede-del-concurso-nacional-de-marinera-2024\" class=\"customer share boton-compartir-index btn waves-effect waves-light light-grey-index z-depth-0\"><span class=\"fz10 fab fa-linkedin-in\"></span></a></div></div></div><span class=\"card-title2\"><a href=\"noticia/233806-callao-sera-sede-del-concurso-nacional-de-marinera-2024\" class=\"titular\">Callao será sede del Concurso Nacional de Marinera 2024</a></span><p class=\"truncate05 truncate03-800 truncate02-450 truncate02-390 displaynone-450 displaynone-390\"><a href=\"noticia/233806-callao-sera-sede-del-concurso-nacional-de-marinera-2024\" class=\"bajada\">El Polideportivo del Callao, ubicado en la cuadra 23 de la av. Guardia Chalaca, será la sede principal del 64º Concurso Nacional de Marinera 2024, que se realizará del 22 al 28 de enero.</a></p></div></div></div></div></div></article><article><div class=\"nota col s12 m12 l4 xl4 no-padding paddinglat10-600\"><div class=\"card z-depth-0 card-600 borderadius6-600 cursornoticia\"><div class=\"row no-margin\"><div class=\"col s6 m12 no-padding-600\"><div class=\"card-images\"><figure class=\"fotonoticia no-margin-600\"><a href=\"noticia/233804-el-centro-de-lima-un-escenario-de-cuentos-y-novelas\"><span class=\"card-title3\">19/01/2024</span><img src=\"https://elperuano.pe/fotografia/thumbnail/2024/01/19/000281407M.jpg\" class=\"fotonoticiah fotobackground\" alt=\"FOTOGRAFIA\" title=\"Un acercamiento a los escenarios del Centro Histórico de Lima que sirvieron de inspiración para obras literarias de autores como Mario Vargas Llosa, Oswaldo Reynoso, Julio Ramón Ribeyro y Miguel Gutiérrez, entre otros.\" loading=\"lazy\"></a></figure></div></div><div class=\"col s6 m12 \"><div class=\"nota-height card-content no-padding paddingtop10-600\"><div class=\"valign-wrapper marginbottom15\"><p class=\"red-text tex-darken-4\"><a href=\"/Central\" class=\"seccionrojo\">Central</a></p><div class=\"inlineblock right-align absolute right0 marginright5\"><div class=\"right\"><a href=\"https://www.facebook.com/sharer.php?u=https://elperuano.pe/noticia/233804-el-centro-de-lima-un-escenario-de-cuentos-y-novelas\" class=\"customer share boton-compartir-index btn waves-effect waves-light light-grey-index z-depth-0\"><span class=\"fz10 fab fa-facebook-f\"></span></a><a href=\"https://twitter.com/share?url=https://elperuano.pe/noticia/233804-el-centro-de-lima-un-escenario-de-cuentos-y-novelas\" class=\"customer share boton-compartir-index btn waves-effect waves-light light-grey-index z-depth-0\"><span class=\"fz10 fab fa-twitter\"></span></a><a href=\"http://www.linkedin.com/shareArticle?summary=&amp;ro=false&amp;url=https://elperuano.pe/noticia/233804-el-centro-de-lima-un-escenario-de-cuentos-y-novelas\" class=\"customer share boton-compartir-index btn waves-effect waves-light light-grey-index z-depth-0\"><span class=\"fz10 fab fa-linkedin-in\"></span></a></div></div></div><span class=\"card-title2\"><a href=\"noticia/233804-el-centro-de-lima-un-escenario-de-cuentos-y-novelas\" class=\"titular\">El centro de Lima, un escenario de cuentos y novelas</a></span><p class=\"truncate05 truncate03-800 truncate02-450 truncate02-390 displaynone-450 displaynone-390\"><a href=\"noticia/233804-el-centro-de-lima-un-escenario-de-cuentos-y-novelas\" class=\"bajada\">Un acercamiento a los escenarios del Centro Histórico de Lima que sirvieron de inspiración para obras literarias de autores como Mario Vargas Llosa, Oswaldo Reynoso, Julio Ramón Ribeyro y Miguel Gutiérrez, entre otros.</a></p></div></div></div></div></div></article><article><div class=\"nota col s12 m12 l4 xl4 no-padding paddinglat10-600\"><div class=\"card z-depth-0 card-600 borderadius6-600 cursornoticia\"><div class=\"row no-margin\"><div class=\"col s6 m12 no-padding-600\"><div class=\"card-images\"><figure class=\"fotonoticia no-margin-600\"><a href=\"noticia/233803-lima-ya-es-candidata-para-ser-sede-de-los-juegos-panamericanos-2027\"><span class=\"card-title3\">19/01/2024</span><img src=\"https://elperuano.pe/fotografia/thumbnail/2024/01/19/000281401M.jpg\" class=\"fotonoticiah fotobackground\" alt=\"FOTOGRAFIA\" title=\"Lima se posiciona como seria candidata para albergar los Juegos Panamericanos y Juegos Panamericanos 2027 luego de que el Gobierno firmó la carta de respaldo que presentó el Comité Olímpico Peruano (COP) para que la capital peruana postule como sede de los certámenes ecuménicos, como lo hizo en el 2019. \" loading=\"lazy\"></a></figure></div></div><div class=\"col s6 m12 \"><div class=\"nota-height card-content no-padding paddingtop10-600\"><div class=\"valign-wrapper marginbottom15\"><p class=\"red-text tex-darken-4\"><a href=\"/Deportes\" class=\"seccionrojo\">Deportes</a></p><div class=\"inlineblock right-align absolute right0 marginright5\"><div class=\"right\"><a href=\"https://www.facebook.com/sharer.php?u=https://elperuano.pe/noticia/233803-lima-ya-es-candidata-para-ser-sede-de-los-juegos-panamericanos-2027\" class=\"customer share boton-compartir-index btn waves-effect waves-light light-grey-index z-depth-0\"><span class=\"fz10 fab fa-facebook-f\"></span></a><a href=\"https://twitter.com/share?url=https://elperuano.pe/noticia/233803-lima-ya-es-candidata-para-ser-sede-de-los-juegos-panamericanos-2027\" class=\"customer share boton-compartir-index btn waves-effect waves-light light-grey-index z-depth-0\"><span class=\"fz10 fab fa-twitter\"></span></a><a href=\"http://www.linkedin.com/shareArticle?summary=&amp;ro=false&amp;url=https://elperuano.pe/noticia/233803-lima-ya-es-candidata-para-ser-sede-de-los-juegos-panamericanos-2027\" class=\"customer share boton-compartir-index btn waves-effect waves-light light-grey-index z-depth-0\"><span class=\"fz10 fab fa-linkedin-in\"></span></a></div></div></div><span class=\"card-title2\"><a href=\"noticia/233803-lima-ya-es-candidata-para-ser-sede-de-los-juegos-panamericanos-2027\" class=\"titular\">Lima ya es candidata para ser sede de los Juegos Panamericanos 2027 </a></span><p class=\"truncate05 truncate03-800 truncate02-450 truncate02-390 displaynone-450 displaynone-390\"><a href=\"noticia/233803-lima-ya-es-candidata-para-ser-sede-de-los-juegos-panamericanos-2027\" class=\"bajada\">Lima se posiciona como seria candidata para albergar los Juegos Panamericanos y Juegos Panamericanos 2027 luego de que el Gobierno firmó la carta de respaldo que presentó el Comité Olímpico Peruano (COP) para que la capital peruana postule como sede de los certámenes ecuménicos, como lo hizo en el 2019. </a></p></div></div></div></div></div></article><article><div class=\"nota col s12 m12 l4 xl4 no-padding paddinglat10-600\"><div class=\"card z-depth-0 card-600 borderadius6-600 cursornoticia\"><div class=\"row no-margin\"><div class=\"col s6 m12 no-padding-600\"><div class=\"card-images\"><figure class=\"fotonoticia no-margin-600\"><a href=\"noticia/233802-academia-ipd-se-puso-en-marcha\"><span class=\"card-title3\">19/01/2024</span><img src=\"https://elperuano.pe/fotografia/thumbnail/2024/01/19/000281399M.jpg\" class=\"fotonoticiah fotobackground\" alt=\"FOTOGRAFIA\" title=\"El Instituto Peruano del Deporte (IPD) puso en marcha el programa La Academia IPD Deporte para Todos 2024, con la participación de más de mil niños, niñas y adolescentes, en una fiesta deportiva que se desarrolló en el Complejo Canto Grande. \" loading=\"lazy\"></a></figure></div></div><div class=\"col s6 m12 \"><div class=\"nota-height card-content no-padding paddingtop10-600\"><div class=\"valign-wrapper marginbottom15\"><p class=\"red-text tex-darken-4\"><a href=\"/Deportes\" class=\"seccionrojo\">Deportes</a></p><div class=\"inlineblock right-align absolute right0 marginright5\"><div class=\"right\"><a href=\"https://www.facebook.com/sharer.php?u=https://elperuano.pe/noticia/233802-academia-ipd-se-puso-en-marcha\" class=\"customer share boton-compartir-index btn waves-effect waves-light light-grey-index z-depth-0\"><span class=\"fz10 fab fa-facebook-f\"></span></a><a href=\"https://twitter.com/share?url=https://elperuano.pe/noticia/233802-academia-ipd-se-puso-en-marcha\" class=\"customer share boton-compartir-index btn waves-effect waves-light light-grey-index z-depth-0\"><span class=\"fz10 fab fa-twitter\"></span></a><a href=\"http://www.linkedin.com/shareArticle?summary=&amp;ro=false&amp;url=https://elperuano.pe/noticia/233802-academia-ipd-se-puso-en-marcha\" class=\"customer share boton-compartir-index btn waves-effect waves-light light-grey-index z-depth-0\"><span class=\"fz10 fab fa-linkedin-in\"></span></a></div></div></div><span class=\"card-title2\"><a href=\"noticia/233802-academia-ipd-se-puso-en-marcha\" class=\"titular\">Academia IPD se  puso en marcha</a></span><p class=\"truncate05 truncate03-800 truncate02-450 truncate02-390 displaynone-450 displaynone-390\"><a href=\"noticia/233802-academia-ipd-se-puso-en-marcha\" class=\"bajada\">El Instituto Peruano del Deporte (IPD) puso en marcha el programa La Academia IPD Deporte para Todos 2024, con la participación de más de mil niños, niñas y adolescentes, en una fiesta deportiva que se desarrolló en el Complejo Canto Grande. </a></p></div></div></div></div></div></article><article><div class=\"nota col s12 m12 l4 xl4 no-padding paddinglat10-600\"><div class=\"card z-depth-0 card-600 borderadius6-600 cursornoticia\"><div class=\"row no-margin\"><div class=\"col s6 m12 no-padding-600\"><div class=\"card-images\"><figure class=\"fotonoticia no-margin-600\"><a href=\"noticia/233800-sabato-en-escena\"><span class=\"card-title3\">19/01/2024</span><img src=\"https://elperuano.pe/fotografia/thumbnail/2024/01/19/000281396M.jpg\" class=\"fotonoticiah fotobackground\" alt=\"FOTOGRAFIA\" title=\"Hay obras que capturan, generación tras generación, a los lectores. No importan las modas, siempre están vigentes. Es ese el caso de El túnel, la novela corta de Ernesto Sábato.\" loading=\"lazy\"></a></figure></div></div><div class=\"col s6 m12 \"><div class=\"nota-height card-content no-padding paddingtop10-600\"><div class=\"valign-wrapper marginbottom15\"><p class=\"red-text tex-darken-4\"><a href=\"/Cultural\" class=\"seccionrojo\">Cultural</a></p><div class=\"inlineblock right-align absolute right0 marginright5\"><div class=\"right\"><a href=\"https://www.facebook.com/sharer.php?u=https://elperuano.pe/noticia/233800-sabato-en-escena\" class=\"customer share boton-compartir-index btn waves-effect waves-light light-grey-index z-depth-0\"><span class=\"fz10 fab fa-facebook-f\"></span></a><a href=\"https://twitter.com/share?url=https://elperuano.pe/noticia/233800-sabato-en-escena\" class=\"customer share boton-compartir-index btn waves-effect waves-light light-grey-index z-depth-0\"><span class=\"fz10 fab fa-twitter\"></span></a><a href=\"http://www.linkedin.com/shareArticle?summary=&amp;ro=false&amp;url=https://elperuano.pe/noticia/233800-sabato-en-escena\" class=\"customer share boton-compartir-index btn waves-effect waves-light light-grey-index z-depth-0\"><span class=\"fz10 fab fa-linkedin-in\"></span></a></div></div></div><span class=\"card-title2\"><a href=\"noticia/233800-sabato-en-escena\" class=\"titular\">Sábato en escena</a></span><p class=\"truncate05 truncate03-800 truncate02-450 truncate02-390 displaynone-450 displaynone-390\"><a href=\"noticia/233800-sabato-en-escena\" class=\"bajada\">Hay obras que capturan, generación tras generación, a los lectores. No importan las modas, siempre están vigentes. Es ese el caso de El túnel, la novela corta de Ernesto Sábato.</a></p></div></div></div></div></div></article><article><div class=\"nota col s12 m12 l4 xl4 no-padding paddinglat10-600\"><div class=\"card z-depth-0 card-600 borderadius6-600 cursornoticia\"><div class=\"row no-margin\"><div class=\"col s6 m12 no-padding-600\"><div class=\"card-images\"><figure class=\"fotonoticia no-margin-600\"><a href=\"noticia/233795-pakistan-bombardea-iran-en-represalia-por-ataque\"><span class=\"card-title3\">19/01/2024</span><img src=\"https://elperuano.pe/fotografia/thumbnail/2024/01/19/000281391M.jpg\" class=\"fotonoticiah fotobackground\" alt=\"FOTOGRAFIA\" title=\"Pakistán bombardeó lo que calificó de “guaridas terroristas” en Irán, en una operación que dejó al menos nueve muertos, dos días después de un ataque de la República Islámica contra su territorio.\" loading=\"lazy\"></a></figure></div></div><div class=\"col s6 m12 \"><div class=\"nota-height card-content no-padding paddingtop10-600\"><div class=\"valign-wrapper marginbottom15\"><p class=\"red-text tex-darken-4\"><a href=\"/Mundo\" class=\"seccionrojo\">Mundo</a></p><div class=\"inlineblock right-align absolute right0 marginright5\"><div class=\"right\"><a href=\"https://www.facebook.com/sharer.php?u=https://elperuano.pe/noticia/233795-pakistan-bombardea-iran-en-represalia-por-ataque\" class=\"customer share boton-compartir-index btn waves-effect waves-light light-grey-index z-depth-0\"><span class=\"fz10 fab fa-facebook-f\"></span></a><a href=\"https://twitter.com/share?url=https://elperuano.pe/noticia/233795-pakistan-bombardea-iran-en-represalia-por-ataque\" class=\"customer share boton-compartir-index btn waves-effect waves-light light-grey-index z-depth-0\"><span class=\"fz10 fab fa-twitter\"></span></a><a href=\"http://www.linkedin.com/shareArticle?summary=&amp;ro=false&amp;url=https://elperuano.pe/noticia/233795-pakistan-bombardea-iran-en-represalia-por-ataque\" class=\"customer share boton-compartir-index btn waves-effect waves-light light-grey-index z-depth-0\"><span class=\"fz10 fab fa-linkedin-in\"></span></a></div></div></div><span class=\"card-title2\"><a href=\"noticia/233795-pakistan-bombardea-iran-en-represalia-por-ataque\" class=\"titular\">Pakistán bombardea Irán en represalia por ataque</a></span><p class=\"truncate05 truncate03-800 truncate02-450 truncate02-390 displaynone-450 displaynone-390\"><a href=\"noticia/233795-pakistan-bombardea-iran-en-represalia-por-ataque\" class=\"bajada\">Pakistán bombardeó lo que calificó de “guaridas terroristas” en Irán, en una operación que dejó al menos nueve muertos, dos días después de un ataque de la República Islámica contra su territorio.</a></p></div></div></div></div></div></article><article><div class=\"nota col s12 m12 l4 xl4 no-padding paddinglat10-600\"><div class=\"card z-depth-0 card-600 borderadius6-600 cursornoticia\"><div class=\"row no-margin\"><div class=\"col s6 m12 no-padding-600\"><div class=\"card-images\"><figure class=\"fotonoticia no-margin-600\"><a href=\"noticia/233792-nueva-requisa-en-carcel-de-donde-se-escapo-fito\"><span class=\"card-title3\">19/01/2024</span><img src=\"https://elperuano.pe/fotografia/thumbnail/2024/01/19/000281388M.jpg\" class=\"fotonoticiah fotobackground\" alt=\"FOTOGRAFIA\" title=\"Un numeroso contingente de policías y militares ingresó en la Cárcel Regional de Guayaquil, de la cual se escapó semanas atrás José Adolfo Macías Villamar, alias Fito, el líder de la banda criminal Los Choneros.\" loading=\"lazy\"></a></figure></div></div><div class=\"col s6 m12 \"><div class=\"nota-height card-content no-padding paddingtop10-600\"><div class=\"valign-wrapper marginbottom15\"><p class=\"red-text tex-darken-4\"><a href=\"/Mundo\" class=\"seccionrojo\">Mundo</a></p><div class=\"inlineblock right-align absolute right0 marginright5\"><div class=\"right\"><a href=\"https://www.facebook.com/sharer.php?u=https://elperuano.pe/noticia/233792-nueva-requisa-en-carcel-de-donde-se-escapo-fito\" class=\"customer share boton-compartir-index btn waves-effect waves-light light-grey-index z-depth-0\"><span class=\"fz10 fab fa-facebook-f\"></span></a><a href=\"https://twitter.com/share?url=https://elperuano.pe/noticia/233792-nueva-requisa-en-carcel-de-donde-se-escapo-fito\" class=\"customer share boton-compartir-index btn waves-effect waves-light light-grey-index z-depth-0\"><span class=\"fz10 fab fa-twitter\"></span></a><a href=\"http://www.linkedin.com/shareArticle?summary=&amp;ro=false&amp;url=https://elperuano.pe/noticia/233792-nueva-requisa-en-carcel-de-donde-se-escapo-fito\" class=\"customer share boton-compartir-index btn waves-effect waves-light light-grey-index z-depth-0\"><span class=\"fz10 fab fa-linkedin-in\"></span></a></div></div></div><span class=\"card-title2\"><a href=\"noticia/233792-nueva-requisa-en-carcel-de-donde-se-escapo-fito\" class=\"titular\">Nueva requisa en cárcel de donde se escapó Fito</a></span><p class=\"truncate05 truncate03-800 truncate02-450 truncate02-390 displaynone-450 displaynone-390\"><a href=\"noticia/233792-nueva-requisa-en-carcel-de-donde-se-escapo-fito\" class=\"bajada\">Un numeroso contingente de policías y militares ingresó en la Cárcel Regional de Guayaquil, de la cual se escapó semanas atrás José Adolfo Macías Villamar, alias Fito, el líder de la banda criminal Los Choneros.</a></p></div></div></div></div></div></article><article><div class=\"nota col s12 m12 l4 xl4 no-padding paddinglat10-600\"><div class=\"card z-depth-0 card-600 borderadius6-600 cursornoticia\"><div class=\"row no-margin\"><div class=\"col s6 m12 no-padding-600\"><div class=\"card-images\"><figure class=\"fotonoticia no-margin-600\"><a href=\"noticia/233789-mtc-promueve-11-grandes-proyectos\"><span class=\"card-title3\">19/01/2024</span><img src=\"https://elperuano.pe/fotografia/thumbnail/2024/01/19/000281386M.jpg\" class=\"fotonoticiah fotobackground\" alt=\"FOTOGRAFIA\" title=\"Con la finalidad de que nuestro país cuente, al 2032, con mejores carreteras, terminales portuarios y ferroviarios, el Ministerio de Transportes y Comunicaciones (MTC) promueve la ejecución de 11 grandes proyectos en materia de infraestructura y servicios de transporte. Estas obras significarán una inversión superior a los 45,000 millones de soles, informó el titular del sector, Raúl Pérez Reyes.\" loading=\"lazy\"></a></figure></div></div><div class=\"col s6 m12 \"><div class=\"nota-height card-content no-padding paddingtop10-600\"><div class=\"valign-wrapper marginbottom15\"><p class=\"red-text tex-darken-4\"><a href=\"/Economia\" class=\"seccionrojo\">Economía</a></p><div class=\"inlineblock right-align absolute right0 marginright5\"><div class=\"right\"><a href=\"https://www.facebook.com/sharer.php?u=https://elperuano.pe/noticia/233789-mtc-promueve-11-grandes-proyectos\" class=\"customer share boton-compartir-index btn waves-effect waves-light light-grey-index z-depth-0\"><span class=\"fz10 fab fa-facebook-f\"></span></a><a href=\"https://twitter.com/share?url=https://elperuano.pe/noticia/233789-mtc-promueve-11-grandes-proyectos\" class=\"customer share boton-compartir-index btn waves-effect waves-light light-grey-index z-depth-0\"><span class=\"fz10 fab fa-twitter\"></span></a><a href=\"http://www.linkedin.com/shareArticle?summary=&amp;ro=false&amp;url=https://elperuano.pe/noticia/233789-mtc-promueve-11-grandes-proyectos\" class=\"customer share boton-compartir-index btn waves-effect waves-light light-grey-index z-depth-0\"><span class=\"fz10 fab fa-linkedin-in\"></span></a></div></div></div><span class=\"card-title2\"><a href=\"noticia/233789-mtc-promueve-11-grandes-proyectos\" class=\"titular\">MTC promueve 11 grandes proyectos</a></span><p class=\"truncate05 truncate03-800 truncate02-450 truncate02-390 displaynone-450 displaynone-390\"><a href=\"noticia/233789-mtc-promueve-11-grandes-proyectos\" class=\"bajada\">Con la finalidad de que nuestro país cuente, al 2032, con mejores carreteras, terminales portuarios y ferroviarios, el Ministerio de Transportes y Comunicaciones (MTC) promueve la ejecución de 11 grandes proyectos en materia de infraestructura y servicios de transporte. Estas obras significarán una inversión superior a los 45,000 millones de soles, informó el titular del sector, Raúl Pérez Reyes.</a></p></div></div></div></div></div></article><article><div class=\"nota col s12 m12 l4 xl4 no-padding paddinglat10-600\"><div class=\"card z-depth-0 card-600 borderadius6-600 cursornoticia\"><div class=\"row no-margin\"><div class=\"col s6 m12 no-padding-600\"><div class=\"card-images\"><figure class=\"fotonoticia no-margin-600\"><a href=\"noticia/233788-edificaran-mas-de-3000-viviendas-en-lambayeque\"><span class=\"card-title3\">19/01/2024</span><img src=\"https://elperuano.pe/fotografia/thumbnail/2024/01/19/000281385M.jpg\" class=\"fotonoticiah fotobackground\" alt=\"FOTOGRAFIA\" title=\"El Ministerio de Vivienda, Construcción y Saneamiento (MVCS) suscribió una segunda adenda con el gobierno regional de Lambayeque, el Proyecto Especial Olmos Tinajones (PEOT) y la Municipalidad Distrital de Olmos, que permitirá desarrollar inversiones en vivienda, saneamiento, movilidad urbana, espacios públicos y otras competencias del sector vivienda. \" loading=\"lazy\"></a></figure></div></div><div class=\"col s6 m12 \"><div class=\"nota-height card-content no-padding paddingtop10-600\"><div class=\"valign-wrapper marginbottom15\"><p class=\"red-text tex-darken-4\"><a href=\"/Economia\" class=\"seccionrojo\">Economía</a></p><div class=\"inlineblock right-align absolute right0 marginright5\"><div class=\"right\"><a href=\"https://www.facebook.com/sharer.php?u=https://elperuano.pe/noticia/233788-edificaran-mas-de-3000-viviendas-en-lambayeque\" class=\"customer share boton-compartir-index btn waves-effect waves-light light-grey-index z-depth-0\"><span class=\"fz10 fab fa-facebook-f\"></span></a><a href=\"https://twitter.com/share?url=https://elperuano.pe/noticia/233788-edificaran-mas-de-3000-viviendas-en-lambayeque\" class=\"customer share boton-compartir-index btn waves-effect waves-light light-grey-index z-depth-0\"><span class=\"fz10 fab fa-twitter\"></span></a><a href=\"http://www.linkedin.com/shareArticle?summary=&amp;ro=false&amp;url=https://elperuano.pe/noticia/233788-edificaran-mas-de-3000-viviendas-en-lambayeque\" class=\"customer share boton-compartir-index btn waves-effect waves-light light-grey-index z-depth-0\"><span class=\"fz10 fab fa-linkedin-in\"></span></a></div></div></div><span class=\"card-title2\"><a href=\"noticia/233788-edificaran-mas-de-3000-viviendas-en-lambayeque\" class=\"titular\">Edificarán más de 3,000 viviendas en Lambayeque</a></span><p class=\"truncate05 truncate03-800 truncate02-450 truncate02-390 displaynone-450 displaynone-390\"><a href=\"noticia/233788-edificaran-mas-de-3000-viviendas-en-lambayeque\" class=\"bajada\">El Ministerio de Vivienda, Construcción y Saneamiento (MVCS) suscribió una segunda adenda con el gobierno regional de Lambayeque, el Proyecto Especial Olmos Tinajones (PEOT) y la Municipalidad Distrital de Olmos, que permitirá desarrollar inversiones en vivienda, saneamiento, movilidad urbana, espacios públicos y otras competencias del sector vivienda. </a></p></div></div></div></div></div></article><article><div class=\"nota col s12 m12 l4 xl4 no-padding paddinglat10-600\"><div class=\"card z-depth-0 card-600 borderadius6-600 cursornoticia\"><div class=\"row no-margin\"><div class=\"col s6 m12 no-padding-600\"><div class=\"card-images\"><figure class=\"fotonoticia no-margin-600\"><a href=\"noticia/233779-grupo-de-trabajo-vera-temas-limitrofes\"><span class=\"card-title3\">19/01/2024</span><img src=\"https://elperuano.pe/fotografia/thumbnail/2024/01/19/000281379M.jpg\" class=\"fotonoticiah fotobackground\" alt=\"FOTOGRAFIA\" title=\"La Presidencia del Consejo de Ministros (PCM) instaló el grupo de trabajo que se encargará de la formulación de la Política Nacional de Demarcación y Organización Territorial, un paso importante para atender las diferencias que existen en esta materia en distintos puntos del país. \" loading=\"lazy\"></a></figure></div></div><div class=\"col s6 m12 \"><div class=\"nota-height card-content no-padding paddingtop10-600\"><div class=\"valign-wrapper marginbottom15\"><p class=\"red-text tex-darken-4\"><a href=\"/Politica\" class=\"seccionrojo\">Política</a></p><div class=\"inlineblock right-align absolute right0 marginright5\"><div class=\"right\"><a href=\"https://www.facebook.com/sharer.php?u=https://elperuano.pe/noticia/233779-grupo-de-trabajo-vera-temas-limitrofes\" class=\"customer share boton-compartir-index btn waves-effect waves-light light-grey-index z-depth-0\"><span class=\"fz10 fab fa-facebook-f\"></span></a><a href=\"https://twitter.com/share?url=https://elperuano.pe/noticia/233779-grupo-de-trabajo-vera-temas-limitrofes\" class=\"customer share boton-compartir-index btn waves-effect waves-light light-grey-index z-depth-0\"><span class=\"fz10 fab fa-twitter\"></span></a><a href=\"http://www.linkedin.com/shareArticle?summary=&amp;ro=false&amp;url=https://elperuano.pe/noticia/233779-grupo-de-trabajo-vera-temas-limitrofes\" class=\"customer share boton-compartir-index btn waves-effect waves-light light-grey-index z-depth-0\"><span class=\"fz10 fab fa-linkedin-in\"></span></a></div></div></div><span class=\"card-title2\"><a href=\"noticia/233779-grupo-de-trabajo-vera-temas-limitrofes\" class=\"titular\">Grupo de trabajo verá temas limítrofes</a></span><p class=\"truncate05 truncate03-800 truncate02-450 truncate02-390 displaynone-450 displaynone-390\"><a href=\"noticia/233779-grupo-de-trabajo-vera-temas-limitrofes\" class=\"bajada\">La Presidencia del Consejo de Ministros (PCM) instaló el grupo de trabajo que se encargará de la formulación de la Política Nacional de Demarcación y Organización Territorial, un paso importante para atender las diferencias que existen en esta materia en distintos puntos del país. </a></p></div></div></div></div></div></article><article><div class=\"nota col s12 m12 l4 xl4 no-padding paddinglat10-600\"><div class=\"card z-depth-0 card-600 borderadius6-600 cursornoticia\"><div class=\"row no-margin\"><div class=\"col s6 m12 no-padding-600\"><div class=\"card-images\"><figure class=\"fotonoticia no-margin-600\"><a href=\"noticia/233778-peru-y-ee-uu-articulan-acciones-de-seguridad\"><span class=\"card-title3\">19/01/2024</span><img src=\"https://elperuano.pe/fotografia/thumbnail/2024/01/19/000281378M.jpg\" class=\"fotonoticiah fotobackground\" alt=\"FOTOGRAFIA\" title=\"Con la finalidad de articular acciones, fortalecer estrategias de combate contra el tráfico ilícito de drogas y coordinar proyectos a favor de la seguridad ciudadana, el ministro del Interior, Víctor Torres, sostuvo una reunión con el director de la Sección de Asuntos Antinarcóticos y Aplicación de la Ley de la Embajada de los Estados Unidos de América, Glenn Tosten.\" loading=\"lazy\"></a></figure></div></div><div class=\"col s6 m12 \"><div class=\"nota-height card-content no-padding paddingtop10-600\"><div class=\"valign-wrapper marginbottom15\"><p class=\"red-text tex-darken-4\"><a href=\"/Politica\" class=\"seccionrojo\">Política</a></p><div class=\"inlineblock right-align absolute right0 marginright5\"><div class=\"right\"><a href=\"https://www.facebook.com/sharer.php?u=https://elperuano.pe/noticia/233778-peru-y-ee-uu-articulan-acciones-de-seguridad\" class=\"customer share boton-compartir-index btn waves-effect waves-light light-grey-index z-depth-0\"><span class=\"fz10 fab fa-facebook-f\"></span></a><a href=\"https://twitter.com/share?url=https://elperuano.pe/noticia/233778-peru-y-ee-uu-articulan-acciones-de-seguridad\" class=\"customer share boton-compartir-index btn waves-effect waves-light light-grey-index z-depth-0\"><span class=\"fz10 fab fa-twitter\"></span></a><a href=\"http://www.linkedin.com/shareArticle?summary=&amp;ro=false&amp;url=https://elperuano.pe/noticia/233778-peru-y-ee-uu-articulan-acciones-de-seguridad\" class=\"customer share boton-compartir-index btn waves-effect waves-light light-grey-index z-depth-0\"><span class=\"fz10 fab fa-linkedin-in\"></span></a></div></div></div><span class=\"card-title2\"><a href=\"noticia/233778-peru-y-ee-uu-articulan-acciones-de-seguridad\" class=\"titular\">Perú y EE. UU. articulan acciones de seguridad</a></span><p class=\"truncate05 truncate03-800 truncate02-450 truncate02-390 displaynone-450 displaynone-390\"><a href=\"noticia/233778-peru-y-ee-uu-articulan-acciones-de-seguridad\" class=\"bajada\">Con la finalidad de articular acciones, fortalecer estrategias de combate contra el tráfico ilícito de drogas y coordinar proyectos a favor de la seguridad ciudadana, el ministro del Interior, Víctor Torres, sostuvo una reunión con el director de la Sección de Asuntos Antinarcóticos y Aplicación de la Ley de la Embajada de los Estados Unidos de América, Glenn Tosten.</a></p></div></div></div></div></div></article><article><div class=\"nota col s12 m12 l4 xl4 no-padding paddinglat10-600\"><div class=\"card z-depth-0 card-600 borderadius6-600 cursornoticia\"><div class=\"row no-margin\"><div class=\"col s6 m12 no-padding-600\"><div class=\"card-images\"><figure class=\"fotonoticia no-margin-600\"><a href=\"noticia/233774-corea-del-norte-asegura-que-realizo-un-ensayo-con-un-sistema-de-armamento-nuclear-submarino\"><span class=\"card-title3\">18/01/2024</span><img src=\"https://elperuano.pe/fotografia/thumbnail/2024/01/18/000281372M.jpg\" class=\"fotonoticiah fotobackground\" alt=\"FOTOGRAFIA\" title=\"Corea del Norte informó que probó un &quot;sistema de armamento nuclear submarino&quot; en respuesta a unos ejercicios navales conjuntos de Washington, Seúl y Tokio, en los que participó un portaviones nuclear estadounidense.\" loading=\"lazy\"></a></figure></div></div><div class=\"col s6 m12 \"><div class=\"nota-height card-content no-padding paddingtop10-600\"><div class=\"valign-wrapper marginbottom15\"><p class=\"red-text tex-darken-4\"><a href=\"/Mundo\" class=\"seccionrojo\">Mundo</a></p><div class=\"inlineblock right-align absolute right0 marginright5\"><div class=\"right\"><a href=\"https://www.facebook.com/sharer.php?u=https://elperuano.pe/noticia/233774-corea-del-norte-asegura-que-realizo-un-ensayo-con-un-sistema-de-armamento-nuclear-submarino\" class=\"customer share boton-compartir-index btn waves-effect waves-light light-grey-index z-depth-0\"><span class=\"fz10 fab fa-facebook-f\"></span></a><a href=\"https://twitter.com/share?url=https://elperuano.pe/noticia/233774-corea-del-norte-asegura-que-realizo-un-ensayo-con-un-sistema-de-armamento-nuclear-submarino\" class=\"customer share boton-compartir-index btn waves-effect waves-light light-grey-index z-depth-0\"><span class=\"fz10 fab fa-twitter\"></span></a><a href=\"http://www.linkedin.com/shareArticle?summary=&amp;ro=false&amp;url=https://elperuano.pe/noticia/233774-corea-del-norte-asegura-que-realizo-un-ensayo-con-un-sistema-de-armamento-nuclear-submarino\" class=\"customer share boton-compartir-index btn waves-effect waves-light light-grey-index z-depth-0\"><span class=\"fz10 fab fa-linkedin-in\"></span></a></div></div></div><span class=\"card-title2\"><a href=\"noticia/233774-corea-del-norte-asegura-que-realizo-un-ensayo-con-un-sistema-de-armamento-nuclear-submarino\" class=\"titular\">Corea del Norte asegura que realizó un ensayo con un sistema de armamento nuclear submarino</a></span><p class=\"truncate05 truncate03-800 truncate02-450 truncate02-390 displaynone-450 displaynone-390\"><a href=\"noticia/233774-corea-del-norte-asegura-que-realizo-un-ensayo-con-un-sistema-de-armamento-nuclear-submarino\" class=\"bajada\">Corea del Norte informó que probó un \"sistema de armamento nuclear submarino\" en respuesta a unos ejercicios navales conjuntos de Washington, Seúl y Tokio, en los que participó un portaviones nuclear estadounidense.</a></p></div></div></div></div></div></article></section>\\n                    </div>\\n                    <!-- ASIDE LATERAL -->\\n                    <aside class=\"col s12 m5 l3 xl3\">\\n                        <div class=\"center\">\\n                            \\n                            <!-- EDICION DIGITAL 240X280 PX -->\\n                            <div class=\"card blue-grey darken-4 z-depth-0\" id=\"ediciondigital\">\\n                                <div class=\"card-image \">\\n                                    <div class=\"row paddinglat15 marginbottom0\">\\n                                        <div class=\"col s12  margintopbottom10\">\\n                                            <p class=\"white-text fw300 margintop5 \">Descargue edición</p>\\n                                            <a href=\"http://epdoc2.elperuano.pe/EpPo/DescargaNO.asp?Referencias=RUMyMDIwMDNlY29ub21pa2FfMzQzLnBkZg==\">\\n                                                <img src=\"https://elperuano.pe/WEBDOP_Files/image/silver_back.png\" class=\"responsive-img width100\" id=\"descargaDOP\" alt=\"\" loading=\"lazy\">\\n                                            </a>\\n                                        </div>\\n                                        <a href=\"edicion/busqueda\" class=\"waves-effect waves-light btn fz08 red darken-4 marginbottom20 white-text\">Ediciones anteriores</a>\\n                                    </div>\\n                                </div>\\n                            </div>\\n\\n                            <!-- PUBLICIDAD CONTRATADO -->\\n                            <div class=\"contratado\" id=\"bannersLateral\">\\n                                <!-- PRELOADER -->\\n                                <div class=\"ball-pulse\" style=\"margin:auto\">\\n                                    <div class=\"ball\"></div>\\n                                    <div class=\"ball\"></div>\\n                                    <div class=\"ball\"></div>\\n                                    <div class=\"ball\"></div>\\n                                </div>\\n                            </div>\\n\\n                            <!-- SUPLEMENTOS 240X280 PX -->\\n                            <div class=\"card blue-grey darken-4 z-depth-0\" id=\"edicionSuplementos\">\\n                            </div>\\n                            <!-- PUBLICIDAD CONTRATADO -->\\n                            <div class=\"contratado\">\\n                                <div class=\"card z-depth-0\">\\n                                    <div class=\"card-image valign-wrapper\">\\n                                        <a href=\"https://www.radionacional.com.pe/\" target=\"_blank\" style=\"padding: 0 5px 0 0;\"><img src=\"/static/img/log-nacional.png\" class=\"marginauto\" alt=\"Lorem\" title=\"Lorem\" style=\"border: 2px solid #ff0432;border-radius: 4px;\" loading=\"lazy\"></a>\\n                                        <a href=\"https://www.tvperu.gob.pe/\" target=\"_blank\" style=\"padding: 0 0 0 5px;\"><img src=\"/static/img/log-tvpe.png\" class=\"marginauto\" alt=\"Lorem\" title=\"Lorem\" style=\"border: 2px solid #ff0432;border-radius: 4px;\" loading=\"lazy\"></a>\\n                                    </div>\\n                                </div>\\n                            </div>\\n\\n                            \\n\\n\\n                            <!-- PUBLICIDAD PROPIA-GOOGLE -->\\n                            \\n                            <!-- ULTIMAS NOTICIAS -->\\n                            <div class=\"ultimasnoticias\" id=\"ultimasnoticiaandina\">\\n                                <!-- PRELOADER -->\\n                                <div class=\"ball-pulse\" style=\"margin:auto\">\\n                                    <div class=\"ball\"></div>\\n                                    <div class=\"ball\"></div>\\n                                    <div class=\"ball\"></div>\\n                                    <div class=\"ball\"></div>\\n                                </div>\\n                            </div>\\n                            <!-- EDITORIAL Y OPINION-->\\n                            <div id=\"contenedoreditorial\">\\n                                <!-- PRELOADER -->\\n                                <div class=\"ball-pulse\" style=\"margin:auto\">\\n                                    <div class=\"ball\"></div>\\n                                    <div class=\"ball\"></div>\\n                                    <div class=\"ball\"></div>\\n                                    <div class=\"ball\"></div>\\n                                </div>\\n                            </div>\\n\\n                        </div>\\n                    </aside>\\n                    <!-- FIN ASIDE LATERAL -->\\n                </div>\\n            </div>\\n\\n        </div>\\n    </div>\\n</section>\\n<!-- FIN SECCION DE NOTICIAS LAS ULTIMAS -->\\n<!-- GALERIA FOTOGRAFICA -->\\n<section>\\n    <div class=\"container\">\\n        <div class=\"card no-margin z-depth-03  grey darken-4\" id=\"galeriafotografica\">\\n\\n        </div>\\n    </div>\\n</section>\\n<!-- FIN GALERIA FOTOGRAFICA -->\\n<!-- NOTICIAS MIXTAS DE SECCIONES -->\\n<section>\\n    <div class=\"container\">\\n        <div class=\"card no-margin z-depth-03 \">\\n            <div class=\"section \">\\n                <div class=\"row\">\\n                    <div class=\"col s12 no-padding-600 no-padding-990\">\\n                        <div class=\"col s12 no-padding\">\\n                            <div class=\"col s12\">\\n                                <h5>Secciones</h5>\\n                                <div class=\"divider\"></div>\\n                            </div>\\n                            <div id=\"noticiasSecciones\">\\n                                <!-- PRELOADER -->\\n                                <div class=\"ball-pulse\" style=\"margin:auto\">\\n                                    <div class=\"ball\"></div>\\n                                    <div class=\"ball\"></div>\\n                                    <div class=\"ball\"></div>\\n                                    <div class=\"ball\"></div>\\n                                </div>\\n                            </div>\\n                        </div>\\n                    </div>\\n                </div>\\n            </div>\\n        </div>\\n    </div>\\n</section>\\n<!-- FIN NOTICIAS MIXTAS DE SECCIONES -->\\n<!-- TAG ANALITICA -->\\n<!-- CODIGO ANALITICA DOP:UA-25020932-1  -->\\n<script>\\n    (function (i, s, o, g, r, a, m) {\\n        i[\\'GoogleAnalyticsObject\\'] = r; i[r] = i[r] || function () {\\n            (i[r].q = i[r].q || []).push(arguments)\\n        }, i[r].l = 1 * new Date(); a = s.createElement(o),\\n            m = s.getElementsByTagName(o)[0]; a.async = 1; a.src = g; m.parentNode.insertBefore(a, m)\\n    })(window, document, \\'script\\', \\'//www.google-analytics.com/analytics.js\\', \\'ga\\');\\n\\n\\n    ga(\\'create\\', \\'UA-25020932-1\\', \\'auto\\', { \\'allowLinker\\': true });\\n    ga(\\'require\\', \\'linker\\');\\n    ga(\\'linker:autoLink\\', [\\'elperuano.pe/home\\']);\\n    ga(\\'send\\', \\'pageview\\');\\n\\n</script>\\n<!-- TAG ANALITICA -->\\n\\n\\n    <!-- FIN CONTENIDO PORTAL -->\\n    <!-- FOOTER -->\\n    <footer>\\n        <div class=\"container\">\\n            <div class=\"card no-margin z-depth-03 \">\\n                <div class=\"page-footer dawn-pink black-text\">\\n                    <div class=\"container\">\\n                        <div class=\"row no-margin\">\\n                            <div class=\"col s12 \">\\n                                <div class=\"center\">\\n                                    <div class=\"col s6 m4 l2 xl2 paddinglat5 margintopbottom5 grey-text text-darken-4\"><a href=\"https://www.editoraperu.com.pe/EditoraP/tarifas.html\" class=\"waves-effect waves-light btn light-orange width100 z-depth-0\">Tarifas</a></div>\\n                                    <div class=\"col s6 m4 l2 xl2 paddinglat5 margintopbottom5 grey-text text-darken-4\"><a href=\"https://www.editoraperu.com.pe/EditoraP/gestion-comercial-suscripciones.html\" class=\"waves-effect waves-light btn light-orange width100 z-depth-0\">Suscripciones</a></div>\\n                                    <div class=\"col s6 m4 l2 xl2 paddinglat5 margintopbottom5 grey-text text-darken-4\"><a href=\"https://www.editoraperu.com.pe/EditoraP/tarifas-dopagweb.html\" class=\"waves-effect waves-light btn light-orange width100 z-depth-0\">Publicidad Web</a></div>\\n                                    \\n                                    <div class=\"col s6 m4 l2 xl2 paddinglat5 margintopbottom5 grey-text text-darken-4\"><a href=\"https://www.editoraperu.com.pe/EditoraP/gestion-operadores-judiciales.html\" class=\"waves-effect waves-light btn light-orange width100 z-depth-0\">Operadores</a></div>\\n                                    <div class=\"col s6 m4 l2 xl2 paddinglat5 margintopbottom5 grey-text text-darken-4\"><a href=\"https://transparencia.editoraperu.com.pe/Mapa/\" class=\"waves-effect waves-light btn light-orange width100 z-depth-0\">Transparencia</a></div>\\n                                </div>\\n                            </div>\\n                            <div class=\"col s12 margintopbottom25\">\\n                                <div class=\"col s12 m4 l4 xl4 margintopbottom30\">\\n                                    <div class=\"center\">\\n                                        <img src=\"/static/img/editoraperu_logo.svg\" class=\"editoraperu_logo marginauto \" alt=\"EDITORA PERÚ\" title=\"Editora Perú\" loading=\"lazy\">\\n                                    </div>\\n                                </div>\\n                                <div class=\"col s12 m8 l8 xl8 no-padding fw200\">\\n                                    <ul class=\"paddinglat10 margintop0 textaligncenter-600\">\\n                                        <li>Presidente de Directorio: Hugo David Aguirre Castañeda</li>\\n                                        <li>Gerente General(e): Félix Alberto Paz Quiroz</li>\\n                                        <li>Director(e): Félix Alberto Paz Quiroz</li>\\n                                        <li>Editora Perú Av. Alfonso Ugarte 873, Lima 1 Central Telefónica (51-1) 3150400</li>\\n                                        <li>Informaciones (51-1) 315-0400 anexos 2206 / 2218 / 2298</li>\\n                                        <li>Empresa Peruana de Servicios Editoriales S.A. RUC 20100072751</li>\\n                                    </ul>\\n                                </div>\\n                            </div>\\n                        </div>\\n                    </div>\\n                </div>\\n            </div>\\n        </div>\\n\\n    </footer>\\n\\n<script>\\nfunction redojs(){\\nconst boxes = document.querySelectorAll(\"img\")\\nboxes.forEach(box => {\\nbox.setAttribute(\"loading\",\"lazy\");\\nconsole.log(\"works\")\\n});\\n}\\nsetTimeout(redojs,1500);\\n\\n/*\\nfunction rewriteLinksToSubdomain() {\\n  [...document.querySelectorAll(\"a\")].forEach((a) => {\\n    if (a.href.includes(\"https://elperuano.pe\")) {\\n      a.href = a.href.replace(\"https://\", \"https://www.\");\\n    }\\n  });\\n  [...document.querySelectorAll(\"img\")].forEach((img) => {\\n    if (img.src.includes(\"https://elperuano.pe\")) {\\n      img.src = img.src.replace(\"https://\", \"https://www.\");\\n      console.log(\"works\");\\n    }\\n  });\\n}\\njQuery(window).on(\"load\", function () {\\n  rewriteLinksToSubdomain();\\n  setInterval(rewriteLinksToSubdomain, 5000);\\n});\\n\\n*/\\nconsole.log(\"off grid\")\\n/*\\nfunction rewriteLinksToSubdomain() {\\n    [...document.querySelectorAll(\"a\")].forEach((a) => {\\n      if (a.href.includes(\"https://elperuano.pe\")) {\\n        a.href = a.href.replace(\"https://\", \"https://www.\");\\n      }\\n    });\\n    [...document.querySelectorAll(\"img\")].forEach((img) => {\\n      if (img.src.includes(\"https://www.elperuano.pe\")) {\\n        img.src = img.src.replace(\"https://www.\", \"https://\");\\n      }\\n    });\\n    [...document.querySelectorAll(\"img\")].forEach((img) => {\\n      if (img.src.includes(\"https://elperuano.pe\") && !img.src.includes(\"3c88bf7f39d033bf4828\")) {\\n        img.src = img.src.replace(\"https://\", \"https://3c88bf7f39d033bf4828.ucr.io/https://\");\\n        console.log(\"works\");\\n      }\\n    });\\n}\\njQuery(window).on(\"load\", function () {\\n    rewriteLinksToSubdomain();\\n    setInterval(rewriteLinksToSubdomain, 2000);\\n});\\n*/\\n\\n\\n\\n</script>\\n\\n<script type=\"text/javascript\" src=\"/bnith__F_DYGcFeUM4NAeQZAesEAfeU-77cTL7Gx2mJHvwfiGwTJPeqnVC8oK6Sth_j_yJS\"></script> <script language=\"JavaScript\" type=\"text/javascript\">const _0x35e8=[\\'visitorId\\',\\'18127kSXadA\\',\\'356575NPKVMA\\',\\'7306axxsAH\\',\\'get\\',\\'657833TzFjkt\\',\\'717302TQdBjl\\',\\'34lMHocq\\',\\'x-bni-rncf=1705681629827;expires=Thu, 01 Jan 2037 00:00:00 UTC;path=/;\\',\\'61XMWbpU\\',\\'cookie\\',\\';expires=Thu, 01 Jan 2037 00:00:00 UTC;path=/;\\',\\'then\\',\\'651866OSUgMa\\',\\'811155xdatvf\\',\\'x-bni-fpc=\\'];function _0x258e(_0x5954fe,_0x43567d){return _0x258e=function(_0x35e81f,_0x258e26){_0x35e81f=_0x35e81f-0x179;let _0x1280dc=_0x35e8[_0x35e81f];return _0x1280dc;},_0x258e(_0x5954fe,_0x43567d);}(function(_0x5674de,_0xdcf1af){const _0x512a29=_0x258e;while(!![]){try{const _0x55f636=parseInt(_0x512a29(0x17b))+-parseInt(_0x512a29(0x179))*parseInt(_0x512a29(0x17f))+-parseInt(_0x512a29(0x183))+-parseInt(_0x512a29(0x184))+parseInt(_0x512a29(0x187))*parseInt(_0x512a29(0x17d))+parseInt(_0x512a29(0x188))+parseInt(_0x512a29(0x17c));if(_0x55f636===_0xdcf1af)break;else _0x5674de[\\'push\\'](_0x5674de[\\'shift\\']());}catch(_0xd3a1ce){_0x5674de[\\'push\\'](_0x5674de[\\'shift\\']());}}}(_0x35e8,0x6b42d));function getClientIdentity(){const _0x47e86b=_0x258e,_0x448fbc=FingerprintJS[\\'load\\']();_0x448fbc[_0x47e86b(0x182)](_0x4bb924=>_0x4bb924[_0x47e86b(0x17a)]())[_0x47e86b(0x182)](_0x2f8ca1=>{const _0x44872c=_0x47e86b,_0xa48f50=_0x2f8ca1[_0x44872c(0x186)];document[_0x44872c(0x180)]=_0x44872c(0x185)+_0xa48f50+_0x44872c(0x181),document[_0x44872c(0x180)]=_0x44872c(0x17e);});}getClientIdentity();</script><iframe src=\"https://0b2c64bee626c64c4abdf7091e95dc94.safeframe.googlesyndication.com/safeframe/1-0-40/html/container.html\" style=\"visibility: hidden; display: none;\"></iframe>\\n\\n\\n<div class=\"sidenav-overlay\"></div><div class=\"drag-target\"></div><iframe name=\"google_ads_top_frame\" id=\"google_ads_top_frame\" style=\"display: none; position: fixed; left: -999px; top: -999px; width: 0px; height: 0px;\"></iframe><iframe src=\"https://www.google.com/recaptcha/api2/aframe\" width=\"0\" height=\"0\" style=\"display: none;\"></iframe><div><iframe class=\"truvid-protected-c\" height=\"0\" width=\"0\" marginwidth=\"0\" marginheight=\"0\" scrolling=\"no\" frameborder=\"0\" src=\"https://stg.truvidplayer.com/v5.832/prtct.php?val=c&amp;geo=PE&amp;timestamp=1705681633&amp;level=1\" style=\"border: 0; display: none;\"></iframe></div><div style=\"position: fixed; bottom: -360px; width: 640px; height: 360px; right: 0px;\"><div class=\"trv-player-container\"><div class=\"trv-wrapper\" style=\"overflow: hidden;\"><div id=\"br_video_player_affc5330365711229dfb318480a94f3264ab5b5e\" class=\"trvd_video_player\"><div class=\"media-player\"><div class=\"trv-video\"><video disableremoteplayback=\"\" webkit-playsinline=\"\" playsinline=\"\" muted=\"\" preload=\"metadata\" class=\"media-video\"></video><div class=\"truvid_ima_container\" id=\"truvid_ima_container90327\" style=\"display: none; text-align: left;\"><div style=\"position: absolute;\"><div style=\"display: none;\"><video title=\"Advertisement\" webkit-playsinline=\"true\" playsinline=\"true\" style=\"background-color: rgb(0, 0, 0); position: absolute; width: 100%; height: 100%; left: 0px; top: 0px;\"></video><div style=\"position: absolute; width: 100%; height: 100%; left: 0px; top: 0px;\"></div></div><div style=\"display: none;\"><video title=\"Advertisement\" webkit-playsinline=\"true\" playsinline=\"true\" style=\"background-color: rgb(0, 0, 0); position: absolute; width: 100%; height: 100%; left: 0px; top: 0px;\"></video><div style=\"position: absolute; width: 100%; height: 100%; left: 0px; top: 0px;\"></div></div><iframe src=\"https://imasdk.googleapis.com/js/core/bridge3.613.0_en.html#goog_104992585\" allowfullscreen=\"\" allow=\"autoplay\" id=\"goog_104992585\" style=\"border: 0px; opacity: 0; margin: 0px; padding: 0px; position: relative; color-scheme: light;\"></iframe><iframe sandbox=\"allow-scripts allow-same-origin\" style=\"display: none;\"></iframe></div></div></div><div class=\"trv-overlay\" style=\"display: block;\"></div><div class=\"volume-container\"><div style=\"position: relative;\"><div class=\"volume-bar\"><div class=\"active-volume\" style=\"height: 0%;\"></div></div></div><div class=\"button-holder\"><div class=\"volumeHandle\" style=\"top: 100%;\"></div></div></div><div class=\"trv-media-controls\" style=\"display: block;\"><div class=\"trv-progress-bar\"><div class=\"trv-progress-padding\"></div><div class=\"trv-buffered\"></div><div class=\"trv-play-progress\"></div><div class=\"trv-hover-progress\"></div><div class=\"button-holder\"><div class=\"trv-progressBtn\"></div></div></div><button class=\"togglePlayPause brpBtn sprite-background\" type=\"button\" title=\"Play\" style=\"background-position: -82px -8px;\">Play</button><button class=\"volume brpBtn sprite-background\" type=\"button\" title=\"volume\" style=\"background-position: -115px -10px;\">volume</button><span class=\"trv-currentTime\">00:00</span><span class=\"timeDivider\">/</span><span class=\"trv-duration\">00:00</span><span class=\"videoTitle\" title=\"truvid content gif - new\" style=\"display: none;\">truvid content gif - new</span><button class=\"BR brpBtn sprite-background\" type=\"button\" title=\"Truvid.com\">Truvid</button><button class=\"fullScreen brpBtn sprite-background\" style=\"display:none;\" type=\"button\" title=\"Full Screen\">fullScreen</button></div><div class=\"trv-poster\" style=\"display: none;\"></div><div class=\"video-overlay\" style=\"display: block;\"><div class=\"overlayBtnWrapper\" style=\"display: block;\"><div class=\"overlay-backwards-wrapper\"><svg class=\"small-nav small-nav-l overlay-backwards\" stroke=\"#FFFFFF\" style=\"display: none;\"><path d=\"m 11,20 L 6,25 L 11,30\" stroke-width=\"2\" fill=\"none\" stroke-linecap=\"round\"></path></svg></div><div class=\"overlay-play-wrapper\"><div class=\"overlay-play-pause\" style=\"display: block; width: 65px; height: 65px;\"><svg version=\"1.1\" xmlns=\"http://www.w3.org/2000/svg\" xmlns:xlink=\"http://www.w3.org/1999/xlink\" x=\"0px\" y=\"0px\" viewBox=\"0 0 1000 1000\" enable-background=\"new 0 0 1000 1000\" xml:space=\"preserve\" fill=\"#FFFFFF\"><g><path d=\"M500,990C229.8,990,10,770.2,10,500C10,229.8,229.8,10,500,10c270.2,0,490,219.8,490,490C990,770.2,770.2,990,500,990z M500,56.7C255.5,56.7,56.7,255.5,56.7,500c0,244.5,198.9,443.3,443.3,443.3S943.3,744.5,943.3,500C943.3,255.5,744.5,56.7,500,56.7z\"></path><path d=\"M348.3,220l420,280l-420,280V220z\"></path></g>\\n</svg></div></div><div class=\"overlay-forward-wrapper\"><svg class=\"small-nav small-nav-r overlay-forward\" stroke=\"#FFFFFF\" style=\"display: none;\"><path d=\"m 9,20 L 14,25 L 9,30\" stroke-width=\"2\" fill=\"none\" stroke-linecap=\"round\"></path></svg></div></div></div><div class=\"links-overlay\"><div class=\"links-button\">Read Article</div></div></div><style>#br_video_player_affc5330365711229dfb318480a94f3264ab5b5e .media-video, #br_video_player_affc5330365711229dfb318480a94f3264ab5b5e .trv-media-controls, #br_video_player_affc5330365711229dfb318480a94f3264ab5b5e .video-overlay, #br_video_player_affc5330365711229dfb318480a94f3264ab5b5e .info-overlay {  -webkit-touch-callout: none; -webkit-user-select: none; -khtml-user-select: none; -moz-user-select: none; -ms-user-select: none; -o-user-select: none; user-select: none; }#br_video_player_affc5330365711229dfb318480a94f3264ab5b5e .sprite-background { background: transparent url(\"data:image/png;base64,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\") no-repeat 0 0; }#br_video_player_affc5330365711229dfb318480a94f3264ab5b5e .brpBtn { text-indent: -9999px; width: 10px; height: 18px; border: none; margin-top: 18px; padding: 0; outline: none; cursor: pointer; box-shadow: none; background-color: transparent !important; display: inline-block; }#br_video_player_affc5330365711229dfb318480a94f3264ab5b5e .button-holder { position: relative; left: 0; }#br_video_player_affc5330365711229dfb318480a94f3264ab5b5e.trvdfloater { z-index:1500; margin: 0px !important;}#br_video_player_affc5330365711229dfb318480a94f3264ab5b5e .trv-floating-menu { position: absolute; z-index:9;width:24px;height:24px; left:0; background: url(\"data:image/png;base64,iVBORw0KGgoAAAANSUhEUgAAABgAAAAYCAQAAABKfvVzAAAABGdBTUEAALGPC/xhBQAAACBjSFJNAAB6JgAAgIQAAPoAAACA6AAAdTAAAOpgAAA6mAAAF3CculE8AAAAAmJLR0QAAKqNIzIAAAAJcEhZcwAADdcAAA3XAUIom3gAAAAHdElNRQfiBRgKCyeBfAlfAAAAPklEQVQ4y2NgwAD/Wf8n/j/9//T/xP+sDMSA/4n/YSCROA2n4RpOY8oyEWUGtZ1EqqcHIRiNuCEKRiMOAwAAAsCVIyMyzqoAAAAldEVYdGRhdGU6Y3JlYXRlADIwMTgtMDUtMjRUMTA6MTE6MzkrMDI6MDD/4PcGAAAAJXRFWHRkYXRlOm1vZGlmeQAyMDE4LTA1LTI0VDEwOjExOjM5KzAyOjAwjr1PugAAABl0RVh0U29mdHdhcmUAd3d3Lmlua3NjYXBlLm9yZ5vuPBoAAAAASUVORK5CYII=\"); opacity:0.8; margin-top:0;margin-left:2px;cursor:pointer;top:29px; }#br_video_player_affc5330365711229dfb318480a94f3264ab5b5e .info-overlay { background-color: #000000;opacity: 0.8;display: none;text-align: left;color: #ffffff;font-size: 14px;z-index:9; position:absolute;height:170px;width:135px;left:0;top:0; }#br_video_player_affc5330365711229dfb318480a94f3264ab5b5e .info-overlay .info-text {height:100%;width: 90%;padding: 9px;text-align: justify;margin: 0 auto;}#br_video_player_affc5330365711229dfb318480a94f3264ab5b5e .info-overlay .overlay-info-close {cursor:pointer;color: #ffffff;bottom: 3px;font-size: 16px;text-align:right;margin-right:6px;margin-top:6px;}#br_video_player_affc5330365711229dfb318480a94f3264ab5b5e .info-overlay a,.info-overlay a:visited,.info-overlay a:hover,.info-overlay a:active {color:#ffffff;display:block;  text-decoration: none;margin-top:7px;margin-left:9px;}#br_video_player_affc5330365711229dfb318480a94f3264ab5b5e .info-overlay a:hover { text-decoration: underline; }#br_video_player_affc5330365711229dfb318480a94f3264ab5b5e * { -webkit-tap-highlight-color: rgba(0,0,0,0);-webkit-tap-highlight-color: transparent; /* For some Androids */ box-sizing:content-box;-moz-box-sizing:content-box;-webkit-box-sizing:content-box;-webkit-transform:unset; overflow: unset;overflow-y:unset;position:unset;margin:unset;}#br_video_player_affc5330365711229dfb318480a94f3264ab5b5e {direction:ltr; height: 360px; width: 640px; background-color: #000000; position: relative; overflow: visible; opacity: 1;z-index:1; }.trv-close-container { position:fixed;z-index:999999999999999;}.trv-close-container .trv-close { width: 15px; height: 15px; padding: 4px; color: #fff; text-align: center; font-size:16px;position:absolute;visibility: visible;z-index:4999; cursor: pointer;font-weight:400;font-family: arial;-moz-user-select: none; -khtml-user-select: none; -webkit-user-select: none; -ms-user-select: none; user-select: none;line-height: 18px;box-sizing: unset; }#br_video_player_affc5330365711229dfb318480a94f3264ab5b5e .truvid_ima_container video { display:block; height: 100% !important; }#br_video_player_affc5330365711229dfb318480a94f3264ab5b5e .media-video { height: 100% !important; width: 100% !important; left: 0%; margin-top: 0; -webkit-transition: all 0.5s cubic-bezier(0.23, 0.36, 0.45, 0.94); -moz-transition: all 0.5s cubic-bezier(0.23, 0.36, 0.45, 0.94); -o-transition: all 0.5s cubic-bezier(0.23, 0.36, 0.45, 0.94);-ms-transition: all 0.5s cubic-bezier(0.23, 0.36, 0.45, 0.94); transition: all 0.5s cubic-bezier(0.23, 0.36, 0.45, 0.94); -ms-transition: all 0.5s cubic-bezier(0.23, 0.36, 0.45, 0.94); object-fit: contain; cursor: pointer; position: absolute; background-color: #000000; }#br_video_player_affc5330365711229dfb318480a94f3264ab5b5e .media-player { font-family: arial; }#br_video_player_affc5330365711229dfb318480a94f3264ab5b5e .trv-overlay { width:100%;height:100%;position:absolute;display:block;opacity:1;visibility: visible;cursor:pointer;}NaNbr_video_player_affc5330365711229dfb318480a94f3264ab5b5e .video-overlay { display: none; width: 100%; height: 100%;}NaNbr_video_player_affc5330365711229dfb318480a94f3264ab5b5e .info-overlay { display: none; width: 100%; height: 100%;}#br_video_player_affc5330365711229dfb318480a94f3264ab5b5e .overlayBtn { vertical-align: bottom !important; width: 25px; height: 28px; outline: 0; border: none; bottom: 21.5px; position: relative; padding: 0; }#br_video_player_affc5330365711229dfb318480a94f3264ab5b5e .overlayBtnWrapper { margin: -38px 0 0 0 !important; width: 100%; top: 50%; height: 50px; display:none; position: absolute; left:0px; text-align: center; z-index: 9; opacity: 1; cursor: pointer;  transition: opacity 3s ease-in-out; -webkit-transition: opacity 3s ease-in-out; -o-transition: opacity 3s ease-in-out; -moz-transition: opacity 3s ease-in-out; -ms-transition: opacity 3s ease-in-out; }#br_video_player_affc5330365711229dfb318480a94f3264ab5b5e .overlayBtnWrapper>div { display: inline-block; }#br_video_player_affc5330365711229dfb318480a94f3264ab5b5e .overlay-play-wrapper { border-radius: 100%; cursor: pointer;position:relative;top:50%;transform: translateY(-50%);}#br_video_player_affc5330365711229dfb318480a94f3264ab5b5e .overlay-play-pause { width: 80px; height: 80px; }#br_video_player_affc5330365711229dfb318480a94f3264ab5b5e .overlay-backwards-wrapper { position:absolute; margin-right: 35px; width: 8%;left:0px; }#br_video_player_affc5330365711229dfb318480a94f3264ab5b5e .overlay-backwards { cursor: pointer; left:0px; background-position: -441px -5px; }#br_video_player_affc5330365711229dfb318480a94f3264ab5b5e .overlay-forward-wrapper { position: absolute; right: 0px; }#br_video_player_affc5330365711229dfb318480a94f3264ab5b5e .overlay-forward { cursor: pointer; background-position: -472px -5px; }#br_video_player_affc5330365711229dfb318480a94f3264ab5b5e .small-nav-l { left: 0; border-top-right-radius: 10px;border-bottom-right-radius: 10px;  }#br_video_player_affc5330365711229dfb318480a94f3264ab5b5e .small-nav-r { right: 0;border-top-left-radius: 10px;border-bottom-left-radius: 10px; }#br_video_player_affc5330365711229dfb318480a94f3264ab5b5e .small-nav { top: 50%;stroke: #1EAAF1; height: 50px;width: 20px;position: absolute;;color: white;background-color: rgba(255, 255, 255, 0.85);display: block;cursor: pointer;-webkit-touch-callout: none;webkit-user-select: none;-khtml-user-select: none;-moz-user-select: none;-ms-user-select: none;user-select: none;z-index: 3;}#br_video_player_affc5330365711229dfb318480a94f3264ab5b5e .trv-poster { position: absolute;display: block;opacity: 1;visibility: visible;width: 100%;height: 100%;background: #000 no-repeat 50% 50%; background-size: cover;cursor:pointer;}#br_video_player_affc5330365711229dfb318480a94f3264ab5b5e .links-overlay { position: absolute; right: 0px; height: 24px; top: 20px;display:none;width:130px;}#br_video_player_affc5330365711229dfb318480a94f3264ab5b5e .links-overlay .links-button { background-color: #cc0000; width: auto; height: 100%; opacity: 0.75;  border-radius: 20px 0 0 20px; padding-left: 17px; padding-top: 7px; font-size: 11pt; color: #FCFCFC; line-height: 17px;cursor:default;webkit-transition: background-color 0.25s ease-in-out;-moz-transition: background-color 0.25s ease-in-out;-o-transition: background-color 0.25s ease-in-out; -khtml-transition: background-color 0.25s ease-in-out; transition: background-color 0.25s ease-in-out;-webkit-touch-callout: none; -webkit-user-select: none; -khtml-user-select: none; -moz-user-select: none; -ms-user-select: none; -o-user-select: none; user-select: none;text-align:left;box-sizing: initial;letter-spacing:0;}#br_video_player_affc5330365711229dfb318480a94f3264ab5b5e .links-overlay .links-button.highlight { background-color:#cc0000;opacity:1; padding-bottom:0;box-shadow: inset 0 0 0 2px #fff; }#br_video_player_affc5330365711229dfb318480a94f3264ab5b5e .links-overlay .links-button:hover { background-color:#cc0000; opacity:1; cursor: pointer;box-shadow: inset 0 0 0 2px #fff; }#br_video_player_affc5330365711229dfb318480a94f3264ab5b5e .loader-bg { top: 0px; left: 0px; position: absolute; width: 640px; height: 360px; background-color: black;z-index:9; }#br_video_player_affc5330365711229dfb318480a94f3264ab5b5e .loader-bg-transparent { top: 0px; left: 0px; position: absolute; width: 640px; height: 360px; background-color: transparent;z-index:8; }#br_video_player_affc5330365711229dfb318480a94f3264ab5b5e .loader-bg-image { width: 45px; height: 45px; background: url(data:image/svg+xml;base64,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); background-size: 45px 45px; position: absolute; left: 297.5px; top: 157.5px; }#br_video_player_affc5330365711229dfb318480a94f3264ab5b5e .loader-bg-image-transparent { width: 45px; height: 45px; background: url(data:image/svg+xml;base64,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); background-size: 45px 45px; position: absolute; left: 297.5px; top: 157.5px; }#br_video_player_affc5330365711229dfb318480a94f3264ab5b5e .loader { position: absolute; width: 90px; height: 90px;;z-index: 9; border-top: 0.30943000000000004em solid rgba(00, 00, 00, 0.2); border-right: 0.30943000000000004em solid rgba(62, 181, 231, 0.2); border-bottom: 0.30943000000000004em solid rgba(62, 181, 231, 0.2); border-left: 0.30943000000000004em solid #3eb5e7; -webkit-transform: translateZ(0); -o-transform: translateZ(0);-ms-transform: translateZ(0); transform: translateZ(0); -webkit-animation: load8 1.1s infinite linear; animation: load8 1.1s infinite linear; }#br_video_player_affc5330365711229dfb318480a94f3264ab5b5e .loader, #br_video_player_affc5330365711229dfb318480a94f3264ab5b5e .loader:after { border-radius: 50%; }@-webkit-keyframes load8 { 0% { -webkit-transform: rotate(0deg); transform: rotate(0deg); } 100% { -webkit-transform: rotate(360deg); transform: rotate(360deg); } }@keyframes load8 { 0% { -webkit-transform: rotate(0deg); transform: rotate(0deg); } 100% { -webkit-transform: rotate(360deg); transform: rotate(360deg); } }#br_video_player_affc5330365711229dfb318480a94f3264ab5b5e .truvid-bg { top: 0px; left: 0px; position: absolute; width: 640px; height: 360px; z-index: 9; }#br_video_player_affc5330365711229dfb318480a94f3264ab5b5e .loader-transparent { position: absolute; width: 90px; height: 90px;;z-index: 9; border-top: 0.30943000000000004em solid rgba(00, 00, 00, 0.2); border-right: 0.30943000000000004em solid rgba(62, 181, 231, 0.2); border-bottom: 0.30943000000000004em solid rgba(62, 181, 231, 0.2); border-left: 0.30943000000000004em solid #3eb5e7; -webkit-transform: translateZ(0); -o-transform: translateZ(0);-ms-transform: translateZ(0); transform: translateZ(0); -webkit-animation: load8 1.1s infinite linear; animation: load8 1.1s infinite linear; }#br_video_player_affc5330365711229dfb318480a94f3264ab5b5e .loader-transparent, #br_video_player_affc5330365711229dfb318480a94f3264ab5b5e .loader-transparent:after { border-radius: 50%; }@-webkit-keyframes load8 { 0% { -webkit-transform: rotate(0deg); transform: rotate(0deg); } 100% { -webkit-transform: rotate(360deg); transform: rotate(360deg); } }@keyframes load8 { 0% { -webkit-transform: rotate(0deg); transform: rotate(0deg); } 100% { -webkit-transform: rotate(360deg); transform: rotate(360deg); } }#br_video_player_affc5330365711229dfb318480a94f3264ab5b5e .trv-media-controls { overflow:hidden;background-color: transparent; position: absolute; display: none;bottom:0; left: 0px; z-index: 9; width: 100%; color: #FCFCFC; font-size: 10pt; text-align: left; height: 46px; -webkit-transition: opacity 0.2s ease-in-out; -moz-transition: opacity 0.2s ease-in-out; -o-transition; opacity 0.2s ease-in-out; transition: opacity 0.2s ease-in-out; -ms-transition: opacity 0.2s ease-in-out; }#br_video_player_affc5330365711229dfb318480a94f3264ab5b5e .fullScreen { float: right; background-position: -126px -9px; width:20px;height:20px; }#br_video_player_affc5330365711229dfb318480a94f3264ab5b5e .trv-media-controls>span { line-height: 22px; font-size: 10pt; color: #FCFCFC; font-family: arial; }#br_video_player_affc5330365711229dfb318480a94f3264ab5b5e .BR { background-position: 0px -8px; width: 22px; height: 22px; margin-left: 12px; margin-right: 12px; float: right; transition: none; }#br_video_player_affc5330365711229dfb318480a94f3264ab5b5e .videoTitle {position: absolute; margin-top: 18px;margin-left:7px; white-space: nowrap; text-overflow: ellipsis; overflow: hidden; vertical-align: inherit; cursor: default; }#br_video_player_affc5330365711229dfb318480a94f3264ab5b5e .togglePlayPause { background-position: -82px -8px; height: 22px; margin-left: 20px; margin-right: 4px; transition: none; float: none; }#br_video_player_affc5330365711229dfb318480a94f3264ab5b5e .volume { background-position: -100px -10px; line-height: normal; margin-right: 12px; margin-left: 12px; transition: none; float: none; }#br_video_player_affc5330365711229dfb318480a94f3264ab5b5e .trv-currentTime, #br_video_player_affc5330365711229dfb318480a94f3264ab5b5e .timeDivider, #br_video_player_affc5330365711229dfb318480a94f3264ab5b5e .duration { line-height: 22px; vertical-align: bottom; cursor: default; display:inline; }#br_video_player_affc5330365711229dfb318480a94f3264ab5b5e .trv-duration { margin-right: 12px;vertical-align: bottom; cursor: default; }#br_video_player_affc5330365711229dfb318480a94f3264ab5b5e .playlist { float: right; background-position: -149.5px -8px; margin-right: 12px; margin-left: 12px; width: 12px; }#br_video_player_affc5330365711229dfb318480a94f3264ab5b5e .trv-progress-bar { margin-top:8px; position: absolute; width: 100%; height: 3px; background: rgba(255,255,255,0.2); cursor: pointer; -webkit-transition: all 0.1s cubic-bezier(0.23, 0.36, 0.45, 0.94); -moz-transition: all 0.1s cubic-bezier(0.23, 0.36, 0.45, 0.94); -o-transition: all 0.1s cubic-bezier(0.23, 0.36, 0.45, 0.94); transition: all 0.1s cubic-bezier(0.23, 0.36, 0.45, 0.94); -ms-transition: all 0.1s cubic-bezier(0.23, 0.36, 0.45, 0.94); }#br_video_player_affc5330365711229dfb318480a94f3264ab5b5e .trv-play-progress { position: absolute; background: #1EAAF1; height: 3px; width: 0%; top: 0px; max-width: 100%; -webkit-transition: all 0.1s cubic-bezier(0.23, 0.36, 0.45, 0.94); -moz-transition: all 0.1s cubic-bezier(0.23, 0.36, 0.45, 0.94); -o-transition: all 0.1s cubic-bezier(0.23, 0.36, 0.45, 0.94); transition: all 0.1s cubic-bezier(0.23, 0.36, 0.45, 0.94); -ms-transition: all 0.1s cubic-bezier(0.23, 0.36, 0.45, 0.94); }#br_video_player_affc5330365711229dfb318480a94f3264ab5b5e .trv-hover-progress { position: absolute; background: rgba(255,255,255,0.5); height: 0px; width: 0%; top: 0px; max-width: 100%; -webkit-transition: all 0.1s cubic-bezier(0.23, 0.36, 0.45, 0.94); -moz-transition: all 0.1s cubic-bezier(0.23, 0.36, 0.45, 0.94); -o-transition: all 0.1s cubic-bezier(0.23, 0.36, 0.45, 0.94); transition: all 0.1s cubic-bezier(0.23, 0.36, 0.45, 0.94); -ms-transition: all 0.1s cubic-bezier(0.23, 0.36, 0.45, 0.94); }#br_video_player_affc5330365711229dfb318480a94f3264ab5b5e .trv-progress-padding { position: absolute; width: 100%; height: 16px; bottom: 0; z-index: 28; }#br_video_player_affc5330365711229dfb318480a94f3264ab5b5e .trv-buffered { position: absolute; background: rgba(255,255,255,0.4); height: 100%; width: 0%; }#br_video_player_affc5330365711229dfb318480a94f3264ab5b5e .trv-progressBtn { background: #1EAAF1; box-shadow: 0 0 20px rgba(0,0,0,0.3); border-radius: 30px; width: 3px; height: 3px; position: absolute; left: 0; text-decoration: overline; top: 0px; -webkit-transition: all 0.1s cubic-bezier(0.23, 0.36, 0.45, 0.94); -moz-transition: all 0.1s cubic-bezier(0.23, 0.36, 0.45, 0.94); -o-transition: all 0.1s cubic-bezier(0.23, 0.36, 0.45, 0.94); transition: all 0.1s cubic-bezier(0.23, 0.36, 0.45, 0.94); -ms-transition: all 0.1s cubic-bezier(0.23, 0.36, 0.45, 0.94); }#br_video_player_affc5330365711229dfb318480a94f3264ab5b5e style {display:none;}#br_video_player_affc5330365711229dfb318480a94f3264ab5b5e .volume-bar { left: 16px; position: absolute; width: 2px; height: 55px; overflow: hidden; background: #737373; top: 10px; -webkit-transition: opacity 0.15s linear; -moz-transition: opacity 0.15s linear; -o-transition: opacity 0.15s linear; transition: opacity 0.15s linear; -ms-transition: opacity 0.15s linear; }#br_video_player_affc5330365711229dfb318480a94f3264ab5b5e .volume-container { position: absolute; z-index:29; overflow: hidden; bottom: 25px; left: 32px; width: 32px; height: 75px; background: transparent url(\"data:image/png;base64,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\") no-repeat 0 0; display: none; -webkit-transition: opacity 0.15s linear; -moz-transition: opacity 0.15s linear; -o-transition: opacity 0.15s linear; transition: opacity 0.15s linear; -ms-transition: opacity 0.15s linear; cursor: pointer; }#br_video_player_affc5330365711229dfb318480a94f3264ab5b5e .volume-container .button-holder { height: 49px; top: 8px; left: 5px; }#br_video_player_affc5330365711229dfb318480a94f3264ab5b5e .active-volume { position: absolute; bottom: 0px; background: #1EAAF1; height: 100%; width: 100%; overflow-y: visible; }#br_video_player_affc5330365711229dfb318480a94f3264ab5b5e .volumeHandle { background: #1EAAF1; box-shadow: 0 0 20px rgba(0,0,0,0.3); border-radius: 30px; width: 8px; height: 8px; position: absolute; left: 8px; top: 0%; text-decoration: overline; }#context-menu-br_video_player_affc5330365711229dfb318480a94f3264ab5b5e { width: 185px; height: 40px; position: absolute; background-color: #252525; z-index: 9; cursor: pointer; border-radius: 5px; direction:ltr;text-align:left; }#context-menu-br_video_player_affc5330365711229dfb318480a94f3264ab5b5e .context-menu-icon-container { width: 22px; height: 22px; float: left; }#context-menu-br_video_player_affc5330365711229dfb318480a94f3264ab5b5e .context-menu-icon { background: transparent url(\"data:image/png;base64,iVBORw0KGgoAAAANSUhEUgAABNoAAAAoCAYAAAAonpdLAAAAGXRFWHRTb2Z0d2FyZQBBZG9iZSBJbWFnZVJlYWR5ccllPAAAA25pVFh0WE1MOmNvbS5hZG9iZS54bXAAAAAAADw/eHBhY2tldCBiZWdpbj0i77u/IiBpZD0iVzVNME1wQ2VoaUh6cmVTek5UY3prYzlkIj8+IDx4OnhtcG1ldGEgeG1sbnM6eD0iYWRvYmU6bnM6bWV0YS8iIHg6eG1wdGs9IkFkb2JlIFhNUCBDb3JlIDUuNi1jMTQyIDc5LjE2MDkyNCwgMjAxNy8wNy8xMy0wMTowNjozOSAgICAgICAgIj4gPHJkZjpSREYgeG1sbnM6cmRmPSJodHRwOi8vd3d3LnczLm9yZy8xOTk5LzAyLzIyLXJkZi1zeW50YXgtbnMjIj4gPHJkZjpEZXNjcmlwdGlvbiByZGY6YWJvdXQ9IiIgeG1sbnM6eG1wTU09Imh0dHA6Ly9ucy5hZG9iZS5jb20veGFwLzEuMC9tbS8iIHhtbG5zOnN0UmVmPSJodHRwOi8vbnMuYWRvYmUuY29tL3hhcC8xLjAvc1R5cGUvUmVzb3VyY2VSZWYjIiB4bWxuczp4bXA9Imh0dHA6Ly9ucy5hZG9iZS5jb20veGFwLzEuMC8iIHhtcE1NOk9yaWdpbmFsRG9jdW1lbnRJRD0ieG1wLmRpZDphYzE1ODUxMS01M2M5LWQzNDYtOGZlNC1hZTI1ZmI5NTA4YzgiIHhtcE1NOkRvY3VtZW50SUQ9InhtcC5kaWQ6MEQ5RDQ5RDcwQ0UyMTFFOThFMTVFQThERTQzOThERDkiIHhtcE1NOkluc3RhbmNlSUQ9InhtcC5paWQ6MEQ5RDQ5RDYwQ0UyMTFFOThFMTVFQThERTQzOThERDkiIHhtcDpDcmVhdG9yVG9vbD0iQWRvYmUgUGhvdG9zaG9wIENDIDIwMTUgKFdpbmRvd3MpIj4gPHhtcE1NOkRlcml2ZWRGcm9tIHN0UmVmOmluc3RhbmNlSUQ9InhtcC5paWQ6MUQ3QUQ4Nzk3Q0I1MTFFNUIzMTRCMDIxQjZBMkU5NjUiIHN0UmVmOmRvY3VtZW50SUQ9InhtcC5kaWQ6MUQ3QUQ4N0E3Q0I1MTFFNUIzMTRCMDIxQjZBMkU5NjUiLz4gPC9yZGY6RGVzY3JpcHRpb24+IDwvcmRmOlJERj4gPC94OnhtcG1ldGE+IDw/eHBhY2tldCBlbmQ9InIiPz4FuWpAAAAxdUlEQVR42uxdB3wU1fY+m4QakF4EURAVYwMCiIgIiGIUFewoigg+LOhflKeiFCn6DD556rM8VEQEaVIFEVBBwK6wUoTQRERARCDSAoGU/3wzZ5LJsrM7bUuS8/1+55fN7pR7z87ee+53yvXl5+eTQCAQCAQCgUAgEAgEAoFAIHCHBFGBQCAQCAQCgUAgEAgEAoFA4B5CtAkEAoFAIBAIBAKBQCAQCAQeQIg2gUAgEAgEAoFAIBAIBAKBwAMI0SYQCAQCgUAgEAgEAoFAIBB4gCRRgUAgEAhKEnw+X8HLgL9AfsBfT4ENhgz397xr4fojGxwJBAKBQFC6MHDgQLunVFekqSINFamsyHFF/lZksyKrFcmxc7H09HTTz5q0aGO3bbW4bWcoUo3bst/Qtiw7F9u48lvRW+z1lqjI+egW67CCIocU+U2RtYr8WRL0FqgzIdoEAoFAUBLhY0nIz88/UfCmz1dG+ZPH/+ZLfwQCgUAgEJQC1FCktyLdFWnGNsVORQ4qUpY/B9FwRJHPFJmoyByDjRFJ1FakjyK3K3IRFXUoGgH7Z7kiHygyRZFs0Vvc6g1tuUqRXopcq0gV1tle0sgr/H8qaXzUz4pMV2SsIrtKit6EaBMIShAceBgcwcyT4MCL4BjBPC3R6n8oHcSDHuLhWYixHnRSKpElcN7LZQHskFMFEWWbN2+udOaZZ76RmJh4DwWPkis4Njc39/2tW7f2O/vssw+Ts4i6SPUnYkhNTZ2g/HnI7/cflpFZIBAIBIKYAdFDgxTpT1r01SRFHlPkR0WOBhxbV5F2itzKxMI2Rf6pyLwIta2SIs8q0o/bGQ5wLnZieYH7NZ4iQ2qJ3pyjgyIvKdJckY8VeUSRpYr8HnAciMoWilytCOzpZxQZo8gw1nmx1psQbQJB6UEKacx9e0XOVaQOv49w3Q2KLFPkQ0XWR7ANZxvagPbU4vf3KZJhaMOGCOvhekU6K3KeIlVJ81jsUeQnReaz7C3heoBRcJ0iXUgLma5JGkkDL912RRYpMleRX4qpHlCDNJEnycBJk7ivuTauVxBRtnfv3tTq1atP8vl8Z5Hm5cyjogSaz3i8grsaN258iXJej5o1a/rJWQSa4/6kpqbmh+lXMJie4/f7reTG3q3IJcq9uyvH+2X4FQhKDDBuP6lIW9KiN0aRxQiEc889NyIN2rBhQ9B74X0P7hm0v6HuKRDEEVLZjkL00BAmMY6GOH43aZFFkPqKDCYtOmuyIg+QFrXlFVqTRko1cmHHvqvInWxz/CF6i7neQJyNVuQh0kjGXqRFq5kBqbffsowgLWoQhNbNivQgLZqs2OqtgGjTa8qUG5/V0Jfkm6NIA18STVH+Pn+kWznLX4DUhykeyMjIQCjnFUEWXCAcJqekpGQEHA8y4h+k5VUHYrty/P9Eq3GLZjxoteZJ4zVF1jCRhAER4bPnkBbe+5UiPyiCcKhVHrYBhFY6EzvBFumnsuCZHMYkD7waP3nYhou5DRcoMkMRPLMgFfcwWYGJEZ6Xbor8V5G3FHmRvCXc4kEPpynyvCI3KrJAkY8UGc4TBoiaOqyjK9m4+FyRoeQt6RdpPagEF3+vZYMYAUAeFSXIwl7vrLPOSlq1atUjycnJz2G6NMyjekRZYERbQQQaSLkaNWosP3z48OBmzZq9tmXLlhy79/ewP9FckH+Tmpr6FH5Tfr9fDASBoHgDY/cXpNWwWapITx7HEcmxKxYNMiO2PCK8bPVXSDZBnOFqtnfxDN9LmhPTDuB4fZC0SK4p/BtACuBfHrTtJr5ueQ+uhWij7xRJI81JK3qLjd4qkuagx1qqK2mRbHYAG3YyX+N10hwbvbm/xVJvRXYdLTs260JeZDdlQgVhdZsrzc8eWnnR8TIyXpW4wXdggGAxBAb+viDHt2LSYWAQ6SfqjFv04wEeBFoD0rwqsxTZQlpILkimn/m9B/mYZXzOQDKPdrGDAaSRdtdbvJ6PB68fmFxx2waMcyMVWajIYkXOJM3TMpMHSEyg8EStJK02AAgoeLLqKbJOkWs8+i5irQcAIe0gWbN5AYFosvHcLkQ27uU+TyONWIeuNvGE8kQx0oNOTJlFgCXy5z6r11m+fHntdevWzUpOTv43FZJsZtczu385nI/r4HpO2uGyP7EAdPWKInNSU1NryJAsEBRrwEaE4/US0qINLiXNOfNMPDQuAhFzYfsbqSg9gcAlLmfb/j3SHMgqWZTnsy4GfMW/ARApcNAmu2zbNUxAlfewv6cr8in/9VxvDlGa9AanLyLYsNkB6sZ87OJaKDnSi7SggPcVuaG46q0goq3MW0ea8gK7SsAxeCgQ7XDTKYtP9DrYqcwqGbtKBPTw12VMQOiLOUS0TQ9y/DeK3E9aapeennQGEzelrQaPlagMkBYgJ78mjbyyQgx4DURlIUoNkWwbLZ6D0GZEv4GEQsgzop8ednh/9OlNfkacIIkH2cakkb9OomFAQMCDgYg9eFh+s3ge0iXvIi2tUq/J8H4x1gNxH55mw8FqKPbfvND4gJ8HTCiPFBM96BFlSUGuk0jWyC31Gjt37uxQt27d8QkJCfVMjAu0JY+Kpm4m8L3KnnRC2bLXtm3bdoVy3V7169dfStbqq7ntT6wBQ2lVampqD7/fv5wEAkFxxCmkOWT0OjtwViEaumGsG6YTXh6nb4bsb4TuKRC4xam8loPd9mgY2wI2BJyuZxuICKz1pwYchygtBGl8r8g7pKXPOUEjJj3KhjXgExPp2s5XUsPTG1C5strhGZs20/xFn5mdgjULSDIQ4scjrDeriLreHMCt3ojXjqi1BmJxk0ftQippZV6DICtpQ3HTW4HBnrh/6xd5mTuq0LltTxCVCRa9BiLux1MWHnk67++Dow93PzXmKSAZGSdH66WkpJi+H+22mMGsLVauEYF+LFOumW7hviBg3g5o70W8aI73BV4s8BwbZiMD9RYlIBqtA2memVChysg3r8ivEdWlb2G8ic9dwtdKd9CGZ8ORKkhZr1GtGlWooNWj3LV7N+XmnlRmCmHDe5gksovRbBB3VOSAg/NRqw213BaxfhZFQg8W4UYPt/H3eLnDiQrnIFUGYfSIfB1VDPRgjAIrYrtR6Ogv/f2EW2+9tey4ceMGV6pU6akg19GByTuHzCPagk7uIO0ULDh06NCo3r17Pzd9+nRM0qFqtzntTzwBRsmS1NRUjIvP+f3+XBIIBMUFiOSC8wUOh3/z/Igor7MczkuuYSS3IkB0he2vkGuCOAUc7YjE+geFd+B9QppT3gik700NcvwORe4gLesFpWjmOGgbyKYq4Q7C+uCd1/5DbVtfXOT9eQs/DUW0EZM9yMB4PoJ6s4uo6c0F3OgNEWzYMKJ7iDVGc76HMbMBOkb5mo1h1rOXcv8vd/C9hNXbeU3OofNTzqWqVQsPQym0xUuX06+/bXeltwKirfLBtb4Dm76jmkc3HMts/Y9R+ZSE9J4KQY7HZNM+eczGe4480GS/m2/UI2Ip2C5vod6PVDuIByVE/0SyiLrXcBNGWdmJLl3ot7jgN/5hA+/xD/DsKN6/LQ9M+PGbkWzw2iCS8SLDe9exIakDzzGin5BSiZTLH220AYPikFAHNDrjdHpj9Chq3KhhwXsdu3SjXbv/DHY4iI5PmeixCoQKw3MEJ8EBF/pcQVoEFSLa8KBmeqkHm3CiB9SeA9l7o8kEiEVEXcM4CcJnbZDj8Cwh3ROF7REJ+51XeqhdqybVqlEDlpX6/4kTJ2jTll/c6sFnMv77QswLBRsY/Pjjj6c3a9bs/aSkpMvC9M0soswsAs2IxEqVKj0zefLky5988sl7WrVqhRndjGxz0p94BHQyDD93jm7b6fRCVna1NduVV+AaTjbYCAuzNDwjoWHlGCfXDXWck/6WMBIG9kEqLxA3sI3xT54PEfkxI9oNCqdfl1FmjvorkW2COAAiim4hrcZtVphjsRHVVTavj4j0caQ5XJEqaMdhBru8k5UDW6U2P4lks4GBbPf+5YHe4MgEuW4WpYVMrxdZj7gfyLqJpEWxYe10LFJ6S0hIoNMbnEbbTMig6tWq0hOPPqzqcX/m3zRx6oc0Z/4CatfmEvr2hx8p+/hxL/RG3H+kxgbLiEMJGtRbA8GIskU3cX/m8LogXMYV9NRXkdWk1X2b49Xz1qB+fRr61ABa8Nli+u33HdT5ig50eds29PnS5fTKm29ZIdnC6q1gAdC5feuU3y86f2aNimXnzu5aaVSFqcdAEIwx+QFiAlpRYdSKrkefarm2NIxaIJAskEEIvUXkTL8IGB2IBhnu6Eyf71nKzx8eZLFj/OsECR5cw6r+XXsWlO8vWgtR6DqbX+fwdzc5SvdGH1/hwSsUUwGD8SIL19tKWiH8l0mLaLL6PbxMATUgA/Hog32LkGwW+9XMYhsSuQ3Qg3EzF9xwW5DjkQY9kkknDOLYVQbel2/489mkkXaoy2KnVtlJeqhf71Tauevk/WXqnVqX+is6qV2rljLIL6MZc+ZRyrnn0E+r17rRA4DoyrlBSKl23KevmITDDj9wpLwZ4lq/MkmCfrVxowegZfNmdF1aZ1q5ajVd1bE9Xd2pI42dMIkmT5/p9fNg9RlDG7Gr6PXVq1d/2+fzWakplhTiWU8gC7t7g8xr0aLFD8p9+9asWXMexefGBl4DBj5SSe/1+/1uann0ZuPVCR4K87wLwv9m7BBSrmClFlawYzwkPqLa3zgB5kxERB9nO2YLv49UnAZsI2z36mZWdgk1I0etkLFe9jeQVCsmtdrggMV4i9ImO0Icdw7bDNfyAtfVb9QuUR5Kl6GO0z8Lcr7rfhcjAvVx0pyhVhyyFxpegwhBqh5KC4UrCTSCfwvgAz6y0bYBVg9scnbjgtcgQt54ZxwdO5ZNWUezrJxeibRyR895oDd9p8pOQdZVWGss4vWCauKzPYJN514izVF/LFJ6a3rBefSff42kex54mLbvKOqzTExIoHffeFWN1gLq1K5F/3p2EA158nF6d+Jk+nl9BmXv3++F3qAfOKRbBvkMGVPYUA2bz43n9+D9XMWk2UsW77GOeZUBNok20+etQvnyNP5//6UpM2bRrHlajMmqtWvpoykTqVP7dvTuBFv7L5jqrWBxMCmt8e7ldzRtO7tripoSdLR7eTwIV/OC/ESQiyLn9dtyTy+5ycVgYGag1OWFbTQxh+9rp53BgALXYHRRTLyWhyTbMMckW/Bz9QifTBft0gfiLBOdWRXLRJlTieJzhJl4YsB70+wYKi5xGRuDb4U5TifZvmByCZuffGpyLK7VmIkZq20I64ZKOUcL8pvz8QJqe1UXatWxM+3e81e4Nl9psQ3X8gT4bsD7K4JcA5G78DTdzRMpJkiEjiNl1BjxOZwH0mQ3epj1wXt0aetWRd4rX64cTRo7hrp2uYbaXNxSmQgH0PdfLKLLLmldUJfCoR4wHsEBMDjgfdRaW8h9msTHIFLtDgq/XfUYHv8vdaOHenXr0NjXX6bX336X5i1YRI8NHEzrNmyk666+iv7aayko2I4eLBFsw4YNS87Kynq5Ro0aMyySbMbFt6tIM9wP98X90Q69TVSyU/NrKjI3NTX1ZUXKObzGf9gIruTg3DcUmUCF6fOW0aRFm3xE1Oni0uYRCOLxt4n5oBdp0cuvGEgn4gXnUq9INpAY4YiMwGNAphgJFf1/h4SXo/66vGe0gXkYETajw5BNwCYmDJYwOeXqu/WKZAv83CL5FZN+xwiVmcB4x+LxRnt2IhMaWP/vCXMefgfI3+xho21Ya3S0enCF8oVJdR/NX0Cbf9lKv+/cSfv2W1623uOR3mBbwBmPGmu3BXzWwUCyGQHDHXVpcyKpt4oVKqpO+ukT3qVrrioauHVxy9QCks2IMmXK0BXt21FObq4XeiPuy0+kZT8F4kZeLxjXFQhEeZNt26427oPvpi1/F66ftys7tqfT6tejPXsL97o4fvyE6uhH2nKnDpfb/e0F1VvIiJOsW8rnH+lWbjQvlHaY/EBnlnlwzlMeDhI9+IfeLcqDU1e+bw+ProcfI3ZzvCUOSTbiiQQPhZv6YWvYMHnMZPFpVWzDGOGmv8ZfXaL87OB+cCXAE/J4kIEVkSkD+PPfI7zYwnMHL2y4YpY6gfQ9D4CYuU6YHKt7dm+z2IZbrRxUtpy2rv7q2+9o7/79dPDgIcrLywt32i022jAxyHeB6CKENyPM+VR+ry2dvGtMOf5OjZ6on9kIS3OjBxR3Hfvay2o4d62aNdX3UptdpBJPRfSjTIZ/7vkrWGi3HT1gHP0yyGKoG5MLOlmOGXc8aTW0GoW5JibJqVa/Z7PjruzQXvUo6d7JXOW7nz1vPtWtU5tOq1fP6vPudnwt2PBg/fr1KYMGDVpWoUKFfjbHJZ/Lz4sci/ujHWgPFaaklmSyDX1DbY+vU1NTnabYd+exzMlqFwQ7PKxO7p0fpXNiCVcOMqeES6DYPaa49DeOSLXhPFegoHU7toXL81y5PNLfsd1j7BJbAdeIan/jBEiLgzMVETVWo0iG8LGf8Tow5iSbA7ItJv2OIdqz3bAgnAlOWkpfdcN7dfg9SFUL90L0fScb9kmncLyDTgQhpa9KlVMK3qtRo7r6HuSUypZ9akj3bOiB3rDjPeqUw/k6jf9HDTcEINQ26wb3d18k9bZm3Xo6evQoVa1ShV5Jf45mTBhHt93YlU4/rT7VqF4t6MWSkpLUCLi/DxzwQm+qOU/mO4zqxnyTIPxBoH1ckdcgZsC4fIispzqHfN7q1NLWXyhjZMTGzVuYQil8D2sVrE2cPG9JVlp6uEu5HyovOo6QwOkUPKolPemOCQ3yDhx6lOzlHBuBaLIxZI/d9BoYcD7ghSGKdu92eT09ug3huKjdZjXn2blR5/NZOjclJQVtmeCmc8o1cil4scyYQY9eA9kWwUg25PKBqITXZwv/PRbmnMUsOolzJg/SjXmh5xVAGg0L8TlIFJCrFxgWqHq4LwxNMy/WUjZUrCCkYXL+uU2o7709qRoXnbz7jttUz8KRrCx6Zvjzrq5twKV0MomMARdeFBQxfoIX9+hXsIhMxFMH82zBywk3x0wnekA9hcnTZ9H9Sv/v69mDet15O32/0k/Hjp78+Bw4eJA+nP2RWz3geQiWPqDPsFcb+rKb+63vzApLFlF9/w1yPq451M3zcOiwxvGhVsSixVoT/9q7T+33rj+0offMhmeoUX0Tpn7oVg9mBI8aNZaZmdmjSpUqr/p8vsrxMI4phlAzZSHxjdKuR6tVqzbJAWFXHIHUnhWpqakP+f3+SQ7OP48N4D4UvE5IKCA6EjUo4Xz6yOa5+Q6+m/xi9n3GPEXUCtEiKaKO7VQMwAh9QImBgSw38ILQU1ipo+ek1p6Ne0a1v3EC2AHz2TZ8xea5ICKPMgHRzWDHxoxkMx6vn2+SchyTfscYmMt+YVsuFJoYyA4dYw2v7+b1cCj8yOtmZNFYiWxtaqUDID7mTSt66+eHPFPw+okhw2nuJwut6gOpsdtc6g19ROrjAJ4bWlH4aEesKzIjrTeQkZNnzKLed92pRmFdeH6KKqFw9NgxNbDBI71V4GfJrGazvv7oyb8pfb11Cr828hAd+RizskYIBllt9TkKd9x3K/zq327XXUtvvzdB1QtQKTlZfY1sKx2tW7agAY88SNfffpdtvSVYfVIPXV0WFcrBWk40OQRRAO87HBj0KLaucTJQRSq67VYqPfA8dTQQMYpe043wKWykrbdAsgUCEUHYNeJj/j15WeMORFqo1UYl/h3r3qqG/D8MklD5ehkUPtJJx5mhPkQUV9qVV6geAnUkvOB89f8mZzW2cu2zLByTYKIHhMvdQoXF5uFxuspk3DEr0L6BrHt6TtIDIvbSOnUsiNyDZwlFSoOFKP8ZOo32LBttCPY8IEJxKWlpdy34uF48Vh3lY+DuaR0JPQDYOeqHlX4a+Pij6m4/8FTedEMXevSpQXQsWytxWK1qVbrowvO90EPg71cl2UaNGlX16NGj46pWrTouXki2gkYq7UG70D60kwrTSEsy4Qbj64PU1NT3FHGSCorvEB5nROIn2TwXzP9sNvTsjsmlIbLNi/k/ZpAoOFM8wQsl5D/fzAuFI/w6onBac6+49jdGgDMKu0oOcUA26cB5KCMEIrJLPJBswc4L+D3HpN9xAJA3v3pwnfUWjvnVcE+rbXONX7ba6t5pHuitPD8HdmyvbdHQG0rL9Lm7h0qyWUWwGtEu9FafbVOzlGyU6xnM15vN4y7q08FRD+eG3Tr/W7163lCjDhse1K1di14fnU7NL7qAOrZrS/3+0ZsefOyJcBuyWdZbQpwMDMiNyomzwSqHwqff2UFJr7VjtpiNSOooEIP6azoQDbac7IXWmg1QSF1o5mHbsCAPRfyBvRllGBS/4/+HGAioYMgm69tKhww5375jB70zfiIdPnJE/X/J8q/U/8dPnmbl2mUtPDOV+fd2JMhn71kc98xSR4651cPMuR+rkW3h8KN/lVs96ORBMD3AM4SwakTaoj4bZpRZpHltK/P/03gixOsHAs4/yqSIYz3k5OTQPQ88QiNHvUTXdr6SPp87gz5dspS+/WEFJVesqP6PUPhOl7dTX99xy41u9BBsPE58+OGH3y5fvnwPimOgfWgnkz8JVDrQi3+rTuce7BpW1+G5cDzUcnAeReGc4jz/xxTGWloRqKkVd/21gbPZHlihrz8UgWP99Eh/H+EIFivHOLhnTPobQ8ziBe5rLq+DWr2IDvuvk+/Z7TEOzo9pv2MIPVIoHPS1wDLDezP4PYgVL8Rxg51pBZbqG2N3TKwJflj5U8F7iz5for4H2brtNzv6qOKB3hBoYDfSfWk09PbLr9to8VJ7me5wcHuoN72Q3t8hjkGqEiIpkKmAklYgrt+lwihRODfhmELwyYVU6KgK1oYswz1dP2//e3c8Xdn1FrVO9MN976Mxr7xEMz6ap65DAESxYef6t159ic45q7H6GlK5UiXLerNstFdedBy529g5wizNDUWF73E4MExn5U6Pk4HK6/YgNQthGR+SIKLQo9yiQMAh7eAr/l6dAB7Vr0lLd/ISGOzKh/gcOXlIk9hmmAzw/+gw10W66wEbbTAFJsmXXnuTDh7SUgc/WfSZ+j8GOosTe7hIAcRE55kMsv/mQT7cNT6IlB6wqybIxfz80E0IExpvRQ+6LswmmzzWxUR+je2z6/M5mBRBwM3l12MC+R9FDrp9HhDZB12g0C1e335TN3VnJKQRX3nDLdR/4GBavPxL9fWUGbPd6CFwUawSbb17934kMzNzcjyPaWgf2kmFRFtpcNi848KeGE9a6vgOh/e9jOyVjRCSTVCcgUwUFJdGalQ7XgwhCvmzSN7USlSh15GHfJ2Y9DeGgJPsNhfjqQ7k7nUi67V6jTp3fYyD82Pa7xjikEUiQl8LLAyYO/VUaitknb5Tl1Vb8IiVg/bu26euCb78pjAbcda8T9T3IHqKn0Uc8EhvSH2cQqEDEoqY+tHS25NDR9DHCz+zUuNaIzhmz/VSb0fNCKYAYM2JNFE9gg0ZfroTHmWJkEqLUkbr+XV1E/1UNNzTk+cNEX5IE924RavNhgwrvQ7gG2+PUzfqe+zpIbRl66/qa4geKGJFb5aItkrzs7Fjywoy33VwYM6Ung/nfdIv18XgsIcHstso/G4nkYLXbUAqHjYLuMXm9Yxe0eG27pif7yuQEOdmZGQkKtJQEVcREsr59RUJRu1GNHXUSKTpr2OwyyhICbgSLrF5HlL1viTrO6fYAUKSm0TguilkPRz91wjq3EosL2YbuLyCpRXm8AI81DOCyeAHk8/OdauH3Nxc+nPPnpCh3hj0UeTUpR6ArSZ6AGkDIu1l0nYFglFwIY/zeg4vCLKfTa7bhK/tWA/YehyRbM8M6E9XdWxP0+fMVT1G2JUVhVxVK+TQIdocOnz7F4fPkUq2TZs2Lad69eqDlyxZ8oTyvRymOALag3ahfWgnlQ6SDUbK7X6/v68iWTbPRdQtdgW+14YhpuMYn9eXr2PnOXLy7AkE8QJ4MPrzs7+c54V3eK5M8/pmoaKXdMLEyjEu7hnV/sYBZvEa5E0eH50AqV+PM+G00q7Ozb4zB7uHhnweAr7nmPQ7DgD7tmGU7tXQcE8r+D1G+vBCb3DqtrHIm4DJ+ilaejtx4oSa9mglU2bJsi9p/cZNXuptF6+5wkUEIzilu2HNf4VhvQF7DfXsYIPn8utME34A6+adXj5vDc84nbpcfRXpsQ+XtGpJMz8Yr65DUMYG9eyyso6qRCZeQ0IESpykt5DfSsUZx3zJc7JR/A+RO8HyddW6Bif+122Uhz+KWEW3eX1fTOZIMXS7WcAwsku26cjPD3VuT15E3+u0YRkZGVjAo5jm2yaLCU9TR427itqVCD43YN0R6Wm1fhl2ukRxyFoRag+i5DpG4Lod+NpW2xApfGnxuG/YOAoG1JPsQcG9HRj4Hwmjh2/d6mF4+kv0z0HPqrsFBQJ1A0a+ONorPXzNE1oRjou0SDZshICNIUawIXoJT2z6phcYH16IhB5AsiFE+7I2rWn0a2/SG++Mo6HPj6Lb7rlPncD+78G+6nHYzv2t9yZ4oQcKMUYldurUaXHfvn377N+/f2M8WMpoB9qDdlHp2HkUALnd3O/3O4n8BrF+GTnbRXsrG9Dj7Zy0ceW3Pj2NAGLjmRMI4g2v8kIINUvPYxIKi0U4VJ6wYd84Ib6CEi7hjrFLzARcL6r9jQOgVtn1pO2k2d/muailhI3urgxDHoTUeSTINgs13mLS7xgDbUV6dJUo3AtBA3DIbrd4/JoY6GOtR3qDMy6NClPOzYCU3Aeiqbfs48epz8P91bVDSLsy828a+q8XvdYbHKIIBWtp8nlz0koUDeY+w7lfn7kRkGzYEViPJATX1D3EvWALo9TSai/0dl6Tc+jD98fSQ316qU798ZOmUru062n+os9Ukm3cm69S+XLl1GNXrlqtRrU50VtBseB+a3Oq7cjOn1irDC0Y27TMGxWmHkMo9Rgy30YVUQpds1+4Yq2LH4CZ0alHlkUTt3lkHGPHEtQ9muJh24Y5PhNkW/DIGRgZyeQudbEeE00FM1xKSkqkvh9bu4Ahqi0jIyNazw70mGnxWERsVIxgWz5kQei3VzUGEeZ8J2meXyuYxr+BSGCGjePSmSjS46lRs6kLD/x3UNGUSjxLH3C7zcK5U/j38olTPdSsUYM6tLtUHeCvS+tMFSpUMPxU89V00RGjRocKS7arhzmkbXiA3+oufg87L1zDejgWMCkhtfYKC89DdzfPQ8vU5nR52zbU7c6eqpFQQF5s3qKm1sKj5PHzQCbjB54NeNByx40bt2P27NmPffrpp/e1bNnyxhiRIvkrVqyY3blz57GZmZkH9LZxO0tq8fx8XggN8vv9Jxycj5zzhxTZ5+Bc1N65i8KkuwsEpQC/UNEI4Y28gEIa9t38+nPyKOMkGJEWbmfZwGOsRMCFuF5U+xsHWMJEwXxe2L5g4ZyRpDnhrrSxuDX9zkx2BrV0TCBsbKQQk37HEIuZ/Ehj2yuS6ML6tZpO+TkfG61as/gNb/NQbxgjbiIt66VDkM+xDkRd4z+irbdff9tOD//zaXpx5FC6uEXqSZ8jCgsF/v/au9drventQ58CA3sakhZYgvT8fgGf3cF6eozH3MW8Pg6Vsoqsyqp8P1d6q1/vVJrw9htqySIEPhjx+DNDFT3to149ulPzpheq9doOHT6sihO9FRBtC1ds3PTHnp01z65V5dLkSVm18zSvjlm+MgrW3XP0qZb73fwCIkjKxKodWNSCyf4zAs0c5nwZkx/s3JyAv06gpwqfiNF35IuT52u7jYWazv43iVBb4BHYwUbCax5d8342SL+00QZEp1zscd/W2BhgP2bSqJci4/g91KT4njSvFXYagOfqELd1sgWDCu6Md/kcR3pA7YnVa9dRwwYNKGPjJrWgJuqRrfl5vboL54ZNm73WA/qMGpHPKdLbYAzkM8EQuOMCfjThooLuI420+9qpHg4eOqgSizdcm6booWifGzdqSB/OmuO1HoKRO3ksYPpAOCZlZmYmtGrVaswrr7yy+oEHHhhQrly5U6I1iGRnZx8cM2bM6P79+yM86ii36RgV3SyopJFt8P7e7ff7F7m4RncXermeSvbun14h36P3LcEssiUYyeLk3Hjrbxwjl+d9zJs92BZALTPY/nC+ITID0Qpwyu9zezM7hfOtPAsOiuzb6m+w+0Zgl1QvgTkbkf5zmSwIlYIFGxX1zZAhsc7t9+ol2eZgt9KY9DtGgM0AZ3CfCBNtyM65hgkTq4DduJTCO3O9wgSP9IZo+WtJc07jOSpjYufey+u7qOmtRbOm1P4yzXnf5uKWlJR08mbriMZ6ethz9NvvOyKhNwCBRXB2Ng1YR93O66zFJue9xESb1TIhfXj83epWbyhbg/WXvulBIN6dOEkl2o7ZqwcYVG8F38iegxXL5OXWoI2+cypTvm+oCYMBYx+pRqOPPNAkXgwLn833I4kbI0AmRRpuiLZsEhDZ93itocgRbfhdIkR+PstWl9dDCgVSCTvbXEw8xgZrgsf9yrfxXGM7buwYNY8X9ADSIQc6uH830rybdiNAT9ID0iFR0DVKegAG8zM3jo0BkGsPkkbetybN4wTUYENjXohroT7CSNaH4+cB5NqwF16kR+6/j5pecD59v0Irf1K1ShVa9tU36gYJEdCD8Vw9kk2PFPMZP+vfv//X8+bN+2XChAlP1qtX76JIDyC7du1a07NnzxcXL14MYvQoyxE2QI7x85xAJSuyDcbXXX6/f7cHY0Mszi0tKFXprsoiXtJ7TwbIfuwCfBaTT4j4qsMkFJw4ILuR/bI7Wg0KRriFImSi1V+vNm6IIDDZ1rdwHKJ3Tnfw+4naMaGOC/J+RPsdZ4CBid1E21LkSrkMIi3IYI7N816i6BBtR9j+90JvMEhBrqHkzwZ+PvKYyIFjdGoIMimiegOJBnKterWq6kZzp9atQ/l5+fTnX3/RqrU/q2mQZmSSh3rTnelIt77Z8L4edISND2YHsbea8+/yewv30Gu89fBCb/v2aXFi2Pjgsy+WnVRz7bwmTWhdxgZa/fN613orINqyK9TuQMl1lvl8dIrPnEzodTAteVW8jCRmxFS8RMoVEzTIyMhoxoOIjw2M9YoOT0o75JpsNQyL1KayWFGxJsjvCoMBIogmsJwI+C3dGsH2YIJI54G8k4FkMgKeBuwcGSoSryZpW1qjBuOPNtvwDRMyz5od0KPP/ZSYmET7Mi0Fxr5oIISsAm2/lgf4zmTda0JBJgPszAkP1F6v9WATTvSA+lVI3YSXrj1pHjdMCON48irPC4ZwBUYRsg0SDpGCX7rVw9SZc2jGRx9TozNOp7Jly6rRfn/u+SuSejBCH8Ny+G9+4HuLFy/eeeaZZw5cuHDhne3bt7/D5/Mlev1DVSb33GXLlk1JS0ubnJ2drRNsWSx6VNtxblsSWU81iGfk8HOQ7vf7XfXHRm00gUDgHlt4vqjDi1GM661IizJ4krTC8VFFYDppsBTUSPfX43sKBG6BTT6Q1YGddVuSd2VkdMBBi+ytu8h+sMYCJqU6RVgHWLfs8VBvX7i0OSOmNziqdWd1jPQGPEVaOuz1VOisR8ooApC683oSGUHYiaEij6NX8PHh7EA4mRFF7Cf75WKC6m3ugkXqJmzYBKFa1arKWmQebfttO5UvX54uPD9FLV9zf/8nLO/kGkpvBUTb8b7Jq8qOzbqMG2Qs1H6EFzUvHOxU5oSMX8FRDMk9PfT1bhYjkGc9zPhGRkbGxWxkBFtsli3lX/8aw+8JuoTHQt+5EfWwEFH0L9K2lcfAvTYKbQLRVo8njq48uBmxK8z5IGBm88SS7rANw9lADVoYdNduyxnWIISedtgGEExTeQK4yUK/A9GJzx/AE7DnerABN3qYaHgeMPHBg4Tx3GpqBGp2grhd4eXzkJOTo0b4RVEPgL7bcZ7B2Cmo1WaQnOzs7NyOHTtOGDp06JonFSQnJ9f06gd65MiRvS8qGDFiBJxXINR0cs1Isp0wtDGBXOzUHCeAJ/cOv9//jVgNAkGxBCJ8d7A9CMAJh0E85kawHuXmMfEVsr8RuqdA4Bb9mJh4nbTNPswA++Ntw/wcDuAH4LT9iJxv9vcP0jYfCLlhQ8amTTSNy4js2m0rWHYlEx+R1JtdRE1vLuBGb0tJc+AjEhgbq21h+7Urr6MQ7HA9vwfnP7imVyzas3DMtmbJ80JvWHs8+PiTarrtZZe0po6XX6a+t+uP3fTtDz/S+5OnhdpZ1JbeiiTzHr+v4tpy47Mu5gVVA9Lybp8/3KXcHzJmlThs4wEWC0o9iNHHP4JgO3WAFUE9pLpUWJtNx+pSrkvUJkH0Ggi1YLtVNeSJbBCTFNGKCv0/0ogmkCqIQsJOW+Gq7CfzOU9zW93sKIxRCimKqO8GorGMzfNBMAzjc52SC3ieb+O+rOHvCERNOA9fbR7c4YnpQ/bDvONND8TfJYjGhfw84v9w4YTl2fAYxJPiyBKgB2N79DptxtcFRJv+esSIESs//vjjfjNnznysYcOGl7gefLdt++7mm29+2e/3I0JSJ9l0gg2Szc+u3pYEKv6RwyDu+yh9ziSBQFBcMYvnAtQsRSrlLaSlWA6PdcMiRHSF7K+Qa4I4BUgzZK6gHAgyV54ysSEWslgB7GLsEnmQCmv+OgE2U7yD7WrTQI0vv/lOFZsAKX4TOY/is6o3O4iq3hzCrd4A7NJ7IWlRZJ25vcBisp5aG4jHeexFFODPXusNabU2U2tt662AaDMwdyBgmhVdjkgZk5KGlJQUhGGOsXE8GOg00ZwKsxou4zy4hteAV+YrJlVQs2waG4sgnfbyoINJQN/qHhMMPLYdyDtC8CWetNCGLhb7juLoIPu82FYdRAU2d0EhXETnoo4ANj9AlBsiug5wm1CkFNv1IN30OjawL6DwOwgVFz0AE/l5SOexfhZPiviu97BBUY0nS9Sk686TWycP2xAPeiiY3VhAqhkJNyPRhr85fr8/t1GjRsPmz59/Q1pa2n0JCQllDdcIdw8VeXl5xxcuXDi2S5cueBZBsBkj2PR6bPrmB3qbrNwjnoE+DVD09yYJBILijtd5rhzBAsARM0n6KxDEFRazDQd7F8EzqDd4MMGZNYFUyqlsq1xNoXeHtIIFTH7gd1Teo/5u53Xq9kjozeG1SpPejrNND/seEcA9eJ3lBOjbf0iLKryPv4tiqbckGYcEghKPVTzAo5A/orsQ6YbNGOry54jJRgFYFAHF9smR2GkJFSWv5/uiPl0H0lIvajHRguJcG7gNHyqSEYE2oK5YG9J2v0QbBnN7qjOhAkJtLU+yqL+yo4TqAd4dEKqNqDBi73xeTOhtwPOANFOQbWtKqB506GannkqaR0Wj23TSS40u69Kly4yBAwf+NGTIkMEVK1Y8w3B+vsl11b9ZWVm/jRw58rn09HRE9J2gwg0PjFFsxwPa4AnB5vf7nRD7XjgD8B12V+5f2qOeBYKSAoyD2FBoIs8Zv/N8ETME2xjBymYJbvsbrD6cR/cUCLwCIsk7MtkD+/YZfp1r8fya/Pxj3YDaW4jIOuBR22ax7Yf2NHR5LZS5QdTTLtFbTPWGPsIxDwcFgjqQSjrUxvVhd4Ksg0MeTn8EPnxanPUmRJtAUHoAcmNYjNsAA/U5lljhB5bSrgcQbi+wlEQ9WCLAAt7XyS1jHbfAdNKy6enpaz/55JO7Fy5c+DgVjTwLhEre/fHHH3PS0tL+s2bNGn1jA/w11mLTU0VzAtrgpj+xBgysR/x+/xESCAQlDevIgVMuWiSU8T4e3TNsf4VgE8QpkH+JzeuQgoeC9Eh7xiZt86mwhJARp5DmdEeaNJzzcHzeQ1o5Ka+B0jaog4hSLShTYjfaaDf3axx5v1mU6M0ZYNMiCg0bF7zKaw0Ql8ioggN/X8DxKI0CZ/81ivQkzQEPPSOLZU9x15svX9JCBQKBQFCCwDuEIrUTuxtV4L+JbBgZUzWPBzGWfIbJH+eU4WuV4+uUpcJNYXD+Eb6WGpGGnUQN99fPSabC2hC5VEi06VFsej02s1RRy/3B/eUJEAgEAoGg9GDgwIFWDsOmWEjH686EBuwPlAY6yLZPXT4GNslS0iI5p/L/IZGebr5PVpMWbay0DWVsQNAg4+JCMo+qR1uQoYI0QKQUHgt34VA7lIveIqo32NHYEOFe0soTgdhCzfddbO/Clm3E70OfIOOwqcLW4qq3QJ1JRJtAIBAISiJAVulRaDCKEqlo7bX8EOcRFY0s06Pa8LeMYe7USbNcKprqaTznOBsberHUHJ64jbuK5lL4HUWd9kcgEAgEAoEABMcwltNIi9gC0ZHMn4MEQXkL7LwZ7Wh0RC/9iwVlRFAv/nTSyrvAzsHmXZtJiybLEr0VC73BDp7NAsdzc9KIyjqkEVtwEqPG2VrWX4nTmxBtAoFAIChpMBJdJ3hCTzT8H0iMmV2DqJDE0tNIk1h8/L8x5TPQwMjh43C+vnOoXvMtsB35Ee6PQCAQCAQCAbCDIlOL2Asg7fIz0VuJ0hsyOL5jKTV6k9RRgUAgEJQo+BSQRkSBENMj0HTCSye57ESC4Vw9lTSRX+th5jrJppJdypyaz/dPMByrO7WMhJkdcsxyf/JlUhcIBAKBQCAQCGIKiWgTCAQCQUmETmgR/9WJKWMaqFUYN0rAuUaizfhZ4DnGaLjAY8NFsUWyPwKBQCAQCAQCgSBCEKJNIBAIBCUNgWmfPiokpgLJLrvXtLIjqJ1jY9UfgUAgEAgEAoFAEAEI0SYQCASCkggjOeUL8n6+i2vme3xsrPojEAgEAoFAIBAIPIbUaBMIBAKBQCAQCAQCgUAgEAg8wP8LMADFt5hSV0kCvQAAAABJRU5ErkJggg==\") no-repeat 0 0; background-position: 0px -8px; background-color: transparent; width: 22px; height: 22px; margin-top: 9px !important; margin-left: 20px !important; }#context-menu-br_video_player_affc5330365711229dfb318480a94f3264ab5b5e .context-menu-text-container { width: 160px; height: 22px; float: right; }#context-menu-br_video_player_affc5330365711229dfb318480a94f3264ab5b5e .context-menu-text { width: 120px; height: 22px; font-size: 12px; color: #CCC; font-weight: 600; margin-top: 14px !important; margin-left: 28px !important; font-family: arial; line-height: 15px; }#br_video_player_affc5330365711229dfb318480a94f3264ab5b5e .autoskip-btn {pointer-events: all; width: 100%; padding: 9px 0px; font-size: 10px; font-family: arial; font-weight: 500; font-stretch: normal; font-style: normal; line-height: normal; letter-spacing: 1.78px; text-align: center; color: #ffffff; margin: 5px 0px; cursor: pointer; z-index: 10}#br_video_player_affc5330365711229dfb318480a94f3264ab5b5e .autoskip-btn-blue {background-color: #1E7ABB}#br_video_player_affc5330365711229dfb318480a94f3264ab5b5e .autoskip-btn-gray {background-color: #3E3E3E}#br_video_player_affc5330365711229dfb318480a94f3264ab5b5e .autoskip-btn-blue-compact {background-color: #1E7ABB; width: 50%; position: absolute; bottom: 0px; left: 0px}#br_video_player_affc5330365711229dfb318480a94f3264ab5b5e .autoskip-btn-gray-compact {background-color: #3E3E3E; width: 50%; position: absolute; bottom: 0px; right: 0px}#br_video_player_affc5330365711229dfb318480a94f3264ab5b5e .trv-autoskip-container {display: none; position: absolute; top: 22px; right: 32px; width: 30%; z-index: 10;}#br_video_player_affc5330365711229dfb318480a94f3264ab5b5e .trv-autoskip-background {background-color: white; display: flex; justify-content: center; align-items: center; padding: 5px; position: relative;}#br_video_player_affc5330365711229dfb318480a94f3264ab5b5e .trv-autoskip-container-compact {z-index: 10; position: absolute; bottom: 0px; width: 100%; height: 100%; align-items: flex-end; pointer-events: none; display: flex; flex-direction: row-reverse;}#br_video_player_affc5330365711229dfb318480a94f3264ab5b5e .trv-autoskip-background-compact {height: 100%; width: 100%; position: absolute; z-index: 20;}#br_video_player_affc5330365711229dfb318480a94f3264ab5b5e .autoskip-btn-compact {height: 30px; margin: 0px; line-height: 30px; font-size: 12px;}#br_video_player_affc5330365711229dfb318480a94f3264ab5b5e .trv-autoskip-line-top {display: none; width: 100%; height: 5px; background: transparent; position: absolute; top: 0px; left: 0px;}#br_video_player_affc5330365711229dfb318480a94f3264ab5b5e .trv-autoskip-line-top::before {content: \"\"; position: absolute; top: 0; left: 0; width: 0%; height: 100%; background: #1EAAF1; animation: animate-top 1.25s linear 1 forwards;}#br_video_player_affc5330365711229dfb318480a94f3264ab5b5e .trv-autoskip-line-right {display: none; width: 5px; height: 100%; background: transparent; position: absolute; top: 0px; right: 0px;}#br_video_player_affc5330365711229dfb318480a94f3264ab5b5e .trv-autoskip-line-right::before {content: \"\"; position: absolute; top: 0; right: 0; width: 100%; height: 0%; background: #1EAAF1; animation: animate-right 1.25s linear 1 forwards;}#br_video_player_affc5330365711229dfb318480a94f3264ab5b5e .trv-autoskip-line-bottom {display: none; width: 100%; height: 5px; background: transparent; position: absolute; bottom: 0px; right: 0px;}#br_video_player_affc5330365711229dfb318480a94f3264ab5b5e .trv-autoskip-line-bottom::before {content: \"\"; position: absolute; bottom: 0; right: 0; width: 0%; height: 100%; background: #1EAAF1; animation: animate-bottom 1.25s linear 1 forwards;}#br_video_player_affc5330365711229dfb318480a94f3264ab5b5e .trv-autoskip-line-left {display: none; width: 5px; height: 100%; background: transparent; position: absolute; bottom: 0px; left: 0px;}#br_video_player_affc5330365711229dfb318480a94f3264ab5b5e .trv-autoskip-line-left::before {content: \"\"; position: absolute; bottom: 0; left: 0; width: 100%; height: 0%; background: #1EAAF1; animation: animate-left 1.25s linear 1 forwards;}@keyframes animate-top {0% {width: 0px;} 100% {width: 100%;}}@keyframes animate-right {0% {height: 0px;} 100% {height: 100%;}}@keyframes animate-bottom {0% {width: 0px;} 100% {width: 100%;}}@keyframes animate-left {0% {height: 0px;} 100% {height: 100%;}}#br_video_player_affc5330365711229dfb318480a94f3264ab5b5e .trv-autoskip-poster-compact {display:none}#br_video_player_affc5330365711229dfb318480a94f3264ab5b5e .trv-autoskip-poster {width: 100%;}@media screen and (max-width: 479px) { #br_video_player_affc5330365711229dfb318480a94f3264ab5b5e .videoTitle { display:none; } }</style><div class=\"trv-autoskip-container\"><div class=\"trv-autoskip-background\"><img class=\"trv-autoskip-poster\" alt=\"auto skip\"><div class=\"trv-autoskip-line-top\"></div><div class=\"trv-autoskip-line-right\"></div><div class=\"trv-autoskip-line-bottom\"></div><div class=\"trv-autoskip-line-left\"></div></div><div class=\"autoskip-btn autoskip-btn-blue\"></div><div class=\"autoskip-btn autoskip-btn-gray\"></div></div><div><iframe id=\"multisync-iframe\" height=\"0\" width=\"0\" marginwidth=\"0\" marginheight=\"0\" scrolling=\"no\" frameborder=\"0\" src=\"https://secure-assets.rubiconproject.com/utils/xapi/multi-sync.html?p=truvid&amp;endpoint=us-east\" style=\"border: 0; display: none;\"></iframe></div><img src=\"https://ads.stickyadstv.com/auto-user-sync?_fw_gdpr=0&amp;_fw_gdpr_consent=\" style=\"border: 0px; width: 1px; height: 1px;\"><img src=\"https://ads.stickyadstv.com/user-matching?id=2545&amp;_fw_gdpr=0&amp;_fw_gdpr_consent=\" style=\"border: 0px; width: 1px; height: 1px;\"></div></div></div></div></body><ins id=\"gpt_unit_/21678864329/ElPeruano_Web-ITT_0\" data-google-query-id=\"CIrA0Z3v6YMDFVG6lQIdpY0PFw\" aria-hidden=\"true\" data-vignette-loaded=\"true\" style=\"display: none !important; width: 100vw !important; height: 100vh !important; inset: 0px auto auto 0px !important; clear: none !important; float: none !important; margin: 0px !important; max-height: none !important; max-width: none !important; opacity: 1 !important; overflow: visible !important; padding: 0px !important; position: fixed !important; vertical-align: baseline !important; visibility: visible !important; z-index: 2147483647 !important; background: transparent !important;\"><div id=\"google_ads_iframe_/21678864329/ElPeruano_Web-ITT_0__container__\" style=\"border: 0pt none !important; display: inline-block !important; width: 100vw !important; height: 100vh !important; inset: auto !important; clear: none !important; float: none !important; margin: 0px !important; max-height: none !important; max-width: none !important; opacity: 1 !important; overflow: visible !important; padding: 0px !important; position: static !important; vertical-align: baseline !important; visibility: visible !important; z-index: auto !important;\"><iframe frameborder=\"0\" src=\"https://0b2c64bee626c64c4abdf7091e95dc94.safeframe.googlesyndication.com/safeframe/1-0-40/html/container.html\" id=\"google_ads_iframe_/21678864329/ElPeruano_Web-ITT_0\" title=\"3rd party ad content\" name=\"\" scrolling=\"no\" marginwidth=\"0\" marginheight=\"0\" width=\"\" height=\"\" data-is-safeframe=\"true\" sandbox=\"allow-forms allow-popups allow-popups-to-escape-sandbox allow-same-origin allow-scripts allow-top-navigation-by-user-activation\" aria-label=\"Advertisement\" tabindex=\"0\" data-google-container-id=\"a\" data-load-complete=\"true\" style=\"border: 0px !important; vertical-align: bottom !important; width: 100vw !important; height: 100vh !important; inset: 0px auto auto 0px !important; position: absolute !important; clear: none !important; display: inline !important; float: none !important; margin: 0px !important; max-height: none !important; max-width: none !important; opacity: 1 !important; overflow: visible !important; padding: 0px !important; visibility: visible !important; z-index: auto !important;\"></iframe></div></ins></html>'"
      ]
     },
     "execution_count": 20,
     "metadata": {},
     "output_type": "execute_result"
    }
   ],
   "source": [
    "driver.page_source"
   ]
  },
  {
   "cell_type": "code",
   "execution_count": 21,
   "metadata": {},
   "outputs": [],
   "source": [
    "# Refresh the page - \n",
    "driver.refresh() #reload or refresh the browser"
   ]
  },
  {
   "cell_type": "code",
   "execution_count": 29,
   "metadata": {
    "scrolled": true
   },
   "outputs": [],
   "source": [
    "from selenium import webdriver\n",
    "from selenium.webdriver.chrome.service import Service \n",
    "    \n",
    "service = Service(executable_path=\"chromedriver-win64/chromedriver.exe\")\n",
    "options =webdriver.ChromeOptions()\n",
    "driver =webdriver. Chrome(service=service, options = options) \n",
    "driver.maximize_window() #maximizar la ventana del navegador web que estás controlando mediante el WebDriver de Selenium.\n",
    "\n",
    "url_1 = \"https://resultadoshistorico.onpe.gob.pe/EG2021/\"\n",
    "driver.get( url_1 )\n",
    "time.sleep(3)\n",
    "\n",
    "url_2 = \"https://www.google.com/\"\n",
    "driver.get( url_2 )\n",
    "time.sleep(3)\n",
    "\n",
    "driver.back()"
   ]
  },
  {
   "cell_type": "code",
   "execution_count": 35,
   "metadata": {},
   "outputs": [],
   "source": [
    "driver.close()"
   ]
  },
  {
   "cell_type": "code",
   "execution_count": 62,
   "metadata": {},
   "outputs": [],
   "source": [
    "driver.quit()"
   ]
  },
  {
   "cell_type": "markdown",
   "metadata": {},
   "source": [
    "![Quite and Close](Images/quite_close.png)"
   ]
  },
  {
   "cell_type": "code",
   "execution_count": 37,
   "metadata": {},
   "outputs": [
    {
     "data": {
      "text/plain": [
       "selenium.webdriver.chrome.webdriver.WebDriver"
      ]
     },
     "execution_count": 37,
     "metadata": {},
     "output_type": "execute_result"
    }
   ],
   "source": [
    "type(driver)"
   ]
  },
  {
   "cell_type": "markdown",
   "metadata": {},
   "source": [
    "driver es una instancia de la clase WebDriver específicamente del subpaquete chrome.webdriver de Selenium. Esto significa que estás utilizando un WebDriver diseñado para interactuar con el navegador Google Chrome."
   ]
  },
  {
   "cell_type": "markdown",
   "metadata": {},
   "source": [
    "`driver` is an `selenium.webdriver.chrome.webdriver.WebDriver` object. This object has some attributes that will help us to navigate on the web."
   ]
  },
  {
   "cell_type": "markdown",
   "metadata": {},
   "source": [
    "Now, you can see in the driver that we are in [this link](https://www.convocatoriascas.com/)."
   ]
  },
  {
   "cell_type": "markdown",
   "metadata": {},
   "source": [
    "# Extra - Best Practices before working"
   ]
  },
  {
   "cell_type": "markdown",
   "metadata": {},
   "source": [
    "1. Maximize the browser"
   ]
  },
  {
   "cell_type": "code",
   "execution_count": 30,
   "metadata": {},
   "outputs": [
    {
     "ename": "TypeError",
     "evalue": "WebDriver.__init__() got an unexpected keyword argument 'executable_path'",
     "output_type": "error",
     "traceback": [
      "\u001b[1;31m---------------------------------------------------------------------------\u001b[0m",
      "\u001b[1;31mTypeError\u001b[0m                                 Traceback (most recent call last)",
      "Cell \u001b[1;32mIn[30], line 1\u001b[0m\n\u001b[1;32m----> 1\u001b[0m driver \u001b[38;5;241m=\u001b[39m webdriver\u001b[38;5;241m.\u001b[39mChrome(executable_path\u001b[38;5;241m=\u001b[39m\u001b[38;5;124mr\u001b[39m\u001b[38;5;124m'\u001b[39m\u001b[38;5;124mchromedriver-win64/chromedriver.exe\u001b[39m\u001b[38;5;124m'\u001b[39m)\n\u001b[0;32m      3\u001b[0m url \u001b[38;5;241m=\u001b[39m \u001b[38;5;124m'\u001b[39m\u001b[38;5;124mhttps://www.kaspersky.com/resource-center/definitions/cookies\u001b[39m\u001b[38;5;124m'\u001b[39m\n\u001b[0;32m      4\u001b[0m driver\u001b[38;5;241m.\u001b[39mget( url )\n",
      "\u001b[1;31mTypeError\u001b[0m: WebDriver.__init__() got an unexpected keyword argument 'executable_path'"
     ]
    }
   ],
   "source": [
    "driver = webdriver.Chrome(executable_path=r'chromedriver-win64/chromedriver.exe')\n",
    "\n",
    "url = 'https://www.kaspersky.com/resource-center/definitions/cookies'\n",
    "driver.get( url )\n",
    "\n",
    "driver.maximize_window()"
   ]
  },
  {
   "cell_type": "markdown",
   "metadata": {},
   "source": [
    "2. Set the Browser Zoom Level to 100 percent"
   ]
  },
  {
   "cell_type": "code",
   "execution_count": 28,
   "metadata": {},
   "outputs": [],
   "source": [
    "driver.execute_script(\"document.body.style.zoom='100%'\")"
   ]
  },
  {
   "cell_type": "markdown",
   "metadata": {},
   "source": [
    "### 7.4.1. HTML\n",
    "HTML stands for HyperText Markup Language. You can deduce that it’s a language for creating web pages. It’s not a programming language like Python or Java, but it’s a markup language. It describes the elements of a page through tags characterized by angle brackets.\n",
    "\n",
    "1. The document always begins and ends using `<html>` and `</html>`.\n",
    "2. `<body></body>` constitutes the visible part of HTML document.\n",
    "3. `<h1>` to `<h3>` tags are defined for the headings."
   ]
  },
  {
   "cell_type": "markdown",
   "metadata": {},
   "source": [
    "#### 7.4.1.1. HTML Headings\n",
    "HTML headings are defined with the `<h1>` to `<h6>` tags.\n",
    "`<h1>` defines the most important heading. `<h6>` defines the least important heading.\n",
    "\n",
    "We can use text cells since markdown reads html tags."
   ]
  },
  {
   "cell_type": "markdown",
   "metadata": {},
   "source": [
    "<h1>This is heading 1</h1>\n",
    "<h2>This is heading 2</h2>\n",
    "<h3>This is heading 3</h3>"
   ]
  },
  {
   "cell_type": "markdown",
   "metadata": {},
   "source": [
    "#### 7.4.1.2. HTML Paragraphs\n",
    "HTML paragraphs are defined with the `<p>` tag.\n",
    "`<br>` tag is similar to `\"\\n\"`."
   ]
  },
  {
   "cell_type": "markdown",
   "metadata": {},
   "source": [
    "<html>\n",
    "<br>\n",
    "<p>My first paragraph.</p> <br>\n",
    "<p>This is another paragraph for this text cell.</p>\n",
    "<html>"
   ]
  },
  {
   "cell_type": "markdown",
   "metadata": {},
   "source": [
    "#### 7.4.1.3. HTML Links\n",
    "HTML links are defined with the <a> tag:"
   ]
  },
  {
   "cell_type": "markdown",
   "metadata": {},
   "source": [
    "<a href=\"http://bayes.cs.ucla.edu/jp_home.html\">This is a link for Judea Pearl Website</a>"
   ]
  },
  {
   "cell_type": "markdown",
   "metadata": {},
   "source": [
    "#### 7.4.1.3. Unordered HTML List\n",
    "An unordered list starts with the `<ul>` tag. Each list item starts with the `<li>` tag."
   ]
  },
  {
   "cell_type": "markdown",
   "metadata": {},
   "source": [
    "<ul>\n",
    "  <li>Coffee</li>\n",
    "  <li>Tea</li>\n",
    "  <li>Milk</li>\n",
    "</ul>"
   ]
  },
  {
   "cell_type": "markdown",
   "metadata": {},
   "source": [
    "#### 7.4.1.4. Ordered HTML List\n",
    "An ordered list starts with the `<ol>` tag. Each list item starts with the `<li>` tag."
   ]
  },
  {
   "cell_type": "markdown",
   "metadata": {},
   "source": [
    "<ol>\n",
    "  <li>Coffee</li>\n",
    "  <li>Tea</li>\n",
    "  <li>Milk</li>\n",
    "</ol>"
   ]
  },
  {
   "cell_type": "markdown",
   "metadata": {},
   "source": [
    "#### 7.4.1.4. HTML Tables\n",
    "\n",
    "A table in HTML consists of table cells inside rows and columns. Each table cell is defined by a `<td>` and a `</td>` tag. Each table row starts with a `<tr>` and end with a `</tr>` tag."
   ]
  },
  {
   "cell_type": "markdown",
   "metadata": {},
   "source": [
    "<table>\n",
    "  <tr>\n",
    "    <th>Manager</th>\n",
    "    <th>Club</th>\n",
    "    <th>Nationality</th>\n",
    "  </tr>\n",
    "  <tr>\n",
    "    <td>Mikel Arteta</td>\n",
    "    <td>Arsenal</td>\n",
    "    <td>Spain</td>\n",
    "  </tr>\n",
    "  <tr>\n",
    "    <td>Thomas Tuchel</td>\n",
    "    <td>Chelsea</td>\n",
    "    <td>Germany</td>\n",
    "  </tr>\n",
    "</table>"
   ]
  },
  {
   "cell_type": "markdown",
   "metadata": {},
   "source": [
    "#### 7.4.1.5. HTML Iframes\n",
    "\n",
    "An HTML iframe is used to display a web page within a web page."
   ]
  },
  {
   "cell_type": "markdown",
   "metadata": {},
   "source": [
    "\n",
    "<!DOCTYPE html>\n",
    "<html>\n",
    "  \n",
    "<head>\n",
    "    <title>HTML iframe src Attribute</title>\n",
    "</head>\n",
    "  \n",
    "<body style=\"text-align: center\">\n",
    "    <h1>Diploma</h1>\n",
    "    <h2>HTML iframe</h2>\n",
    "    <iframe>\n",
    "          \n",
    "        <!DOCTYPE html>\n",
    "        <html>\n",
    "\n",
    "        <head>\n",
    "            <title>New html</title>\n",
    "        </head>\n",
    "\n",
    "        <body style=\"text-align: center\">\n",
    "            <h1>Diploma2</h1>\n",
    "            <h2>HTML iframe</h2>\n",
    "            <iframe>\n",
    "\n",
    "            </iframe>\n",
    "        </body>\n",
    "\n",
    "        </html>\n",
    "    </iframe>\n",
    "</body>\n",
    "  \n",
    "</html>"
   ]
  },
  {
   "cell_type": "markdown",
   "metadata": {},
   "source": [
    "#### 7.4.1.6. HTML Tags - Key"
   ]
  },
  {
   "cell_type": "markdown",
   "metadata": {},
   "source": [
    "|Tag|Description|\n",
    "|---|---|\n",
    "|`<h1>` to `<h6>`|\tDefines HTML headings|\n",
    "|`<ul>`|\tDefines an unordered list|\n",
    "|`<ol>`|\tDefines an ordered list|\n",
    "|`<p>`|\tDefines a paragraph|\n",
    "|`<a>`|\tIt is termed as anchor tag and it creates a hyperlink or link.|\n",
    "|`<div>`|\tIt defines a division or section within HTML document.|\n",
    "|`<strong>`|\tIt is used to define important text.|\n",
    "|`<table>`|\tIt is used to present data in tabular form or to create a table within HTML document.|\n",
    "|`<td>`|\tIt is used to define cells of an HTML table which contains table data|\n",
    "|`<iframe>`|\tDefines an inline frame|"
   ]
  },
  {
   "cell_type": "markdown",
   "metadata": {},
   "source": [
    "### 7.4. Identifying elements in a web page\n",
    "\n",
    "To identify elements of a webpage, we need to inspect the webpage. Open the driver and press `Ctrl`+ `Shift` + `I`."
   ]
  },
  {
   "cell_type": "markdown",
   "metadata": {},
   "source": [
    "#### One Element\n",
    "|Method|Description|\n",
    "|---|---|\n",
    "|find_element_by_id| Use id.|\n",
    "|find_element_by_name| Use name.|\n",
    "|find_element_by_xpath| Use Xpath.|\n",
    "|find_element_by_tag_name| Use HTML tag.|\n",
    "|find_element_by_class_name| Use class name.|\n",
    "|find_element_by_css_selector| Use css selector.|"
   ]
  },
  {
   "cell_type": "markdown",
   "metadata": {},
   "source": [
    "#### Multiple  elements\n",
    "|Method|Description|\n",
    "|---|---|\n",
    "|find_elements_by_id| Use id.|\n",
    "|find_elements_by_name| Use name.|\n",
    "|find_elements_by_xpath| Use Xpath.|\n",
    "|find_elements_by_tag_name| Use HTML tag.|\n",
    "|find_elements_by_class_name| Use class name.|\n",
    "|find_elements_by_css_selector| Use css selector.|"
   ]
  },
  {
   "cell_type": "markdown",
   "metadata": {},
   "source": [
    "### 7.4.1. Xpath\n",
    "XPath in Selenium is an XML path used for navigation through the HTML structure of the page. It is a syntax or language for finding any element on a web page using XML path expression.\n",
    "\n",
    "The basic format of XPath in selenium is explained below with screen shot.\n",
    "<img src=\"../_images/x_path.png\">"
   ]
  },
  {
   "cell_type": "markdown",
   "metadata": {},
   "source": [
    "**DO NOT COMPLICATE!**\n",
    "Finding the XPath of a element:\n",
    "1. Go to the element\n",
    "2. Right click\n",
    "3. Inspect - You may have to do it twice.\n",
    "4. Go to the selected line\n",
    "5. Right click\n",
    "7. Copy \n",
    "8. Copy Full Xpath"
   ]
  },
  {
   "cell_type": "code",
   "execution_count": null,
   "metadata": {},
   "outputs": [],
   "source": [
    "/html/body/onpe-root/onpe-home-onpe/div[1]/div/div/div/div[2]/div[1]/div/div/a/div[1]/img\n",
    "#Cada objeto dentro de la página web tiene un full path "
   ]
  },
  {
   "cell_type": "markdown",
   "metadata": {},
   "source": [
    "**Example**\n",
    "\n",
    "We are going to select `Economistas` option and make a click. Use `find_element_by_xpath` and click."
   ]
  },
  {
   "cell_type": "code",
   "execution_count": 56,
   "metadata": {},
   "outputs": [
    {
     "ename": "TypeError",
     "evalue": "WebDriver.__init__() got an unexpected keyword argument 'executable_path'",
     "output_type": "error",
     "traceback": [
      "\u001b[1;31m---------------------------------------------------------------------------\u001b[0m",
      "\u001b[1;31mTypeError\u001b[0m                                 Traceback (most recent call last)",
      "Cell \u001b[1;32mIn[56], line 1\u001b[0m\n\u001b[1;32m----> 1\u001b[0m driver \u001b[38;5;241m=\u001b[39m webdriver\u001b[38;5;241m.\u001b[39mChrome(executable_path\u001b[38;5;241m=\u001b[39m\u001b[38;5;124mr\u001b[39m\u001b[38;5;124m'\u001b[39m\u001b[38;5;124mchromedriver-win64/chromedriver.exe\u001b[39m\u001b[38;5;124m'\u001b[39m)\n\u001b[0;32m      2\u001b[0m driver\u001b[38;5;241m.\u001b[39mmaximize_window()\n\u001b[0;32m      4\u001b[0m url_1 \u001b[38;5;241m=\u001b[39m \u001b[38;5;124m\"\u001b[39m\u001b[38;5;124mhttps://resultadoshistorico.onpe.gob.pe/EG2021/\u001b[39m\u001b[38;5;124m\"\u001b[39m\n",
      "\u001b[1;31mTypeError\u001b[0m: WebDriver.__init__() got an unexpected keyword argument 'executable_path'"
     ]
    }
   ],
   "source": [
    "driver = webdriver.Chrome(executable_path=r'chromedriver-win64/chromedriver.exe')\n",
    "driver.maximize_window()\n",
    "\n",
    "url_1 = \"https://resultadoshistorico.onpe.gob.pe/EG2021/\"\n",
    "driver.get( url_1 )\n",
    "#time.sleep(3)"
   ]
  },
  {
   "cell_type": "code",
   "execution_count": 33,
   "metadata": {},
   "outputs": [],
   "source": [
    "from selenium.webdriver.common.by import By"
   ]
  },
  {
   "cell_type": "code",
   "execution_count": 34,
   "metadata": {},
   "outputs": [],
   "source": [
    "resumen_general = driver.find_element(By.XPATH, '/html/body/onpe-root/onpe-home-onpe/div[1]/div/div/div/div[2]/div[1]/div/div/a/div[2]/div')\n",
    "resumen_general.click()"
   ]
  },
  {
   "cell_type": "code",
   "execution_count": null,
   "metadata": {},
   "outputs": [],
   "source": [
    "#mapdiv > div > div.amcharts-chart-div > svg > g:nth-child(8) > g > g:nth-child(1) > path:nth-child(36)"
   ]
  },
  {
   "cell_type": "code",
   "execution_count": 35,
   "metadata": {},
   "outputs": [
    {
     "data": {
      "text/plain": [
       "<selenium.webdriver.remote.webelement.WebElement (session=\"2ed23f5d2ef0b23ed0178e1ef76a01c5\", element=\"E8F3D4811399CE63383040456953B07C_element_52\")>"
      ]
     },
     "execution_count": 35,
     "metadata": {},
     "output_type": "execute_result"
    }
   ],
   "source": [
    " driver.find_element(By.XPATH,'/html/body/onpe-root/onpe-layout-container/onpe-onpe-rgen-rsgr/div/div[2]/div[2]/ul/li[1]/a')\n",
    " "
   ]
  },
  {
   "cell_type": "code",
   "execution_count": 37,
   "metadata": {},
   "outputs": [
    {
     "data": {
      "text/plain": [
       "<bound method WebElement.click of <selenium.webdriver.remote.webelement.WebElement (session=\"2ed23f5d2ef0b23ed0178e1ef76a01c5\", element=\"E8F3D4811399CE63383040456953B07C_element_3508\")>>"
      ]
     },
     "execution_count": 37,
     "metadata": {},
     "output_type": "execute_result"
    }
   ],
   "source": [
    " driver.find_element(By.XPATH,'/html/body/onpe-root/onpe-layout-container/onpe-onpe-epres-re/div[1]/div[3]/div[1]/div[1]/div/div/div[1]/select/option[2]').click\n",
    "#Me va a seleccionar PERÚ \n",
    "\n"
   ]
  },
  {
   "cell_type": "code",
   "execution_count": null,
   "metadata": {},
   "outputs": [],
   "source": [
    "AHORA QUIERO MI TABLA DE VOTOS: "
   ]
  },
  {
   "cell_type": "markdown",
   "metadata": {},
   "source": [
    "*Encontrar elemento a partir de tipo de ID*"
   ]
  },
  {
   "cell_type": "code",
   "execution_count": 46,
   "metadata": {},
   "outputs": [],
   "source": [
    "table_path = driver.find_element(By.XPATH,'/html/body/onpe-root/onpe-layout-container/onpe-onpe-epres-re/div[1]/div[4]/div[1]/div[3]')"
   ]
  },
  {
   "cell_type": "code",
   "execution_count": 55,
   "metadata": {},
   "outputs": [],
   "source": [
    "table_html = table_path.get_attribute('innerHTML')\n",
    "#table_html"
   ]
  },
  {
   "cell_type": "code",
   "execution_count": null,
   "metadata": {},
   "outputs": [],
   "source": [
    "import pandas as pd"
   ]
  },
  {
   "cell_type": "code",
   "execution_count": 63,
   "metadata": {},
   "outputs": [
    {
     "data": {
      "text/html": [
       "<div>\n",
       "<style scoped>\n",
       "    .dataframe tbody tr th:only-of-type {\n",
       "        vertical-align: middle;\n",
       "    }\n",
       "\n",
       "    .dataframe tbody tr th {\n",
       "        vertical-align: top;\n",
       "    }\n",
       "\n",
       "    .dataframe thead th {\n",
       "        text-align: right;\n",
       "    }\n",
       "</style>\n",
       "<table border=\"1\" class=\"dataframe\">\n",
       "  <thead>\n",
       "    <tr style=\"text-align: right;\">\n",
       "      <th></th>\n",
       "      <th>TOTAL DE VOTOS</th>\n",
       "      <th>TOTAL DE VOTOS.1</th>\n",
       "      <th>TOTAL DE VOTOS.2</th>\n",
       "      <th>TOTAL DE VOTOS.3</th>\n",
       "      <th>TOTAL DE VOTOS.4</th>\n",
       "      <th>TOTAL DE VOTOS.5</th>\n",
       "    </tr>\n",
       "  </thead>\n",
       "  <tbody>\n",
       "    <tr>\n",
       "      <th>0</th>\n",
       "      <td>ORGANIZACIONES POLÍTICAS</td>\n",
       "      <td>ORGANIZACIONES POLÍTICAS</td>\n",
       "      <td>ORGANIZACIONES POLÍTICAS</td>\n",
       "      <td>TOTAL</td>\n",
       "      <td>%VÁLIDOS</td>\n",
       "      <td>%EMITIDOS</td>\n",
       "    </tr>\n",
       "    <tr>\n",
       "      <th>1</th>\n",
       "      <td>NaN</td>\n",
       "      <td>NaN</td>\n",
       "      <td>PARTIDO NACIONALISTA PERUANO</td>\n",
       "      <td>228955</td>\n",
       "      <td>1.608%</td>\n",
       "      <td>1.309%</td>\n",
       "    </tr>\n",
       "    <tr>\n",
       "      <th>2</th>\n",
       "      <td>NaN</td>\n",
       "      <td>NaN</td>\n",
       "      <td>EL FRENTE AMPLIO POR JUSTICIA, VIDA Y LIBERTAD</td>\n",
       "      <td>64217</td>\n",
       "      <td>0.451%</td>\n",
       "      <td>0.367%</td>\n",
       "    </tr>\n",
       "    <tr>\n",
       "      <th>3</th>\n",
       "      <td>NaN</td>\n",
       "      <td>NaN</td>\n",
       "      <td>PARTIDO MORADO</td>\n",
       "      <td>319176</td>\n",
       "      <td>2.242%</td>\n",
       "      <td>1.825%</td>\n",
       "    </tr>\n",
       "    <tr>\n",
       "      <th>4</th>\n",
       "      <td>NaN</td>\n",
       "      <td>NaN</td>\n",
       "      <td>PERU PATRIA SEGURA</td>\n",
       "      <td>54341</td>\n",
       "      <td>0.382%</td>\n",
       "      <td>0.311%</td>\n",
       "    </tr>\n",
       "    <tr>\n",
       "      <th>5</th>\n",
       "      <td>NaN</td>\n",
       "      <td>NaN</td>\n",
       "      <td>VICTORIA NACIONAL</td>\n",
       "      <td>802957</td>\n",
       "      <td>5.639%</td>\n",
       "      <td>4.592%</td>\n",
       "    </tr>\n",
       "    <tr>\n",
       "      <th>6</th>\n",
       "      <td>NaN</td>\n",
       "      <td>NaN</td>\n",
       "      <td>ACCION POPULAR</td>\n",
       "      <td>1294681</td>\n",
       "      <td>9.092%</td>\n",
       "      <td>7.404%</td>\n",
       "    </tr>\n",
       "    <tr>\n",
       "      <th>7</th>\n",
       "      <td>NaN</td>\n",
       "      <td>NaN</td>\n",
       "      <td>AVANZA PAIS - PARTIDO DE INTEGRACION SOCIAL</td>\n",
       "      <td>1652682</td>\n",
       "      <td>11.607%</td>\n",
       "      <td>9.452%</td>\n",
       "    </tr>\n",
       "    <tr>\n",
       "      <th>8</th>\n",
       "      <td>NaN</td>\n",
       "      <td>NaN</td>\n",
       "      <td>PODEMOS PERU</td>\n",
       "      <td>808559</td>\n",
       "      <td>5.678%</td>\n",
       "      <td>4.624%</td>\n",
       "    </tr>\n",
       "    <tr>\n",
       "      <th>9</th>\n",
       "      <td>NaN</td>\n",
       "      <td>NaN</td>\n",
       "      <td>JUNTOS POR EL PERU</td>\n",
       "      <td>1111407</td>\n",
       "      <td>7.805%</td>\n",
       "      <td>6.356%</td>\n",
       "    </tr>\n",
       "    <tr>\n",
       "      <th>10</th>\n",
       "      <td>NaN</td>\n",
       "      <td>NaN</td>\n",
       "      <td>PARTIDO POPULAR CRISTIANO - PPC</td>\n",
       "      <td>282007</td>\n",
       "      <td>1.981%</td>\n",
       "      <td>1.613%</td>\n",
       "    </tr>\n",
       "    <tr>\n",
       "      <th>11</th>\n",
       "      <td>NaN</td>\n",
       "      <td>NaN</td>\n",
       "      <td>FUERZA POPULAR</td>\n",
       "      <td>1907896</td>\n",
       "      <td>13.399%</td>\n",
       "      <td>10.911%</td>\n",
       "    </tr>\n",
       "    <tr>\n",
       "      <th>12</th>\n",
       "      <td>NaN</td>\n",
       "      <td>NaN</td>\n",
       "      <td>UNION POR EL PERU</td>\n",
       "      <td>100312</td>\n",
       "      <td>0.704%</td>\n",
       "      <td>0.574%</td>\n",
       "    </tr>\n",
       "    <tr>\n",
       "      <th>13</th>\n",
       "      <td>NaN</td>\n",
       "      <td>NaN</td>\n",
       "      <td>RENOVACION POPULAR</td>\n",
       "      <td>1657575</td>\n",
       "      <td>11.641%</td>\n",
       "      <td>9.480%</td>\n",
       "    </tr>\n",
       "    <tr>\n",
       "      <th>14</th>\n",
       "      <td>NaN</td>\n",
       "      <td>NaN</td>\n",
       "      <td>RENACIMIENTO UNIDO NACIONAL</td>\n",
       "      <td>88634</td>\n",
       "      <td>0.622%</td>\n",
       "      <td>0.507%</td>\n",
       "    </tr>\n",
       "    <tr>\n",
       "      <th>15</th>\n",
       "      <td>NaN</td>\n",
       "      <td>NaN</td>\n",
       "      <td>PARTIDO DEMOCRATICO SOMOS PERU</td>\n",
       "      <td>237367</td>\n",
       "      <td>1.667%</td>\n",
       "      <td>1.357%</td>\n",
       "    </tr>\n",
       "    <tr>\n",
       "      <th>16</th>\n",
       "      <td>NaN</td>\n",
       "      <td>NaN</td>\n",
       "      <td>PARTIDO POLITICO NACIONAL PERU LIBRE</td>\n",
       "      <td>2714152</td>\n",
       "      <td>19.061%</td>\n",
       "      <td>15.522%</td>\n",
       "    </tr>\n",
       "    <tr>\n",
       "      <th>17</th>\n",
       "      <td>NaN</td>\n",
       "      <td>NaN</td>\n",
       "      <td>DEMOCRACIA DIRECTA</td>\n",
       "      <td>50184</td>\n",
       "      <td>0.352%</td>\n",
       "      <td>0.287%</td>\n",
       "    </tr>\n",
       "    <tr>\n",
       "      <th>18</th>\n",
       "      <td>NaN</td>\n",
       "      <td>NaN</td>\n",
       "      <td>ALIANZA PARA EL PROGRESO</td>\n",
       "      <td>863955</td>\n",
       "      <td>6.068%</td>\n",
       "      <td>4.941%</td>\n",
       "    </tr>\n",
       "    <tr>\n",
       "      <th>19</th>\n",
       "      <td>NaN</td>\n",
       "      <td>NaN</td>\n",
       "      <td>TOTAL DE VOTOS VÁLIDOS</td>\n",
       "      <td>14239057</td>\n",
       "      <td>100.000%</td>\n",
       "      <td>81.432%</td>\n",
       "    </tr>\n",
       "    <tr>\n",
       "      <th>20</th>\n",
       "      <td>NaN</td>\n",
       "      <td>NaN</td>\n",
       "      <td>VOTOS EN BLANCO</td>\n",
       "      <td>2159535</td>\n",
       "      <td>NaN</td>\n",
       "      <td>12.350%</td>\n",
       "    </tr>\n",
       "    <tr>\n",
       "      <th>21</th>\n",
       "      <td>NaN</td>\n",
       "      <td>NaN</td>\n",
       "      <td>VOTOS NULOS</td>\n",
       "      <td>1087222</td>\n",
       "      <td>NaN</td>\n",
       "      <td>6.218%</td>\n",
       "    </tr>\n",
       "    <tr>\n",
       "      <th>22</th>\n",
       "      <td>NaN</td>\n",
       "      <td>NaN</td>\n",
       "      <td>TOTAL DE VOTOS EMITIDOS</td>\n",
       "      <td>17485814</td>\n",
       "      <td>NaN</td>\n",
       "      <td>100.000%</td>\n",
       "    </tr>\n",
       "  </tbody>\n",
       "</table>\n",
       "</div>"
      ],
      "text/plain": [
       "              TOTAL DE VOTOS          TOTAL DE VOTOS.1  \\\n",
       "0   ORGANIZACIONES POLÍTICAS  ORGANIZACIONES POLÍTICAS   \n",
       "1                        NaN                       NaN   \n",
       "2                        NaN                       NaN   \n",
       "3                        NaN                       NaN   \n",
       "4                        NaN                       NaN   \n",
       "5                        NaN                       NaN   \n",
       "6                        NaN                       NaN   \n",
       "7                        NaN                       NaN   \n",
       "8                        NaN                       NaN   \n",
       "9                        NaN                       NaN   \n",
       "10                       NaN                       NaN   \n",
       "11                       NaN                       NaN   \n",
       "12                       NaN                       NaN   \n",
       "13                       NaN                       NaN   \n",
       "14                       NaN                       NaN   \n",
       "15                       NaN                       NaN   \n",
       "16                       NaN                       NaN   \n",
       "17                       NaN                       NaN   \n",
       "18                       NaN                       NaN   \n",
       "19                       NaN                       NaN   \n",
       "20                       NaN                       NaN   \n",
       "21                       NaN                       NaN   \n",
       "22                       NaN                       NaN   \n",
       "\n",
       "                                  TOTAL DE VOTOS.2 TOTAL DE VOTOS.3  \\\n",
       "0                         ORGANIZACIONES POLÍTICAS            TOTAL   \n",
       "1                     PARTIDO NACIONALISTA PERUANO           228955   \n",
       "2   EL FRENTE AMPLIO POR JUSTICIA, VIDA Y LIBERTAD            64217   \n",
       "3                                   PARTIDO MORADO           319176   \n",
       "4                               PERU PATRIA SEGURA            54341   \n",
       "5                                VICTORIA NACIONAL           802957   \n",
       "6                                   ACCION POPULAR          1294681   \n",
       "7      AVANZA PAIS - PARTIDO DE INTEGRACION SOCIAL          1652682   \n",
       "8                                     PODEMOS PERU           808559   \n",
       "9                               JUNTOS POR EL PERU          1111407   \n",
       "10                 PARTIDO POPULAR CRISTIANO - PPC           282007   \n",
       "11                                  FUERZA POPULAR          1907896   \n",
       "12                               UNION POR EL PERU           100312   \n",
       "13                              RENOVACION POPULAR          1657575   \n",
       "14                     RENACIMIENTO UNIDO NACIONAL            88634   \n",
       "15                  PARTIDO DEMOCRATICO SOMOS PERU           237367   \n",
       "16            PARTIDO POLITICO NACIONAL PERU LIBRE          2714152   \n",
       "17                              DEMOCRACIA DIRECTA            50184   \n",
       "18                        ALIANZA PARA EL PROGRESO           863955   \n",
       "19                          TOTAL DE VOTOS VÁLIDOS         14239057   \n",
       "20                                 VOTOS EN BLANCO          2159535   \n",
       "21                                     VOTOS NULOS          1087222   \n",
       "22                         TOTAL DE VOTOS EMITIDOS         17485814   \n",
       "\n",
       "   TOTAL DE VOTOS.4 TOTAL DE VOTOS.5  \n",
       "0          %VÁLIDOS        %EMITIDOS  \n",
       "1            1.608%           1.309%  \n",
       "2            0.451%           0.367%  \n",
       "3            2.242%           1.825%  \n",
       "4            0.382%           0.311%  \n",
       "5            5.639%           4.592%  \n",
       "6            9.092%           7.404%  \n",
       "7           11.607%           9.452%  \n",
       "8            5.678%           4.624%  \n",
       "9            7.805%           6.356%  \n",
       "10           1.981%           1.613%  \n",
       "11          13.399%          10.911%  \n",
       "12           0.704%           0.574%  \n",
       "13          11.641%           9.480%  \n",
       "14           0.622%           0.507%  \n",
       "15           1.667%           1.357%  \n",
       "16          19.061%          15.522%  \n",
       "17           0.352%           0.287%  \n",
       "18           6.068%           4.941%  \n",
       "19         100.000%          81.432%  \n",
       "20              NaN          12.350%  \n",
       "21              NaN           6.218%  \n",
       "22              NaN         100.000%  "
      ]
     },
     "execution_count": 63,
     "metadata": {},
     "output_type": "execute_result"
    }
   ],
   "source": [
    "table = pd.read_html(table_html)\n",
    "table[0]"
   ]
  },
  {
   "cell_type": "code",
   "execution_count": 7,
   "metadata": {},
   "outputs": [
    {
     "ename": "WebDriverException",
     "evalue": "Message: unknown error: cannot determine loading status\nfrom target frame detached\n  (Session info: chrome=120.0.6099.225)\nStacktrace:\n\tGetHandleVerifier [0x00007FF6E7B72142+3514994]\n\t(No symbol) [0x00007FF6E7790CE2]\n\t(No symbol) [0x00007FF6E76374C3]\n\t(No symbol) [0x00007FF6E762062C]\n\t(No symbol) [0x00007FF6E761EE3D]\n\t(No symbol) [0x00007FF6E761F7CE]\n\t(No symbol) [0x00007FF6E762DC02]\n\t(No symbol) [0x00007FF6E7644471]\n\t(No symbol) [0x00007FF6E764937A]\n\t(No symbol) [0x00007FF6E761FEC6]\n\t(No symbol) [0x00007FF6E76440AD]\n\t(No symbol) [0x00007FF6E76C2AEF]\n\t(No symbol) [0x00007FF6E76A5D93]\n\t(No symbol) [0x00007FF6E7674BDC]\n\t(No symbol) [0x00007FF6E7675C64]\n\tGetHandleVerifier [0x00007FF6E7B9E16B+3695259]\n\tGetHandleVerifier [0x00007FF6E7BF6737+4057191]\n\tGetHandleVerifier [0x00007FF6E7BEE4E3+4023827]\n\tGetHandleVerifier [0x00007FF6E78C04F9+689705]\n\t(No symbol) [0x00007FF6E779C048]\n\t(No symbol) [0x00007FF6E7798044]\n\t(No symbol) [0x00007FF6E77981C9]\n\t(No symbol) [0x00007FF6E77888C4]\n\tBaseThreadInitThunk [0x00007FFF8518257D+29]\n\tRtlUserThreadStart [0x00007FFF8672AA58+40]\n",
     "output_type": "error",
     "traceback": [
      "\u001b[1;31m---------------------------------------------------------------------------\u001b[0m",
      "\u001b[1;31mWebDriverException\u001b[0m                        Traceback (most recent call last)",
      "Cell \u001b[1;32mIn[7], line 6\u001b[0m\n\u001b[0;32m      3\u001b[0m driver \u001b[38;5;241m=\u001b[39m webdriver\u001b[38;5;241m.\u001b[39mChrome(service\u001b[38;5;241m=\u001b[39mservice, options\u001b[38;5;241m=\u001b[39moptions)\n\u001b[0;32m      4\u001b[0m driver\u001b[38;5;241m.\u001b[39mmaximize_window()\n\u001b[1;32m----> 6\u001b[0m driver\u001b[38;5;241m.\u001b[39mget( \u001b[38;5;124m\"\u001b[39m\u001b[38;5;124mhttps://www.legacy.com/obituaries/search\u001b[39m\u001b[38;5;124m\"\u001b[39m)\n\u001b[0;32m      7\u001b[0m name \u001b[38;5;241m=\u001b[39m driver\u001b[38;5;241m.\u001b[39mfind_element(By\u001b[38;5;241m.\u001b[39mXPATH, \u001b[38;5;124m'\u001b[39m\u001b[38;5;124m/html/body/div[1]/div[3]/div[2]/div[2]/div/input[1]\u001b[39m\u001b[38;5;124m'\u001b[39m)\n\u001b[0;32m      8\u001b[0m name\u001b[38;5;241m.\u001b[39msend_keys(\u001b[38;5;124m\"\u001b[39m\u001b[38;5;124mBrown\u001b[39m\u001b[38;5;124m\"\u001b[39m)\n",
      "File \u001b[1;32mC:\\Anaconda\\Lib\\site-packages\\selenium\\webdriver\\remote\\webdriver.py:357\u001b[0m, in \u001b[0;36mWebDriver.get\u001b[1;34m(self, url)\u001b[0m\n\u001b[0;32m    355\u001b[0m \u001b[38;5;28;01mdef\u001b[39;00m \u001b[38;5;21mget\u001b[39m(\u001b[38;5;28mself\u001b[39m, url: \u001b[38;5;28mstr\u001b[39m) \u001b[38;5;241m-\u001b[39m\u001b[38;5;241m>\u001b[39m \u001b[38;5;28;01mNone\u001b[39;00m:\n\u001b[0;32m    356\u001b[0m \u001b[38;5;250m    \u001b[39m\u001b[38;5;124;03m\"\"\"Loads a web page in the current browser session.\"\"\"\u001b[39;00m\n\u001b[1;32m--> 357\u001b[0m     \u001b[38;5;28mself\u001b[39m\u001b[38;5;241m.\u001b[39mexecute(Command\u001b[38;5;241m.\u001b[39mGET, {\u001b[38;5;124m\"\u001b[39m\u001b[38;5;124murl\u001b[39m\u001b[38;5;124m\"\u001b[39m: url})\n",
      "File \u001b[1;32mC:\\Anaconda\\Lib\\site-packages\\selenium\\webdriver\\remote\\webdriver.py:348\u001b[0m, in \u001b[0;36mWebDriver.execute\u001b[1;34m(self, driver_command, params)\u001b[0m\n\u001b[0;32m    346\u001b[0m response \u001b[38;5;241m=\u001b[39m \u001b[38;5;28mself\u001b[39m\u001b[38;5;241m.\u001b[39mcommand_executor\u001b[38;5;241m.\u001b[39mexecute(driver_command, params)\n\u001b[0;32m    347\u001b[0m \u001b[38;5;28;01mif\u001b[39;00m response:\n\u001b[1;32m--> 348\u001b[0m     \u001b[38;5;28mself\u001b[39m\u001b[38;5;241m.\u001b[39merror_handler\u001b[38;5;241m.\u001b[39mcheck_response(response)\n\u001b[0;32m    349\u001b[0m     response[\u001b[38;5;124m\"\u001b[39m\u001b[38;5;124mvalue\u001b[39m\u001b[38;5;124m\"\u001b[39m] \u001b[38;5;241m=\u001b[39m \u001b[38;5;28mself\u001b[39m\u001b[38;5;241m.\u001b[39m_unwrap_value(response\u001b[38;5;241m.\u001b[39mget(\u001b[38;5;124m\"\u001b[39m\u001b[38;5;124mvalue\u001b[39m\u001b[38;5;124m\"\u001b[39m, \u001b[38;5;28;01mNone\u001b[39;00m))\n\u001b[0;32m    350\u001b[0m     \u001b[38;5;28;01mreturn\u001b[39;00m response\n",
      "File \u001b[1;32mC:\\Anaconda\\Lib\\site-packages\\selenium\\webdriver\\remote\\errorhandler.py:229\u001b[0m, in \u001b[0;36mErrorHandler.check_response\u001b[1;34m(self, response)\u001b[0m\n\u001b[0;32m    227\u001b[0m         alert_text \u001b[38;5;241m=\u001b[39m value[\u001b[38;5;124m\"\u001b[39m\u001b[38;5;124malert\u001b[39m\u001b[38;5;124m\"\u001b[39m]\u001b[38;5;241m.\u001b[39mget(\u001b[38;5;124m\"\u001b[39m\u001b[38;5;124mtext\u001b[39m\u001b[38;5;124m\"\u001b[39m)\n\u001b[0;32m    228\u001b[0m     \u001b[38;5;28;01mraise\u001b[39;00m exception_class(message, screen, stacktrace, alert_text)  \u001b[38;5;66;03m# type: ignore[call-arg]  # mypy is not smart enough here\u001b[39;00m\n\u001b[1;32m--> 229\u001b[0m \u001b[38;5;28;01mraise\u001b[39;00m exception_class(message, screen, stacktrace)\n",
      "\u001b[1;31mWebDriverException\u001b[0m: Message: unknown error: cannot determine loading status\nfrom target frame detached\n  (Session info: chrome=120.0.6099.225)\nStacktrace:\n\tGetHandleVerifier [0x00007FF6E7B72142+3514994]\n\t(No symbol) [0x00007FF6E7790CE2]\n\t(No symbol) [0x00007FF6E76374C3]\n\t(No symbol) [0x00007FF6E762062C]\n\t(No symbol) [0x00007FF6E761EE3D]\n\t(No symbol) [0x00007FF6E761F7CE]\n\t(No symbol) [0x00007FF6E762DC02]\n\t(No symbol) [0x00007FF6E7644471]\n\t(No symbol) [0x00007FF6E764937A]\n\t(No symbol) [0x00007FF6E761FEC6]\n\t(No symbol) [0x00007FF6E76440AD]\n\t(No symbol) [0x00007FF6E76C2AEF]\n\t(No symbol) [0x00007FF6E76A5D93]\n\t(No symbol) [0x00007FF6E7674BDC]\n\t(No symbol) [0x00007FF6E7675C64]\n\tGetHandleVerifier [0x00007FF6E7B9E16B+3695259]\n\tGetHandleVerifier [0x00007FF6E7BF6737+4057191]\n\tGetHandleVerifier [0x00007FF6E7BEE4E3+4023827]\n\tGetHandleVerifier [0x00007FF6E78C04F9+689705]\n\t(No symbol) [0x00007FF6E779C048]\n\t(No symbol) [0x00007FF6E7798044]\n\t(No symbol) [0x00007FF6E77981C9]\n\t(No symbol) [0x00007FF6E77888C4]\n\tBaseThreadInitThunk [0x00007FFF8518257D+29]\n\tRtlUserThreadStart [0x00007FFF8672AA58+40]\n"
     ]
    }
   ],
   "source": [
    "service = Service(executable_path=\"chromedriver-win64/chromedriver.exe\")\n",
    "options = webdriver.ChromeOptions()\n",
    "driver = webdriver.Chrome(service=service, options=options)\n",
    "driver.maximize_window()\n",
    "\n",
    "driver.get( \"https://www.legacy.com/obituaries/search\")\n",
    "name = driver.find_element(By.XPATH, '/html/body/div[1]/div[3]/div[2]/div[2]/div/input[1]')\n",
    "name.send_keys(\"Brown\")\n"
   ]
  },
  {
   "cell_type": "code",
   "execution_count": null,
   "metadata": {},
   "outputs": [],
   "source": [
    "service = Service(executable_path=\"chromedriver-win64/chromedriver.exe\")\n",
    "options = webdriver.ChromeOptions()\n",
    "driver = webdriver.Chrome(service=service, options=options)\n",
    "driver.maximize_window()\n",
    "\n",
    "driver.get( \"https://www.legacy.com/obituaries/search\")\n",
    "name = driver.find_element(By.XPATH, '/html/body/div[1]/div[3]/div[2]/div[2]/div/input[1]')\n",
    "name.send_keys(\"Maria\")\n",
    "\n",
    " driver.find_element(By.XPATH, '/html/body/onpe-root/onpe-home-onpe/div[1]/div/div/div/div[2]/div[1]/div/div/a/div[2]/div').click()\n",
    "time.sleep(2)\n",
    "driver.find_element(By.XPATH,'/html/body/onpe-root/onpe-layout-container/onpe-menu/div/nav/div/div/div[2]').click()\n",
    "time.sleep(2)\n",
    "driver.find_element(By.XPATH,'/html/body/onpe-root/onpe-layout-container/onpe-onpe-epres-re/div[1]/div[3]/div[1]/div[1]/div/div/div[1]/select/option[2]').click()\n",
    "time.sleep(2)\n",
    "table_path = driver.find_element(By.XPATH,'/html/body/onpe-root/onpe-layout-container/onpe-onpe-epres-re/div[1]/div[4]/div[1]/div[3]')\n",
    "\n",
    "table_html = table_path.get_attribute('innerHTML')\n",
    "table = pd.read_html(table_html)\n",
    "table[0]"
   ]
  },
  {
   "cell_type": "code",
   "execution_count": 11,
   "metadata": {},
   "outputs": [],
   "source": [
    "from selenium.webdriver.common.keys import Keys \n",
    "from selenium.webdriver import ActionChains\n",
    "from bs4 import BeautifulSoup \n",
    "import os \n",
    "import time\n",
    "from selenium import webdriver \n",
    "from selenium.webdriver.common.by import By \n",
    "from selenium.webdriver.support.ui import WebDriverWait\n",
    "from selenium.webdriver.support import expected_conditions as EC\n",
    "import requests \n",
    "from bs4 import BeautifulSoup"
   ]
  },
  {
   "cell_type": "code",
   "execution_count": 12,
   "metadata": {},
   "outputs": [],
   "source": [
    "import re\n",
    "from selenium.common.exceptions import WebDriverException "
   ]
  },
  {
   "cell_type": "code",
   "execution_count": 66,
   "metadata": {},
   "outputs": [
    {
     "ename": "NoSuchElementException",
     "evalue": "Message: no such element: Unable to locate element: {\"method\":\"xpath\",\"selector\":\"/html/body/onpe-root/onpe-layout-container/onpe-onpe-epres-re/div[1]/div[3]/div[1]/div[1]/div/div/div[1]/select/option[2]\"}\n  (Session info: chrome=120.0.6099.225); For documentation on this error, please visit: https://www.selenium.dev/documentation/webdriver/troubleshooting/errors#no-such-element-exception\nStacktrace:\n\tGetHandleVerifier [0x00007FF78D012142+3514994]\n\t(No symbol) [0x00007FF78CC30CE2]\n\t(No symbol) [0x00007FF78CAD76AA]\n\t(No symbol) [0x00007FF78CB21860]\n\t(No symbol) [0x00007FF78CB2197C]\n\t(No symbol) [0x00007FF78CB64EE7]\n\t(No symbol) [0x00007FF78CB4602F]\n\t(No symbol) [0x00007FF78CB628F6]\n\t(No symbol) [0x00007FF78CB45D93]\n\t(No symbol) [0x00007FF78CB14BDC]\n\t(No symbol) [0x00007FF78CB15C64]\n\tGetHandleVerifier [0x00007FF78D03E16B+3695259]\n\tGetHandleVerifier [0x00007FF78D096737+4057191]\n\tGetHandleVerifier [0x00007FF78D08E4E3+4023827]\n\tGetHandleVerifier [0x00007FF78CD604F9+689705]\n\t(No symbol) [0x00007FF78CC3C048]\n\t(No symbol) [0x00007FF78CC38044]\n\t(No symbol) [0x00007FF78CC381C9]\n\t(No symbol) [0x00007FF78CC288C4]\n\tBaseThreadInitThunk [0x00007FFF8518257D+29]\n\tRtlUserThreadStart [0x00007FFF8672AA58+40]\n",
     "output_type": "error",
     "traceback": [
      "\u001b[1;31m---------------------------------------------------------------------------\u001b[0m",
      "\u001b[1;31mNoSuchElementException\u001b[0m                    Traceback (most recent call last)",
      "Cell \u001b[1;32mIn[66], line 13\u001b[0m\n\u001b[0;32m     11\u001b[0m driver\u001b[38;5;241m.\u001b[39mfind_element(By\u001b[38;5;241m.\u001b[39mXPATH,\u001b[38;5;124m'\u001b[39m\u001b[38;5;124m/html/body/onpe-root/onpe-layout-container/onpe-menu/div/nav/div/div/div[2]\u001b[39m\u001b[38;5;124m'\u001b[39m)\u001b[38;5;241m.\u001b[39mclick()\n\u001b[0;32m     12\u001b[0m time\u001b[38;5;241m.\u001b[39msleep(\u001b[38;5;241m2\u001b[39m)\n\u001b[1;32m---> 13\u001b[0m driver\u001b[38;5;241m.\u001b[39mfind_element(By\u001b[38;5;241m.\u001b[39mXPATH,\u001b[38;5;124m'\u001b[39m\u001b[38;5;124m/html/body/onpe-root/onpe-layout-container/onpe-onpe-epres-re/div[1]/div[3]/div[1]/div[1]/div/div/div[1]/select/option[2]\u001b[39m\u001b[38;5;124m'\u001b[39m)\u001b[38;5;241m.\u001b[39mclick()\n\u001b[0;32m     14\u001b[0m time\u001b[38;5;241m.\u001b[39msleep(\u001b[38;5;241m2\u001b[39m)\n\u001b[0;32m     15\u001b[0m table_path \u001b[38;5;241m=\u001b[39m driver\u001b[38;5;241m.\u001b[39mfind_element(By\u001b[38;5;241m.\u001b[39mXPATH,\u001b[38;5;124m'\u001b[39m\u001b[38;5;124m/html/body/onpe-root/onpe-layout-container/onpe-onpe-epres-re/div[1]/div[4]/div[1]/div[3]\u001b[39m\u001b[38;5;124m'\u001b[39m)\n",
      "File \u001b[1;32mC:\\Anaconda\\Lib\\site-packages\\selenium\\webdriver\\remote\\webdriver.py:742\u001b[0m, in \u001b[0;36mWebDriver.find_element\u001b[1;34m(self, by, value)\u001b[0m\n\u001b[0;32m    739\u001b[0m     by \u001b[38;5;241m=\u001b[39m By\u001b[38;5;241m.\u001b[39mCSS_SELECTOR\n\u001b[0;32m    740\u001b[0m     value \u001b[38;5;241m=\u001b[39m \u001b[38;5;124mf\u001b[39m\u001b[38;5;124m'\u001b[39m\u001b[38;5;124m[name=\u001b[39m\u001b[38;5;124m\"\u001b[39m\u001b[38;5;132;01m{\u001b[39;00mvalue\u001b[38;5;132;01m}\u001b[39;00m\u001b[38;5;124m\"\u001b[39m\u001b[38;5;124m]\u001b[39m\u001b[38;5;124m'\u001b[39m\n\u001b[1;32m--> 742\u001b[0m \u001b[38;5;28;01mreturn\u001b[39;00m \u001b[38;5;28mself\u001b[39m\u001b[38;5;241m.\u001b[39mexecute(Command\u001b[38;5;241m.\u001b[39mFIND_ELEMENT, {\u001b[38;5;124m\"\u001b[39m\u001b[38;5;124musing\u001b[39m\u001b[38;5;124m\"\u001b[39m: by, \u001b[38;5;124m\"\u001b[39m\u001b[38;5;124mvalue\u001b[39m\u001b[38;5;124m\"\u001b[39m: value})[\u001b[38;5;124m\"\u001b[39m\u001b[38;5;124mvalue\u001b[39m\u001b[38;5;124m\"\u001b[39m]\n",
      "File \u001b[1;32mC:\\Anaconda\\Lib\\site-packages\\selenium\\webdriver\\remote\\webdriver.py:348\u001b[0m, in \u001b[0;36mWebDriver.execute\u001b[1;34m(self, driver_command, params)\u001b[0m\n\u001b[0;32m    346\u001b[0m response \u001b[38;5;241m=\u001b[39m \u001b[38;5;28mself\u001b[39m\u001b[38;5;241m.\u001b[39mcommand_executor\u001b[38;5;241m.\u001b[39mexecute(driver_command, params)\n\u001b[0;32m    347\u001b[0m \u001b[38;5;28;01mif\u001b[39;00m response:\n\u001b[1;32m--> 348\u001b[0m     \u001b[38;5;28mself\u001b[39m\u001b[38;5;241m.\u001b[39merror_handler\u001b[38;5;241m.\u001b[39mcheck_response(response)\n\u001b[0;32m    349\u001b[0m     response[\u001b[38;5;124m\"\u001b[39m\u001b[38;5;124mvalue\u001b[39m\u001b[38;5;124m\"\u001b[39m] \u001b[38;5;241m=\u001b[39m \u001b[38;5;28mself\u001b[39m\u001b[38;5;241m.\u001b[39m_unwrap_value(response\u001b[38;5;241m.\u001b[39mget(\u001b[38;5;124m\"\u001b[39m\u001b[38;5;124mvalue\u001b[39m\u001b[38;5;124m\"\u001b[39m, \u001b[38;5;28;01mNone\u001b[39;00m))\n\u001b[0;32m    350\u001b[0m     \u001b[38;5;28;01mreturn\u001b[39;00m response\n",
      "File \u001b[1;32mC:\\Anaconda\\Lib\\site-packages\\selenium\\webdriver\\remote\\errorhandler.py:229\u001b[0m, in \u001b[0;36mErrorHandler.check_response\u001b[1;34m(self, response)\u001b[0m\n\u001b[0;32m    227\u001b[0m         alert_text \u001b[38;5;241m=\u001b[39m value[\u001b[38;5;124m\"\u001b[39m\u001b[38;5;124malert\u001b[39m\u001b[38;5;124m\"\u001b[39m]\u001b[38;5;241m.\u001b[39mget(\u001b[38;5;124m\"\u001b[39m\u001b[38;5;124mtext\u001b[39m\u001b[38;5;124m\"\u001b[39m)\n\u001b[0;32m    228\u001b[0m     \u001b[38;5;28;01mraise\u001b[39;00m exception_class(message, screen, stacktrace, alert_text)  \u001b[38;5;66;03m# type: ignore[call-arg]  # mypy is not smart enough here\u001b[39;00m\n\u001b[1;32m--> 229\u001b[0m \u001b[38;5;28;01mraise\u001b[39;00m exception_class(message, screen, stacktrace)\n",
      "\u001b[1;31mNoSuchElementException\u001b[0m: Message: no such element: Unable to locate element: {\"method\":\"xpath\",\"selector\":\"/html/body/onpe-root/onpe-layout-container/onpe-onpe-epres-re/div[1]/div[3]/div[1]/div[1]/div/div/div[1]/select/option[2]\"}\n  (Session info: chrome=120.0.6099.225); For documentation on this error, please visit: https://www.selenium.dev/documentation/webdriver/troubleshooting/errors#no-such-element-exception\nStacktrace:\n\tGetHandleVerifier [0x00007FF78D012142+3514994]\n\t(No symbol) [0x00007FF78CC30CE2]\n\t(No symbol) [0x00007FF78CAD76AA]\n\t(No symbol) [0x00007FF78CB21860]\n\t(No symbol) [0x00007FF78CB2197C]\n\t(No symbol) [0x00007FF78CB64EE7]\n\t(No symbol) [0x00007FF78CB4602F]\n\t(No symbol) [0x00007FF78CB628F6]\n\t(No symbol) [0x00007FF78CB45D93]\n\t(No symbol) [0x00007FF78CB14BDC]\n\t(No symbol) [0x00007FF78CB15C64]\n\tGetHandleVerifier [0x00007FF78D03E16B+3695259]\n\tGetHandleVerifier [0x00007FF78D096737+4057191]\n\tGetHandleVerifier [0x00007FF78D08E4E3+4023827]\n\tGetHandleVerifier [0x00007FF78CD604F9+689705]\n\t(No symbol) [0x00007FF78CC3C048]\n\t(No symbol) [0x00007FF78CC38044]\n\t(No symbol) [0x00007FF78CC381C9]\n\t(No symbol) [0x00007FF78CC288C4]\n\tBaseThreadInitThunk [0x00007FFF8518257D+29]\n\tRtlUserThreadStart [0x00007FFF8672AA58+40]\n"
     ]
    }
   ],
   "source": [
    "service = Service(executable_path=\"chromedriver-win64/chromedriver.exe\")\n",
    "options = webdriver.ChromeOptions()\n",
    "driver = webdriver.Chrome(service=service, options=options)\n",
    "driver.maximize_window()\n",
    "\n",
    "\n",
    "url = \"https://infogob.jne.gob.pe/Politico\"\n",
    "\n",
    "driver.get( \"https://www.legacy.com/obituaries/search\")\n",
    "name = driver.find_element(By.XPATH, '/html/body/div[1]/div[3]/div[2]/div[2]/div/input[1]')\n",
    "name.send_keys(\"Maria\")\n",
    "\n",
    " driver.find_element(By.XPATH, '/html/body/onpe-root/onpe-home-onpe/div[1]/div/div/div/div[2]/div[1]/div/div/a/div[2]/div').click()\n",
    "time.sleep(2)\n",
    "driver.find_element(By.XPATH,'/html/body/onpe-root/onpe-layout-container/onpe-menu/div/nav/div/div/div[2]').click()\n",
    "time.sleep(2)\n",
    "driver.find_element(By.XPATH,'/html/body/onpe-root/onpe-layout-container/onpe-onpe-epres-re/div[1]/div[3]/div[1]/div[1]/div/div/div[1]/select/option[2]').click()\n",
    "time.sleep(2)\n",
    "table_path = driver.find_element(By.XPATH,'/html/body/onpe-root/onpe-layout-container/onpe-onpe-epres-re/div[1]/div[4]/div[1]/div[3]')\n",
    "\n",
    "table_html = table_path.get_attribute('innerHTML')\n",
    "table = pd.read_html(table_html)\n",
    "table[0]"
   ]
  },
  {
   "cell_type": "code",
   "execution_count": null,
   "metadata": {},
   "outputs": [],
   "source": []
  },
  {
   "cell_type": "code",
   "execution_count": null,
   "metadata": {},
   "outputs": [],
   "source": [
    "# Cleaning tables\n",
    "                        row_new_columns = table[ 0 ].iloc[ 0 , 2: ]\n",
    "                        clean_columns = row_new_columns \\\n",
    "                                              .str.replace( \" \", \"_\") \\\n",
    "                                              .str.lower().str.replace( \"%\", \"share_\") \\\n",
    "                                              .apply( lambda x : unidecode.unidecode( x ) ) \\\n",
    "                                              .tolist()\n",
    "                        \n",
    "                        # Selecting specific columns\n",
    "                        table_clean = table[0].iloc[ 1:, 2: ].copy()\n",
    "                        \n",
    "                        # rename columns\n",
    "                        table_clean.columns = clean_columns"
   ]
  },
  {
   "cell_type": "markdown",
   "metadata": {},
   "source": [
    "**Suggestion** <br>\n",
    "We do not recomend to use `tag` at first time since most web pages use nested tags and it is difficult to define a element using HTML tag. However, it is great to find elements that is inside another located element in the web. Let's see the example."
   ]
  },
  {
   "cell_type": "markdown",
   "metadata": {},
   "source": [
    "# EXAMPLE USING ONPE WEBPAGE"
   ]
  },
  {
   "cell_type": "markdown",
   "metadata": {},
   "source": [
    "## [First Round](https://resultadoshistorico.onpe.gob.pe/EG2021/ResumenGeneral/10/T)"
   ]
  },
  {
   "cell_type": "code",
   "execution_count": 42,
   "metadata": {},
   "outputs": [],
   "source": [
    "# pip install lxml\n",
    "# pip install lxmunidecodel"
   ]
  },
  {
   "cell_type": "code",
   "execution_count": 43,
   "metadata": {},
   "outputs": [],
   "source": [
    "from selenium import webdriver\n",
    "from selenium.webdriver.common.keys import Keys\n",
    "from selenium.common.exceptions import NoSuchElementException\n",
    "from selenium.webdriver import ActionChains\n",
    "import pandas as pd\n",
    "import numpy as np\n",
    "import os\n",
    "import time\n",
    "import re\n",
    "import unidecode\n",
    "import time \n",
    "from selenium.webdriver.support.ui import Select\n",
    "from webdriver_manager.chrome import ChromeDriverManager"
   ]
  },
  {
   "cell_type": "markdown",
   "metadata": {},
   "source": [
    "# Driver Path Address"
   ]
  },
  {
   "cell_type": "code",
   "execution_count": 44,
   "metadata": {},
   "outputs": [
    {
     "name": "stderr",
     "output_type": "stream",
     "text": [
      "C:\\Users\\ALEXAN~1\\AppData\\Local\\Temp/ipykernel_4352/523775411.py:1: DeprecationWarning: executable_path has been deprecated, please pass in a Service object\n",
      "  driver = webdriver.Chrome(executable_path=r'chromedriver-win64/chromedriver.exe')\n"
     ]
    }
   ],
   "source": [
    "driver = webdriver.Chrome(executable_path=r'chromedriver-win64/chromedriver.exe')\n",
    "# Maximize window\n",
    "driver.maximize_window()"
   ]
  },
  {
   "cell_type": "markdown",
   "metadata": {},
   "source": [
    "# Extracting all tables"
   ]
  },
  {
   "cell_type": "code",
   "execution_count": 57,
   "metadata": {},
   "outputs": [
    {
     "name": "stderr",
     "output_type": "stream",
     "text": [
      "C:\\Users\\ALEXAN~1\\AppData\\Local\\Temp/ipykernel_23860/2332946352.py:1: DeprecationWarning: executable_path has been deprecated, please pass in a Service object\n",
      "  driver = webdriver.Chrome(executable_path=r'chromedriver-win64/chromedriver.exe')\n",
      "C:\\Users\\ALEXAN~1\\AppData\\Local\\Temp/ipykernel_23860/2332946352.py:9: DeprecationWarning: find_element_by_* commands are deprecated. Please use find_element() instead\n",
      "  resumen_general = driver.find_element_by_xpath('/html/body/onpe-root/onpe-home-onpe/div[1]/div/div/div/div[2]/div[1]/div/div/a/div[1]/img')\n"
     ]
    }
   ],
   "source": [
    "driver = webdriver.Chrome(executable_path=r'chromedriver-win64/chromedriver.exe')\n",
    "# Maximize window\n",
    "driver.maximize_window()\n",
    "\n",
    "# go to the link\n",
    "url_1 = \"https://resultadoshistorico.onpe.gob.pe/EG2021/\"\n",
    "driver.get( url_1 )\n",
    "\n",
    "resumen_general = driver.find_element_by_xpath('/html/body/onpe-root/onpe-home-onpe/div[1]/div/div/div/div[2]/div[1]/div/div/a/div[1]/img')\n",
    "resumen_general.click()"
   ]
  },
  {
   "cell_type": "code",
   "execution_count": 58,
   "metadata": {},
   "outputs": [
    {
     "name": "stderr",
     "output_type": "stream",
     "text": [
      "C:\\Users\\ALEXAN~1\\AppData\\Local\\Temp/ipykernel_23860/2079164939.py:1: DeprecationWarning: find_element_by_* commands are deprecated. Please use find_element() instead\n",
      "  presidential = driver.find_element_by_xpath('/html/body/onpe-root/onpe-layout-container/onpe-onpe-rgen-rsgr/div/div[2]/div[2]/ul/li[1]/a')\n"
     ]
    }
   ],
   "source": [
    "presidential = driver.find_element_by_xpath('/html/body/onpe-root/onpe-layout-container/onpe-onpe-rgen-rsgr/div/div[2]/div[2]/ul/li[1]/a')\n",
    "presidential.click()"
   ]
  },
  {
   "cell_type": "code",
   "execution_count": 61,
   "metadata": {},
   "outputs": [
    {
     "name": "stderr",
     "output_type": "stream",
     "text": [
      "C:\\Users\\ALEXAN~1\\AppData\\Local\\Temp/ipykernel_23860/3582292250.py:1: DeprecationWarning: find_element_by_* commands are deprecated. Please use find_element() instead\n",
      "  opt_peru = driver.find_element_by_xpath('/html/body/onpe-root/onpe-layout-container/onpe-onpe-rgen-rsgr/div/div[2]/div[1]/div[1]/div/div/div[1]/select/option[2]')\n"
     ]
    }
   ],
   "source": [
    "opt_peru = driver.find_element_by_xpath('/html/body/onpe-root/onpe-layout-container/onpe-onpe-rgen-rsgr/div/div[2]/div[1]/div[1]/div/div/div[1]/select/option[2]')\n",
    "opt_peru.click()"
   ]
  },
  {
   "cell_type": "markdown",
   "metadata": {},
   "source": [
    "## Pesidential results"
   ]
  },
  {
   "cell_type": "code",
   "execution_count": 48,
   "metadata": {},
   "outputs": [],
   "source": [
    "# presidential = driver.find_element_by_xpath('/html/body/onpe-root/onpe-layout-container/onpe-menu/div/nav/div/div/div[2]/div/div[2]/a/span')\n",
    "# presidential.click"
   ]
  },
  {
   "cell_type": "code",
   "execution_count": 49,
   "metadata": {},
   "outputs": [],
   "source": [
    "# # presidential section\n",
    "# presidential = driver.find_element_by_xpath( \"/html/body/onpe-root/onpe-layout-container/onpe-menu/div/nav/div/div/div[2]/div/div[2]/a\" )\n",
    "# presidential.click()"
   ]
  },
  {
   "cell_type": "markdown",
   "metadata": {},
   "source": [
    "### Get all elements from all options"
   ]
  },
  {
   "cell_type": "code",
   "execution_count": 50,
   "metadata": {},
   "outputs": [],
   "source": [
    "# scope = driver.find_element_by_xpath( \"/html/body/onpe-root/onpe-layout-container/onpe-onpe-epres-re/div[1]/div[3]/div[1]/div[1]/div/div/div/select\" )\n",
    "# scope.click()"
   ]
  },
  {
   "cell_type": "code",
   "execution_count": null,
   "metadata": {},
   "outputs": [],
   "source": []
  },
  {
   "cell_type": "code",
   "execution_count": 70,
   "metadata": {},
   "outputs": [
    {
     "data": {
      "text/plain": [
       "<selenium.webdriver.remote.webelement.WebElement (session=\"150dbc982fccd844d1f13ad43e1035b2\", element=\"41616776DD4C61A8DC4C3BA36E17EA26_element_6028\")>"
      ]
     },
     "execution_count": 70,
     "metadata": {},
     "output_type": "execute_result"
    }
   ],
   "source": [
    "#Actualización de las funciones para usar objetos con selenium\n",
    "regiones = driver.find_element(By.XPATH, '/html/body/onpe-root/onpe-layout-container/onpe-onpe-rgen-rsgr/div/div[2]/div[1]/div[1]/div/div/div[2]/select')\n",
    "regiones"
   ]
  },
  {
   "cell_type": "code",
   "execution_count": 69,
   "metadata": {},
   "outputs": [
    {
     "data": {
      "text/plain": [
       "'AMAZONAS'"
      ]
     },
     "execution_count": 69,
     "metadata": {},
     "output_type": "execute_result"
    }
   ],
   "source": [
    "driver.find_element(By.XPATH, \"/html/body/onpe-root/onpe-layout-container/onpe-onpe-rgen-rsgr/div/div[2]/div[1]/div[1]/div/div/div[2]/select/option[2]\").text"
   ]
  },
  {
   "cell_type": "code",
   "execution_count": 75,
   "metadata": {},
   "outputs": [
    {
     "data": {
      "text/plain": [
       "'AMAZONAS'"
      ]
     },
     "execution_count": 75,
     "metadata": {},
     "output_type": "execute_result"
    }
   ],
   "source": [
    "#Actualización de las funciones para usar objetos con selenium\n",
    "regiones = driver.find_element(By.XPATH, '/html/body/onpe-root/onpe-layout-container/onpe-onpe-rgen-rsgr/div/div[2]/div[1]/div[1]/div/div/div[2]/select')\n",
    "regiones.find_elements(By.TAG_NAME, \"option\")[1].text"
   ]
  },
  {
   "cell_type": "code",
   "execution_count": 52,
   "metadata": {},
   "outputs": [
    {
     "data": {
      "text/plain": [
       "'AMAZONAS'"
      ]
     },
     "execution_count": 52,
     "metadata": {},
     "output_type": "execute_result"
    }
   ],
   "source": [
    "regiones.find_elements(By.TAG_NAME,\"option\")[1].text"
   ]
  },
  {
   "cell_type": "code",
   "execution_count": 57,
   "metadata": {},
   "outputs": [
    {
     "name": "stderr",
     "output_type": "stream",
     "text": [
      "C:\\Users\\ALEXAN~1\\AppData\\Local\\Temp/ipykernel_4352/2865713082.py:1: DeprecationWarning: find_element_by_* commands are deprecated. Please use find_element() instead\n",
      "  scope_options = driver.find_element_by_xpath('/html/body/onpe-root/onpe-layout-container/onpe-onpe-rgen-rsgr/div/div[2]/div[1]/div[1]/div/div/div[1]/select')\n",
      "C:\\Users\\Alexander\\anaconda3\\lib\\site-packages\\selenium\\webdriver\\remote\\webelement.py:359: UserWarning: find_elements_by_* commands are deprecated. Please use find_elements() instead\n",
      "  warnings.warn(\"find_elements_by_* commands are deprecated. Please use find_elements() instead\")\n"
     ]
    },
    {
     "data": {
      "text/plain": [
       "'EXTRANJERO'"
      ]
     },
     "execution_count": 57,
     "metadata": {},
     "output_type": "execute_result"
    }
   ],
   "source": [
    "scope_options = driver.find_element_by_xpath('/html/body/onpe-root/onpe-layout-container/onpe-onpe-rgen-rsgr/div/div[2]/div[1]/div[1]/div/div/div[1]/select')\n",
    "scope_options.find_elements_by_tag_name(\"option\")[2].text"
   ]
  },
  {
   "cell_type": "code",
   "execution_count": 59,
   "metadata": {
    "scrolled": true
   },
   "outputs": [
    {
     "name": "stderr",
     "output_type": "stream",
     "text": [
      "C:\\Users\\ALEXAN~1\\AppData\\Local\\Temp/ipykernel_4352/939183077.py:1: DeprecationWarning: find_element_by_* commands are deprecated. Please use find_element() instead\n",
      "  scope_options = driver.find_element_by_xpath('/html/body/onpe-root/onpe-layout-container/onpe-onpe-rgen-rsgr/div/div[2]/div[1]/div[1]/div/div/div[1]/select')\n"
     ]
    }
   ],
   "source": [
    "scope_options = driver.find_element_by_xpath('/html/body/onpe-root/onpe-layout-container/onpe-onpe-rgen-rsgr/div/div[2]/div[1]/div[1]/div/div/div[1]/select')"
   ]
  },
  {
   "cell_type": "code",
   "execution_count": 62,
   "metadata": {},
   "outputs": [
    {
     "data": {
      "text/plain": [
       "'EXTRANJERO'"
      ]
     },
     "execution_count": 62,
     "metadata": {},
     "output_type": "execute_result"
    }
   ],
   "source": [
    "scope_options.find_elements_by_tag_name(\"option\")[0].text\n",
    "scope_options.find_elements_by_tag_name(\"option\")[1].text\n",
    "scope_options.find_elements_by_tag_name(\"option\")[2].text"
   ]
  },
  {
   "cell_type": "code",
   "execution_count": 77,
   "metadata": {},
   "outputs": [
    {
     "name": "stderr",
     "output_type": "stream",
     "text": [
      "C:\\Users\\ALEXAN~1\\AppData\\Local\\Temp/ipykernel_23860/457926441.py:1: DeprecationWarning: find_element_by_* commands are deprecated. Please use find_element() instead\n",
      "  scope = driver.find_element_by_xpath( \"/html/body/onpe-root/onpe-layout-container/onpe-onpe-rgen-rsgr/div/div[2]/div[1]/div[1]/div/div/div[1]/select\" )\n"
     ]
    },
    {
     "data": {
      "text/plain": [
       "<selenium.webdriver.remote.webelement.WebElement (session=\"150dbc982fccd844d1f13ad43e1035b2\", element=\"41616776DD4C61A8DC4C3BA36E17EA26_element_7852\")>"
      ]
     },
     "execution_count": 77,
     "metadata": {},
     "output_type": "execute_result"
    }
   ],
   "source": [
    "scope = driver.find_element_by_xpath( \"/html/body/onpe-root/onpe-layout-container/onpe-onpe-rgen-rsgr/div/div[2]/div[1]/div[1]/div/div/div[1]/select\" )\n",
    "scope"
   ]
  },
  {
   "cell_type": "code",
   "execution_count": 81,
   "metadata": {},
   "outputs": [
    {
     "data": {
      "text/plain": [
       "'EXTRANJERO'"
      ]
     },
     "execution_count": 81,
     "metadata": {},
     "output_type": "execute_result"
    }
   ],
   "source": [
    "scope.find_elements_by_tag_name(\"option\")[2].text"
   ]
  },
  {
   "cell_type": "code",
   "execution_count": 64,
   "metadata": {},
   "outputs": [],
   "source": [
    "scope_options = scope.find_elements_by_tag_name(\"option\")"
   ]
  },
  {
   "cell_type": "code",
   "execution_count": 65,
   "metadata": {},
   "outputs": [
    {
     "data": {
      "text/plain": [
       "[<selenium.webdriver.remote.webelement.WebElement (session=\"7044b58859814a98da64965ce17db995\", element=\"98CC869DA3BC59F8EC849A0A10F8CCE8_element_371\")>,\n",
       " <selenium.webdriver.remote.webelement.WebElement (session=\"7044b58859814a98da64965ce17db995\", element=\"98CC869DA3BC59F8EC849A0A10F8CCE8_element_376\")>,\n",
       " <selenium.webdriver.remote.webelement.WebElement (session=\"7044b58859814a98da64965ce17db995\", element=\"98CC869DA3BC59F8EC849A0A10F8CCE8_element_380\")>]"
      ]
     },
     "execution_count": 65,
     "metadata": {},
     "output_type": "execute_result"
    }
   ],
   "source": [
    "scope_options"
   ]
  },
  {
   "cell_type": "code",
   "execution_count": 66,
   "metadata": {},
   "outputs": [
    {
     "data": {
      "text/plain": [
       "{'TODOS': <selenium.webdriver.remote.webelement.WebElement (session=\"7044b58859814a98da64965ce17db995\", element=\"98CC869DA3BC59F8EC849A0A10F8CCE8_element_371\")>,\n",
       " 'PERÚ': <selenium.webdriver.remote.webelement.WebElement (session=\"7044b58859814a98da64965ce17db995\", element=\"98CC869DA3BC59F8EC849A0A10F8CCE8_element_376\")>,\n",
       " 'EXTRANJERO': <selenium.webdriver.remote.webelement.WebElement (session=\"7044b58859814a98da64965ce17db995\", element=\"98CC869DA3BC59F8EC849A0A10F8CCE8_element_380\")>}"
      ]
     },
     "execution_count": 66,
     "metadata": {},
     "output_type": "execute_result"
    }
   ],
   "source": [
    "dict_scope_options = { i.text : i for i in scope_options }\n",
    "dict_scope_options"
   ]
  },
  {
   "cell_type": "code",
   "execution_count": 67,
   "metadata": {},
   "outputs": [
    {
     "data": {
      "text/plain": [
       "{'TODOS': <selenium.webdriver.remote.webelement.WebElement (session=\"7044b58859814a98da64965ce17db995\", element=\"98CC869DA3BC59F8EC849A0A10F8CCE8_element_371\")>,\n",
       " 'PERÚ': <selenium.webdriver.remote.webelement.WebElement (session=\"7044b58859814a98da64965ce17db995\", element=\"98CC869DA3BC59F8EC849A0A10F8CCE8_element_376\")>,\n",
       " 'EXTRANJERO': <selenium.webdriver.remote.webelement.WebElement (session=\"7044b58859814a98da64965ce17db995\", element=\"98CC869DA3BC59F8EC849A0A10F8CCE8_element_380\")>}"
      ]
     },
     "execution_count": 67,
     "metadata": {},
     "output_type": "execute_result"
    }
   ],
   "source": [
    "# There are three options\n",
    "dict_scope_options.keys()\n",
    "dict_scope_options"
   ]
  },
  {
   "cell_type": "code",
   "execution_count": 68,
   "metadata": {},
   "outputs": [],
   "source": [
    "# We click on Peru\n",
    "dict_scope_options['PERÚ'].click()"
   ]
  },
  {
   "cell_type": "markdown",
   "metadata": {},
   "source": [
    "We have to be careful since everytime we make a click, the url changes."
   ]
  },
  {
   "cell_type": "markdown",
   "metadata": {},
   "source": [
    "### Loop over all departments"
   ]
  },
  {
   "cell_type": "code",
   "execution_count": 91,
   "metadata": {},
   "outputs": [],
   "source": [
    "from selenium.webdriver.support.ui import Select  # Import Select class"
   ]
  },
  {
   "cell_type": "code",
   "execution_count": 95,
   "metadata": {},
   "outputs": [
    {
     "name": "stderr",
     "output_type": "stream",
     "text": [
      "C:\\Users\\ALEXAN~1\\AppData\\Local\\Temp/ipykernel_23860/3847548577.py:4: DeprecationWarning: find_element_by_* commands are deprecated. Please use find_element() instead\n",
      "  dept_0 = driver.find_element_by_xpath( \"/html/body/onpe-root/onpe-layout-container/onpe-onpe-rgen-rsgr/div/div[2]/div[1]/div[1]/div/div/div[2]/select\" )\n"
     ]
    },
    {
     "data": {
      "text/plain": [
       "<selenium.webdriver.remote.webelement.WebElement (session=\"150dbc982fccd844d1f13ad43e1035b2\", element=\"41616776DD4C61A8DC4C3BA36E17EA26_element_6028\")>"
      ]
     },
     "execution_count": 95,
     "metadata": {},
     "output_type": "execute_result"
    }
   ],
   "source": [
    "# Store all_tables\n",
    "all_tables = {}\n",
    "\n",
    "dept_0 = driver.find_element_by_xpath( \"/html/body/onpe-root/onpe-layout-container/onpe-onpe-rgen-rsgr/div/div[2]/div[1]/div[1]/div/div/div[2]/select\" )\n",
    "dept_0"
   ]
  },
  {
   "cell_type": "code",
   "execution_count": 99,
   "metadata": {},
   "outputs": [],
   "source": [
    "# All selenium objects in department select\n",
    "dpt = Select( dept_0 )\n",
    "#dpt.options[15].text"
   ]
  },
  {
   "cell_type": "code",
   "execution_count": 100,
   "metadata": {},
   "outputs": [
    {
     "data": {
      "text/plain": [
       "[<selenium.webdriver.remote.webelement.WebElement (session=\"150dbc982fccd844d1f13ad43e1035b2\", element=\"41616776DD4C61A8DC4C3BA36E17EA26_element_4358\")>,\n",
       " <selenium.webdriver.remote.webelement.WebElement (session=\"150dbc982fccd844d1f13ad43e1035b2\", element=\"41616776DD4C61A8DC4C3BA36E17EA26_element_4359\")>,\n",
       " <selenium.webdriver.remote.webelement.WebElement (session=\"150dbc982fccd844d1f13ad43e1035b2\", element=\"41616776DD4C61A8DC4C3BA36E17EA26_element_4360\")>,\n",
       " <selenium.webdriver.remote.webelement.WebElement (session=\"150dbc982fccd844d1f13ad43e1035b2\", element=\"41616776DD4C61A8DC4C3BA36E17EA26_element_4361\")>,\n",
       " <selenium.webdriver.remote.webelement.WebElement (session=\"150dbc982fccd844d1f13ad43e1035b2\", element=\"41616776DD4C61A8DC4C3BA36E17EA26_element_4362\")>,\n",
       " <selenium.webdriver.remote.webelement.WebElement (session=\"150dbc982fccd844d1f13ad43e1035b2\", element=\"41616776DD4C61A8DC4C3BA36E17EA26_element_4363\")>,\n",
       " <selenium.webdriver.remote.webelement.WebElement (session=\"150dbc982fccd844d1f13ad43e1035b2\", element=\"41616776DD4C61A8DC4C3BA36E17EA26_element_4364\")>,\n",
       " <selenium.webdriver.remote.webelement.WebElement (session=\"150dbc982fccd844d1f13ad43e1035b2\", element=\"41616776DD4C61A8DC4C3BA36E17EA26_element_4365\")>,\n",
       " <selenium.webdriver.remote.webelement.WebElement (session=\"150dbc982fccd844d1f13ad43e1035b2\", element=\"41616776DD4C61A8DC4C3BA36E17EA26_element_4366\")>,\n",
       " <selenium.webdriver.remote.webelement.WebElement (session=\"150dbc982fccd844d1f13ad43e1035b2\", element=\"41616776DD4C61A8DC4C3BA36E17EA26_element_4367\")>,\n",
       " <selenium.webdriver.remote.webelement.WebElement (session=\"150dbc982fccd844d1f13ad43e1035b2\", element=\"41616776DD4C61A8DC4C3BA36E17EA26_element_4368\")>,\n",
       " <selenium.webdriver.remote.webelement.WebElement (session=\"150dbc982fccd844d1f13ad43e1035b2\", element=\"41616776DD4C61A8DC4C3BA36E17EA26_element_4369\")>,\n",
       " <selenium.webdriver.remote.webelement.WebElement (session=\"150dbc982fccd844d1f13ad43e1035b2\", element=\"41616776DD4C61A8DC4C3BA36E17EA26_element_4370\")>,\n",
       " <selenium.webdriver.remote.webelement.WebElement (session=\"150dbc982fccd844d1f13ad43e1035b2\", element=\"41616776DD4C61A8DC4C3BA36E17EA26_element_4371\")>,\n",
       " <selenium.webdriver.remote.webelement.WebElement (session=\"150dbc982fccd844d1f13ad43e1035b2\", element=\"41616776DD4C61A8DC4C3BA36E17EA26_element_4372\")>,\n",
       " <selenium.webdriver.remote.webelement.WebElement (session=\"150dbc982fccd844d1f13ad43e1035b2\", element=\"41616776DD4C61A8DC4C3BA36E17EA26_element_4373\")>,\n",
       " <selenium.webdriver.remote.webelement.WebElement (session=\"150dbc982fccd844d1f13ad43e1035b2\", element=\"41616776DD4C61A8DC4C3BA36E17EA26_element_4374\")>,\n",
       " <selenium.webdriver.remote.webelement.WebElement (session=\"150dbc982fccd844d1f13ad43e1035b2\", element=\"41616776DD4C61A8DC4C3BA36E17EA26_element_4375\")>,\n",
       " <selenium.webdriver.remote.webelement.WebElement (session=\"150dbc982fccd844d1f13ad43e1035b2\", element=\"41616776DD4C61A8DC4C3BA36E17EA26_element_4376\")>,\n",
       " <selenium.webdriver.remote.webelement.WebElement (session=\"150dbc982fccd844d1f13ad43e1035b2\", element=\"41616776DD4C61A8DC4C3BA36E17EA26_element_4377\")>,\n",
       " <selenium.webdriver.remote.webelement.WebElement (session=\"150dbc982fccd844d1f13ad43e1035b2\", element=\"41616776DD4C61A8DC4C3BA36E17EA26_element_4378\")>,\n",
       " <selenium.webdriver.remote.webelement.WebElement (session=\"150dbc982fccd844d1f13ad43e1035b2\", element=\"41616776DD4C61A8DC4C3BA36E17EA26_element_4379\")>,\n",
       " <selenium.webdriver.remote.webelement.WebElement (session=\"150dbc982fccd844d1f13ad43e1035b2\", element=\"41616776DD4C61A8DC4C3BA36E17EA26_element_4380\")>,\n",
       " <selenium.webdriver.remote.webelement.WebElement (session=\"150dbc982fccd844d1f13ad43e1035b2\", element=\"41616776DD4C61A8DC4C3BA36E17EA26_element_4381\")>,\n",
       " <selenium.webdriver.remote.webelement.WebElement (session=\"150dbc982fccd844d1f13ad43e1035b2\", element=\"41616776DD4C61A8DC4C3BA36E17EA26_element_4382\")>,\n",
       " <selenium.webdriver.remote.webelement.WebElement (session=\"150dbc982fccd844d1f13ad43e1035b2\", element=\"41616776DD4C61A8DC4C3BA36E17EA26_element_4383\")>]"
      ]
     },
     "execution_count": 100,
     "metadata": {},
     "output_type": "execute_result"
    }
   ],
   "source": [
    "dpt.options"
   ]
  },
  {
   "cell_type": "code",
   "execution_count": 101,
   "metadata": {},
   "outputs": [
    {
     "data": {
      "text/plain": [
       "26"
      ]
     },
     "execution_count": 101,
     "metadata": {},
     "output_type": "execute_result"
    }
   ],
   "source": [
    "# Get number of total options\n",
    "num_prov_options = len( dpt.options )\n",
    "num_prov_options"
   ]
  },
  {
   "cell_type": "code",
   "execution_count": 102,
   "metadata": {},
   "outputs": [
    {
     "name": "stderr",
     "output_type": "stream",
     "text": [
      "C:\\Users\\ALEXAN~1\\AppData\\Local\\Temp/ipykernel_23860/1015677902.py:10: DeprecationWarning: find_element_by_* commands are deprecated. Please use find_element() instead\n",
      "  dpt = Select( driver.find_element_by_xpath( \"/html/body/onpe-root/onpe-layout-container/onpe-onpe-rgen-rsgr/div/div[2]/div[1]/div[1]/div/div/div[2]/select\" ) )\n"
     ]
    },
    {
     "name": "stdout",
     "output_type": "stream",
     "text": [
      "--TODOS--\n",
      "AMAZONAS\n",
      "ANCASH\n",
      "APURIMAC\n",
      "AREQUIPA\n",
      "AYACUCHO\n",
      "CAJAMARCA\n",
      "CALLAO\n",
      "CUSCO\n",
      "HUANCAVELICA\n",
      "HUANUCO\n",
      "ICA\n",
      "JUNIN\n",
      "LA LIBERTAD\n",
      "LAMBAYEQUE\n",
      "LIMA\n",
      "LORETO\n",
      "MADRE DE DIOS\n",
      "MOQUEGUA\n",
      "PASCO\n",
      "PIURA\n",
      "PUNO\n",
      "SAN MARTIN\n",
      "TACNA\n",
      "TUMBES\n",
      "UCAYALI\n"
     ]
    }
   ],
   "source": [
    "# we can loop over all departments\n",
    "# for dpt_idx in range( num_prov_options ):\n",
    "# but it will take too much time\n",
    "# We are going to do it over two departments\n",
    "for dpt_idx in range( num_prov_options ):\n",
    "    \n",
    "    # Get again all departments since HTML is refreshing\n",
    "    # all elements\n",
    "    # Click on one specific department\n",
    "    dpt = Select( driver.find_element_by_xpath( \"/html/body/onpe-root/onpe-layout-container/onpe-onpe-rgen-rsgr/div/div[2]/div[1]/div[1]/div/div/div[2]/select\" ) )\n",
    "    department = dpt.options[ dpt_idx ]\n",
    "    \n",
    "    # Get departmant name\n",
    "    dpt_name = department.text\n",
    "    print(dpt_name)"
   ]
  },
  {
   "cell_type": "markdown",
   "metadata": {},
   "source": [
    "# Dynamic Pages"
   ]
  },
  {
   "cell_type": "code",
   "execution_count": 61,
   "metadata": {},
   "outputs": [
    {
     "name": "stderr",
     "output_type": "stream",
     "text": [
      "C:\\Users\\ALEXAN~1\\AppData\\Local\\Temp/ipykernel_11328/3860859845.py:1: DeprecationWarning: executable_path has been deprecated, please pass in a Service object\n",
      "  driver = webdriver.Chrome( ChromeDriverManager().install() )\n"
     ]
    }
   ],
   "source": [
    "driver = webdriver.Chrome( ChromeDriverManager().install() )\n",
    "# Maximize window\n",
    "driver.maximize_window()\n",
    "driver.get('https://www.legacy.com/obituaries/legacy/obituary-search.aspx?isnew=1&affiliateId=0&stateid=17')"
   ]
  },
  {
   "cell_type": "code",
   "execution_count": 56,
   "metadata": {},
   "outputs": [
    {
     "name": "stderr",
     "output_type": "stream",
     "text": [
      "C:\\Users\\ALEXAN~1\\AppData\\Local\\Temp/ipykernel_11328/2817692743.py:2: DeprecationWarning: find_element_by_* commands are deprecated. Please use find_element() instead\n",
      "  driver.find_element_by_xpath('//*[@id=\"ctl00_ctl00_ContentPlaceHolder1_ContentPlaceHolder1_uxSearchWideControl_ddlSearchRange\"]/option[10]').click()\n",
      "C:\\Users\\ALEXAN~1\\AppData\\Local\\Temp/ipykernel_11328/2817692743.py:5: DeprecationWarning: find_element_by_* commands are deprecated. Please use find_element() instead\n",
      "  death_begin = driver.find_element_by_xpath('//*[@id=\"ctl00_ctl00_ContentPlaceHolder1_ContentPlaceHolder1_uxSearchWideControl_txtStartDate\"]')\n",
      "C:\\Users\\ALEXAN~1\\AppData\\Local\\Temp/ipykernel_11328/2817692743.py:8: DeprecationWarning: find_element_by_* commands are deprecated. Please use find_element() instead\n",
      "  death_end = driver.find_element_by_xpath('//*[@id=\"ctl00_ctl00_ContentPlaceHolder1_ContentPlaceHolder1_uxSearchWideControl_txtEndDate\"]')\n",
      "C:\\Users\\ALEXAN~1\\AppData\\Local\\Temp/ipykernel_11328/2817692743.py:12: DeprecationWarning: find_element_by_* commands are deprecated. Please use find_element() instead\n",
      "  keyword = driver.find_element_by_xpath('//*[@id=\"ctl00_ctl00_ContentPlaceHolder1_ContentPlaceHolder1_uxSearchWideControl_txtFirstName\"]')\n",
      "C:\\Users\\ALEXAN~1\\AppData\\Local\\Temp/ipykernel_11328/2817692743.py:16: DeprecationWarning: find_element_by_* commands are deprecated. Please use find_element() instead\n",
      "  keyword = driver.find_element_by_xpath('//*[@id=\"ctl00_ctl00_ContentPlaceHolder1_ContentPlaceHolder1_uxSearchWideControl_txtLastName\"]')\n",
      "C:\\Users\\ALEXAN~1\\AppData\\Local\\Temp/ipykernel_11328/2817692743.py:20: DeprecationWarning: find_element_by_* commands are deprecated. Please use find_element() instead\n",
      "  keyword = driver.find_element_by_xpath('//*[@id=\"ctl00_ctl00_ContentPlaceHolder1_ContentPlaceHolder1_uxSearchWideControl_txtKeyword\"]')\n",
      "C:\\Users\\ALEXAN~1\\AppData\\Local\\Temp/ipykernel_11328/2817692743.py:24: DeprecationWarning: find_element_by_* commands are deprecated. Please use find_element() instead\n",
      "  driver.find_element_by_xpath('//*[@id=\"ctl00_ctl00_ContentPlaceHolder1_ContentPlaceHolder1_uxSearchWideControl_ddlCountry\"]/option[11]').click()\n",
      "C:\\Users\\ALEXAN~1\\AppData\\Local\\Temp/ipykernel_11328/2817692743.py:27: DeprecationWarning: find_element_by_* commands are deprecated. Please use find_element() instead\n",
      "  driver.find_element_by_xpath('//*[@id=\"lnkSearch\"]').click()\n"
     ]
    }
   ],
   "source": [
    "# range of death\n",
    "driver.find_element_by_xpath('//*[@id=\"ctl00_ctl00_ContentPlaceHolder1_ContentPlaceHolder1_uxSearchWideControl_ddlSearchRange\"]/option[10]').click()\n",
    "\n",
    "\n",
    "death_begin = driver.find_element_by_xpath('//*[@id=\"ctl00_ctl00_ContentPlaceHolder1_ContentPlaceHolder1_uxSearchWideControl_txtStartDate\"]')\n",
    "death_begin.send_keys('10/10/1994')\n",
    "\n",
    "death_end = driver.find_element_by_xpath('//*[@id=\"ctl00_ctl00_ContentPlaceHolder1_ContentPlaceHolder1_uxSearchWideControl_txtEndDate\"]')    \n",
    "death_end.send_keys('10/10/2005')\n",
    "\n",
    "# type the Firstname \n",
    "keyword = driver.find_element_by_xpath('//*[@id=\"ctl00_ctl00_ContentPlaceHolder1_ContentPlaceHolder1_uxSearchWideControl_txtFirstName\"]')\n",
    "keyword.send_keys('robert')\n",
    "\n",
    "# type the Lastname \n",
    "keyword = driver.find_element_by_xpath('//*[@id=\"ctl00_ctl00_ContentPlaceHolder1_ContentPlaceHolder1_uxSearchWideControl_txtLastName\"]')\n",
    "keyword.send_keys('brown')\n",
    "\n",
    "# type the Title \n",
    "keyword = driver.find_element_by_xpath('//*[@id=\"ctl00_ctl00_ContentPlaceHolder1_ContentPlaceHolder1_uxSearchWideControl_txtKeyword\"]')\n",
    "keyword.send_keys('professor')\n",
    "\n",
    " # Set the state of last residence\n",
    "driver.find_element_by_xpath('//*[@id=\"ctl00_ctl00_ContentPlaceHolder1_ContentPlaceHolder1_uxSearchWideControl_ddlCountry\"]/option[11]').click()\n",
    "        \n",
    "# Send information\n",
    "driver.find_element_by_xpath('//*[@id=\"lnkSearch\"]').click()\n",
    "\n",
    "\n"
   ]
  },
  {
   "cell_type": "code",
   "execution_count": 10,
   "metadata": {},
   "outputs": [],
   "source": [
    "# we can loop over all departments\n",
    "# for dpt_idx in range( num_prov_options ):\n",
    "# but it will take too much time\n",
    "# We are going to do it over two departments\n",
    "for dpt_idx in range( 2 ):\n",
    "    \n",
    "    # Get again all departments since HTML is refreshing\n",
    "    # all elements\n",
    "    # Click on one specific department\n",
    "    dpt = Select( driver.find_element_by_xpath( \"/html/body/onpe-root/onpe-layout-container/onpe-onpe-epres-re/div[1]/div[3]/div[1]/div[1]/div/div/div[2]/select\" ) )\n",
    "    department = dpt.options[ dpt_idx ]\n",
    "    \n",
    "    # Get departmant name\n",
    "    dpt_name = department.text\n",
    "    \n",
    "    # We select a different department name\n",
    "    if dpt_name != \"--TODOS--\" :\n",
    "        \n",
    "        # click on department\n",
    "        department.click()\n",
    "        \n",
    "        # Get all elements of province\n",
    "        prov = Select( driver.find_element_by_xpath( \"/html/body/onpe-root/onpe-layout-container/onpe-onpe-epres-re/div[1]/div[3]/div[1]/div[1]/div/div/div[3]/select\" ) )\n",
    "        num_prov_options = len( prov.options )\n",
    "        \n",
    "        for prov_idx in range( num_prov_options ):\n",
    "            \n",
    "            # Get again all districts since HTML is refreshing\n",
    "            # all elements\n",
    "            prov = Select( driver.find_element_by_xpath( \"/html/body/onpe-root/onpe-layout-container/onpe-onpe-epres-re/div[1]/div[3]/div[1]/div[1]/div/div/div[3]/select\" ) )\n",
    "            province = prov.options[ prov_idx ]\n",
    "                \n",
    "            # Get province name\n",
    "            prov_name = province.text\n",
    "            \n",
    "            if prov_name != \"--TODOS--\" :\n",
    "                \n",
    "                # click on province\n",
    "                province.click()\n",
    "                \n",
    "                # Get all elements from district\n",
    "                dist = Select( driver.find_element_by_xpath( \"/html/body/onpe-root/onpe-layout-container/onpe-onpe-epres-re/div[1]/div[3]/div[1]/div[1]/div/div/div[4]/select\" ) )\n",
    "                num_dist_options = len( dist.options )\n",
    "                \n",
    "                for dist_idx in range( num_dist_options ):\n",
    "                    \n",
    "                    # Get again all districts since HTML is refreshing\n",
    "                    # all elements\n",
    "                    dist = Select( driver.find_element_by_xpath( \"/html/body/onpe-root/onpe-layout-container/onpe-onpe-epres-re/div[1]/div[3]/div[1]/div[1]/div/div/div[4]/select\" ) )\n",
    "                    district = dist.options[ dist_idx ]\n",
    "                    \n",
    "                    # Get district name\n",
    "                    dist_name = district.text\n",
    "                    \n",
    "                    if dist_name != \"-- SELECCIONE --\" :\n",
    "                        \n",
    "                        # click on district\n",
    "                        district.click()\n",
    "                        \n",
    "                        # Get UBIGEO\n",
    "                        ubigeo = driver.current_url.split(\"/\")[ -1 ]\n",
    "                        \n",
    "                        ## Get table of presidential votes\n",
    "                        # Get html at this point\n",
    "                        table_path = driver.find_element_by_xpath( \"/html/body/onpe-root/onpe-layout-container/onpe-onpe-epres-re/div[1]/div[4]/div[1]/div[3]/div\" )\n",
    "                        table_html = table_path.get_attribute( 'innerHTML' )\n",
    "                        # Read the table using pandas\n",
    "                        table = pd.read_html( table_html )\n",
    "                        \n",
    "                        # Cleaning tables\n",
    "                        row_new_columns = table[ 0 ].iloc[ 0 , 2: ]\n",
    "                        clean_columns = row_new_columns \\\n",
    "                                              .str.replace( \" \", \"_\") \\\n",
    "                                              .str.lower().str.replace( \"%\", \"share_\") \\\n",
    "                                              .apply( lambda x : unidecode.unidecode( x ) ) \\\n",
    "                                              .tolist()\n",
    "                        \n",
    "                        # Selecting specific columns\n",
    "                        table_clean = table[0].iloc[ 1:, 2: ].copy()\n",
    "                        \n",
    "                        # rename columns\n",
    "                        table_clean.columns = clean_columns\n",
    "                        \n",
    "                        # New values to columns \n",
    "                        table_clean[ 'department' ] = dpt_name\n",
    "                        table_clean[ 'province' ]   = prov_name\n",
    "                        table_clean[ 'district' ]   = dist_name\n",
    "                        table_clean[ 'ubigeo' ]     = ubigeo\n",
    "                        \n",
    "                        # store tables\n",
    "                        all_tables[ ubigeo ] = table_clean"
   ]
  },
  {
   "cell_type": "code",
   "execution_count": 12,
   "metadata": {},
   "outputs": [],
   "source": [
    "final_data = pd.concat( all_tables.values() ).reset_index( drop = True )"
   ]
  },
  {
   "cell_type": "code",
   "execution_count": 15,
   "metadata": {},
   "outputs": [],
   "source": [
    "final_data.to_excel( r'example_round.xlsx' , index = False )"
   ]
  },
  {
   "cell_type": "code",
   "execution_count": null,
   "metadata": {},
   "outputs": [],
   "source": []
  },
  {
   "cell_type": "code",
   "execution_count": null,
   "metadata": {},
   "outputs": [],
   "source": []
  }
 ],
 "metadata": {
  "hide_input": false,
  "kernelspec": {
   "display_name": "Python 3 (ipykernel)",
   "language": "python",
   "name": "python3"
  },
  "language_info": {
   "codemirror_mode": {
    "name": "ipython",
    "version": 3
   },
   "file_extension": ".py",
   "mimetype": "text/x-python",
   "name": "python",
   "nbconvert_exporter": "python",
   "pygments_lexer": "ipython3",
   "version": "3.11.5"
  }
 },
 "nbformat": 4,
 "nbformat_minor": 4
}
