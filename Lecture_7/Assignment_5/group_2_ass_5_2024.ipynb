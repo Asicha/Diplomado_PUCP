{
 "cells": [
  {
   "cell_type": "markdown",
   "id": "f9ce0b80",
   "metadata": {},
   "source": [
    "# Assigment 5"
   ]
  },
  {
   "cell_type": "markdown",
   "id": "9ca5333f",
   "metadata": {},
   "source": [
    "**Group members:** <br>\n",
    "ZUÑIGA ROMERO, ADRIANA VIOLETA <br>\n",
    "PLASENCIA CUSTODIO, CLAUDIA JIMENA <br>\n",
    "ECHEVARRIA CARHUANCHO, FRANCISCO ANDRES <br>\n",
    "HUAMAN GARCIA, YANELL VALERYN <br>\n",
    "VERA ROMAN, JOSSELYNE ANTUANE "
   ]
  },
  {
   "cell_type": "markdown",
   "id": "59d3068d",
   "metadata": {},
   "source": [
    "### Solution"
   ]
  },
  {
   "cell_type": "markdown",
   "id": "0aafed2c",
   "metadata": {},
   "source": [
    "### 5.1 Instalación e importación de Librerías:"
   ]
  },
  {
   "cell_type": "code",
   "execution_count": null,
   "id": "554b42c4",
   "metadata": {},
   "outputs": [],
   "source": [
    "!pip install selenium \n",
    "# this library is to manipulate browser:\n",
    "!pip install webdriver-manager\n",
    "!pip install html5lib"
   ]
  },
  {
   "cell_type": "code",
   "execution_count": null,
   "id": "faf4a3dc",
   "metadata": {},
   "outputs": [],
   "source": [
    "#To control the layout and width within Notebook:\n",
    "from IPython.display import display, HTML\n",
    "\n",
    "display(HTML(data=\"\"\"\n",
    "<style>\n",
    "    div#notebook-container    { width: 95%; }\n",
    "    div#menubar-container     { width: 65%; }\n",
    "    div#maintoolbar-container { width: 99%; }a\n",
    "</style>\n",
    "\"\"\"))"
   ]
  },
  {
   "cell_type": "code",
   "execution_count": null,
   "id": "741d34b3",
   "metadata": {},
   "outputs": [],
   "source": [
    "# Import necessary modules from Selenium:\n",
    "from selenium import webdriver\n",
    "from selenium.webdriver.chrome.service import Service #To configure the WebDriver service:\n",
    "from selenium.webdriver.common.by import By #Provides methods for locating elements:\n",
    "from selenium.webdriver.support.ui import Select #for interacting with dropdowns\n",
    "from selenium.webdriver.common.action_chains import ActionChains\n",
    "from selenium.webdriver.common.keys import Keys\n",
    "from selenium.webdriver.support.ui import WebDriverWait\n",
    "from selenium.webdriver.support import expected_conditions as EC\n",
    "import pandas as pd \n",
    "import numpy as np\n",
    "import os\n",
    "import time\n",
    "import re\n",
    "import unidecode\n",
    "import time "
   ]
  },
  {
   "cell_type": "markdown",
   "id": "b8bebc7c",
   "metadata": {},
   "source": [
    "### 5.2  Initialize the Chrome driver"
   ]
  },
  {
   "cell_type": "markdown",
   "id": "644c87a9",
   "metadata": {},
   "source": [
    "#### Function to select a specific type of electoral process"
   ]
  },
  {
   "cell_type": "markdown",
   "id": "53a4603e",
   "metadata": {},
   "source": [
    "Using a function to set up the Chrome WebDriver provides a modular and reusable way to configure and initialize your WebDriver instances"
   ]
  },
  {
   "cell_type": "code",
   "execution_count": null,
   "id": "21d0e467",
   "metadata": {},
   "outputs": [],
   "source": [
    "def setup_driver():\n",
    "    #First, set the path to the ChromeDriver executable\n",
    "    service = Service(executable_path=\"chromedriver-win64/chromedriver.exe\")\n",
    "    # Configure options for the Chrome browser\n",
    "    options = webdriver.ChromeOptions()\n",
    "    # Initialize the Chrome WebDriver with the specified service and options\n",
    "    driver = webdriver.Chrome(service=service, options=options)\n",
    "    # Maximize the browser window\n",
    "    driver.maximize_window()\n",
    "    # Return the configured WebDriver instance\n",
    "    return driver"
   ]
  },
  {
   "cell_type": "markdown",
   "id": "71b801e8",
   "metadata": {},
   "source": [
    "### 5.3 Navigating the page: Election"
   ]
  },
  {
   "cell_type": "markdown",
   "id": "234e03a5",
   "metadata": {},
   "source": [
    "#### Function to navigate to a given URL"
   ]
  },
  {
   "cell_type": "markdown",
   "id": "6cc12fd9",
   "metadata": {},
   "source": [
    "This function provides a clean interface for the main script or other functions to use."
   ]
  },
  {
   "cell_type": "code",
   "execution_count": null,
   "id": "b7a40796",
   "metadata": {},
   "outputs": [],
   "source": [
    "def go_to_url(driver, url):\n",
    "    # Navigate the WebDriver to the specified URL\n",
    "    driver.get(url)"
   ]
  },
  {
   "cell_type": "markdown",
   "id": "fc936ab1",
   "metadata": {},
   "source": [
    "### 5.4 Construction of the loop and export of information in an Excel file\"Elecciones_1931_to_2021\""
   ]
  },
  {
   "cell_type": "markdown",
   "id": "772d1c6a",
   "metadata": {},
   "source": [
    "#### Function to select a specific type of electoral process"
   ]
  },
  {
   "cell_type": "markdown",
   "id": "dd8473ef",
   "metadata": {},
   "source": [
    "This function utilizes the Selenium WebDriver to select a specific process type in a web interface. It begins by clicking on an element to open a dropdown, followed by a short pause for the dropdown to load. Then, it clicks on another element to choose the desired process type, with an additional pause to confirm the selection. While these pauses can be necessary for interface responsiveness, excessive use may affect code efficiency."
   ]
  },
  {
   "cell_type": "code",
   "execution_count": null,
   "id": "2b5e57c7",
   "metadata": {},
   "outputs": [],
   "source": [
    "def select_process_type(driver, tipo_proceso_xpath, tipo_xpath):\n",
    "    # Click on the element specified by tipo_proceso_xpath to open the process type dropdown\n",
    "    driver.find_element(By.XPATH, tipo_proceso_xpath).click()\n",
    "    \n",
    "    # Pause for 2 seconds to allow the dropdown to appear\n",
    "    time.sleep(2)\n",
    "    \n",
    "    # Click on the element specified by tipo_xpath to select the desired process type\n",
    "    driver.find_element(By.XPATH, tipo_xpath).click()\n",
    "    # Pause for 2 seconds to ensure the selection is registered\n",
    "    time.sleep(2)"
   ]
  },
  {
   "cell_type": "markdown",
   "id": "2f4c015c",
   "metadata": {},
   "source": [
    "#### Function to choose the presidential electoral process"
   ]
  },
  {
   "cell_type": "markdown",
   "id": "40d74223",
   "metadata": {},
   "source": [
    "This function selects a presidential process type on a web interface. With two parameters, driver representing the browser instance and eleccion_tipo_xpath denoting the XPath of the element triggering the selection, the function clicks on the specified element to initiate the selection of the presidential process type. A 2-second pause (time.sleep(2)) follows to ensure proper interface loading."
   ]
  },
  {
   "cell_type": "code",
   "execution_count": null,
   "id": "33754c00",
   "metadata": {},
   "outputs": [],
   "source": [
    "def choose_presidential_process(driver, eleccion_tipo_xpath):\n",
    "    # Click on the element specified by eleccion_tipo_xpath to choose the presidential process\n",
    "    driver.find_element(By.XPATH, eleccion_tipo_xpath).click()\n",
    "    # Pause for 2 seconds to allow for the selection to be processed\n",
    "    time.sleep(2)"
   ]
  },
  {
   "cell_type": "markdown",
   "id": "66ae1de0",
   "metadata": {},
   "source": [
    "#### Function to get the options for the electoral process"
   ]
  },
  {
   "cell_type": "markdown",
   "id": "fd5cf1b3",
   "metadata": {},
   "source": [
    "This function aims to interact with a dropdown specified by the XPath elecciones_xpath and return the available options within that dropdown. It utilizes the Select class from Selenium, which provides convenient methods for handling dropdowns. The options method is used here to retrieve the list of options within the specified dropdown."
   ]
  },
  {
   "cell_type": "code",
   "execution_count": null,
   "id": "13d6af46",
   "metadata": {},
   "outputs": [],
   "source": [
    "def get_process_options(driver, elecciones_xpath):\n",
    "    # Find the dropdown element using the specified XPath, then create a Select object to interact with the dropdown and finally return the options of the dropdown\n",
    "    return Select(driver.find_element(By.XPATH, elecciones_xpath)).options"
   ]
  }
 ],
 "metadata": {
  "kernelspec": {
   "display_name": "Python 3 (ipykernel)",
   "language": "python",
   "name": "python3"
  },
  "language_info": {
   "codemirror_mode": {
    "name": "ipython",
    "version": 3
   },
   "file_extension": ".py",
   "mimetype": "text/x-python",
   "name": "python",
   "nbconvert_exporter": "python",
   "pygments_lexer": "ipython3",
   "version": "3.9.7"
  }
 },
 "nbformat": 4,
 "nbformat_minor": 5
}
