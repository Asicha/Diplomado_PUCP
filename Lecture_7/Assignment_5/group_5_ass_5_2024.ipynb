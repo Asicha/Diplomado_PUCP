{
 "cells": [
  {
   "cell_type": "code",
   "execution_count": null,
   "id": "8b4870f5",
   "metadata": {},
   "outputs": [],
   "source": [
    "from selenium import webdriver\n",
    "from selenium.webdriver.chrome.service import Service\n",
    "from selenium.webdriver.common.keys import Keys\n",
    "from selenium.webdriver import ActionChains\n",
    "from bs4 import BeautifulSoup\n",
    "import os\n",
    "import time\n",
    "from selenium import webdriver\n",
    "from selenium.webdriver.common.by import By\n",
    "from selenium.webdriver.common.action_chains import ActionChains\n",
    "from selenium.webdriver.support.ui import WebDriverWait\n",
    "from selenium.webdriver.support import expected_conditions as EC\n",
    "import requests\n",
    "from selenium.webdriver.support.ui import Select  # Import Select class"
   ]
  },
  {
   "cell_type": "markdown",
   "id": "c2125339",
   "metadata": {},
   "source": [
    "## Launch the driver "
   ]
  },
  {
   "cell_type": "code",
   "execution_count": 26,
   "id": "c8c88e3b",
   "metadata": {},
   "outputs": [],
   "source": [
    "service = Service(executable_path=r'../chromedriver-win64/chromedriver.exe')\n",
    "options = webdriver.ChromeOptions()\n",
    "driver = webdriver.Chrome(service=service, options=options)\n",
    "\n",
    "url = 'https://infogob.jne.gob.pe/Eleccion'\n",
    "driver.get(url)\n",
    "driver.maximize_window()"
   ]
  },
  {
   "cell_type": "markdown",
   "id": "2e42ae07",
   "metadata": {},
   "source": [
    "## Select the 2021 presidential election in the dropdown list"
   ]
  },
  {
   "cell_type": "code",
   "execution_count": 27,
   "id": "4ea82e83",
   "metadata": {},
   "outputs": [],
   "source": [
    "# we open the dropdown list for 'Tipo de eleccion'\n",
    "dropdown_tipo = WebDriverWait(driver, 10).until(\n",
    "    EC.element_to_be_clickable((By.XPATH, '/html/body/div[1]/section/div[2]/div[2]/div[2]/div[1]/div'))\n",
    ")\n",
    "dropdown_tipo.click()\n",
    "\n",
    "# We select the option that contains 'ELECCIONES PRESIDENCIALES'\n",
    "option_presidencial = WebDriverWait(driver, 10).until(\n",
    "    EC.element_to_be_clickable((By.XPATH, '//div[contains(text(), \"ELECCIONES PRESIDENCIALES\")]'))\n",
    ")\n",
    "option_presidencial.click()\n",
    "\n",
    "time.sleep(3)\n",
    "\n",
    "# We open the second dropdown and select t\n",
    "dropdown_eleccion = WebDriverWait(driver, 10).until(\n",
    "    EC.element_to_be_clickable((By.XPATH, '/html/body/div[1]/section/div[2]/div[2]/div[2]/div[2]/div'))\n",
    ")\n",
    "dropdown_eleccion.click()\n",
    "\n",
    "# We select the option from the second dropdown\n",
    "option_presidencial21 = WebDriverWait(driver, 10).until(\n",
    "    EC.element_to_be_clickable((By.XPATH, '//div[contains(text(), \"PRESIDENCIAL 2021 - 2DA VUELTA\")]'))\n",
    ")\n",
    "option_presidencial21.click()\n",
    "\n",
    "time.sleep(3)\n",
    "# We click the search button\n",
    "\n",
    "driver.find_element(By.ID,'btnVerDatos').click()\n",
    "\n",
    "\n",
    "\n"
   ]
  },
  {
   "cell_type": "markdown",
   "id": "302a9996",
   "metadata": {},
   "source": [
    "## Access the element 'Candidatos y Resultados' and get table"
   ]
  },
  {
   "cell_type": "code",
   "execution_count": 28,
   "id": "8757ef70",
   "metadata": {},
   "outputs": [],
   "source": [
    "driver.find_element(By.XPATH, '/html/body/div[1]/section/div[2]/div[3]/div[1]/ul/li[2]/a').click()"
   ]
  },
  {
   "cell_type": "markdown",
   "id": "ad4ceb39",
   "metadata": {},
   "source": [
    "### Get votes table"
   ]
  },
  {
   "cell_type": "code",
   "execution_count": 29,
   "id": "f449bc8c",
   "metadata": {},
   "outputs": [
    {
     "data": {
      "text/plain": [
       "'<div class=\"fixed-table-loading\" style=\"top: 46px;\">Por favor espere...</div><table id=\"gridEleccionResultadosElectorales\" class=\"table table-hover table-striped\">\\n                    <thead><tr><th style=\"text-align: center; vertical-align: middle; width: 400px; \" data-field=\"TxOrgPol\" tabindex=\"0\"><div class=\"th-inner \">ORGANIZACIÓN POLÍTICA</div><div class=\"fht-cell\"></div></th><th style=\"text-align: center; vertical-align: middle; width: 100px; \" data-field=\"TxRutaSimbolo\" tabindex=\"0\"><div class=\"th-inner \">SÍMBOLO</div><div class=\"fht-cell\"></div></th><th style=\"text-align: center; vertical-align: middle; width: 100px; \" data-field=\"TxRutaPlanGob\" tabindex=\"0\"><div class=\"th-inner \">PLAN DE<br>GOBIERNO</div><div class=\"fht-cell\"></div></th><th style=\"text-align: center; vertical-align: middle; width: 100px; \" data-field=\"NuOrgVotos\" tabindex=\"0\"><div class=\"th-inner \">TOTAL VOTOS</div><div class=\"fht-cell\"></div></th><th style=\"text-align: center; vertical-align: middle; width: 100px; \" data-field=\"NuOrgPorc\" tabindex=\"0\"><div class=\"th-inner \">PORCENTAJE DE<br>VOTOS VÁLIDOS</div><div class=\"fht-cell\"></div></th><th style=\"text-align: center; vertical-align: middle; width: 130px; \" data-field=\"lnkListaCandidatos\" tabindex=\"0\"><div class=\"th-inner \">LISTA DE CANDIDATOS</div><div class=\"fht-cell\"></div></th></tr></thead>\\n                <tbody><tr data-index=\"0\"><td style=\"vertical-align: middle; width: 400px; \"><a href=\"/Partido/FichaPartido/partido-politico-nacional-peru-libre_acerca-de_nKh676Fplqw=h6\" class=\"link color-negro alias\">PARTIDO POLITICO NACIONAL PERU LIBRE</a></td><td style=\"text-align: center; vertical-align: middle; width: 100px; \"><a href=\"/Partido/FichaPartido/partido-politico-nacional-peru-libre_acerca-de_nKh676Fplqw=h6\" class=\"alias\"><img src=\"/General/ObtenerLogoPorProceso?photoURL=Y/sIMI4ot1GxHsgWu94xK77LbJy2EUMmgyYlwJA04rY=sI&amp;tk=lZReYRtKBFI=RR\" onerror=\"this.src=\\'/Images/nologo.gif\\';\" width=\"25\" height=\"25\"></a></td><td style=\"text-align: center; vertical-align: middle; width: 100px; \"><a href=\"https://declara.jne.gob.pe/ASSETS/PLANGOBIERNO/FILEPLANGOBIERNO/16542.pdf\" target=\"_blank\"><i class=\"fa fa-file fa-lg color-negro\"></i></a></td><td style=\"text-align: center; vertical-align: middle; width: 100px; \">8,836,380</td><td style=\"text-align: center; vertical-align: middle; width: 100px; \">50.126%</td><td style=\"text-align: center; vertical-align: middle; width: 130px; \"><div>VER LISTA&nbsp;<i class=\"fa fa-user-plus fa-lg\"></i></div></td></tr><tr data-index=\"1\"><td style=\"vertical-align: middle; width: 400px; \"><a href=\"/Partido/FichaPartido/fuerza-popular_acerca-de_SgCRMofD1dM=Co\" class=\"link color-negro alias\">FUERZA POPULAR</a></td><td style=\"text-align: center; vertical-align: middle; width: 100px; \"><a href=\"/Partido/FichaPartido/fuerza-popular_acerca-de_SgCRMofD1dM=Co\" class=\"alias\"><img src=\"/General/ObtenerLogoPorProceso?photoURL=Y/sIMI4ot1GxHsgWu94xK2nuLeEK2mFCgyYlwJA04rY=sI&amp;tk=lZReYRtKBFI=RR\" onerror=\"this.src=\\'/Images/nologo.gif\\';\" width=\"25\" height=\"25\"></a></td><td style=\"text-align: center; vertical-align: middle; width: 100px; \"><a href=\"https://declara.jne.gob.pe/ASSETS/PLANGOBIERNO/FILEPLANGOBIERNO/16490.pdf\" target=\"_blank\"><i class=\"fa fa-file fa-lg color-negro\"></i></a></td><td style=\"text-align: center; vertical-align: middle; width: 100px; \">8,792,117</td><td style=\"text-align: center; vertical-align: middle; width: 100px; \">49.874%</td><td style=\"text-align: center; vertical-align: middle; width: 130px; \"><div>VER LISTA&nbsp;<i class=\"fa fa-user-plus fa-lg\"></i></div></td></tr><tr data-index=\"2\"><td style=\"vertical-align: middle; width: 400px; \">VOTOS EN BLANCO</td><td style=\"text-align: center; vertical-align: middle; width: 100px; \"></td><td style=\"text-align: center; vertical-align: middle; width: 100px; \"></td><td style=\"text-align: center; vertical-align: middle; width: 100px; \">121,489</td><td style=\"text-align: center; vertical-align: middle; width: 100px; \"></td><td style=\"text-align: center; vertical-align: middle; width: 130px; \"></td></tr><tr data-index=\"3\"><td style=\"vertical-align: middle; width: 400px; \">VOTOS NULOS</td><td style=\"text-align: center; vertical-align: middle; width: 100px; \"></td><td style=\"text-align: center; vertical-align: middle; width: 100px; \"></td><td style=\"text-align: center; vertical-align: middle; width: 100px; \">1,106,816</td><td style=\"text-align: center; vertical-align: middle; width: 100px; \"></td><td style=\"text-align: center; vertical-align: middle; width: 130px; \"></td></tr></tbody></table>'"
      ]
     },
     "execution_count": 29,
     "metadata": {},
     "output_type": "execute_result"
    }
   ],
   "source": [
    "table_votes_path = driver.find_element(By.XPATH, '/html/body/div[1]/section/div[2]/div[3]/div[3]/div/div/div/div[1]/div[2]/div[2]/div[2]')\n",
    "#save table as html                               \n",
    "table_votes_html = table_votes_path.get_attribute('innerHTML')\n",
    "table_votes_html\n"
   ]
  },
  {
   "cell_type": "code",
   "execution_count": 30,
   "id": "703e58fe",
   "metadata": {},
   "outputs": [],
   "source": [
    "import pandas as pd\n",
    "table_votes = pd.read_html(table_votes_html)"
   ]
  },
  {
   "cell_type": "code",
   "execution_count": 31,
   "id": "fcd80fe9",
   "metadata": {},
   "outputs": [
    {
     "data": {
      "text/plain": [
       "[                  ORGANIZACIÓN POLÍTICA  SÍMBOLO  PLAN DE GOBIERNO  \\\n",
       " 0  PARTIDO POLITICO NACIONAL PERU LIBRE      NaN               NaN   \n",
       " 1                        FUERZA POPULAR      NaN               NaN   \n",
       " 2                       VOTOS EN BLANCO      NaN               NaN   \n",
       " 3                           VOTOS NULOS      NaN               NaN   \n",
       " \n",
       "    TOTAL VOTOS PORCENTAJE DE VOTOS VÁLIDOS LISTA DE CANDIDATOS  \n",
       " 0      8836380                     50.126%           VER LISTA  \n",
       " 1      8792117                     49.874%           VER LISTA  \n",
       " 2       121489                         NaN                 NaN  \n",
       " 3      1106816                         NaN                 NaN  ]"
      ]
     },
     "execution_count": 31,
     "metadata": {},
     "output_type": "execute_result"
    }
   ],
   "source": [
    "table_votes"
   ]
  },
  {
   "cell_type": "code",
   "execution_count": 160,
   "id": "25353f82",
   "metadata": {},
   "outputs": [
    {
     "data": {
      "text/plain": [
       "list"
      ]
     },
     "execution_count": 160,
     "metadata": {},
     "output_type": "execute_result"
    }
   ],
   "source": [
    "type(table_votes)"
   ]
  },
  {
   "cell_type": "code",
   "execution_count": 178,
   "id": "2d0ff0fc",
   "metadata": {},
   "outputs": [],
   "source": [
    "table_presidencial21_2 = table_votes[0].iloc[ 0:2, [0,3]]"
   ]
  },
  {
   "cell_type": "code",
   "execution_count": 181,
   "id": "c9ac9eed",
   "metadata": {},
   "outputs": [],
   "source": [
    "table_presidencial21_2.insert(0, 'Elecciones', 'PRESIDENCIAL 2021 - 2DA VUELTA')\n"
   ]
  },
  {
   "cell_type": "code",
   "execution_count": 182,
   "id": "ddca37f9",
   "metadata": {
    "scrolled": true
   },
   "outputs": [
    {
     "data": {
      "text/html": [
       "<div>\n",
       "<style scoped>\n",
       "    .dataframe tbody tr th:only-of-type {\n",
       "        vertical-align: middle;\n",
       "    }\n",
       "\n",
       "    .dataframe tbody tr th {\n",
       "        vertical-align: top;\n",
       "    }\n",
       "\n",
       "    .dataframe thead th {\n",
       "        text-align: right;\n",
       "    }\n",
       "</style>\n",
       "<table border=\"1\" class=\"dataframe\">\n",
       "  <thead>\n",
       "    <tr style=\"text-align: right;\">\n",
       "      <th></th>\n",
       "      <th>Elecciones</th>\n",
       "      <th>ORGANIZACIÓN POLÍTICA</th>\n",
       "      <th>TOTAL VOTOS</th>\n",
       "    </tr>\n",
       "  </thead>\n",
       "  <tbody>\n",
       "    <tr>\n",
       "      <th>0</th>\n",
       "      <td>PRESIDENCIAL 2021 - 2DA VUELTA</td>\n",
       "      <td>PARTIDO POLITICO NACIONAL PERU LIBRE</td>\n",
       "      <td>8836380</td>\n",
       "    </tr>\n",
       "    <tr>\n",
       "      <th>1</th>\n",
       "      <td>PRESIDENCIAL 2021 - 2DA VUELTA</td>\n",
       "      <td>FUERZA POPULAR</td>\n",
       "      <td>8792117</td>\n",
       "    </tr>\n",
       "  </tbody>\n",
       "</table>\n",
       "</div>"
      ],
      "text/plain": [
       "                       Elecciones                 ORGANIZACIÓN POLÍTICA  \\\n",
       "0  PRESIDENCIAL 2021 - 2DA VUELTA  PARTIDO POLITICO NACIONAL PERU LIBRE   \n",
       "1  PRESIDENCIAL 2021 - 2DA VUELTA                        FUERZA POPULAR   \n",
       "\n",
       "   TOTAL VOTOS  \n",
       "0      8836380  \n",
       "1      8792117  "
      ]
     },
     "execution_count": 182,
     "metadata": {},
     "output_type": "execute_result"
    }
   ],
   "source": [
    "table_presidencial21_2 \n"
   ]
  },
  {
   "cell_type": "code",
   "execution_count": null,
   "id": "90c5d96e",
   "metadata": {},
   "outputs": [],
   "source": []
  }
 ],
 "metadata": {
  "kernelspec": {
   "display_name": "Python 3 (ipykernel)",
   "language": "python",
   "name": "python3"
  },
  "language_info": {
   "codemirror_mode": {
    "name": "ipython",
    "version": 3
   },
   "file_extension": ".py",
   "mimetype": "text/x-python",
   "name": "python",
   "nbconvert_exporter": "python",
   "pygments_lexer": "ipython3",
   "version": "3.11.5"
  }
 },
 "nbformat": 4,
 "nbformat_minor": 5
}
