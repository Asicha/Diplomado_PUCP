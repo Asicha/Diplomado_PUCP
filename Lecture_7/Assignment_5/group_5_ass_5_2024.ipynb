{
 "cells": [
  {
   "cell_type": "code",
   "execution_count": 9,
   "id": "8b4870f5",
   "metadata": {},
   "outputs": [],
   "source": [
    "from selenium import webdriver\n",
    "from selenium.webdriver.chrome.service import Service\n",
    "from selenium.webdriver.common.keys import Keys\n",
    "from selenium.webdriver import ActionChains\n",
    "from bs4 import BeautifulSoup\n",
    "import os\n",
    "import time\n",
    "from selenium import webdriver\n",
    "from selenium.webdriver.common.by import By\n",
    "from selenium.webdriver.common.action_chains import ActionChains\n",
    "from selenium.webdriver.support.ui import WebDriverWait\n",
    "from selenium.webdriver.support import expected_conditions as EC\n",
    "import requests"
   ]
  },
  {
   "cell_type": "markdown",
   "id": "7c78f21e",
   "metadata": {},
   "source": [
    "## Launch the driver "
   ]
  },
  {
   "cell_type": "code",
   "execution_count": 13,
   "id": "52eec901",
   "metadata": {},
   "outputs": [],
   "source": [
    "service = Service(executable_path=r'../chromedriver-win64/chromedriver.exe')\n",
    "options = webdriver.ChromeOptions()\n",
    "driver = webdriver.Chrome(service=service, options=options)\n",
    "\n",
    "url = 'https://infogob.jne.gob.pe/Eleccion'\n",
    "driver.get(url)\n",
    "driver.maximize_window()"
   ]
  },
  {
   "cell_type": "markdown",
   "id": "f1362a5b",
   "metadata": {},
   "source": [
    "## Select the 2021 presidential election in the dropdown list"
   ]
  },
  {
   "cell_type": "code",
   "execution_count": 14,
   "id": "4ea82e83",
   "metadata": {},
   "outputs": [],
   "source": [
    "# we open the dropdown list for 'Tipo de eleccion'\n",
    "dropdown_tipo = WebDriverWait(driver, 10).until(\n",
    "    EC.element_to_be_clickable((By.XPATH, '/html/body/div[1]/section/div[2]/div[2]/div[2]/div[1]/div'))\n",
    ")\n",
    "dropdown_tipo.click()\n",
    "\n",
    "# We select the option that contains 'ELECCIONES PRESIDENCIALES'\n",
    "option_presidencial = WebDriverWait(driver, 10).until(\n",
    "    EC.element_to_be_clickable((By.XPATH, '//div[contains(text(), \"ELECCIONES PRESIDENCIALES\")]'))\n",
    ")\n",
    "option_presidencial.click()\n",
    "\n",
    "time.sleep(3)\n",
    "\n",
    "# We open the second dropdown and select t\n",
    "dropdown_eleccion = WebDriverWait(driver, 10).until(\n",
    "    EC.element_to_be_clickable((By.XPATH, '/html/body/div[1]/section/div[2]/div[2]/div[2]/div[2]/div'))\n",
    ")\n",
    "dropdown_eleccion.click()\n",
    "\n",
    "# We select the option from the second dropdown\n",
    "option_presidencial21 = WebDriverWait(driver, 10).until(\n",
    "    EC.element_to_be_clickable((By.XPATH, '//div[contains(text(), \"PRESIDENCIAL 2021 - 2DA VUELTA\")]'))\n",
    ")\n",
    "option_presidencial21.click()\n",
    "\n",
    "time.sleep(3)\n",
    "# We click the search button\n",
    "\n",
    "driver.find_element(By.ID,'btnVerDatos').click()"
   ]
  },
  {
   "cell_type": "markdown",
   "id": "2ae7832c",
   "metadata": {},
   "source": [
    "## Access the element 'Candidatos y Resultados' and get table"
   ]
  },
  {
   "cell_type": "code",
   "execution_count": 128,
   "id": "064414c4",
   "metadata": {},
   "outputs": [],
   "source": [
    "driver.find_element(By.XPATH, '/html/body/div[1]/section/div[2]/div[3]/div[1]/ul/li[2]/a').click()"
   ]
  },
  {
   "cell_type": "markdown",
   "id": "1c02b7ee",
   "metadata": {},
   "source": [
    "### Get votes table"
   ]
  },
  {
   "cell_type": "code",
   "execution_count": 129,
   "id": "dcacc333",
   "metadata": {},
   "outputs": [],
   "source": [
    "table_votes_path = driver.find_element(By.XPATH, '/html/body/div[1]/section/div[2]/div[3]/div[3]/div/div/div/div[1]/div[2]/div[2]/div[2]')\n",
    "#save table as html\n",
    "table_votes_html = table_votes_path.get_attribute('innerHTML')\n",
    "table_votes_html\n"
   ]
  },
  {
   "cell_type": "code",
   "execution_count": 131,
   "id": "bfef83af",
   "metadata": {},
   "outputs": [],
   "source": [
    "import pandas as pd\n",
    "table_votes = pd.read_html(table_votes_html)"
   ]
  },
  {
   "cell_type": "code",
   "execution_count": 156,
   "id": "57a08d96",
   "metadata": {},
   "outputs": [
    {
     "data": {
      "text/plain": [
       "[                  ORGANIZACIÓN POLÍTICA  SÍMBOLO  PLAN DE GOBIERNO  \\\n",
       " 0  PARTIDO POLITICO NACIONAL PERU LIBRE      NaN               NaN   \n",
       " 1                        FUERZA POPULAR      NaN               NaN   \n",
       " 2                       VOTOS EN BLANCO      NaN               NaN   \n",
       " 3                           VOTOS NULOS      NaN               NaN   \n",
       " \n",
       "    TOTAL VOTOS PORCENTAJE DE VOTOS VÁLIDOS LISTA DE CANDIDATOS  \n",
       " 0      8836380                     50.126%           VER LISTA  \n",
       " 1      8792117                     49.874%           VER LISTA  \n",
       " 2       121489                         NaN                 NaN  \n",
       " 3      1106816                         NaN                 NaN  ]"
      ]
     },
     "execution_count": 156,
     "metadata": {},
     "output_type": "execute_result"
    }
   ],
   "source": [
    "table_votes"
   ]
  },
  {
   "cell_type": "code",
   "execution_count": 160,
   "id": "58dc8037",
   "metadata": {},
   "outputs": [
    {
     "data": {
      "text/plain": [
       "list"
      ]
     },
     "execution_count": 160,
     "metadata": {},
     "output_type": "execute_result"
    }
   ],
   "source": [
    "type(table_votes)"
   ]
  },
  {
   "cell_type": "code",
   "execution_count": 178,
   "id": "8579f1eb",
   "metadata": {},
   "outputs": [],
   "source": [
    "table_presidencial21_2 = table_votes[0].iloc[ 0:2, [0,3]]"
   ]
  },
  {
   "cell_type": "code",
   "execution_count": 181,
   "id": "67c37f03",
   "metadata": {},
   "outputs": [],
   "source": [
    "table_presidencial21_2.insert(0, 'Elecciones', 'PRESIDENCIAL 2021 - 2DA VUELTA')\n"
   ]
  },
  {
   "cell_type": "code",
   "execution_count": 182,
   "id": "3c8e1d58",
   "metadata": {
    "scrolled": true
   },
   "outputs": [
    {
     "data": {
      "text/html": [
       "<div>\n",
       "<style scoped>\n",
       "    .dataframe tbody tr th:only-of-type {\n",
       "        vertical-align: middle;\n",
       "    }\n",
       "\n",
       "    .dataframe tbody tr th {\n",
       "        vertical-align: top;\n",
       "    }\n",
       "\n",
       "    .dataframe thead th {\n",
       "        text-align: right;\n",
       "    }\n",
       "</style>\n",
       "<table border=\"1\" class=\"dataframe\">\n",
       "  <thead>\n",
       "    <tr style=\"text-align: right;\">\n",
       "      <th></th>\n",
       "      <th>Elecciones</th>\n",
       "      <th>ORGANIZACIÓN POLÍTICA</th>\n",
       "      <th>TOTAL VOTOS</th>\n",
       "    </tr>\n",
       "  </thead>\n",
       "  <tbody>\n",
       "    <tr>\n",
       "      <th>0</th>\n",
       "      <td>PRESIDENCIAL 2021 - 2DA VUELTA</td>\n",
       "      <td>PARTIDO POLITICO NACIONAL PERU LIBRE</td>\n",
       "      <td>8836380</td>\n",
       "    </tr>\n",
       "    <tr>\n",
       "      <th>1</th>\n",
       "      <td>PRESIDENCIAL 2021 - 2DA VUELTA</td>\n",
       "      <td>FUERZA POPULAR</td>\n",
       "      <td>8792117</td>\n",
       "    </tr>\n",
       "  </tbody>\n",
       "</table>\n",
       "</div>"
      ],
      "text/plain": [
       "                       Elecciones                 ORGANIZACIÓN POLÍTICA  \\\n",
       "0  PRESIDENCIAL 2021 - 2DA VUELTA  PARTIDO POLITICO NACIONAL PERU LIBRE   \n",
       "1  PRESIDENCIAL 2021 - 2DA VUELTA                        FUERZA POPULAR   \n",
       "\n",
       "   TOTAL VOTOS  \n",
       "0      8836380  \n",
       "1      8792117  "
      ]
     },
     "execution_count": 182,
     "metadata": {},
     "output_type": "execute_result"
    }
   ],
   "source": [
    "table_presidencial21_2 \n"
   ]
  },
  {
   "cell_type": "markdown",
   "id": "3ddf1a5a",
   "metadata": {},
   "source": [
    "## Replicate the code for the other elections\n"
   ]
  },
  {
   "cell_type": "code",
   "execution_count": null,
   "id": "c74d5871",
   "metadata": {},
   "outputs": [],
   "source": []
  }
 ],
 "metadata": {
  "kernelspec": {
   "display_name": "Python 3 (ipykernel)",
   "language": "python",
   "name": "python3"
  },
  "language_info": {
   "codemirror_mode": {
    "name": "ipython",
    "version": 3
   },
   "file_extension": ".py",
   "mimetype": "text/x-python",
   "name": "python",
   "nbconvert_exporter": "python",
   "pygments_lexer": "ipython3",
   "version": "3.11.5"
  }
 },
 "nbformat": 4,
 "nbformat_minor": 5
}
