{
 "cells": [
  {
   "cell_type": "markdown",
   "metadata": {},
   "source": [
    "# Assignment 5\n",
    "The script should not give an error. Any mistake will be consider as 0.\n"
   ]
  },
  {
   "cell_type": "markdown",
   "metadata": {},
   "source": [
    "### 5.1 Installing packages:"
   ]
  },
  {
   "cell_type": "code",
   "execution_count": 1,
   "metadata": {},
   "outputs": [
    {
     "name": "stdout",
     "output_type": "stream",
     "text": [
      "Requirement already satisfied: selenium in /Users/claudiaplasenciacustodio/anaconda3/lib/python3.11/site-packages (4.16.0)\n",
      "Requirement already satisfied: urllib3[socks]<3,>=1.26 in /Users/claudiaplasenciacustodio/anaconda3/lib/python3.11/site-packages (from selenium) (1.26.16)\n",
      "Requirement already satisfied: trio~=0.17 in /Users/claudiaplasenciacustodio/anaconda3/lib/python3.11/site-packages (from selenium) (0.24.0)\n",
      "Requirement already satisfied: trio-websocket~=0.9 in /Users/claudiaplasenciacustodio/anaconda3/lib/python3.11/site-packages (from selenium) (0.11.1)\n",
      "Requirement already satisfied: certifi>=2021.10.8 in /Users/claudiaplasenciacustodio/anaconda3/lib/python3.11/site-packages (from selenium) (2023.11.17)\n",
      "Requirement already satisfied: attrs>=20.1.0 in /Users/claudiaplasenciacustodio/anaconda3/lib/python3.11/site-packages (from trio~=0.17->selenium) (22.1.0)\n",
      "Requirement already satisfied: sortedcontainers in /Users/claudiaplasenciacustodio/anaconda3/lib/python3.11/site-packages (from trio~=0.17->selenium) (2.4.0)\n",
      "Requirement already satisfied: idna in /Users/claudiaplasenciacustodio/anaconda3/lib/python3.11/site-packages (from trio~=0.17->selenium) (3.4)\n",
      "Requirement already satisfied: outcome in /Users/claudiaplasenciacustodio/anaconda3/lib/python3.11/site-packages (from trio~=0.17->selenium) (1.3.0.post0)\n",
      "Requirement already satisfied: sniffio>=1.3.0 in /Users/claudiaplasenciacustodio/anaconda3/lib/python3.11/site-packages (from trio~=0.17->selenium) (1.3.0)\n",
      "Requirement already satisfied: wsproto>=0.14 in /Users/claudiaplasenciacustodio/anaconda3/lib/python3.11/site-packages (from trio-websocket~=0.9->selenium) (1.2.0)\n",
      "Requirement already satisfied: PySocks!=1.5.7,<2.0,>=1.5.6 in /Users/claudiaplasenciacustodio/anaconda3/lib/python3.11/site-packages (from urllib3[socks]<3,>=1.26->selenium) (1.7.1)\n",
      "Requirement already satisfied: h11<1,>=0.9.0 in /Users/claudiaplasenciacustodio/anaconda3/lib/python3.11/site-packages (from wsproto>=0.14->trio-websocket~=0.9->selenium) (0.14.0)\n",
      "Requirement already satisfied: webdriver-manager in /Users/claudiaplasenciacustodio/anaconda3/lib/python3.11/site-packages (4.0.1)\n",
      "Requirement already satisfied: requests in /Users/claudiaplasenciacustodio/anaconda3/lib/python3.11/site-packages (from webdriver-manager) (2.31.0)\n",
      "Requirement already satisfied: python-dotenv in /Users/claudiaplasenciacustodio/anaconda3/lib/python3.11/site-packages (from webdriver-manager) (0.21.0)\n",
      "Requirement already satisfied: packaging in /Users/claudiaplasenciacustodio/anaconda3/lib/python3.11/site-packages (from webdriver-manager) (23.1)\n",
      "Requirement already satisfied: charset-normalizer<4,>=2 in /Users/claudiaplasenciacustodio/anaconda3/lib/python3.11/site-packages (from requests->webdriver-manager) (2.0.4)\n",
      "Requirement already satisfied: idna<4,>=2.5 in /Users/claudiaplasenciacustodio/anaconda3/lib/python3.11/site-packages (from requests->webdriver-manager) (3.4)\n",
      "Requirement already satisfied: urllib3<3,>=1.21.1 in /Users/claudiaplasenciacustodio/anaconda3/lib/python3.11/site-packages (from requests->webdriver-manager) (1.26.16)\n",
      "Requirement already satisfied: certifi>=2017.4.17 in /Users/claudiaplasenciacustodio/anaconda3/lib/python3.11/site-packages (from requests->webdriver-manager) (2023.11.17)\n",
      "Requirement already satisfied: html5lib in /Users/claudiaplasenciacustodio/anaconda3/lib/python3.11/site-packages (1.1)\n",
      "Requirement already satisfied: six>=1.9 in /Users/claudiaplasenciacustodio/anaconda3/lib/python3.11/site-packages (from html5lib) (1.16.0)\n",
      "Requirement already satisfied: webencodings in /Users/claudiaplasenciacustodio/anaconda3/lib/python3.11/site-packages (from html5lib) (0.5.1)\n"
     ]
    }
   ],
   "source": [
    "!pip install selenium \n",
    "# this library is to manipulate browser:\n",
    "!pip install webdriver-manager\n",
    "!pip install html5lib"
   ]
  },
  {
   "cell_type": "code",
   "execution_count": 2,
   "metadata": {},
   "outputs": [
    {
     "data": {
      "text/html": [
       "\n",
       "<style>\n",
       "    div#notebook-container    { width: 95%; }\n",
       "    div#menubar-container     { width: 65%; }\n",
       "    div#maintoolbar-container { width: 99%; }a\n",
       "</style>\n"
      ],
      "text/plain": [
       "<IPython.core.display.HTML object>"
      ]
     },
     "metadata": {},
     "output_type": "display_data"
    }
   ],
   "source": [
    "#To control the layout and width within Notebook:\n",
    "from IPython.display import display, HTML\n",
    "\n",
    "display(HTML(data=\"\"\"\n",
    "<style>\n",
    "    div#notebook-container    { width: 95%; }\n",
    "    div#menubar-container     { width: 65%; }\n",
    "    div#maintoolbar-container { width: 99%; }a\n",
    "</style>\n",
    "\"\"\"))"
   ]
  },
  {
   "cell_type": "code",
   "execution_count": 3,
   "metadata": {},
   "outputs": [],
   "source": [
    "# Import necessary modules from Selenium:\n",
    "from selenium import webdriver\n",
    "from selenium.webdriver.chrome.service import Service #To configure the WebDriver service:\n",
    "from selenium.webdriver.common.by import By #Provides methods for locating elements:\n",
    "from selenium.webdriver.support.ui import Select #for interacting with dropdowns\n",
    "from selenium.webdriver.common.action_chains import ActionChains\n",
    "from selenium.webdriver.common.keys import Keys\n",
    "from selenium.webdriver.support.ui import WebDriverWait\n",
    "from selenium.webdriver.support import expected_conditions as EC\n",
    "import pandas as pd \n",
    "import numpy as np\n",
    "import os\n",
    "import time\n",
    "import re\n",
    "import unidecode\n",
    "import time "
   ]
  },
  {
   "cell_type": "markdown",
   "metadata": {},
   "source": [
    "### 5.2  Initialize the Chrome driver"
   ]
  },
  {
   "cell_type": "markdown",
   "metadata": {},
   "source": [
    "#### Function to select a specific type of electoral process "
   ]
  },
  {
   "cell_type": "markdown",
   "metadata": {},
   "source": [
    "Using a function to set up the Chrome WebDriver provides a modular and reusable way to configure and initialize your WebDriver instances"
   ]
  },
  {
   "cell_type": "code",
   "execution_count": null,
   "metadata": {},
   "outputs": [],
   "source": [
    "\n",
    "def setup_driver():\n",
    "    #First, set the path to the ChromeDriver executable\n",
    "    service = Service(executable_path=\"chromedriver-win64/chromedriver.exe\")\n",
    "    # Configure options for the Chrome browser\n",
    "    options = webdriver.ChromeOptions()\n",
    "    # Initialize the Chrome WebDriver with the specified service and options\n",
    "    driver = webdriver.Chrome(service=service, options=options)\n",
    "    # Maximize the browser window\n",
    "    driver.maximize_window()\n",
    "    # Return the configured WebDriver instance\n",
    "    return driver"
   ]
  },
  {
   "cell_type": "markdown",
   "metadata": {},
   "source": [
    "### 5.3 Navigating the page: Election"
   ]
  },
  {
   "cell_type": "markdown",
   "metadata": {},
   "source": [
    "#### Function to navigate to a given URL"
   ]
  },
  {
   "cell_type": "markdown",
   "metadata": {},
   "source": [
    "This function provides a clean interface for the main script or other functions to use."
   ]
  },
  {
   "cell_type": "code",
   "execution_count": null,
   "metadata": {},
   "outputs": [],
   "source": [
    "def go_to_url(driver, url):\n",
    "    # Navigate the WebDriver to the specified URL\n",
    "    driver.get(url)"
   ]
  },
  {
   "cell_type": "markdown",
   "metadata": {},
   "source": [
    "### 5.4 Construction of the loop and export of information in an Excel file\"Elecciones_resultados\""
   ]
  },
  {
   "cell_type": "markdown",
   "metadata": {},
   "source": [
    "#### Function to select a specific type of electoral process"
   ]
  },
  {
   "cell_type": "code",
   "execution_count": null,
   "metadata": {},
   "outputs": [],
   "source": [
    "def select_process_type(driver, tipo_proceso_xpath, tipo_xpath):\n",
    "    # Click on the element specified by tipo_proceso_xpath to open the process type dropdown\n",
    "    driver.find_element(By.XPATH, tipo_proceso_xpath).click()\n",
    "    \n",
    "    # Pause for 2 seconds to allow the dropdown to appear\n",
    "    time.sleep(2)\n",
    "    \n",
    "    # Click on the element specified by tipo_xpath to select the desired process type\n",
    "    driver.find_element(By.XPATH, tipo_xpath).click()\n",
    "    # Pause for 2 seconds to ensure the selection is registered\n",
    "    time.sleep(2)"
   ]
  },
  {
   "cell_type": "markdown",
   "metadata": {},
   "source": [
    "#### Function to choose the presidential electoral process"
   ]
  },
  {
   "cell_type": "code",
   "execution_count": null,
   "metadata": {},
   "outputs": [],
   "source": [
    "def choose_presidential_process(driver, eleccion_tipo_xpath):\n",
    "    # Click on the element specified by eleccion_tipo_xpath to choose the presidential process\n",
    "    driver.find_element(By.XPATH, eleccion_tipo_xpath).click()\n",
    "    # Pause for 2 seconds to allow for the selection to be processed\n",
    "    time.sleep(2)"
   ]
  },
  {
   "cell_type": "markdown",
   "metadata": {},
   "source": [
    "#### Function to get the options for the electoral process"
   ]
  },
  {
   "cell_type": "code",
   "execution_count": null,
   "metadata": {},
   "outputs": [],
   "source": [
    "def get_process_options(driver, elecciones_xpath):\n",
    "    # Find the dropdown element using the specified XPath, then create a Select object to interact with the dropdown and finally return the options of the dropdown\n",
    "    return Select(driver.find_element(By.XPATH, elecciones_xpath)).options"
   ]
  },
  {
   "cell_type": "markdown",
   "metadata": {},
   "source": [
    "#### Function to restart the electoral process\n",
    "In this code, the 'driver.get(url)' function navigates WebDriver to a specific URL. After this, 'time.sleep(2)' introduces a 2 second pause to allow the page to fully load. Subsequently, two functions, 'select_process_type' and 'Choose_presidential_process', are called with the parameters WebDriver and XPath, interacting with specific elements of the web page to choose the type of electoral process and presidential process, respectively. Another 'time.sleep(2)' follows each function call to allow the page to respond to the selections made."
   ]
  },
  {
   "cell_type": "code",
   "execution_count": null,
   "metadata": {},
   "outputs": [],
   "source": [
    "def restart_process(driver, url, tipo_proceso_xpath, tipo_xpath, eleccion_tipo_xpath):\n",
    "    # Load the initial URL to restart the electoral process\n",
    "    driver.get(url)\n",
    "    # Pause script execution for 2 seconds to ensure the page loads before proceeding\n",
    "    time.sleep(2)\n",
    "    # Call the 'select_process_type' function to choose the type of electoral process\n",
    "    select_process_type(driver, tipo_proceso_xpath, tipo_xpath)\n",
    "    # Call the 'choose_presidential_process' function to choose the presidential process\n",
    "    choose_presidential_process(driver, eleccion_tipo_xpath)\n",
    "    time.sleep(2)"
   ]
  },
  {
   "cell_type": "markdown",
   "metadata": {},
   "source": [
    "#### Function to access a specific electoral process\n",
    "In this code, the 'access_electoral_process' function uses the WebDriver to access an election process on a web page. Uses the 'WebDriverWait' library to wait until an element identified by the provided XPath (xpath_election) is visible on the page. Once visible, click on said element using 'driver.find_element(By.XPATH, eleccion_xpath).click()'. Then, introduce a 2-second pause '(time.sleep(2))' to allow the page to respond to the action taken."
   ]
  },
  {
   "cell_type": "code",
   "execution_count": null,
   "metadata": {},
   "outputs": [],
   "source": [
    "def access_electoral_process(driver, eleccion_xpath):\n",
    "    # Wait for up to 10 seconds until the specified element (identified by XPath) is visible on the page\n",
    "    # This ensures that the page has loaded and the element is ready for interaction\n",
    "    WebDriverWait(driver, 10).until(EC.visibility_of_element_located((By.XPATH, eleccion_xpath)))\n",
    "    # Once the element is visible, locate it using the provided XPath and simulate a click action\n",
    "    driver.find_element(By.XPATH, eleccion_xpath).click()\n",
    "    # Pause script execution for 2 seconds after clicking to allow the page to respond or load additional content\n",
    "    time.sleep(2)"
   ]
  },
  {
   "cell_type": "markdown",
   "metadata": {},
   "source": [
    "#### Function to go to data section\n",
    "The 'go_to_data_section' function navigates to a specific section on a webpage. It utilizes the Selenium WebDriver to locate an HTML element using the provided XPath (ver_datos_xpath). Once the element is located, the function clicks on it, simulating a user interaction. The subsequent 'time.sleep(2)' introduces a brief pause, allowing the page to respond or load content, providing stability to the script. "
   ]
  },
  {
   "cell_type": "code",
   "execution_count": null,
   "metadata": {},
   "outputs": [],
   "source": [
    "def go_to_data_section(driver, ver_datos_xpath):\n",
    "    # Locate the HTML element using the provided XPath that represents the 'VER DATOS' button or section\n",
    "    # and simulate a click action to navigate to the data section\n",
    "    driver.find_element(By.XPATH, ver_datos_xpath).click()\n",
    "    # Pause script execution for 2 seconds after clicking to allow the page to respond or load additional content\n",
    "    time.sleep(2)"
   ]
  }
 ],
 "metadata": {
  "hide_input": false,
  "kernelspec": {
   "display_name": "Python 3 (ipykernel)",
   "language": "python",
   "name": "python3"
  },
  "language_info": {
   "codemirror_mode": {
    "name": "ipython",
    "version": 3
   },
   "file_extension": ".py",
   "mimetype": "text/x-python",
   "name": "python",
   "nbconvert_exporter": "python",
   "pygments_lexer": "ipython3",
   "version": "3.11.5"
  },
  "toc": {
   "base_numbering": 1,
   "nav_menu": {},
   "number_sections": true,
   "sideBar": true,
   "skip_h1_title": false,
   "title_cell": "Table of Contents",
   "title_sidebar": "Contents",
   "toc_cell": false,
   "toc_position": {},
   "toc_section_display": true,
   "toc_window_display": false
  }
 },
 "nbformat": 4,
 "nbformat_minor": 4
}
