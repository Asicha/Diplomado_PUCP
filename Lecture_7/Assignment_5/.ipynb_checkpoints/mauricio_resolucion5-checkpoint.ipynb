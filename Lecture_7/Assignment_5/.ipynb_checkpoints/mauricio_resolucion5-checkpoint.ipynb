{
 "cells": [
  {
   "cell_type": "markdown",
   "id": "2e632f79",
   "metadata": {},
   "source": [
    "# Assigment 5"
   ]
  },
  {
   "cell_type": "markdown",
   "id": "e0a2ebd8",
   "metadata": {},
   "source": [
    "We import the needed libraries "
   ]
  },
  {
   "cell_type": "code",
   "execution_count": null,
   "id": "b5401b4f",
   "metadata": {},
   "outputs": [],
   "source": [
    "#!pip install selenium\n",
    "#!pip install webdriver-manager"
   ]
  },
  {
   "cell_type": "code",
   "execution_count": 35,
   "id": "8b4870f5",
   "metadata": {},
   "outputs": [],
   "source": [
    "from selenium import webdriver\n",
    "from selenium.webdriver.chrome.service import Service\n",
    "from selenium.webdriver.common.keys import Keys\n",
    "from selenium.webdriver import ActionChains\n",
    "from bs4 import BeautifulSoup\n",
    "import os\n",
    "import time\n",
    "from selenium import webdriver\n",
    "from selenium.webdriver.common.by import By\n",
    "from selenium.webdriver.common.action_chains import ActionChains\n",
    "from selenium.webdriver.support.ui import WebDriverWait\n",
    "from selenium.webdriver.support import expected_conditions as EC\n",
    "import requests\n",
    "from selenium.webdriver.support.ui import Select  # Import Select class"
   ]
  },
  {
   "cell_type": "markdown",
   "id": "6c54c3c8",
   "metadata": {},
   "source": [
    "## Table format example for Elecciones 2021 - 2DA Vuelta"
   ]
  },
  {
   "cell_type": "code",
   "execution_count": 38,
   "id": "411b194f",
   "metadata": {},
   "outputs": [
    {
     "data": {
      "text/html": [
       "<div>\n",
       "<style scoped>\n",
       "    .dataframe tbody tr th:only-of-type {\n",
       "        vertical-align: middle;\n",
       "    }\n",
       "\n",
       "    .dataframe tbody tr th {\n",
       "        vertical-align: top;\n",
       "    }\n",
       "\n",
       "    .dataframe thead th {\n",
       "        text-align: right;\n",
       "    }\n",
       "</style>\n",
       "<table border=\"1\" class=\"dataframe\">\n",
       "  <thead>\n",
       "    <tr style=\"text-align: right;\">\n",
       "      <th></th>\n",
       "      <th>Elecciones</th>\n",
       "      <th>ORGANIZACIÓN POLÍTICA</th>\n",
       "      <th>TOTAL VOTOS</th>\n",
       "    </tr>\n",
       "  </thead>\n",
       "  <tbody>\n",
       "    <tr>\n",
       "      <th>0</th>\n",
       "      <td>PRESIDENCIAL 2021 - 2DA VUELTA</td>\n",
       "      <td>PARTIDO POLITICO NACIONAL PERU LIBRE</td>\n",
       "      <td>8836380</td>\n",
       "    </tr>\n",
       "    <tr>\n",
       "      <th>1</th>\n",
       "      <td>PRESIDENCIAL 2021 - 2DA VUELTA</td>\n",
       "      <td>FUERZA POPULAR</td>\n",
       "      <td>8792117</td>\n",
       "    </tr>\n",
       "  </tbody>\n",
       "</table>\n",
       "</div>"
      ],
      "text/plain": [
       "                       Elecciones                 ORGANIZACIÓN POLÍTICA  \\\n",
       "0  PRESIDENCIAL 2021 - 2DA VUELTA  PARTIDO POLITICO NACIONAL PERU LIBRE   \n",
       "1  PRESIDENCIAL 2021 - 2DA VUELTA                        FUERZA POPULAR   \n",
       "\n",
       "   TOTAL VOTOS  \n",
       "0      8836380  \n",
       "1      8792117  "
      ]
     },
     "execution_count": 38,
     "metadata": {},
     "output_type": "execute_result"
    }
   ],
   "source": [
    "## Launch the driver \n",
    "\n",
    "service = Service(executable_path=r'../chromedriver-win64/chromedriver.exe')\n",
    "options = webdriver.ChromeOptions()\n",
    "driver = webdriver.Chrome(service=service, options=options)\n",
    "\n",
    "# Ee set the url for the infogob webpage\n",
    "url = 'https://infogob.jne.gob.pe/Eleccion'\n",
    "driver.get(url)\n",
    "driver.maximize_window()\n",
    "\n",
    "### Select dropdown list elements\n",
    "\n",
    "# we open the dropdown list for 'Tipo de eleccion'\n",
    "dropdown_tipo = WebDriverWait(driver, 10).until(\n",
    "    EC.element_to_be_clickable((By.XPATH, '/html/body/div[1]/section/div[2]/div[2]/div[2]/div[1]/div'))\n",
    ")\n",
    "dropdown_tipo.click()\n",
    "\n",
    "# We select the option that contains 'ELECCIONES PRESIDENCIALES'\n",
    "option_presidencial = WebDriverWait(driver, 10).until(\n",
    "    EC.element_to_be_clickable((By.XPATH, '//div[contains(text(), \"ELECCIONES PRESIDENCIALES\")]'))\n",
    ")\n",
    "option_presidencial.click()\n",
    "\n",
    "time.sleep(3)\n",
    "\n",
    "# We open the second dropdown and select t\n",
    "dropdown_eleccion = WebDriverWait(driver, 10).until(\n",
    "    EC.element_to_be_clickable((By.XPATH, '/html/body/div[1]/section/div[2]/div[2]/div[2]/div[2]/div'))\n",
    ")\n",
    "dropdown_eleccion.click()\n",
    "\n",
    "# We select the option from the second dropdown\n",
    "option_presidencial21 = WebDriverWait(driver, 10).until(\n",
    "    EC.element_to_be_clickable((By.XPATH, '//div[contains(text(), \"PRESIDENCIAL 2021 - 2DA VUELTA\")]'))\n",
    ")\n",
    "option_presidencial21.click()\n",
    "\n",
    "time.sleep(3)\n",
    "\n",
    "\n",
    "# We click the search button\n",
    "driver.find_element(By.ID,'btnVerDatos').click()\n",
    "\n",
    "## Access the element 'Candidatos y Resultados' and get table\n",
    "\n",
    "driver.find_element(By.XPATH, '/html/body/div[1]/section/div[2]/div[3]/div[1]/ul/li[2]/a').click()\n",
    "\n",
    "time.sleep(3)\n",
    "\n",
    "### Get votes table\n",
    "\n",
    "table_votes_path = driver.find_element(By.XPATH, '/html/body/div[1]/section/div[2]/div[3]/div[3]/div/div/div/div[1]/div[2]/div[2]/div[2]')\n",
    "#save table as html\n",
    "table_votes_html = table_votes_path.get_attribute('innerHTML')\n",
    "table_votes_html\n",
    "\n",
    "\n",
    "import pandas as pd\n",
    "table_votes = pd.read_html(table_votes_html)\n",
    "\n",
    "table_votes\n",
    "\n",
    "type(table_votes)\n",
    "\n",
    "table_presidencial21_2 = table_votes[0].iloc[ 0:2, [0,3]]\n",
    "\n",
    "table_presidencial21_2.insert(0, 'Elecciones', 'PRESIDENCIAL 2021 - 2DA VUELTA')\n",
    "\n",
    "\n",
    "table_presidencial21_2 \n"
   ]
  },
  {
   "cell_type": "markdown",
   "id": "5aaf47c3",
   "metadata": {},
   "source": [
    "## We obtain a list with all the elections from the webpage "
   ]
  },
  {
   "cell_type": "code",
   "execution_count": 15,
   "id": "1ebaa213",
   "metadata": {},
   "outputs": [],
   "source": [
    "service = Service(executable_path=r'../chromedriver-win64/chromedriver.exe')\n",
    "options = webdriver.ChromeOptions()\n",
    "driver = webdriver.Chrome(service=service, options=options)\n",
    "\n",
    "url = 'https://infogob.jne.gob.pe/Eleccion'\n",
    "driver.get(url)\n",
    "driver.maximize_window()\n",
    "\n",
    "# Open 'Tipo de Proceso' drop-down\n",
    "# we open the dropdown list for 'Tipo de eleccion'\n",
    "dropdown_tipo = WebDriverWait(driver, 10).until(\n",
    "    EC.element_to_be_clickable((By.XPATH, '/html/body/div[1]/section/div[2]/div[2]/div[2]/div[1]/div'))\n",
    ")\n",
    "dropdown_tipo.click()\n",
    "\n",
    "# We select the option that contains 'ELECCIONES PRESIDENCIALES'\n",
    "option_presidencial = WebDriverWait(driver, 10).until(\n",
    "    EC.element_to_be_clickable((By.XPATH, '//div[contains(text(), \"ELECCIONES PRESIDENCIALES\")]'))\n",
    ")\n",
    "option_presidencial.click()\n",
    "\n",
    "time.sleep(3)\n",
    "\n",
    "# Open 'Elección' drop-down\n",
    "eleccion_dropdown = WebDriverWait(driver, 10).until(\n",
    "    EC.element_to_be_clickable((By.XPATH, '/html/body/div[1]/section/div[2]/div[2]/div[2]/div[2]/div'))\n",
    ")\n",
    "eleccion_dropdown.click()\n",
    "\n",
    "# Get all options in the dropdown that contain 'PRESIDENCIAL'\n",
    "presidencial_options = driver.find_elements(By.XPATH, '//div[contains(text(), \"PRESIDENCIAL \")]')"
   ]
  },
  {
   "cell_type": "code",
   "execution_count": 16,
   "id": "4cf0ec2f",
   "metadata": {},
   "outputs": [
    {
     "data": {
      "text/plain": [
       "[<selenium.webdriver.remote.webelement.WebElement (session=\"6665c97fb5a289d3160ed04a439fdbad\", element=\"6311EB28472CEC70CE25439339079FE2_element_59\")>,\n",
       " <selenium.webdriver.remote.webelement.WebElement (session=\"6665c97fb5a289d3160ed04a439fdbad\", element=\"6311EB28472CEC70CE25439339079FE2_element_60\")>,\n",
       " <selenium.webdriver.remote.webelement.WebElement (session=\"6665c97fb5a289d3160ed04a439fdbad\", element=\"6311EB28472CEC70CE25439339079FE2_element_61\")>,\n",
       " <selenium.webdriver.remote.webelement.WebElement (session=\"6665c97fb5a289d3160ed04a439fdbad\", element=\"6311EB28472CEC70CE25439339079FE2_element_62\")>,\n",
       " <selenium.webdriver.remote.webelement.WebElement (session=\"6665c97fb5a289d3160ed04a439fdbad\", element=\"6311EB28472CEC70CE25439339079FE2_element_63\")>,\n",
       " <selenium.webdriver.remote.webelement.WebElement (session=\"6665c97fb5a289d3160ed04a439fdbad\", element=\"6311EB28472CEC70CE25439339079FE2_element_64\")>,\n",
       " <selenium.webdriver.remote.webelement.WebElement (session=\"6665c97fb5a289d3160ed04a439fdbad\", element=\"6311EB28472CEC70CE25439339079FE2_element_65\")>,\n",
       " <selenium.webdriver.remote.webelement.WebElement (session=\"6665c97fb5a289d3160ed04a439fdbad\", element=\"6311EB28472CEC70CE25439339079FE2_element_66\")>,\n",
       " <selenium.webdriver.remote.webelement.WebElement (session=\"6665c97fb5a289d3160ed04a439fdbad\", element=\"6311EB28472CEC70CE25439339079FE2_element_67\")>,\n",
       " <selenium.webdriver.remote.webelement.WebElement (session=\"6665c97fb5a289d3160ed04a439fdbad\", element=\"6311EB28472CEC70CE25439339079FE2_element_68\")>,\n",
       " <selenium.webdriver.remote.webelement.WebElement (session=\"6665c97fb5a289d3160ed04a439fdbad\", element=\"6311EB28472CEC70CE25439339079FE2_element_69\")>,\n",
       " <selenium.webdriver.remote.webelement.WebElement (session=\"6665c97fb5a289d3160ed04a439fdbad\", element=\"6311EB28472CEC70CE25439339079FE2_element_70\")>,\n",
       " <selenium.webdriver.remote.webelement.WebElement (session=\"6665c97fb5a289d3160ed04a439fdbad\", element=\"6311EB28472CEC70CE25439339079FE2_element_71\")>,\n",
       " <selenium.webdriver.remote.webelement.WebElement (session=\"6665c97fb5a289d3160ed04a439fdbad\", element=\"6311EB28472CEC70CE25439339079FE2_element_72\")>,\n",
       " <selenium.webdriver.remote.webelement.WebElement (session=\"6665c97fb5a289d3160ed04a439fdbad\", element=\"6311EB28472CEC70CE25439339079FE2_element_73\")>,\n",
       " <selenium.webdriver.remote.webelement.WebElement (session=\"6665c97fb5a289d3160ed04a439fdbad\", element=\"6311EB28472CEC70CE25439339079FE2_element_74\")>,\n",
       " <selenium.webdriver.remote.webelement.WebElement (session=\"6665c97fb5a289d3160ed04a439fdbad\", element=\"6311EB28472CEC70CE25439339079FE2_element_75\")>,\n",
       " <selenium.webdriver.remote.webelement.WebElement (session=\"6665c97fb5a289d3160ed04a439fdbad\", element=\"6311EB28472CEC70CE25439339079FE2_element_76\")>,\n",
       " <selenium.webdriver.remote.webelement.WebElement (session=\"6665c97fb5a289d3160ed04a439fdbad\", element=\"6311EB28472CEC70CE25439339079FE2_element_77\")>,\n",
       " <selenium.webdriver.remote.webelement.WebElement (session=\"6665c97fb5a289d3160ed04a439fdbad\", element=\"6311EB28472CEC70CE25439339079FE2_element_78\")>,\n",
       " <selenium.webdriver.remote.webelement.WebElement (session=\"6665c97fb5a289d3160ed04a439fdbad\", element=\"6311EB28472CEC70CE25439339079FE2_element_79\")>,\n",
       " <selenium.webdriver.remote.webelement.WebElement (session=\"6665c97fb5a289d3160ed04a439fdbad\", element=\"6311EB28472CEC70CE25439339079FE2_element_80\")>,\n",
       " <selenium.webdriver.remote.webelement.WebElement (session=\"6665c97fb5a289d3160ed04a439fdbad\", element=\"6311EB28472CEC70CE25439339079FE2_element_81\")>,\n",
       " <selenium.webdriver.remote.webelement.WebElement (session=\"6665c97fb5a289d3160ed04a439fdbad\", element=\"6311EB28472CEC70CE25439339079FE2_element_82\")>,\n",
       " <selenium.webdriver.remote.webelement.WebElement (session=\"6665c97fb5a289d3160ed04a439fdbad\", element=\"6311EB28472CEC70CE25439339079FE2_element_83\")>]"
      ]
     },
     "execution_count": 16,
     "metadata": {},
     "output_type": "execute_result"
    }
   ],
   "source": [
    "presidencial_options"
   ]
  },
  {
   "cell_type": "code",
   "execution_count": 39,
   "id": "79fd8793",
   "metadata": {},
   "outputs": [
    {
     "ename": "NoSuchWindowException",
     "evalue": "Message: no such window: target window already closed\nfrom unknown error: web view not found\n  (Session info: chrome=120.0.6099.217)\nStacktrace:\n\tGetHandleVerifier [0x00007FF69A972142+3514994]\n\t(No symbol) [0x00007FF69A590CE2]\n\t(No symbol) [0x00007FF69A4376AA]\n\t(No symbol) [0x00007FF69A410AFD]\n\t(No symbol) [0x00007FF69A4ACB1B]\n\t(No symbol) [0x00007FF69A4C218F]\n\t(No symbol) [0x00007FF69A4A5D93]\n\t(No symbol) [0x00007FF69A474BDC]\n\t(No symbol) [0x00007FF69A475C64]\n\tGetHandleVerifier [0x00007FF69A99E16B+3695259]\n\tGetHandleVerifier [0x00007FF69A9F6737+4057191]\n\tGetHandleVerifier [0x00007FF69A9EE4E3+4023827]\n\tGetHandleVerifier [0x00007FF69A6C04F9+689705]\n\t(No symbol) [0x00007FF69A59C048]\n\t(No symbol) [0x00007FF69A598044]\n\t(No symbol) [0x00007FF69A5981C9]\n\t(No symbol) [0x00007FF69A5888C4]\n\tBaseThreadInitThunk [0x00007FFA7F94257D+29]\n\tRtlUserThreadStart [0x00007FFA806CAA58+40]\n",
     "output_type": "error",
     "traceback": [
      "\u001b[1;31m---------------------------------------------------------------------------\u001b[0m",
      "\u001b[1;31mNoSuchWindowException\u001b[0m                     Traceback (most recent call last)",
      "Cell \u001b[1;32mIn[39], line 2\u001b[0m\n\u001b[0;32m      1\u001b[0m \u001b[38;5;66;03m#we create a dictionary\u001b[39;00m\n\u001b[1;32m----> 2\u001b[0m dict_pres_options \u001b[38;5;241m=\u001b[39m { i\u001b[38;5;241m.\u001b[39mtext : i \u001b[38;5;28;01mfor\u001b[39;00m i \u001b[38;5;129;01min\u001b[39;00m presidencial_options }\n\u001b[0;32m      3\u001b[0m \u001b[38;5;28mtype\u001b[39m(dict_pres_options)\n",
      "Cell \u001b[1;32mIn[39], line 2\u001b[0m, in \u001b[0;36m<dictcomp>\u001b[1;34m(.0)\u001b[0m\n\u001b[0;32m      1\u001b[0m \u001b[38;5;66;03m#we create a dictionary\u001b[39;00m\n\u001b[1;32m----> 2\u001b[0m dict_pres_options \u001b[38;5;241m=\u001b[39m { i\u001b[38;5;241m.\u001b[39mtext : i \u001b[38;5;28;01mfor\u001b[39;00m i \u001b[38;5;129;01min\u001b[39;00m presidencial_options }\n\u001b[0;32m      3\u001b[0m \u001b[38;5;28mtype\u001b[39m(dict_pres_options)\n",
      "File \u001b[1;32m~\\anaconda3\\Lib\\site-packages\\selenium\\webdriver\\remote\\webelement.py:90\u001b[0m, in \u001b[0;36mWebElement.text\u001b[1;34m(self)\u001b[0m\n\u001b[0;32m     87\u001b[0m \u001b[38;5;129m@property\u001b[39m\n\u001b[0;32m     88\u001b[0m \u001b[38;5;28;01mdef\u001b[39;00m \u001b[38;5;21mtext\u001b[39m(\u001b[38;5;28mself\u001b[39m) \u001b[38;5;241m-\u001b[39m\u001b[38;5;241m>\u001b[39m \u001b[38;5;28mstr\u001b[39m:\n\u001b[0;32m     89\u001b[0m \u001b[38;5;250m    \u001b[39m\u001b[38;5;124;03m\"\"\"The text of the element.\"\"\"\u001b[39;00m\n\u001b[1;32m---> 90\u001b[0m     \u001b[38;5;28;01mreturn\u001b[39;00m \u001b[38;5;28mself\u001b[39m\u001b[38;5;241m.\u001b[39m_execute(Command\u001b[38;5;241m.\u001b[39mGET_ELEMENT_TEXT)[\u001b[38;5;124m\"\u001b[39m\u001b[38;5;124mvalue\u001b[39m\u001b[38;5;124m\"\u001b[39m]\n",
      "File \u001b[1;32m~\\anaconda3\\Lib\\site-packages\\selenium\\webdriver\\remote\\webelement.py:395\u001b[0m, in \u001b[0;36mWebElement._execute\u001b[1;34m(self, command, params)\u001b[0m\n\u001b[0;32m    393\u001b[0m     params \u001b[38;5;241m=\u001b[39m {}\n\u001b[0;32m    394\u001b[0m params[\u001b[38;5;124m\"\u001b[39m\u001b[38;5;124mid\u001b[39m\u001b[38;5;124m\"\u001b[39m] \u001b[38;5;241m=\u001b[39m \u001b[38;5;28mself\u001b[39m\u001b[38;5;241m.\u001b[39m_id\n\u001b[1;32m--> 395\u001b[0m \u001b[38;5;28;01mreturn\u001b[39;00m \u001b[38;5;28mself\u001b[39m\u001b[38;5;241m.\u001b[39m_parent\u001b[38;5;241m.\u001b[39mexecute(command, params)\n",
      "File \u001b[1;32m~\\anaconda3\\Lib\\site-packages\\selenium\\webdriver\\remote\\webdriver.py:348\u001b[0m, in \u001b[0;36mWebDriver.execute\u001b[1;34m(self, driver_command, params)\u001b[0m\n\u001b[0;32m    346\u001b[0m response \u001b[38;5;241m=\u001b[39m \u001b[38;5;28mself\u001b[39m\u001b[38;5;241m.\u001b[39mcommand_executor\u001b[38;5;241m.\u001b[39mexecute(driver_command, params)\n\u001b[0;32m    347\u001b[0m \u001b[38;5;28;01mif\u001b[39;00m response:\n\u001b[1;32m--> 348\u001b[0m     \u001b[38;5;28mself\u001b[39m\u001b[38;5;241m.\u001b[39merror_handler\u001b[38;5;241m.\u001b[39mcheck_response(response)\n\u001b[0;32m    349\u001b[0m     response[\u001b[38;5;124m\"\u001b[39m\u001b[38;5;124mvalue\u001b[39m\u001b[38;5;124m\"\u001b[39m] \u001b[38;5;241m=\u001b[39m \u001b[38;5;28mself\u001b[39m\u001b[38;5;241m.\u001b[39m_unwrap_value(response\u001b[38;5;241m.\u001b[39mget(\u001b[38;5;124m\"\u001b[39m\u001b[38;5;124mvalue\u001b[39m\u001b[38;5;124m\"\u001b[39m, \u001b[38;5;28;01mNone\u001b[39;00m))\n\u001b[0;32m    350\u001b[0m     \u001b[38;5;28;01mreturn\u001b[39;00m response\n",
      "File \u001b[1;32m~\\anaconda3\\Lib\\site-packages\\selenium\\webdriver\\remote\\errorhandler.py:229\u001b[0m, in \u001b[0;36mErrorHandler.check_response\u001b[1;34m(self, response)\u001b[0m\n\u001b[0;32m    227\u001b[0m         alert_text \u001b[38;5;241m=\u001b[39m value[\u001b[38;5;124m\"\u001b[39m\u001b[38;5;124malert\u001b[39m\u001b[38;5;124m\"\u001b[39m]\u001b[38;5;241m.\u001b[39mget(\u001b[38;5;124m\"\u001b[39m\u001b[38;5;124mtext\u001b[39m\u001b[38;5;124m\"\u001b[39m)\n\u001b[0;32m    228\u001b[0m     \u001b[38;5;28;01mraise\u001b[39;00m exception_class(message, screen, stacktrace, alert_text)  \u001b[38;5;66;03m# type: ignore[call-arg]  # mypy is not smart enough here\u001b[39;00m\n\u001b[1;32m--> 229\u001b[0m \u001b[38;5;28;01mraise\u001b[39;00m exception_class(message, screen, stacktrace)\n",
      "\u001b[1;31mNoSuchWindowException\u001b[0m: Message: no such window: target window already closed\nfrom unknown error: web view not found\n  (Session info: chrome=120.0.6099.217)\nStacktrace:\n\tGetHandleVerifier [0x00007FF69A972142+3514994]\n\t(No symbol) [0x00007FF69A590CE2]\n\t(No symbol) [0x00007FF69A4376AA]\n\t(No symbol) [0x00007FF69A410AFD]\n\t(No symbol) [0x00007FF69A4ACB1B]\n\t(No symbol) [0x00007FF69A4C218F]\n\t(No symbol) [0x00007FF69A4A5D93]\n\t(No symbol) [0x00007FF69A474BDC]\n\t(No symbol) [0x00007FF69A475C64]\n\tGetHandleVerifier [0x00007FF69A99E16B+3695259]\n\tGetHandleVerifier [0x00007FF69A9F6737+4057191]\n\tGetHandleVerifier [0x00007FF69A9EE4E3+4023827]\n\tGetHandleVerifier [0x00007FF69A6C04F9+689705]\n\t(No symbol) [0x00007FF69A59C048]\n\t(No symbol) [0x00007FF69A598044]\n\t(No symbol) [0x00007FF69A5981C9]\n\t(No symbol) [0x00007FF69A5888C4]\n\tBaseThreadInitThunk [0x00007FFA7F94257D+29]\n\tRtlUserThreadStart [0x00007FFA806CAA58+40]\n"
     ]
    }
   ],
   "source": [
    "#we create a dictionary\n",
    "dict_pres_options = { i.text : i for i in presidencial_options }\n",
    "type(dict_pres_options)"
   ]
  },
  {
   "cell_type": "code",
   "execution_count": 32,
   "id": "4dc5cb9d",
   "metadata": {},
   "outputs": [
    {
     "data": {
      "text/plain": [
       "dict_keys(['PRESIDENCIAL 2021 - 2DA VUELTA', 'PRESIDENCIAL 2021', 'PRESIDENCIAL 2016 - 2DA VUELTA', 'PRESIDENCIAL 2016', 'PRESIDENCIAL 2011 - 2DA VUELTA', 'PRESIDENCIAL 2011', 'PRESIDENCIAL 2006 - 2DA VUELTA', 'PRESIDENCIAL 2006', 'PRESIDENCIAL 2001 - 2DA VUELTA', 'PRESIDENCIAL 2001', 'PRESIDENCIAL 2000 - 2DA VUELTA', 'PRESIDENCIAL 2000', 'PRESIDENCIAL 1995', 'PRESIDENCIAL 1990 - 2DA VUELTA', 'PRESIDENCIAL 1990', 'PRESIDENCIAL 1985', 'PRESIDENCIAL 1980', 'PRESIDENCIAL 1963', 'PRESIDENCIAL 1962', 'PRESIDENCIAL 1956', 'PRESIDENCIAL 1950', 'PRESIDENCIAL 1945', 'PRESIDENCIAL 1939', 'PRESIDENCIAL 1936', 'PRESIDENCIAL 1931'])"
      ]
     },
     "execution_count": 32,
     "metadata": {},
     "output_type": "execute_result"
    }
   ],
   "source": [
    "# There are three options\n",
    "dict_pres_options.keys()"
   ]
  },
  {
   "cell_type": "code",
   "execution_count": 34,
   "id": "d4838592",
   "metadata": {},
   "outputs": [
    {
     "data": {
      "text/plain": [
       "['PRESIDENCIAL 2021 - 2DA VUELTA',\n",
       " 'PRESIDENCIAL 2021',\n",
       " 'PRESIDENCIAL 2016 - 2DA VUELTA',\n",
       " 'PRESIDENCIAL 2016',\n",
       " 'PRESIDENCIAL 2011 - 2DA VUELTA',\n",
       " 'PRESIDENCIAL 2011',\n",
       " 'PRESIDENCIAL 2006 - 2DA VUELTA',\n",
       " 'PRESIDENCIAL 2006',\n",
       " 'PRESIDENCIAL 2001 - 2DA VUELTA',\n",
       " 'PRESIDENCIAL 2001',\n",
       " 'PRESIDENCIAL 2000 - 2DA VUELTA',\n",
       " 'PRESIDENCIAL 2000',\n",
       " 'PRESIDENCIAL 1995',\n",
       " 'PRESIDENCIAL 1990 - 2DA VUELTA',\n",
       " 'PRESIDENCIAL 1990',\n",
       " 'PRESIDENCIAL 1985',\n",
       " 'PRESIDENCIAL 1980',\n",
       " 'PRESIDENCIAL 1963',\n",
       " 'PRESIDENCIAL 1962',\n",
       " 'PRESIDENCIAL 1956',\n",
       " 'PRESIDENCIAL 1950',\n",
       " 'PRESIDENCIAL 1945',\n",
       " 'PRESIDENCIAL 1939',\n",
       " 'PRESIDENCIAL 1936',\n",
       " 'PRESIDENCIAL 1931']"
      ]
     },
     "execution_count": 34,
     "metadata": {},
     "output_type": "execute_result"
    }
   ],
   "source": [
    "#Creamos una lista con los nombres de las elecciones\n",
    "elecciones = list(dict_pres_options.keys())\n",
    "elecciones"
   ]
  },
  {
   "cell_type": "code",
   "execution_count": null,
   "id": "777c1986",
   "metadata": {},
   "outputs": [],
   "source": [
    "#falta hacer un loop para que extraiga la tabla para cada eleccion \n",
    "#supongo que se podria usar algo así para hacer click en cada uno\n",
    "dict_pres_options[elecciones].click()"
   ]
  }
 ],
 "metadata": {
  "kernelspec": {
   "display_name": "Python 3 (ipykernel)",
   "language": "python",
   "name": "python3"
  },
  "language_info": {
   "codemirror_mode": {
    "name": "ipython",
    "version": 3
   },
   "file_extension": ".py",
   "mimetype": "text/x-python",
   "name": "python",
   "nbconvert_exporter": "python",
   "pygments_lexer": "ipython3",
   "version": "3.11.5"
  }
 },
 "nbformat": 4,
 "nbformat_minor": 5
}
