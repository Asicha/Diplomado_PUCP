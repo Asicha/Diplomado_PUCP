{
 "cells": [
  {
   "cell_type": "markdown",
   "id": "34ee5d5a",
   "metadata": {},
   "source": [
    "# 1. Librerías"
   ]
  },
  {
   "cell_type": "code",
   "execution_count": 2,
   "id": "31d3597f",
   "metadata": {},
   "outputs": [
    {
     "name": "stdout",
     "output_type": "stream",
     "text": [
      "Requirement already satisfied: selenium in c:\\users\\carme\\anaconda3\\lib\\site-packages (4.16.0)\n",
      "Requirement already satisfied: urllib3[socks]<3,>=1.26 in c:\\users\\carme\\anaconda3\\lib\\site-packages (from selenium) (1.26.16)\n",
      "Requirement already satisfied: trio~=0.17 in c:\\users\\carme\\anaconda3\\lib\\site-packages (from selenium) (0.24.0)\n",
      "Requirement already satisfied: trio-websocket~=0.9 in c:\\users\\carme\\anaconda3\\lib\\site-packages (from selenium) (0.11.1)\n",
      "Requirement already satisfied: certifi>=2021.10.8 in c:\\users\\carme\\anaconda3\\lib\\site-packages (from selenium) (2023.7.22)\n",
      "Requirement already satisfied: attrs>=20.1.0 in c:\\users\\carme\\anaconda3\\lib\\site-packages (from trio~=0.17->selenium) (22.1.0)\n",
      "Requirement already satisfied: sortedcontainers in c:\\users\\carme\\anaconda3\\lib\\site-packages (from trio~=0.17->selenium) (2.4.0)\n",
      "Requirement already satisfied: idna in c:\\users\\carme\\anaconda3\\lib\\site-packages (from trio~=0.17->selenium) (3.4)\n",
      "Requirement already satisfied: outcome in c:\\users\\carme\\anaconda3\\lib\\site-packages (from trio~=0.17->selenium) (1.3.0.post0)\n",
      "Requirement already satisfied: sniffio>=1.3.0 in c:\\users\\carme\\anaconda3\\lib\\site-packages (from trio~=0.17->selenium) (1.3.0)\n",
      "Requirement already satisfied: cffi>=1.14 in c:\\users\\carme\\anaconda3\\lib\\site-packages (from trio~=0.17->selenium) (1.15.1)\n",
      "Requirement already satisfied: wsproto>=0.14 in c:\\users\\carme\\anaconda3\\lib\\site-packages (from trio-websocket~=0.9->selenium) (1.2.0)\n",
      "Requirement already satisfied: PySocks!=1.5.7,<2.0,>=1.5.6 in c:\\users\\carme\\anaconda3\\lib\\site-packages (from urllib3[socks]<3,>=1.26->selenium) (1.7.1)\n",
      "Requirement already satisfied: pycparser in c:\\users\\carme\\anaconda3\\lib\\site-packages (from cffi>=1.14->trio~=0.17->selenium) (2.21)\n",
      "Requirement already satisfied: h11<1,>=0.9.0 in c:\\users\\carme\\anaconda3\\lib\\site-packages (from wsproto>=0.14->trio-websocket~=0.9->selenium) (0.14.0)\n"
     ]
    }
   ],
   "source": [
    "!pip install selenium\n",
    "from selenium import webdriver\n",
    "from selenium.webdriver.chrome.service import Service\n",
    "from selenium.webdriver.common.by import By\n",
    "from selenium.webdriver.support.ui import Select\n",
    "from selenium.webdriver.common.action_chains import ActionChains\n",
    "from selenium.webdriver.common.keys import Keys\n",
    "from selenium.webdriver.support.ui import Select\n",
    "from selenium.webdriver.support.ui import WebDriverWait\n",
    "from selenium.webdriver.support import expected_conditions as EC\n",
    "import time\n",
    "\n",
    "import pandas as pd"
   ]
  },
  {
   "cell_type": "markdown",
   "id": "b5d70ba7",
   "metadata": {},
   "source": [
    "# 2. Configurar el driver"
   ]
  },
  {
   "cell_type": "code",
   "execution_count": 3,
   "id": "1ebdcdb2",
   "metadata": {},
   "outputs": [
    {
     "name": "stdout",
     "output_type": "stream",
     "text": [
      "Requirement already satisfied: selenium in c:\\users\\carme\\anaconda3\\lib\\site-packages (4.16.0)\n",
      "Requirement already satisfied: urllib3[socks]<3,>=1.26 in c:\\users\\carme\\anaconda3\\lib\\site-packages (from selenium) (1.26.16)\n",
      "Requirement already satisfied: trio~=0.17 in c:\\users\\carme\\anaconda3\\lib\\site-packages (from selenium) (0.24.0)\n",
      "Requirement already satisfied: trio-websocket~=0.9 in c:\\users\\carme\\anaconda3\\lib\\site-packages (from selenium) (0.11.1)\n",
      "Requirement already satisfied: certifi>=2021.10.8 in c:\\users\\carme\\anaconda3\\lib\\site-packages (from selenium) (2023.7.22)\n",
      "Requirement already satisfied: attrs>=20.1.0 in c:\\users\\carme\\anaconda3\\lib\\site-packages (from trio~=0.17->selenium) (22.1.0)\n",
      "Requirement already satisfied: sortedcontainers in c:\\users\\carme\\anaconda3\\lib\\site-packages (from trio~=0.17->selenium) (2.4.0)\n",
      "Requirement already satisfied: idna in c:\\users\\carme\\anaconda3\\lib\\site-packages (from trio~=0.17->selenium) (3.4)\n",
      "Requirement already satisfied: outcome in c:\\users\\carme\\anaconda3\\lib\\site-packages (from trio~=0.17->selenium) (1.3.0.post0)\n",
      "Requirement already satisfied: sniffio>=1.3.0 in c:\\users\\carme\\anaconda3\\lib\\site-packages (from trio~=0.17->selenium) (1.3.0)\n",
      "Requirement already satisfied: cffi>=1.14 in c:\\users\\carme\\anaconda3\\lib\\site-packages (from trio~=0.17->selenium) (1.15.1)\n",
      "Requirement already satisfied: wsproto>=0.14 in c:\\users\\carme\\anaconda3\\lib\\site-packages (from trio-websocket~=0.9->selenium) (1.2.0)\n",
      "Requirement already satisfied: PySocks!=1.5.7,<2.0,>=1.5.6 in c:\\users\\carme\\anaconda3\\lib\\site-packages (from urllib3[socks]<3,>=1.26->selenium) (1.7.1)\n",
      "Requirement already satisfied: pycparser in c:\\users\\carme\\anaconda3\\lib\\site-packages (from cffi>=1.14->trio~=0.17->selenium) (2.21)\n",
      "Requirement already satisfied: h11<1,>=0.9.0 in c:\\users\\carme\\anaconda3\\lib\\site-packages (from wsproto>=0.14->trio-websocket~=0.9->selenium) (0.14.0)\n",
      "Requirement already satisfied: webdriver-manager in c:\\users\\carme\\anaconda3\\lib\\site-packages (4.0.1)\n",
      "Requirement already satisfied: requests in c:\\users\\carme\\anaconda3\\lib\\site-packages (from webdriver-manager) (2.31.0)\n",
      "Requirement already satisfied: python-dotenv in c:\\users\\carme\\anaconda3\\lib\\site-packages (from webdriver-manager) (0.21.0)\n",
      "Requirement already satisfied: packaging in c:\\users\\carme\\anaconda3\\lib\\site-packages (from webdriver-manager) (23.1)\n",
      "Requirement already satisfied: charset-normalizer<4,>=2 in c:\\users\\carme\\anaconda3\\lib\\site-packages (from requests->webdriver-manager) (2.0.4)\n",
      "Requirement already satisfied: idna<4,>=2.5 in c:\\users\\carme\\anaconda3\\lib\\site-packages (from requests->webdriver-manager) (3.4)\n",
      "Requirement already satisfied: urllib3<3,>=1.21.1 in c:\\users\\carme\\anaconda3\\lib\\site-packages (from requests->webdriver-manager) (1.26.16)\n",
      "Requirement already satisfied: certifi>=2017.4.17 in c:\\users\\carme\\anaconda3\\lib\\site-packages (from requests->webdriver-manager) (2023.7.22)\n"
     ]
    }
   ],
   "source": [
    "from webdriver_manager.chrome import ChromeDriverManager\n",
    "import re\n",
    "import time \n",
    "import random\n",
    "from selenium.webdriver.common.by import By\n",
    "import pandas as pd # for table import\n",
    "from selenium import webdriver\n",
    "from selenium.webdriver.chrome.service import Service"
   ]
  },
  {
   "cell_type": "code",
   "execution_count": null,
   "id": "2f0e8529",
   "metadata": {},
   "outputs": [],
   "source": [
    "service = Service(executable_path=\"chromedriver-win64/chromedriver\")\n",
    "options = webdriver.ChromeOptions()\n",
    "\n",
    "#driver = webdriver.Chrome(ChromeDriverManager().install())\n",
    "driver = webdriver.Chrome(service = service,  options = options)\n",
    "\n",
    "#Access to the page\n",
    "#driver.maximize_window()\n",
    "url = 'https://resultadoshistorico.onpe.gob.pe/EG2021/'\n",
    "driver.get(url)\n"
   ]
  },
  {
   "cell_type": "markdown",
   "id": "ca7d7b3c",
   "metadata": {},
   "source": [
    "# 3. Navegar con el driver\n"
   ]
  },
  {
   "cell_type": "code",
   "execution_count": null,
   "id": "0c73049e",
   "metadata": {},
   "outputs": [],
   "source": [
    "# Aquí intento que el driver automáticamente seleccione las opciones hasta la sección deseada\n",
    "\n",
    "service = Service(executable_path=\"chromedriver-win64/chromedriver\")\n",
    "options = webdriver.ChromeOptions()\n",
    "driver = webdriver.Chrome(service = service,  options = options)\n",
    "\n",
    "#Access to the page\n",
    "driver.maximize_window()\n",
    "url = 'https://infogob.jne.gob.pe/Eleccion'\n",
    "driver.get(url)\n",
    "\n",
    "# Set up defaul wait time\n",
    "default = 3\n",
    "\n",
    "# Select items\n",
    "box = '//*[@id=\"section\"]/div[2]/div[2]/div[2]/div[1]/div'\n",
    "presidential_process_box = '//*[@id=\"section\"]/div[2]/div[2]/div[2]/div[1]/div/div[2]/div[2]'\n",
    "eleccion_box= '/html/body/div[1]/section/div[2]/div[2]/div[2]/div[2]'\n",
    "ver_datos_box= '//*[@id=\"btnVerDatos\"]/span'\n",
    "candidatos_resultados= '//*[@id=\"section\"]/div[2]/div[3]/div[1]/ul/li[2]/a'\n",
    "\n",
    "### Click on Tipo de proceso box\n",
    "driver.find_element(By.XPATH, box).click()\n",
    "time.sleep(default)\n",
    "driver.find_element(By.XPATH, presidential_process_box).click()\n",
    "time.sleep(default)\n",
    "\n",
    "# Click on the Elección box\n",
    "driver.find_element(By.XPATH, eleccion_box).click()\n",
    "time.sleep(default)\n",
    "\n",
    "driver.find_element(By.XPATH, '//*[@id=\"section\"]/div[2]/div[2]/div[2]/div[2]/div/div[2]/div[2]').click() \n",
    "# Acá tendrías que hacer el for loop para cada opción\n",
    "time.sleep(default)\n",
    "\n",
    "driver.find_element(By.XPATH, ver_datos_box).click()\n",
    "time.sleep(default)\n",
    "                    \n",
    "# Now we are in the second window, and we want Candidatos y resultados\n",
    "driver.find_element(By.XPATH, candidatos_resultados).click()   \n"
   ]
  },
  {
   "cell_type": "markdown",
   "id": "79171b07",
   "metadata": {},
   "source": [
    "# 4. Extraer la data"
   ]
  },
  {
   "cell_type": "code",
   "execution_count": null,
   "id": "bf3d52cf",
   "metadata": {},
   "outputs": [],
   "source": [
    "# He intentado avanzar un poco con la For loop, pero aún falta\n",
    "\n",
    "# Create our dataframe\n",
    "data =  pd.DataFrame(columns=['Elecciones', 'ORGANIZACIÓN POLÍTICA', 'TOTAL VOTOS'])\n",
    "\n",
    "## Get specific process data in using loop\n",
    "\n",
    "for n in range(25):\n",
    "    n = n + 1\n",
    "    # We repeat the previous steps to click the first box\n",
    "    box = '//*[@id=\"section\"]/div[2]/div[2]/div[2]/div[1]/div'\n",
    "    presidential_process_box = '//*[@id=\"section\"]/div[2]/div[2]/div[2]/div[1]/div/div[2]/div[2]'\n",
    "    driver.find_element(By.XPATH, box).click()\n",
    "    time.sleep(default)\n",
    "    driver.find_element(By.XPATH, presidential_process_box).click()\n",
    "    # Here we select the second box\n",
    "    driver.find_element(By.XPATH, '//*[@id=\"section\"]/div[2]/div[2]/div[2]/div[2]/div').click()\n",
    "    # Here we modify the XPATH so that every time the last number goes by 1\n",
    "    boxes = '//*[@id=\"section\"]/div[2]/div[2]/div[2]/div[2]/div/div[2]/div[' + str(n) + ']'\n",
    "    driver.find_element(By.XPATH, boxes).click()\n",
    "    time.sleep(default)\n",
    "\n",
    "    \n",
    "#boxes = \"\"\n",
    "#n = 1\n",
    "# We start with 1 and not 0 because the first option is the [Seleccione] option\n",
    "    \n",
    "\n",
    "#//*[@id=\"section\"]/div[2]/div[2]/div[2]/div[2]/div/div[2]/div[2]\n",
    "#//*[@id=\"section\"]/div[2]/div[2]/div[2]/div[2]/div/div[2]/div[3]\n",
    "#//*[@id=\"section\"]/div[2]/div[2]/div[2]/div[2]/div/div[2]/div[4]\n",
    "\n",
    "\n",
    "#//*[@id=\"section\"]/div[2]/div[2]/div[2]/div[2]/div/div[2]/div[26]"
   ]
  },
  {
   "cell_type": "markdown",
   "id": "df1a9d07",
   "metadata": {},
   "source": [
    "# 5. Convertir tabla en excel y exportar archivo excel"
   ]
  },
  {
   "cell_type": "code",
   "execution_count": null,
   "id": "ec350f21",
   "metadata": {},
   "outputs": [],
   "source": []
  }
 ],
 "metadata": {
  "kernelspec": {
   "display_name": "Python 3 (ipykernel)",
   "language": "python",
   "name": "python3"
  },
  "language_info": {
   "codemirror_mode": {
    "name": "ipython",
    "version": 3
   },
   "file_extension": ".py",
   "mimetype": "text/x-python",
   "name": "python",
   "nbconvert_exporter": "python",
   "pygments_lexer": "ipython3",
   "version": "3.9.12"
  }
 },
 "nbformat": 4,
 "nbformat_minor": 5
}
