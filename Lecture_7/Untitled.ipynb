{
 "cells": [
  {
   "cell_type": "code",
   "execution_count": 1,
   "id": "b97a7913",
   "metadata": {},
   "outputs": [
    {
     "name": "stdout",
     "output_type": "stream",
     "text": [
      "Requirement already satisfied: selenium in /Users/claudiaplasenciacustodio/anaconda3/lib/python3.11/site-packages (4.16.0)\n",
      "Requirement already satisfied: urllib3[socks]<3,>=1.26 in /Users/claudiaplasenciacustodio/anaconda3/lib/python3.11/site-packages (from selenium) (1.26.16)\n",
      "Requirement already satisfied: trio~=0.17 in /Users/claudiaplasenciacustodio/anaconda3/lib/python3.11/site-packages (from selenium) (0.24.0)\n",
      "Requirement already satisfied: trio-websocket~=0.9 in /Users/claudiaplasenciacustodio/anaconda3/lib/python3.11/site-packages (from selenium) (0.11.1)\n",
      "Requirement already satisfied: certifi>=2021.10.8 in /Users/claudiaplasenciacustodio/anaconda3/lib/python3.11/site-packages (from selenium) (2023.11.17)\n",
      "Requirement already satisfied: attrs>=20.1.0 in /Users/claudiaplasenciacustodio/anaconda3/lib/python3.11/site-packages (from trio~=0.17->selenium) (22.1.0)\n",
      "Requirement already satisfied: sortedcontainers in /Users/claudiaplasenciacustodio/anaconda3/lib/python3.11/site-packages (from trio~=0.17->selenium) (2.4.0)\n",
      "Requirement already satisfied: idna in /Users/claudiaplasenciacustodio/anaconda3/lib/python3.11/site-packages (from trio~=0.17->selenium) (3.4)\n",
      "Requirement already satisfied: outcome in /Users/claudiaplasenciacustodio/anaconda3/lib/python3.11/site-packages (from trio~=0.17->selenium) (1.3.0.post0)\n",
      "Requirement already satisfied: sniffio>=1.3.0 in /Users/claudiaplasenciacustodio/anaconda3/lib/python3.11/site-packages (from trio~=0.17->selenium) (1.3.0)\n",
      "Requirement already satisfied: wsproto>=0.14 in /Users/claudiaplasenciacustodio/anaconda3/lib/python3.11/site-packages (from trio-websocket~=0.9->selenium) (1.2.0)\n",
      "Requirement already satisfied: PySocks!=1.5.7,<2.0,>=1.5.6 in /Users/claudiaplasenciacustodio/anaconda3/lib/python3.11/site-packages (from urllib3[socks]<3,>=1.26->selenium) (1.7.1)\n",
      "Requirement already satisfied: h11<1,>=0.9.0 in /Users/claudiaplasenciacustodio/anaconda3/lib/python3.11/site-packages (from wsproto>=0.14->trio-websocket~=0.9->selenium) (0.14.0)\n",
      "Requirement already satisfied: webdriver-manager in /Users/claudiaplasenciacustodio/anaconda3/lib/python3.11/site-packages (4.0.1)\n",
      "Requirement already satisfied: requests in /Users/claudiaplasenciacustodio/anaconda3/lib/python3.11/site-packages (from webdriver-manager) (2.31.0)\n",
      "Requirement already satisfied: python-dotenv in /Users/claudiaplasenciacustodio/anaconda3/lib/python3.11/site-packages (from webdriver-manager) (0.21.0)\n",
      "Requirement already satisfied: packaging in /Users/claudiaplasenciacustodio/anaconda3/lib/python3.11/site-packages (from webdriver-manager) (23.1)\n",
      "Requirement already satisfied: charset-normalizer<4,>=2 in /Users/claudiaplasenciacustodio/anaconda3/lib/python3.11/site-packages (from requests->webdriver-manager) (2.0.4)\n",
      "Requirement already satisfied: idna<4,>=2.5 in /Users/claudiaplasenciacustodio/anaconda3/lib/python3.11/site-packages (from requests->webdriver-manager) (3.4)\n",
      "Requirement already satisfied: urllib3<3,>=1.21.1 in /Users/claudiaplasenciacustodio/anaconda3/lib/python3.11/site-packages (from requests->webdriver-manager) (1.26.16)\n",
      "Requirement already satisfied: certifi>=2017.4.17 in /Users/claudiaplasenciacustodio/anaconda3/lib/python3.11/site-packages (from requests->webdriver-manager) (2023.11.17)\n"
     ]
    }
   ],
   "source": [
    "!pip install selenium\n",
    "!pip install webdriver-manager"
   ]
  },
  {
   "cell_type": "code",
   "execution_count": 2,
   "id": "2436cc33",
   "metadata": {},
   "outputs": [
    {
     "name": "stdout",
     "output_type": "stream",
     "text": [
      "Requirement already satisfied: html5lib in /Users/claudiaplasenciacustodio/anaconda3/lib/python3.11/site-packages (1.1)\r\n",
      "Requirement already satisfied: six>=1.9 in /Users/claudiaplasenciacustodio/anaconda3/lib/python3.11/site-packages (from html5lib) (1.16.0)\r\n",
      "Requirement already satisfied: webencodings in /Users/claudiaplasenciacustodio/anaconda3/lib/python3.11/site-packages (from html5lib) (0.5.1)\r\n"
     ]
    }
   ],
   "source": [
    "!pip install html5lib"
   ]
  },
  {
   "cell_type": "code",
   "execution_count": 3,
   "id": "0a6e3891",
   "metadata": {},
   "outputs": [],
   "source": [
    "import html5lib"
   ]
  },
  {
   "cell_type": "code",
   "execution_count": 4,
   "id": "1c9a2e52",
   "metadata": {},
   "outputs": [],
   "source": [
    "# this library is to manipulate browser\n",
    "from selenium import webdriver\n",
    "\n",
    "# it allows you to work with differen versions of drivers\n",
    "# We call ChromeDriver\n",
    "from webdriver_manager.chrome import ChromeDriverManager\n",
    "import re\n",
    "import time"
   ]
  },
  {
   "cell_type": "code",
   "execution_count": 5,
   "id": "c5e47659",
   "metadata": {},
   "outputs": [
    {
     "data": {
      "text/html": [
       "\n",
       "<style>\n",
       "    div#notebook-container    { width: 95%; }\n",
       "    div#menubar-container     { width: 65%; }\n",
       "    div#maintoolbar-container { width: 99%; }a\n",
       "</style>\n"
      ],
      "text/plain": [
       "<IPython.core.display.HTML object>"
      ]
     },
     "metadata": {},
     "output_type": "display_data"
    }
   ],
   "source": [
    "from IPython.display import display, HTML\n",
    "\n",
    "display(HTML(data=\"\"\"\n",
    "<style>\n",
    "    div#notebook-container    { width: 95%; }\n",
    "    div#menubar-container     { width: 65%; }\n",
    "    div#maintoolbar-container { width: 99%; }a\n",
    "</style>\n",
    "\"\"\"))"
   ]
  },
  {
   "cell_type": "code",
   "execution_count": 6,
   "id": "a9cd1475",
   "metadata": {},
   "outputs": [],
   "source": [
    "from selenium import webdriver\n",
    "from selenium.webdriver.common.keys import Keys\n",
    "from selenium.common.exceptions import NoSuchElementException\n",
    "from selenium.webdriver import ActionChains\n",
    "import pandas as pd\n",
    "import numpy as np\n",
    "import os\n",
    "import time\n",
    "import re\n",
    "import unidecode\n",
    "import time \n",
    "from selenium.webdriver.support.ui import Select\n",
    "from webdriver_manager.chrome import ChromeDriverManager\n",
    "from selenium.webdriver.common.by import By"
   ]
  },
  {
   "cell_type": "code",
   "execution_count": 183,
   "id": "86884956",
   "metadata": {},
   "outputs": [
    {
     "data": {
      "text/plain": [
       "'/Users/claudiaplasenciacustodio/Documentos/GitHub/Diplomado_PUCP/Lecture_7'"
      ]
     },
     "execution_count": 183,
     "metadata": {},
     "output_type": "execute_result"
    }
   ],
   "source": [
    "pwd"
   ]
  },
  {
   "cell_type": "code",
   "execution_count": 194,
   "id": "746fd70f",
   "metadata": {},
   "outputs": [],
   "source": [
    "from selenium import webdriver\n",
    "from selenium.webdriver.chrome.service import Service\n",
    "\n",
    "#Versión actualizada para poder hacer el webscrapping:\n",
    "service = Service (executable_path= \"chromedriver-mac-arm64/chromedriver\")\n",
    "options = webdriver.ChromeOptions()\n",
    "driver = webdriver.Chrome(service=service, options=options)\n",
    "\n",
    "#Para abrir la página\n",
    "driver.maximize_window()\n",
    "url = 'https://infogob.jne.gob.pe/Eleccion'\n",
    "driver.get(url)"
   ]
  },
  {
   "cell_type": "code",
   "execution_count": 195,
   "id": "ab7a8980",
   "metadata": {},
   "outputs": [],
   "source": [
    "#Me ubico \n",
    "\n",
    "driver.find_element(By.XPATH, '/html/body/div[1]/section/div[2]/div[2]/div[2]/div[1]/div/div[1]').click()\n",
    "time.sleep(2)"
   ]
  },
  {
   "cell_type": "code",
   "execution_count": 196,
   "id": "7ebbdf16",
   "metadata": {},
   "outputs": [],
   "source": [
    "scope = driver.find_element(By.XPATH, \"/html/body/div[1]/section/div[2]/div[2]/div[2]/div[1]/div/div[2]\")\n",
    "# All selenium objects in scope\n",
    "scope_options = [ x for x in scope.find_elements(By.CLASS_NAME, \"item\") ]\n",
    "dict_scope_options = { option.text : option for option in scope_options }"
   ]
  },
  {
   "cell_type": "code",
   "execution_count": 197,
   "id": "0ebe3838",
   "metadata": {},
   "outputs": [
    {
     "data": {
      "text/plain": [
       "dict_keys(['[SELECCIONE]', 'ELECCIONES PRESIDENCIALES', 'ELECCIONES CONGRESALES', 'ELECCIONES PARLAMENTO ANDINO', 'ELECCIONES REGIONALES', 'ELECCIONES MUNICIPALES PROVINCIALES', 'ELECCIONES MUNICIPALES DISTRITALES', 'ELECCIONES MUNICIPALES COMPLEMENTARIAS', 'CONSULTA POPULAR DE REVOCATORIA DEL MANDATO DE AUTORIDADES MUNICIPALES', 'REFERENDUM Y OTRAS CONSULTAS', 'NUEVAS ELECCIONES MUNICIPALES'])"
      ]
     },
     "execution_count": 197,
     "metadata": {},
     "output_type": "execute_result"
    }
   ],
   "source": [
    "dict_scope_options.keys()"
   ]
  },
  {
   "cell_type": "code",
   "execution_count": 205,
   "id": "94271fce",
   "metadata": {},
   "outputs": [
    {
     "name": "stdout",
     "output_type": "stream",
     "text": [
      "Total de elementos en la lista desplegable: 26\n"
     ]
    },
    {
     "data": {
      "text/plain": [
       "26"
      ]
     },
     "execution_count": 205,
     "metadata": {},
     "output_type": "execute_result"
    }
   ],
   "source": [
    "filtro_eleccion = driver.find_element(By.XPATH,'//*[@id=\"IdEleccion\"]')\n",
    "select = Select(filtro_eleccion)\n",
    "all_eleccion = select.options\n",
    "num_eleccion = len(all_eleccion)\n",
    "\n",
    "print(f\"Total de elementos en la lista desplegable: {num_eleccion}\")\n",
    "\n",
    "num_eleccion"
   ]
  },
  {
   "cell_type": "code",
   "execution_count": 73,
   "id": "e9f29ff0",
   "metadata": {},
   "outputs": [],
   "source": [
    "from selenium.webdriver.common.by import By\n",
    "from selenium.webdriver.support.ui import Select"
   ]
  },
  {
   "cell_type": "code",
   "execution_count": 89,
   "id": "0a1c759e",
   "metadata": {},
   "outputs": [
    {
     "ename": "AttributeError",
     "evalue": "'WebDriver' object has no attribute 'find_element_by_id'",
     "output_type": "error",
     "traceback": [
      "\u001b[0;31m---------------------------------------------------------------------------\u001b[0m",
      "\u001b[0;31mAttributeError\u001b[0m                            Traceback (most recent call last)",
      "Cell \u001b[0;32mIn[89], line 1\u001b[0m\n\u001b[0;32m----> 1\u001b[0m raw_table \u001b[38;5;241m=\u001b[39m driver\u001b[38;5;241m.\u001b[39mfind_element_by_id( \u001b[38;5;124m\"\u001b[39m\u001b[38;5;124mtable-scroll\u001b[39m\u001b[38;5;124m\"\u001b[39m )\n\u001b[1;32m      3\u001b[0m raw_table_html \u001b[38;5;241m=\u001b[39m raw_table\u001b[38;5;241m.\u001b[39mget_attribute( \u001b[38;5;124m'\u001b[39m\u001b[38;5;124minnerHTML\u001b[39m\u001b[38;5;124m'\u001b[39m )\n",
      "\u001b[0;31mAttributeError\u001b[0m: 'WebDriver' object has no attribute 'find_element_by_id'"
     ]
    }
   ],
   "source": [
    "raw_table = driver.find_element_by_id( \"table-scroll\" )\n",
    "\n",
    "raw_table_html = raw_table.get_attribute( 'innerHTML' )"
   ]
  },
  {
   "cell_type": "code",
   "execution_count": 85,
   "id": "ce214069",
   "metadata": {},
   "outputs": [],
   "source": [
    "scope = driver.find_element(By.XPATH, \"/html/body/div[1]/section/div[2]/div[2]/div[2]/div[2]/div/div[2]\")\n",
    "# All selenium objects in scope\n",
    "scope_options = [ x for x in scope.find_elements(By.CLASS_NAME, \"item\") ]\n",
    "dict_scope_options = { option.text : option for option in scope_options }"
   ]
  },
  {
   "cell_type": "code",
   "execution_count": 86,
   "id": "1d9dea44",
   "metadata": {},
   "outputs": [
    {
     "data": {
      "text/plain": [
       "dict_keys([''])"
      ]
     },
     "execution_count": 86,
     "metadata": {},
     "output_type": "execute_result"
    }
   ],
   "source": [
    "dict_scope_options.keys()"
   ]
  },
  {
   "cell_type": "code",
   "execution_count": null,
   "id": "9327a041",
   "metadata": {},
   "outputs": [],
   "source": [
    "#Secuencia de clicks\n",
    "\n",
    "#Para abrir la página\n",
    "driver.maximize_window()\n",
    "url = 'https://infogob.jne.gob.pe/Eleccion'\n",
    "driver.get(url)\n",
    "\n",
    "#Presidencial 2021 - 2VUELTA\n",
    "\n",
    "driver.find_element(By.XPATH, '/html/body/div[1]/section/div[2]/div[2]/div[2]/div[1]/div/div[1]').click()\n",
    "time.sleep(2)\n",
    "\n",
    "driver.find_element(By.XPATH, '/html/body/div[1]/section/div[2]/div[2]/div[2]/div[1]/div/div[2]/div[2]').click()\n",
    "time.sleep(2)\n",
    "\n",
    "driver.find_element(By.XPATH, '/html/body/div[1]/section/div[2]/div[2]/div[2]/div[2]/div').click()\n",
    "time.sleep(2)\n",
    "\n",
    "driver.find_element(By.XPATH, '/html/body/div[1]/section/div[2]/div[2]/div[2]/div[2]/div/div[2]/div[2]').click()\n",
    "time.sleep(2)\n",
    "\n",
    "driver.find_element(By.XPATH, '/html/body/div[1]/section/div[2]/div[2]/div[3]/div/button/span').click()\n",
    "time.sleep(4)\n",
    "\n",
    "driver.find_element(By.XPATH, '/html/body/div[1]/section/div[2]/div[3]/div[1]/ul/li[2]/a').click()\n",
    "time.sleep(3)\n",
    "\n",
    "table_path = driver.find_element(By.XPATH, '/html/body/div[1]/section/div[2]/div[3]/div[3]/div/div/div/div[1]/div[2]/div[2]/div[2]')\n",
    "table_html = table_path.get_attribute ('outerHTML')\n",
    "\n",
    "table = pd.read_html(table_html)\n",
    "table[0]\n",
    "#Agregar la nueva columna elecciones en el primer lugar con el valor deseado"
   ]
  },
  {
   "cell_type": "code",
   "execution_count": null,
   "id": "5d7f1e29",
   "metadata": {},
   "outputs": [],
   "source": [
    "table = pd.read_html(table_html)\n",
    "table[0]\n",
    "table[0].insert(0, \"ELECCIONES\", \"PRESIDENCIAL - 2DA VUELTA\")\n",
    "selected_columns=table[0][[\"ELECCIONES\", \"ORGANIZACIÓN POLÍTICA\", \"TOTAL VOTOS\"]]\n",
    "selected_columns.to_excel('organizacion2.xlsx', index=False)\n",
    "print"
   ]
  },
  {
   "cell_type": "code",
   "execution_count": null,
   "id": "4b698531",
   "metadata": {},
   "outputs": [],
   "source": [
    "scope = driver.find_element_by_xpath( \"/html/body/onpe-root/onpe-layout-container/onpe-onpe-epres-re/div[1]/div[3]/div[1]/div[1]/div/div/div/select\" )\n",
    "\n",
    "# All selenium objects in scope\n",
    "scope_options = [ x for x in scope.find_elements(By.TAG_NAME, \"option\") ]\n",
    "dict_scope_options = { option.text : option for option in scope_options }"
   ]
  }
 ],
 "metadata": {
  "kernelspec": {
   "display_name": "Python 3 (ipykernel)",
   "language": "python",
   "name": "python3"
  },
  "language_info": {
   "codemirror_mode": {
    "name": "ipython",
    "version": 3
   },
   "file_extension": ".py",
   "mimetype": "text/x-python",
   "name": "python",
   "nbconvert_exporter": "python",
   "pygments_lexer": "ipython3",
   "version": "3.11.5"
  }
 },
 "nbformat": 4,
 "nbformat_minor": 5
}
