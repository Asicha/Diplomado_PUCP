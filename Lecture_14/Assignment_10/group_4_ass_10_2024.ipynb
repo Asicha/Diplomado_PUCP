{
 "cells": [
  {
   "cell_type": "markdown",
   "id": "22c53a66-e7cf-4349-a799-7fa4d39d91cd",
   "metadata": {},
   "source": [
    "# 1. Get the 15 variables from this raster for all Peru departments polygons"
   ]
  },
  {
   "cell_type": "markdown",
   "id": "a0bf2a2f-f5f7-4f77-bed9-1dc3d9cdd903",
   "metadata": {},
   "source": [
    "## 1.1 Install and import"
   ]
  },
  {
   "cell_type": "code",
   "execution_count": 25,
   "id": "f6b6ac96-9dcd-450d-9021-df1748a7d837",
   "metadata": {},
   "outputs": [
    {
     "name": "stdout",
     "output_type": "stream",
     "text": [
      "Requirement already satisfied: rasterio in /Users/isaisilva/anaconda3/envs/geowombat/lib/python3.8/site-packages (1.3.9)\n",
      "Requirement already satisfied: affine in /Users/isaisilva/anaconda3/envs/geowombat/lib/python3.8/site-packages (from rasterio) (2.4.0)\n",
      "Requirement already satisfied: attrs in /Users/isaisilva/anaconda3/envs/geowombat/lib/python3.8/site-packages (from rasterio) (23.2.0)\n",
      "Requirement already satisfied: certifi in /Users/isaisilva/anaconda3/envs/geowombat/lib/python3.8/site-packages (from rasterio) (2024.2.2)\n",
      "Requirement already satisfied: click>=4.0 in /Users/isaisilva/anaconda3/envs/geowombat/lib/python3.8/site-packages (from rasterio) (8.1.7)\n",
      "Requirement already satisfied: cligj>=0.5 in /Users/isaisilva/anaconda3/envs/geowombat/lib/python3.8/site-packages (from rasterio) (0.7.2)\n",
      "Requirement already satisfied: numpy in /Users/isaisilva/anaconda3/envs/geowombat/lib/python3.8/site-packages (from rasterio) (1.24.4)\n",
      "Requirement already satisfied: snuggs>=1.4.1 in /Users/isaisilva/anaconda3/envs/geowombat/lib/python3.8/site-packages (from rasterio) (1.4.7)\n",
      "Requirement already satisfied: click-plugins in /Users/isaisilva/anaconda3/envs/geowombat/lib/python3.8/site-packages (from rasterio) (1.1.1)\n",
      "Requirement already satisfied: setuptools in /Users/isaisilva/anaconda3/envs/geowombat/lib/python3.8/site-packages (from rasterio) (69.1.1)\n",
      "Requirement already satisfied: pyparsing>=2.1.6 in /Users/isaisilva/anaconda3/envs/geowombat/lib/python3.8/site-packages (from snuggs>=1.4.1->rasterio) (3.1.1)\n",
      "Note: you may need to restart the kernel to use updated packages.\n"
     ]
    }
   ],
   "source": [
    "pip install rasterio"
   ]
  },
  {
   "cell_type": "code",
   "execution_count": 26,
   "id": "e908eb5f-0191-48c5-a4ed-a2c5bc4cc4b6",
   "metadata": {},
   "outputs": [
    {
     "name": "stdout",
     "output_type": "stream",
     "text": [
      "Note: you may need to restart the kernel to use updated packages.\n"
     ]
    }
   ],
   "source": [
    "%pip install geopandas matplotlib shapely rasterio numpy pandas sklearn-xarray -q"
   ]
  },
  {
   "cell_type": "code",
   "execution_count": 27,
   "id": "39cab28e-8825-42b9-98d4-1825e5751c27",
   "metadata": {},
   "outputs": [
    {
     "name": "stdout",
     "output_type": "stream",
     "text": [
      "Requirement already satisfied: ipywidgets in /Users/isaisilva/anaconda3/envs/geowombat/lib/python3.8/site-packages (8.1.2)\n",
      "Requirement already satisfied: comm>=0.1.3 in /Users/isaisilva/anaconda3/envs/geowombat/lib/python3.8/site-packages (from ipywidgets) (0.2.1)\n",
      "Requirement already satisfied: ipython>=6.1.0 in /Users/isaisilva/anaconda3/envs/geowombat/lib/python3.8/site-packages (from ipywidgets) (8.12.2)\n",
      "Requirement already satisfied: traitlets>=4.3.1 in /Users/isaisilva/anaconda3/envs/geowombat/lib/python3.8/site-packages (from ipywidgets) (5.14.1)\n",
      "Requirement already satisfied: widgetsnbextension~=4.0.10 in /Users/isaisilva/anaconda3/envs/geowombat/lib/python3.8/site-packages (from ipywidgets) (4.0.10)\n",
      "Requirement already satisfied: jupyterlab-widgets~=3.0.10 in /Users/isaisilva/anaconda3/envs/geowombat/lib/python3.8/site-packages (from ipywidgets) (3.0.10)\n",
      "Requirement already satisfied: backcall in /Users/isaisilva/anaconda3/envs/geowombat/lib/python3.8/site-packages (from ipython>=6.1.0->ipywidgets) (0.2.0)\n",
      "Requirement already satisfied: decorator in /Users/isaisilva/anaconda3/envs/geowombat/lib/python3.8/site-packages (from ipython>=6.1.0->ipywidgets) (5.1.1)\n",
      "Requirement already satisfied: jedi>=0.16 in /Users/isaisilva/anaconda3/envs/geowombat/lib/python3.8/site-packages (from ipython>=6.1.0->ipywidgets) (0.19.1)\n",
      "Requirement already satisfied: matplotlib-inline in /Users/isaisilva/anaconda3/envs/geowombat/lib/python3.8/site-packages (from ipython>=6.1.0->ipywidgets) (0.1.6)\n",
      "Requirement already satisfied: pickleshare in /Users/isaisilva/anaconda3/envs/geowombat/lib/python3.8/site-packages (from ipython>=6.1.0->ipywidgets) (0.7.5)\n",
      "Requirement already satisfied: prompt-toolkit!=3.0.37,<3.1.0,>=3.0.30 in /Users/isaisilva/anaconda3/envs/geowombat/lib/python3.8/site-packages (from ipython>=6.1.0->ipywidgets) (3.0.42)\n",
      "Requirement already satisfied: pygments>=2.4.0 in /Users/isaisilva/anaconda3/envs/geowombat/lib/python3.8/site-packages (from ipython>=6.1.0->ipywidgets) (2.17.2)\n",
      "Requirement already satisfied: stack-data in /Users/isaisilva/anaconda3/envs/geowombat/lib/python3.8/site-packages (from ipython>=6.1.0->ipywidgets) (0.6.2)\n",
      "Requirement already satisfied: typing-extensions in /Users/isaisilva/anaconda3/envs/geowombat/lib/python3.8/site-packages (from ipython>=6.1.0->ipywidgets) (4.10.0)\n",
      "Requirement already satisfied: pexpect>4.3 in /Users/isaisilva/anaconda3/envs/geowombat/lib/python3.8/site-packages (from ipython>=6.1.0->ipywidgets) (4.9.0)\n",
      "Requirement already satisfied: appnope in /Users/isaisilva/anaconda3/envs/geowombat/lib/python3.8/site-packages (from ipython>=6.1.0->ipywidgets) (0.1.4)\n",
      "Requirement already satisfied: parso<0.9.0,>=0.8.3 in /Users/isaisilva/anaconda3/envs/geowombat/lib/python3.8/site-packages (from jedi>=0.16->ipython>=6.1.0->ipywidgets) (0.8.3)\n",
      "Requirement already satisfied: ptyprocess>=0.5 in /Users/isaisilva/anaconda3/envs/geowombat/lib/python3.8/site-packages (from pexpect>4.3->ipython>=6.1.0->ipywidgets) (0.7.0)\n",
      "Requirement already satisfied: wcwidth in /Users/isaisilva/anaconda3/envs/geowombat/lib/python3.8/site-packages (from prompt-toolkit!=3.0.37,<3.1.0,>=3.0.30->ipython>=6.1.0->ipywidgets) (0.2.13)\n",
      "Requirement already satisfied: executing>=1.2.0 in /Users/isaisilva/anaconda3/envs/geowombat/lib/python3.8/site-packages (from stack-data->ipython>=6.1.0->ipywidgets) (2.0.1)\n",
      "Requirement already satisfied: asttokens>=2.1.0 in /Users/isaisilva/anaconda3/envs/geowombat/lib/python3.8/site-packages (from stack-data->ipython>=6.1.0->ipywidgets) (2.4.1)\n",
      "Requirement already satisfied: pure-eval in /Users/isaisilva/anaconda3/envs/geowombat/lib/python3.8/site-packages (from stack-data->ipython>=6.1.0->ipywidgets) (0.2.2)\n",
      "Requirement already satisfied: six>=1.12.0 in /Users/isaisilva/anaconda3/envs/geowombat/lib/python3.8/site-packages (from asttokens>=2.1.0->stack-data->ipython>=6.1.0->ipywidgets) (1.16.0)\n",
      "\u001b[33m(Deprecated) Installing extensions with the jupyter labextension install command is now deprecated and will be removed in a future major version of JupyterLab.\n",
      "\n",
      "Users should manage prebuilt extensions with package managers like pip and conda, and extension authors are encouraged to distribute their extensions as prebuilt packages \u001b[0m\n",
      "/Users/isaisilva/anaconda3/envs/geowombat/lib/python3.8/site-packages/jupyterlab/debuglog.py:56: UserWarning: An error occurred.\n",
      "  warnings.warn(\"An error occurred.\")\n",
      "/Users/isaisilva/anaconda3/envs/geowombat/lib/python3.8/site-packages/jupyterlab/debuglog.py:57: UserWarning: ValueError: Please install Node.js and npm before continuing installation. You may be able to install Node.js from your package manager, from conda, or directly from the Node.js website (https://nodejs.org).\n",
      "  warnings.warn(msg[-1].strip())\n",
      "/Users/isaisilva/anaconda3/envs/geowombat/lib/python3.8/site-packages/jupyterlab/debuglog.py:58: UserWarning: See the log file for details: /var/folders/v7/jj1btk7s3kj64g0rjqgbdldc0000gn/T/jupyterlab-debug-hu9lsa7g.log\n",
      "  warnings.warn(f\"See the log file for details: {log_path!s}\")\n"
     ]
    }
   ],
   "source": [
    "!pip install ipywidgets\n",
    "!jupyter labextension install @jupyter-widgets/jupyterlab-manager"
   ]
  },
  {
   "cell_type": "code",
   "execution_count": 34,
   "id": "6e947c03-506d-4aed-9422-a727b0debce8",
   "metadata": {},
   "outputs": [
    {
     "name": "stdout",
     "output_type": "stream",
     "text": [
      "Collecting rasterstats\n",
      "  Downloading rasterstats-0.19.0-py3-none-any.whl.metadata (4.1 kB)\n",
      "Requirement already satisfied: affine in /Users/isaisilva/anaconda3/envs/geowombat/lib/python3.8/site-packages (from rasterstats) (2.4.0)\n",
      "Requirement already satisfied: click>7.1 in /Users/isaisilva/anaconda3/envs/geowombat/lib/python3.8/site-packages (from rasterstats) (8.1.7)\n",
      "Requirement already satisfied: cligj>=0.4 in /Users/isaisilva/anaconda3/envs/geowombat/lib/python3.8/site-packages (from rasterstats) (0.7.2)\n",
      "Requirement already satisfied: fiona in /Users/isaisilva/anaconda3/envs/geowombat/lib/python3.8/site-packages (from rasterstats) (1.9.1)\n",
      "Requirement already satisfied: numpy>=1.9 in /Users/isaisilva/anaconda3/envs/geowombat/lib/python3.8/site-packages (from rasterstats) (1.24.4)\n",
      "Requirement already satisfied: rasterio>=1.0 in /Users/isaisilva/anaconda3/envs/geowombat/lib/python3.8/site-packages (from rasterstats) (1.3.9)\n",
      "Collecting simplejson (from rasterstats)\n",
      "  Downloading simplejson-3.19.2-cp38-cp38-macosx_11_0_arm64.whl.metadata (3.1 kB)\n",
      "Requirement already satisfied: shapely in /Users/isaisilva/anaconda3/envs/geowombat/lib/python3.8/site-packages (from rasterstats) (2.0.1)\n",
      "Requirement already satisfied: attrs in /Users/isaisilva/anaconda3/envs/geowombat/lib/python3.8/site-packages (from rasterio>=1.0->rasterstats) (23.2.0)\n",
      "Requirement already satisfied: certifi in /Users/isaisilva/anaconda3/envs/geowombat/lib/python3.8/site-packages (from rasterio>=1.0->rasterstats) (2024.2.2)\n",
      "Requirement already satisfied: snuggs>=1.4.1 in /Users/isaisilva/anaconda3/envs/geowombat/lib/python3.8/site-packages (from rasterio>=1.0->rasterstats) (1.4.7)\n",
      "Requirement already satisfied: click-plugins in /Users/isaisilva/anaconda3/envs/geowombat/lib/python3.8/site-packages (from rasterio>=1.0->rasterstats) (1.1.1)\n",
      "Requirement already satisfied: setuptools in /Users/isaisilva/anaconda3/envs/geowombat/lib/python3.8/site-packages (from rasterio>=1.0->rasterstats) (69.1.1)\n",
      "Requirement already satisfied: munch>=2.3.2 in /Users/isaisilva/anaconda3/envs/geowombat/lib/python3.8/site-packages (from fiona->rasterstats) (4.0.0)\n",
      "Requirement already satisfied: pyparsing>=2.1.6 in /Users/isaisilva/anaconda3/envs/geowombat/lib/python3.8/site-packages (from snuggs>=1.4.1->rasterio>=1.0->rasterstats) (3.1.1)\n",
      "Downloading rasterstats-0.19.0-py3-none-any.whl (16 kB)\n",
      "Downloading simplejson-3.19.2-cp38-cp38-macosx_11_0_arm64.whl (74 kB)\n",
      "\u001b[2K   \u001b[90m━━━━━━━━━━━━━━━━━━━━━━━━━━━━━━━━━━━━━━━━\u001b[0m \u001b[32m74.9/74.9 kB\u001b[0m \u001b[31m2.4 MB/s\u001b[0m eta \u001b[36m0:00:00\u001b[0m\n",
      "\u001b[?25hInstalling collected packages: simplejson, rasterstats\n",
      "Successfully installed rasterstats-0.19.0 simplejson-3.19.2\n",
      "Note: you may need to restart the kernel to use updated packages.\n"
     ]
    }
   ],
   "source": [
    "pip install rasterstats"
   ]
  },
  {
   "cell_type": "code",
   "execution_count": 35,
   "id": "525af473-ece9-48e7-811a-695e82c1893c",
   "metadata": {},
   "outputs": [],
   "source": [
    "import geowombat as gw"
   ]
  },
  {
   "cell_type": "code",
   "execution_count": 36,
   "id": "6276ce86-84d6-4f15-adac-681e288ca9b8",
   "metadata": {},
   "outputs": [],
   "source": [
    "import geopandas as gpd\n",
    "from rasterstats import zonal_stats\n",
    "import pandas as pd"
   ]
  },
  {
   "cell_type": "code",
   "execution_count": 37,
   "id": "e5b99388-47bb-4cbf-8472-75bbef2c57ce",
   "metadata": {},
   "outputs": [],
   "source": [
    "import geopandas as gpd\n",
    "import rasterio\n",
    "from rasterio.merge import merge\n",
    "from rasterio.plot import show\n",
    "from shapely.geometry import mapping\n",
    "import rasterio\n",
    "import geopandas as gpd\n",
    "import rasterio\n",
    "\n",
    "import matplotlib.pyplot as plt\n",
    "from rasterio.plot import show\n",
    "\n",
    "import os\n",
    "from rasterio.mask import mask"
   ]
  },
  {
   "cell_type": "markdown",
   "id": "b86f7ccd-7bb4-45ff-b1b6-499e27e88105",
   "metadata": {},
   "source": [
    "# 1.2"
   ]
  },
  {
   "cell_type": "code",
   "execution_count": 39,
   "id": "aca36b2d-7f00-4d6d-99f3-f9403baff695",
   "metadata": {},
   "outputs": [
    {
     "name": "stdout",
     "output_type": "stream",
     "text": [
      "   OBJECTID_1  OBJECTID CCDD   NOMBDEP      CAPITAL  Shape_STAr  Shape_STLe  \\\n",
      "0           1       1.0   01  AMAZONAS  CHACHAPOYAS    3.203006   12.912088   \n",
      "1           2       2.0   02    ANCASH       HUARAZ    2.954592   11.780424   \n",
      "2           3       3.0   03  APURIMAC      ABANCAY    1.765933    7.730154   \n",
      "3           4       4.0   04  AREQUIPA     AREQUIPA    5.330203   17.405040   \n",
      "4           5       5.0   05  AYACUCHO     AYACUCHO    3.643705   17.127166   \n",
      "\n",
      "   ORIG_FID  Shape_Leng  Shape_Area                    CORREO  \\\n",
      "0         0   12.912088    3.203006  juan.suyo@geogpsperu.com   \n",
      "1         1   11.780424    2.954592  juan.suyo@geogpsperu.com   \n",
      "2         2    7.730154    1.765933  juan.suyo@geogpsperu.com   \n",
      "3         3   17.405040    5.330203  juan.suyo@geogpsperu.com   \n",
      "4         4   17.127166    3.643705  juan.suyo@geogpsperu.com   \n",
      "\n",
      "             CONTACTO   WHATSAPP  \\\n",
      "0  www.geogpsperu.com  931381206   \n",
      "1  www.geogpsperu.com  931381206   \n",
      "2  www.geogpsperu.com  931381206   \n",
      "3  www.geogpsperu.com  931381206   \n",
      "4  www.geogpsperu.com  931381206   \n",
      "\n",
      "                                            geometry  \n",
      "0  POLYGON ((-7792169.198 -369977.341, -7792239.4...  \n",
      "1  POLYGON ((-7734578.955 -994191.696, -7734565.2...  \n",
      "2  POLYGON ((-7270386.011 -1623441.123, -7270292....  \n",
      "3  POLYGON ((-7068605.941 -1802675.352, -7068565....  \n",
      "4  POLYGON ((-7347505.611 -1501033.916, -7347646....  \n"
     ]
    }
   ],
   "source": [
    "import geopandas as gpd\n",
    "\n",
    "# Define the relative path to the shapefile from the notebook location\n",
    "shapefile_path = '../../_data/INEI_LIMITE_DEPARTAMENTAL/INEI_LIMITE_DEPARTAMENTAL.shp'\n",
    "\n",
    "# Read the shapefile using Geopandas\n",
    "departments = gpd.read_file(shapefile_path)\n",
    "\n",
    "# Transformar el CRS de los departamentos al CRS del raster si es necesario\n",
    "# Asumiendo que los rasters están en 'esri:54009'\n",
    "departments = departments.to_crs('esri:54009')\n",
    "\n",
    "\n",
    "print(departments.head())"
   ]
  },
  {
   "cell_type": "code",
   "execution_count": 40,
   "id": "7fca7a4b-1277-4719-bcf3-9c8baee28f13",
   "metadata": {},
   "outputs": [],
   "source": [
    "import rasterio\n",
    "from rasterio.merge import merge\n",
    "import rasterio\n",
    "from rasterio.mask import mask\n",
    "import pandas as pd"
   ]
  },
  {
   "cell_type": "code",
   "execution_count": 41,
   "id": "1d92ce03-a588-4524-847a-73e64950fb98",
   "metadata": {},
   "outputs": [],
   "source": [
    "# Rutas a los archivos raster\n",
    "raster_files = ['tif_files_group4/GHS_BUILT_C_MSZ_E2018_GLOBE_R2023A_54009_10_V1_0_R10_C10.tif', \n",
    "                'tif_files_group4/GHS_BUILT_C_MSZ_E2018_GLOBE_R2023A_54009_10_V1_0_R10_C11.tif',\n",
    "                'tif_files_group4/GHS_BUILT_C_MSZ_E2018_GLOBE_R2023A_54009_10_V1_0_R10_C12.tif', \n",
    "                'tif_files_group4/GHS_BUILT_C_MSZ_E2018_GLOBE_R2023A_54009_10_V1_0_R11_C11.tif', \n",
    "                'tif_files_group4/GHS_BUILT_C_MSZ_E2018_GLOBE_R2023A_54009_10_V1_0_R11_C12.tif', \n",
    "                'tif_files_group4/GHS_BUILT_C_MSZ_E2018_GLOBE_R2023A_54009_10_V1_0_R12_C11.tif', \n",
    "                'tif_files_group4/GHS_BUILT_C_MSZ_E2018_GLOBE_R2023A_54009_10_V1_0_R12_C12.tif', \n",
    "                'tif_files_group4/GHS_BUILT_C_MSZ_E2018_GLOBE_R2023A_54009_10_V1_0_R9_C10.tif', \n",
    "                'tif_files_group4/GHS_BUILT_C_MSZ_E2018_GLOBE_R2023A_54009_10_V1_0_R9_C11.tif', \n",
    "                'tif_files_group4/GHS_BUILT_C_MSZ_E2018_GLOBE_R2023A_54009_10_V1_0_R9_C12.tif']"
   ]
  },
  {
   "cell_type": "code",
   "execution_count": 42,
   "id": "bb2170c1-6775-4512-98e1-3f85773e1e08",
   "metadata": {},
   "outputs": [],
   "source": [
    "# Inicializar lista para almacenar los resultados de cada raster\n",
    "all_stats = []"
   ]
  },
  {
   "cell_type": "code",
   "execution_count": 44,
   "id": "23974088-a7aa-4db9-8712-678866100218",
   "metadata": {},
   "outputs": [
    {
     "ename": "RasterioIOError",
     "evalue": "'tif_files_group4/GHS_BUILT_C_MSZ_E2018_GLOBE_R2023A_54009_10_V1_0_R10_C10.tif' not recognized as a supported file format.",
     "output_type": "error",
     "traceback": [
      "\u001b[0;31m---------------------------------------------------------------------------\u001b[0m",
      "\u001b[0;31mCPLE_OpenFailedError\u001b[0m                      Traceback (most recent call last)",
      "File \u001b[0;32mrasterio/_base.pyx:310\u001b[0m, in \u001b[0;36mrasterio._base.DatasetBase.__init__\u001b[0;34m()\u001b[0m\n",
      "File \u001b[0;32mrasterio/_base.pyx:221\u001b[0m, in \u001b[0;36mrasterio._base.open_dataset\u001b[0;34m()\u001b[0m\n",
      "File \u001b[0;32mrasterio/_err.pyx:221\u001b[0m, in \u001b[0;36mrasterio._err.exc_wrap_pointer\u001b[0;34m()\u001b[0m\n",
      "\u001b[0;31mCPLE_OpenFailedError\u001b[0m: 'tif_files_group4/GHS_BUILT_C_MSZ_E2018_GLOBE_R2023A_54009_10_V1_0_R10_C10.tif' not recognized as a supported file format.",
      "\nDuring handling of the above exception, another exception occurred:\n",
      "\u001b[0;31mRasterioIOError\u001b[0m                           Traceback (most recent call last)",
      "Cell \u001b[0;32mIn[44], line 4\u001b[0m\n\u001b[1;32m      1\u001b[0m \u001b[38;5;66;03m# Iterar sobre cada archivo raster\u001b[39;00m\n\u001b[1;32m      2\u001b[0m \u001b[38;5;28;01mfor\u001b[39;00m raster_path \u001b[38;5;129;01min\u001b[39;00m raster_files:\n\u001b[1;32m      3\u001b[0m     \u001b[38;5;66;03m# Calcular estadísticas zonales\u001b[39;00m\n\u001b[0;32m----> 4\u001b[0m     stats \u001b[38;5;241m=\u001b[39m \u001b[43mzonal_stats\u001b[49m\u001b[43m(\u001b[49m\u001b[43mdepartments\u001b[49m\u001b[43m,\u001b[49m\u001b[43m \u001b[49m\u001b[43mraster_path\u001b[49m\u001b[43m,\u001b[49m\u001b[43m \u001b[49m\u001b[43mstats\u001b[49m\u001b[38;5;241;43m=\u001b[39;49m\u001b[38;5;124;43m\"\u001b[39;49m\u001b[38;5;124;43mcount sum\u001b[39;49m\u001b[38;5;124;43m\"\u001b[39;49m\u001b[43m,\u001b[49m\u001b[43m \u001b[49m\u001b[43mcategorical\u001b[49m\u001b[38;5;241;43m=\u001b[39;49m\u001b[38;5;28;43;01mTrue\u001b[39;49;00m\u001b[43m,\u001b[49m\u001b[43m \u001b[49m\u001b[43mall_touched\u001b[49m\u001b[38;5;241;43m=\u001b[39;49m\u001b[38;5;28;43;01mTrue\u001b[39;49;00m\u001b[43m)\u001b[49m\n\u001b[1;32m      5\u001b[0m     \u001b[38;5;66;03m# Convertir estadísticas a DataFrame\u001b[39;00m\n\u001b[1;32m      6\u001b[0m     stats_df \u001b[38;5;241m=\u001b[39m pd\u001b[38;5;241m.\u001b[39mDataFrame(stats)\n",
      "File \u001b[0;32m~/anaconda3/envs/geowombat/lib/python3.8/site-packages/rasterstats/main.py:36\u001b[0m, in \u001b[0;36mzonal_stats\u001b[0;34m(*args, **kwargs)\u001b[0m\n\u001b[1;32m     28\u001b[0m \u001b[38;5;28;01mdef\u001b[39;00m \u001b[38;5;21mzonal_stats\u001b[39m(\u001b[38;5;241m*\u001b[39margs, \u001b[38;5;241m*\u001b[39m\u001b[38;5;241m*\u001b[39mkwargs):\n\u001b[1;32m     29\u001b[0m \u001b[38;5;250m    \u001b[39m\u001b[38;5;124;03m\"\"\"The primary zonal statistics entry point.\u001b[39;00m\n\u001b[1;32m     30\u001b[0m \n\u001b[1;32m     31\u001b[0m \u001b[38;5;124;03m    All arguments are passed directly to ``gen_zonal_stats``.\u001b[39;00m\n\u001b[0;32m   (...)\u001b[0m\n\u001b[1;32m     34\u001b[0m \u001b[38;5;124;03m    The only difference is that ``zonal_stats`` will\u001b[39;00m\n\u001b[1;32m     35\u001b[0m \u001b[38;5;124;03m    return a list rather than a generator.\"\"\"\u001b[39;00m\n\u001b[0;32m---> 36\u001b[0m     \u001b[38;5;28;01mreturn\u001b[39;00m \u001b[38;5;28;43mlist\u001b[39;49m\u001b[43m(\u001b[49m\u001b[43mgen_zonal_stats\u001b[49m\u001b[43m(\u001b[49m\u001b[38;5;241;43m*\u001b[39;49m\u001b[43margs\u001b[49m\u001b[43m,\u001b[49m\u001b[43m \u001b[49m\u001b[38;5;241;43m*\u001b[39;49m\u001b[38;5;241;43m*\u001b[39;49m\u001b[43mkwargs\u001b[49m\u001b[43m)\u001b[49m\u001b[43m)\u001b[49m\n",
      "File \u001b[0;32m~/anaconda3/envs/geowombat/lib/python3.8/site-packages/rasterstats/main.py:161\u001b[0m, in \u001b[0;36mgen_zonal_stats\u001b[0;34m(vectors, raster, layer, band, nodata, affine, stats, all_touched, categorical, category_map, add_stats, zone_func, raster_out, prefix, geojson_out, boundless, **kwargs)\u001b[0m\n\u001b[1;32m    158\u001b[0m     warnings\u001b[38;5;241m.\u001b[39mwarn(\u001b[38;5;124m\"\u001b[39m\u001b[38;5;124mUse `band` to specify band number\u001b[39m\u001b[38;5;124m\"\u001b[39m, \u001b[38;5;167;01mDeprecationWarning\u001b[39;00m)\n\u001b[1;32m    159\u001b[0m     band \u001b[38;5;241m=\u001b[39m band_num\n\u001b[0;32m--> 161\u001b[0m \u001b[38;5;28;01mwith\u001b[39;00m \u001b[43mRaster\u001b[49m\u001b[43m(\u001b[49m\u001b[43mraster\u001b[49m\u001b[43m,\u001b[49m\u001b[43m \u001b[49m\u001b[43maffine\u001b[49m\u001b[43m,\u001b[49m\u001b[43m \u001b[49m\u001b[43mnodata\u001b[49m\u001b[43m,\u001b[49m\u001b[43m \u001b[49m\u001b[43mband\u001b[49m\u001b[43m)\u001b[49m \u001b[38;5;28;01mas\u001b[39;00m rast:\n\u001b[1;32m    162\u001b[0m     features_iter \u001b[38;5;241m=\u001b[39m read_features(vectors, layer)\n\u001b[1;32m    163\u001b[0m     \u001b[38;5;28;01mfor\u001b[39;00m _, feat \u001b[38;5;129;01min\u001b[39;00m \u001b[38;5;28menumerate\u001b[39m(features_iter):\n",
      "File \u001b[0;32m~/anaconda3/envs/geowombat/lib/python3.8/site-packages/rasterstats/io.py:267\u001b[0m, in \u001b[0;36mRaster.__init__\u001b[0;34m(self, raster, affine, nodata, band)\u001b[0m\n\u001b[1;32m    265\u001b[0m     \u001b[38;5;28mself\u001b[39m\u001b[38;5;241m.\u001b[39mnodata \u001b[38;5;241m=\u001b[39m nodata\n\u001b[1;32m    266\u001b[0m \u001b[38;5;28;01melse\u001b[39;00m:\n\u001b[0;32m--> 267\u001b[0m     \u001b[38;5;28mself\u001b[39m\u001b[38;5;241m.\u001b[39msrc \u001b[38;5;241m=\u001b[39m \u001b[43mrasterio\u001b[49m\u001b[38;5;241;43m.\u001b[39;49m\u001b[43mopen\u001b[49m\u001b[43m(\u001b[49m\u001b[43mraster\u001b[49m\u001b[43m,\u001b[49m\u001b[43m \u001b[49m\u001b[38;5;124;43m\"\u001b[39;49m\u001b[38;5;124;43mr\u001b[39;49m\u001b[38;5;124;43m\"\u001b[39;49m\u001b[43m)\u001b[49m\n\u001b[1;32m    268\u001b[0m     \u001b[38;5;28mself\u001b[39m\u001b[38;5;241m.\u001b[39maffine \u001b[38;5;241m=\u001b[39m guard_transform(\u001b[38;5;28mself\u001b[39m\u001b[38;5;241m.\u001b[39msrc\u001b[38;5;241m.\u001b[39mtransform)\n\u001b[1;32m    269\u001b[0m     \u001b[38;5;28mself\u001b[39m\u001b[38;5;241m.\u001b[39mshape \u001b[38;5;241m=\u001b[39m (\u001b[38;5;28mself\u001b[39m\u001b[38;5;241m.\u001b[39msrc\u001b[38;5;241m.\u001b[39mheight, \u001b[38;5;28mself\u001b[39m\u001b[38;5;241m.\u001b[39msrc\u001b[38;5;241m.\u001b[39mwidth)\n",
      "File \u001b[0;32m~/anaconda3/envs/geowombat/lib/python3.8/site-packages/rasterio/env.py:451\u001b[0m, in \u001b[0;36mensure_env_with_credentials.<locals>.wrapper\u001b[0;34m(*args, **kwds)\u001b[0m\n\u001b[1;32m    448\u001b[0m     session \u001b[38;5;241m=\u001b[39m DummySession()\n\u001b[1;32m    450\u001b[0m \u001b[38;5;28;01mwith\u001b[39;00m env_ctor(session\u001b[38;5;241m=\u001b[39msession):\n\u001b[0;32m--> 451\u001b[0m     \u001b[38;5;28;01mreturn\u001b[39;00m \u001b[43mf\u001b[49m\u001b[43m(\u001b[49m\u001b[38;5;241;43m*\u001b[39;49m\u001b[43margs\u001b[49m\u001b[43m,\u001b[49m\u001b[43m \u001b[49m\u001b[38;5;241;43m*\u001b[39;49m\u001b[38;5;241;43m*\u001b[39;49m\u001b[43mkwds\u001b[49m\u001b[43m)\u001b[49m\n",
      "File \u001b[0;32m~/anaconda3/envs/geowombat/lib/python3.8/site-packages/rasterio/__init__.py:304\u001b[0m, in \u001b[0;36mopen\u001b[0;34m(fp, mode, driver, width, height, count, crs, transform, dtype, nodata, sharing, **kwargs)\u001b[0m\n\u001b[1;32m    301\u001b[0m path \u001b[38;5;241m=\u001b[39m _parse_path(raw_dataset_path)\n\u001b[1;32m    303\u001b[0m \u001b[38;5;28;01mif\u001b[39;00m mode \u001b[38;5;241m==\u001b[39m \u001b[38;5;124m\"\u001b[39m\u001b[38;5;124mr\u001b[39m\u001b[38;5;124m\"\u001b[39m:\n\u001b[0;32m--> 304\u001b[0m     dataset \u001b[38;5;241m=\u001b[39m \u001b[43mDatasetReader\u001b[49m\u001b[43m(\u001b[49m\u001b[43mpath\u001b[49m\u001b[43m,\u001b[49m\u001b[43m \u001b[49m\u001b[43mdriver\u001b[49m\u001b[38;5;241;43m=\u001b[39;49m\u001b[43mdriver\u001b[49m\u001b[43m,\u001b[49m\u001b[43m \u001b[49m\u001b[43msharing\u001b[49m\u001b[38;5;241;43m=\u001b[39;49m\u001b[43msharing\u001b[49m\u001b[43m,\u001b[49m\u001b[43m \u001b[49m\u001b[38;5;241;43m*\u001b[39;49m\u001b[38;5;241;43m*\u001b[39;49m\u001b[43mkwargs\u001b[49m\u001b[43m)\u001b[49m\n\u001b[1;32m    305\u001b[0m \u001b[38;5;28;01melif\u001b[39;00m mode \u001b[38;5;241m==\u001b[39m \u001b[38;5;124m\"\u001b[39m\u001b[38;5;124mr+\u001b[39m\u001b[38;5;124m\"\u001b[39m:\n\u001b[1;32m    306\u001b[0m     dataset \u001b[38;5;241m=\u001b[39m get_writer_for_path(path, driver\u001b[38;5;241m=\u001b[39mdriver)(\n\u001b[1;32m    307\u001b[0m         path, mode, driver\u001b[38;5;241m=\u001b[39mdriver, sharing\u001b[38;5;241m=\u001b[39msharing, \u001b[38;5;241m*\u001b[39m\u001b[38;5;241m*\u001b[39mkwargs\n\u001b[1;32m    308\u001b[0m     )\n",
      "File \u001b[0;32mrasterio/_base.pyx:312\u001b[0m, in \u001b[0;36mrasterio._base.DatasetBase.__init__\u001b[0;34m()\u001b[0m\n",
      "\u001b[0;31mRasterioIOError\u001b[0m: 'tif_files_group4/GHS_BUILT_C_MSZ_E2018_GLOBE_R2023A_54009_10_V1_0_R10_C10.tif' not recognized as a supported file format."
     ]
    }
   ],
   "source": [
    "# Iterar sobre cada archivo raster\n",
    "for raster_path in raster_files:\n",
    "    # Calcular estadísticas zonales\n",
    "    stats = zonal_stats(departments, raster_path, stats=\"count sum\", categorical=True, all_touched=True)\n",
    "    # Convertir estadísticas a DataFrame\n",
    "    stats_df = pd.DataFrame(stats)\n",
    "    # Concatenar con la geometría y la información de los departamentos\n",
    "    df = pd.concat([departments.reset_index(drop=True), stats_df], axis=1)\n",
    "    all_stats.append(df)"
   ]
  },
  {
   "cell_type": "code",
   "execution_count": null,
   "id": "eb35731f-7b16-4913-bf29-33f5e9ea97a0",
   "metadata": {},
   "outputs": [],
   "source": [
    "# Combinar resultados si hay múltiples DataFrames\n",
    "# Suponiendo que 'count' representa el número de píxeles de MSZ por departamento\n",
    "# final_stats = pd.concat(all_stats).groupby('NOMBRE_DEPARTAMENTO').sum().reset_index()"
   ]
  },
  {
   "cell_type": "code",
   "execution_count": null,
   "id": "c6c5a834-41d6-4bed-a89a-4860c11eb07c",
   "metadata": {},
   "outputs": [],
   "source": [
    "#Especificar Variables de MSZ:  Identificar qué valores en el raster representan las \"15 variables\" mencionadas. \n",
    "#Esto puede referirse a diferentes tipos de cobertura de MSZ identificados por valores únicos en el raster. \n",
    "\n",
    "# Calcular el Porcentaje de Cobertura: Para cada departamento, calcular el porcentaje del área cubierta por cada una de las variables de MSZ. \n",
    "# Esto implica dividir el área cubierta por cada valor de MSZ por el área total del departamento y multiplicar por 100.\n",
    "\n",
    "\n",
    "# Se tiene un DataFrame 'df' resultante de 'zonal_stats'\n",
    "\n",
    "# Calcular el área total del departamento en metros cuadrados (o la unidad de área correspondiente en 'esri:54009')\n",
    "# puede requerir una conversión adicional dependiendo del CRS de 'departments'\n",
    "\n",
    "# Para cada valor de MSZ, calcular el porcentaje de cobertura. Esto podría implicar iterar sobre los valores únicos\n",
    "# en el raster y calcular el área cubierta por cada uno, dividiendo por el área total del departamento.\n",
    "# La implementación exacta dependerá de cómo 'zonal_stats' devuelve los conteos y sumas para cada categoría (valor de MSZ).\n"
   ]
  }
 ],
 "metadata": {
  "kernelspec": {
   "display_name": "Python 3 (ipykernel)",
   "language": "python",
   "name": "python3"
  },
  "language_info": {
   "codemirror_mode": {
    "name": "ipython",
    "version": 3
   },
   "file_extension": ".py",
   "mimetype": "text/x-python",
   "name": "python",
   "nbconvert_exporter": "python",
   "pygments_lexer": "ipython3",
   "version": "3.8.18"
  }
 },
 "nbformat": 4,
 "nbformat_minor": 5
}
