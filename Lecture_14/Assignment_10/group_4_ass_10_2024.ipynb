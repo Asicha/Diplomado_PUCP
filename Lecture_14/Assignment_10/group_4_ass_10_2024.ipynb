{
 "cells": [
  {
   "cell_type": "markdown",
   "id": "1889ae99",
   "metadata": {},
   "source": [
    "# 1. Get the 15 variables from this raster for all Peru departments polygons"
   ]
  },
  {
   "cell_type": "code",
   "execution_count": 1,
   "id": "37ccc0e7",
   "metadata": {},
   "outputs": [
    {
     "name": "stdout",
     "output_type": "stream",
     "text": [
      "Requirement already satisfied: rasterio in /Users/isaisilva/anaconda3/lib/python3.11/site-packages (1.3.9)\n",
      "Requirement already satisfied: affine in /Users/isaisilva/anaconda3/lib/python3.11/site-packages (from rasterio) (2.4.0)\n",
      "Requirement already satisfied: attrs in /Users/isaisilva/anaconda3/lib/python3.11/site-packages (from rasterio) (22.1.0)\n",
      "Requirement already satisfied: certifi in /Users/isaisilva/anaconda3/lib/python3.11/site-packages (from rasterio) (2024.2.2)\n",
      "Requirement already satisfied: click>=4.0 in /Users/isaisilva/anaconda3/lib/python3.11/site-packages (from rasterio) (8.0.4)\n",
      "Requirement already satisfied: cligj>=0.5 in /Users/isaisilva/anaconda3/lib/python3.11/site-packages (from rasterio) (0.7.2)\n",
      "Requirement already satisfied: numpy in /Users/isaisilva/anaconda3/lib/python3.11/site-packages (from rasterio) (1.24.3)\n",
      "Requirement already satisfied: snuggs>=1.4.1 in /Users/isaisilva/anaconda3/lib/python3.11/site-packages (from rasterio) (1.4.7)\n",
      "Requirement already satisfied: click-plugins in /Users/isaisilva/anaconda3/lib/python3.11/site-packages (from rasterio) (1.1.1)\n",
      "Requirement already satisfied: setuptools in /Users/isaisilva/anaconda3/lib/python3.11/site-packages (from rasterio) (68.0.0)\n",
      "Requirement already satisfied: pyparsing>=2.1.6 in /Users/isaisilva/anaconda3/lib/python3.11/site-packages (from snuggs>=1.4.1->rasterio) (3.0.9)\n",
      "Note: you may need to restart the kernel to use updated packages.\n"
     ]
    }
   ],
   "source": [
    "pip install rasterio"
   ]
  },
  {
   "cell_type": "code",
   "execution_count": 2,
   "id": "e6c5e72a",
   "metadata": {},
   "outputs": [],
   "source": [
    "import geopandas as gpd\n",
    "import rasterio\n",
    "from rasterio.merge import merge\n",
    "from rasterio.plot import show\n",
    "from shapely.geometry import mapping"
   ]
  },
  {
   "cell_type": "code",
   "execution_count": 3,
   "id": "015069ed",
   "metadata": {},
   "outputs": [
    {
     "name": "stdout",
     "output_type": "stream",
     "text": [
      "   OBJECTID_1  OBJECTID CCDD   NOMBDEP      CAPITAL  Shape_STAr  Shape_STLe  \\\n",
      "0           1       1.0   01  AMAZONAS  CHACHAPOYAS    3.203006   12.912088   \n",
      "1           2       2.0   02    ANCASH       HUARAZ    2.954592   11.780424   \n",
      "2           3       3.0   03  APURIMAC      ABANCAY    1.765933    7.730154   \n",
      "3           4       4.0   04  AREQUIPA     AREQUIPA    5.330203   17.405040   \n",
      "4           5       5.0   05  AYACUCHO     AYACUCHO    3.643705   17.127166   \n",
      "\n",
      "   ORIG_FID  Shape_Leng  Shape_Area                    CORREO  \\\n",
      "0         0   12.912088    3.203006  juan.suyo@geogpsperu.com   \n",
      "1         1   11.780424    2.954592  juan.suyo@geogpsperu.com   \n",
      "2         2    7.730154    1.765933  juan.suyo@geogpsperu.com   \n",
      "3         3   17.405040    5.330203  juan.suyo@geogpsperu.com   \n",
      "4         4   17.127166    3.643705  juan.suyo@geogpsperu.com   \n",
      "\n",
      "             CONTACTO   WHATSAPP  \\\n",
      "0  www.geogpsperu.com  931381206   \n",
      "1  www.geogpsperu.com  931381206   \n",
      "2  www.geogpsperu.com  931381206   \n",
      "3  www.geogpsperu.com  931381206   \n",
      "4  www.geogpsperu.com  931381206   \n",
      "\n",
      "                                            geometry  \n",
      "0  POLYGON ((-77.81399 -2.99278, -77.81483 -2.995...  \n",
      "1  POLYGON ((-77.64697 -8.05086, -77.64689 -8.051...  \n",
      "2  POLYGON ((-73.74655 -13.17442, -73.74570 -13.1...  \n",
      "3  POLYGON ((-71.98109 -14.64062, -71.98093 -14.6...  \n",
      "4  POLYGON ((-74.34843 -12.17503, -74.35000 -12.1...  \n"
     ]
    }
   ],
   "source": [
    "import geopandas as gpd\n",
    "\n",
    "# Define the relative path to the shapefile from the notebook location\n",
    "shapefile_path = '../../_data/INEI_LIMITE_DEPARTAMENTAL/INEI_LIMITE_DEPARTAMENTAL.shp'\n",
    "\n",
    "# Read the shapefile using Geopandas\n",
    "departments = gpd.read_file(shapefile_path)\n",
    "\n",
    "print(departments.head())"
   ]
  },
  {
   "cell_type": "code",
   "execution_count": 4,
   "id": "53f16410",
   "metadata": {},
   "outputs": [
    {
     "ename": "ModuleNotFoundError",
     "evalue": "No module named 'geowombat'",
     "output_type": "error",
     "traceback": [
      "\u001b[0;31m---------------------------------------------------------------------------\u001b[0m",
      "\u001b[0;31mModuleNotFoundError\u001b[0m                       Traceback (most recent call last)",
      "Cell \u001b[0;32mIn[4], line 1\u001b[0m\n\u001b[0;32m----> 1\u001b[0m \u001b[38;5;28;01mimport\u001b[39;00m \u001b[38;5;21;01mgeowombat\u001b[39;00m \u001b[38;5;28;01mas\u001b[39;00m \u001b[38;5;21;01mgw\u001b[39;00m\n\u001b[1;32m      2\u001b[0m \u001b[38;5;28;01mfrom\u001b[39;00m \u001b[38;5;21;01mrasterio\u001b[39;00m\u001b[38;5;21;01m.\u001b[39;00m\u001b[38;5;21;01mmerge\u001b[39;00m \u001b[38;5;28;01mimport\u001b[39;00m merge\n",
      "\u001b[0;31mModuleNotFoundError\u001b[0m: No module named 'geowombat'"
     ]
    }
   ],
   "source": [
    "import geowombat as gw\n",
    "from rasterio.merge import merge"
   ]
  },
  {
   "cell_type": "code",
   "execution_count": 5,
   "id": "90d89da6",
   "metadata": {},
   "outputs": [],
   "source": [
    "# Leer los archivos .tif\n",
    "raster_files = ['tif_files_group4/GHS_BUILT_C_MSZ_E2018_GLOBE_R2023A_54009_10_V1_0_R10_C10.tif', 'tif_files_group4/GHS_BUILT_C_MSZ_E2018_GLOBE_R2023A_54009_10_V1_0_R10_C11.tif','tif_files_group4/GHS_BUILT_C_MSZ_E2018_GLOBE_R2023A_54009_10_V1_0_R10_C12.tif', 'tif_files_group4/GHS_BUILT_C_MSZ_E2018_GLOBE_R2023A_54009_10_V1_0_R11_C11.tif', 'tif_files_group4/GHS_BUILT_C_MSZ_E2018_GLOBE_R2023A_54009_10_V1_0_R11_C12.tif', 'tif_files_group4/GHS_BUILT_C_MSZ_E2018_GLOBE_R2023A_54009_10_V1_0_R12_C11.tif', 'tif_files_group4/GHS_BUILT_C_MSZ_E2018_GLOBE_R2023A_54009_10_V1_0_R12_C12.tif', 'tif_files_group4/GHS_BUILT_C_MSZ_E2018_GLOBE_R2023A_54009_10_V1_0_R9_C10.tif', 'tif_files_group4/GHS_BUILT_C_MSZ_E2018_GLOBE_R2023A_54009_10_V1_0_R9_C11.tif', 'tif_files_group4/GHS_BUILT_C_MSZ_E2018_GLOBE_R2023A_54009_10_V1_0_R9_C12.tif']"
   ]
  },
  {
   "cell_type": "code",
   "execution_count": null,
   "id": "4f69f61e",
   "metadata": {},
   "outputs": [],
   "source": [
    "# Abrir los archivos raster para la unión\n",
    "rasters_to_merge = [rasterio.open(file) for file in raster_files]"
   ]
  },
  {
   "cell_type": "code",
   "execution_count": null,
   "id": "6fa05836",
   "metadata": {},
   "outputs": [],
   "source": [
    "# Unir los rasters\n",
    "mosaic, out_transform = merge(rasters_to_merge) #AQUI ES DONDE SE TRABA LA CODIFICACIÓN. HASTA EL CÓDIGO ANTERIOR TODO CORREO BIEN."
   ]
  },
  {
   "cell_type": "code",
   "execution_count": null,
   "id": "3e1d6ef6",
   "metadata": {},
   "outputs": [],
   "source": [
    "# Mostrar el raster unido\n",
    "show(mosaic, transform=out_transform)"
   ]
  },
  {
   "cell_type": "code",
   "execution_count": null,
   "id": "9c3912be",
   "metadata": {},
   "outputs": [],
   "source": [
    "# Cerrar los archivos raster\n",
    "for raster in rasters_to_merge:\n",
    "    raster.close()"
   ]
  },
  {
   "cell_type": "code",
   "execution_count": null,
   "id": "8d192b0b",
   "metadata": {},
   "outputs": [],
   "source": [
    "# Realizar el análisis de zonificación para cada departamento\n",
    "for index, department in departments.iterrows():\n",
    "    # Convertir el polígono de departamento a formato que rasterio entiende\n",
    "    mask = [mapping(department.geometry)]\n",
    "\n",
    "    # Enmascarar el raster con el polígono del departamento, para obtener solo los valores dentro del departamento\n",
    "    out_image, out_transform = rasterio.mask.mask(src, mask, crop=True)\n",
    "    out_meta = src.meta\n",
    "\n",
    "    # Realización de cálculos\n",
    "    # ..."
   ]
  },
  {
   "cell_type": "code",
   "execution_count": null,
   "id": "420535db",
   "metadata": {},
   "outputs": [],
   "source": [
    "# Cerrar los archivos abiertos\n",
    "for src in src_files_to_mosaic:\n",
    "    src.close()"
   ]
  }
 ],
 "metadata": {
  "kernelspec": {
   "display_name": "Python 3 (ipykernel)",
   "language": "python",
   "name": "python3"
  },
  "language_info": {
   "codemirror_mode": {
    "name": "ipython",
    "version": 3
   },
   "file_extension": ".py",
   "mimetype": "text/x-python",
   "name": "python",
   "nbconvert_exporter": "python",
   "pygments_lexer": "ipython3",
   "version": "3.11.5"
  }
 },
 "nbformat": 4,
 "nbformat_minor": 5
}
