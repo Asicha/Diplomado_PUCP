{
  "cells": [
    {
      "cell_type": "markdown",
      "metadata": {
        "id": "view-in-github",
        "colab_type": "text"
      },
      "source": [
        "<a href=\"https://colab.research.google.com/github/alexanderquispe/Diplomado_PUCP/blob/group_4_ass_10_2024/Lecture_14/Assignment_10/group_4_ass_10_2024.ipynb\" target=\"_parent\"><img src=\"https://colab.research.google.com/assets/colab-badge.svg\" alt=\"Open In Colab\"/></a>"
      ]
    },
    {
      "cell_type": "markdown",
      "id": "22c53a66-e7cf-4349-a799-7fa4d39d91cd",
      "metadata": {
        "id": "22c53a66-e7cf-4349-a799-7fa4d39d91cd"
      },
      "source": [
        "# 1. Get the 15 variables from this raster for all Peru departments polygons"
      ]
    },
    {
      "cell_type": "markdown",
      "id": "a0bf2a2f-f5f7-4f77-bed9-1dc3d9cdd903",
      "metadata": {
        "id": "a0bf2a2f-f5f7-4f77-bed9-1dc3d9cdd903"
      },
      "source": [
        "## 1.1 Install and import"
      ]
    },
    {
      "cell_type": "code",
      "execution_count": 1,
      "id": "f6b6ac96-9dcd-450d-9021-df1748a7d837",
      "metadata": {
        "colab": {
          "base_uri": "https://localhost:8080/"
        },
        "id": "f6b6ac96-9dcd-450d-9021-df1748a7d837",
        "outputId": "18e3d041-b3e0-4488-e356-fdd15534010f"
      },
      "outputs": [
        {
          "output_type": "stream",
          "name": "stdout",
          "text": [
            "Collecting rasterio\n",
            "  Downloading rasterio-1.3.9-cp310-cp310-manylinux2014_x86_64.whl (20.6 MB)\n",
            "\u001b[2K     \u001b[90m━━━━━━━━━━━━━━━━━━━━━━━━━━━━━━━━━━━━━━━━\u001b[0m \u001b[32m20.6/20.6 MB\u001b[0m \u001b[31m36.7 MB/s\u001b[0m eta \u001b[36m0:00:00\u001b[0m\n",
            "\u001b[?25hCollecting affine (from rasterio)\n",
            "  Downloading affine-2.4.0-py3-none-any.whl (15 kB)\n",
            "Requirement already satisfied: attrs in /usr/local/lib/python3.10/dist-packages (from rasterio) (23.2.0)\n",
            "Requirement already satisfied: certifi in /usr/local/lib/python3.10/dist-packages (from rasterio) (2024.2.2)\n",
            "Requirement already satisfied: click>=4.0 in /usr/local/lib/python3.10/dist-packages (from rasterio) (8.1.7)\n",
            "Requirement already satisfied: cligj>=0.5 in /usr/local/lib/python3.10/dist-packages (from rasterio) (0.7.2)\n",
            "Requirement already satisfied: numpy in /usr/local/lib/python3.10/dist-packages (from rasterio) (1.25.2)\n",
            "Collecting snuggs>=1.4.1 (from rasterio)\n",
            "  Downloading snuggs-1.4.7-py3-none-any.whl (5.4 kB)\n",
            "Requirement already satisfied: click-plugins in /usr/local/lib/python3.10/dist-packages (from rasterio) (1.1.1)\n",
            "Requirement already satisfied: setuptools in /usr/local/lib/python3.10/dist-packages (from rasterio) (67.7.2)\n",
            "Requirement already satisfied: pyparsing>=2.1.6 in /usr/local/lib/python3.10/dist-packages (from snuggs>=1.4.1->rasterio) (3.1.1)\n",
            "Installing collected packages: snuggs, affine, rasterio\n",
            "Successfully installed affine-2.4.0 rasterio-1.3.9 snuggs-1.4.7\n"
          ]
        }
      ],
      "source": [
        "pip install rasterio"
      ]
    },
    {
      "cell_type": "code",
      "execution_count": 2,
      "id": "e908eb5f-0191-48c5-a4ed-a2c5bc4cc4b6",
      "metadata": {
        "colab": {
          "base_uri": "https://localhost:8080/"
        },
        "id": "e908eb5f-0191-48c5-a4ed-a2c5bc4cc4b6",
        "outputId": "17230db7-4135-4a1f-957b-4695fd0619e4"
      },
      "outputs": [
        {
          "output_type": "stream",
          "name": "stdout",
          "text": [
            "  Installing build dependencies ... \u001b[?25l\u001b[?25hdone\n",
            "  Getting requirements to build wheel ... \u001b[?25l\u001b[?25hdone\n",
            "  Preparing metadata (pyproject.toml) ... \u001b[?25l\u001b[?25hdone\n",
            "  Building wheel for sklearn-xarray (pyproject.toml) ... \u001b[?25l\u001b[?25hdone\n"
          ]
        }
      ],
      "source": [
        "%pip install geopandas matplotlib shapely rasterio numpy pandas sklearn-xarray -q"
      ]
    },
    {
      "cell_type": "code",
      "execution_count": 3,
      "id": "39cab28e-8825-42b9-98d4-1825e5751c27",
      "metadata": {
        "colab": {
          "base_uri": "https://localhost:8080/"
        },
        "id": "39cab28e-8825-42b9-98d4-1825e5751c27",
        "outputId": "50d30ce7-76d6-49e9-bbde-2ab4398c0d13"
      },
      "outputs": [
        {
          "output_type": "stream",
          "name": "stdout",
          "text": [
            "Requirement already satisfied: ipywidgets in /usr/local/lib/python3.10/dist-packages (7.7.1)\n",
            "Requirement already satisfied: ipykernel>=4.5.1 in /usr/local/lib/python3.10/dist-packages (from ipywidgets) (5.5.6)\n",
            "Requirement already satisfied: ipython-genutils~=0.2.0 in /usr/local/lib/python3.10/dist-packages (from ipywidgets) (0.2.0)\n",
            "Requirement already satisfied: traitlets>=4.3.1 in /usr/local/lib/python3.10/dist-packages (from ipywidgets) (5.7.1)\n",
            "Requirement already satisfied: widgetsnbextension~=3.6.0 in /usr/local/lib/python3.10/dist-packages (from ipywidgets) (3.6.6)\n",
            "Requirement already satisfied: ipython>=4.0.0 in /usr/local/lib/python3.10/dist-packages (from ipywidgets) (7.34.0)\n",
            "Requirement already satisfied: jupyterlab-widgets>=1.0.0 in /usr/local/lib/python3.10/dist-packages (from ipywidgets) (3.0.10)\n",
            "Requirement already satisfied: jupyter-client in /usr/local/lib/python3.10/dist-packages (from ipykernel>=4.5.1->ipywidgets) (6.1.12)\n",
            "Requirement already satisfied: tornado>=4.2 in /usr/local/lib/python3.10/dist-packages (from ipykernel>=4.5.1->ipywidgets) (6.3.2)\n",
            "Requirement already satisfied: setuptools>=18.5 in /usr/local/lib/python3.10/dist-packages (from ipython>=4.0.0->ipywidgets) (67.7.2)\n",
            "Collecting jedi>=0.16 (from ipython>=4.0.0->ipywidgets)\n",
            "  Downloading jedi-0.19.1-py2.py3-none-any.whl (1.6 MB)\n",
            "\u001b[2K     \u001b[90m━━━━━━━━━━━━━━━━━━━━━━━━━━━━━━━━━━━━━━━━\u001b[0m \u001b[32m1.6/1.6 MB\u001b[0m \u001b[31m9.1 MB/s\u001b[0m eta \u001b[36m0:00:00\u001b[0m\n",
            "\u001b[?25hRequirement already satisfied: decorator in /usr/local/lib/python3.10/dist-packages (from ipython>=4.0.0->ipywidgets) (4.4.2)\n",
            "Requirement already satisfied: pickleshare in /usr/local/lib/python3.10/dist-packages (from ipython>=4.0.0->ipywidgets) (0.7.5)\n",
            "Requirement already satisfied: prompt-toolkit!=3.0.0,!=3.0.1,<3.1.0,>=2.0.0 in /usr/local/lib/python3.10/dist-packages (from ipython>=4.0.0->ipywidgets) (3.0.43)\n",
            "Requirement already satisfied: pygments in /usr/local/lib/python3.10/dist-packages (from ipython>=4.0.0->ipywidgets) (2.16.1)\n",
            "Requirement already satisfied: backcall in /usr/local/lib/python3.10/dist-packages (from ipython>=4.0.0->ipywidgets) (0.2.0)\n",
            "Requirement already satisfied: matplotlib-inline in /usr/local/lib/python3.10/dist-packages (from ipython>=4.0.0->ipywidgets) (0.1.6)\n",
            "Requirement already satisfied: pexpect>4.3 in /usr/local/lib/python3.10/dist-packages (from ipython>=4.0.0->ipywidgets) (4.9.0)\n",
            "Requirement already satisfied: notebook>=4.4.1 in /usr/local/lib/python3.10/dist-packages (from widgetsnbextension~=3.6.0->ipywidgets) (6.5.5)\n",
            "Requirement already satisfied: parso<0.9.0,>=0.8.3 in /usr/local/lib/python3.10/dist-packages (from jedi>=0.16->ipython>=4.0.0->ipywidgets) (0.8.3)\n",
            "Requirement already satisfied: jinja2 in /usr/local/lib/python3.10/dist-packages (from notebook>=4.4.1->widgetsnbextension~=3.6.0->ipywidgets) (3.1.3)\n",
            "Requirement already satisfied: pyzmq<25,>=17 in /usr/local/lib/python3.10/dist-packages (from notebook>=4.4.1->widgetsnbextension~=3.6.0->ipywidgets) (23.2.1)\n",
            "Requirement already satisfied: argon2-cffi in /usr/local/lib/python3.10/dist-packages (from notebook>=4.4.1->widgetsnbextension~=3.6.0->ipywidgets) (23.1.0)\n",
            "Requirement already satisfied: jupyter-core>=4.6.1 in /usr/local/lib/python3.10/dist-packages (from notebook>=4.4.1->widgetsnbextension~=3.6.0->ipywidgets) (5.7.1)\n",
            "Requirement already satisfied: nbformat in /usr/local/lib/python3.10/dist-packages (from notebook>=4.4.1->widgetsnbextension~=3.6.0->ipywidgets) (5.9.2)\n",
            "Requirement already satisfied: nbconvert>=5 in /usr/local/lib/python3.10/dist-packages (from notebook>=4.4.1->widgetsnbextension~=3.6.0->ipywidgets) (6.5.4)\n",
            "Requirement already satisfied: nest-asyncio>=1.5 in /usr/local/lib/python3.10/dist-packages (from notebook>=4.4.1->widgetsnbextension~=3.6.0->ipywidgets) (1.6.0)\n",
            "Requirement already satisfied: Send2Trash>=1.8.0 in /usr/local/lib/python3.10/dist-packages (from notebook>=4.4.1->widgetsnbextension~=3.6.0->ipywidgets) (1.8.2)\n",
            "Requirement already satisfied: terminado>=0.8.3 in /usr/local/lib/python3.10/dist-packages (from notebook>=4.4.1->widgetsnbextension~=3.6.0->ipywidgets) (0.18.0)\n",
            "Requirement already satisfied: prometheus-client in /usr/local/lib/python3.10/dist-packages (from notebook>=4.4.1->widgetsnbextension~=3.6.0->ipywidgets) (0.20.0)\n",
            "Requirement already satisfied: nbclassic>=0.4.7 in /usr/local/lib/python3.10/dist-packages (from notebook>=4.4.1->widgetsnbextension~=3.6.0->ipywidgets) (1.0.0)\n",
            "Requirement already satisfied: python-dateutil>=2.1 in /usr/local/lib/python3.10/dist-packages (from jupyter-client->ipykernel>=4.5.1->ipywidgets) (2.8.2)\n",
            "Requirement already satisfied: ptyprocess>=0.5 in /usr/local/lib/python3.10/dist-packages (from pexpect>4.3->ipython>=4.0.0->ipywidgets) (0.7.0)\n",
            "Requirement already satisfied: wcwidth in /usr/local/lib/python3.10/dist-packages (from prompt-toolkit!=3.0.0,!=3.0.1,<3.1.0,>=2.0.0->ipython>=4.0.0->ipywidgets) (0.2.13)\n",
            "Requirement already satisfied: platformdirs>=2.5 in /usr/local/lib/python3.10/dist-packages (from jupyter-core>=4.6.1->notebook>=4.4.1->widgetsnbextension~=3.6.0->ipywidgets) (4.2.0)\n",
            "Requirement already satisfied: jupyter-server>=1.8 in /usr/local/lib/python3.10/dist-packages (from nbclassic>=0.4.7->notebook>=4.4.1->widgetsnbextension~=3.6.0->ipywidgets) (1.24.0)\n",
            "Requirement already satisfied: notebook-shim>=0.2.3 in /usr/local/lib/python3.10/dist-packages (from nbclassic>=0.4.7->notebook>=4.4.1->widgetsnbextension~=3.6.0->ipywidgets) (0.2.4)\n",
            "Requirement already satisfied: lxml in /usr/local/lib/python3.10/dist-packages (from nbconvert>=5->notebook>=4.4.1->widgetsnbextension~=3.6.0->ipywidgets) (4.9.4)\n",
            "Requirement already satisfied: beautifulsoup4 in /usr/local/lib/python3.10/dist-packages (from nbconvert>=5->notebook>=4.4.1->widgetsnbextension~=3.6.0->ipywidgets) (4.12.3)\n",
            "Requirement already satisfied: bleach in /usr/local/lib/python3.10/dist-packages (from nbconvert>=5->notebook>=4.4.1->widgetsnbextension~=3.6.0->ipywidgets) (6.1.0)\n",
            "Requirement already satisfied: defusedxml in /usr/local/lib/python3.10/dist-packages (from nbconvert>=5->notebook>=4.4.1->widgetsnbextension~=3.6.0->ipywidgets) (0.7.1)\n",
            "Requirement already satisfied: entrypoints>=0.2.2 in /usr/local/lib/python3.10/dist-packages (from nbconvert>=5->notebook>=4.4.1->widgetsnbextension~=3.6.0->ipywidgets) (0.4)\n",
            "Requirement already satisfied: jupyterlab-pygments in /usr/local/lib/python3.10/dist-packages (from nbconvert>=5->notebook>=4.4.1->widgetsnbextension~=3.6.0->ipywidgets) (0.3.0)\n",
            "Requirement already satisfied: MarkupSafe>=2.0 in /usr/local/lib/python3.10/dist-packages (from nbconvert>=5->notebook>=4.4.1->widgetsnbextension~=3.6.0->ipywidgets) (2.1.5)\n",
            "Requirement already satisfied: mistune<2,>=0.8.1 in /usr/local/lib/python3.10/dist-packages (from nbconvert>=5->notebook>=4.4.1->widgetsnbextension~=3.6.0->ipywidgets) (0.8.4)\n",
            "Requirement already satisfied: nbclient>=0.5.0 in /usr/local/lib/python3.10/dist-packages (from nbconvert>=5->notebook>=4.4.1->widgetsnbextension~=3.6.0->ipywidgets) (0.9.0)\n",
            "Requirement already satisfied: packaging in /usr/local/lib/python3.10/dist-packages (from nbconvert>=5->notebook>=4.4.1->widgetsnbextension~=3.6.0->ipywidgets) (23.2)\n",
            "Requirement already satisfied: pandocfilters>=1.4.1 in /usr/local/lib/python3.10/dist-packages (from nbconvert>=5->notebook>=4.4.1->widgetsnbextension~=3.6.0->ipywidgets) (1.5.1)\n",
            "Requirement already satisfied: tinycss2 in /usr/local/lib/python3.10/dist-packages (from nbconvert>=5->notebook>=4.4.1->widgetsnbextension~=3.6.0->ipywidgets) (1.2.1)\n",
            "Requirement already satisfied: fastjsonschema in /usr/local/lib/python3.10/dist-packages (from nbformat->notebook>=4.4.1->widgetsnbextension~=3.6.0->ipywidgets) (2.19.1)\n",
            "Requirement already satisfied: jsonschema>=2.6 in /usr/local/lib/python3.10/dist-packages (from nbformat->notebook>=4.4.1->widgetsnbextension~=3.6.0->ipywidgets) (4.19.2)\n",
            "Requirement already satisfied: six>=1.5 in /usr/local/lib/python3.10/dist-packages (from python-dateutil>=2.1->jupyter-client->ipykernel>=4.5.1->ipywidgets) (1.16.0)\n",
            "Requirement already satisfied: argon2-cffi-bindings in /usr/local/lib/python3.10/dist-packages (from argon2-cffi->notebook>=4.4.1->widgetsnbextension~=3.6.0->ipywidgets) (21.2.0)\n",
            "Requirement already satisfied: attrs>=22.2.0 in /usr/local/lib/python3.10/dist-packages (from jsonschema>=2.6->nbformat->notebook>=4.4.1->widgetsnbextension~=3.6.0->ipywidgets) (23.2.0)\n",
            "Requirement already satisfied: jsonschema-specifications>=2023.03.6 in /usr/local/lib/python3.10/dist-packages (from jsonschema>=2.6->nbformat->notebook>=4.4.1->widgetsnbextension~=3.6.0->ipywidgets) (2023.12.1)\n",
            "Requirement already satisfied: referencing>=0.28.4 in /usr/local/lib/python3.10/dist-packages (from jsonschema>=2.6->nbformat->notebook>=4.4.1->widgetsnbextension~=3.6.0->ipywidgets) (0.33.0)\n",
            "Requirement already satisfied: rpds-py>=0.7.1 in /usr/local/lib/python3.10/dist-packages (from jsonschema>=2.6->nbformat->notebook>=4.4.1->widgetsnbextension~=3.6.0->ipywidgets) (0.18.0)\n",
            "Requirement already satisfied: anyio<4,>=3.1.0 in /usr/local/lib/python3.10/dist-packages (from jupyter-server>=1.8->nbclassic>=0.4.7->notebook>=4.4.1->widgetsnbextension~=3.6.0->ipywidgets) (3.7.1)\n",
            "Requirement already satisfied: websocket-client in /usr/local/lib/python3.10/dist-packages (from jupyter-server>=1.8->nbclassic>=0.4.7->notebook>=4.4.1->widgetsnbextension~=3.6.0->ipywidgets) (1.7.0)\n",
            "Requirement already satisfied: cffi>=1.0.1 in /usr/local/lib/python3.10/dist-packages (from argon2-cffi-bindings->argon2-cffi->notebook>=4.4.1->widgetsnbextension~=3.6.0->ipywidgets) (1.16.0)\n",
            "Requirement already satisfied: soupsieve>1.2 in /usr/local/lib/python3.10/dist-packages (from beautifulsoup4->nbconvert>=5->notebook>=4.4.1->widgetsnbextension~=3.6.0->ipywidgets) (2.5)\n",
            "Requirement already satisfied: webencodings in /usr/local/lib/python3.10/dist-packages (from bleach->nbconvert>=5->notebook>=4.4.1->widgetsnbextension~=3.6.0->ipywidgets) (0.5.1)\n",
            "Requirement already satisfied: idna>=2.8 in /usr/local/lib/python3.10/dist-packages (from anyio<4,>=3.1.0->jupyter-server>=1.8->nbclassic>=0.4.7->notebook>=4.4.1->widgetsnbextension~=3.6.0->ipywidgets) (3.6)\n",
            "Requirement already satisfied: sniffio>=1.1 in /usr/local/lib/python3.10/dist-packages (from anyio<4,>=3.1.0->jupyter-server>=1.8->nbclassic>=0.4.7->notebook>=4.4.1->widgetsnbextension~=3.6.0->ipywidgets) (1.3.1)\n",
            "Requirement already satisfied: exceptiongroup in /usr/local/lib/python3.10/dist-packages (from anyio<4,>=3.1.0->jupyter-server>=1.8->nbclassic>=0.4.7->notebook>=4.4.1->widgetsnbextension~=3.6.0->ipywidgets) (1.2.0)\n",
            "Requirement already satisfied: pycparser in /usr/local/lib/python3.10/dist-packages (from cffi>=1.0.1->argon2-cffi-bindings->argon2-cffi->notebook>=4.4.1->widgetsnbextension~=3.6.0->ipywidgets) (2.21)\n",
            "Installing collected packages: jedi\n",
            "Successfully installed jedi-0.19.1\n",
            "usage: jupyter [-h] [--version] [--config-dir] [--data-dir] [--runtime-dir] [--paths] [--json]\n",
            "               [--debug]\n",
            "               [subcommand]\n",
            "\n",
            "Jupyter: Interactive Computing\n",
            "\n",
            "positional arguments:\n",
            "  subcommand     the subcommand to launch\n",
            "\n",
            "options:\n",
            "  -h, --help     show this help message and exit\n",
            "  --version      show the versions of core jupyter packages and exit\n",
            "  --config-dir   show Jupyter config dir\n",
            "  --data-dir     show Jupyter data dir\n",
            "  --runtime-dir  show Jupyter runtime dir\n",
            "  --paths        show all Jupyter paths. Add --json for machine-readable format.\n",
            "  --json         output paths as machine-readable json\n",
            "  --debug        output debug information about paths\n",
            "\n",
            "Available subcommands: bundlerextension console dejavu execute kernel kernelspec migrate nbclassic\n",
            "nbconvert nbextension notebook run server serverextension troubleshoot trust\n",
            "\n",
            "Jupyter command `jupyter-labextension` not found.\n"
          ]
        }
      ],
      "source": [
        "!pip install ipywidgets\n",
        "!jupyter labextension install @jupyter-widgets/jupyterlab-manager"
      ]
    },
    {
      "cell_type": "code",
      "execution_count": 4,
      "id": "6e947c03-506d-4aed-9422-a727b0debce8",
      "metadata": {
        "colab": {
          "base_uri": "https://localhost:8080/"
        },
        "id": "6e947c03-506d-4aed-9422-a727b0debce8",
        "outputId": "c558704c-c063-4c21-f6f2-7af84d288546"
      },
      "outputs": [
        {
          "output_type": "stream",
          "name": "stdout",
          "text": [
            "Collecting rasterstats\n",
            "  Downloading rasterstats-0.19.0-py3-none-any.whl (16 kB)\n",
            "Requirement already satisfied: affine in /usr/local/lib/python3.10/dist-packages (from rasterstats) (2.4.0)\n",
            "Requirement already satisfied: click>7.1 in /usr/local/lib/python3.10/dist-packages (from rasterstats) (8.1.7)\n",
            "Requirement already satisfied: cligj>=0.4 in /usr/local/lib/python3.10/dist-packages (from rasterstats) (0.7.2)\n",
            "Requirement already satisfied: fiona in /usr/local/lib/python3.10/dist-packages (from rasterstats) (1.9.5)\n",
            "Requirement already satisfied: numpy>=1.9 in /usr/local/lib/python3.10/dist-packages (from rasterstats) (1.25.2)\n",
            "Requirement already satisfied: rasterio>=1.0 in /usr/local/lib/python3.10/dist-packages (from rasterstats) (1.3.9)\n",
            "Collecting simplejson (from rasterstats)\n",
            "  Downloading simplejson-3.19.2-cp310-cp310-manylinux_2_5_x86_64.manylinux1_x86_64.manylinux_2_17_x86_64.manylinux2014_x86_64.whl (137 kB)\n",
            "\u001b[2K     \u001b[90m━━━━━━━━━━━━━━━━━━━━━━━━━━━━━━━━━━━━━━━━\u001b[0m \u001b[32m137.9/137.9 kB\u001b[0m \u001b[31m4.1 MB/s\u001b[0m eta \u001b[36m0:00:00\u001b[0m\n",
            "\u001b[?25hRequirement already satisfied: shapely in /usr/local/lib/python3.10/dist-packages (from rasterstats) (2.0.3)\n",
            "Requirement already satisfied: attrs in /usr/local/lib/python3.10/dist-packages (from rasterio>=1.0->rasterstats) (23.2.0)\n",
            "Requirement already satisfied: certifi in /usr/local/lib/python3.10/dist-packages (from rasterio>=1.0->rasterstats) (2024.2.2)\n",
            "Requirement already satisfied: snuggs>=1.4.1 in /usr/local/lib/python3.10/dist-packages (from rasterio>=1.0->rasterstats) (1.4.7)\n",
            "Requirement already satisfied: click-plugins in /usr/local/lib/python3.10/dist-packages (from rasterio>=1.0->rasterstats) (1.1.1)\n",
            "Requirement already satisfied: setuptools in /usr/local/lib/python3.10/dist-packages (from rasterio>=1.0->rasterstats) (67.7.2)\n",
            "Requirement already satisfied: six in /usr/local/lib/python3.10/dist-packages (from fiona->rasterstats) (1.16.0)\n",
            "Requirement already satisfied: pyparsing>=2.1.6 in /usr/local/lib/python3.10/dist-packages (from snuggs>=1.4.1->rasterio>=1.0->rasterstats) (3.1.1)\n",
            "Installing collected packages: simplejson, rasterstats\n",
            "Successfully installed rasterstats-0.19.0 simplejson-3.19.2\n"
          ]
        }
      ],
      "source": [
        "pip install rasterstats"
      ]
    },
    {
      "cell_type": "code",
      "source": [
        "%pip install geopandas matplotlib shapely rasterio numpy pandas sklearn-xarray -q\n",
        "%pip install git+https://github.com/jgrss/geowombat  -q"
      ],
      "metadata": {
        "colab": {
          "base_uri": "https://localhost:8080/"
        },
        "id": "TXctZeLGbb7Z",
        "outputId": "177f99de-86e0-4f75-fc0e-88ddd6df9282"
      },
      "id": "TXctZeLGbb7Z",
      "execution_count": 5,
      "outputs": [
        {
          "output_type": "stream",
          "name": "stdout",
          "text": [
            "  Installing build dependencies ... \u001b[?25l\u001b[?25hdone\n",
            "  Getting requirements to build wheel ... \u001b[?25l\u001b[?25hdone\n",
            "  Preparing metadata (pyproject.toml) ... \u001b[?25l\u001b[?25hdone\n",
            "\u001b[2K     \u001b[90m━━━━━━━━━━━━━━━━━━━━━━━━━━━━━━━━━━━━━━━━\u001b[0m \u001b[32m7.7/7.7 MB\u001b[0m \u001b[31m18.1 MB/s\u001b[0m eta \u001b[36m0:00:00\u001b[0m\n",
            "\u001b[2K     \u001b[90m━━━━━━━━━━━━━━━━━━━━━━━━━━━━━━━━━━━━━━━━\u001b[0m \u001b[32m98.7/98.7 kB\u001b[0m \u001b[31m9.0 MB/s\u001b[0m eta \u001b[36m0:00:00\u001b[0m\n",
            "\u001b[?25h  Building wheel for geowombat (pyproject.toml) ... \u001b[?25l\u001b[?25hdone\n"
          ]
        }
      ]
    },
    {
      "cell_type": "code",
      "execution_count": 6,
      "id": "6276ce86-84d6-4f15-adac-681e288ca9b8",
      "metadata": {
        "id": "6276ce86-84d6-4f15-adac-681e288ca9b8"
      },
      "outputs": [],
      "source": [
        "import geopandas as gpd\n",
        "from rasterstats import zonal_stats\n",
        "import pandas as pd\n",
        "import geowombat as gw"
      ]
    },
    {
      "cell_type": "code",
      "execution_count": 7,
      "id": "e5b99388-47bb-4cbf-8472-75bbef2c57ce",
      "metadata": {
        "id": "e5b99388-47bb-4cbf-8472-75bbef2c57ce"
      },
      "outputs": [],
      "source": [
        "import geopandas as gpd\n",
        "import rasterio\n",
        "from rasterio.merge import merge\n",
        "from rasterio.plot import show\n",
        "from shapely.geometry import mapping\n",
        "import rasterio\n",
        "import rasterio\n",
        "\n",
        "# import plotting\n",
        "from pathlib import Path\n",
        "import matplotlib.pyplot as plt\n",
        "import matplotlib.patheffects as pe\n",
        "\n",
        "import os\n",
        "from rasterio.mask import mask"
      ]
    },
    {
      "cell_type": "markdown",
      "id": "b86f7ccd-7bb4-45ff-b1b6-499e27e88105",
      "metadata": {
        "id": "b86f7ccd-7bb4-45ff-b1b6-499e27e88105"
      },
      "source": [
        "# 1.2"
      ]
    },
    {
      "cell_type": "code",
      "source": [
        "from google.colab import drive\n",
        "drive.mount('/content/drive')"
      ],
      "metadata": {
        "colab": {
          "base_uri": "https://localhost:8080/"
        },
        "id": "G7-JrQXadSzS",
        "outputId": "19c9fe82-c6a9-4623-8012-7cfd3c0c65ea"
      },
      "id": "G7-JrQXadSzS",
      "execution_count": 34,
      "outputs": [
        {
          "output_type": "stream",
          "name": "stdout",
          "text": [
            "Drive already mounted at /content/drive; to attempt to forcibly remount, call drive.mount(\"/content/drive\", force_remount=True).\n"
          ]
        }
      ]
    },
    {
      "cell_type": "code",
      "source": [
        "from google.colab import drive\n",
        "drive.mount('/content/drive', force_remount=True)"
      ],
      "metadata": {
        "colab": {
          "base_uri": "https://localhost:8080/"
        },
        "id": "yzRIlQBSiR-S",
        "outputId": "ee547df6-5dff-46b6-b4d3-adabfeb24dd4"
      },
      "id": "yzRIlQBSiR-S",
      "execution_count": 36,
      "outputs": [
        {
          "output_type": "stream",
          "name": "stdout",
          "text": [
            "Mounted at /content/drive\n"
          ]
        }
      ]
    },
    {
      "cell_type": "code",
      "execution_count": 38,
      "id": "aca36b2d-7f00-4d6d-99f3-f9403baff695",
      "metadata": {
        "colab": {
          "base_uri": "https://localhost:8080/"
        },
        "id": "aca36b2d-7f00-4d6d-99f3-f9403baff695",
        "outputId": "acd4f206-3015-458f-90ea-50d19f0d156b"
      },
      "outputs": [
        {
          "output_type": "stream",
          "name": "stdout",
          "text": [
            "  CCDD    NOMBDEP CCPP    NOMBPROV CCDI      NOMBDIST          CAPITAL  \\\n",
            "0   06  CAJAMARCA   05   CONTUMAZA   04      GUZMANGO         GUZMANGO   \n",
            "1   06  CAJAMARCA   11  SAN MIGUEL   05      EL PRADO         EL PRADO   \n",
            "2   06  CAJAMARCA   11  SAN MIGUEL   09        NIEPOS           NIEPOS   \n",
            "3   06  CAJAMARCA   11  SAN MIGUEL   10  SAN GREGORIO     SAN GREGORIO   \n",
            "4   06  CAJAMARCA   12   SAN PABLO   03      SAN LUIS  SAN LUIS GRANDE   \n",
            "\n",
            "   UBIGEO IDPROV  CODIGO  CNT_CCPP    DESCRIPCIO           DESCARGAR  \\\n",
            "0  060504   0605  060504        50      GUZMANGO  www.geogpsperu.com   \n",
            "1  061105   0611  061105        15      EL PRADO  www.geogpsperu.com   \n",
            "2  061109   0611  061109        41        NIEPOS  www.geogpsperu.com   \n",
            "3  061110   0611  061110        48  SAN GREGORIO  www.geogpsperu.com   \n",
            "4  061203   0612  061203         9      SAN LUIS  www.geogpsperu.com   \n",
            "\n",
            "    WHATSAPP                  CONTACTO  \\\n",
            "0  931381206  juan.suyo@geogpsperu.com   \n",
            "1  931381206  juan.suyo@geogpsperu.com   \n",
            "2  931381206  juan.suyo@geogpsperu.com   \n",
            "3  931381206  juan.suyo@geogpsperu.com   \n",
            "4  931381206  juan.suyo@geogpsperu.com   \n",
            "\n",
            "                                            geometry  \n",
            "0  POLYGON ((-7869313.928 -904241.774, -7869091.5...  \n",
            "1  POLYGON ((-7883126.402 -860922.524, -7883026.2...  \n",
            "2  POLYGON ((-7904306.283 -846404.901, -7904191.3...  \n",
            "3  POLYGON ((-7889290.055 -865359.352, -7889093.6...  \n",
            "4  POLYGON ((-7867764.646 -876705.022, -7867607.1...  \n"
          ]
        }
      ],
      "source": [
        "import geopandas as gpd\n",
        "\n",
        "# Ruta al shapefile\n",
        "shapefile_path = '/content/drive/MyDrive/Assign 10/INEI_LIMITE_DEPARTAMENTAL/INEI_LIMITE_DEPARTAMENTAL.shp'\n",
        "\n",
        "# Leer el shapefile usando Geopandas\n",
        "departments = gpd.read_file(shapefile_path)\n",
        "\n",
        "# Transformar el CRS de los departamentos al CRS del raster si es necesario\n",
        "# Asumiendo que los rasters están en 'esri:54009'\n",
        "departments = departments.to_crs('esri:54009')\n",
        "\n",
        "print(departments.head())"
      ]
    },
    {
      "cell_type": "code",
      "execution_count": 43,
      "id": "7fca7a4b-1277-4719-bcf3-9c8baee28f13",
      "metadata": {
        "id": "7fca7a4b-1277-4719-bcf3-9c8baee28f13"
      },
      "outputs": [],
      "source": [
        "import rasterio\n",
        "from rasterio.merge import merge\n",
        "import rasterio\n",
        "from rasterio.mask import mask\n",
        "import pandas as pd"
      ]
    },
    {
      "cell_type": "code",
      "execution_count": 44,
      "id": "1d92ce03-a588-4524-847a-73e64950fb98",
      "metadata": {
        "id": "1d92ce03-a588-4524-847a-73e64950fb98"
      },
      "outputs": [],
      "source": [
        "# Rutas a los archivos raster\n",
        "raster_files = ['/content/drive/MyDrive/Assign 10/tif_files_group4/GHS_BUILT_C_MSZ_E2018_GLOBE_R2023A_54009_10_V1_0_R10_C10.tif',\n",
        "                '/content/drive/MyDrive/Assign 10/tif_files_group4/GHS_BUILT_C_MSZ_E2018_GLOBE_R2023A_54009_10_V1_0_R10_C11.tif',\n",
        "                '/content/drive/MyDrive/Assign 10/tif_files_group4/GHS_BUILT_C_MSZ_E2018_GLOBE_R2023A_54009_10_V1_0_R10_C12.tif',\n",
        "                '/content/drive/MyDrive/Assign 10/tif_files_group4/GHS_BUILT_C_MSZ_E2018_GLOBE_R2023A_54009_10_V1_0_R11_C11.tif',\n",
        "                '/content/drive/MyDrive/Assign 10/tif_files_group4/GHS_BUILT_C_MSZ_E2018_GLOBE_R2023A_54009_10_V1_0_R11_C12.tif',\n",
        "                '/content/drive/MyDrive/Assign 10/tif_files_group4/GHS_BUILT_C_MSZ_E2018_GLOBE_R2023A_54009_10_V1_0_R12_C11.tif',\n",
        "                '/content/drive/MyDrive/Assign 10//tif_files_group4/GHS_BUILT_C_MSZ_E2018_GLOBE_R2023A_54009_10_V1_0_R12_C12.tif',\n",
        "                '/content/drive/MyDrive/Assign 10/tif_files_group4/GHS_BUILT_C_MSZ_E2018_GLOBE_R2023A_54009_10_V1_0_R9_C10.tif',\n",
        "                '/content/drive/MyDrive/Assign 10/tif_files_group4/GHS_BUILT_C_MSZ_E2018_GLOBE_R2023A_54009_10_V1_0_R9_C11.tif',\n",
        "                '/content/drive/MyDrive/Assign 10/tif_files_group4/GHS_BUILT_C_MSZ_E2018_GLOBE_R2023A_54009_10_V1_0_R9_C12.tif']"
      ]
    },
    {
      "cell_type": "code",
      "execution_count": 45,
      "id": "bb2170c1-6775-4512-98e1-3f85773e1e08",
      "metadata": {
        "id": "bb2170c1-6775-4512-98e1-3f85773e1e08"
      },
      "outputs": [],
      "source": [
        "# Inicializar lista para almacenar los resultados de cada raster\n",
        "all_stats = []"
      ]
    },
    {
      "cell_type": "code",
      "execution_count": 46,
      "id": "23974088-a7aa-4db9-8712-678866100218",
      "metadata": {
        "id": "23974088-a7aa-4db9-8712-678866100218"
      },
      "outputs": [],
      "source": [
        "# Iterar sobre cada archivo raster\n",
        "for raster_path in raster_files:\n",
        "    # Calcular estadísticas zonales\n",
        "    stats = zonal_stats(departments, raster_path, stats=\"count sum\", categorical=True, all_touched=True)\n",
        "    # Convertir estadísticas a DataFrame\n",
        "    stats_df = pd.DataFrame(stats)\n",
        "    # Concatenar con la geometría y la información de los departamentos\n",
        "    df = pd.concat([departments.reset_index(drop=True), stats_df], axis=1)\n",
        "    all_stats.append(df)"
      ]
    },
    {
      "cell_type": "code",
      "source": [
        "# Concatenar todos los DataFrames en all_stats en un único DataFrame\n",
        "final_df = pd.concat(all_stats, ignore_index=True)\n",
        "\n",
        "# Verificar el resultado\n",
        "print(final_df.head())\n",
        "print(f\"Total de filas en el DataFrame consolidado: {len(final_df)}\")"
      ],
      "metadata": {
        "colab": {
          "base_uri": "https://localhost:8080/"
        },
        "id": "TQDyE62s-UxK",
        "outputId": "d01995ee-96f7-4211-8b0b-6d7f967f9489"
      },
      "id": "TQDyE62s-UxK",
      "execution_count": 47,
      "outputs": [
        {
          "output_type": "stream",
          "name": "stdout",
          "text": [
            "  CCDD    NOMBDEP CCPP    NOMBPROV CCDI      NOMBDIST          CAPITAL  \\\n",
            "0   06  CAJAMARCA   05   CONTUMAZA   04      GUZMANGO         GUZMANGO   \n",
            "1   06  CAJAMARCA   11  SAN MIGUEL   05      EL PRADO         EL PRADO   \n",
            "2   06  CAJAMARCA   11  SAN MIGUEL   09        NIEPOS           NIEPOS   \n",
            "3   06  CAJAMARCA   11  SAN MIGUEL   10  SAN GREGORIO     SAN GREGORIO   \n",
            "4   06  CAJAMARCA   12   SAN PABLO   03      SAN LUIS  SAN LUIS GRANDE   \n",
            "\n",
            "   UBIGEO IDPROV  CODIGO  ...  11  12  13  21  22  23  14  24  15  25  \n",
            "0  060504   0605  060504  ... NaN NaN NaN NaN NaN NaN NaN NaN NaN NaN  \n",
            "1  061105   0611  061105  ... NaN NaN NaN NaN NaN NaN NaN NaN NaN NaN  \n",
            "2  061109   0611  061109  ... NaN NaN NaN NaN NaN NaN NaN NaN NaN NaN  \n",
            "3  061110   0611  061110  ... NaN NaN NaN NaN NaN NaN NaN NaN NaN NaN  \n",
            "4  061203   0612  061203  ... NaN NaN NaN NaN NaN NaN NaN NaN NaN NaN  \n",
            "\n",
            "[5 rows x 34 columns]\n",
            "Total de filas en el DataFrame consolidado: 18740\n"
          ]
        }
      ]
    },
    {
      "cell_type": "code",
      "source": [
        "# Verificar si hay valores nulos o datos faltantes que necesiten ser tratados\n",
        "print(final_df.isnull().sum())"
      ],
      "metadata": {
        "colab": {
          "base_uri": "https://localhost:8080/"
        },
        "id": "zBgDStGd-ejB",
        "outputId": "a5062d8a-56b2-4990-f18a-4731cf0ba24b"
      },
      "id": "zBgDStGd-ejB",
      "execution_count": 48,
      "outputs": [
        {
          "output_type": "stream",
          "name": "stdout",
          "text": [
            "CCDD              0\n",
            "NOMBDEP           0\n",
            "CCPP              0\n",
            "NOMBPROV          0\n",
            "CCDI              0\n",
            "NOMBDIST          0\n",
            "CAPITAL          20\n",
            "UBIGEO            0\n",
            "IDPROV            0\n",
            "CODIGO            0\n",
            "CNT_CCPP          0\n",
            "DESCRIPCIO        0\n",
            "DESCARGAR         0\n",
            "WHATSAPP          0\n",
            "CONTACTO          0\n",
            "geometry          0\n",
            "count             0\n",
            "sum           16773\n",
            "0             16787\n",
            "1             16817\n",
            "2             16797\n",
            "3             16803\n",
            "4             17555\n",
            "5             17125\n",
            "11            16800\n",
            "12            17956\n",
            "13            17995\n",
            "21            18355\n",
            "22            18619\n",
            "23            18521\n",
            "14            18565\n",
            "24            18682\n",
            "15            18731\n",
            "25            18739\n",
            "dtype: int64\n"
          ]
        }
      ]
    },
    {
      "cell_type": "code",
      "source": [
        "# Reemplazar todos los valores NaN por 0 en todo el DataFrame\n",
        "final_df.fillna(0, inplace=True)\n",
        "\n",
        "# Verificar el resultado después del reemplazo\n",
        "print(final_df.head())"
      ],
      "metadata": {
        "colab": {
          "base_uri": "https://localhost:8080/"
        },
        "id": "x9SrQTQgAolf",
        "outputId": "4bd28907-55ce-4a42-ba11-52e43e1121a3"
      },
      "id": "x9SrQTQgAolf",
      "execution_count": 51,
      "outputs": [
        {
          "output_type": "stream",
          "name": "stdout",
          "text": [
            "  CCDD    NOMBDEP CCPP    NOMBPROV CCDI      NOMBDIST          CAPITAL  \\\n",
            "0   06  CAJAMARCA   05   CONTUMAZA   04      GUZMANGO         GUZMANGO   \n",
            "1   06  CAJAMARCA   11  SAN MIGUEL   05      EL PRADO         EL PRADO   \n",
            "2   06  CAJAMARCA   11  SAN MIGUEL   09        NIEPOS           NIEPOS   \n",
            "3   06  CAJAMARCA   11  SAN MIGUEL   10  SAN GREGORIO     SAN GREGORIO   \n",
            "4   06  CAJAMARCA   12   SAN PABLO   03      SAN LUIS  SAN LUIS GRANDE   \n",
            "\n",
            "   UBIGEO IDPROV  CODIGO  ...   11   12   13   21   22   23   14   24   15  \\\n",
            "0  060504   0605  060504  ...  0.0  0.0  0.0  0.0  0.0  0.0  0.0  0.0  0.0   \n",
            "1  061105   0611  061105  ...  0.0  0.0  0.0  0.0  0.0  0.0  0.0  0.0  0.0   \n",
            "2  061109   0611  061109  ...  0.0  0.0  0.0  0.0  0.0  0.0  0.0  0.0  0.0   \n",
            "3  061110   0611  061110  ...  0.0  0.0  0.0  0.0  0.0  0.0  0.0  0.0  0.0   \n",
            "4  061203   0612  061203  ...  0.0  0.0  0.0  0.0  0.0  0.0  0.0  0.0  0.0   \n",
            "\n",
            "    25  \n",
            "0  0.0  \n",
            "1  0.0  \n",
            "2  0.0  \n",
            "3  0.0  \n",
            "4  0.0  \n",
            "\n",
            "[5 rows x 34 columns]\n"
          ]
        }
      ]
    },
    {
      "cell_type": "code",
      "execution_count": 52,
      "id": "eb35731f-7b16-4913-bf29-33f5e9ea97a0",
      "metadata": {
        "id": "eb35731f-7b16-4913-bf29-33f5e9ea97a0"
      },
      "outputs": [],
      "source": [
        "#De aquí en adelante le toca a la persona 2\n",
        "\n",
        "#unas ideas (aun no han sido corridas)\n",
        "\n",
        "# Suponiendo que cada píxel representa un área de 100 m^2\n",
        "pixel_area = 100\n",
        "\n",
        "# Asumiendo que las categorías en el raster representan diferentes tipos de MSZ (1 a 15)\n",
        "# y se necesita calcular el porcentaje de cobertura para cada categoría en final_df\n",
        "for category in range(1, 16):  # Asumiendo 15 categorías de MSZ\n",
        "    # Crear una nueva columna para el porcentaje de cobertura de cada categoría de MSZ\n",
        "    # Nota: Asegúrate de que 'geometry' es una columna de geometrías en final_df para calcular su área\n",
        "    final_df[f'MSZ_{category}_coverage'] = final_df.apply(lambda row: (row.get(str(category), 0) * pixel_area) / row['geometry'].area if str(category) in row else 0, axis=1)\n",
        "\n",
        "# verificar que final_df contiene las nuevas columnas con los porcentajes de cobertura de MSZ\n",
        "print(final_df.head())"
      ]
    },
    {
      "cell_type": "code",
      "execution_count": null,
      "id": "c6c5a834-41d6-4bed-a89a-4860c11eb07c",
      "metadata": {
        "id": "c6c5a834-41d6-4bed-a89a-4860c11eb07c"
      },
      "outputs": [],
      "source": [
        "#más ideas\n",
        "\n",
        "#Especificar Variables de MSZ:  Identificar qué valores en el raster representan las \"15 variables\" mencionadas.\n",
        "#Esto puede referirse a diferentes tipos de cobertura de MSZ identificados por valores únicos en el raster.\n",
        "\n",
        "# Se tiene un DataFrame 'df' resultante de 'zonal_stats'\n",
        "\n",
        "# Calcular el área total del departamento en metros cuadrados (o la unidad de área correspondiente en 'esri:54009')\n",
        "# puede requerir una conversión adicional dependiendo del CRS de 'departments'\n"
      ]
    }
  ],
  "metadata": {
    "kernelspec": {
      "display_name": "Python 3 (ipykernel)",
      "language": "python",
      "name": "python3"
    },
    "language_info": {
      "codemirror_mode": {
        "name": "ipython",
        "version": 3
      },
      "file_extension": ".py",
      "mimetype": "text/x-python",
      "name": "python",
      "nbconvert_exporter": "python",
      "pygments_lexer": "ipython3",
      "version": "3.8.18"
    },
    "colab": {
      "provenance": [],
      "include_colab_link": true
    }
  },
  "nbformat": 4,
  "nbformat_minor": 5
}