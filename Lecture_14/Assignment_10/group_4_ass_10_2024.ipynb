{
 "cells": [
  {
   "cell_type": "markdown",
   "id": "1889ae99",
   "metadata": {},
   "source": [
    "# 1. Get the 15 variables from this raster for all Peru departments polygons"
   ]
  },
  {
   "cell_type": "code",
   "execution_count": null,
   "id": "37ccc0e7",
   "metadata": {},
   "outputs": [],
   "source": [
    "pip install rasterio"
   ]
  },
  {
   "cell_type": "code",
   "execution_count": null,
   "id": "e6c5e72a",
   "metadata": {},
   "outputs": [],
   "source": [
    "import geopandas as gpd\n",
    "import rasterio\n",
    "from rasterio.merge import merge\n",
    "from rasterio.plot import show\n",
    "from shapely.geometry import mapping"
   ]
  },
  {
   "cell_type": "code",
   "execution_count": null,
   "id": "015069ed",
   "metadata": {},
   "outputs": [],
   "source": [
    "import geopandas as gpd\n",
    "\n",
    "# Define the relative path to the shapefile from the notebook location\n",
    "shapefile_path = '../../_data/INEI_LIMITE_DEPARTAMENTAL/INEI_LIMITE_DEPARTAMENTAL.shp'\n",
    "\n",
    "# Read the shapefile using Geopandas\n",
    "departments = gpd.read_file(shapefile_path)\n",
    "\n",
    "print(departments.head())"
   ]
  },
  {
   "cell_type": "code",
   "execution_count": null,
   "id": "53f16410",
   "metadata": {},
   "outputs": [],
   "source": [
    "import geowombat as gw\n",
    "from rasterio.merge import merge"
   ]
  },
  {
   "cell_type": "code",
   "execution_count": null,
   "id": "90d89da6",
   "metadata": {},
   "outputs": [],
   "source": [
    "# Leer y unir los archivos .tif si es necesario\n",
    "raster_files = ['tif_files_group4/GHS_BUILT_C_MSZ_E2018_GLOBE_R2023A_54009_10_V1_0_R10_C10.tif', 'tif_files_group4/GHS_BUILT_C_MSZ_E2018_GLOBE_R2023A_54009_10_V1_0_R10_C11.tif','tif_files_group4/GHS_BUILT_C_MSZ_E2018_GLOBE_R2023A_54009_10_V1_0_R10_C12.tif', 'tif_files_group4/GHS_BUILT_C_MSZ_E2018_GLOBE_R2023A_54009_10_V1_0_R11_C11.tif', 'tif_files_group4/GHS_BUILT_C_MSZ_E2018_GLOBE_R2023A_54009_10_V1_0_R11_C12.tif', 'tif_files_group4/GHS_BUILT_C_MSZ_E2018_GLOBE_R2023A_54009_10_V1_0_R12_C11.tif', 'tif_files_group4/GHS_BUILT_C_MSZ_E2018_GLOBE_R2023A_54009_10_V1_0_R12_C12.tif', 'tif_files_group4/GHS_BUILT_C_MSZ_E2018_GLOBE_R2023A_54009_10_V1_0_R9_C10.tif', 'tif_files_group4/GHS_BUILT_C_MSZ_E2018_GLOBE_R2023A_54009_10_V1_0_R9_C11.tif', 'tif_files_group4/GHS_BUILT_C_MSZ_E2018_GLOBE_R2023A_54009_10_V1_0_R9_C12.tif']"
   ]
  },
  {
   "cell_type": "code",
   "execution_count": null,
   "id": "4f69f61e",
   "metadata": {},
   "outputs": [],
   "source": [
    "# Abrir los archivos raster para la unión\n",
    "rasters_to_merge = [rasterio.open(file) for file in raster_files]"
   ]
  },
  {
   "cell_type": "code",
   "execution_count": null,
   "id": "6fa05836",
   "metadata": {},
   "outputs": [],
   "source": [
    "# Unir los rasters\n",
    "mosaic, out_transform = merge(rasters_to_merge) #AQUI ES DONDE SE TRABA LA CODIFICACIÓN. HASTA EL CÓDIGO ANTERIOR TODO CORREO BIEN."
   ]
  },
  {
   "cell_type": "code",
   "execution_count": null,
   "id": "3e1d6ef6",
   "metadata": {},
   "outputs": [],
   "source": [
    "# Mostrar el raster unido\n",
    "show(mosaic, transform=out_transform)"
   ]
  },
  {
   "cell_type": "code",
   "execution_count": null,
   "id": "9c3912be",
   "metadata": {},
   "outputs": [],
   "source": [
    "# Cerrar los archivos raster\n",
    "for raster in rasters_to_merge:\n",
    "    raster.close()"
   ]
  },
  {
   "cell_type": "code",
   "execution_count": null,
   "id": "8d192b0b",
   "metadata": {},
   "outputs": [],
   "source": [
    "# Realizar el análisis de zonificación para cada departamento\n",
    "for index, department in departments.iterrows():\n",
    "    # Convertir el polígono de departamento a formato que rasterio entiende\n",
    "    mask = [mapping(department.geometry)]\n",
    "\n",
    "    # Enmascarar el raster con el polígono del departamento, para obtener solo los valores dentro del departamento\n",
    "    out_image, out_transform = rasterio.mask.mask(src, mask, crop=True)\n",
    "    out_meta = src.meta\n",
    "\n",
    "    # Realización de cálculos\n",
    "    # ..."
   ]
  },
  {
   "cell_type": "code",
   "execution_count": null,
   "id": "420535db",
   "metadata": {},
   "outputs": [],
   "source": [
    "# Cerrar los archivos abiertos\n",
    "for src in src_files_to_mosaic:\n",
    "    src.close()"
   ]
  }
 ],
 "metadata": {
  "kernelspec": {
   "display_name": "Python 3 (ipykernel)",
   "language": "python",
   "name": "python3"
  },
  "language_info": {
   "codemirror_mode": {
    "name": "ipython",
    "version": 3
   },
   "file_extension": ".py",
   "mimetype": "text/x-python",
   "name": "python",
   "nbconvert_exporter": "python",
   "pygments_lexer": "ipython3",
   "version": "3.11.5"
  }
 },
 "nbformat": 4,
 "nbformat_minor": 5
}
