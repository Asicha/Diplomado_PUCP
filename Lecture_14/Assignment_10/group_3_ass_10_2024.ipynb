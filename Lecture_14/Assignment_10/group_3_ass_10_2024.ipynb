{
 "cells": [
  {
   "cell_type": "markdown",
   "id": "b4c12bc8",
   "metadata": {},
   "source": [
    "## Group #3\n"
   ]
  },
  {
   "cell_type": "markdown",
   "id": "e2750e5d",
   "metadata": {},
   "source": [
    "1. Get the 15 variables from this raster for all Peru departments polygons. This is the link where shapefiles are located. This is the link of the source raster. The values should be the percentage of district area cover by this specific Morphological Settlement Zone."
   ]
  },
  {
   "cell_type": "code",
   "execution_count": null,
   "id": "5c9d4aa8",
   "metadata": {},
   "outputs": [],
   "source": [
    "# pip install rasterio\n",
    "# %pip install geopandas matplotlib shapely rasterio numpy pandas sklearn-xarray -q\n",
    "# !pip install ipywidgets\n",
    "# !jupyter labextension install @jupyter-widgets/jupyterlab-manager\n",
    "# pip install rasterstats\n",
    "# %pip install geopandas matplotlib shapely rasterio numpy pandas sklearn-xarray -q\n",
    "# %pip install git+https://github.com/jgrss/geowombat  -q"
   ]
  },
  {
   "cell_type": "code",
   "execution_count": 24,
   "id": "4789905c",
   "metadata": {},
   "outputs": [],
   "source": [
    "\n",
    "import geopandas as gpd\n",
    "import rasterio\n",
    "from rasterio.merge import merge\n",
    "from rasterio.plot import show\n",
    "from shapely.geometry import mapping\n",
    "import rasterio\n",
    "from pathlib import Path\n",
    "import matplotlib.pyplot as plt\n",
    "import matplotlib.patheffects as pe\n",
    "import os\n",
    "from rasterio.mask import mask\n",
    "from rasterstats import zonal_stats\n",
    "import pandas as pd\n",
    "#import geowombat as gw ## Chequear gw en collab\n",
    "\n"
   ]
  },
  {
   "cell_type": "code",
   "execution_count": 27,
   "id": "a3813d15",
   "metadata": {},
   "outputs": [
    {
     "name": "stdout",
     "output_type": "stream",
     "text": [
      "   OBJECTID_1  OBJECTID CCDD   NOMBDEP      CAPITAL  Shape_STAr  Shape_STLe  \\\n",
      "0           1       1.0   01  AMAZONAS  CHACHAPOYAS    3.203006   12.912088   \n",
      "1           2       2.0   02    ANCASH       HUARAZ    2.954592   11.780424   \n",
      "2           3       3.0   03  APURIMAC      ABANCAY    1.765933    7.730154   \n",
      "3           4       4.0   04  AREQUIPA     AREQUIPA    5.330203   17.405040   \n",
      "4           5       5.0   05  AYACUCHO     AYACUCHO    3.643705   17.127166   \n",
      "\n",
      "   ORIG_FID  Shape_Leng  Shape_Area                    CORREO  \\\n",
      "0         0   12.912088    3.203006  juan.suyo@geogpsperu.com   \n",
      "1         1   11.780424    2.954592  juan.suyo@geogpsperu.com   \n",
      "2         2    7.730154    1.765933  juan.suyo@geogpsperu.com   \n",
      "3         3   17.405040    5.330203  juan.suyo@geogpsperu.com   \n",
      "4         4   17.127166    3.643705  juan.suyo@geogpsperu.com   \n",
      "\n",
      "             CONTACTO   WHATSAPP  \\\n",
      "0  www.geogpsperu.com  931381206   \n",
      "1  www.geogpsperu.com  931381206   \n",
      "2  www.geogpsperu.com  931381206   \n",
      "3  www.geogpsperu.com  931381206   \n",
      "4  www.geogpsperu.com  931381206   \n",
      "\n",
      "                                            geometry  \n",
      "0  POLYGON ((-7792169.198 -369977.341, -7792239.4...  \n",
      "1  POLYGON ((-7734578.955 -994191.696, -7734565.2...  \n",
      "2  POLYGON ((-7270386.011 -1623441.123, -7270292....  \n",
      "3  POLYGON ((-7068605.941 -1802675.352, -7068565....  \n",
      "4  POLYGON ((-7347505.611 -1501033.916, -7347646....  \n"
     ]
    }
   ],
   "source": [
    "import geopandas as gpd\n",
    "\n",
    "# Ruta al shapefile\n",
    "shapefile_path = r'../../_data/INEI_LIMITE_DEPARTAMENTAL'\n",
    "\n",
    "# Leer el shapefile usando Geopandas\n",
    "departmentos = gpd.read_file(shapefile_path)\n",
    "departmentos = departments.to_crs('esri:54009')\n",
    "\n",
    "print(departmentos.head())"
   ]
  },
  {
   "cell_type": "code",
   "execution_count": null,
   "id": "3c91017c",
   "metadata": {},
   "outputs": [],
   "source": [
    "from google.colab import drive\n",
    "drive.mount('/content/drive')"
   ]
  },
  {
   "cell_type": "code",
   "execution_count": 28,
   "id": "3ac57118",
   "metadata": {},
   "outputs": [],
   "source": [
    "# Rutas en collab\n",
    "\n",
    "raster = [\"drive/content/diplomado/assignment_10/tif_files/GHS_BUILT_C_MSZ_E2018_GLOBE_R2023A_54009_10_V1_0_R10_C11.tif\",\n",
    "          \"drive/content/diplomado/assignment_10/tif_files/GHS_BUILT_C_MSZ_E2018_GLOBE_R2023A_54009_10_V1_0_R10_C12.tif\",\n",
    "          \"drive/content/diplomado/assignment_10/tif_files/GHS_BUILT_C_MSZ_E2018_GLOBE_R2023A_54009_10_V1_0_R11_C11.tif\",\n",
    "          \"drive/content/diplomado/assignment_10/tif_files/GHS_BUILT_C_MSZ_E2018_GLOBE_R2023A_54009_10_V1_0_R11_C12.tif\",\n",
    "          \"drive/content/diplomado/assignment_10/tif_files/GHS_BUILT_C_MSZ_E2018_GLOBE_R2023A_54009_10_V1_0_R12_C11.tif\",\n",
    "          \"drive/content/diplomado/assignment_10/tif_files/GHS_BUILT_C_MSZ_E2018_GLOBE_R2023A_54009_10_V1_0_R12_C12.tif\"\n",
    "         ]\n",
    "\n",
    "statistics = []"
   ]
  },
  {
   "cell_type": "code",
   "execution_count": null,
   "id": "7786c4c9",
   "metadata": {},
   "outputs": [],
   "source": [
    "# Iterar sobre cada archivo raster\n",
    "for raster_path in raster:\n",
    "    # estadísticas zonales\n",
    "    stats = zonal_stats(departmentos, raster_path, stats=\"count sum\", categorical=True, all_touched=True)\n",
    "    # transforma DF\n",
    "    stats_df = pd.DataFrame(stats)\n",
    "    # Concatenar \n",
    "    df = pd.concat([departmentos.reset_index(drop=True), stats_df], axis=1)\n",
    "    statistics.append(df)"
   ]
  },
  {
   "cell_type": "code",
   "execution_count": null,
   "id": "f5476429",
   "metadata": {},
   "outputs": [],
   "source": [
    "# Concatenar todos los DataFrames en all_stats en un único DataFrame\n",
    "final_df = pd.concat(statistics, ignore_index=True)\n",
    "\n",
    "print(final_df.head())\n"
   ]
  },
  {
   "cell_type": "code",
   "execution_count": null,
   "id": "14984616",
   "metadata": {},
   "outputs": [],
   "source": []
  },
  {
   "cell_type": "markdown",
   "id": "9724792d",
   "metadata": {},
   "source": [
    "2. Then you are going to generate choropleth map using folium for these 15 variables."
   ]
  },
  {
   "cell_type": "code",
   "execution_count": null,
   "id": "a15a1cd1",
   "metadata": {},
   "outputs": [],
   "source": []
  },
  {
   "cell_type": "markdown",
   "id": "f2fbdab7",
   "metadata": {},
   "source": [
    "3. Save your html in the same folder of your JN. Name your HTML as your branch. This HTML should have all these layers. Please do not forget to use Layer Control.\n"
   ]
  }
 ],
 "metadata": {
  "kernelspec": {
   "display_name": "Python 3 (ipykernel)",
   "language": "python",
   "name": "python3"
  },
  "language_info": {
   "codemirror_mode": {
    "name": "ipython",
    "version": 3
   },
   "file_extension": ".py",
   "mimetype": "text/x-python",
   "name": "python",
   "nbconvert_exporter": "python",
   "pygments_lexer": "ipython3",
   "version": "3.9.18"
  }
 },
 "nbformat": 4,
 "nbformat_minor": 5
}
