{
 "cells": [
  {
   "cell_type": "markdown",
   "id": "b4c12bc8",
   "metadata": {},
   "source": [
    "## Group #3\n"
   ]
  },
  {
   "cell_type": "markdown",
   "id": "e2750e5d",
   "metadata": {},
   "source": [
    "1. Get the 15 variables from this raster for all Peru departments polygons. This is the link where shapefiles are located. This is the link of the source raster. The values should be the percentage of district area cover by this specific Morphological Settlement Zone."
   ]
  },
  {
   "cell_type": "code",
   "execution_count": null,
   "id": "5c9d4aa8",
   "metadata": {},
   "outputs": [],
   "source": []
  },
  {
   "cell_type": "markdown",
   "id": "9724792d",
   "metadata": {},
   "source": [
    "2. Then you are going to generate choropleth map using folium for these 15 variables."
   ]
  },
  {
   "cell_type": "code",
   "execution_count": null,
   "id": "a15a1cd1",
   "metadata": {},
   "outputs": [],
   "source": []
  },
  {
   "cell_type": "markdown",
   "id": "f2fbdab7",
   "metadata": {},
   "source": [
    "3. Save your html in the same folder of your JN. Name your HTML as your branch. This HTML should have all these layers. Please do not forget to use Layer Control.\n"
   ]
  }
 ],
 "metadata": {
  "kernelspec": {
   "display_name": "Python 3 (ipykernel)",
   "language": "python",
   "name": "python3"
  },
  "language_info": {
   "codemirror_mode": {
    "name": "ipython",
    "version": 3
   },
   "file_extension": ".py",
   "mimetype": "text/x-python",
   "name": "python",
   "nbconvert_exporter": "python",
   "pygments_lexer": "ipython3",
   "version": "3.9.12"
  }
 },
 "nbformat": 4,
 "nbformat_minor": 5
}
