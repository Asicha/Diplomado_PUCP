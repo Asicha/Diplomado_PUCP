{
 "cells": [
  {
   "cell_type": "markdown",
   "id": "f80590b7",
   "metadata": {},
   "source": [
    "1. Get the 15 variables from this raster for all Peru departments polygons. This is the link where shapefiles are located. This is the link of the source raster. The values should be the percentage of district area cover by this specific Morphological Settlement Zone.\n"
   ]
  },
  {
   "cell_type": "code",
   "execution_count": null,
   "id": "969bc167",
   "metadata": {},
   "outputs": [],
   "source": []
  },
  {
   "cell_type": "markdown",
   "id": "437ed979",
   "metadata": {},
   "source": [
    "2. Then you are going to generate choropleth map using folium for these 15 variables.\n"
   ]
  },
  {
   "cell_type": "code",
   "execution_count": null,
   "id": "b7cb4ba3",
   "metadata": {},
   "outputs": [],
   "source": []
  },
  {
   "cell_type": "markdown",
   "id": "fcc9eb40",
   "metadata": {},
   "source": [
    "3. Save your html in the same folder of your JN. Name your HTML as your branch. This HTML should have all these layers. Please do not forget to use Layer Control."
   ]
  }
 ],
 "metadata": {
  "kernelspec": {
   "display_name": "Python 3 (ipykernel)",
   "language": "python",
   "name": "python3"
  },
  "language_info": {
   "codemirror_mode": {
    "name": "ipython",
    "version": 3
   },
   "file_extension": ".py",
   "mimetype": "text/x-python",
   "name": "python",
   "nbconvert_exporter": "python",
   "pygments_lexer": "ipython3",
   "version": "3.11.5"
  }
 },
 "nbformat": 4,
 "nbformat_minor": 5
}
