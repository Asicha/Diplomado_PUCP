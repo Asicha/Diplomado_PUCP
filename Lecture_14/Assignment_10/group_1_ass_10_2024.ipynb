{
 "cells": [
  {
   "cell_type": "code",
   "execution_count": 8,
   "id": "221dcad6",
   "metadata": {},
   "outputs": [],
   "source": [
    "import geopandas as gpd\n",
    "\n",
    "# Especifica la ruta al archivo shapefile (reemplaza 'ruta/al/archivo.shp' con la ruta de tu archivo)\n",
    "archivo_shapefile = '../../_data/INEI_LIMITE_DEPARTAMENTAL/INEI_LIMITE_DEPARTAMENTAL.shp'\n",
    "\n",
    "# Utiliza la función read_file de Geopandas para cargar el shapefile\n",
    "departamentos = gpd.read_file(archivo_shapefile)"
   ]
  },
  {
   "cell_type": "code",
   "execution_count": 9,
   "id": "8cd36a15",
   "metadata": {},
   "outputs": [],
   "source": [
    "from shapely.ops import transform\n",
    "\n",
    "import pyproj\n",
    "transformer = pyproj.Transformer.from_crs('epsg:4326', 'esri:54009', always_xy=True)\n",
    "\n",
    "# Define a function to apply the transformation\n",
    "def apply_transform(geom):\n",
    "    return transform(transformer.transform, geom)\n",
    "\n",
    "# Apply the transformation to the geometries\n",
    "departamentos['geometry'] = departamentos['geometry'].apply(apply_transform)"
   ]
  },
  {
   "cell_type": "code",
   "execution_count": null,
   "id": "f5ca6b01",
   "metadata": {
    "scrolled": true
   },
   "outputs": [],
   "source": [
    "import rasterio\n",
    "import matplotlib.pyplot as plt\n",
    "\n",
    "# Path to the TIFF file\n",
    "tif_file_path = '../../_data/rasters_europa/rasters/GHS_BUILT_C_MSZ_E2018_GLOBE_R2023A_54009_10_V1_0_R12_C11.tif'\n",
    "\n",
    "# Since we can't access external files in this environment, this code is for demonstration purposes only\n",
    "# Replace the path with the actual path when you run it in your local environment\n",
    "\n",
    "# Open the TIFF file\n",
    "with rasterio.open(tif_file_path) as src:\n",
    "    # Read the number of bands\n",
    "    num_bands = src.count\n",
    "    \n",
    "    # Read the first band data\n",
    "    band1 = src.read(1)\n",
    "    \n",
    "    # Plot the first band\n",
    "    plt.imshow(band1, cmap='gray')\n",
    "    plt.colorbar()\n",
    "    plt.title(f'Band 1 of TIFF file (Total bands: {num_bands})')\n",
    "    plt.show()\n",
    "    \n",
    "    # Output the number of bands\n",
    "    print(f\"The TIFF file has {num_bands} bands.\")"
   ]
  },
  {
   "cell_type": "code",
   "execution_count": 8,
   "id": "75df03c1",
   "metadata": {},
   "outputs": [],
   "source": [
    "#minx, miny, maxx, maxy = departamentos.total_bounds"
   ]
  },
  {
   "cell_type": "code",
   "execution_count": 10,
   "id": "ebcfaa45",
   "metadata": {},
   "outputs": [
    {
     "ename": "MemoryError",
     "evalue": "Unable to allocate 7.92 GiB for an array with shape (107123, 79400) and data type bool",
     "output_type": "error",
     "traceback": [
      "\u001b[1;31m---------------------------------------------------------------------------\u001b[0m",
      "\u001b[1;31mMemoryError\u001b[0m                               Traceback (most recent call last)",
      "Cell \u001b[1;32mIn[10], line 22\u001b[0m\n\u001b[0;32m     19\u001b[0m \u001b[38;5;66;03m# Itera sobre las rutas de los archivos raster\u001b[39;00m\n\u001b[0;32m     20\u001b[0m \u001b[38;5;28;01mfor\u001b[39;00m raster_path \u001b[38;5;129;01min\u001b[39;00m raster_paths:\n\u001b[0;32m     21\u001b[0m     \u001b[38;5;66;03m# Calcula estadísticas zonales para cada archivo raster\u001b[39;00m\n\u001b[1;32m---> 22\u001b[0m     stats \u001b[38;5;241m=\u001b[39m zonal_stats(departamentos, raster_path, stats\u001b[38;5;241m=\u001b[39m\u001b[38;5;124m\"\u001b[39m\u001b[38;5;124munique\u001b[39m\u001b[38;5;124m\"\u001b[39m, categorical\u001b[38;5;241m=\u001b[39m\u001b[38;5;28;01mTrue\u001b[39;00m)\n\u001b[0;32m     24\u001b[0m     \u001b[38;5;66;03m# Append the results to the list\u001b[39;00m\n\u001b[0;32m     25\u001b[0m     all_stats\u001b[38;5;241m.\u001b[39mappend(stats)\n",
      "File \u001b[1;32m~\\anaconda3\\Lib\\site-packages\\rasterstats\\main.py:36\u001b[0m, in \u001b[0;36mzonal_stats\u001b[1;34m(*args, **kwargs)\u001b[0m\n\u001b[0;32m     28\u001b[0m \u001b[38;5;28;01mdef\u001b[39;00m \u001b[38;5;21mzonal_stats\u001b[39m(\u001b[38;5;241m*\u001b[39margs, \u001b[38;5;241m*\u001b[39m\u001b[38;5;241m*\u001b[39mkwargs):\n\u001b[0;32m     29\u001b[0m \u001b[38;5;250m    \u001b[39m\u001b[38;5;124;03m\"\"\"The primary zonal statistics entry point.\u001b[39;00m\n\u001b[0;32m     30\u001b[0m \n\u001b[0;32m     31\u001b[0m \u001b[38;5;124;03m    All arguments are passed directly to ``gen_zonal_stats``.\u001b[39;00m\n\u001b[1;32m   (...)\u001b[0m\n\u001b[0;32m     34\u001b[0m \u001b[38;5;124;03m    The only difference is that ``zonal_stats`` will\u001b[39;00m\n\u001b[0;32m     35\u001b[0m \u001b[38;5;124;03m    return a list rather than a generator.\"\"\"\u001b[39;00m\n\u001b[1;32m---> 36\u001b[0m     \u001b[38;5;28;01mreturn\u001b[39;00m \u001b[38;5;28mlist\u001b[39m(gen_zonal_stats(\u001b[38;5;241m*\u001b[39margs, \u001b[38;5;241m*\u001b[39m\u001b[38;5;241m*\u001b[39mkwargs))\n",
      "File \u001b[1;32m~\\anaconda3\\Lib\\site-packages\\rasterstats\\main.py:188\u001b[0m, in \u001b[0;36mgen_zonal_stats\u001b[1;34m(vectors, raster, layer, band, nodata, affine, stats, all_touched, categorical, category_map, add_stats, zone_func, raster_out, prefix, geojson_out, boundless, **kwargs)\u001b[0m\n\u001b[0;32m    184\u001b[0m     isnodata \u001b[38;5;241m=\u001b[39m isnodata \u001b[38;5;241m|\u001b[39m np\u001b[38;5;241m.\u001b[39misnan(fsrc\u001b[38;5;241m.\u001b[39marray)\n\u001b[0;32m    186\u001b[0m \u001b[38;5;66;03m# Mask the source data array\u001b[39;00m\n\u001b[0;32m    187\u001b[0m \u001b[38;5;66;03m# mask everything that is not a valid value or not within our geom\u001b[39;00m\n\u001b[1;32m--> 188\u001b[0m masked \u001b[38;5;241m=\u001b[39m np\u001b[38;5;241m.\u001b[39mma\u001b[38;5;241m.\u001b[39mMaskedArray(fsrc\u001b[38;5;241m.\u001b[39marray, mask\u001b[38;5;241m=\u001b[39m(isnodata \u001b[38;5;241m|\u001b[39m \u001b[38;5;241m~\u001b[39mrv_array))\n\u001b[0;32m    190\u001b[0m \u001b[38;5;66;03m# If we're on 64 bit platform and the array is an integer type\u001b[39;00m\n\u001b[0;32m    191\u001b[0m \u001b[38;5;66;03m# make sure we cast to 64 bit to avoid overflow for certain numpy ops\u001b[39;00m\n\u001b[0;32m    192\u001b[0m \u001b[38;5;28;01mif\u001b[39;00m sys\u001b[38;5;241m.\u001b[39mmaxsize \u001b[38;5;241m>\u001b[39m \u001b[38;5;241m2\u001b[39m\u001b[38;5;241m*\u001b[39m\u001b[38;5;241m*\u001b[39m\u001b[38;5;241m32\u001b[39m \u001b[38;5;129;01mand\u001b[39;00m \u001b[38;5;28missubclass\u001b[39m(masked\u001b[38;5;241m.\u001b[39mdtype\u001b[38;5;241m.\u001b[39mtype, np\u001b[38;5;241m.\u001b[39minteger):\n",
      "\u001b[1;31mMemoryError\u001b[0m: Unable to allocate 7.92 GiB for an array with shape (107123, 79400) and data type bool"
     ]
    }
   ],
   "source": [
    "import geopandas as gpd\n",
    "import pandas as pd\n",
    "from rasterstats import zonal_stats\n",
    "\n",
    "raster_paths =['../../_data/rasters_europa/GHS_BUILT_C_MSZ_E2018_GLOBE_R2023A_54009_10_V1_0_R9_C10\\GHS_BUILT_C_MSZ_E2018_GLOBE_R2023A_54009_10_V1_0_R9_C10.tif',\n",
    "'../../_data/rasters_europa/GHS_BUILT_C_MSZ_E2018_GLOBE_R2023A_54009_10_V1_0_R9_C11 (2)\\GHS_BUILT_C_MSZ_E2018_GLOBE_R2023A_54009_10_V1_0_R9_C11.tif',\n",
    "'../../_data/rasters_europa/GHS_BUILT_C_MSZ_E2018_GLOBE_R2023A_54009_10_V1_0_R9_C12\\GHS_BUILT_C_MSZ_E2018_GLOBE_R2023A_54009_10_V1_0_R9_C12.tif',\n",
    "'../../_data/rasters_europa/GHS_BUILT_C_MSZ_E2018_GLOBE_R2023A_54009_10_V1_0_R10_C10 (1)\\GHS_BUILT_C_MSZ_E2018_GLOBE_R2023A_54009_10_V1_0_R10_C10.tif',\n",
    "'../../_data/rasters_europa/GHS_BUILT_C_MSZ_E2018_GLOBE_R2023A_54009_10_V1_0_R10_C11 (1)\\GHS_BUILT_C_MSZ_E2018_GLOBE_R2023A_54009_10_V1_0_R10_C11.tif',\n",
    "'../../_data/rasters_europa/GHS_BUILT_C_MSZ_E2018_GLOBE_R2023A_54009_10_V1_0_R10_C12\\GHS_BUILT_C_MSZ_E2018_GLOBE_R2023A_54009_10_V1_0_R10_C12.tif',\n",
    "'../../_data/rasters_europa/GHS_BUILT_C_MSZ_E2018_GLOBE_R2023A_54009_10_V1_0_R11_C11 (1)\\GHS_BUILT_C_MSZ_E2018_GLOBE_R2023A_54009_10_V1_0_R11_C11.tif',\n",
    "'../../_data/rasters_europa/GHS_BUILT_C_MSZ_E2018_GLOBE_R2023A_54009_10_V1_0_R11_C12\\GHS_BUILT_C_MSZ_E2018_GLOBE_R2023A_54009_10_V1_0_R11_C12.tif',\n",
    "'../../_data/rasters_europa/GHS_BUILT_C_MSZ_E2018_GLOBE_R2023A_54009_10_V1_0_R12_C11 (1)\\GHS_BUILT_C_MSZ_E2018_GLOBE_R2023A_54009_10_V1_0_R12_C11.tif',\n",
    "'../../_data/rasters_europa/GHS_BUILT_C_MSZ_E2018_GLOBE_R2023A_54009_10_V1_0_R12_C12 (1)\\GHS_BUILT_C_MSZ_E2018_GLOBE_R2023A_54009_10_V1_0_R12_C12.tif']\n",
    "\n",
    "# Initialize an empty list to store results\n",
    "all_stats = []\n",
    "\n",
    "# Itera sobre las rutas de los archivos raster\n",
    "for raster_path in raster_paths:\n",
    "    # Calcula estadísticas zonales para cada archivo raster\n",
    "    stats = zonal_stats(departamentos, raster_path, stats=\"unique\", categorical=True)\n",
    "    \n",
    "    # Append the results to the list\n",
    "    all_stats.append(stats)\n",
    "\n",
    "# Concatenate all results into a final DataFrame\n",
    "stats_df = pd.concat([pd.DataFrame(stats) for stats in all_stats], ignore_index=True)\n",
    "\n",
    "df1 = pd.concat([departamentos, stats_df], axis = 1)"
   ]
  },
  {
   "cell_type": "code",
   "execution_count": null,
   "id": "b61a8f94-3a9e-4a5d-aa6f-a2ad95855960",
   "metadata": {},
   "outputs": [],
   "source": [
    "df1.fillna(0, inplace=True)"
   ]
  },
  {
   "cell_type": "code",
   "execution_count": null,
   "id": "4e2a2754-c9a0-4f8e-bf10-ddd7a85a1ef5",
   "metadata": {},
   "outputs": [],
   "source": [
    "pixel_area = 100\n",
    "df1['polygon_area'] = df1['geometry'].apply(lambda x: x.area)\n",
    "for category in range(1, 16):\n",
    "    category_str = str(category)\n",
    "    if category_str not in df1.columns:\n",
    "        df1[category_str] = 0\n",
    "        df1[f'MSZ_{category}_coverage'] = (df1[category_str] * pixel_area / df1['polygon_area']) * 100\n",
    "     "
   ]
  },
  {
   "cell_type": "code",
   "execution_count": null,
   "id": "fa474313-baae-415b-9746-8989d73d2800",
   "metadata": {},
   "outputs": [],
   "source": [
    "print(df1.columns) # Columns for each cathegory of MSZ"
   ]
  },
  {
   "cell_type": "code",
   "execution_count": null,
   "id": "8be6335a-1735-407b-92bf-246f3058c5b5",
   "metadata": {},
   "outputs": [],
   "source": [
    "# Choropleth Map\n",
    "\n",
    "import mapclassify\n",
    "\n",
    "for i in range(1, 16):\n",
    "    column_name = f'MSZ_{i}_coverage'\n",
    "    fig, ax = plt.subplots(1, 1, figsize=(10, 10))\n",
    "    df1.plot(\n",
    "        column=column_name,\n",
    "        cmap='OrRd',\n",
    "        legend=True,\n",
    "        scheme='quantiles',\n",
    "        ax=ax\n",
    "    )\n",
    "\n",
    "    # Manually configure the legend\n",
    "    leg = ax.get_legend()\n",
    "    leg.set_title(f'MSZ {i}')\n",
    "    leg.set_bbox_to_anchor((1.5, 0.5))\n",
    "\n",
    "    plt.show()"
   ]
  }
 ],
 "metadata": {
  "kernelspec": {
   "display_name": "Python 3 (ipykernel)",
   "language": "python",
   "name": "python3"
  },
  "language_info": {
   "codemirror_mode": {
    "name": "ipython",
    "version": 3
   },
   "file_extension": ".py",
   "mimetype": "text/x-python",
   "name": "python",
   "nbconvert_exporter": "python",
   "pygments_lexer": "ipython3",
   "version": "3.8.18"
  }
 },
 "nbformat": 4,
 "nbformat_minor": 5
}
