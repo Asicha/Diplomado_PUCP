{
  "cells": [
    {
      "cell_type": "markdown",
      "metadata": {
        "id": "tngtrrlYD-dk"
      },
      "source": [
        "# Create our own AI Research Assistant with PUCP's Economics thesis repository"
      ]
    },
    {
      "cell_type": "markdown",
      "metadata": {
        "id": "sVGWodHTEB_M"
      },
      "source": [
        "The main propouse of our code is develop a AI Research Assistant the help us finding thesis from [PUCP's Economics repository](https://tesis.pucp.edu.pe/repositorio/handle/20.500.12404/1026). This development help us to the research of main findings related to the Public Policy in Economics using a largest public repository with OPEN-AI."
      ]
    },
    {
      "cell_type": "markdown",
      "metadata": {
        "id": "e1PPSoApE5yz"
      },
      "source": [
        "## Install packages"
      ]
    },
    {
      "cell_type": "code",
      "execution_count": 135,
      "metadata": {
        "colab": {
          "base_uri": "https://localhost:8080/"
        },
        "id": "wzB5EKyWD3TF",
        "outputId": "5beb0c72-670d-4c13-bfe1-e44282eaf293"
      },
      "outputs": [
        {
          "name": "stdout",
          "output_type": "stream",
          "text": [
            "Requirement already satisfied: openai in /usr/local/lib/python3.10/dist-packages (1.14.1)\n",
            "Requirement already satisfied: tiktoken in /usr/local/lib/python3.10/dist-packages (0.6.0)\n",
            "Requirement already satisfied: anyio<5,>=3.5.0 in /usr/local/lib/python3.10/dist-packages (from openai) (3.7.1)\n",
            "Requirement already satisfied: distro<2,>=1.7.0 in /usr/lib/python3/dist-packages (from openai) (1.7.0)\n",
            "Requirement already satisfied: httpx<1,>=0.23.0 in /usr/local/lib/python3.10/dist-packages (from openai) (0.27.0)\n",
            "Requirement already satisfied: pydantic<3,>=1.9.0 in /usr/local/lib/python3.10/dist-packages (from openai) (2.6.4)\n",
            "Requirement already satisfied: sniffio in /usr/local/lib/python3.10/dist-packages (from openai) (1.3.1)\n",
            "Requirement already satisfied: tqdm>4 in /usr/local/lib/python3.10/dist-packages (from openai) (4.66.2)\n",
            "Requirement already satisfied: typing-extensions<5,>=4.7 in /usr/local/lib/python3.10/dist-packages (from openai) (4.10.0)\n",
            "Requirement already satisfied: regex>=2022.1.18 in /usr/local/lib/python3.10/dist-packages (from tiktoken) (2023.12.25)\n",
            "Requirement already satisfied: requests>=2.26.0 in /usr/local/lib/python3.10/dist-packages (from tiktoken) (2.31.0)\n",
            "Requirement already satisfied: idna>=2.8 in /usr/local/lib/python3.10/dist-packages (from anyio<5,>=3.5.0->openai) (3.6)\n",
            "Requirement already satisfied: exceptiongroup in /usr/local/lib/python3.10/dist-packages (from anyio<5,>=3.5.0->openai) (1.2.0)\n",
            "Requirement already satisfied: certifi in /usr/local/lib/python3.10/dist-packages (from httpx<1,>=0.23.0->openai) (2024.2.2)\n",
            "Requirement already satisfied: httpcore==1.* in /usr/local/lib/python3.10/dist-packages (from httpx<1,>=0.23.0->openai) (1.0.4)\n",
            "Requirement already satisfied: h11<0.15,>=0.13 in /usr/local/lib/python3.10/dist-packages (from httpcore==1.*->httpx<1,>=0.23.0->openai) (0.14.0)\n",
            "Requirement already satisfied: annotated-types>=0.4.0 in /usr/local/lib/python3.10/dist-packages (from pydantic<3,>=1.9.0->openai) (0.6.0)\n",
            "Requirement already satisfied: pydantic-core==2.16.3 in /usr/local/lib/python3.10/dist-packages (from pydantic<3,>=1.9.0->openai) (2.16.3)\n",
            "Requirement already satisfied: charset-normalizer<4,>=2 in /usr/local/lib/python3.10/dist-packages (from requests>=2.26.0->tiktoken) (3.3.2)\n",
            "Requirement already satisfied: urllib3<3,>=1.21.1 in /usr/local/lib/python3.10/dist-packages (from requests>=2.26.0->tiktoken) (2.0.7)\n"
          ]
        }
      ],
      "source": [
        "!pip install openai tiktoken"
      ]
    },
    {
      "cell_type": "markdown",
      "metadata": {
        "id": "mfq9kO1iE-dt"
      },
      "source": [
        "### Set up our API KEY"
      ]
    },
    {
      "cell_type": "code",
      "execution_count": 4,
      "metadata": {
        "colab": {
          "base_uri": "https://localhost:8080/"
        },
        "id": "ZYamvtX64mkH",
        "outputId": "52b72e19-0b75-46b2-9864-6b525314d6a4"
      },
      "outputs": [
        {
          "name": "stdout",
          "output_type": "stream",
          "text": [
            "OPENAI - KEY: ··········\n"
          ]
        }
      ],
      "source": [
        "import getpass, openai, os\n",
        "client = getpass.getpass(prompt=\"OPENAI - KEY: \")\n",
        "openai.apikey = client\n",
        "os.environ[\"OPENAI_API_KEY\"] = client"
      ]
    },
    {
      "cell_type": "markdown",
      "metadata": {
        "id": "PLi2wH-lFDZM"
      },
      "source": [
        "### Call to OpenAI"
      ]
    },
    {
      "cell_type": "code",
      "execution_count": 5,
      "metadata": {
        "id": "6b0Ah2yi5E8p"
      },
      "outputs": [],
      "source": [
        "from openai import OpenAI\n",
        "client = OpenAI()"
      ]
    },
    {
      "cell_type": "markdown",
      "metadata": {
        "id": "VWwCYhP3FHjt"
      },
      "source": [
        "### Web scrap PUCP's Economics thesis repository"
      ]
    },
    {
      "cell_type": "markdown",
      "metadata": {
        "id": "K_dLIF1yFSgy"
      },
      "source": [
        "#### Import our package"
      ]
    },
    {
      "cell_type": "code",
      "execution_count": null,
      "metadata": {
        "id": "HbDzoj6tFTbL"
      },
      "outputs": [],
      "source": [
        "import requests\n",
        "from bs4 import BeautifulSoup\n",
        "import json"
      ]
    },
    {
      "cell_type": "markdown",
      "metadata": {
        "id": "pXawIhpTFZ6t"
      },
      "source": [
        "#### Applied wep scraping to all thesis with their abstracts from the first 4 pages"
      ]
    },
    {
      "cell_type": "code",
      "execution_count": 6,
      "metadata": {
        "colab": {
          "base_uri": "https://localhost:8080/"
        },
        "id": "ckvdovWVlFhJ",
        "outputId": "b5f701b2-6a93-4358-90f0-7b35269e4a41"
      },
      "outputs": [
        {
          "name": "stdout",
          "output_type": "stream",
          "text": [
            "[\n",
            "    {\n",
            "        \"title\": \"La supervisión del sistema bancario en el marco de la protección al consumidor\\n                    ﻿\",\n",
            "        \"abstract\": \"Abstract\\nEn el presente Trabajo de Suficiencia Profesional expondré mi experiencia\\r\\nprofesional como asistente en temas económicos en el Instituto Nacional de Defensa\\r\\nde la Competencia y de la Protección de la Propiedad Intelectual, en adelante\\r\\nINDECOPI. Específicamente en el área encargada de la supervisión al sistema\\r\\nfinanciero regulado dentro de la Gerencia de Supervisión y Fiscalización. La gerencia\\r\\ninterviene en casos de impacto nacional y en sectores sensibles del mercado con el\\r\\nfin de disuadir conductas infractoras.\\r\\nEl documento expone el marco normativo bajo el que se rigen las supervisiones\\r\\nbancarias, define las conductas infractoras bajo supervisión, detalla la metodología\\r\\nde las supervisiones y realiza un ejemplo de supervisión a una entidad financiera, el\\r\\nmismo que permite ver las infracciones más frecuentes cometidas por las entidades\\r\\nfinancieras en perjuicio de los consumidores, resaltando la importancia de este tipo\\r\\nde supervisiones. Asimismo, se hace mención de las acciones tomadas por\\r\\nINDECOPI y los cambios en la supervisión financiera derivados de la crisis sanitaria\\r\\ndel COVID-19.\"\n",
            "    },\n",
            "    {\n",
            "        \"title\": \"El efecto del tiempo de desplazamiento de la vivienda al centro educativo sobre el rendimiento escolar en el área rural del Perú\\n                    ﻿\",\n",
            "        \"abstract\": \"Abstract\\nLa presente investigación aporta a la discusión del efecto del tiempo de\\r\\ndesplazamiento de la vivienda al centro educativo sobre el rendimiento escolar en el\\r\\nárea rural del Perú. En ciertas zonas del área rural, las viviendas se encuentran\\r\\ndispersas, por lo que algunos escolares tienen que desplazarse largas distancias\\r\\ndesde sus viviendas al centro educativo (ida y vuelta) para recibir una educación en\\r\\nel nivel de primaria o secundaria. En ese sentido, el tiempo que emplean para\\r\\ndesplazarse al centro educativo puede disminuir el tiempo que los escolares destinan\\r\\na sus horas de estudio, sea en el centro educativo y/o en la vivienda. Sin embargo,\\r\\npuede ocurrir que algunos escolares emplean un mayor tiempo de desplazamiento\\r\\npara asistir a un centro educativo lejano a su comunidad a cambio de recibir una\\r\\neducación de buena calidad, lo cual incide favorablemente en su rendimiento escolar.\\r\\nA partir de ello, surge la pregunta de esta investigación: ¿Cuál es el efecto del tiempo\\r\\nde desplazamiento de la vivienda al centro educativo sobre el rendimiento escolar en\\r\\nel área rural del Perú? La hipótesis plantea que, si aumenta el tiempo de\\r\\ndesplazamiento de vivienda al centro educativo (ida y vuelta), disminuye el\\r\\nrendimiento escolar. Para responder a esta interrogante, se usa la base de datos\\r\\nNiños del Milenio, y se emplea un modelo de Efectos Fijos. Según los resultados\\r\\nobtenidos, no hay evidencia de un efecto del tiempo de desplazamiento sobre el\\r\\nrendimiento escolar en matemática, PPVT y comprensión lectora.\"\n",
            "    },\n",
            "    {\n",
            "        \"title\": \"Efectos del cambio en el salario mínimo sobre la duración del empleo en Lima Metropolitana. Un análisis sobre los años 2011, 2012 y 2016\\n                    ﻿\",\n",
            "        \"abstract\": \"Abstract\\nEl presente trabajo investiga el efecto de cambios en el salario mínimo sobre la\\r\\nduración del empleo. Para ello, utilizando una metodología de análisis de\\r\\nsupervivencia desde una aproximación semi-paramétrica y paramétrica, se utilizan los\\r\\npaneles rotativos de re-entrevista a 3 meses de la Encuesta Permanente de Empleo\\r\\n(EPE) para revisar dicho efecto sobre la población en Lima Metropolitana.\\r\\nConsiderando los dos cambios de RMV del 2011, el cambio en 2012 y el cambio en\\r\\n2016, se construyen modelos individuales sobre cada uno de estos, además de un\\r\\npool de datos con la información de todos para verificar la influencia de la RMV tanto\\r\\npor distancia de salario al punto de corte como por diferencias sobre los mismos. Los\\r\\nresultados indican que salarios cercanos alrededor del salario mínimo tienen un efecto\\r\\nsignificativo de al menos 2 p.p., considerándose un efecto faro. Sin embargo, este se\\r\\nve opacado si el individuo se encuentra en micro o pequeñas empresas, o al no tener\\r\\nestudios superiores (universitarios o no universitarios), puesto que se da una\\r\\nreducción relativa del salario. Se realiza una revisión de efectos heterogéneos para\\r\\nlos sectores formal e informal y se aprecian efectos similares sobre el sector formal,\\r\\nmientras que en el sector informal se ve un efecto contraproducente en rangos no tan\\r\\ncercanos a la RMV.\"\n",
            "    },\n",
            "    {\n",
            "        \"title\": \"Análisis de inversión en la BVL “Caso Alicorp 2023”\\n                    ﻿\",\n",
            "        \"abstract\": \"Abstract\\nEl presente informe ha sido desarrollado en base a mi experiencia profesional como\\r\\nfuncionario de inversión y como Analista de Research en una de las Sociedades\\r\\nAgentes de Bolsa más antiguas del Perú: Magot SAB. Mi principal función dentro de\\r\\nla empresa es la de otorgar recomendaciones de inversión a la cartera de clientes de\\r\\nla Sociedad. En ese sentido, en el presente documento plasmaré un breve análisis\\r\\nsobre Alicorp, una de las acciones más representativas de la Bolsa de Valores de\\r\\nLima. El análisis comprenderá tanto análisis fundamental de la compañía, así como\\r\\nanálisis técnico. En la primera sección evaluaremos la evolución de las ventas de la\\r\\ncompañía durante los últimos años, por otro lado, evaluaremos los múltiplos de la\\r\\ncompañía y los compararemos con sus principales competidores a nivel mundial. En\\r\\nla segunda sección, expondremos distintas herramientas dentro del análisis técnico\\r\\ncon la finalidad de poder esclarecer el posible recorrido futuro del precio de la acción\\r\\n-Alicorc1-.\"\n",
            "    },\n",
            "    {\n",
            "        \"title\": \"Evaluating multidimensional poverty at the individual level in a middle-income country: a comprehensive approach using Peruvian data\\n                    ﻿\",\n",
            "        \"abstract\": \"Abstract\\nI develop a comprehensive, policy-relevant and individual-based measure of\\r\\nmultidimensional poverty applied to a middle-income Latin American country: the\\r\\nComprehensive Multidimensional Poverty Index for Peru (C-MPI-P). The C-MPI-P is\\r\\nconceptually grounded in Amartya Sen’s capability approach and is based on the\\r\\naxiomatic counting method of poverty identification and aggregation developed by\\r\\nAlkire and Foster. I estimate the C-MPI-P taking advantage of a well-being specialised\\r\\nsurvey collected in late 2018 in Peru, which included novel data on individual\\r\\nachievements across 12 well-being dimensions, information on the value that\\r\\nrespondents place upon each of these dimensions, and on self-perceived poverty. I\\r\\nuse this information to calibrate two key parameters of the C-MPI-P: the dimensional\\r\\nweights (w), and the poverty threshold (k). The C-MPI-P identifies a person as\\r\\nexperiencing poverty if she suffers deprivations in approximately four out of 12\\r\\nweighted dimensions (k=34%). I estimate that in 2018 almost one in four Peruvian\\r\\npeople aged 18 or over lived in multidimensional poverty. I also find significant\\r\\ndisparities in terms of poverty incidence –proportion of people living in\\r\\nmultidimensional poverty–, especially between the rural and urban population, and\\r\\nindigenous and non-indigenous people. My main results are robust to different values\\r\\nfor k and to weighting schemes that affect the dimensional structure of the C-MPI-P.\"\n",
            "    },\n",
            "    {\n",
            "        \"title\": \"Cálculo de la brecha docente en educación intercultural bilingüe\\n                    ﻿\",\n",
            "        \"abstract\": \"Abstract\\nEl presente documento estima la brecha docente en el servicio educativo, en lo\\r\\nque refiere a la enseñanza en los niveles de inicial y primaria en lenguas originarias,\\r\\nconocida también como Educación Intercultural Bilingüe. Este análisis fue elaborado\\r\\nmientras me desempeñaba como especialista en la coordinación de gestión de la\\r\\ninformación en la Dirección de Formación Inicial Docente (DIFOID), del Ministerio de\\r\\nEducación.\\r\\nEste análisis resulta relevante puesto que permite conocer un componente de\\r\\nla capacidad del Estado para proveer adecuadamente el derecho a la educación,\\r\\nconsiderando la heterogeneidad cultural, social y lingüística del país. Los resultados,\\r\\nde esta forma, representan evidencia para la modificación de políticas de formación\\r\\ndocente actual, o la elaboración de nuevas iniciativas. Se emplearon, principalmente,\\r\\nbases de datos relacionados a la matrícula y al personal que labora en las instituciones\\r\\neducativas en el país.\"\n",
            "    },\n",
            "    {\n",
            "        \"title\": \"Evaluación de la condición de proveedor importante de la empresa Telefónica del Perú S.A.A. en el Mercado N°25: Acceso Mayorista para Internet y Transmisión\\n                    ﻿\",\n",
            "        \"abstract\": \"Abstract\\nEl presente documento expone mi experiencia laboral como Ejecutivo Asociado del\\r\\nárea de Regulación Económica y Mayorista de Telefónica del Perú en la elaboración\\r\\ndel informe sobre la revisión de la Determinación de Proveedores Importantes en el\\r\\nMercado N°25: Acceso Mayorista para Internet y Transmisión de Datos promovida por\\r\\nel OSIPTEL. La revisión de esta regulación es importante debido a que, actualmente,\\r\\nexiste una dinámica comercial y competitiva que muestra que el mercado relevante\\r\\nde internet fijo y transmisión de datos no tiene un operador con características de\\r\\nproveedor importante. Para ello, mi experiencia laboral consistió en la recolección de\\r\\ndatos en coordinación con las distintas áreas internas de planta (abonados),\\r\\ninfraestructura y otros del mercado relevante mencionado; recolección de datos de\\r\\notros operadores mediante consultas públicas al Ministerio de Transportes y\\r\\nComunicaciones y OSIPTEL; en el tratamiento, modelamiento y análisis de los datos\\r\\nrecolectados; evaluar desde el punto de vista de Telefónica del Perú la existencia de\\r\\nproveedor importante en dicho mercado relevante; y la redacción final del documento.\"\n",
            "    },\n",
            "    {\n",
            "        \"title\": \"Efectos de la inversión pública y los ingresos tributarios exógenos en el nivel de actividad económica del 2000-2019\\n                    ﻿\",\n",
            "        \"abstract\": \"Abstract\\nAnalizamos los efectos de la inversión pública y los ingresos tributarios exógenos\\r\\nen la actividad económica. Para ello, se implementa un modelo de Vector autorregresivo\\r\\nestructural (SVAR) con la identificación de Blanchard y Perotti (2002), controlándose por\\r\\nel índice de precios de exportación, el rendimiento de mercado de los bonos del Tesoro\\r\\nde Estados Unidos a 10 años de vencimiento constante y los términos de intercambio.\\r\\nCabe resaltar que el índice de precios de exportación y los términos de intercambio,\\r\\nnunca irán en el mismo modelo, debido a la alta correlación. En este sentido, se obtienen\\r\\nlas funciones impulso respuesta para ver los efectos y sus respectivas bandas de\\r\\nconfianza para evaluar la significancia de las mismas. Con ello, el efecto de la inversión\\r\\npública sobre la actividad económica, es positivo y significativo. Sin embargo, los ingresos\\r\\ntributarios exógenos tienen un efecto negativo y no significativo sobre la misma. Por otro\\r\\nlado, para evaluar la robustez de los resultados se emplean 3 modelos empíricos.\\r\\nPrimero, el método de proyecciones locales de Jorda (2005). Luego, el método de\\r\\nproyecciones locales suavizado de Barnichon y Brownlees (2019). Finalmente, un modelo\\r\\nSVAR identificado mediante la descomposición de Cholesky. En todos los casos se\\r\\nverifican los resultados generales obtenidos con el modelo de referencia.\"\n",
            "    },\n",
            "    {\n",
            "        \"title\": \"La dinámica de la prima por plazo en soles: un estudio de sus componentes para el caso peruano entre el 2007 y 2022\\n                    ﻿\",\n",
            "        \"abstract\": \"Abstract\\nLa prima por plazo proporciona información valiosa para la formulación de políticas\\r\\nmonetarias adecuadas, el mejoramiento de la habilidad predictiva y la valoración de\\r\\nriesgos, y rendimientos en distintos plazos de inversión. En ese sentido, el trabajo\\r\\ntiene como objetivo principal la estimación de la prima por plazo en soles y el análisis\\r\\nde sus principales componentes para el caso peruano entre 2007 y 2022. Para su\\r\\nestimación, se utiliza el modelo ACM propuesto por Adrian Crump y Moench (2013),\\r\\nmientras que el análisis de sus componentes se realiza a través del método de MCO.\\r\\nLos resultados obtenidos resaltan la importancia de la prima plazo como reflejo del\\r\\nriesgo macrofinanciero. Así, se evidencia que su dinámica está principalmente\\r\\ninfluenciada por la prima por plazo de Estados Unidos, lo cual demuestra la relevancia\\r\\ndel riesgo global. Asimismo, las expectativas de inflación surgen como variable de\\r\\nriesgo local más significativa debido a que impacta en la prima por plazo en todos sus\\r\\nhorizontes. Además, las expectativas de depreciación, el EMBIG, la volatilidad de la\\r\\nBVL y la tasa de referencia también ejercen un impacto positivo. A partir de todo lo\\r\\nmencionado, se sugiere realizar un análisis y seguimiento más exhaustivos de la prima\\r\\npor plazo por parte de la autoridad monetaria. Estos avances constituyen una base\\r\\nsólida para la mejor toma de decisiones de los inversionistas y la realización de futuras\\r\\ninvestigaciones.\"\n",
            "    },\n",
            "    {\n",
            "        \"title\": \"La determinación de la multa coercitiva: Una perspectiva desde el análisis económico del derecho\\n                    ﻿\",\n",
            "        \"abstract\": \"Abstract\\nLos organismos reguladores tienen funciones que modelan el comportamiento\\r\\nno deseado de los agentes económicos como, por ejemplo, el ejercicio de poder de\\r\\nmercado, las afectaciones a los derechos de los consumidores o a diversas\\r\\nespecificaciones técnicas. Para ello, el regulador debe alinear los incentivos con los\\r\\nobjetivos mediante el establecimiento de multas y otras medidas. Las normas que\\r\\nregulan el comportamiento de los agentes se enmarcan dentro del derecho\\r\\nadministrativo peruano, uno de cuyos principios establece que incumplir las normas\\r\\nno debe resultar más beneficioso que cumplirlas. Por el lado de la economía, desde\\r\\nlos trabajos de Ronald Coase y Gary Becker, entre otros, se ha desarrollado un marco\\r\\nteórico para analizar el comportamiento infractor desde el punto económico.\\r\\nEl OSINERGMIN aplicó este cuerpo teórico al diseño de sus escalas de\\r\\nsanciones y, en 2017, se utilizó en la determinación del valor monetario de las\\r\\ninfracciones llamadas coercitivas. Este trabajo desarrolla el análisis empleado para\\r\\ndeterminar el valor pecuniario de las infracciones a las medidas administrativas. Este\\r\\nInforme muestra una forma en la que el análisis económico del derecho puede\\r\\ncontribuir a la legitimidad y eficiencia de la institucionalidad jurídica en el País.\"\n",
            "    },\n",
            "    {\n",
            "        \"title\": \"Efectos indirectos del Programa JUNTOS, una aproximación cuasiexperimental:  evidencia sobre la mortalidad infantil y en la niñez\\n                    ﻿\",\n",
            "        \"abstract\": \"Abstract\\nEntre el periodo del 2009-2019 se observa una reducción notable de la mortalidad infantil\\r\\ny en la niñez, estando el Perú por debajo del valor promedio de Latinoamérica. Aunque\\r\\nexisten varias investigaciones sobre los determinantes de la mortalidad en edades\\r\\ntempranas, no se encuentran muchos estudios que midan la efectividad de las\\r\\ntransferencias condicionadas sobre estas variables. En el Perú, desde el año 2005, el\\r\\nPrograma Directo de Apoyo a los más pobres-JUNTOS, brinda una transferencia\\r\\nbimensual de 200 soles, ha beneficiado a más de 753,638 hogares. La presente\\r\\ninvestigación tiene como objetivo medir sus efectos indirectos sobre la mortalidad infantil\\r\\ny en la niñez. Para ello, se utilizará la metodología del PSM y la ENDES para el periodo\\r\\n2014-2019. Asimismo, se medirán efectos heterogéneos por región natural (Costa, Sierra\\r\\ny Selva) y se complementará con la medición de resultados intermedios y una cohorte de\\r\\nedad adicional (menores de tres años) para un mayor entendimiento de los resultados.\\r\\nLos resultados encontrados muestran que, de cumplirse la cadena causal, se\\r\\nencontrarían efectos sobre la mortalidad en la niñez. Los efectos encontrados sobre la\\r\\nmortalidad en menores de tres años como los infantes podrían deberse al acceso a\\r\\ninsumos básicos de salud. Finalmente, como pruebas de robustez se implementó, el test\\r\\nde no observables de Rosenbaum (2002), sensibilidad ante la metodología de\\r\\nemparejamiento, balance de covariables propuesto por Smith y Todd (2005); y, test de\\r\\nfalsificación de Lee y Lemieux (2010), teniendo resultados robustos para la mayoría del\\r\\nperiodo de estudio.\"\n",
            "    },\n",
            "    {\n",
            "        \"title\": \"Planeamiento estratégico: Elaboración del Plan Operativo Anual 2023 del Programa de Inversión “Fomento y Gestión Sostenible de la Producción Forestal en el Perú”\\n                    ﻿\",\n",
            "        \"abstract\": \"Abstract\\nEl presente trabajo de suficiencia profesional se enmarca en mi experiencia\\r\\nlaboral dentro de la Unidad de Planeamiento, Presupuesto y Modernización (UPPM) de\\r\\nla Unidad Ejecutora (UE) 003 – 1737, encargada de ejecutar el Programa de Inversión\\r\\n“Fomento y Gestión Sostenible de la Producción Forestal en el Perú” del Servicio\\r\\nNacional Forestal y de Fauna Silvestre – SERFOR, entidad adscrita al Ministerio de\\r\\nDesarrollo Agrario y Riego – MIDAGRI. Este Programa de Inversión se enmarca a su\\r\\nvez en el Contrato de Préstamo y el Contrato de Aporte Financiero suscritos el año 2021\\r\\nentre la República del Perú y el Banco de Desarrollo del Estado de la República Federal\\r\\nde Alemania (KfW).\\r\\nA lo largo del presente trabajo se desarrollará la elaboración de uno de los\\r\\ndocumentos más importantes respecto al Planeamiento Estratégico dentro de\\r\\nProgramas de Inversión financiados a través de cooperación internacional u\\r\\noperaciones de crédito externo: el Plan Operativo Anual – POA. Este documento de\\r\\ngestión y planeamiento estratégico es a su vez solicitado a las Unidades Ejecutoras de\\r\\nProgramas financiados por los diferentes organismos internaciones de cooperación\\r\\nbilateral y multilateral como el BID, BM, BIRF, KFW, JICA, GIZ entre otros. Dichos\\r\\norganismos cooperantes solicitan este documento de gestión de forma anual, necesario\\r\\npara la ejecución estratégica de la inversión, donde el principal propósito es programar\\r\\nlas actividades necesarias de forma estratégica haciendo uso de los recursos\\r\\nfinancieros del préstamo (ROOC) así como de los recursos provenientes de la\\r\\ncontrapartida nacional (RO), con la finalidad de cumplir los objetivos de los Programas.\"\n",
            "    },\n",
            "    {\n",
            "        \"title\": \"Estimación de grilla de precios para préstamos no revolventes en tarjetas de crédito\\n                    ﻿\",\n",
            "        \"abstract\": \"Abstract\\nEl presente documento presenta mi experiencia profesional como especialista\\r\\nde pricing and revenue assurance, encargado del portafolio de tarjetas de crédito en\\r\\nun banco del sistema financiero peruano1. Específicamente, se presenta el caso de\\r\\ngeneración de una nueva grilla de precios para préstamos no revolventes en tarjetas\\r\\nde crédito.\\r\\nEsta experiencia profesional se realizó en el marco de un cambio de estrategia\\r\\ncomercial en la gestión del portafolio de tarjetas de crédito, la cual se dio como\\r\\nconsecuencia de la reestructuración interna del banco en el que trabaja el autor de\\r\\neste informe. Antes de la reestructuración, el portafolio de tarjetas de crédito era\\r\\ngestionado por una Vicepresidencia independiente y dedicada únicamente a la gestión\\r\\ndel mismo. Esto implicaba que las estrategias comerciales seguían solamente los\\r\\nlineamientos de dicha Vicepresidencia. Por otra parte, luego de la reestructuración de\\r\\nla institución, todos los portafolios son gestionados por un mismo equipo, el cual debe\\r\\nseguir los lineamientos generales que vienen desde la alta dirección local y la casa\\r\\nmatriz global.\\r\\nFinalmente, cabe mencionar que no era posible utilizar métodos estadísticos de\\r\\nregresión para generar la nueva grilla, pues la reestructuración interna implicó un\\r\\ncambio estructural en los modelos de gestión y generación comercial en general. Dada\\r\\nesta situación se generó la nueva grilla de precios con un algoritmo que usa la data\\r\\nhistórica con un enfoque de preferencias reveladas.\"\n",
            "    },\n",
            "    {\n",
            "        \"title\": \"Estructuración Económica Financiera de Asociaciones Público-Privadas: El Proyecto PTAR Huancayo\\n                    ﻿\",\n",
            "        \"abstract\": \"Abstract\\nLas APP en el Perú y en América Latina han tomado gran relevancia para lograr\\r\\nel cierre de las brechas de infraestructura. El presente trabajo presenta una breve\\r\\ndescripción del marco normativo de la APP en el Perú para que en base a ello se\\r\\npueda estructurar económica y financieramente el proyecto PTAR Huancayo. La\\r\\nestructuración económica se basa en un mecanismo de Pagos por Disponibilidad\\r\\n(PPD), el cual tiene como característica principal retribuir el pago de inversión una vez\\r\\nterminada la infraestructura. La estructuración financiera toma en cuenta los valores\\r\\ndel PPD, la tasa de descuento y el nivel de apalancamiento y financiamiento del\\r\\nproyecto. Asimismo, existe ciertas ventajas de este mecanismo de pago frente a otros\\r\\ndebido a la distribución de riesgos, costo de financiamiento, entre otros, lo cual hace\\r\\nque sea un mecanismo apetecible para el Estado.\"\n",
            "    },\n",
            "    {\n",
            "        \"title\": \"Impacto de los incentivos extrínsecos en el desempeño académico al rendir exámenes: un estudio exploratorio en estudiantes universitarios\\n                    ﻿\",\n",
            "        \"abstract\": \"Abstract\\nLas pruebas estandarizadas de rendimiento escolar evalúan periódicamente a nivel\\r\\ninternacional los resultados del sistema educativo de cada país. Sin embargo, dichos\\r\\nresultados pueden estar sesgados ya que no capturan en su totalidad las habilidades\\r\\ncognitivas de los estudiantes que pueden o no estar motivados al momento de rendir\\r\\nel examen. Por ello, el presente trabajo de investigación tiene como objetivo analizar\\r\\nel impacto de los incentivos extrínsecos ante el déficit de motivación intrínseca sobre\\r\\nel esfuerzo de los estudiantes bajo el contexto de rendir un examen. Para ello se aplicó\\r\\nun experimento económico en alumnos de la PUCP a través de una prueba de\\r\\nhabilidad e incentivándolos monetariamente para analizar los efectos en su esfuerzo.\\r\\nEl análisis de los resultados obtenidos muestran evidencia de que parcialmente existe\\r\\nun efecto positivo en el esfuerzo del estudiante debido a la introducción de incentivos\\r\\nextrínsecos financieros. No obstante, también se halló evidencia que sugeriría que\\r\\ndentro del marco de contratos incompletos, el suministro de incentivos extrínsecos\\r\\notorga nueva información al agente económico a través de la estructura de pagos de\\r\\nestos. Por consiguiente, el comportamiento final del estudiante podría no ser el\\r\\nesperado según la teoría del comportamiento económico estándar.\"\n",
            "    },\n",
            "    {\n",
            "        \"title\": \"Análisis de experiencias orientadas a la prevención y reducción de la anemia\\n                    ﻿\",\n",
            "        \"abstract\": \"Abstract\\nLa prevención y tratamiento de la anemia ganaron mayor relevancia a partir del\\r\\naño 2017 con la implementación tanto del Plan Nacional para la Reducción y\\r\\nControl de la Anemia Materno Infantil y la Desnutrición Crónica Infantil como del\\r\\nPlan Multisectorial de Lucha contra la Anemia (PMLCA). Bajo este contexto, se\\r\\nllevaron a cabo diversas intervenciones tanto desde el sector público como del\\r\\nsector privado, con el objetivo de reducir la prevalencia de la anemia y la\\r\\nmalnutrición. Dado que la etapa de evaluación desempeña un papel crucial para\\r\\ncomprender los resultados de la ejecución de estas intervenciones, el presente\\r\\ninforme se enfoca en sistematizar los resultados relacionados con la evaluación\\r\\nde diseño, gestión, resultados y sostenibilidad de las visitas domiciliarias como\\r\\nestrategia para la prevención de la anemia en dos programas específicos: el\\r\\nSistema de Acompañamiento Familiar de Cuna Más y la Meta 4 del Programa\\r\\nde Incentivos a la Mejora de la Gestión Municipal en 2019, denominada\\r\\n\\\"Acciones de Municipios para Promover la Adecuada Alimentación y la\\r\\nPrevención y Reducción de la Anemia\\\". Esta evaluación se llevó a cabo entre los\\r\\naños 2019 y 2020, en la que se utilizó información de ambos programas y se\\r\\nincluyó un componente cualitativo importante para complementar las\\r\\ndimensiones de la evaluación.\"\n",
            "    },\n",
            "    {\n",
            "        \"title\": \"Impactos sectoriales de la política monetaria en el Perú: evidencia empírica a partir de un modelo FAVAR\\n                    ﻿\",\n",
            "        \"abstract\": \"Abstract\\nEn este documento se cuantifica el impacto sectorial de la política monetaria en el Perú\\r\\nutilizando un modelo de vectores autorregresivos con factores aumentados (FAVAR)\\r\\npara el periodo 2003-2018 en un conjunto de setenta y ocho variables. Los resultados\\r\\nmuestran que existe un impacto diferenciado de la política monetaria sobre los diferentes\\r\\nsectores de la economía en magnitud y horizonte temporal, siendo los sectores\\r\\nelectricidad y agua, manufacturas y comercio los más sensibles a choques de política\\r\\nmonetaria, pues un aumento de 100 puntos básicos de la tasa de interés de política\\r\\nmonetaria genera una reducción en el PBI de estos sectores de 14.1, 13.7 y 10.5 puntos\\r\\nbásicos, respectivamente. Adicionalmente, la descomposición de varianza muestra\\r\\nque los choques de política monetaria han tenido una baja contribución en el comportamiento\\r\\nde las variables económicas del Perú en el periodo de estudio. This document quantifies the sectoral impact of monetary policy in Peru using a Factor\\r\\n- Augmented Vector Autoregressive Model (FAVAR) for the period 2003-2018 in a set\\r\\nof seventy-eight variables. The results show that there is a differentiated effect of monetary\\r\\npolicy on the different sectors of the economy in magnitude and time horizon,\\r\\nbeing the sectors electricity and water, manufacturing, and trade sectors the most sensitive\\r\\nto monetary policy shocks since an increase in 100 basis points of the monetary\\r\\npolicy interest rate generates a reduction in the GDP of these sectors of 14.1, 13.7 and\\r\\n10.5 basis points, respectively. Additionally, the variance decomposition shows that\\r\\nmonetary policy shocks have had a low contribution to the behavior of Peru’s economic\\r\\nvariables in the study period.\"\n",
            "    },\n",
            "    {\n",
            "        \"title\": \"Determinación de las contribuciones por supervisión de la Superintendencia del Mercado de Valores (SMV)\\n                    ﻿\",\n",
            "        \"abstract\": \"Abstract\\nEl presente documento expone mi experiencia laboral como analista principal en\\r\\nla Intendencia General de Investigación e Innovación de la Superintendencia del\\r\\nMercado de Valores (SMV), encargado, entre otras funciones de realizar estadísticas,\\r\\ninvestigaciones de legislación comparada y estudios de carácter económico-financiero\\r\\nrelacionados a los mercados supervisados. Específicamente, la experiencia laboral\\r\\nexpuesta es elaborar un informe que justifique las modificaciones en la norma de\\r\\ncontribuciones para incentivar al mercado ante eventos de crisis económica, a través de\\r\\nla reducción en sus contribuciones por los servicios de supervisión que presta la SMV.\\r\\nDe esta manera, mi trabajo como Analista Principal en la SMV, se centró en el proceso\\r\\nde diseño, proyecciones y análisis del costo-beneficio de dicha norma de incentivos.\"\n",
            "    },\n",
            "    {\n",
            "        \"title\": \"El proceso de reasentamiento de la comunidad campesina de Fuerabamba como parte del proyecto minero Las Bambas\\n                    ﻿\",\n",
            "        \"abstract\": \"Abstract\\nEl presente Trabajo de Suficiencia Profesional se enmarca en el sector\\r\\nminero peruano; particularmente, dentro del área de gestión social, presentando\\r\\nuna reflexión de lo que significó el proceso de Reasentamiento de la Comunidad\\r\\nCampesina de Fuerabamba y su vínculo con el proyecto minero Las Bambas.\\r\\nCabe reconocer que, en líneas generales, la huella minera de distintos\\r\\nproyectos (mineros o de infraestructura) están cada vez más cerca de las\\r\\ncomunidades y centros poblados, por lo que, desde la perspectiva de la empresa\\r\\nminera y en pro del proyecto, es necesario trasladar a los habitantes de estas\\r\\ncomunidades para mitigar el impacto que generaría la operación y/o construcción\\r\\nde estos, siempre y cuando las comunidades acepten la ejecución del proyecto\\r\\ny se respete la voluntad informada. Sin embargo, este nuevo escenario revela\\r\\nproblemas éticos entre las relaciones de comunidades campesinas y las\\r\\nempresas mineras en el país.\\r\\nPuntualmente, en el caso a exponer, con sus pro y contras, la experiencia\\r\\ndel reasentamiento involuntario de Fuerabamba, es única e inédita a nivel\\r\\nmundial. A continuación, se relatará parte del proceso desde la perspectiva del\\r\\nautor, quien se desempeñó, primero, como consultor en relaciones comunitarias\\r\\nde la consultora ERM para atender el proceso de reasentamiento en\\r\\nFuerabamba entre el 2013 al 2015, y posteriormente como analista de\\r\\nplaneamiento y monitoreo de Minera Las Bambas entre los años 2016 y 2019;\\r\\npor tanto, y debido a las responsabilidades laborales, debe entenderse que esta\\r\\nperspectiva obedece también a intereses primarios de la minera.\"\n",
            "    },\n",
            "    {\n",
            "        \"title\": \"Desarrollo de indicadores de control para la iniciativa HEARTS en el Perú\\n                    ﻿\",\n",
            "        \"abstract\": \"Abstract\\nEl presente documento tiene el objetivo de sistematizar mi experiencia\\r\\nlaboral como consultor externo de la Organización Panamericana de la Salud\\r\\n(OPS). En particular, describe el proyecto de construcción, análisis y\\r\\nseguimiento de indicadores sociales, económicos y de salud de la iniciativa\\r\\nHEARTS para el control de la presión arterial en centros de salud de atención\\r\\nprimaria. En ese sentido, mi trabajo se centró en estructurar de la base de datos\\r\\na utilizar, elaborar una metodología de trabajo que se aplique durante las\\r\\nsiguientes etapas de implementación del proyecto, análisis geo-referencial de los\\r\\ncentros de salud en los que se implementó la iniciativa HEARTS, análisis\\r\\nsocioeconómico de las regiones en donde se encuentran los centros de salud y\\r\\nla construcción de indicadores utilizando fuentes de información secundarias.\"\n",
            "    },\n",
            "    {\n",
            "        \"title\": \"Impacto de los retiros anticipados de los fondos de pensiones en el mercado cambiario peruano (2020-2022)\\n                    ﻿\",\n",
            "        \"abstract\": \"Abstract\\nEl presente documento describe el impacto que tuvieron los retiros anticipados\\r\\nde las Cuentas Individuales de Capitalización (CIC) de los afiliados al Sistema Privado\\r\\nde Pensiones (SPP) sobre el mercado cambiario peruano (cotización USD-PEN),\\r\\ntanto spot (o entrega inmediata) como forward, desde el 2020.\\r\\nLa pandemia desatada por el Covid-19 expuso las deficiencias de los sistemas\\r\\nde pensiones de América Latina y provocó un abrumador descontento social. Perú no\\r\\nfue un caso aislado, por lo que tanto el gobierno como el Parlamento aprobaron una\\r\\nserie de retiros anticipados de las CIC de los pensionistas. Debido al gran volumen de\\r\\nactivos que gestionan las Administradoras de Fondos de Pensiones (AFP), alrededor\\r\\nde S/ 105 mil millones a diciembre de 2022, la demanda de retiros anticipados afectó\\r\\nal mercado cambiario producto de la liquidación de la cartera extranjera gestionada\\r\\npor las AFP.\\r\\nEste análisis demanda conocimientos financieros (principalmente sobre\\r\\ninstrumentos derivados) y pragmáticos (funcionamiento del mercado cambiario\\r\\nprofesional), los cuales adquirí a durante mi etapa universitaria y profesional como\\r\\nEspecialista de Operaciones Monetarias y Cambiarias en el BCRP.\"\n",
            "    },\n",
            "    {\n",
            "        \"title\": \"Efectos de la exposición temprana a eventos climatológicos extremos sobre la acumulación de capital humano: el caso de los infantes afectados por el Fenómeno El Niño de 1997-1998 en el Perú\\n                    ﻿\",\n",
            "        \"abstract\": \"Abstract\\nEsta investigación estudia los efectos de mediano y largo plazo de la exposición\\r\\ntemprana a eventos climatológicos extremos sobre la acumulación de capital humano\\r\\npara el caso de los infantes afectados por el Fenómeno El Niño 1997-1998 en el Perú.\\r\\nUtilizando datos de los Censos Nacionales de Población y Vivienda 2005 y 2017, junto\\r\\ncon datos de series climatológicas proveniente de la Unidad de Investigación Climática\\r\\nde la Universidad de Delaware, identificamos a los infantes expuestos (tratados) al\\r\\nshock climatológico durante los primeros 5 años de vida en los meses de mayor\\r\\nintensidad de lluvias (noviembre 1997 hasta abril 1998). Empleando un método de\\r\\nemparejamiento de vecino más cercano, NN-matching, construimos un grupo de\\r\\ndistritos contrafactual para el grupo tratado con similares características demográficas\\r\\ny socioeconómicas previas al shock. Los resultados del estudio encuentran efectos\\r\\npositivos sobre la probabilidad de ser analfabeto y la probabilidad de no tener\\r\\neducación formal para las cohortes tratadas durante los primeros años de vida 7 años\\r\\ndespués del shock. Dichos efectos son significativos para las cohortes tratadas\\r\\nnacidas en área urbanas, dada la mayor intensidad de los impactos del FEN sobre\\r\\ndichas zonas. Para el largo plazo, 19 años después, los efectos sobre las variables de\\r\\neducación medidas por los años de educación acumulada y probabilidad de culminar\\r\\nla secundaria parecen disiparse a lo largo de tiempo. Los hallazgos sugieren que el\\r\\nentorno del hogar y el estado de salud de los infantes tratados pueden formar parte\\r\\nde los posibles mecanismos detrás de los efectos negativos encontrados en el\\r\\nmediano plazo.\"\n",
            "    },\n",
            "    {\n",
            "        \"title\": \"Disminución en el ciclo de liquidación y la liquidez en la Bolsa de Valores de Lima\\n                    ﻿\",\n",
            "        \"abstract\": \"Abstract\\nMi experiencia laboral se ha desarrollado en el Grupo BVL (GBVL), iniciando como\\r\\npracticante de desarrollo de proyectos en su subsidiaria Bolsa de Valores de Lima\\r\\n(BVL), apoyando en la elaboración de reportes e informes de potenciales productos\\r\\nfinancieros y negocios. Posterior a ello, pasé a ser ejecutivo junior de servicios\\r\\ninternacionales en el Registro Central de Valores y Liquidaciones (CAVALI)\\r\\ntrabajando en temas relacionados a la custodia, compensación y liquidación de los\\r\\nvalores internacionales en los depósitos de Depository Trust & Clearing Corporation\\r\\n(DTCC) y The Canadian Depository for Securities (CDS). En este informe se\\r\\nevaluará si es necesario que el mercado peruano se prepare para el nuevo ciclo de\\r\\nliquidación T+1. Para aquello se evaluará si la reducción en el ciclo de liquidación\\r\\nperuano de T+3 a T+2 ha tenido un efecto positivo en la liquidez de las operaciones\\r\\nde rueda efectivo de la Bolsa de Valores de Lima.\"\n",
            "    },\n",
            "    {\n",
            "        \"title\": \"Análisis del comportamiento empresarial a través del monitoreo de reportes y consultas de usuarios: Estudio de caso del Centro Especial de Monitoreo de Indecopi\\n                    ﻿\",\n",
            "        \"abstract\": \"Abstract\\nEl presente documento contiene mi experiencia laboral como analista económico en\\r\\nel Centro de Especial de Monitoreo del Indecopi (en adelante CEMI) perteneciente a\\r\\nla Gerencia de Supervisión y Fiscalización (GSF) y posteriormente formó parte de la\\r\\nDirección de la Autoridad Nacional de Protección al Consumidor (DPC) de la Instituto\\r\\nNacional de Defensa de la Competencia y de la Propiedad Intelectual (INDECOPI).\\r\\nEn particular, se expone mi participación en la elaboración del tablero del CEMI en el\\r\\ncual participé directamente en la recopilación, procesamiento, visualización y posterior\\r\\nanálisis de los sectores de educación e inmobiliario. Para el cumplimiento de dicho\\r\\ntablero se realizó el procesamiento de bases de datos de distintos canales internos\\r\\nhabilitados por el INDECOPI y canales externos sobre reportes y consultas\\r\\nprovenientes de consumidores a nivel nacional sobre la vulneración de sus derechos.\\r\\nEl objetivo de dicho tablero recae en la posibilidad de detectar presuntos casos de\\r\\nvulneración de derechos del consumidor de manera automática, con la finalidad de\\r\\ngenerar alertas y dimensionar la problemática que este causando afectación a la\\r\\nciudadanía.\\r\\nEste tipo de tablero busca automatizar la información para identificar de manera\\r\\noportuna los problemas que generen vulneración a los derechos de los consumidores.\"\n",
            "    },\n",
            "    {\n",
            "        \"title\": \"Tesorería estratégica corporativa en Alicorp S.A.A. y Minsur S.A.\\n                    ﻿\",\n",
            "        \"abstract\": \"Abstract\\nEl presente informe expone mi experiencia laboral en el área de tesorería\\r\\nestratégica corporativa en las empresas Alicorp S.A.A. (consumo masivo) y\\r\\nMinsur S.A. (minería), destacadas empresas peruanas reconocidas por su\\r\\nliderazgo en sus respectivos rubros.\\r\\nEn específico, se abordará la importancia del área en tres campos clave de la\\r\\ngestión financiera: i) gestión de efectivo, ii) gestión de financiamientos e\\r\\ninversiones y iii) gestión de riesgos, y cómo el cumplimiento de los objetivos en\\r\\nestos campos es esencial para la salud financiera de la empresa.\\r\\nSe evidenciará la aplicación de herramientas económicas teóricas y prácticas\\r\\npara el cumplimiento de las funciones realizadas en el área, las cuales incluyen\\r\\nfases de planificación, ejecución y seguimiento de soluciones que en muchos\\r\\ncasos son de carácter multidisciplinario.\"\n",
            "    },\n",
            "    {\n",
            "        \"title\": \"Análisis de marcas: ámbito, proceso y aplicación para la toma de decisiones de inversión\\n                    ﻿\",\n",
            "        \"abstract\": \"Abstract\\nEl presente trabajo de suficiencia profesional (TSP) recoge mi experiencia laboral en\\r\\nel área de finanzas y producción de un consorcio empresarial dedicado al sector\\r\\nEntretenimiento y Turismo. El TSP permite describir mi participación en el mencionado\\r\\nconsorcio a través de la elaboración de un reporte por marca de distintos proveedores.\\r\\nPara ello, se utilizan los indicadores de evaluación proporcionados por el consorcio y\\r\\nse considera la normativa del Ministerio de Comercio Exterior y Turismo (MINCETUR).\\r\\nPor último, el análisis financiero es fundamental para el consorcio, puesto que permite\\r\\ndeterminar la producción de los locales diferenciados por marca según el proveedor,\\r\\nasí como seleccionar a los futuros proveedores para desarrollar una línea de negocio.\"\n",
            "    },\n",
            "    {\n",
            "        \"title\": \"Prácticas colusorias horizontales sujetas a prohibición absoluta: Hard Core Cartels en el mercado peruano\\n                    ﻿\",\n",
            "        \"abstract\": \"Abstract\\nLa presente sistematización se realizará a partir de mi experiencia profesional de más de un año en temas de libre competencia en la Dirección Nacional de Investigación\\r\\ny Promoción de la Libre Competencia (DLC) del INDECOPI. En específico, expondré mi experiencia desde mi participación en investigaciones por prácticas colusorias\\r\\nhorizontales sujetas a prohibición absoluta: Hard Core Cartels en el mercado peruano. Cabe mencionar que, la libre competencia es la mejor herramienta para promover\\r\\nla asignación eficiente de los recursos en el mercado. Puesto que, para ganar la preferencia de los consumidores, las empresas disminuyen sus precios e incrementan la calidad de sus productos. A consecuencia de ello, los consumidores obtienen más y\\r\\nmejores productos y servicios a su disposición. En particular, dentro de las prácticas\\r\\nanticompetitivas, las prácticas colusorias horizontales sujetas a prohibición absoluta, calificadas por la Organización para la Cooperación y Desarrollo Económicos (OCDE)\\r\\ncomo Hard Core Cartels, constituyen una de las principales preocupaciones de las autoridades de competencia en el mundo, al ser consideradas las violaciones más flagrantes de la ley de competencia. En el presente documento expondré las herramientas de análisis económico\\r\\nutilizadas durante mi experiencia en las investigaciones llevadas a cabo por la DLC del INDECOPI.\"\n",
            "    },\n",
            "    {\n",
            "        \"title\": \"Redefinición de la estrategia comercial en la división de consumo masivo en el Grupo ADM Perú\\n                    ﻿\",\n",
            "        \"abstract\": \"Abstract\\nEl presente informe profesional describe el trabajo que desempeñé en la unidad de\\r\\nconsumo masivo de ADM y puede ser descrito como la reingeniería del modelo de\\r\\nnegocio de ADM Perú. El objetivo principal fue hacer rentable la UNE de Consumo\\r\\nMasivo después de 2 años de perdida.\\r\\nPartimos del análisis de los estados financieros, la definición y análisis de los indicadores\\r\\nde gestión, cadena de valor, modelo de negocio, KPIs y el posicionamiento de los\\r\\nproductos en el mercado; y, finalmente y más importante, el recurso humano. El trabajo se realizó optimizando los diferentes procesos en todas las gerencias,\\r\\ncomercial, financiera, logística, finanzas, planta y commodities. Priorizamos el retorno de\\r\\nla inversión y la búsqueda de mayor eficiencia en el menor posible al trabajar en cada\\r\\nproceso.\\r\\nSe logró el principal objetivo de la unidad de consumo masivo de ADM Perú sea rentable\\r\\ngracias a la reducción de costos y mermas, eficiencia de procesos y en menor grado al\\r\\nrefresco de las marcas.\"\n",
            "    },\n",
            "    {\n",
            "        \"title\": \"Potenciales variables relacionadas a la productividad del Perú desde el enfoque de la innovación y su influencia en los proyectos de innovación de ProInnóvate\\n                    ﻿\",\n",
            "        \"abstract\": \"Abstract\\nComo economista, he sido capaz de aplicar mis habilidades y\\r\\nconocimientos en innovación y desarrollo de proyectos para asesorar a\\r\\nempresas en diversos sectores, incluyendo arquitectura, salud, cosmética, TI y\\r\\nalimentos. Además, he logrado desarrollar con éxito un producto innovador\\r\\nbasado en la quinua que ayuda a combatir el acné, gracias a mi habilidad para\\r\\ntrabajar de la mano con investigadores y utilizar técnicas y herramientas de\\r\\ngestión empresarial y económica para llevarlo al mercado. Mi experiencia en el\\r\\nlevantamiento de fondos ha sido clave para el éxito de mis proyectos, ya que\\r\\nhe logrado conseguir más de 2 millones de soles en financiamiento para más\\r\\nde 15 proyectos en ProInnóvate. Todo esto ha sido posible gracias a mi\\r\\ncapacidad para evaluar la factibilidad de cada proyecto y realizar un flujo de\\r\\ncaja para determinar la viabilidad financiera del mismo. En resumen, mi\\r\\nformación en economía ha sido fundamental para mi éxito en la innovación y el\\r\\ndesarrollo de proyectos, permitiéndome aplicar mis habilidades en la gestión\\r\\nempresarial y económica para asesorar a empresas, desarrollar nuevos\\r\\nproductos, levantar fondos y lograr el éxito financiero en cada proyecto.\"\n",
            "    },\n",
            "    {\n",
            "        \"title\": \"Presupuesto Institucional de Apertura y Plan Operativo Anual: Una perspectiva desde el Fondo de Vivienda Policial\\n                    ﻿\",\n",
            "        \"abstract\": \"Abstract\\nEl presente informe evidencia mi experiencia laboral en el Fondo de\\r\\nVivienda Policial (FOVIPOL) como asistente y analista de la Unidad de\\r\\nPresupuesto y Ejecución Presupuestal de la Oficina de Planificación y\\r\\nPresupuesto. En específico, abordará el trabajo realizado para la creación\\r\\ndel Presupuesto Institucional de Apertura (PIA) del AF-2023 y como este\\r\\nestá relacionado con los otros planes institucionales, esencialmente\\r\\nenfocado en el Plan Operativo Anual (POA) del AF-2023, ya que esté nos\\r\\nmuestra las actividades a realizar en el presente año fiscal con un enfoque\\r\\npresupuestal. La importancia de llevar un correcto control de la ejecución\\r\\ndel presupuesto es que, a través del mismo, se puede medir de la calidad\\r\\ndel gasto y la eficiencia operativa del FOVIPOL.\\r\\nAsimismo, expongo la problemática encontrada al momento de hacer las\\r\\nestimaciones de ingresos y egresos de manera eficiente con las mejoras\\r\\nimplementadas.\"\n",
            "    },\n",
            "    {\n",
            "        \"title\": \"Mecanismo de ajuste de la remuneración mínima en el Perú, 2013 -2015\\n                    ﻿\",\n",
            "        \"abstract\": \"Abstract\\nEl Consejo Nacional de Trabajo y Promoción del Empleo (CNTPE) es un\\r\\nmecanismo de diálogo social tripartito en el que participan organizaciones sindicales,\\r\\ngremios empresariales y funcionarios del Ministerio de Trabajo y Promoción del\\r\\nEmpleo (MTPE). Entre sus principales funciones se encuentra el participar en la\\r\\nregulación de las remuneraciones mínimas en el país, y para cumplir con ello, el\\r\\nCNTPE conforma la Comisión Especial de Productividad y Salarios Mínimos\\r\\n(CEPSM). El 23 de agosto 2007, en su Sesión Extraordinaria N° 25, el Pleno del\\r\\nCNTPE aprobó la fórmula y metodología del ajuste de la Remuneración Mínima (RM),\\r\\nque sirvió de base para futuros incrementos. El presente trabajo tiene como objetivo\\r\\nexponer mi experiencia laboral como especialista en economía en la CEPSM del\\r\\nCNTPE, para el periodo 2013 – 2015, en el cual participé del debate, negociación y\\r\\nestimación de los criterios de un contexto adecuado, así como de los diferentes\\r\\nescenarios en los que se evaluó el ajuste de la RM, y que sirvió de insumo para que\\r\\nel Ejecutivo, mediante Decreto Supremo N° 006-2016, incremente la RM de S/. 750 a\\r\\nS/. 850 soles.\"\n",
            "    },\n",
            "    {\n",
            "        \"title\": \"Diseño, implementación y resultados del Bono de Incentivo al Desempeño Escolar del  Ministerio de Educación 2014-2017\\n                    ﻿\",\n",
            "        \"abstract\": \"Abstract\\nEn el presente documento se sintetiza la experiencia del Bono de Incentivo al\\r\\nDesempeño Escolar (BDE), entre 2014 y 2017, periodo en el cual lideré el diseño, tomé\\r\\ndecisiones sobre la implementación y supervisé la gestión y resultados del BDE; mientras\\r\\nme desempeñaba como Secretario de Planificación Estratégica del Ministerio de\\r\\nEducación. Creado en 2014 con base en un diseño sustentado en evidencias y buenas\\r\\nprácticas internacionales, el BDE consistió en el otorgamiento anual de un incentivo\\r\\nmonetario al personal de las Instituciones Educativas de gestión pública de Educación\\r\\nBásica Regular primaria y secundaria, como reconocimiento por su desempeño durante\\r\\nel año previo. Dicho desempeño estuvo asociado principalmente con los resultados de\\r\\naprendizaje obtenidos en los estudiantes medidos mediante pruebas estandarizadas, así\\r\\ncomo con indicadores de eficiencia interna escolar, entre otros. El documento describe\\r\\nla motivación detrás de la creación del BDE, las características y justificación de su\\r\\ndiseño, los ajustes más relevantes realizados durante su implementación y los resultados\\r\\nde las evaluaciones de procesos e impacto realizadas sobre esta herramienta; las cuales,\\r\\nsi bien mostraron efectos positivos sobre los aprendizajes de los estudiantes, también\\r\\nidentificaron aspectos de mejora.\"\n",
            "    },\n",
            "    {\n",
            "        \"title\": \"Políticas de crédito y comportamiento crediticio en una empresa de consumo masivo\\n                    ﻿\",\n",
            "        \"abstract\": \"Abstract\\nPor medio del presente trabajo se busca sistematizar la experiencia profesional\\r\\nadquirida durante los últimos 4 años de experiencia profesional en el área de créditos\\r\\ndentro de una empresa del sector de consumo masivo. Las funciones específicas que\\r\\nse estará analizando es el control de operaciones de sobregiro y control de las\\r\\nsolicitudes de aprobación de pedidos de ventas bajo diversas condiciones de pago,\\r\\nya sea crédito, contado o pago adelantado en base del análisis cuantitativo y\\r\\ncualitativo del cliente. Este análisis se estará realizando en base a mi rol como\\r\\nejecutivo de créditos. Para ello se abarcará de forma particular al análisis realizado\\r\\nsobre la cartera de clientes del segmento correspondiente a ventas a empresas de\\r\\nmateria prima y bienes intermedios a nivel nacional. La limitación en el segmento que\\r\\nse está abarcando parte a raíz de que la empresa cuenta con 4 líneas generales de\\r\\nnegocios, las cuales, si bien se rigen bajo una misma política de créditos, cuentan con\\r\\nparticulares propia de cada negocio, las cuales hacen que existan operativas\\r\\nparticulares en cada una de ellas.\"\n",
            "    },\n",
            "    {\n",
            "        \"title\": \"Evaluación de proyectos en empresas de comercio minorista: Mejoramiento del hogar\\n                    ﻿\",\n",
            "        \"abstract\": \"Abstract\\nEn el presente documento, expondré parte de mis funciones en mi\\r\\nexperiencia laboral como Jefe de Desarrollo y Evaluación de Proyectos por más\\r\\nde 5 años en la empresa Sodimac. Las funciones que explicaré, más adelante,\\r\\ntienen que ver con la apertura de un nuevo punto comercial (tienda nueva).\\r\\nSodimac es una empresa que pertenece al mercado del Comercio Minorista y\\r\\nesta, a la vez, se encuentra dentro del sector Comercio en nuestra economía,\\r\\nrepresentando alrededor del 11% del PBI en los últimos 10 años (datos del\\r\\nBCRP).\\r\\nEl análisis de un nuevo punto comercial se dividirá en dos: el primero, el\\r\\nanálisis del mercado perteneciente al área geográfica que abarca este nuevo\\r\\npunto comercial, y el segundo, la evaluación financiera, para medir la rentabilidad\\r\\ndel proyecto. Por último, los resultados de estas evaluaciones se consolidan en\\r\\nun caso de negocio, en el cual también se incorporan: datos arquitectónicos del\\r\\nproyecto (distribución arquitectónica comercial), la competencia en el sector de\\r\\nla ubicación, las condiciones contractuales de la ubicación, además de\\r\\ninformación particular de la ubicación analizada. Este caso de negocio se eleva\\r\\nal directorio para ser aprobado, desaprobado o para reparar en algunas\\r\\ncorrecciones.\"\n",
            "    },\n",
            "    {\n",
            "        \"title\": \"Entendiendo la organización y dinámica del mercado de capitales desde una entidad financiera peruana\\n                    ﻿\",\n",
            "        \"abstract\": \"Abstract\\nTodas las entidades financieras, desde las cajas hasta los bancos, cuentan con\\r\\nun segmento de negocio llamado mercado de capitales. Este negocio resulta ser muy\\r\\ninteresante, dinámico y lucrativo gracias al abanico de productos negociados y al\\r\\nvolumen de operaciones pactados diariamente. En el presente trabajo, se busca\\r\\nacercar al lector al negocio de mercado de capitales, para ello, se revisará los distintos\\r\\nproductos especializados e indicará el rol de las diferentes áreas involucradas. En este\\r\\nnegocio, participa un equipo multidisciplinario que evidencia tanto la buena\\r\\ncomunicación como el trabajo en equipo desarrollado. Se quiere dar a conocer cómo\\r\\nse logra cumplir los siguientes objetivos principales: brindar servicios especializados a\\r\\nlas empresas y generar rentabilidad para el banco. Favorablemente, este negocio\\r\\nfunciona de forma similar en cualquier institución financiera, en consecuencia, se\\r\\nespera que mi experiencia en banco sirva al lector que labore en una institución similar\\r\\no que quisiera aprender sobre este negocio.\"\n",
            "    },\n",
            "    {\n",
            "        \"title\": \"Tópicos de teoría económica: una reflexión a partir de la implementación del Sistema de Focalización de Hogares\\n                    ﻿\",\n",
            "        \"abstract\": \"Abstract\\nEste trabajo se enmarca en la experiencia profesional como Director General de\\r\\nFocalización e Información Social (DGFIS) en dos periodos, el primero, entre octubre\\r\\nde 2016 y abril de 2018 y, el segundo, desde enero 2023 hasta la actualidad. La\\r\\nDGFIS es el órgano rector y conductor del Sistema Focalización de Hogares (SISFOH)\\r\\nque administra el Padrón General de Hogares (PGH) en el que se registra la condición\\r\\nsocio económica (CSE) de los hogares, luego de pasar por un proceso de toma de\\r\\ninformación a cargo de los Gobiernos Locales (GL) y de determinación de la CSE a\\r\\ncargo de la DGFIS.\\r\\nEl trabajo analiza y muestra algunos temas centrales de la implementación del\\r\\nSISFOH, en cuyo desarrollo conceptual y operativo el autor ha tenido un papel central.\\r\\nLa construcción de función de producción “Cadena de Valor” del proceso que se sigue\\r\\npara otorgar CSE a los hogares, el análisis de los conceptos de filtración y sub\\r\\ncobertura vinculada a la operación del SISFOH, el cálculo de brechas a nivel distrital\\r\\nrespecto de hogares no atendidas ni registrados en el PGH y la aproximación al\\r\\nbienestar que maneja el SISFOH y sus alternativas son temas centrales y actuales de\\r\\nla política de desarrollo e inclusión social vigente. Este documento ayuda a entender\\r\\naspectos centrales de la política de focalización que sigue el estado peruano y sobre\\r\\ntodo respecto de cómo se operacionaliza y las implicancias que ello tiene.\"\n",
            "    },\n",
            "    {\n",
            "        \"title\": \"El uso de las transferencias monetarias condicionadas para abordar la pobreza en el ámbito urbano y contribuir con la mejora de indicadores educativos\\n                    ﻿\",\n",
            "        \"abstract\": \"Abstract\\nEl presente documento expone mi experiencia laboral en el Ministerio de Desarrollo e\\r\\nInclusión Social y en el Ministerio de Educación como analista, consultora y asesora en\\r\\nel diseño de políticas para la reducción de la pobreza, vulnerabilidad y de las brechas en\\r\\nel acceso a la educación. En específico, la experiencia profesional expuesta aborda el rol\\r\\nque el programa de transferencias condicionadas “Juntos” ha jugado como herramienta\\r\\nde política para la reducción de la pobreza en el ámbito urbano y para el abordaje\\r\\ndiferentes dimensiones de la pobreza y vulnerabilidad como la falta de acceso a la\\r\\neducación. Mi trabajo ha requerido el uso de herramientas de investigación y análisis para\\r\\nel diseño de políticas públicas basadas en evidencia.\"\n",
            "    },\n",
            "    {\n",
            "        \"title\": \"Posicionando la evidencia del potencial de las Soluciones basadas en la Naturaleza  para la recuperación económica pospandemia en Perú\\n                    ﻿\",\n",
            "        \"abstract\": \"Abstract\\nEl presente documento resume mi experiencia profesional como investigadora del proyecto\\r\\n“Posicionando la evidencia del potencial de las Soluciones basadas en la Naturaleza (SbN) para\\r\\nla recuperación económica pospandemia en Perú”, a cargo del Instituto de Montaña y en\\r\\ncoordinación con la Iniciativa Soluciones basadas en la Naturaleza de la universidad de Oxford\\r\\n(NbSI Oxford). El objetivo de este estudio es contribuir a mejorar la comprensión sobre el\\r\\npotencial de recuperación económica de las SbN a corto y largo plazo, así como poner este\\r\\nconocimiento a disposición de los tomadores de decisión para el diseño de políticas en un\\r\\ncontexto pospandemia en Perú. En mi rol como investigadora de este proyecto, mi trabajo se\\r\\ncentró en las siguientes actividades: la selección de los casos SbN de estudio, el diseño de los\\r\\ninstrumentos de recojo de información e indicadores, la supervisión de la recolección de datos,\\r\\nel análisis y síntesis de los datos recogidos y, finalmente, la elaboración de reportes sobre la\\r\\nevidencia identificada.\"\n",
            "    },\n",
            "    {\n",
            "        \"title\": \"Diseño e implementación de una herramienta de gestión de información territorial para la cartera de proyectos de Profonanpe\\n                    ﻿\",\n",
            "        \"abstract\": \"Abstract\\nEl presente informe profesional se desarrolla en base a mi experiencia como\\r\\nconsultora de investigación y desarrollo para el Fondo Nacional para Áreas Naturales\\r\\nProtegidas por el Estado – Profonanpe, entidad encargada de recaudar, administrar y\\r\\ncanalizar fondos para la ejecución de programas y proyectos que contribuyan a la\\r\\nagenda ambiental del Perú. En esta oportunidad se mostrarán los avances en el\\r\\ndiseño e implementación de una herramienta de gestión de la información territorial\\r\\norganizada en el marco de los Objetivos de Desarrollo Sostenible (ODS). Una\\r\\nparticularidad de esta herramienta es su análisis a nivel de unidades geográficas\\r\\ndenominadas localidades, espacios donde habitan pueblos indígenas u originarios y\\r\\ndonde se desarrollan ecosistemas biodiversos. El objetivo principal de esta\\r\\nherramienta es mejorar la planificación y gestión de la cartera de intervenciones de la\\r\\ninstitución a través del acceso oportuno y confiable a datos estadísticos y geográficos\\r\\nde las localidades en los ámbitos de intervención de los programas y proyectos, que\\r\\na su vez incorpore indicadores interculturales relevantes desde la perspectiva propia\\r\\nde los pueblos indígenas u originarios.\"\n",
            "    },\n",
            "    {\n",
            "        \"title\": \"El Bono VRAEM: una evaluación cuasiexperimental\\n                    ﻿\",\n",
            "        \"abstract\": \"Abstract\\nLa zona VRAEM se caracteriza por la producción de hoja de coca para fines\\r\\nilícitos y el uso de mano de obra infantil en los cultivos. Los menores no solo laboran\\r\\nen ambiente laboral de pésimas condiciones, además se exponen a una cadena de\\r\\nproducción lucrativa que puede reducir sus expectativas por la educación o que inicien\\r\\nuna carrera criminal. El presente trabajo describe mi aporte en las secciones de\\r\\nrevisión de literatura y el proceso de limpieza de datos en la evaluación del bono\\r\\nVRAEM. Adicionalmente, se presenta el modelo de regresión discontinua del tipo\\r\\nshrap para estimar el efecto del programa bono VRAEM en indicadores de educación\\r\\ny criminalidad. La elección del modelo se debe a la discontinuidad en la regla de\\r\\nasignación del programa JUNTOS: índice de focalización de hogares (IFH) superior a\\r\\ncierto umbral. Si el hogar es beneficiario del program JUNTOS entonces se vuelve\\r\\nelegible de recibir el bono VRAEM. Adicionalmente, el hogar de contar con un menor\\r\\nentre 14-19 que apruebe el año escolar. Entre los principales resultados, se encuentra\\r\\nque el programa reduce la probabilidad de repitencia y deserción escolar en 4.8% y\\r\\n9% respectivamente.\"\n",
            "    },\n",
            "    {\n",
            "        \"title\": \"Análisis de las brechas en inversión de investigación, desarrollo e innovación (I+D+i) en el Perú\\n                    ﻿\",\n",
            "        \"abstract\": \"Abstract\\nMi experiencia laboral se ha desarrollado en diversos roles: asistente de\\r\\ninvestigación, científica de datos, y analista de pricing. He trabajado en el Banco\\r\\nCentral de Reserva del Perú, Ministerio de Economía y Finanzas, Scotiabank Perú y\\r\\n\\r\\nactualmente, me desempeño como asistente de investigación para el proyecto BID-\\r\\nColumbia dirigido a la Contraloría General del Perú. Mis temas de interés,\\r\\n\\r\\nprincipalmente, son los proyectos de machine learning que buscan optimizar la\\r\\noperatividad de las entidades públicas y privadas. En específico, el presente\\r\\ndocumento expone mi primera experiencia laboral como asistente de investigación\\r\\nde la consultoría liderada por Victor Gamarra. En este informe presentaré un análisis\\r\\nde las brechas de Inversión de Investigación, Desarrollo e Innovación para el Perú.\\r\\nEste estudio utiliza la metodología benchmarking, que consiste en un cálculo del\\r\\ngasto de las empresas en I+D+i, de las entidades que promocionan el I+D+i, junto\\r\\ncon un análisis comparativo.\"\n",
            "    },\n",
            "    {\n",
            "        \"title\": \"Planeamiento comercial en un operador de infraestructura móvil rural\\n                    ﻿\",\n",
            "        \"abstract\": \"Abstract\\nEl presente informe expone mi experiencia laboral como profesional táctico de\\r\\nplaneamiento comercial en Internet para Todos, un operador de infraestructura móvil\\r\\nrural – OIMR. Esta empresa tiene como objetivo cerrar la brecha digital en América\\r\\nLatina a través de un modelo económico de compartición de infraestructura de activos\\r\\ny pasivos para llevar conectividad a zonas rurales y de alta complejidad geográfica.\\r\\nEn general, la importancia de la planificación financiera es el cumplimiento de las\\r\\nmetas financieras de una empresa. En ese sentido, se generan pautas claras sobre el\\r\\ndesempeño futuro de la empresa, se establecen prioridades y se realizan ajustes en\\r\\nel tiempo para lograr los objetivos propuestos. De esta manera, mi trabajo como\\r\\nencargada de planificación financiera dentro de la empresa, se centra en 3 puntos\\r\\nprincipales: (i) la recopilación de toda la información necesaria y análisis del sector\\r\\nmóvil en el Perú y el resto del mundo, (ii) el dimensionamiento de la planificación, y\\r\\n(iii) el seguimiento y el control del presupuesto.\"\n",
            "    },\n",
            "    {\n",
            "        \"title\": \"¿Es la tecnología un verdadero aliado de la educación digital en el Perú?: Una  mirada desde un programa de lectura digital\\n                    ﻿\",\n",
            "        \"abstract\": \"Abstract\\nEl presente documento expone mi experiencia laboral como asistente de\\r\\ninvestigación en el área de Educación y Aprendizajes en Grupo de Análisis para el\\r\\nDesarrollo, en específico, como encargada del monitoreo cuantitativo de un proyecto\\r\\nde lectura digital. El objetivo del presente es recopilar, describir y sistematizar los\\r\\nprincipales hallazgos de las evaluaciones de implementación del programa. Esto con\\r\\nla finalidad de brindar evidencias de un programa desarrollado en torno a la\\r\\nintroducción de las TIC en la educación. Destacan como principales resultados que la\\r\\ntenencia de tabletas permite un mayor conocimiento y participación en el proyecto,\\r\\nmas no generan un impacto diferenciado en rendimiento. Además, los estudiantes que\\r\\nparticipan del proyecto no obtienen mejores resultados respecto a aquellos que no\\r\\nparticipan. Sin embargo, se identifican que aquellos estudiantes que tienen 3 años de\\r\\nparticipación en el proyecto obtienen un mejor puntaje, respecto de aquellos que no\\r\\nparticipan. Se concluye que la introducción de las TIC no genera, necesariamente,\\r\\nuna mejora en el rendimiento de los estudiantes, sino que se necesita de un modelo\\r\\npedagógico que acompañe esta inserción, además, de ciertos factores tanto interno\\r\\ncomo externos.\"\n",
            "    },\n",
            "    {\n",
            "        \"title\": \"Los activos culturales afroperuanos como factor de desarrollo territorial rural\\n                    ﻿\",\n",
            "        \"abstract\": \"Abstract\\nEl presente documento expone mi experiencia laboral como coordinadora\\r\\nterritorial del PROGRAMA REGIONAL DE EMPODERAMIENTO ECONÓMICO,\\r\\nSOCIAL Y POLÍTICO CON IDENTIDAD CULTURAL DE LAS POBLACIONES\\r\\nAFRODESCENDIENTES EN COLOMBIA, ECUADOR Y PERÚ, denominada\\r\\n“HERENCIA DE SABERES”, específicamente en las actividades realizadas en\\r\\nPerú. Este proyecto es financiado por el Fondo Internacional de Desarrollo\\r\\nAgrícola (FIDA) y está a cargo de la Fundación Activos Culturales Afro (ACUA).\\r\\nEl principal objetivo del documento es analizar la puesta en valor del\\r\\npatrimonio cultural inmaterial afroperuano como estrategia para el desarrollo\\r\\nterritorial de las áreas rurales. La importancia de este trabajo radica en conocer\\r\\nestrategias que fomenten el desarrollo de los territorios para brindar\\r\\nrecomendaciones efectivas en el diseño de políticas públicas.\\r\\nEn ese sentido, dada la temática del Programa “HERENCIA DE SABERES”,\\r\\nlos conceptos económicos plasmados en esta experiencia laboral se relacionan\\r\\ncon la economía del desarrollo y la economía naranja.\\r\\nEste documento se subdivide en tres capítulos. El primero presenta la\\r\\nrevisión de la literatura. El segundo describe la experiencia laboral. Por último,\\r\\nse presenta la discusión.\"\n",
            "    },\n",
            "    {\n",
            "        \"title\": \"Análisis y Evaluación de la Inclusión del Área de Riesgos en la Tesorería. Caso Agro Exportadora Shared-x Perú\\n                    ﻿\",\n",
            "        \"abstract\": \"Abstract\\nLa experiencia profesional que sustento plantea la unificación de los\\r\\ndepartamentos de Tesorería y Gestión de Riesgos a fin de ser una gran área de\\r\\nejecución y control de la eficiencia del efectivo.\\r\\nApoyado en la literatura, la idea central es que el Tesorero, en la actualidad, no\\r\\nes un mero gestor de cobranzas y pagos, sino que debe involucrarse en cada\\r\\naspecto comercial de relevancia.\\r\\n¿Cómo ayuda la sinergia e inclusión de las funciones de evaluación de riesgos\\r\\nen la tesorería? Cualitativamente, la buena coordinación será siempre un aliado\\r\\nde la eficiencia y eficacia. Mediante la descripción de funciones de la tesorería,\\r\\norganigrama, indicando encargados y ejecutores, podemos brindar un panorama\\r\\ny detalle de los responsables para el correcto funcionamiento del área.\\r\\nCuantitativamente, se propone un uso eficiente del ahorro generado por la\\r\\nreorganización de las áreas a fin de encontrar la mejor forma de rentabilizar\\r\\ndichos excedentes. Son herramientas como VAN, TIR, ROI, aprendidas en el\\r\\ncurso de evaluación de proyectos, las que nos ayudan a la elección de la mejor\\r\\nopción. También se utilizan cuadros de pérdidas esperadas para poder actuar y\\r\\ncubrir aquellos déficits de caja que pudieran generarse ante una externalidad.\"\n",
            "    },\n",
            "    {\n",
            "        \"title\": \"La titulización de una cartera de créditos: Medición del nivel de concentración de los activos titulizados mediante el uso del Índice Hirschman-Herfindahl\\n                    ﻿\",\n",
            "        \"abstract\": \"Abstract\\nEn el presente trabajo se expone la experiencia profesional del autor en\\r\\nla estructuración de una titulización de cuentas por cobrar que requirió la\\r\\nutilización de un índice de concentración proporcionado por la literatura\\r\\neconómica con la finalidad de demostrar que la cartera de créditos materia de la\\r\\ntitulización se encontraba lo suficientemente desconcentrada en términos de\\r\\nriesgos específicos.\\r\\nLa titulización de activos representa una interesante alternativa para\\r\\nmonetizar una cartera de créditos y lograr escindir el riesgo crediticio del balance\\r\\nde la empresa, transfiriéndolo a inversionistas que puedan absorber ese riesgo\\r\\na cambio de una tasa de retorno esperada. Un reto importante dentro de la\\r\\nestructuración de una titulización radica en demostrar a los inversionistas que\\r\\ndicha cartera de créditos se encuentra lo suficientemente diversificada con la\\r\\nfinalidad de que un riesgo específico (ya sea el riesgo específico de una empresa\\r\\no de un sector específico) no represente una alta probabilidad de pérdida del\\r\\ncapital invertido.\"\n",
            "    },\n",
            "    {\n",
            "        \"title\": \"Desarrollo de un instrumento de asistencia y acompañamiento en la  transformación digital empresarial\\n                    ﻿\",\n",
            "        \"abstract\": \"Abstract\\nEl presente Trabajo de Suficiencia Profesional (TSP) se centra en mi participación en\\r\\nel diseño de la estrategia del instrumento de acompañamiento y asistencia de la\\r\\ntransformación digital empresarial denominado Centros de Servicios Digitales (CSD),\\r\\nen el cargo de analista de diseño de instrumentos de digitalización en la Dirección de\\r\\nDigitalización y Formalización (DDF) de la Dirección General de Innovación,\\r\\nDigitalización y Formalización (DGITDF) del Ministerio de la Producción. La\\r\\nimportancia de este instrumento reside en la asistencia que le ofrece a las pequeñas\\r\\ny medianas empresas del país, garantizando su proceso de transformación digital a\\r\\ntravés de la sensibilización, acompañamiento en la implementación de herramientas\\r\\ny creación de una hoja de ruta de transformación digital para cada una de ellas. Así,\\r\\ncon el objetivo de desarrollar dicho plan se realizó un benchmarking de iniciativas\\r\\nsimilares a nivel regional y global, entrevistas a diversos actores del ecosistema,\\r\\nanálisis de potenciales sectores y beneficiarios, y finalmente se identificó potenciales\\r\\nperfiles de instituciones que se encargarían de la implementación del instrumento.\"\n",
            "    },\n",
            "    {\n",
            "        \"title\": \"Mi experiencia como analista de estrategia de negocios de fondos de inversión  en Core Capital SAF\\n                    ﻿\",\n",
            "        \"abstract\": \"Abstract\\nEl presente trabajo de suficiencia profesional (TSP) sustenta la aplicación de\\r\\nhabilidades profesionales de un economista en mi experiencia laboral como\\r\\nAnalista de Estrategia de Negocios de Fondos de Inversión en Core Capital SAF,\\r\\nempresa que estructura y administra fondos, regulada por la Superintendencia\\r\\nde Mercado de Valores (SMV). El área en el que me desempeño se enfoca\\r\\nbásicamente en el análisis del mercado de capitales; evaluación económica de\\r\\nlos fondos de inversión privados, asesoramiento financiero a los clientes sobre\\r\\npropuestas de inversión que componen un portafolio de productos diversificados,\\r\\nentre otros temas relacionados a la inversión que realicen. La importancia de\\r\\nesta industria radica en brindar acceso a estrategias de inversión innovadoras\\r\\nconsiderando un enfoque ESG (Environmental, Social and Governance) que\\r\\npermiten obtener rendimientos atractivos para los inversionistas. Finalmente, se\\r\\ndestacan las herramientas analíticas financieras empleadas durante la carrera\\r\\nque aportaron en mi desempeño laboral, tales como los cursos de análisis\\r\\nfinanciero, finanzas, economía y finanzas internacionales.\"\n",
            "    },\n",
            "    {\n",
            "        \"title\": \"Estructuración de obligaciones derivados de los contratos de concesión en infraestructura vial: Caso de estudio de garantías sobre la demanda\\n                    ﻿\",\n",
            "        \"abstract\": \"Abstract\\nEn mi experiencia profesional, me he desempeñado en el campo de las\\r\\nfinanzas, en específico, viendo temas regulatorios, en consultoría empresarial,\\r\\nevaluación en proyectos de inversión1\\r\\n\\r\\n, manejo fiduciario para programas del Estado\\r\\ny actualmente como Especialista Económico para el Ministerio de Transportes y\\r\\nComunicaciones. Dentro del ámbito de mis actividades, está comprendida la revisión\\r\\ny estructuración de la información procesada respecto a la Red Vial Nacional\\r\\nConcesionada desde la posición del Concedente (Estado), donde se espera otorgar\\r\\nindicadores clave del cumplimiento y desviaciones presupuestarias en el marco\\r\\nde la implementación de un Sistema de Gestión de Activos. En ese sentido, existe\\r\\ninformación no estructurada que contiene variables clave, que junto con data externa\\r\\ny análisis multidisciplinario puede obtenerse la predicción de obligaciones y mejor\\r\\ntoma de decisiones. Considerando aspectos regulatorios del régimen económico y\\r\\ncompromisos derivados de contratos APP de este tipo de infraestructura, se clasifica\\r\\ny estructura. Posteriormente, nos centramos en el análisis de Ingreso Mínimo Anual\\r\\nGarantizado (IMAG) en contraste con casos de estudio hipotéticos de bandas\\r\\nsuperiores de ingresos que buscan mitigar las imprecisiones de las proyecciones de\\r\\ndemanda.\"\n",
            "    },\n",
            "    {\n",
            "        \"title\": \"Estudio de Factibilidad de las EEDEs\\n                    ﻿\",\n",
            "        \"abstract\": \"Abstract\\nLas Fintech son modelos de negocio que ofrecen productos y/o servicios financieros\\r\\na un menor costo en relación al sistema financiero tradicional. Es así que promueve\\r\\nel acceso los servicios financieros, favorecido la inclusión financiera. No obstante, hay\\r\\nevidencia de que las FinTech también presentan riesgos, exponiendo a los usuarios.\\r\\nPor ello, surge la importancia de que ciertas actividades financieras sean reguladas.\\r\\nSi bien, el Perú no tiene una Ley FinTech, hay avances regulatorios al respecto. La\\r\\nSBS promueve que las FinTech soliciten licencias de organización y funcionamiento\\r\\nal regulador a fin de que puedan garantizar la seguridad de los usuarios y del sistema\\r\\nfinanciero en general. Para tal fin, las FinTech deben presentar un Estudio de\\r\\nFactibilidad que argumente que la empresa será viable. Por tanto, el presente estudio\\r\\ndesarrollará la importancia de las FinTech y el desarrollo del Estudio de Factibilidad\\r\\naplicado a las Empresas Emisoras de Dinero Electrónico (EEDE).\"\n",
            "    },\n",
            "    {\n",
            "        \"title\": \"Técnicas de evaluación de la cartera crediticia de Cooperativas de Ahorro y Crédito autorizadas mediante la Resolución SBS N° 480-2019\\n                    ﻿\",\n",
            "        \"abstract\": \"Abstract\\nEl presente informe expone mi experiencia profesional como integrante de la\\r\\nSuperintendencia de Banca, Seguros y AFP. En particular, se detallan los\\r\\nprocedimientos utilizados para la supervisión del portafolio crediticio de las\\r\\nCooperativas de Ahorro y Crédito, bajo el marco normativo impuesto por la Ley N°\\r\\n30822 y la Resolución SBS N° 480-2019. En específico, el informe detalla, basado en\\r\\nla Resolución SBS N° 11356-2008; que es refrendada por la normativa aludida en el\\r\\npárrafo anterior, las técnicas de evaluación del riesgo de un deudor y la calidad de sus\\r\\nmitigantes crediticios. Además; se exponen las implicancias contables de la\\r\\ndeterminación, por parte de la Superintendencia, de un nivel de riesgo superior al\\r\\nseñalado por las Coopac. La experiencia mencionada se encuentra alineada con el\\r\\nmandato de la Superintendencia de supervisar la integridad financiera. En particular,\\r\\nla supervisión de la cartera crediticia involucra el sinceramiento del nivel de riesgo\\r\\nasumido por las Coopac; tal que reconozcan el deterioro de su cartera crediticia y ello\\r\\nse refleje en sus estados financieros de manera oportuna. Así, la acción de\\r\\ntransparentar la información financiera minimiza la información asimétrica en aras de\\r\\nla protección de los ahorristas de las Coopac.\"\n",
            "    },\n",
            "    {\n",
            "        \"title\": \"Discriminación y estigma contra las personas con discapacidad física y mental en el Mercado laboral: el caso del Perú\\n                    ﻿\",\n",
            "        \"abstract\": \"Abstract\\nEl presente documento expone mi experiencia laboral como investigador en un\\r\\nproyecto en común con otros dos colegas de cara a la preparación de un documento\\r\\nque fue presentado en el Congreso Anual de la Asociación Peruana de Economía\\r\\n(APE) del año 2017. El documento final presentado se hizo en co-autoría con Benoit\\r\\nMougenot y Elard Amaya, investigadores de USIL. Mi aporte principal fue la revisión\\r\\nde la literatura especializada del tema aportes en aspectos metodológicos del\\r\\ndocumento. En general, la importancia de la investigación académica es clave para\\r\\nconocer el panorama de algún evento con la finalidad, usualmente, de brindar\\r\\nrecomendaciones o políticas públicas. En este sentido, estudiar los efectos de la\\r\\ndiscriminación y el estigma hacia las personas con discapacidad, ayuda a entender el\\r\\nfenómeno y a buscar un mejor análisis para atacar el problema y erradicarlo. De esta\\r\\nmanera, mi trabajo como investigador se centró principalmente en la recolección de\\r\\ndatos, la búsqueda de literatura acerca del tema y la redacción del documento.\"\n",
            "    },\n",
            "    {\n",
            "        \"title\": \"Proyecto para modificar el ROF de la Superintendencia Nacional de Migraciones\\n                    ﻿\",\n",
            "        \"abstract\": \"Abstract\\nLa presente exposición recoge mi experiencia como asistente administrativa de\\r\\nla oficina de administración y finanzas de la Superintendencia Nacional de\\r\\nMigraciones, cargo que desempeño hace dos años y cuatro meses en dicha\\r\\ninstitución. Dentro de las funciones atribuidas a mi persona, está la atención de\\r\\nlos documentos remitidos a esta oficina por parte de las unidades orgánicas,\\r\\nespecíficamente de la unidad de control patrimonial, como de las otras\\r\\ndirecciones de la Superintendencia Nacional de Migraciones.\\r\\nEn este sentido, esta experiencia muestra cómo nace la idea de presentar un\\r\\nproyecto que modifique el reglamento de organización y funciones de la\\r\\nSuperintendencia Nacional de Migraciones, así como de los percances surgidos\\r\\nen el camino que traen como resultado un mayor entendimiento del ámbito en el\\r\\nque se desenvuelve la entidad.\"\n",
            "    },\n",
            "    {\n",
            "        \"title\": \"Aplicación de la “Guía para el desarrollo de línea de producción y costo de productos de programas presupuestales” en las actividades vinculadas al Programa  Presupuestal 0130\\n                    ﻿\",\n",
            "        \"abstract\": \"Abstract\\nLa experiencia laboral que abordaré para el Trabajo de Suficiencia Profesional\\r\\nserá la de asistente en la consultoría contratado por USFS Forest Program. Esta\\r\\nconsistió en brindar asistencia técnica a OSINFOR y la Gerencia Forestal\\r\\nRegional de Loreto, en la elaboración de la estructura de costos de sus\\r\\nactividades, vinculadas al Programa Presupuestal 0130 ‘‘Competitividad y\\r\\nAprovechamiento Sostenible de los Recursos Forestales y de la Fauna Silvestre’’\\r\\n(PP-0130).\\r\\nLa importancia de esta consultoría recae en el poder brindar facilidades a los\\r\\nencargados, así como a sus diversos equipos, sobre cómo gestionar y\\r\\nestructurar sus gastos operativos. De tal manera, que las estructuras que\\r\\nmanejen vayan de la mano con las que presenta PP-0130 y puedan ser\\r\\nsustentadas ante el Ministerio de Economía y Finanzas (MEF), de manera\\r\\nrápida, sencilla y eficiente.\\r\\nEn ese sentido, mi trabajo como asistente de la consultoría consistió\\r\\nprincipalmente en cuatro actividades: la revisión de las diferentes actividades\\r\\noperativas y presupuestales que contempla el Programa Presupuestal 0130; el\\r\\nrepaso y comprensión de la “Guía para el desarrollo de línea de producción y\\r\\ncosteo de productos de programas presupuestales” del MEF; y finalmente, la\\r\\nimplementación de la “Guía para el desarrollo de línea de producción y costeo\\r\\nde productos de programas presupuestales” en la formulación presupuestal de\\r\\nuna de las diferentes actividades que conforman el PP-0130.\"\n",
            "    },\n",
            "    {\n",
            "        \"title\": \"Generación de un modelo de costos indirectos: Análisis de dos proyectos de Colombia\\n                    ﻿\",\n",
            "        \"abstract\": \"Abstract\\nEl presente documento expone mi experiencia laboral como controladora de\\r\\nproyectos internacionales de San Martin Contratistas Generales S.A. En esta\\r\\nempresa estuve encargada de liderar la producción de pronósticos\\r\\ninternacionales de los proyectos de Colombia y España. Así como el análisis de\\r\\nescenarios, alertas tempranas y planes de acción vinculados a un adecuado\\r\\nseguimiento de indicadores como parte de la retroalimentación del ciclo de\\r\\nplanificación y mejora continua. Específicamente, la experiencia laboral\\r\\nexpuesta trata de la generación de un modelo de control de costos indirectos\\r\\npara los dos proyectos en Colombia. En general, la importancia del diseño e\\r\\nimplementación del control de los costos indirectos radica en la relevancia a\\r\\nnivel de participación sobre el total de costos. En ese sentido, el modelo de\\r\\ncontrol de costos indirectos, generación de indicadores, y métricas de\\r\\nseguimiento y control fueron claves para una adecuada eficiencia del manejo\\r\\nde costos. De esta manera, mi trabajo como controladora de proyectos y\\r\\nProject Management Professional (PMP) se centró en el proceso de diseño,\\r\\nimplementación y monitoreo de los resultados del modelo de indirectos para\\r\\nColombia, el cual sería posteriormente replicado en la casa matriz.\"\n",
            "    },\n",
            "    {\n",
            "        \"title\": \"Efecto del Programa Juntos sobre la fecundidad de las beneficiarias\\n                    ﻿\",\n",
            "        \"abstract\": \"Abstract\\nEl programa JUNTOS tiene como objetivo principal combatir la pobreza\\r\\nintergeneracional con transferencias monetarias bimensuales a los hogares\\r\\nbeneficiarios, sin embargo, surgen interrogantes acerca de si este es un incentivo a la\\r\\nfecundidad de las beneficiarias. Se lleva a cabo una investigación para analizar el\\r\\nefecto de las transferencias en la probabilidad de tener un primer hijo en los distritos\\r\\nque son parte de la cobertura del programa. La metodología utilizada es un análisis\\r\\nde sobrevivencia que examina la cantidad de tiempo que transcurre del estado no\\r\\nembarazada a estar embarazada. En primer lugar, se determinó que la presencia del\\r\\nprograma JUNTOS en el distrito de residencia de una persona al menos un año antes\\r\\nde concebir a su primer hijo se asocia con una reducción en la probabilidad de\\r\\nmantenerse en el estado de no embarazo en comparación con aquellos distritos que\\r\\nno son beneficiarios. Esto es consistente con la hipótesis de esta investigación, en\\r\\nconclusión, el programa JUNTOS tendría efectos en la fecundidad de las mujeres.\\r\\nTambién, el modelo sugiere que, a mayor nivel de riqueza, la probabilidad de\\r\\npermanecer mayor tiempo no embarazada es mayor. Por otro lado, si la mujer se\\r\\nencuentra ocupada en algún trabajo, la probabilidad de permanecer sin un primer hijo\\r\\nes mayor con respecto a si la mujer no se encuentra trabajando, lo que se explica por\\r\\nel conflicto entre cumplir con el rol de madre o trabajar. Así, también, existe un umbral\\r\\nen el nivel educativo en donde por abajo y arriba de este se encuentran efectos\\r\\ndiferentes.\"\n",
            "    },\n",
            "    {\n",
            "        \"title\": \"Determinantes de la desigualdad de ingresos en Perú entre 2012 y 2020: un análisis a nivel de dominio geográfico, deciles y según fuente de ingreso\\n                    ﻿\",\n",
            "        \"abstract\": \"Abstract\\nSi bien el crecimiento económico percibido en las dos primeras décadas del siglo XXI\\r\\npermitió reducir los niveles de pobreza, no logró un impacto determinante en la\\r\\nreducción de la desigualdad de ingresos de las familias. Hoy en día, los niveles de\\r\\ndesigualdad se mantienen similares a los de la década de 1960, lo que se traduce en\\r\\nun retraso en el desarrollo sostenible en aspectos sociales, económicos y políticos.\\r\\nEn ese sentido, mediante el uso de regresiones Recentered Influence Function (RIF)\\r\\ny el método de descomposición según fuente de ingresos, este trabajo de\\r\\ninvestigación busca analizar y evaluar el impacto de los determinantes de la\\r\\ndesigualdad de ingresos entre los años 2012 y 2020 a nivel de dominio geográfico,\\r\\npor deciles y según fuente de ingreso, para dar cuenta de los requerimientos\\r\\nespecíficos que deben llevarse a cabo según las necesidades de cada espacio\\r\\nanalizado. El trabajo concluye que la heterogeneidad de las regiones permite\\r\\ncorroborar que los activos económicos y sociales tienen efectos diferidos dependiendo\\r\\ndel contexto en el que se aplican. La desigualdad es menor en la costa y en el área\\r\\nurbana, pero ante los efectos de una crisis, las familias de estos espacios se vuelven\\r\\nmás vulnerables. Los programas sociales han demostrado ser el mecanismo más\\r\\nefectivo para reducir la desigualdad en el corto plazo; sin embargo, se requieren de\\r\\npolíticas más estructuradas para combatir las deficiencias en cuanto a educación,\\r\\nformalidad, empleo, género, lengua y otros factores que atentan contra la igualdad de\\r\\noportunidades. Así, resulta vital seguir indagando de manera desagregada para\\r\\natender las necesidades sociales, priorizando siempre a los más vulnerables.\"\n",
            "    },\n",
            "    {\n",
            "        \"title\": \"Acuerdos comerciales preferenciales y las cadenas globales de valor en el Perú, 1999 - 2017\\n                    ﻿\",\n",
            "        \"abstract\": \"Abstract\\nEl auge de la comercialización mediante las Cadenas Globales de Valor (CGV)\\r\\nes aquel que requiere de una política comercial adecuada que explique y facilite\\r\\nsus procesos. La presente tesis estima el impacto de los Acuerdos Comerciales\\r\\nPreferenciales (ACP) sobre las CGV en el periodo de 1999-2017 para 60 países\\r\\ncon que Perú comercia. De tal forma se emplea una ecuación de gravedad\\r\\naumentada que teóricamente ha sido ampliada para considerar la variable\\r\\ndependiente el cual es el Valor Agregado incorporado en las Exportaciones\\r\\n(VAE). Este indicador se utiliza como una medida de las CGV. La estimación de\\r\\nesta ecuación se realiza mediante tres métodos: Mínimos Cuadrados Ordinarios,\\r\\nEfectos Aleatorios y Efectos Fijos, siendo este último el más apropiado desde el\\r\\npunto de vista teórico y empírico para datos panel; así los problemas\\r\\nsubyacentes como la formación endógena de los acuerdos comerciales se\\r\\nmitigan. Los resultados muestran que tener un acuerdo comercial, en general,\\r\\nno favorece al incremento del VAE; pero cuando se analizan específicamente\\r\\nseis acuerdos, son solo aquellos que Perú ha firmado con Estados Unidos, Chile,\\r\\ny China, y que entraron en vigor en 2009, 2009 y 2010 respectivamente los que\\r\\nsí favorecen su incremento. Estos resultados sugieren que una política\\r\\ncomercial implementada para este tipo de comercialización es necesaria para\\r\\nuna mayor inserción a esta “nueva” forma de producción transfronteriza que\\r\\nimplica beneficios y oportunidades al país.\"\n",
            "    },\n",
            "    {\n",
            "        \"title\": \"Choques fiscales anticipados y no anticipados en el Perú\\n                    ﻿\",\n",
            "        \"abstract\": \"Abstract\\nl objetivo de esta tesis es analizar el impacto del gastopúblico sobre laecono-\\r\\nmía tomando en cuenta que los cambios en el gasto público pueden ser anticipados por\\r\\nlos agentes económicos.En particular, se estima el efecto causal de los choquesfiscales\\r\\nanticipados y no anticipados sobre elPBI real y el consumo privado real.Se propone\\r\\nun esquema de identificación que consiste en la incorporación de unav ariable que\\r\\ncapture laprevisibilidad del gastopúblico en unmodelo VAR estándar.Para ello,se\\r\\nutiliza las proyecciones del gastopúblico publicadas en los Reportesde Inflación del\\r\\nBanco Central de Reserva de lPerú a partir del 2002. Elanálisis empírico se basa en la\\r\\nestimación de dos modelos de vectores autorregresivos(VAR):el primero incorpora el\\r\\ngasto público,los términos de intercambio, el PBI y el consumo privado; mientras que\\r\\nel segundo añade al primero las proyecciones del gasto público.Los resultados mues-\\r\\ntran que choques de las proyecciones del gasto público,que pueden ser entendidas\\r\\ncomo choques de noticias, tienen un impacto positivo sobre el consumo y el producto.\\r\\nAdemás, se muestra que cuando no se incluye el efecto anticipado del gasto público\\r\\nen el modelo VAR, se sobreestima el efecto del gasto público sobre el consumo y el\\r\\nproducto. Este resultado indica que es importante incluir una variable que capture\\r\\nla previsibilidad del gasto público en un modelo VAR para medir el efecto del gasto\\r\\npúblico.\"\n",
            "    },\n",
            "    {\n",
            "        \"title\": \"Análisis multidimensional del empoderamiento de las mujeres en 50 países de ingresos bajos y medios\\n                    ﻿\",\n",
            "        \"abstract\": \"Abstract\\nEsta investigación contribuye con la literatura sobre la medición del empoderamiento\\r\\nde las mujeres y estudios del desarrollo al llevar a cabo un diagnóstico de la situación\\r\\ndel empoderamiento de las mujeres con pareja en edad fértil (entre 15 y 49 años) de\\r\\npaíses de ingresos bajos y medios. Específicamente, la pregunta que busca responder\\r\\nes: ¿cuál es la situación de las mujeres en países de ingresos bajos y medios en\\r\\nrelación a su desempeño en dimensiones básicas del empoderamiento? Para ello, a\\r\\npartir de la información de las Demographic and Health Surveys (DHS) de 50 países,\\r\\nse estima un Índice de Desempoderamiento Multidimensional Global (IDM Global)\\r\\nbasado en el método Alkire-Foster (Alkire & Foster, 2011) tomando en cuenta las\\r\\nsiguientes dimensiones: (i) salud, (ii) relaciones sociales, (iii) entorno material, y (iv)\\r\\nviolencia, cada una con dos indicadores. Los resultados de la investigación sugieren\\r\\nque el empoderamiento no se manifiesta de manera uniforme a través de los países\\r\\nincluidos en el análisis, incluso para países dentro de una misma región. Esto da\\r\\ncuenta de la diversidad a nivel global en relación a cuáles son los elementos que\\r\\ncontribuyen de forma más relevante a limitar el empoderamiento de las mujeres en\\r\\npaíses de ingresos bajos y medios. A su vez, este resultado muestra que la promoción\\r\\ndel empoderamiento de las mujeres requeriría de estrategias de política flexibles,\\r\\nadaptadas a la particular realidad de cada país. Finalmente, se encontró que los\\r\\npaíses con mayores niveles de desempoderamiento suelen tener mayores niveles\\r\\npobreza (monetaria o multidimensional) y menores niveles de PBI per cápita y\\r\\ndesarrollo humano.\"\n",
            "    }\n",
            "]\n"
          ]
        }
      ],
      "source": [
        "# URL base de la página\n",
        "base_url = \"https://tesis.pucp.edu.pe/repositorio/handle/20.500.12404/1026/recent-submissions?offset=\"\n",
        "\n",
        "# Lista para almacenar los datos\n",
        "data = []\n",
        "\n",
        "# Función para obtener el resumen dado un enlace\n",
        "def obtener_resumen(enlace):\n",
        "    # Hacer la solicitud GET al enlace\n",
        "    response = requests.get(enlace)\n",
        "\n",
        "    # Parsear el contenido HTML utilizando BeautifulSoup\n",
        "    soup = BeautifulSoup(response.content, 'html.parser')\n",
        "\n",
        "    # Encontrar el elemento que contiene el resumen\n",
        "    resumen_elemento = soup.find('div', class_='simple-item-view-description')\n",
        "\n",
        "    # Si se encontró el elemento del resumen\n",
        "    if resumen_elemento:\n",
        "        # Obtener el texto del resumen y retornarlo\n",
        "        return resumen_elemento.text.strip()\n",
        "    else:\n",
        "        return None\n",
        "\n",
        "# Iterar sobre los enlaces\n",
        "for offset in range(0, 60, 20):\n",
        "    # Construir la URL completa\n",
        "    url = base_url + str(offset)\n",
        "\n",
        "    # Hacer la solicitud GET\n",
        "    response = requests.get(url)\n",
        "\n",
        "    # Parsear el contenido HTML\n",
        "    soup = BeautifulSoup(response.content, 'html.parser')\n",
        "\n",
        "    # Encontrar todos los elementos <li> que contienen los títulos y enlaces\n",
        "    items = soup.find_all('li')\n",
        "\n",
        "    # Iterar sobre los elementos encontrados\n",
        "    for item in items:\n",
        "        # Encontrar el elemento <h4> dentro del <li>\n",
        "        titulo_elemento = item.find('h4')\n",
        "\n",
        "        # Si el elemento <h4> existe\n",
        "        if titulo_elemento:\n",
        "            # Obtener el texto del título\n",
        "            titulo = titulo_elemento.text.strip()\n",
        "\n",
        "            # Encontrar el enlace dentro del <h4>\n",
        "            enlace_elemento = titulo_elemento.find('a')\n",
        "\n",
        "            # Si el enlace existe\n",
        "            if enlace_elemento:\n",
        "                # Obtener la URL del enlace\n",
        "                enlace = \"https://tesis.pucp.edu.pe\" + enlace_elemento['href']\n",
        "\n",
        "                # Obtener el resumen del enlace\n",
        "                resumen = obtener_resumen(enlace)\n",
        "\n",
        "                # Si se obtuvo el resumen, agregar el título y resumen al diccionario\n",
        "                if resumen:\n",
        "                    data.append({\"title\": titulo, \"abstract\": resumen})\n",
        "\n",
        "# Convertir la lista a JSON\n",
        "json_data = json.dumps(data, ensure_ascii=False, indent=4)\n",
        "\n",
        "# Imprimir el JSON\n",
        "print(json_data)\n"
      ]
    },
    {
      "cell_type": "markdown",
      "metadata": {
        "id": "hxiMLBFqcoGA"
      },
      "source": [
        "## Set up our AI Research Assistant and the parameters of the final public policy findings abstracts of a specific topic"
      ]
    },
    {
      "cell_type": "code",
      "execution_count": 132,
      "metadata": {
        "id": "xjIc3X8F5u3l"
      },
      "outputs": [],
      "source": [
        "DELIMITER = \"####\"\n",
        "# Set up our completion messages\n",
        "def getCompletionFromMessages(\n",
        "        query,\n",
        "        messages,\n",
        "        model = \"gpt-4\",\n",
        "        temperature = 0,\n",
        "        delimiter = DELIMITER\n",
        "):\n",
        "    query = f\"{DELIMITER}{query}{DELIMITER}\"\n",
        "    messages += [{\"role\": \"user\", \"content\": query}]\n",
        "    response = client.chat.completions.create(\n",
        "        messages = messages,\n",
        "        temperature = temperature,\n",
        "        model = model\n",
        "    )\n",
        "    responseContent = response.choices[0].message.content\n",
        "    messages += [{\"content\": responseContent, \"role\": \"assistant\"}]\n",
        "    return messages\n",
        "\n",
        "\n",
        "# Create summarised abstracts\n",
        "def getCompletionFromThesisData(query, messages, data, delimiter=\"####\"):\n",
        "    processedQuery = f\"{delimiter}{query}{delimiter}\"\n",
        "    # Search the topic in the title or abstracts\n",
        "    relevant_thesis = [thesis for thesis in data if query.lower() in thesis['title'].lower() or query.lower() in thesis['abstract'].lower()]\n",
        "    abstracts = \" \".join([thesis['abstract'] for thesis in relevant_thesis]) if relevant_thesis else \"No relevant thesis found.\"\n",
        "    # Set up role instructions\n",
        "    role =  [{'role':'system', 'content': \"you are a expert economist that works related to public policy - use all the information from academics articles provided to summarise all the abstracts in one original paragrah with the main findings of the the topic, return all in spanish and with the maxium 400 words\"}]\n",
        "    prueba = getCompletionFromMessages(abstracts, role)\n",
        "    # Save the final summary\n",
        "    prueba = prueba[-1][\"content\"]\n",
        "\n",
        "    processedQuery += f\"\\n{prueba}\"\n",
        "    messages = processedQuery\n",
        "    return messages"
      ]
    },
    {
      "cell_type": "markdown",
      "metadata": {
        "id": "MNVtgs0vGKNG"
      },
      "source": [
        "## Pilot of AI Research Assistant with topic 'empleo'"
      ]
    },
    {
      "cell_type": "code",
      "execution_count": 133,
      "metadata": {
        "id": "nODESe8N7PTa"
      },
      "outputs": [],
      "source": [
        "# Crear una lista vacía para almacenar los mensajes\n",
        "messages = []\n",
        "\n",
        "# Topic\n",
        "user_query = \"empleo\"\n",
        "\n",
        "# Llamar a la función para obtener los datos relevantes de la tesis\n",
        "messages = getCompletionFromThesisData(user_query, messages, data)\n"
      ]
    },
    {
      "cell_type": "markdown",
      "metadata": {
        "id": "8_lSo1RvGbnQ"
      },
      "source": [
        "## Muestra de resumen"
      ]
    },
    {
      "cell_type": "code",
      "execution_count": 134,
      "metadata": {
        "colab": {
          "base_uri": "https://localhost:8080/",
          "height": 140
        },
        "id": "7y2SCIue77Zo",
        "outputId": "d680bcaa-f4cf-4bb0-f2c1-b6387d8cd6f0"
      },
      "outputs": [
        {
          "data": {
            "application/vnd.google.colaboratory.intrinsic+json": {
              "type": "string"
            },
            "text/plain": [
              "'####empleo####\\nEste resumen aborda tres estudios económicos relacionados con la política pública. El primer estudio examina el impacto de los cambios en el salario mínimo en la duración del empleo en Lima Metropolitana, utilizando una metodología de análisis de supervivencia. Los resultados indican que los salarios cercanos al salario mínimo tienen un efecto significativo, aunque este se ve opacado en micro o pequeñas empresas, o en individuos sin estudios superiores. El segundo estudio se centra en el papel del Consejo Nacional de Trabajo y Promoción del Empleo (CNTPE) en la regulación de las remuneraciones mínimas en Perú, destacando la experiencia laboral del autor como especialista en economía en la Comisión Especial de Productividad y Salarios Mínimos (CEPSM) del CNTPE. Finalmente, el tercer estudio analiza la desigualdad de ingresos en Perú entre 2012 y 2020, utilizando regresiones Recentered Influence Function (RIF) y un método de descomposición según fuente de ingresos. El estudio concluye que los programas sociales han demostrado ser el mecanismo más efectivo para reducir la desigualdad en el corto plazo, pero se requieren políticas más estructuradas para combatir las deficiencias en educación, formalidad, empleo, género, lengua y otros factores que atentan contra la igualdad de oportunidades.'"
            ]
          },
          "execution_count": 134,
          "metadata": {},
          "output_type": "execute_result"
        }
      ],
      "source": [
        "messages"
      ]
    }
  ],
  "metadata": {
    "colab": {
      "provenance": []
    },
    "kernelspec": {
      "display_name": "Python 3",
      "name": "python3"
    },
    "language_info": {
      "name": "python"
    }
  },
  "nbformat": 4,
  "nbformat_minor": 0
}
