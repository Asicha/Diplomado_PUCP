{
 "cells": [
  {
   "cell_type": "code",
   "execution_count": 1,
   "id": "f47fa363",
   "metadata": {},
   "outputs": [
    {
     "data": {
      "text/plain": [
       "'C:\\\\Users\\\\SERGHI\\\\Documents\\\\GitHub\\\\Diplomado_PUCP\\\\Lecture_9\\\\Assignment_7'"
      ]
     },
     "execution_count": 1,
     "metadata": {},
     "output_type": "execute_result"
    }
   ],
   "source": [
    "pwd"
   ]
  },
  {
   "cell_type": "code",
   "execution_count": 2,
   "id": "6151aa88",
   "metadata": {},
   "outputs": [],
   "source": [
    "import pandas as pd\n",
    "\n",
    "health_estb = pd.read_excel(r'../../_data/cajamarca_data_helth_estb.xlsx')\n",
    "\n",
    "districts = pd.read_excel(r'../../_data/peru_districts_centroids.xlsx')\n",
    "\n",
    "cajamarca_districts = districts[districts['NOMBDEP'] == 'CAJAMARCA']"
   ]
  },
  {
   "cell_type": "code",
   "execution_count": 3,
   "id": "e34dcf75",
   "metadata": {},
   "outputs": [
    {
     "name": "stderr",
     "output_type": "stream",
     "text": [
      "Finding closest health establishment: 100%|███████████████████████████████████████████████████████| 127/127 [00:32<00:00,  3.95it/s]\n"
     ]
    }
   ],
   "source": [
    "import pandas as pd\n",
    "from tqdm import tqdm\n",
    "import numpy as np\n",
    "\n",
    "# Crear un nuevo DataFrame para almacenar los resultados\n",
    "result_df = cajamarca_districts.copy()\n",
    "\n",
    "# Crear nuevas columnas en 'result_df' para almacenar el establecimiento de salud más cercano\n",
    "result_df['closest_health_estb'] = np.nan\n",
    "result_df['closest_health_estb_lat'] = np.nan\n",
    "result_df['closest_health_estb_lon'] = np.nan\n",
    "\n",
    "# Iterar sobre cada fila en 'result_df'\n",
    "for index, district_row in tqdm(result_df.iterrows(), total=len(result_df), desc=\"Finding closest health establishment\"):\n",
    "    district_coords = (district_row['Centroid_Latitude'], district_row['Centroid_Longitude'])\n",
    "    \n",
    "    # Calcular la distancia euclidiana para cada establecimiento de salud y encontrar el más cercano\n",
    "    min_distance = float('inf')\n",
    "    closest_health_estb = None\n",
    "    closest_health_estb_lat = None\n",
    "    closest_health_estb_lon = None\n",
    "    \n",
    "    for _, health_row in health_estb.iterrows():\n",
    "        health_coords = (health_row['latitud'], health_row['longitud'])\n",
    "        distance = np.linalg.norm(np.array(district_coords) - np.array(health_coords))\n",
    "        \n",
    "        if distance < min_distance:\n",
    "            min_distance = distance\n",
    "            closest_health_estb = health_row['nombre']\n",
    "            closest_health_estb_lat = health_row['latitud']\n",
    "            closest_health_estb_lon = health_row['longitud']\n",
    "    \n",
    "    # Almacenar el establecimiento de salud más cercano en las nuevas columnas\n",
    "    result_df.at[index, 'closest_health_estb'] = closest_health_estb\n",
    "    result_df.at[index, 'closest_health_estb_lat'] = closest_health_estb_lat\n",
    "    result_df.at[index, 'closest_health_estb_lon'] = closest_health_estb_lon\n",
    "\n",
    "# Ahora 'result_df' contiene los resultados sin afectar 'cajamarca_districts'\n"
   ]
  }
 ],
 "metadata": {
  "kernelspec": {
   "display_name": "Python 3 (ipykernel)",
   "language": "python",
   "name": "python3"
  },
  "language_info": {
   "codemirror_mode": {
    "name": "ipython",
    "version": 3
   },
   "file_extension": ".py",
   "mimetype": "text/x-python",
   "name": "python",
   "nbconvert_exporter": "python",
   "pygments_lexer": "ipython3",
   "version": "3.11.5"
  }
 },
 "nbformat": 4,
 "nbformat_minor": 5
}
