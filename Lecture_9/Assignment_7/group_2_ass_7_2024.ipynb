{
 "cells": [
  {
   "cell_type": "code",
   "execution_count": null,
   "id": "ef761749",
   "metadata": {},
   "outputs": [],
   "source": [
    "from IPython.display import display, HTML\n",
    "\n",
    "display(HTML(data=\"\"\"\n",
    "<style>\n",
    "    div#notebook-container    { width: 95%; }\n",
    "    div#menubar-container     { width: 65%; }\n",
    "    div#maintoolbar-container { width: 99%; }a\n",
    "</style>\n",
    "\"\"\"))"
   ]
  },
  {
   "cell_type": "markdown",
   "id": "b171139e",
   "metadata": {},
   "source": [
    "# Assigment 7"
   ]
  },
  {
   "cell_type": "markdown",
   "id": "e1c3ec31",
   "metadata": {},
   "source": [
    "### 7.1 Install libraries if not already installed"
   ]
  },
  {
   "cell_type": "code",
   "execution_count": 2,
   "id": "ba41a64a",
   "metadata": {},
   "outputs": [],
   "source": [
    "#!pip install geopandas\n",
    "#!pip install folium \n",
    "#!pip install -U googlemaps\n",
    "#!pip install plotly"
   ]
  },
  {
   "cell_type": "code",
   "execution_count": null,
   "id": "9863ca76",
   "metadata": {},
   "outputs": [],
   "source": [
    "import pandas as pd\n",
    "from pandas import Series, DataFrame\n",
    "import numpy as np\n",
    "import matplotlib.pyplot as plt \n",
    "import chardet"
   ]
  },
  {
   "cell_type": "code",
   "execution_count": 3,
   "id": "0d972f90",
   "metadata": {},
   "outputs": [],
   "source": [
    "import geopandas as gpd\n",
    "from geopandas import GeoSeries\n",
    "from shapely.geometry import Point, LineString\n",
    "import folium \n",
    "from folium import Marker, GeoJson\n",
    "from folium.plugins import MarkerCluster, HeatMap"
   ]
  },
  {
   "cell_type": "code",
   "execution_count": 4,
   "id": "159c0b92",
   "metadata": {},
   "outputs": [],
   "source": [
    "from scipy.spatial import distance"
   ]
  },
  {
   "cell_type": "code",
   "execution_count": 5,
   "id": "1185ef6a",
   "metadata": {},
   "outputs": [],
   "source": [
    "import googlemaps\n",
    "from datetime import datetime"
   ]
  },
  {
   "cell_type": "code",
   "execution_count": 6,
   "id": "1605f9c6",
   "metadata": {},
   "outputs": [],
   "source": [
    "import plotly.express as px"
   ]
  },
  {
   "cell_type": "markdown",
   "id": "352bba8e",
   "metadata": {},
   "source": [
    "### 7.2. Import the data located at this link. This dataset comes from this link. It has information on all the geolocated health establishments in Cajamarca."
   ]
  },
  {
   "cell_type": "code",
   "execution_count": 7,
   "id": "25bb4564",
   "metadata": {},
   "outputs": [
    {
     "ename": "NameError",
     "evalue": "name 'pd' is not defined",
     "output_type": "error",
     "traceback": [
      "\u001b[0;31m---------------------------------------------------------------------------\u001b[0m",
      "\u001b[0;31mNameError\u001b[0m                                 Traceback (most recent call last)",
      "Cell \u001b[0;32mIn[7], line 2\u001b[0m\n\u001b[1;32m      1\u001b[0m \u001b[38;5;66;03m# Read data from shared excel\u001b[39;00m\n\u001b[0;32m----> 2\u001b[0m cajamarca_helth_estb \u001b[38;5;241m=\u001b[39m pd\u001b[38;5;241m.\u001b[39mread_excel( \u001b[38;5;124mr\u001b[39m\u001b[38;5;124m\"\u001b[39m\u001b[38;5;124m../../_data/cajamarca_data_helth_estb.xlsx\u001b[39m\u001b[38;5;124m\"\u001b[39m )\n\u001b[1;32m      3\u001b[0m cajamarca_helth_estb\n",
      "\u001b[0;31mNameError\u001b[0m: name 'pd' is not defined"
     ]
    }
   ],
   "source": [
    "# Read data from shared excel\n",
    "cajamarca_helth_estb = pd.read_excel( r\"../../_data/cajamarca_data_helth_estb.xlsx\" )\n",
    "cajamarca_helth_estb"
   ]
  }
 ],
 "metadata": {
  "kernelspec": {
   "display_name": "Python 3 (ipykernel)",
   "language": "python",
   "name": "python3"
  },
  "language_info": {
   "codemirror_mode": {
    "name": "ipython",
    "version": 3
   },
   "file_extension": ".py",
   "mimetype": "text/x-python",
   "name": "python",
   "nbconvert_exporter": "python",
   "pygments_lexer": "ipython3",
   "version": "3.11.5"
  }
 },
 "nbformat": 4,
 "nbformat_minor": 5
}
