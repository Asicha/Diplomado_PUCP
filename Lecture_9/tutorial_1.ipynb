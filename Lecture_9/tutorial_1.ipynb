{
 "cells": [
  {
   "cell_type": "code",
   "execution_count": 5,
   "metadata": {},
   "outputs": [
    {
     "ename": "ModuleNotFoundError",
     "evalue": "No module named 'savReaderWriter'",
     "output_type": "error",
     "traceback": [
      "\u001b[1;31m---------------------------------------------------------------------------\u001b[0m",
      "\u001b[1;31mModuleNotFoundError\u001b[0m                       Traceback (most recent call last)",
      "Cell \u001b[1;32mIn[5], line 1\u001b[0m\n\u001b[1;32m----> 1\u001b[0m \u001b[38;5;28;01mimport\u001b[39;00m \u001b[38;5;21;01msavReaderWriter\u001b[39;00m \u001b[38;5;28;01mas\u001b[39;00m \u001b[38;5;21;01msav\u001b[39;00m\n",
      "\u001b[1;31mModuleNotFoundError\u001b[0m: No module named 'savReaderWriter'"
     ]
    }
   ],
   "source": [
    "import savReaderWriter as sav\n"
   ]
  },
  {
   "cell_type": "code",
   "execution_count": 4,
   "metadata": {},
   "outputs": [
    {
     "name": "stderr",
     "output_type": "stream",
     "text": [
      "C:\\Users\\judit\\AppData\\Local\\Temp\\ipykernel_2332\\2174783688.py:12: DeprecationWarning: Importing display from IPython.core.display is deprecated since IPython 7.14, please import from IPython display\n",
      "  from IPython.core.display import display, HTML\n"
     ]
    }
   ],
   "source": [
    "import os\n",
    "import pickle\n",
    "import pandas as pd\n",
    "import numpy as np\n",
    "import pandas as pd\n",
    "import numpy as np\n",
    "from datetime import datetime\n",
    "%matplotlib inline\n",
    "\n",
    "import matplotlib.pyplot as plt\n",
    "import ipywidgets as widgets\n",
    "from IPython.core.display import display, HTML\n",
    "import seaborn as sns\n",
    "import pandas as pd\n",
    "import numpy as np\n",
    "\n",
    "# Legend\n",
    "import matplotlib.patches as mpatches\n",
    "import matplotlib.lines as mlines\n",
    "import unidecode\n",
    "plt.rcParams.update({'font.size': 16})"
   ]
  },
  {
   "cell_type": "code",
   "execution_count": 6,
   "metadata": {},
   "outputs": [],
   "source": [
    "# Importing data\n",
    "with open( r'../_data/data_endes.pickle', 'rb') as f:\n",
    "    df = pickle.load(f )"
   ]
  },
  {
   "cell_type": "code",
   "execution_count": 7,
   "metadata": {
    "scrolled": true
   },
   "outputs": [
    {
     "data": {
      "text/html": [
       "<div>\n",
       "<style scoped>\n",
       "    .dataframe tbody tr th:only-of-type {\n",
       "        vertical-align: middle;\n",
       "    }\n",
       "\n",
       "    .dataframe tbody tr th {\n",
       "        vertical-align: top;\n",
       "    }\n",
       "\n",
       "    .dataframe thead th {\n",
       "        text-align: right;\n",
       "    }\n",
       "</style>\n",
       "<table border=\"1\" class=\"dataframe\">\n",
       "  <thead>\n",
       "    <tr style=\"text-align: right;\">\n",
       "      <th></th>\n",
       "      <th>Unnamed: 0</th>\n",
       "      <th>CASEID</th>\n",
       "      <th>V000</th>\n",
       "      <th>V001</th>\n",
       "      <th>V002</th>\n",
       "      <th>V003</th>\n",
       "      <th>V004</th>\n",
       "      <th>V008</th>\n",
       "      <th>V009</th>\n",
       "      <th>V010</th>\n",
       "      <th>...</th>\n",
       "      <th>V508</th>\n",
       "      <th>V509</th>\n",
       "      <th>V510</th>\n",
       "      <th>V511</th>\n",
       "      <th>V512</th>\n",
       "      <th>V513</th>\n",
       "      <th>V525</th>\n",
       "      <th>V613</th>\n",
       "      <th>V714</th>\n",
       "      <th>V715</th>\n",
       "    </tr>\n",
       "  </thead>\n",
       "  <tbody>\n",
       "    <tr>\n",
       "      <th>0</th>\n",
       "      <td>0</td>\n",
       "      <td>000102701  1</td>\n",
       "      <td>PE6</td>\n",
       "      <td>1.0</td>\n",
       "      <td>27.0</td>\n",
       "      <td>1.0</td>\n",
       "      <td>1.0</td>\n",
       "      <td>1386.0</td>\n",
       "      <td>7.0</td>\n",
       "      <td>1985.0</td>\n",
       "      <td>...</td>\n",
       "      <td>2001.0</td>\n",
       "      <td>1220.0</td>\n",
       "      <td>Month and year</td>\n",
       "      <td>16.0</td>\n",
       "      <td>13.0</td>\n",
       "      <td>10-14</td>\n",
       "      <td>15.0</td>\n",
       "      <td>4.0</td>\n",
       "      <td>Yes</td>\n",
       "      <td>3.0</td>\n",
       "    </tr>\n",
       "    <tr>\n",
       "      <th>1</th>\n",
       "      <td>1</td>\n",
       "      <td>000104301  1</td>\n",
       "      <td>PE6</td>\n",
       "      <td>1.0</td>\n",
       "      <td>43.0</td>\n",
       "      <td>1.0</td>\n",
       "      <td>1.0</td>\n",
       "      <td>1386.0</td>\n",
       "      <td>4.0</td>\n",
       "      <td>1974.0</td>\n",
       "      <td>...</td>\n",
       "      <td>2007.0</td>\n",
       "      <td>1290.0</td>\n",
       "      <td>Month and year</td>\n",
       "      <td>33.0</td>\n",
       "      <td>8.0</td>\n",
       "      <td>5-9</td>\n",
       "      <td>26.0</td>\n",
       "      <td>2.0</td>\n",
       "      <td>No</td>\n",
       "      <td>9.0</td>\n",
       "    </tr>\n",
       "    <tr>\n",
       "      <th>2</th>\n",
       "      <td>2</td>\n",
       "      <td>000104801  2</td>\n",
       "      <td>PE6</td>\n",
       "      <td>1.0</td>\n",
       "      <td>48.0</td>\n",
       "      <td>2.0</td>\n",
       "      <td>1.0</td>\n",
       "      <td>1386.0</td>\n",
       "      <td>1.0</td>\n",
       "      <td>1980.0</td>\n",
       "      <td>...</td>\n",
       "      <td>1998.0</td>\n",
       "      <td>1177.0</td>\n",
       "      <td>Month and year</td>\n",
       "      <td>18.0</td>\n",
       "      <td>17.0</td>\n",
       "      <td>15-19</td>\n",
       "      <td>18.0</td>\n",
       "      <td>1.0</td>\n",
       "      <td>Yes</td>\n",
       "      <td>11.0</td>\n",
       "    </tr>\n",
       "    <tr>\n",
       "      <th>3</th>\n",
       "      <td>3</td>\n",
       "      <td>000104801  3</td>\n",
       "      <td>PE6</td>\n",
       "      <td>1.0</td>\n",
       "      <td>48.0</td>\n",
       "      <td>3.0</td>\n",
       "      <td>1.0</td>\n",
       "      <td>1386.0</td>\n",
       "      <td>11.0</td>\n",
       "      <td>1999.0</td>\n",
       "      <td>...</td>\n",
       "      <td>NaN</td>\n",
       "      <td>NaN</td>\n",
       "      <td>NaN</td>\n",
       "      <td>NaN</td>\n",
       "      <td>NaN</td>\n",
       "      <td>Never married</td>\n",
       "      <td>Not had intercourse</td>\n",
       "      <td>0.0</td>\n",
       "      <td>Yes</td>\n",
       "      <td>NaN</td>\n",
       "    </tr>\n",
       "    <tr>\n",
       "      <th>4</th>\n",
       "      <td>4</td>\n",
       "      <td>000105001  3</td>\n",
       "      <td>PE6</td>\n",
       "      <td>1.0</td>\n",
       "      <td>50.0</td>\n",
       "      <td>3.0</td>\n",
       "      <td>1.0</td>\n",
       "      <td>1386.0</td>\n",
       "      <td>8.0</td>\n",
       "      <td>1993.0</td>\n",
       "      <td>...</td>\n",
       "      <td>NaN</td>\n",
       "      <td>NaN</td>\n",
       "      <td>NaN</td>\n",
       "      <td>NaN</td>\n",
       "      <td>NaN</td>\n",
       "      <td>Never married</td>\n",
       "      <td>21.0</td>\n",
       "      <td>2.0</td>\n",
       "      <td>No</td>\n",
       "      <td>NaN</td>\n",
       "    </tr>\n",
       "    <tr>\n",
       "      <th>...</th>\n",
       "      <td>...</td>\n",
       "      <td>...</td>\n",
       "      <td>...</td>\n",
       "      <td>...</td>\n",
       "      <td>...</td>\n",
       "      <td>...</td>\n",
       "      <td>...</td>\n",
       "      <td>...</td>\n",
       "      <td>...</td>\n",
       "      <td>...</td>\n",
       "      <td>...</td>\n",
       "      <td>...</td>\n",
       "      <td>...</td>\n",
       "      <td>...</td>\n",
       "      <td>...</td>\n",
       "      <td>...</td>\n",
       "      <td>...</td>\n",
       "      <td>...</td>\n",
       "      <td>...</td>\n",
       "      <td>...</td>\n",
       "      <td>...</td>\n",
       "    </tr>\n",
       "    <tr>\n",
       "      <th>182863</th>\n",
       "      <td>182863</td>\n",
       "      <td>325406201  2</td>\n",
       "      <td>PE6</td>\n",
       "      <td>3254.0</td>\n",
       "      <td>62.0</td>\n",
       "      <td>2.0</td>\n",
       "      <td>3254.0</td>\n",
       "      <td>1440.0</td>\n",
       "      <td>12.0</td>\n",
       "      <td>1971.0</td>\n",
       "      <td>...</td>\n",
       "      <td>1985.0</td>\n",
       "      <td>1032.0</td>\n",
       "      <td>Tiene mes y año</td>\n",
       "      <td>14.0</td>\n",
       "      <td>34.0</td>\n",
       "      <td>De 30 a más años</td>\n",
       "      <td>12.0</td>\n",
       "      <td>3.0</td>\n",
       "      <td>No</td>\n",
       "      <td>5.0</td>\n",
       "    </tr>\n",
       "    <tr>\n",
       "      <th>182864</th>\n",
       "      <td>182864</td>\n",
       "      <td>325406301  2</td>\n",
       "      <td>PE6</td>\n",
       "      <td>3254.0</td>\n",
       "      <td>63.0</td>\n",
       "      <td>2.0</td>\n",
       "      <td>3254.0</td>\n",
       "      <td>1440.0</td>\n",
       "      <td>6.0</td>\n",
       "      <td>1988.0</td>\n",
       "      <td>...</td>\n",
       "      <td>2002.0</td>\n",
       "      <td>1236.0</td>\n",
       "      <td>Tiene mes y año</td>\n",
       "      <td>14.0</td>\n",
       "      <td>17.0</td>\n",
       "      <td>De 15 a 19 años</td>\n",
       "      <td>12.0</td>\n",
       "      <td>3.0</td>\n",
       "      <td>No</td>\n",
       "      <td>7.0</td>\n",
       "    </tr>\n",
       "    <tr>\n",
       "      <th>182865</th>\n",
       "      <td>182865</td>\n",
       "      <td>325407001  2</td>\n",
       "      <td>PE6</td>\n",
       "      <td>3254.0</td>\n",
       "      <td>70.0</td>\n",
       "      <td>2.0</td>\n",
       "      <td>3254.0</td>\n",
       "      <td>1440.0</td>\n",
       "      <td>7.0</td>\n",
       "      <td>1973.0</td>\n",
       "      <td>...</td>\n",
       "      <td>1986.0</td>\n",
       "      <td>1043.0</td>\n",
       "      <td>Tiene mes y año</td>\n",
       "      <td>13.0</td>\n",
       "      <td>33.0</td>\n",
       "      <td>De 30 a más años</td>\n",
       "      <td>12.0</td>\n",
       "      <td>4.0</td>\n",
       "      <td>No</td>\n",
       "      <td>5.0</td>\n",
       "    </tr>\n",
       "    <tr>\n",
       "      <th>182866</th>\n",
       "      <td>182866</td>\n",
       "      <td>325407201  2</td>\n",
       "      <td>PE6</td>\n",
       "      <td>3254.0</td>\n",
       "      <td>72.0</td>\n",
       "      <td>2.0</td>\n",
       "      <td>3254.0</td>\n",
       "      <td>1440.0</td>\n",
       "      <td>12.0</td>\n",
       "      <td>1994.0</td>\n",
       "      <td>...</td>\n",
       "      <td>2008.0</td>\n",
       "      <td>1301.0</td>\n",
       "      <td>Tiene mes y año</td>\n",
       "      <td>13.0</td>\n",
       "      <td>11.0</td>\n",
       "      <td>De 10 a 14 años</td>\n",
       "      <td>13.0</td>\n",
       "      <td>2.0</td>\n",
       "      <td>No</td>\n",
       "      <td>11.0</td>\n",
       "    </tr>\n",
       "    <tr>\n",
       "      <th>182867</th>\n",
       "      <td>182867</td>\n",
       "      <td>325407401  2</td>\n",
       "      <td>PE6</td>\n",
       "      <td>3254.0</td>\n",
       "      <td>74.0</td>\n",
       "      <td>2.0</td>\n",
       "      <td>3254.0</td>\n",
       "      <td>1440.0</td>\n",
       "      <td>10.0</td>\n",
       "      <td>1996.0</td>\n",
       "      <td>...</td>\n",
       "      <td>2013.0</td>\n",
       "      <td>1362.0</td>\n",
       "      <td>Tiene mes y año</td>\n",
       "      <td>16.0</td>\n",
       "      <td>6.0</td>\n",
       "      <td>De 5 a 9 años</td>\n",
       "      <td>15.0</td>\n",
       "      <td>2.0</td>\n",
       "      <td>No</td>\n",
       "      <td>11.0</td>\n",
       "    </tr>\n",
       "  </tbody>\n",
       "</table>\n",
       "<p>182868 rows × 64 columns</p>\n",
       "</div>"
      ],
      "text/plain": [
       "        Unnamed: 0              CASEID V000    V001  V002  V003    V004  \\\n",
       "0                0        000102701  1  PE6     1.0  27.0   1.0     1.0   \n",
       "1                1        000104301  1  PE6     1.0  43.0   1.0     1.0   \n",
       "2                2        000104801  2  PE6     1.0  48.0   2.0     1.0   \n",
       "3                3        000104801  3  PE6     1.0  48.0   3.0     1.0   \n",
       "4                4        000105001  3  PE6     1.0  50.0   3.0     1.0   \n",
       "...            ...                 ...  ...     ...   ...   ...     ...   \n",
       "182863      182863        325406201  2  PE6  3254.0  62.0   2.0  3254.0   \n",
       "182864      182864        325406301  2  PE6  3254.0  63.0   2.0  3254.0   \n",
       "182865      182865        325407001  2  PE6  3254.0  70.0   2.0  3254.0   \n",
       "182866      182866        325407201  2  PE6  3254.0  72.0   2.0  3254.0   \n",
       "182867      182867        325407401  2  PE6  3254.0  74.0   2.0  3254.0   \n",
       "\n",
       "          V008  V009    V010  ...    V508    V509             V510  V511  \\\n",
       "0       1386.0   7.0  1985.0  ...  2001.0  1220.0   Month and year  16.0   \n",
       "1       1386.0   4.0  1974.0  ...  2007.0  1290.0   Month and year  33.0   \n",
       "2       1386.0   1.0  1980.0  ...  1998.0  1177.0   Month and year  18.0   \n",
       "3       1386.0  11.0  1999.0  ...     NaN     NaN              NaN   NaN   \n",
       "4       1386.0   8.0  1993.0  ...     NaN     NaN              NaN   NaN   \n",
       "...        ...   ...     ...  ...     ...     ...              ...   ...   \n",
       "182863  1440.0  12.0  1971.0  ...  1985.0  1032.0  Tiene mes y año  14.0   \n",
       "182864  1440.0   6.0  1988.0  ...  2002.0  1236.0  Tiene mes y año  14.0   \n",
       "182865  1440.0   7.0  1973.0  ...  1986.0  1043.0  Tiene mes y año  13.0   \n",
       "182866  1440.0  12.0  1994.0  ...  2008.0  1301.0  Tiene mes y año  13.0   \n",
       "182867  1440.0  10.0  1996.0  ...  2013.0  1362.0  Tiene mes y año  16.0   \n",
       "\n",
       "        V512              V513                 V525 V613 V714  V715  \n",
       "0       13.0             10-14                 15.0  4.0  Yes   3.0  \n",
       "1        8.0               5-9                 26.0  2.0   No   9.0  \n",
       "2       17.0             15-19                 18.0  1.0  Yes  11.0  \n",
       "3        NaN     Never married  Not had intercourse  0.0  Yes   NaN  \n",
       "4        NaN     Never married                 21.0  2.0   No   NaN  \n",
       "...      ...               ...                  ...  ...  ...   ...  \n",
       "182863  34.0  De 30 a más años                 12.0  3.0   No   5.0  \n",
       "182864  17.0   De 15 a 19 años                 12.0  3.0   No   7.0  \n",
       "182865  33.0  De 30 a más años                 12.0  4.0   No   5.0  \n",
       "182866  11.0   De 10 a 14 años                 13.0  2.0   No  11.0  \n",
       "182867   6.0     De 5 a 9 años                 15.0  2.0   No  11.0  \n",
       "\n",
       "[182868 rows x 64 columns]"
      ]
     },
     "execution_count": 7,
     "metadata": {},
     "output_type": "execute_result"
    }
   ],
   "source": [
    "df"
   ]
  },
  {
   "cell_type": "markdown",
   "metadata": {},
   "source": [
    "Check Unique ID"
   ]
  },
  {
   "cell_type": "code",
   "execution_count": 8,
   "metadata": {},
   "outputs": [
    {
     "data": {
      "text/plain": [
       "True"
      ]
     },
     "execution_count": 8,
     "metadata": {},
     "output_type": "execute_result"
    }
   ],
   "source": [
    "(df.CASEID + df.year.astype( str )).is_unique  #Ver que el ID es único a pesar de los años "
   ]
  },
  {
   "cell_type": "markdown",
   "metadata": {},
   "source": [
    "From CMC to datetime. Info about datetime use [this link](https://docs.python.org/3/library/datetime.html#datetime.datetime.strptime)"
   ]
  },
  {
   "cell_type": "code",
   "execution_count": 9,
   "metadata": {},
   "outputs": [
    {
     "data": {
      "text/plain": [
       "datetime.datetime(2019, 9, 2, 0, 0)"
      ]
     },
     "execution_count": 9,
     "metadata": {},
     "output_type": "execute_result"
    }
   ],
   "source": [
    "from datetime import datetime        \n",
    "\n",
    "datetime.strptime( f'09-02-2019', '%m-%d-%Y')"
   ]
  },
  {
   "cell_type": "markdown",
   "metadata": {},
   "source": [
    "See [this article](https://demographicestimation.iussp.org/content/dhs-century-month-codes) to convert CMC to datetime"
   ]
  },
  {
   "cell_type": "code",
   "execution_count": 10,
   "metadata": {},
   "outputs": [],
   "source": [
    "def cmc_date( cmc ):\n",
    "    year = 1900 + int( ( cmc - 1 ) / 12 )\n",
    "    month = int( cmc - 12*( year - 1900 ) )\n",
    "    datetime_object = datetime.strptime( f'{month}/{year}', '%m/%Y')\n",
    "    \n",
    "    return datetime_object"
   ]
  },
  {
   "cell_type": "code",
   "execution_count": 11,
   "metadata": {
    "scrolled": true
   },
   "outputs": [],
   "source": [
    "df[ 'inerview_date' ] = df.V008.apply( lambda x: cmc_date( x ) )"
   ]
  },
  {
   "cell_type": "code",
   "execution_count": 12,
   "metadata": {},
   "outputs": [],
   "source": [
    "df[ 'inerview_month' ] = df[ 'inerview_date' ].dt.strftime( \"%b\" )\n",
    "df[ 'inerview_month1' ] = df[ 'inerview_date' ].dt.month\n",
    "df[ 'inerview_year' ] = df[ 'inerview_date' ].dt.year\n",
    "df.sort_values( 'inerview_month1', inplace = True )"
   ]
  },
  {
   "cell_type": "code",
   "execution_count": 13,
   "metadata": {},
   "outputs": [
    {
     "name": "stderr",
     "output_type": "stream",
     "text": [
      "C:\\Users\\judit\\anaconda3\\Lib\\site-packages\\seaborn\\axisgrid.py:118: UserWarning: The figure layout has changed to tight\n",
      "  self._figure.tight_layout(*args, **kwargs)\n"
     ]
    },
    {
     "data": {
      "text/plain": [
       "<matplotlib.legend.Legend at 0x23f44933ed0>"
      ]
     },
     "execution_count": 13,
     "metadata": {},
     "output_type": "execute_result"
    },
    {
     "data": {
      "image/png": "[encoded data removed]",
      "text/plain": [
       "<Figure size 1500x800 with 1 Axes>"
      ]
     },
     "metadata": {},
     "output_type": "display_data"
    }
   ],
   "source": [
    "# Settin\n",
    "\n",
    "fig1 = sns.catplot( data = df, x = 'inerview_month', kind = 'count', #catplot: contar \n",
    "            hue = 'inerview_year', \n",
    "            palette = sns.color_palette(\"mako_r\", 5 ), \n",
    "            legend = False )\n",
    "\n",
    "\n",
    "fig1.fig.set_size_inches( 15, 8 )\n",
    "\n",
    "plt.ylabel( \"Number of Interviews\" )\n",
    "plt.xlabel( \"Month\" )\n",
    "plt.legend( title = 'Year', bbox_to_anchor = (1.15, 1 ), loc = 0 )"
   ]
  },
  {
   "cell_type": "code",
   "execution_count": 15,
   "metadata": {},
   "outputs": [
    {
     "data": {
      "text/plain": [
       "{2015: <Axes: title={'center': 'Interview Year - 2015'}, ylabel='Number of Interviews'>,\n",
       " 2016: <Axes: title={'center': 'Interview Year - 2016'}>,\n",
       " 2017: <Axes: title={'center': 'Interview Year - 2017'}, ylabel='Number of Interviews'>,\n",
       " 2018: <Axes: title={'center': 'Interview Year - 2018'}, xlabel='Month'>,\n",
       " 2019: <Axes: title={'center': 'Interview Year - 2019'}, xlabel='Month', ylabel='Number of Interviews'>}"
      ]
     },
     "execution_count": 15,
     "metadata": {},
     "output_type": "execute_result"
    }
   ],
   "source": [
    "fig1.axes_dict"
   ]
  },
  {
   "cell_type": "code",
   "execution_count": null,
   "metadata": {},
   "outputs": [],
   "source": [
    "#Ver la cantidad de encuestados por año, en espeífcio para cada mes "
   ]
  },
  {
   "cell_type": "code",
   "execution_count": 14,
   "metadata": {},
   "outputs": [
    {
     "name": "stderr",
     "output_type": "stream",
     "text": [
      "C:\\Users\\judit\\anaconda3\\Lib\\site-packages\\seaborn\\axisgrid.py:118: UserWarning: The figure layout has changed to tight\n",
      "  self._figure.tight_layout(*args, **kwargs)\n"
     ]
    },
    {
     "data": {
      "image/png": "[encoded data removed]",
      "text/plain": [
       "<Figure size 1800x1400 with 5 Axes>"
      ]
     },
     "metadata": {},
     "output_type": "display_data"
    }
   ],
   "source": [
    "# Settin\n",
    "fig1 = sns.catplot( data = df, x = 'inerview_month', kind = 'count',\n",
    "            col = 'inerview_year', col_wrap = 2,\n",
    "            legend = False,  color = (0.2, 0.4, 0.6, 0.6) ) #legend false: yo colocaré la leyenda \n",
    "\n",
    "# Fix figure size\n",
    "fig1.fig.set_size_inches( 18, 14 )\n",
    "\n",
    "# Fix title \n",
    "# add space between plots and title\n",
    "fig1.fig.subplots_adjust(top=0.9)\n",
    "fig1.fig.suptitle( \"Number of Interview by Month and Year\", \n",
    "                size = 18  )\n",
    "\n",
    "# Add vertical space between plots\n",
    "plt.subplots_adjust( hspace = 0.2 )\n",
    "\n",
    "# Set axis labels\n",
    "fig1.set_axis_labels( \"Month\", \"Number of Interviews\", size = 15 )\n",
    "\n",
    "# Change title for each subplot\n",
    "for year in fig1.axes_dict.keys():\n",
    "    fig1.axes_dict[ year ].set_title( f'Interview Year - { year }' )\n",
    "    \n"
   ]
  },
  {
   "cell_type": "markdown",
   "metadata": {},
   "source": [
    "Distribution of Age"
   ]
  },
  {
   "cell_type": "code",
   "execution_count": null,
   "metadata": {},
   "outputs": [],
   "source": [
    "fig2 = sns.displot( data = df, x = 'V012', hue = 'year', \n",
    "            palette = sns.color_palette(\"mako_r\", 5 ), \n",
    "           kind = \"kde\" )\n",
    "\n",
    "\n",
    "# Make title\n",
    "fig2.fig.subplots_adjust(top=0.9)\n",
    "fig2.fig.suptitle( \"Distribution of Interviewed Age by Surveys Year\", \n",
    "                size = 14 )\n",
    "\n",
    "# Change legend title\n",
    "fig2._legend.set_title( \"Year\" )\n",
    "\n",
    "# Set axis labels\n",
    "fig2.set_axis_labels( \"Age\", \"Density\", size = 15 );\n"
   ]
  },
  {
   "cell_type": "markdown",
   "metadata": {},
   "source": [
    "Distribution Total children ever born by place of residence"
   ]
  },
  {
   "cell_type": "code",
   "execution_count": null,
   "metadata": {},
   "outputs": [],
   "source": [
    "df.V102.unique()"
   ]
  },
  {
   "cell_type": "code",
   "execution_count": null,
   "metadata": {},
   "outputs": [],
   "source": [
    "df[ 'urban' ] = df.V102.copy()\n",
    "df[ 'urban' ].replace( 'Urbana', 'Urbano', inplace = True )\n",
    "df[ 'urban' ].replace( 'Urban', 'Urbano', inplace = True )"
   ]
  },
  {
   "cell_type": "code",
   "execution_count": null,
   "metadata": {},
   "outputs": [],
   "source": [
    "df.attrs['var_labels']"
   ]
  },
  {
   "cell_type": "code",
   "execution_count": null,
   "metadata": {},
   "outputs": [],
   "source": [
    "# Plot ploints\n",
    "fig = plt.figure( figsize = ( 10, 9 ) )\n",
    "sns.stripplot( y = \"V201\", hue = \"year\", \n",
    "                x = \"urban\", \n",
    "                data = df, jitter = True,\n",
    "                palette = sns.color_palette(\"rocket\", 5 )[::-1], \n",
    "                dodge = True, \n",
    "                linewidth = 1, edgecolor = 'white' )\n",
    "\n",
    "# Plot boxplot\n",
    "yx = sns.boxplot( y = \"V201\", hue = \"year\", \n",
    "                x = \"urban\", \n",
    "                data = df, \n",
    "                palette = sns.color_palette(\"rocket\", 5 )[::-1], \n",
    "                fliersize = 0 )\n",
    "\n",
    "# Number of labels\n",
    "yr = df.year.unique().size\n",
    "\n",
    "# Get legend labels and handles\n",
    "handles, labels = yx.get_legend_handles_labels()\n",
    "\n",
    "# When creating the legend, only use the first 5 elements\n",
    "# to effectively remove the last.\n",
    "plt.legend(handles[0:yr], labels[0:yr], bbox_to_anchor=(1.05, 1), \n",
    "           loc=2, borderaxespad=0., title = \"Year\" )\n",
    "\n",
    "# x label\n",
    "plt.xlabel( \"Type of place of residence\" )\n",
    "plt.ylabel( \"Total children ever born\" );"
   ]
  },
  {
   "cell_type": "markdown",
   "metadata": {},
   "source": [
    "### Total children by cohort"
   ]
  },
  {
   "cell_type": "code",
   "execution_count": null,
   "metadata": {},
   "outputs": [],
   "source": [
    "sns.histplot( data = df, x = 'V010')\n",
    "plt.xlabel( \"Respondent's year of birth\" )"
   ]
  },
  {
   "cell_type": "code",
   "execution_count": null,
   "metadata": {},
   "outputs": [],
   "source": [
    "sns.boxplot( data = df, y = 'V010')\n",
    "plt.ylabel( \"Respondent's year of birth\" )"
   ]
  },
  {
   "cell_type": "code",
   "execution_count": null,
   "metadata": {},
   "outputs": [],
   "source": [
    "def gen_cohot( series, size = 5 ):\n",
    "    \n",
    "    min1 = int( ( ( series.min() ) / size) ) * size\n",
    "    max1 = int( np.ceil( ( series.max() ) / size) ) * size\n",
    "    result = np.arange( min1, max1 + 1 , 5 )\n",
    "    labels = np.ceil( ( result[ 1: ] + result[ :-1 ] ) / 2 ).astype( int )\n",
    "    \n",
    "    return result, labels"
   ]
  },
  {
   "cell_type": "code",
   "execution_count": null,
   "metadata": {},
   "outputs": [],
   "source": [
    "gen_cohot( df.V010, size = 10 )"
   ]
  },
  {
   "cell_type": "code",
   "execution_count": null,
   "metadata": {},
   "outputs": [],
   "source": [
    "cohorts, labels = gen_cohot( df.V010 )"
   ]
  },
  {
   "cell_type": "code",
   "execution_count": null,
   "metadata": {},
   "outputs": [],
   "source": [
    "df[ 'birth_cohort' ] = pd.cut( df.V010, bins  = cohorts, \n",
    "                              include_lowest = True, labels = labels )"
   ]
  },
  {
   "cell_type": "code",
   "execution_count": null,
   "metadata": {},
   "outputs": [],
   "source": [
    "df"
   ]
  },
  {
   "cell_type": "code",
   "execution_count": null,
   "metadata": {},
   "outputs": [],
   "source": [
    "# Plot ploints\n",
    "fig = plt.figure( figsize = ( 10, 9 ) )\n",
    "\n",
    "sns.pointplot( x = \"birth_cohort\", y = \"V201\", \n",
    "               data = df, ci = 'sd')\n",
    "\n",
    "# x label\n",
    "plt.xlabel( \"Cohort\" )\n",
    "plt.ylabel( \"Total children ever born\" )"
   ]
  },
  {
   "cell_type": "code",
   "execution_count": null,
   "metadata": {},
   "outputs": [],
   "source": [
    "# Plot ploints\n",
    "fig = plt.figure( figsize = ( 10, 9 ) )\n",
    "\n",
    "sns.pointplot( x = \"birth_cohort\", y = \"V201\", \n",
    "               data = df, ci = 'sd', hue = 'urban', \n",
    "             dodge = 0.2, \n",
    "              linestyles = [ \"-\", \"--\" ] )\n",
    "\n",
    "# x label\n",
    "plt.xlabel( \"Cohort\" )\n",
    "plt.ylabel( \"Total children ever born\" )\n",
    "\n",
    "# Change legend title\n",
    "plt.legend( title =  \"Type of place\\n of residence\" )"
   ]
  },
  {
   "cell_type": "markdown",
   "metadata": {},
   "source": [
    "## First sex relationship"
   ]
  },
  {
   "cell_type": "code",
   "execution_count": null,
   "metadata": {},
   "outputs": [],
   "source": [
    "df.V525.unique()"
   ]
  },
  {
   "cell_type": "code",
   "execution_count": null,
   "metadata": {},
   "outputs": [],
   "source": [
    "df[ 'first_sex' ] = df.V525.copy()"
   ]
  },
  {
   "cell_type": "code",
   "execution_count": null,
   "metadata": {},
   "outputs": [],
   "source": [
    "df.first_sex.replace( 'Not had intercourse', np.nan, inplace = True )\n",
    "df.first_sex.replace( 'No ha tenido relación sexual', np.nan, inplace = True )\n",
    "df.first_sex.replace( 'Nunca tuvo relaciones sexuales', np.nan, inplace = True )\n",
    "df.first_sex.replace( 'En la primera unión', 'At first union', inplace = True )\n",
    "df.first_sex.replace( 'En la primera union', 'At first union', inplace = True )"
   ]
  },
  {
   "cell_type": "code",
   "execution_count": null,
   "metadata": {},
   "outputs": [],
   "source": [
    "# Filter values in variables\n",
    "\n",
    "filter1 = df.first_sex == 'At first union'\n",
    "df.loc[ filter1 , 'first_sex' ] = df.loc[ filter1 , 'V511' ]"
   ]
  },
  {
   "cell_type": "code",
   "execution_count": null,
   "metadata": {},
   "outputs": [],
   "source": [
    "df.first_sex = df.first_sex.astype( float )"
   ]
  },
  {
   "cell_type": "code",
   "execution_count": null,
   "metadata": {},
   "outputs": [],
   "source": [
    "df.first_sex"
   ]
  },
  {
   "cell_type": "markdown",
   "metadata": {},
   "source": [
    "Celaning region variable"
   ]
  },
  {
   "cell_type": "code",
   "execution_count": null,
   "metadata": {},
   "outputs": [],
   "source": [
    "sns.displot( data = df, x = 'first_sex', \n",
    "            kind = 'kde', col = 'V024', \n",
    "            col_wrap = 3, \n",
    "            facet_kws = {'sharex' : False, \n",
    "                        'sharey' : False }, \n",
    "            hue = 'urban'\n",
    "           )"
   ]
  },
  {
   "cell_type": "code",
   "execution_count": null,
   "metadata": {},
   "outputs": [],
   "source": [
    "df[ 'dpto' ] = df.V024.copy()"
   ]
  },
  {
   "cell_type": "code",
   "execution_count": null,
   "metadata": {},
   "outputs": [],
   "source": [
    "df.dpto = df.dpto.str.lstrip() \\\n",
    "            .str.replace( \" \", \"_\" ) \\\n",
    "            .str.lower() \\\n",
    "            .apply( lambda x :  unidecode.unidecode( x ) )"
   ]
  },
  {
   "cell_type": "code",
   "execution_count": null,
   "metadata": {},
   "outputs": [],
   "source": [
    "sns.displot( data = df, x = 'first_sex', \n",
    "            kind = 'kde', col = 'dpto', \n",
    "            col_wrap = 3, \n",
    "            facet_kws = {'sharex' : False, \n",
    "                        'sharey' : False }, \n",
    "            hue = 'urban'\n",
    "           )"
   ]
  },
  {
   "cell_type": "markdown",
   "metadata": {},
   "source": [
    "## Total children ever born by cohort and wife and husband education"
   ]
  },
  {
   "cell_type": "code",
   "execution_count": null,
   "metadata": {},
   "outputs": [],
   "source": [
    "df[ 'h_educ_yr' ] = df.V715.copy()\n",
    "\n",
    "df.h_educ_yr.replace( 'No sabe', np.nan, inplace = True )\n",
    "df.h_educ_yr.replace( \"Don't know\", np.nan, inplace = True )"
   ]
  },
  {
   "cell_type": "code",
   "execution_count": null,
   "metadata": {},
   "outputs": [],
   "source": [
    "df.loc[ ( df.V133 <= 12 ), 'w_educ' ] = 'Low'\n",
    "df.loc[ ( df.V133 > 12), 'w_educ' ] = 'High'\n",
    "\n",
    "df.loc[ ( df.h_educ_yr <= 12 ), 'h_educ_str' ] = 'Low'\n",
    "df.loc[ ( df.h_educ_yr > 12), 'h_educ_str' ] = 'High'"
   ]
  },
  {
   "cell_type": "code",
   "execution_count": null,
   "metadata": {},
   "outputs": [],
   "source": [
    "# Plot ploints\n",
    "fig = plt.figure( figsize = ( 10, 9 ) )\n",
    "\n",
    "sns.pointplot( x = \"birth_cohort\", y = \"V201\", \n",
    "               data = df, ci = 'sd', hue = 'w_educ', \n",
    "             dodge = 0.2, \n",
    "              linestyles = [ \"-\", \"--\" ] )\n",
    "\n",
    "# x label\n",
    "plt.xlabel( \"Cohort\" )\n",
    "plt.ylabel( \"Total children ever born\" )\n",
    "\n",
    "# Change legend title\n",
    "plt.legend( title =  \"Wife Education\" )"
   ]
  },
  {
   "cell_type": "code",
   "execution_count": null,
   "metadata": {},
   "outputs": [],
   "source": [
    "# Plot ploints\n",
    "fig = plt.figure( figsize = ( 10, 9 ) )\n",
    "\n",
    "sns.pointplot( x = \"birth_cohort\", y = \"V201\", \n",
    "               data = df, ci = 'sd', hue = 'h_educ_str', \n",
    "             dodge = 0.2, \n",
    "              linestyles = [ \"-\", \"--\" ] )\n",
    "\n",
    "# x label\n",
    "plt.xlabel( \"Cohort\" )\n",
    "plt.ylabel( \"Total children ever born\" )\n",
    "\n",
    "# Change legend title\n",
    "plt.legend( title =  \"Husband Education\" )"
   ]
  }
 ],
 "metadata": {
  "hide_input": false,
  "kernelspec": {
   "display_name": "Python 3 (ipykernel)",
   "language": "python",
   "name": "python3"
  },
  "language_info": {
   "codemirror_mode": {
    "name": "ipython",
    "version": 3
   },
   "file_extension": ".py",
   "mimetype": "text/x-python",
   "name": "python",
   "nbconvert_exporter": "python",
   "pygments_lexer": "ipython3",
   "version": "3.11.5"
  },
  "toc": {
   "base_numbering": 1,
   "nav_menu": {},
   "number_sections": true,
   "sideBar": true,
   "skip_h1_title": false,
   "title_cell": "Table of Contents",
   "title_sidebar": "Contents",
   "toc_cell": false,
   "toc_position": {},
   "toc_section_display": true,
   "toc_window_display": false
  }
 },
 "nbformat": 4,
 "nbformat_minor": 4
}
