{
 "cells": [
  {
   "cell_type": "markdown",
   "id": "48dfdd19",
   "metadata": {},
   "source": [
    "**1. Import the data located at this link. It has information on people infected with dengue at the district level for 2015 to 2021.**"
   ]
  },
  {
   "cell_type": "code",
   "execution_count": 1,
   "id": "0036f884",
   "metadata": {},
   "outputs": [
    {
     "name": "stderr",
     "output_type": "stream",
     "text": [
      "C:\\Users\\marti\\AppData\\Local\\Temp\\ipykernel_18236\\4097990220.py:4: DtypeWarning: Columns (7) have mixed types. Specify dtype option on import or set low_memory=False.\n",
      "  df_dengue = pd.read_csv(r\"C:/Users/marti/OneDrive/Documents/GitHub/Assignments_intermedio/Assignments_8/data_dengue_peru.csv\")\n"
     ]
    }
   ],
   "source": [
    "#importando pandas\n",
    "import pandas as pd\n",
    "# Importando la data\n",
    "df_dengue = pd.read_csv(r\"C:/Users/marti/OneDrive/Documents/GitHub/Assignments_intermedio/Assignments_8/data_dengue_peru.csv\")"
   ]
  },
  {
   "cell_type": "code",
   "execution_count": 2,
   "id": "d5007e20",
   "metadata": {},
   "outputs": [
    {
     "data": {
      "text/html": [
       "<div>\n",
       "<style scoped>\n",
       "    .dataframe tbody tr th:only-of-type {\n",
       "        vertical-align: middle;\n",
       "    }\n",
       "\n",
       "    .dataframe tbody tr th {\n",
       "        vertical-align: top;\n",
       "    }\n",
       "\n",
       "    .dataframe thead th {\n",
       "        text-align: right;\n",
       "    }\n",
       "</style>\n",
       "<table border=\"1\" class=\"dataframe\">\n",
       "  <thead>\n",
       "    <tr style=\"text-align: right;\">\n",
       "      <th></th>\n",
       "      <th>Año</th>\n",
       "      <th>Semana</th>\n",
       "      <th>Eventos o daños</th>\n",
       "      <th>Departamento</th>\n",
       "      <th>Distrito</th>\n",
       "      <th>Provincia</th>\n",
       "      <th>Ubigeo</th>\n",
       "      <th>Casos</th>\n",
       "    </tr>\n",
       "  </thead>\n",
       "  <tbody>\n",
       "    <tr>\n",
       "      <th>0</th>\n",
       "      <td>2020</td>\n",
       "      <td>43</td>\n",
       "      <td>Dengue</td>\n",
       "      <td>CUSCO</td>\n",
       "      <td>MEGANTONI</td>\n",
       "      <td>LA CONVENCION</td>\n",
       "      <td>80914</td>\n",
       "      <td>2.0</td>\n",
       "    </tr>\n",
       "    <tr>\n",
       "      <th>1</th>\n",
       "      <td>2021</td>\n",
       "      <td>41</td>\n",
       "      <td>Dengue</td>\n",
       "      <td>MOQUEGUA</td>\n",
       "      <td>MOQUEGUA</td>\n",
       "      <td>MARISCAL NIETO</td>\n",
       "      <td>180101</td>\n",
       "      <td>NaN</td>\n",
       "    </tr>\n",
       "    <tr>\n",
       "      <th>2</th>\n",
       "      <td>2021</td>\n",
       "      <td>42</td>\n",
       "      <td>Dengue</td>\n",
       "      <td>MOQUEGUA</td>\n",
       "      <td>MOQUEGUA</td>\n",
       "      <td>MARISCAL NIETO</td>\n",
       "      <td>180101</td>\n",
       "      <td>NaN</td>\n",
       "    </tr>\n",
       "    <tr>\n",
       "      <th>3</th>\n",
       "      <td>2020</td>\n",
       "      <td>1</td>\n",
       "      <td>Dengue</td>\n",
       "      <td>CUSCO</td>\n",
       "      <td>MEGANTONI</td>\n",
       "      <td>LA CONVENCION</td>\n",
       "      <td>80914</td>\n",
       "      <td>0.0</td>\n",
       "    </tr>\n",
       "    <tr>\n",
       "      <th>4</th>\n",
       "      <td>2020</td>\n",
       "      <td>53</td>\n",
       "      <td>Dengue</td>\n",
       "      <td>CUSCO</td>\n",
       "      <td>MEGANTONI</td>\n",
       "      <td>LA CONVENCION</td>\n",
       "      <td>80914</td>\n",
       "      <td>2.0</td>\n",
       "    </tr>\n",
       "    <tr>\n",
       "      <th>...</th>\n",
       "      <td>...</td>\n",
       "      <td>...</td>\n",
       "      <td>...</td>\n",
       "      <td>...</td>\n",
       "      <td>...</td>\n",
       "      <td>...</td>\n",
       "      <td>...</td>\n",
       "      <td>...</td>\n",
       "    </tr>\n",
       "    <tr>\n",
       "      <th>172139</th>\n",
       "      <td>2021</td>\n",
       "      <td>49</td>\n",
       "      <td>Dengue</td>\n",
       "      <td>MADRE DE DIOS</td>\n",
       "      <td>MADRE DE DIOS</td>\n",
       "      <td>MANU</td>\n",
       "      <td>170203</td>\n",
       "      <td>NaN</td>\n",
       "    </tr>\n",
       "    <tr>\n",
       "      <th>172140</th>\n",
       "      <td>2021</td>\n",
       "      <td>49</td>\n",
       "      <td>Dengue</td>\n",
       "      <td>MADRE DE DIOS</td>\n",
       "      <td>TAHUAMANU</td>\n",
       "      <td>TAHUAMANU</td>\n",
       "      <td>170303</td>\n",
       "      <td>NaN</td>\n",
       "    </tr>\n",
       "    <tr>\n",
       "      <th>172141</th>\n",
       "      <td>2021</td>\n",
       "      <td>50</td>\n",
       "      <td>Dengue</td>\n",
       "      <td>MADRE DE DIOS</td>\n",
       "      <td>MADRE DE DIOS</td>\n",
       "      <td>MANU</td>\n",
       "      <td>170203</td>\n",
       "      <td>NaN</td>\n",
       "    </tr>\n",
       "    <tr>\n",
       "      <th>172142</th>\n",
       "      <td>2021</td>\n",
       "      <td>50</td>\n",
       "      <td>Dengue</td>\n",
       "      <td>MADRE DE DIOS</td>\n",
       "      <td>TAHUAMANU</td>\n",
       "      <td>TAHUAMANU</td>\n",
       "      <td>170303</td>\n",
       "      <td>NaN</td>\n",
       "    </tr>\n",
       "    <tr>\n",
       "      <th>172143</th>\n",
       "      <td>2021</td>\n",
       "      <td>51</td>\n",
       "      <td>Dengue</td>\n",
       "      <td>MADRE DE DIOS</td>\n",
       "      <td>TAHUAMANU</td>\n",
       "      <td>TAHUAMANU</td>\n",
       "      <td>170303</td>\n",
       "      <td>NaN</td>\n",
       "    </tr>\n",
       "  </tbody>\n",
       "</table>\n",
       "<p>172144 rows × 8 columns</p>\n",
       "</div>"
      ],
      "text/plain": [
       "         Año  Semana Eventos o daños   Departamento       Distrito  \\\n",
       "0       2020      43          Dengue          CUSCO      MEGANTONI   \n",
       "1       2021      41          Dengue       MOQUEGUA       MOQUEGUA   \n",
       "2       2021      42          Dengue       MOQUEGUA       MOQUEGUA   \n",
       "3       2020       1          Dengue          CUSCO      MEGANTONI   \n",
       "4       2020      53          Dengue          CUSCO      MEGANTONI   \n",
       "...      ...     ...             ...            ...            ...   \n",
       "172139  2021      49          Dengue  MADRE DE DIOS  MADRE DE DIOS   \n",
       "172140  2021      49          Dengue  MADRE DE DIOS      TAHUAMANU   \n",
       "172141  2021      50          Dengue  MADRE DE DIOS  MADRE DE DIOS   \n",
       "172142  2021      50          Dengue  MADRE DE DIOS      TAHUAMANU   \n",
       "172143  2021      51          Dengue  MADRE DE DIOS      TAHUAMANU   \n",
       "\n",
       "             Provincia  Ubigeo Casos  \n",
       "0        LA CONVENCION   80914   2.0  \n",
       "1       MARISCAL NIETO  180101   NaN  \n",
       "2       MARISCAL NIETO  180101   NaN  \n",
       "3        LA CONVENCION   80914   0.0  \n",
       "4        LA CONVENCION   80914   2.0  \n",
       "...                ...     ...   ...  \n",
       "172139            MANU  170203   NaN  \n",
       "172140       TAHUAMANU  170303   NaN  \n",
       "172141            MANU  170203   NaN  \n",
       "172142       TAHUAMANU  170303   NaN  \n",
       "172143       TAHUAMANU  170303   NaN  \n",
       "\n",
       "[172144 rows x 8 columns]"
      ]
     },
     "execution_count": 2,
     "metadata": {},
     "output_type": "execute_result"
    }
   ],
   "source": [
    "df_dengue"
   ]
  },
  {
   "cell_type": "markdown",
   "id": "a45d916a",
   "metadata": {},
   "source": [
    "### 2. Generate ubigeo for Departments and Provinces taking the first two and four numbers. Hint: Use this code."
   ]
  },
  {
   "cell_type": "code",
   "execution_count": 3,
   "id": "3ac2ecff",
   "metadata": {},
   "outputs": [],
   "source": [
    "# Primero, creamos una nueva variable string 'ubigeo_1' a partir de la variable 'ubigeo' que es int. \n",
    "df_dengue['ubigeo_1'] = df_dengue['Ubigeo'].astype(str)"
   ]
  },
  {
   "cell_type": "code",
   "execution_count": 4,
   "id": "6e7a2380",
   "metadata": {},
   "outputs": [],
   "source": [
    "# Antes de extraer los digitos para crear el ubigeo del departamento y provincia, debemos de asegurarnos que la variable \n",
    "# ubigeo contenga 6 digitos.\n",
    "# Para ello, generamos una función en la que adicione un cero al inicio del ubigeo si dicha variable ubigeo tiene solo 5 digitos\n",
    "# y que mantenga el ubigeo si es que tiene los 6 digitos.\n",
    "def seis_digitos(ubigeo):\n",
    "    if len(ubigeo) == 5:\n",
    "        return \"0\" + ubigeo\n",
    "    else:\n",
    "        return ubigeo"
   ]
  },
  {
   "cell_type": "code",
   "execution_count": 5,
   "id": "86bfe700",
   "metadata": {},
   "outputs": [],
   "source": [
    "# Aplicando la funcion a la variable ubigeo_1 de la base df_dengue\n",
    "df_dengue['ubigeo_1'] = df_dengue['ubigeo_1'].apply(seis_digitos)"
   ]
  },
  {
   "cell_type": "code",
   "execution_count": 6,
   "id": "d2110379",
   "metadata": {},
   "outputs": [
    {
     "data": {
      "text/plain": [
       "0         080914\n",
       "1         180101\n",
       "2         180101\n",
       "3         080914\n",
       "4         080914\n",
       "           ...  \n",
       "172139    170203\n",
       "172140    170303\n",
       "172141    170203\n",
       "172142    170303\n",
       "172143    170303\n",
       "Name: ubigeo_1, Length: 172144, dtype: object"
      ]
     },
     "execution_count": 6,
     "metadata": {},
     "output_type": "execute_result"
    }
   ],
   "source": [
    "# viendo la variable ubigeo_1. Se observa que para las observaciones que tenian 5 digitos se les agregó un cero al inicio para así\n",
    "# hacer que la variable tenga 6 digitos.\n",
    "df_dengue['ubigeo_1']"
   ]
  },
  {
   "cell_type": "code",
   "execution_count": 7,
   "id": "0322f4ba",
   "metadata": {},
   "outputs": [],
   "source": [
    "# Creando la variable ubigeo_depa con los dos primeros dos digitos de la variable ubigeo_1\n",
    "df_dengue['ubigeo_depa'] = df_dengue['ubigeo_1'].str[:2]\n",
    "\n",
    "# Creando la variable ubigeo_prov con los dos primeros dos digitos de la variable ubigeo_1\n",
    "df_dengue['ubigeo_prov'] = df_dengue['ubigeo_1'].str[:4]"
   ]
  },
  {
   "cell_type": "code",
   "execution_count": 8,
   "id": "449fcbe5",
   "metadata": {},
   "outputs": [
    {
     "data": {
      "text/plain": [
       "0         08\n",
       "1         18\n",
       "2         18\n",
       "3         08\n",
       "4         08\n",
       "          ..\n",
       "172139    17\n",
       "172140    17\n",
       "172141    17\n",
       "172142    17\n",
       "172143    17\n",
       "Name: ubigeo_depa, Length: 172144, dtype: object"
      ]
     },
     "execution_count": 8,
     "metadata": {},
     "output_type": "execute_result"
    }
   ],
   "source": [
    "# Viendo la variable ubigeo_depa. Como se puede observar, esta variable ubigeo_depa muestra los dos primeros digitos de la\n",
    "# variable ubigeo_1 asociadas al departamento.\n",
    "df_dengue['ubigeo_depa']"
   ]
  },
  {
   "cell_type": "code",
   "execution_count": 9,
   "id": "68d80dd9",
   "metadata": {},
   "outputs": [
    {
     "data": {
      "text/plain": [
       "0         0809\n",
       "1         1801\n",
       "2         1801\n",
       "3         0809\n",
       "4         0809\n",
       "          ... \n",
       "172139    1702\n",
       "172140    1703\n",
       "172141    1702\n",
       "172142    1703\n",
       "172143    1703\n",
       "Name: ubigeo_prov, Length: 172144, dtype: object"
      ]
     },
     "execution_count": 9,
     "metadata": {},
     "output_type": "execute_result"
    }
   ],
   "source": [
    "# Viendo la variable ubigeo_prov. Como se percibe, esta variable ubigeo_prov muestra los cuatro primeros digitos \n",
    "# de la variable ubigeo_1 relacionados a la provincia.\n",
    "df_dengue['ubigeo_prov']"
   ]
  },
  {
   "cell_type": "code",
   "execution_count": null,
   "id": "6fbfd122",
   "metadata": {},
   "outputs": [],
   "source": []
  }
 ],
 "metadata": {
  "kernelspec": {
   "display_name": "Python 3 (ipykernel)",
   "language": "python",
   "name": "python3"
  },
  "language_info": {
   "codemirror_mode": {
    "name": "ipython",
    "version": 3
   },
   "file_extension": ".py",
   "mimetype": "text/x-python",
   "name": "python",
   "nbconvert_exporter": "python",
   "pygments_lexer": "ipython3",
   "version": "3.11.5"
  }
 },
 "nbformat": 4,
 "nbformat_minor": 5
}
