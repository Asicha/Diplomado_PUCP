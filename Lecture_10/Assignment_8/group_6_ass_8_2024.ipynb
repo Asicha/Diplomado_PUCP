{
 "cells": [
  {
   "cell_type": "markdown",
   "id": "48dfdd19",
   "metadata": {},
   "source": [
    "**1. Import the data located at this link. It has information on people infected with dengue at the district level for 2015 to 2021.**"
   ]
  },
  {
   "cell_type": "code",
   "execution_count": null,
   "id": "0036f884",
   "metadata": {},
   "outputs": [],
   "source": []
  },
  {
   "cell_type": "code",
   "execution_count": null,
   "id": "d5007e20",
   "metadata": {},
   "outputs": [],
   "source": []
  }
 ],
 "metadata": {
  "kernelspec": {
   "display_name": "Python 3 (ipykernel)",
   "language": "python",
   "name": "python3"
  },
  "language_info": {
   "codemirror_mode": {
    "name": "ipython",
    "version": 3
   },
   "file_extension": ".py",
   "mimetype": "text/x-python",
   "name": "python",
   "nbconvert_exporter": "python",
   "pygments_lexer": "ipython3",
   "version": "3.11.5"
  }
 },
 "nbformat": 4,
 "nbformat_minor": 5
}
