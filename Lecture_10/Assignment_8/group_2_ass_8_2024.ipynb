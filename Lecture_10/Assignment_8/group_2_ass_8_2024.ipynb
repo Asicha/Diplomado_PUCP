{
 "cells": [
  {
   "cell_type": "markdown",
   "id": "c6d8f220",
   "metadata": {},
   "source": [
    "# Assigment 8"
   ]
  },
  {
   "cell_type": "code",
   "execution_count": null,
   "id": "614a58ed",
   "metadata": {},
   "outputs": [],
   "source": [
    "from IPython.display import display, HTML\n",
    "\n",
    "display(HTML(data=\"\"\"\n",
    "<style>\n",
    "    div#notebook-container    { width: 95%; }\n",
    "    div#menubar-container     { width: 65%; }\n",
    "    div#maintoolbar-container { width: 99%; }a\n",
    "</style>\n",
    "\"\"\"))"
   ]
  },
  {
   "cell_type": "code",
   "execution_count": null,
   "id": "4dc03e63",
   "metadata": {},
   "outputs": [],
   "source": [
    "import pandas as pd\n",
    "from pandas import Series, DataFrame\n",
    "import numpy as np\n",
    "import matplotlib.pyplot as plt \n",
    "import chardet"
   ]
  },
  {
   "cell_type": "code",
   "execution_count": null,
   "id": "a9cf0c7e",
   "metadata": {},
   "outputs": [],
   "source": [
    "import geopandas as gpd\n",
    "from geopandas import GeoSeries\n",
    "from shapely.geometry import Point, LineString\n",
    "import folium \n",
    "from folium import Marker, GeoJson\n",
    "from folium.plugins import MarkerCluster, HeatMap"
   ]
  },
  {
   "cell_type": "code",
   "execution_count": null,
   "id": "072b46e0",
   "metadata": {},
   "outputs": [],
   "source": [
    "#!pip install mapclassify\n",
    "import mapclassify"
   ]
  },
  {
   "cell_type": "markdown",
   "id": "4ff05d0c",
   "metadata": {},
   "source": [
    "### 8.1. Import the data located at this link. It has information on people infected with dengue at the district level for 2015 to 2021."
   ]
  },
  {
   "cell_type": "code",
   "execution_count": null,
   "id": "250b49a0",
   "metadata": {},
   "outputs": [],
   "source": [
    "# Read the content of the file in binary mode ('rb')\n",
    "with open('../../_data/data_dengue_peru.csv', 'rb') as f:\n",
    "    data = f.read()\n",
    "    \n",
    "# Detect the encoding of the file\n",
    "detected_encoding = chardet.detect(data)['encoding']\n",
    "\n",
    "# Assign the detected encoding to a variable\n",
    "charenc = detected_encoding\n",
    "\n",
    "# Print the detected encoding\n",
    "print(\"La codificación detectada es:\", charenc)"
   ]
  },
  {
   "cell_type": "code",
   "execution_count": null,
   "id": "128e3ab7",
   "metadata": {},
   "outputs": [],
   "source": [
    "# Import csv file from panel dengue information at department, province, and district level\n",
    "dengue_data = pd.read_csv( r'../../_data/data_dengue_peru.csv', encoding = charenc,  thousands = \",\", dtype= {\"Ubigeo\":\"str\"})\n",
    "dengue_data"
   ]
  },
  {
   "cell_type": "code",
   "execution_count": null,
   "id": "95343f40",
   "metadata": {},
   "outputs": [],
   "source": []
  }
 ],
 "metadata": {
  "kernelspec": {
   "display_name": "Python 3 (ipykernel)",
   "language": "python",
   "name": "python3"
  },
  "language_info": {
   "codemirror_mode": {
    "name": "ipython",
    "version": 3
   },
   "file_extension": ".py",
   "mimetype": "text/x-python",
   "name": "python",
   "nbconvert_exporter": "python",
   "pygments_lexer": "ipython3",
   "version": "3.9.7"
  }
 },
 "nbformat": 4,
 "nbformat_minor": 5
}
