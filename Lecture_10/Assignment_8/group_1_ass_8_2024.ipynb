{
 "cells": [
  {
   "cell_type": "code",
   "execution_count": null,
   "id": "10b9d7f6",
   "metadata": {},
   "outputs": [],
   "source": [
    "import pandas as pd\n",
    "import numpy as np\n",
    "import geopandas as gpd\n",
    "from geopandas import GeoSeries\n",
    "from shapely.geometry import Point, LineString"
   ]
  },
  {
   "cell_type": "markdown",
   "id": "5714b7b5",
   "metadata": {},
   "source": [
    "1. Import the data located at this link. It has information on people infected with dengue at the district level for 2015 to 2021."
   ]
  },
  {
   "cell_type": "code",
   "execution_count": null,
   "id": "ab8d0d69",
   "metadata": {},
   "outputs": [],
   "source": [
    "base_dengue = pd.read_csv(r'../../_data/data_dengue_peru.csv',thousands=',', na_values=['NaN', 'nan'], dtype={'Casos': 'float'})"
   ]
  },
  {
   "cell_type": "markdown",
   "id": "8c7630e2",
   "metadata": {},
   "source": [
    "2. Generate ubigeo for Departments and Provinces taking the first two and four numbers. Hint: Use this code."
   ]
  },
  {
   "cell_type": "code",
   "execution_count": null,
   "id": "3ca29162",
   "metadata": {},
   "outputs": [],
   "source": [
    "# Create 'Ubigeo_Departamento', 'Ubigeo_Provincia' and rename 'Ubigeo' to 'Ubigeo_Distrito'\n",
    "base_dengue['Ubigeo_Departamento'] = base_dengue['Ubigeo'].astype(str).str[:2]\n",
    "base_dengue['Ubigeo_Provincia'] = base_dengue['Ubigeo'].astype(str).str[:4]\n",
    "base_dengue = base_dengue.rename(columns={'Ubigeo':'Ubigeo_Distrito'})"
   ]
  },
  {
   "cell_type": "code",
   "execution_count": null,
   "id": "9a8e5168",
   "metadata": {},
   "outputs": [],
   "source": [
    "# Create data frames 'base_Distrito', 'base_Provincia', and 'base_Departamento' to facilitate the creation of the next plots\n",
    "\n",
    "# Define the levels we are going to group the columns 'Casos'\n",
    "nivel = ['Distrito', 'Provincia', 'Departamento']\n",
    "# Dictionary to store the results\n",
    "datas = {}\n",
    "# Loop to create the data frames\n",
    "for nivel in nivel:\n",
    "    columna_ubigeo = f'Ubigeo_{nivel}'\n",
    "    datas[nivel] = base_dengue.groupby([columna_ubigeo, 'Año', nivel ])['Casos'].sum(min_count=0).reset_index()\n",
    "    \n",
    "    exec(f\"base_{nivel} = datas['{nivel}']\")"
   ]
  },
  {
   "cell_type": "code",
   "execution_count": null,
   "id": "a1061972",
   "metadata": {},
   "outputs": [],
   "source": [
    "base_Distrito"
   ]
  },
  {
   "cell_type": "code",
   "execution_count": null,
   "id": "07d1243d",
   "metadata": {},
   "outputs": [],
   "source": [
    "# Get geometry information\n",
    "maps = gpd.read_file(r'../../_data/shape_file/DISTRITOS.shp')"
   ]
  },
  {
   "cell_type": "code",
   "execution_count": null,
   "id": "e29feb17",
   "metadata": {},
   "outputs": [],
   "source": [
    "# Keeps geometry information for 'Distrito'\n",
    "maps_DIST = maps[['IDDIST', 'geometry']]\n",
    "maps_DIST = maps_DIST.rename({'IDDIST':'Ubigeo_Distrito'}, axis =1 )\n",
    "maps_DIST['Ubigeo_Distrito'] = maps_DIST['Ubigeo_Distrito'].astype(str)\n",
    "\n",
    "# Keeps geometry information for 'Provincia'\n",
    "maps_PROV = maps[['IDPROV', 'geometry']]\n",
    "maps_PROV = maps_PROV.rename({'IDPROV':'Ubigeo_Provincia'}, axis =1 )\n",
    "maps_PROV['Ubigeo_Provincia'] = maps_PROV['Ubigeo_Provincia'].astype(str)\n",
    "\n",
    "# Keeps geometry information for 'Departamento'\n",
    "maps_DEP = maps[['IDDPTO', 'geometry']]\n",
    "maps_DEP = maps_DEP.rename({'IDDPTO':'Ubigeo_Departamento'}, axis =1 )\n",
    "maps_DEP['Ubigeo_Departamento'] = maps_DEP['Ubigeo_Departamento'].astype(str)"
   ]
  },
  {
   "cell_type": "markdown",
   "id": "6c7e003a",
   "metadata": {},
   "source": [
    "3. Use geopandas to plot the number of cases in 2021 by the district using a continuous legend. Do not forget to indicate the color of NA values. Use this shapefile."
   ]
  },
  {
   "cell_type": "code",
   "execution_count": null,
   "id": "45ec5dbe",
   "metadata": {},
   "outputs": [],
   "source": [
    "#Usamos la base filtrando el año 2021 y la renombramos\n",
    "\n",
    "base_Distrito_2021 = base_Distrito[base_Distrito[\"Año\"] == 2021]"
   ]
  },
  {
   "cell_type": "code",
   "execution_count": null,
   "id": "6e34df96",
   "metadata": {
    "scrolled": true
   },
   "outputs": [],
   "source": [
    "#Checamos que los valores en las columnas Ubigeo_Distrito son únicas para ambas bases\n",
    "\n",
    "maps_DIST.Ubigeo_Distrito.is_unique\n",
    "base_Distrito_2021.Ubigeo_Distrito.is_unique"
   ]
  },
  {
   "cell_type": "code",
   "execution_count": null,
   "id": "7a3d4b9e",
   "metadata": {
    "scrolled": true
   },
   "outputs": [],
   "source": [
    "#Checamos que tipos de datos son los valores en ambas bases, con énfasis en Ubigeo_Distrito para hacer el merge\n",
    "\n",
    "maps_DIST.dtypes\n",
    "base_Distrito_2021.dtypes"
   ]
  },
  {
   "cell_type": "code",
   "execution_count": null,
   "id": "38ce8fb0",
   "metadata": {},
   "outputs": [],
   "source": [
    "#Convertimos los valores de la columna Ubigeo_Distrito en la base_Distrito_2021 a string\n",
    "\n",
    "base_Distrito_2021.loc[:, 'Ubigeo_Distrito'] = base_Distrito_2021['Ubigeo_Distrito'].astype(str)"
   ]
  },
  {
   "cell_type": "code",
   "execution_count": null,
   "id": "603ea155",
   "metadata": {
    "scrolled": true
   },
   "outputs": [],
   "source": [
    "#Relizamos el merge, dejando todas las observaciones de la base maps_DIST, lo que nos genera valores NaN.\n",
    "\n",
    "dataset = pd.merge(maps_DIST, base_Distrito_2021, how = \"left\", on = \"Ubigeo_Distrito\" )"
   ]
  },
  {
   "cell_type": "code",
   "execution_count": null,
   "id": "aafaf7da",
   "metadata": {},
   "outputs": [],
   "source": [
    "#Para poder observar los distintos valores únicos en la columna Casos se realiza una tabla de frecuencias\n",
    "\n",
    "tabla_frecuencias_casos = dataset['Casos'].value_counts().reset_index()\n",
    "tabla_frecuencias_casos.columns = ['Número de Casos', 'Frecuencia']\n",
    "tabla_frecuencias_casos = tabla_frecuencias_casos.sort_values(by='Número de Casos')\n",
    "\n",
    "tabla_frecuencias_casos"
   ]
  },
  {
   "cell_type": "code",
   "execution_count": null,
   "id": "c1658b99",
   "metadata": {
    "scrolled": true
   },
   "outputs": [],
   "source": [
    "!pip install --upgrade mapclassify"
   ]
  },
  {
   "cell_type": "code",
   "execution_count": null,
   "id": "9dd96f04",
   "metadata": {},
   "outputs": [],
   "source": [
    "#Se hace el mapeo considerando un colo diferente para los valores NaN\n",
    "\n",
    "import matplotlib.pyplot as plt\n",
    "\n",
    "fig, ax = plt.subplots(figsize=(20, 20))\n",
    "dataset.plot(ax = ax, \n",
    "        column='Casos', \n",
    "         cmap= 'Reds', \n",
    "         figsize=(20, 20), \n",
    "         linestyle='--',\n",
    "         edgecolor='black', \n",
    "         legend = True,  \n",
    "         scheme = \"User_Defined\", \n",
    "         missing_kwds= dict(color = \"#DADADB\",), \n",
    "         classification_kwds = dict( bins = [ 100, 200, 300, 400, 500, 1000, 1500, 2000,  2500, 3000 ] ), \n",
    "         legend_kwds=dict(  loc='upper left',\n",
    "                            bbox_to_anchor=(1.01, 1),\n",
    "                            fontsize='x-large',\n",
    "                            title= \"Número de casos por Distrito\", \n",
    "                            title_fontsize = 'x-large', \n",
    "                            frameon= False )\n",
    "            )"
   ]
  }
 ],
 "metadata": {
  "kernelspec": {
   "display_name": "Python 3 (ipykernel)",
   "language": "python",
   "name": "python3"
  },
  "language_info": {
   "codemirror_mode": {
    "name": "ipython",
    "version": 3
   },
   "file_extension": ".py",
   "mimetype": "text/x-python",
   "name": "python",
   "nbconvert_exporter": "python",
   "pygments_lexer": "ipython3",
   "version": "3.11.5"
  }
 },
 "nbformat": 4,
 "nbformat_minor": 5
}
