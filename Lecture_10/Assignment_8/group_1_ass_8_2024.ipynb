{
 "cells": [
  {
   "cell_type": "code",
   "execution_count": 1,
   "id": "10b9d7f6",
   "metadata": {},
   "outputs": [],
   "source": [
    "import pandas as pd\n",
    "import numpy as np\n",
    "import geopandas as gpd\n",
    "from geopandas import GeoSeries\n",
    "from shapely.geometry import Point, LineString"
   ]
  },
  {
   "cell_type": "markdown",
   "id": "5714b7b5",
   "metadata": {},
   "source": [
    "1. Import the data located at this link. It has information on people infected with dengue at the district level for 2015 to 2021."
   ]
  },
  {
   "cell_type": "code",
   "execution_count": 2,
   "id": "ab8d0d69",
   "metadata": {},
   "outputs": [],
   "source": [
    "base_dengue = pd.read_csv(r'../../_data/data_dengue_peru.csv',thousands=',', na_values=['NaN', 'nan'], dtype={'Casos': 'float'})"
   ]
  },
  {
   "cell_type": "markdown",
   "id": "8c7630e2",
   "metadata": {},
   "source": [
    "2. Generate ubigeo for Departments and Provinces taking the first two and four numbers. Hint: Use this code."
   ]
  },
  {
   "cell_type": "code",
   "execution_count": 3,
   "id": "3ca29162",
   "metadata": {},
   "outputs": [],
   "source": [
    "# Create 'Ubigeo_Departamento', 'Ubigeo_Provincia' and rename 'Ubigeo' to 'Ubigeo_Distrito'\n",
    "base_dengue['Ubigeo_Departamento'] = base_dengue['Ubigeo'].astype(str).str[:2]\n",
    "base_dengue['Ubigeo_Provincia'] = base_dengue['Ubigeo'].astype(str).str[:4]\n",
    "base_dengue = base_dengue.rename(columns={'Ubigeo':'Ubigeo_Distrito'})"
   ]
  },
  {
   "cell_type": "code",
   "execution_count": 4,
   "id": "9a8e5168",
   "metadata": {},
   "outputs": [],
   "source": [
    "# Create data frames 'base_Distrito', 'base_Provincia', and 'base_Departamento' to facilitate the creation of the next plots\n",
    "\n",
    "# Define the levels we are going to group the columns 'Casos'\n",
    "nivel = ['Distrito', 'Provincia', 'Departamento']\n",
    "# Dictionary to store the results\n",
    "datas = {}\n",
    "# Loop to create the data frames\n",
    "for nivel in nivel:\n",
    "    columna_ubigeo = f'Ubigeo_{nivel}'\n",
    "    datas[nivel] = base_dengue.groupby([columna_ubigeo, 'Año', nivel ])['Casos'].sum(min_count=0).reset_index()\n",
    "    \n",
    "    exec(f\"base_{nivel} = datas['{nivel}']\")"
   ]
  },
  {
   "cell_type": "code",
   "execution_count": 6,
   "id": "07d1243d",
   "metadata": {},
   "outputs": [],
   "source": [
    "# Get geometry information\n",
    "maps = gpd.read_file(r'../../_data/shape_file/DISTRITOS.shp')"
   ]
  },
  {
   "cell_type": "code",
   "execution_count": 11,
   "id": "e29feb17",
   "metadata": {},
   "outputs": [],
   "source": [
    "# Keeps geometry information for 'Distrito'\n",
    "maps_DIST = maps[['IDDIST', 'geometry']]\n",
    "maps_DIST = maps_DIST.rename({'IDDIST':'Ubigeo_Distrito'}, axis =1 )\n",
    "maps_DIST['Ubigeo_Distrito'] = maps_DIST['Ubigeo_Distrito'].astype(str)\n",
    "\n",
    "# Keeps geometry information for 'Provincia'\n",
    "maps_PROV = maps[['IDPROV', 'geometry']]\n",
    "maps_PROV = maps_PROV.rename({'IDPROV':'Ubigeo_Provincia'}, axis =1 )\n",
    "maps_PROV['Ubigeo_Provincia'] = maps_PROV['Ubigeo_Provincia'].astype(str)\n",
    "\n",
    "# Keeps geometry information for 'Departamento'\n",
    "maps_DEP = maps[['IDDPTO', 'geometry']]\n",
    "maps_DEP = maps_DEP.rename({'IDDPTO':'Ubigeo_Departamento'}, axis =1 )\n",
    "maps_DEP['Ubigeo_Departamento'] = maps_DEP['Ubigeo_Departamento'].astype(str)"
   ]
  },
  {
   "cell_type": "markdown",
   "id": "6c7e003a",
   "metadata": {},
   "source": [
    "3. Use geopandas to plot the number of cases in 2021 by the district using a continuous legend. Do not forget to indicate the color of NA values. Use this shapefile."
   ]
  },
  {
   "cell_type": "code",
   "execution_count": null,
   "id": "603ea155",
   "metadata": {},
   "outputs": [],
   "source": []
  }
 ],
 "metadata": {
  "kernelspec": {
   "display_name": "Python 3 (ipykernel)",
   "language": "python",
   "name": "python3"
  },
  "language_info": {
   "codemirror_mode": {
    "name": "ipython",
    "version": 3
   },
   "file_extension": ".py",
   "mimetype": "text/x-python",
   "name": "python",
   "nbconvert_exporter": "python",
   "pygments_lexer": "ipython3",
   "version": "3.11.5"
  }
 },
 "nbformat": 4,
 "nbformat_minor": 5
}
